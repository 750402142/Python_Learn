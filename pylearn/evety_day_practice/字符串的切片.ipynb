{
 "cells": [
  {
   "cell_type": "code",
   "id": "initial_id",
   "metadata": {
    "collapsed": true,
    "ExecuteTime": {
     "end_time": "2024-09-27T01:28:55.555333Z",
     "start_time": "2024-09-27T01:28:55.547457Z"
    }
   },
   "source": [
    "from setuptools.command.egg_info import manifest_maker\n",
    "\n",
    "\n",
    "#while代表的是一种循环,前面是多个代码同样可以使用\n",
    "def trim(s):\n",
    "    while len(s)>0 and s[0]==' ':\n",
    "        s=s[1:]\n",
    "\n",
    "    while len(s)>0 and s[-1]==' ':\n",
    "        s=s[:-1]\n",
    "\n",
    "    return s\n",
    "\n",
    "# 测试:\n",
    "if trim('hello  ') != 'hello':\n",
    "    print('测试失败!')\n",
    "elif trim('  hello') != 'hello':\n",
    "    print('测试失败!')\n",
    "elif trim('  hello  ') != 'hello':\n",
    "    print('测试失败!')\n",
    "elif trim('  hello  world  ') != 'hello  world':\n",
    "    print('测试失败!')\n",
    "elif trim('') != '':\n",
    "    print('测试失败!')\n",
    "elif trim('    ') != '':\n",
    "    print('测试失败!')\n",
    "else:\n",
    "    print('测试成功!')"
   ],
   "outputs": [
    {
     "name": "stdout",
     "output_type": "stream",
     "text": [
      "测试成功!\n"
     ]
    }
   ],
   "execution_count": 5
  },
  {
   "metadata": {
    "ExecuteTime": {
     "end_time": "2024-09-28T06:32:37.927895Z",
     "start_time": "2024-09-28T06:32:37.922811Z"
    }
   },
   "cell_type": "code",
   "source": [
    "def findMinAndMax(L):\n",
    "    min = 0\n",
    "    max = 0\n",
    "    if len(L)==0:\n",
    "        min = None\n",
    "        max = None\n",
    "        return (min,max)\n",
    "    elif len(L)==1:\n",
    "        min = L[0]\n",
    "        max = L[0]\n",
    "        return (min,max)\n",
    "    else:\n",
    "        for i in range(len(L)):\n",
    "            if L[i]<L[i-1]:\n",
    "                a = L[i-1]\n",
    "                L[i-1] = L[i]\n",
    "                L[i] = a\n",
    "        min = L[0]\n",
    "        max = L[len(L)-1]\n",
    "        return (min,max)   \n",
    "print(findMinAndMax([7, 1, 3, 9, 5]))\n",
    "#测试\n",
    "if findMinAndMax([]) != (None, None):\n",
    "    print('测试失败!')\n",
    "elif findMinAndMax([7]) != (7, 7):\n",
    "    print('测试失败!')\n",
    "elif findMinAndMax([7,1]) != (1, 7):\n",
    "    print('测试失败!')\n",
    "    print(findMinAndMax([7,1]))\n",
    "elif findMinAndMax([7, 1, 3, 9, 5]) != (1, 9):\n",
    "    print('测试失败!')\n",
    "    print(findMinAndMax([7, 1, 3, 9, 5]))\n",
    "else:\n",
    "    print('测试成功!')"
   ],
   "id": "1737e85789186392",
   "outputs": [
    {
     "name": "stdout",
     "output_type": "stream",
     "text": [
      "(1, 9)\n",
      "测试成功!\n"
     ]
    }
   ],
   "execution_count": 19
  },
  {
   "metadata": {},
   "cell_type": "code",
   "outputs": [],
   "execution_count": null,
   "source": "",
   "id": "68b813d222ddfc7e"
  }
 ],
 "metadata": {
  "kernelspec": {
   "display_name": "Python 3",
   "language": "python",
   "name": "python3"
  },
  "language_info": {
   "codemirror_mode": {
    "name": "ipython",
    "version": 2
   },
   "file_extension": ".py",
   "mimetype": "text/x-python",
   "name": "python",
   "nbconvert_exporter": "python",
   "pygments_lexer": "ipython2",
   "version": "2.7.6"
  }
 },
 "nbformat": 4,
 "nbformat_minor": 5
}
