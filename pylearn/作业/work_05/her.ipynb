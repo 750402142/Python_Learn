{
 "cells": [
  {
   "metadata": {
    "ExecuteTime": {
     "end_time": "2024-10-21T01:07:39.381808Z",
     "start_time": "2024-10-21T01:07:39.366667Z"
    }
   },
   "cell_type": "code",
   "source": "import pandas as pd",
   "id": "c7c66c2b445dc9a9",
   "outputs": [],
   "execution_count": 1
  },
  {
   "metadata": {
    "collapsed": true,
    "ExecuteTime": {
     "end_time": "2024-10-21T01:08:54.187158Z",
     "start_time": "2024-10-21T01:08:53.782111Z"
    }
   },
   "cell_type": "code",
   "source": [
    "data = pd.read_excel('./中国大学数据/全国高校名单及详细指标.xls')\n",
    "dt1 = pd.read_csv('./中国大学数据/bcur_2015.csv',encoding='utf-8')\n",
    "dt1[\"年份\"] = 2015\n",
    "dt2 = pd.read_csv('./中国大学数据/bcur_2016.csv',encoding='utf-8')\n",
    "dt2[\"年份\"] = 2016\n",
    "dt3 = pd.read_csv('./中国大学数据/bcur_2017.csv',encoding='utf-8')\n",
    "dt3[\"年份\"] = 2017\n",
    "dt4 = pd.read_csv('./中国大学数据/bcur_2018.csv',encoding='utf-8')\n",
    "dt4[\"年份\"] = 2018\n",
    "dt5 = pd.read_csv('./中国大学数据/bcur_2019.csv',encoding='utf-8')\n",
    "dt5[\"年份\"] = 2019\n",
    "dt6 = pd.read_csv('./中国大学数据/bcur_2020.csv',encoding='utf-8')\n",
    "dt6[\"年份\"] = 2020\n",
    "dt7 = pd.read_csv('./中国大学数据/bcur_2021.csv',encoding='utf-8')\n",
    "dt7[\"年份\"] = 2021\n",
    "dt8 = pd.read_csv('./中国大学数据/bcur_2022.csv',encoding='utf-8')\n",
    "dt8[\"年份\"] = 2022\n",
    "dt9 = pd.read_excel('./中国大学数据/中国大学综合排名2023.xlsx')\n",
    "dt9[\"年份\"] = 2023\n",
    "dt10 = pd.read_csv('./中国大学数据/中国大学综合排名2024.csv',encoding='utf-8')\n",
    "dt10[\"年份\"] = 2024"
   ],
   "id": "initial_id",
   "outputs": [],
   "execution_count": 3
  },
  {
   "metadata": {
    "ExecuteTime": {
     "end_time": "2024-10-21T01:10:27.636907Z",
     "start_time": "2024-10-21T01:10:27.626721Z"
    }
   },
   "cell_type": "code",
   "source": "columns = ['年份', '排名', '学校名称', '英文名称', '层次', '类型', '地区', '评分']",
   "id": "ecf7bfa640bfb712",
   "outputs": [],
   "execution_count": 4
  },
  {
   "metadata": {
    "ExecuteTime": {
     "end_time": "2024-10-21T01:10:54.504690Z",
     "start_time": "2024-10-21T01:10:54.485044Z"
    }
   },
   "cell_type": "code",
   "source": [
    "dt9_new = dt9[[\"年份\",'排名','学校名称','英文名称','层次','类型','地区','评分']]\n",
    "dt10_new = dt10[['年份','排名','中文名','英文名','标签','地址','行业','分数']]\n",
    "dt10_new.columns = dt9_new.columns = columns"
   ],
   "id": "86cef5ea77af83f",
   "outputs": [],
   "execution_count": 5
  },
  {
   "metadata": {
    "ExecuteTime": {
     "end_time": "2024-10-21T01:12:43.757649Z",
     "start_time": "2024-10-21T01:12:43.749895Z"
    }
   },
   "cell_type": "code",
   "source": [
    "# 合并数据\n",
    "new_data1=pd.concat([dt1,dt2,dt3,dt4,dt5,dt6,dt7,dt8],ignore_index=True)\n",
    "new_data11 = new_data1[['年份','ranking','univNameCn','univNameEn','univTags',  'univCategory','province','score']]"
   ],
   "id": "10157ba93156e0ae",
   "outputs": [],
   "execution_count": 8
  },
  {
   "metadata": {
    "ExecuteTime": {
     "end_time": "2024-10-21T01:12:51.615060Z",
     "start_time": "2024-10-21T01:12:51.611846Z"
    }
   },
   "cell_type": "code",
   "source": "new_data11.columns = columns",
   "id": "6c9be7663cdf2d2d",
   "outputs": [],
   "execution_count": 9
  },
  {
   "metadata": {
    "ExecuteTime": {
     "end_time": "2024-10-21T01:13:36.784593Z",
     "start_time": "2024-10-21T01:13:36.770996Z"
    }
   },
   "cell_type": "code",
   "source": "new_data = pd.concat([new_data11,dt9_new,dt10_new],ignore_index=True)",
   "id": "2933ff942ad655a2",
   "outputs": [],
   "execution_count": 10
  },
  {
   "metadata": {
    "ExecuteTime": {
     "end_time": "2024-10-21T01:13:56.046522Z",
     "start_time": "2024-10-21T01:13:56.037417Z"
    }
   },
   "cell_type": "code",
   "source": "new_data.shape[0]",
   "id": "867d62411d1bb0a1",
   "outputs": [
    {
     "data": {
      "text/plain": [
       "5075"
      ]
     },
     "execution_count": 12,
     "metadata": {},
     "output_type": "execute_result"
    }
   ],
   "execution_count": 12
  },
  {
   "metadata": {
    "ExecuteTime": {
     "end_time": "2024-10-21T02:18:42.890742Z",
     "start_time": "2024-10-21T02:18:42.839067Z"
    }
   },
   "cell_type": "code",
   "source": "data = data.drop_duplicates(subset=['学校名称'])",
   "id": "ed4b29ed5208f9f8",
   "outputs": [],
   "execution_count": 18
  },
  {
   "metadata": {
    "ExecuteTime": {
     "end_time": "2024-10-21T01:15:09.704776Z",
     "start_time": "2024-10-21T01:15:09.686885Z"
    }
   },
   "cell_type": "code",
   "source": [
    "data = data[['院校名称','建校时间','隶属于','硕士点','重点实验室','院校类型','办学类型','办学性质','占地面积']]\n",
    "data.columns = ['学校名称','建校时间','隶属于','硕士点','重点实验室','院校类型','办学类型','办学性质','占地面积']"
   ],
   "id": "f7aa7e717c887b12",
   "outputs": [],
   "execution_count": 14
  },
  {
   "metadata": {
    "ExecuteTime": {
     "end_time": "2024-10-21T02:18:45.935704Z",
     "start_time": "2024-10-21T02:18:45.919217Z"
    }
   },
   "cell_type": "code",
   "source": "all_school = pd.merge(new_data,data,how='left',on = '学校名称')",
   "id": "61497383844213e0",
   "outputs": [],
   "execution_count": 19
  },
  {
   "metadata": {},
   "cell_type": "code",
   "outputs": [],
   "execution_count": null,
   "source": "",
   "id": "68df2aee51419a42"
  },
  {
   "metadata": {
    "ExecuteTime": {
     "end_time": "2024-10-21T02:19:01.282945Z",
     "start_time": "2024-10-21T02:19:01.273939Z"
    }
   },
   "cell_type": "code",
   "source": "all_school.shape[0]",
   "id": "6aad4300652f4d7",
   "outputs": [
    {
     "data": {
      "text/plain": [
       "5075"
      ]
     },
     "execution_count": 21,
     "metadata": {},
     "output_type": "execute_result"
    }
   ],
   "execution_count": 21
  },
  {
   "metadata": {},
   "cell_type": "code",
   "outputs": [],
   "execution_count": null,
   "source": "",
   "id": "f4cdfd0b18e1d020"
  }
 ],
 "metadata": {
  "kernelspec": {
   "display_name": "Python 3",
   "language": "python",
   "name": "python3"
  },
  "language_info": {
   "codemirror_mode": {
    "name": "ipython",
    "version": 2
   },
   "file_extension": ".py",
   "mimetype": "text/x-python",
   "name": "python",
   "nbconvert_exporter": "python",
   "pygments_lexer": "ipython2",
   "version": "2.7.6"
  }
 },
 "nbformat": 4,
 "nbformat_minor": 5
}
