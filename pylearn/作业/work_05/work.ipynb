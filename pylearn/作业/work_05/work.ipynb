{
 "cells": [
  {
   "metadata": {},
   "cell_type": "raw",
   "source": "# 任务目标",
   "id": "1a2696d2b1c466da"
  },
  {
   "metadata": {
    "collapsed": true,
    "ExecuteTime": {
     "end_time": "2024-10-21T11:31:40.909893Z",
     "start_time": "2024-10-21T11:31:40.737492Z"
    }
   },
   "cell_type": "code",
   "source": [
    "from idlelib.iomenu import encoding\n",
    "from itertools import groupby\n",
    "\n",
    "import pandas as pd\n",
    "from scipy.fft import set_global_backend\n",
    "from sqlalchemy.dialects.mssql.information_schema import columns"
   ],
   "id": "initial_id",
   "outputs": [],
   "execution_count": 2
  },
  {
   "metadata": {
    "ExecuteTime": {
     "end_time": "2024-10-21T11:31:41.998359Z",
     "start_time": "2024-10-21T11:31:41.791724Z"
    }
   },
   "cell_type": "code",
   "source": [
    "##转换文件的编码格式 方便后期遍历阅读\n",
    "dp_1 = pd.read_csv('./中国大学数据/bcur_2020.csv',encoding='gbk')\n",
    "dp_1.to_csv('./中国大学数据/bcur_2020.csv',encoding = 'utf-8',index=False)"
   ],
   "id": "407f1d15e0d36ec2",
   "outputs": [
    {
     "ename": "UnicodeDecodeError",
     "evalue": "'gbk' codec can't decode byte 0xad in position 78: illegal multibyte sequence",
     "output_type": "error",
     "traceback": [
      "\u001B[1;31m---------------------------------------------------------------------------\u001B[0m",
      "\u001B[1;31mUnicodeDecodeError\u001B[0m                        Traceback (most recent call last)",
      "Cell \u001B[1;32mIn[3], line 2\u001B[0m\n\u001B[0;32m      1\u001B[0m \u001B[38;5;66;03m##转换文件的编码格式 方便后期遍历阅读\u001B[39;00m\n\u001B[1;32m----> 2\u001B[0m dp_1 \u001B[38;5;241m=\u001B[39m \u001B[43mpd\u001B[49m\u001B[38;5;241;43m.\u001B[39;49m\u001B[43mread_csv\u001B[49m\u001B[43m(\u001B[49m\u001B[38;5;124;43m'\u001B[39;49m\u001B[38;5;124;43m./中国大学数据/bcur_2020.csv\u001B[39;49m\u001B[38;5;124;43m'\u001B[39;49m\u001B[43m,\u001B[49m\u001B[43mencoding\u001B[49m\u001B[38;5;241;43m=\u001B[39;49m\u001B[38;5;124;43m'\u001B[39;49m\u001B[38;5;124;43mgbk\u001B[39;49m\u001B[38;5;124;43m'\u001B[39;49m\u001B[43m)\u001B[49m\n\u001B[0;32m      3\u001B[0m dp_1\u001B[38;5;241m.\u001B[39mto_csv(\u001B[38;5;124m'\u001B[39m\u001B[38;5;124m./中国大学数据/bcur_2020.csv\u001B[39m\u001B[38;5;124m'\u001B[39m,encoding \u001B[38;5;241m=\u001B[39m \u001B[38;5;124m'\u001B[39m\u001B[38;5;124mutf-8\u001B[39m\u001B[38;5;124m'\u001B[39m,index\u001B[38;5;241m=\u001B[39m\u001B[38;5;28;01mFalse\u001B[39;00m)\n",
      "File \u001B[1;32mD:\\Develop\\python\\python310\\lib\\site-packages\\pandas\\io\\parsers\\readers.py:1026\u001B[0m, in \u001B[0;36mread_csv\u001B[1;34m(filepath_or_buffer, sep, delimiter, header, names, index_col, usecols, dtype, engine, converters, true_values, false_values, skipinitialspace, skiprows, skipfooter, nrows, na_values, keep_default_na, na_filter, verbose, skip_blank_lines, parse_dates, infer_datetime_format, keep_date_col, date_parser, date_format, dayfirst, cache_dates, iterator, chunksize, compression, thousands, decimal, lineterminator, quotechar, quoting, doublequote, escapechar, comment, encoding, encoding_errors, dialect, on_bad_lines, delim_whitespace, low_memory, memory_map, float_precision, storage_options, dtype_backend)\u001B[0m\n\u001B[0;32m   1013\u001B[0m kwds_defaults \u001B[38;5;241m=\u001B[39m _refine_defaults_read(\n\u001B[0;32m   1014\u001B[0m     dialect,\n\u001B[0;32m   1015\u001B[0m     delimiter,\n\u001B[1;32m   (...)\u001B[0m\n\u001B[0;32m   1022\u001B[0m     dtype_backend\u001B[38;5;241m=\u001B[39mdtype_backend,\n\u001B[0;32m   1023\u001B[0m )\n\u001B[0;32m   1024\u001B[0m kwds\u001B[38;5;241m.\u001B[39mupdate(kwds_defaults)\n\u001B[1;32m-> 1026\u001B[0m \u001B[38;5;28;01mreturn\u001B[39;00m \u001B[43m_read\u001B[49m\u001B[43m(\u001B[49m\u001B[43mfilepath_or_buffer\u001B[49m\u001B[43m,\u001B[49m\u001B[43m \u001B[49m\u001B[43mkwds\u001B[49m\u001B[43m)\u001B[49m\n",
      "File \u001B[1;32mD:\\Develop\\python\\python310\\lib\\site-packages\\pandas\\io\\parsers\\readers.py:620\u001B[0m, in \u001B[0;36m_read\u001B[1;34m(filepath_or_buffer, kwds)\u001B[0m\n\u001B[0;32m    617\u001B[0m _validate_names(kwds\u001B[38;5;241m.\u001B[39mget(\u001B[38;5;124m\"\u001B[39m\u001B[38;5;124mnames\u001B[39m\u001B[38;5;124m\"\u001B[39m, \u001B[38;5;28;01mNone\u001B[39;00m))\n\u001B[0;32m    619\u001B[0m \u001B[38;5;66;03m# Create the parser.\u001B[39;00m\n\u001B[1;32m--> 620\u001B[0m parser \u001B[38;5;241m=\u001B[39m TextFileReader(filepath_or_buffer, \u001B[38;5;241m*\u001B[39m\u001B[38;5;241m*\u001B[39mkwds)\n\u001B[0;32m    622\u001B[0m \u001B[38;5;28;01mif\u001B[39;00m chunksize \u001B[38;5;129;01mor\u001B[39;00m iterator:\n\u001B[0;32m    623\u001B[0m     \u001B[38;5;28;01mreturn\u001B[39;00m parser\n",
      "File \u001B[1;32mD:\\Develop\\python\\python310\\lib\\site-packages\\pandas\\io\\parsers\\readers.py:1620\u001B[0m, in \u001B[0;36mTextFileReader.__init__\u001B[1;34m(self, f, engine, **kwds)\u001B[0m\n\u001B[0;32m   1617\u001B[0m     \u001B[38;5;28mself\u001B[39m\u001B[38;5;241m.\u001B[39moptions[\u001B[38;5;124m\"\u001B[39m\u001B[38;5;124mhas_index_names\u001B[39m\u001B[38;5;124m\"\u001B[39m] \u001B[38;5;241m=\u001B[39m kwds[\u001B[38;5;124m\"\u001B[39m\u001B[38;5;124mhas_index_names\u001B[39m\u001B[38;5;124m\"\u001B[39m]\n\u001B[0;32m   1619\u001B[0m \u001B[38;5;28mself\u001B[39m\u001B[38;5;241m.\u001B[39mhandles: IOHandles \u001B[38;5;241m|\u001B[39m \u001B[38;5;28;01mNone\u001B[39;00m \u001B[38;5;241m=\u001B[39m \u001B[38;5;28;01mNone\u001B[39;00m\n\u001B[1;32m-> 1620\u001B[0m \u001B[38;5;28mself\u001B[39m\u001B[38;5;241m.\u001B[39m_engine \u001B[38;5;241m=\u001B[39m \u001B[38;5;28;43mself\u001B[39;49m\u001B[38;5;241;43m.\u001B[39;49m\u001B[43m_make_engine\u001B[49m\u001B[43m(\u001B[49m\u001B[43mf\u001B[49m\u001B[43m,\u001B[49m\u001B[43m \u001B[49m\u001B[38;5;28;43mself\u001B[39;49m\u001B[38;5;241;43m.\u001B[39;49m\u001B[43mengine\u001B[49m\u001B[43m)\u001B[49m\n",
      "File \u001B[1;32mD:\\Develop\\python\\python310\\lib\\site-packages\\pandas\\io\\parsers\\readers.py:1898\u001B[0m, in \u001B[0;36mTextFileReader._make_engine\u001B[1;34m(self, f, engine)\u001B[0m\n\u001B[0;32m   1895\u001B[0m     \u001B[38;5;28;01mraise\u001B[39;00m \u001B[38;5;167;01mValueError\u001B[39;00m(msg)\n\u001B[0;32m   1897\u001B[0m \u001B[38;5;28;01mtry\u001B[39;00m:\n\u001B[1;32m-> 1898\u001B[0m     \u001B[38;5;28;01mreturn\u001B[39;00m mapping[engine](f, \u001B[38;5;241m*\u001B[39m\u001B[38;5;241m*\u001B[39m\u001B[38;5;28mself\u001B[39m\u001B[38;5;241m.\u001B[39moptions)\n\u001B[0;32m   1899\u001B[0m \u001B[38;5;28;01mexcept\u001B[39;00m \u001B[38;5;167;01mException\u001B[39;00m:\n\u001B[0;32m   1900\u001B[0m     \u001B[38;5;28;01mif\u001B[39;00m \u001B[38;5;28mself\u001B[39m\u001B[38;5;241m.\u001B[39mhandles \u001B[38;5;129;01mis\u001B[39;00m \u001B[38;5;129;01mnot\u001B[39;00m \u001B[38;5;28;01mNone\u001B[39;00m:\n",
      "File \u001B[1;32mD:\\Develop\\python\\python310\\lib\\site-packages\\pandas\\io\\parsers\\c_parser_wrapper.py:93\u001B[0m, in \u001B[0;36mCParserWrapper.__init__\u001B[1;34m(self, src, **kwds)\u001B[0m\n\u001B[0;32m     90\u001B[0m \u001B[38;5;28;01mif\u001B[39;00m kwds[\u001B[38;5;124m\"\u001B[39m\u001B[38;5;124mdtype_backend\u001B[39m\u001B[38;5;124m\"\u001B[39m] \u001B[38;5;241m==\u001B[39m \u001B[38;5;124m\"\u001B[39m\u001B[38;5;124mpyarrow\u001B[39m\u001B[38;5;124m\"\u001B[39m:\n\u001B[0;32m     91\u001B[0m     \u001B[38;5;66;03m# Fail here loudly instead of in cython after reading\u001B[39;00m\n\u001B[0;32m     92\u001B[0m     import_optional_dependency(\u001B[38;5;124m\"\u001B[39m\u001B[38;5;124mpyarrow\u001B[39m\u001B[38;5;124m\"\u001B[39m)\n\u001B[1;32m---> 93\u001B[0m \u001B[38;5;28mself\u001B[39m\u001B[38;5;241m.\u001B[39m_reader \u001B[38;5;241m=\u001B[39m parsers\u001B[38;5;241m.\u001B[39mTextReader(src, \u001B[38;5;241m*\u001B[39m\u001B[38;5;241m*\u001B[39mkwds)\n\u001B[0;32m     95\u001B[0m \u001B[38;5;28mself\u001B[39m\u001B[38;5;241m.\u001B[39munnamed_cols \u001B[38;5;241m=\u001B[39m \u001B[38;5;28mself\u001B[39m\u001B[38;5;241m.\u001B[39m_reader\u001B[38;5;241m.\u001B[39munnamed_cols\n\u001B[0;32m     97\u001B[0m \u001B[38;5;66;03m# error: Cannot determine type of 'names'\u001B[39;00m\n",
      "File \u001B[1;32mparsers.pyx:574\u001B[0m, in \u001B[0;36mpandas._libs.parsers.TextReader.__cinit__\u001B[1;34m()\u001B[0m\n",
      "File \u001B[1;32mparsers.pyx:663\u001B[0m, in \u001B[0;36mpandas._libs.parsers.TextReader._get_header\u001B[1;34m()\u001B[0m\n",
      "File \u001B[1;32mparsers.pyx:874\u001B[0m, in \u001B[0;36mpandas._libs.parsers.TextReader._tokenize_rows\u001B[1;34m()\u001B[0m\n",
      "File \u001B[1;32mparsers.pyx:891\u001B[0m, in \u001B[0;36mpandas._libs.parsers.TextReader._check_tokenize_status\u001B[1;34m()\u001B[0m\n",
      "File \u001B[1;32mparsers.pyx:2053\u001B[0m, in \u001B[0;36mpandas._libs.parsers.raise_parser_error\u001B[1;34m()\u001B[0m\n",
      "\u001B[1;31mUnicodeDecodeError\u001B[0m: 'gbk' codec can't decode byte 0xad in position 78: illegal multibyte sequence"
     ]
    }
   ],
   "execution_count": 3
  },
  {
   "metadata": {},
   "cell_type": "markdown",
   "source": [
    "任务1. 数据分析任务-数据加载与合并(工具:Pandas)\n",
    "需求1: 读取软科中国大学排名2015年-2024年的数据,并进行合理的合并.合并之后数据集至少包含以下字段:\n",
    "[排名,学校名称,英文名称,层次,类型,地区,评分],\n",
    "需求2: 需求1合并之后的数据与全国高校名单及详细指标.xlsx进行二次合并,合并之后数据除了需求1中的字段,还需要有建校时间,隶属.硕士点,博士点,重点实验室,院校类型,办学类型,办学性质.占地面积等字段,合并之后的\n",
    "数据集名称为all_school"
   ],
   "id": "94f640da1510eed5"
  },
  {
   "metadata": {
    "ExecuteTime": {
     "end_time": "2024-10-21T11:31:45.569819Z",
     "start_time": "2024-10-21T11:31:45.565876Z"
    }
   },
   "cell_type": "code",
   "source": [
    "import os\n",
    "filenames = os.listdir('./中国大学数据/')\n",
    "names = [i for i in filenames if i.startswith('bcur_')]"
   ],
   "id": "8d1d17954e1fc584",
   "outputs": [],
   "execution_count": 4
  },
  {
   "metadata": {
    "ExecuteTime": {
     "end_time": "2024-10-21T11:31:47.264501Z",
     "start_time": "2024-10-21T11:31:47.230565Z"
    }
   },
   "cell_type": "code",
   "source": [
    "dp2 = pd.read_csv('./中国大学数据/bcur_2015.csv')\n",
    "dp2['年份'] = 2015\n",
    "year = 2016\n",
    "for i in names:\n",
    "    if i != 'bcur_2015.csv':\n",
    "        dp3 = pd.read_csv(f'./中国大学数据/{i}')\n",
    "        dp3['年份'] = year\n",
    "        dp2 = pd.concat([dp2,dp3],ignore_index=True)\n",
    "        year += 1"
   ],
   "id": "ad521d8432e1a290",
   "outputs": [],
   "execution_count": 5
  },
  {
   "metadata": {
    "ExecuteTime": {
     "end_time": "2024-10-21T11:31:48.740374Z",
     "start_time": "2024-10-21T11:31:48.490871Z"
    }
   },
   "cell_type": "code",
   "source": [
    "data1 = pd.read_excel('./中国大学数据/中国大学综合排名2023.xlsx')\n",
    "data1['年份'] = 2023\n",
    "data2 = pd.read_csv('./中国大学数据/中国大学综合排名2024.csv')\n",
    "data2['年份'] = 2024"
   ],
   "id": "11415df97ca47164",
   "outputs": [],
   "execution_count": 6
  },
  {
   "metadata": {
    "ExecuteTime": {
     "end_time": "2024-10-21T11:31:49.934544Z",
     "start_time": "2024-10-21T11:31:49.920384Z"
    }
   },
   "cell_type": "code",
   "source": [
    "data1 = data1.loc[:,['年份','排名','学校名称','英文名称','层次','类型','地区','评分']]\n",
    "data2 = data2.loc[:,['年份','排名','中文名','英文名','标签','行业','地址','分数']]"
   ],
   "id": "87b0c0fa8b4a1835",
   "outputs": [],
   "execution_count": 7
  },
  {
   "metadata": {
    "ExecuteTime": {
     "end_time": "2024-10-21T11:31:51.378389Z",
     "start_time": "2024-10-21T11:31:51.374401Z"
    }
   },
   "cell_type": "code",
   "source": "data2.columns = data1.columns",
   "id": "230cd9652eda5707",
   "outputs": [],
   "execution_count": 8
  },
  {
   "metadata": {
    "ExecuteTime": {
     "end_time": "2024-10-21T11:31:52.253402Z",
     "start_time": "2024-10-21T11:31:52.248353Z"
    }
   },
   "cell_type": "code",
   "source": "dp22 = dp2.loc[:,['年份','ranking','univNameCn','univNameEn','univTags',  'univCategory','province','score']]",
   "id": "d77b04bee87e6163",
   "outputs": [],
   "execution_count": 9
  },
  {
   "metadata": {
    "ExecuteTime": {
     "end_time": "2024-10-21T11:31:53.170365Z",
     "start_time": "2024-10-21T11:31:53.163140Z"
    }
   },
   "cell_type": "code",
   "source": "columns = ['年份', '排名', '学校名称', '英文名称', '层次', '类型', '地区', '评分']",
   "id": "8b066964c42b264c",
   "outputs": [],
   "execution_count": 10
  },
  {
   "metadata": {
    "ExecuteTime": {
     "end_time": "2024-10-21T11:31:53.948144Z",
     "start_time": "2024-10-21T11:31:53.934548Z"
    }
   },
   "cell_type": "code",
   "source": "data = pd.concat([data1,data2],ignore_index=True)",
   "id": "c2804997b8ec2d9b",
   "outputs": [],
   "execution_count": 11
  },
  {
   "metadata": {
    "ExecuteTime": {
     "end_time": "2024-10-21T11:31:55.254828Z",
     "start_time": "2024-10-21T11:31:55.245555Z"
    }
   },
   "cell_type": "code",
   "source": "data.columns = dp22.columns = columns",
   "id": "d7479fcb32b2119c",
   "outputs": [],
   "execution_count": 12
  },
  {
   "metadata": {
    "ExecuteTime": {
     "end_time": "2024-10-21T11:31:56.031534Z",
     "start_time": "2024-10-21T11:31:56.016841Z"
    }
   },
   "cell_type": "code",
   "source": "data_all = pd.concat([dp22,data],ignore_index=True)",
   "id": "40c9f2667aa381c3",
   "outputs": [],
   "execution_count": 13
  },
  {
   "metadata": {
    "ExecuteTime": {
     "end_time": "2024-10-21T08:36:21.843641Z",
     "start_time": "2024-10-21T08:36:21.831555Z"
    }
   },
   "cell_type": "code",
   "source": "data_all.head()",
   "id": "babf31af92ae1108",
   "outputs": [
    {
     "data": {
      "text/plain": [
       "     年份  排名    学校名称                           英文名称           层次  类型  地区    评分\n",
       "0  2015   1    清华大学            Tsinghua University  双一流 985 211  理工  北京  94.0\n",
       "1  2015   2    北京大学              Peking University  双一流 985 211  综合  北京  81.0\n",
       "2  2015   3    浙江大学            Zhejiang University  双一流 985 211  综合  浙江  80.0\n",
       "3  2015   4  上海交通大学  Shanghai Jiao Tong University  双一流 985 211  综合  上海  78.0\n",
       "4  2015   5    复旦大学               Fudan University  双一流 985 211  综合  上海  72.0"
      ],
      "text/html": [
       "<div>\n",
       "<style scoped>\n",
       "    .dataframe tbody tr th:only-of-type {\n",
       "        vertical-align: middle;\n",
       "    }\n",
       "\n",
       "    .dataframe tbody tr th {\n",
       "        vertical-align: top;\n",
       "    }\n",
       "\n",
       "    .dataframe thead th {\n",
       "        text-align: right;\n",
       "    }\n",
       "</style>\n",
       "<table border=\"1\" class=\"dataframe\">\n",
       "  <thead>\n",
       "    <tr style=\"text-align: right;\">\n",
       "      <th></th>\n",
       "      <th>年份</th>\n",
       "      <th>排名</th>\n",
       "      <th>学校名称</th>\n",
       "      <th>英文名称</th>\n",
       "      <th>层次</th>\n",
       "      <th>类型</th>\n",
       "      <th>地区</th>\n",
       "      <th>评分</th>\n",
       "    </tr>\n",
       "  </thead>\n",
       "  <tbody>\n",
       "    <tr>\n",
       "      <th>0</th>\n",
       "      <td>2015</td>\n",
       "      <td>1</td>\n",
       "      <td>清华大学</td>\n",
       "      <td>Tsinghua University</td>\n",
       "      <td>双一流 985 211</td>\n",
       "      <td>理工</td>\n",
       "      <td>北京</td>\n",
       "      <td>94.0</td>\n",
       "    </tr>\n",
       "    <tr>\n",
       "      <th>1</th>\n",
       "      <td>2015</td>\n",
       "      <td>2</td>\n",
       "      <td>北京大学</td>\n",
       "      <td>Peking University</td>\n",
       "      <td>双一流 985 211</td>\n",
       "      <td>综合</td>\n",
       "      <td>北京</td>\n",
       "      <td>81.0</td>\n",
       "    </tr>\n",
       "    <tr>\n",
       "      <th>2</th>\n",
       "      <td>2015</td>\n",
       "      <td>3</td>\n",
       "      <td>浙江大学</td>\n",
       "      <td>Zhejiang University</td>\n",
       "      <td>双一流 985 211</td>\n",
       "      <td>综合</td>\n",
       "      <td>浙江</td>\n",
       "      <td>80.0</td>\n",
       "    </tr>\n",
       "    <tr>\n",
       "      <th>3</th>\n",
       "      <td>2015</td>\n",
       "      <td>4</td>\n",
       "      <td>上海交通大学</td>\n",
       "      <td>Shanghai Jiao Tong University</td>\n",
       "      <td>双一流 985 211</td>\n",
       "      <td>综合</td>\n",
       "      <td>上海</td>\n",
       "      <td>78.0</td>\n",
       "    </tr>\n",
       "    <tr>\n",
       "      <th>4</th>\n",
       "      <td>2015</td>\n",
       "      <td>5</td>\n",
       "      <td>复旦大学</td>\n",
       "      <td>Fudan University</td>\n",
       "      <td>双一流 985 211</td>\n",
       "      <td>综合</td>\n",
       "      <td>上海</td>\n",
       "      <td>72.0</td>\n",
       "    </tr>\n",
       "  </tbody>\n",
       "</table>\n",
       "</div>"
      ]
     },
     "execution_count": 180,
     "metadata": {},
     "output_type": "execute_result"
    }
   ],
   "execution_count": 180
  },
  {
   "metadata": {
    "ExecuteTime": {
     "end_time": "2024-10-21T08:35:39.333478Z",
     "start_time": "2024-10-21T08:35:39.308246Z"
    }
   },
   "cell_type": "code",
   "source": "data_all.to_csv('./中国大学数据/data_all.csv',encoding = 'utf-8',index=False)",
   "id": "898ca48d04d67604",
   "outputs": [],
   "execution_count": 177
  },
  {
   "metadata": {
    "ExecuteTime": {
     "end_time": "2024-10-21T11:32:00.304224Z",
     "start_time": "2024-10-21T11:32:00.181146Z"
    }
   },
   "cell_type": "code",
   "source": "data_d = pd.read_excel('./中国大学数据/全国高校名单及详细指标.xls')",
   "id": "1ab832234132a107",
   "outputs": [],
   "execution_count": 14
  },
  {
   "metadata": {
    "ExecuteTime": {
     "end_time": "2024-10-21T11:32:01.736521Z",
     "start_time": "2024-10-21T11:32:01.721497Z"
    }
   },
   "cell_type": "code",
   "source": [
    "# 去除相同的行数\n",
    "data_d = data_d.drop_duplicates(subset=['院校名称'])"
   ],
   "id": "cc07c1d34a3660da",
   "outputs": [],
   "execution_count": 15
  },
  {
   "metadata": {
    "ExecuteTime": {
     "end_time": "2024-10-21T11:32:03.332428Z",
     "start_time": "2024-10-21T11:32:03.325829Z"
    }
   },
   "cell_type": "code",
   "source": [
    "data_d = data_d.loc[:,['院校名称','建校时间','隶属于','硕士点','重点实验室','院校类型','办学类型','办学性质','占地面积']]\n",
    "data_d.columns = ['学校名称','建校时间','隶属于','硕士点','重点实验室','院校类型','办学类型','办学性质','占地面积']"
   ],
   "id": "b6fd52a0e116313d",
   "outputs": [],
   "execution_count": 16
  },
  {
   "metadata": {
    "ExecuteTime": {
     "end_time": "2024-10-21T11:32:04.772420Z",
     "start_time": "2024-10-21T11:32:04.752298Z"
    }
   },
   "cell_type": "code",
   "source": "all_school = pd.merge(data_all,data_d,on = '学校名称',how = 'left')",
   "id": "82a19b09490dbfc",
   "outputs": [],
   "execution_count": 17
  },
  {
   "metadata": {
    "ExecuteTime": {
     "end_time": "2024-10-21T11:32:06.204581Z",
     "start_time": "2024-10-21T11:32:06.182336Z"
    }
   },
   "cell_type": "code",
   "source": "all_school.head()",
   "id": "4c8a02360f3912c6",
   "outputs": [
    {
     "data": {
      "text/plain": [
       "     年份  排名    学校名称                           英文名称           层次  类型  地区    评分  \\\n",
       "0  2015   1    清华大学            Tsinghua University  双一流 985 211  理工  北京  94.0   \n",
       "1  2015   2    北京大学              Peking University  双一流 985 211  综合  北京  81.0   \n",
       "2  2015   3    浙江大学            Zhejiang University  双一流 985 211  综合  浙江  80.0   \n",
       "3  2015   4  上海交通大学  Shanghai Jiao Tong University  双一流 985 211  综合  上海  78.0   \n",
       "4  2015   5    复旦大学               Fudan University  双一流 985 211  综合  上海  72.0   \n",
       "\n",
       "     建校时间  隶属于   硕士点  重点实验室 院校类型  办学类型 办学性质    占地面积  \n",
       "0  1911.0  教育部  65.0   13.0  综合类  普通本科   公办  6632.0  \n",
       "1  1898.0  教育部  50.0   47.0  综合类  普通本科   公办  7000.0  \n",
       "2  1897.0  教育部  62.0   28.0  综合类  普通本科   公办  9335.0  \n",
       "3  1896.0  教育部  57.0   22.0  综合类  普通本科   公办  4500.0  \n",
       "4  1905.0  教育部  43.0   26.0  综合类  普通本科   公办   603.0  "
      ],
      "text/html": [
       "<div>\n",
       "<style scoped>\n",
       "    .dataframe tbody tr th:only-of-type {\n",
       "        vertical-align: middle;\n",
       "    }\n",
       "\n",
       "    .dataframe tbody tr th {\n",
       "        vertical-align: top;\n",
       "    }\n",
       "\n",
       "    .dataframe thead th {\n",
       "        text-align: right;\n",
       "    }\n",
       "</style>\n",
       "<table border=\"1\" class=\"dataframe\">\n",
       "  <thead>\n",
       "    <tr style=\"text-align: right;\">\n",
       "      <th></th>\n",
       "      <th>年份</th>\n",
       "      <th>排名</th>\n",
       "      <th>学校名称</th>\n",
       "      <th>英文名称</th>\n",
       "      <th>层次</th>\n",
       "      <th>类型</th>\n",
       "      <th>地区</th>\n",
       "      <th>评分</th>\n",
       "      <th>建校时间</th>\n",
       "      <th>隶属于</th>\n",
       "      <th>硕士点</th>\n",
       "      <th>重点实验室</th>\n",
       "      <th>院校类型</th>\n",
       "      <th>办学类型</th>\n",
       "      <th>办学性质</th>\n",
       "      <th>占地面积</th>\n",
       "    </tr>\n",
       "  </thead>\n",
       "  <tbody>\n",
       "    <tr>\n",
       "      <th>0</th>\n",
       "      <td>2015</td>\n",
       "      <td>1</td>\n",
       "      <td>清华大学</td>\n",
       "      <td>Tsinghua University</td>\n",
       "      <td>双一流 985 211</td>\n",
       "      <td>理工</td>\n",
       "      <td>北京</td>\n",
       "      <td>94.0</td>\n",
       "      <td>1911.0</td>\n",
       "      <td>教育部</td>\n",
       "      <td>65.0</td>\n",
       "      <td>13.0</td>\n",
       "      <td>综合类</td>\n",
       "      <td>普通本科</td>\n",
       "      <td>公办</td>\n",
       "      <td>6632.0</td>\n",
       "    </tr>\n",
       "    <tr>\n",
       "      <th>1</th>\n",
       "      <td>2015</td>\n",
       "      <td>2</td>\n",
       "      <td>北京大学</td>\n",
       "      <td>Peking University</td>\n",
       "      <td>双一流 985 211</td>\n",
       "      <td>综合</td>\n",
       "      <td>北京</td>\n",
       "      <td>81.0</td>\n",
       "      <td>1898.0</td>\n",
       "      <td>教育部</td>\n",
       "      <td>50.0</td>\n",
       "      <td>47.0</td>\n",
       "      <td>综合类</td>\n",
       "      <td>普通本科</td>\n",
       "      <td>公办</td>\n",
       "      <td>7000.0</td>\n",
       "    </tr>\n",
       "    <tr>\n",
       "      <th>2</th>\n",
       "      <td>2015</td>\n",
       "      <td>3</td>\n",
       "      <td>浙江大学</td>\n",
       "      <td>Zhejiang University</td>\n",
       "      <td>双一流 985 211</td>\n",
       "      <td>综合</td>\n",
       "      <td>浙江</td>\n",
       "      <td>80.0</td>\n",
       "      <td>1897.0</td>\n",
       "      <td>教育部</td>\n",
       "      <td>62.0</td>\n",
       "      <td>28.0</td>\n",
       "      <td>综合类</td>\n",
       "      <td>普通本科</td>\n",
       "      <td>公办</td>\n",
       "      <td>9335.0</td>\n",
       "    </tr>\n",
       "    <tr>\n",
       "      <th>3</th>\n",
       "      <td>2015</td>\n",
       "      <td>4</td>\n",
       "      <td>上海交通大学</td>\n",
       "      <td>Shanghai Jiao Tong University</td>\n",
       "      <td>双一流 985 211</td>\n",
       "      <td>综合</td>\n",
       "      <td>上海</td>\n",
       "      <td>78.0</td>\n",
       "      <td>1896.0</td>\n",
       "      <td>教育部</td>\n",
       "      <td>57.0</td>\n",
       "      <td>22.0</td>\n",
       "      <td>综合类</td>\n",
       "      <td>普通本科</td>\n",
       "      <td>公办</td>\n",
       "      <td>4500.0</td>\n",
       "    </tr>\n",
       "    <tr>\n",
       "      <th>4</th>\n",
       "      <td>2015</td>\n",
       "      <td>5</td>\n",
       "      <td>复旦大学</td>\n",
       "      <td>Fudan University</td>\n",
       "      <td>双一流 985 211</td>\n",
       "      <td>综合</td>\n",
       "      <td>上海</td>\n",
       "      <td>72.0</td>\n",
       "      <td>1905.0</td>\n",
       "      <td>教育部</td>\n",
       "      <td>43.0</td>\n",
       "      <td>26.0</td>\n",
       "      <td>综合类</td>\n",
       "      <td>普通本科</td>\n",
       "      <td>公办</td>\n",
       "      <td>603.0</td>\n",
       "    </tr>\n",
       "  </tbody>\n",
       "</table>\n",
       "</div>"
      ]
     },
     "execution_count": 18,
     "metadata": {},
     "output_type": "execute_result"
    }
   ],
   "execution_count": 18
  },
  {
   "metadata": {
    "ExecuteTime": {
     "end_time": "2024-10-21T11:32:18.399493Z",
     "start_time": "2024-10-21T11:32:18.386468Z"
    }
   },
   "cell_type": "code",
   "source": "all_school.shape",
   "id": "98035d7215bdb91a",
   "outputs": [
    {
     "data": {
      "text/plain": [
       "(5075, 16)"
      ]
     },
     "execution_count": 19,
     "metadata": {},
     "output_type": "execute_result"
    }
   ],
   "execution_count": 19
  },
  {
   "metadata": {
    "ExecuteTime": {
     "end_time": "2024-10-21T08:37:19.533020Z",
     "start_time": "2024-10-21T08:37:19.492339Z"
    }
   },
   "cell_type": "code",
   "source": "all_school.to_csv('./中国大学数据/all_school.csv',index=False)",
   "id": "a90e12658e71cbb3",
   "outputs": [],
   "execution_count": 189
  },
  {
   "metadata": {},
   "cell_type": "markdown",
   "source": [
    "## 任务2. 数据分析任务-数据统计分析任务(工具: Matplotlib/Seaborn/Pyecharts都可以)\n",
    "- 需求3: 利用全国高校名单及详细指标.xlsx 数据集,完成以下分析任务:\n",
    "- 需求4. 计算各个省份高校的数量,找出TOP10教育大省,计算各个地级市的大学数量,找出TOP10教育城市.可以合理利用可视化方式进行. 柱状图/饼图/\n",
    "- 需求5. 计算各个省份民办/公办高校的数量,并对TOP10高校完成可视化\n",
    "- 需求6. 将所给数据按区域划分为7大区,如华南,华北...等.统计各个大区高校的院校数量,院校类型的数量分布情况,办学类型分布情况,以及办学性质分布情况."
   ],
   "id": "6c2bb3ad3f569671"
  },
  {
   "metadata": {
    "ExecuteTime": {
     "end_time": "2024-10-21T12:14:03.519124Z",
     "start_time": "2024-10-21T12:14:03.312584Z"
    }
   },
   "cell_type": "code",
   "source": [
    "##需求4\n",
    "data_task2 = pd.read_excel('./中国大学数据/全国高校名单及详细指标.xls')\n",
    "# 去除相同的行数\n",
    "data_task2 =data_task2.drop_duplicates(subset=['院校名称'])"
   ],
   "id": "551b6e2768dffcc2",
   "outputs": [],
   "execution_count": 38
  },
  {
   "metadata": {
    "ExecuteTime": {
     "end_time": "2024-10-21T12:14:04.466575Z",
     "start_time": "2024-10-21T12:14:04.448842Z"
    }
   },
   "cell_type": "code",
   "source": "top10_education_province = data_task2.groupby('省份')['院校名称'].count().sort_values(ascending=False).reset_index().iloc[:10].values.tolist()",
   "id": "920dc2bcf04ae00",
   "outputs": [],
   "execution_count": 39
  },
  {
   "metadata": {
    "ExecuteTime": {
     "end_time": "2024-10-21T12:14:05.336425Z",
     "start_time": "2024-10-21T12:14:05.323158Z"
    }
   },
   "cell_type": "code",
   "source": "top10_education_city = data_task2.groupby('城市')['院校名称'].count().sort_values(ascending=False).reset_index().iloc[:10].values.tolist()",
   "id": "e48a8dc54293918b",
   "outputs": [],
   "execution_count": 40
  },
  {
   "metadata": {
    "ExecuteTime": {
     "end_time": "2024-10-21T12:14:06.016647Z",
     "start_time": "2024-10-21T12:14:06.011035Z"
    }
   },
   "cell_type": "code",
   "source": "top10_education_province",
   "id": "f268a11c0d0786bc",
   "outputs": [
    {
     "data": {
      "text/plain": [
       "[['江苏', 169],\n",
       " ['山东', 157],\n",
       " ['广东', 156],\n",
       " ['河南', 149],\n",
       " ['四川', 132],\n",
       " ['湖北', 130],\n",
       " ['湖南', 128],\n",
       " ['河北', 126],\n",
       " ['安徽', 123],\n",
       " ['浙江', 110]]"
      ]
     },
     "execution_count": 41,
     "metadata": {},
     "output_type": "execute_result"
    }
   ],
   "execution_count": 41
  },
  {
   "metadata": {
    "ExecuteTime": {
     "end_time": "2024-10-21T02:01:34.456118Z",
     "start_time": "2024-10-21T02:01:34.451542Z"
    }
   },
   "cell_type": "code",
   "source": "top10_education_city",
   "id": "365f1c66426352d",
   "outputs": [
    {
     "data": {
      "text/plain": [
       "[['北京市', 98],\n",
       " ['武汉市', 84],\n",
       " ['广州市', 83],\n",
       " ['重庆市', 71],\n",
       " ['成都市', 68],\n",
       " ['西安市', 67],\n",
       " ['郑州市', 66],\n",
       " ['上海市', 64],\n",
       " ['天津市', 59],\n",
       " ['长沙市', 58]]"
      ]
     },
     "execution_count": 102,
     "metadata": {},
     "output_type": "execute_result"
    }
   ],
   "execution_count": 102
  },
  {
   "metadata": {
    "ExecuteTime": {
     "end_time": "2024-10-21T11:54:25.475439Z",
     "start_time": "2024-10-21T11:54:25.380010Z"
    }
   },
   "cell_type": "code",
   "source": [
    "from pyecharts import options as opts\n",
    "from pyecharts.charts import Bar,Scatter,Pie,Timeline\n",
    "from pyecharts.globals import ThemeType,ChartType,SymbolType,JsCode"
   ],
   "id": "b51ecc46b5b7fd5e",
   "outputs": [],
   "execution_count": 21
  },
  {
   "metadata": {
    "ExecuteTime": {
     "end_time": "2024-10-21T06:57:29.712718Z",
     "start_time": "2024-10-21T06:57:29.696799Z"
    }
   },
   "cell_type": "code",
   "source": [
    "# from pyecharts.globals import CurrentConfig  # 加载全局配置\n",
    "# CurrentConfig.ONLINE_HOST = \"http://127.0.0.1:8000/assets/\"  # 设定静态资源地址\n",
    "# from pyecharts.datasets import register_url  # 部分地图文件注册\n",
    "# # 注册本地服务器的地图数据源\n",
    "# register_url(\"http://127.0.0.1:8000/\") "
   ],
   "id": "1e04dd08798aa710",
   "outputs": [],
   "execution_count": 46
  },
  {
   "metadata": {
    "ExecuteTime": {
     "end_time": "2024-10-21T12:14:13.717434Z",
     "start_time": "2024-10-21T12:14:13.702574Z"
    }
   },
   "cell_type": "code",
   "source": [
    "itemstyle = {\n",
    "    'normal': {\n",
    "        'color': JsCode(\"\"\"new echarts.graphic.LinearGradient(0, 0, 1, 1, [\n",
    "          { offset: 0, color: 'rgb(255, 191, 0)' },\n",
    "          { offset: 1, color: 'rgb(224, 62, 76)' }\n",
    "        ],)\"\"\"),\n",
    "        'barBorderRadius': [20,20,20,20],      #  柱子的四个角圆角设计\n",
    "        'shadowColor':'rgba(108,80,243,0.9)', # 阴影的颜色\n",
    "        'shadowBlur':5, # 阴影的宽度\n",
    "        'width': 4,\n",
    "    }\n",
    "}"
   ],
   "id": "4b3a6c3917947f4f",
   "outputs": [],
   "execution_count": 42
  },
  {
   "metadata": {
    "ExecuteTime": {
     "end_time": "2024-10-21T12:02:53.908420Z",
     "start_time": "2024-10-21T12:02:53.894727Z"
    }
   },
   "cell_type": "code",
   "source": [
    "itemstyle_pie = {\n",
    "    'normal': {\n",
    "        'borderRadius':15,\n",
    "        'borderWidth':.5,\n",
    "        'borderColor':'auto',\n",
    "    }\n",
    "}"
   ],
   "id": "9dad5d5ae5301315",
   "outputs": [],
   "execution_count": 31
  },
  {
   "metadata": {
    "ExecuteTime": {
     "end_time": "2024-10-21T12:14:15.468566Z",
     "start_time": "2024-10-21T12:14:15.447353Z"
    }
   },
   "cell_type": "code",
   "source": [
    "bar=(Bar(init_opts=opts.InitOpts(theme=ThemeType.DARK))\n",
    "    .add_xaxis([i[0] for i in top10_education_province])\n",
    "    .add_yaxis(series_name='TOP10教育大省',y_axis=[i[1] for i in top10_education_province],\n",
    "                label_opts=opts.LabelOpts(position='top',formatter='{c}所',\n",
    "                                          color='white',font_weight='bold'),\n",
    "               itemstyle_opts=itemstyle,\n",
    "                category_gap='30',## 同一序列柱间的距离\n",
    "               )\n",
    "     .set_global_opts(\n",
    "         title_opts=opts.TitleOpts(title='全国大学数量前十省份', pos_left='center'),\n",
    "         legend_opts=opts.LegendOpts(pos_top='5%',\n",
    "                                    textstyle_opts=opts.TextStyleOpts(color='auto'),  # 文字样式\n",
    "                                    ),\n",
    "         tooltip_opts=opts.TooltipOpts(trigger='axis',axis_pointer_type='shadow',\n",
    "                                      ),\n",
    "         yaxis_opts=opts.AxisOpts(\n",
    "                                 axislabel_opts=opts.LabelOpts(font_weight='bold',color='white',##粗体白色\n",
    "                                                                ),\n",
    "                                 )\n",
    "     )\n",
    "    )\n",
    "bar.render('./result/需求4教育大省.html')"
   ],
   "id": "6e43946b5f53d501",
   "outputs": [
    {
     "data": {
      "text/plain": [
       "'C:\\\\Users\\\\wang\\\\Desktop\\\\pyLearn\\\\作业\\\\work_05\\\\result\\\\需求4教育大省.html'"
      ]
     },
     "execution_count": 43,
     "metadata": {},
     "output_type": "execute_result"
    }
   ],
   "execution_count": 43
  },
  {
   "metadata": {
    "ExecuteTime": {
     "end_time": "2024-10-21T12:20:06.818752Z",
     "start_time": "2024-10-21T12:20:06.796503Z"
    }
   },
   "cell_type": "code",
   "source": [
    "from pyecharts_snapshot.main import make_a_snapshot\n",
    "pie = (Pie(init_opts=opts.InitOpts(theme=ThemeType.CHALK))\n",
    "    .add(series_name='Top教育城市', data_pair=top10_education_city,\n",
    "         radius=['30%','80%'], # 饼图内半径和外半径\n",
    "         rosetype='area',  # 否展示成南丁格尔图\n",
    "         label_opts=opts.LabelOpts(formatter='{b}:{c}\\n百分占比{d}%'), # 标签配置\n",
    "         itemstyle_opts=itemstyle_pie, # 图元样式配置\n",
    "         emphasis_opts=opts.EmphasisOpts( is_show_label_line=True,focus='series',\n",
    "                    label_opts=opts.LabelOpts(font_size=20,font_weight='bold')\n",
    "                                        ), #高亮多边形配置\n",
    "        )\n",
    "#     .set_colors()\n",
    "    .set_global_opts(tooltip_opts=opts.TooltipOpts(trigger='item'))\n",
    "      )\n",
    "pie.options['series'][0]['padAngle'] = 1 # 设定每个饼图各个饼块之间的距离\n",
    "pie.render('./result/需求4教育城市.html')"
   ],
   "id": "7e788fc6469c6843",
   "outputs": [
    {
     "data": {
      "text/plain": [
       "'C:\\\\Users\\\\wang\\\\Desktop\\\\pyLearn\\\\作业\\\\work_05\\\\result\\\\需求4教育城市.html'"
      ]
     },
     "execution_count": 48,
     "metadata": {},
     "output_type": "execute_result"
    }
   ],
   "execution_count": 48
  },
  {
   "metadata": {
    "ExecuteTime": {
     "end_time": "2024-10-21T06:46:45.647513Z",
     "start_time": "2024-10-21T06:46:45.632495Z"
    }
   },
   "cell_type": "code",
   "source": [
    "from pyecharts.charts import Bar\n",
    "from pyecharts_snapshot.main import make_a_snapshot\n",
    "\n",
    "bar = Bar()\n",
    "bar.add_xaxis([\"衬衫\", \"羊毛衫\", \"雪纺衫\", \"裤子\", \"高跟鞋\", \"袜子\"])\n",
    "bar.add_yaxis(\"商家 A\", [5, 20, 36, 10, 75, 90])\n",
    "# 设置输出文件名和格式\n",
    "make_a_snapshot('render.html', 'output.png')"
   ],
   "id": "537880799fa85aa0",
   "outputs": [
    {
     "data": {
      "text/plain": [
       "    省份     城市   区域   院校名称  建校时间     隶属于 985工程 211工程 双一流 强基  ...  占地面积  院校类型  \\\n",
       "0   陕西    西安市  碑林区   西北大学  1902     陕西省           是   是     ...  2360   综合类   \n",
       "2   湖北    武汉市  武昌区   武汉大学  1893     教育部     是     是   是  是  ...  5195   综合类   \n",
       "3  内蒙古  呼和浩特市  赛罕区  内蒙古大学  1957  内蒙古自治区           是   是     ...  3802   综合类   \n",
       "6   湖南    长沙市  岳麓区   中南大学  1976     教育部     是     是   是     ...  3597   综合类   \n",
       "7   云南    昆明市  呈贡区   云南大学  1922     云南省           是   是     ...  4364   综合类   \n",
       "\n",
       "   办学类型  办学性质                 电子邮箱  \\\n",
       "0  普通本科    公办       zsb@nwu.edu.cn   \n",
       "2  普通本科    公办     wlxxs@whu.edu.cn   \n",
       "3  普通本科    公办  ndzs2008@imu.edu.cn   \n",
       "6  普通本科    公办          admi@hnu.cn   \n",
       "7  普通本科    公办      zszx@ynu.edu.cn   \n",
       "\n",
       "                                                  地址                    官方网址  \\\n",
       "0        长安校区：西安市长安区郭杜教育科技产业区学府大道1号,太白校区：西安市太白北路229号  http://www.nwu.edu.cn/   \n",
       "2                                   湖北省武汉市武昌区八一路299号  http://www.whu.edu.cn/   \n",
       "3  北校区：呼和浩特市赛罕区大学西街235号,南校区：呼和浩特市玉泉区昭君路24号,满洲里校区：...  http://www.imu.edu.cn/   \n",
       "6                                   湖南省长沙市岳麓区麓山南路麓山门  http://www.hnu.edu.cn/   \n",
       "7                                       云南省昆明市翠湖北路2号  http://www.ynu.edu.cn/   \n",
       "\n",
       "                                                官方电话  \\\n",
       "0                                       029-88302211   \n",
       "2                                       027-68754231   \n",
       "3                          0471-4993105,0471-4993164   \n",
       "6  0731-88823560,0731-88823067,0731-88823578,0731...   \n",
       "7          0871-65033819,0871-65032173,0871-65939873   \n",
       "\n",
       "                                                  简介    校区  \n",
       "0  西北大学肇始于1902年的陕西大学堂和京师大学堂速成科仕学馆。1912年始称西北大学。192...  长安校区  \n",
       "2  江城多山，珞珈独秀;山上有黉，武汉大学。武汉大学是国家教育部直属重点综合性大学，是国家“98...        \n",
       "3  【历史沿革】内蒙古大学位于内蒙古自治区首府、历史文化名城呼和浩特市，距北京400余公里，是中...   北校区  \n",
       "6  湖南大学位于中国历史文化名城长沙，校区坐落在湘江之滨、岳麓山下，享有“千年学府，百年名校”之...        \n",
       "7  云南大学始建于1922年，时为私立东陆大学，1934年更名为省立云南大学，1938年改为国立...        \n",
       "\n",
       "[5 rows x 24 columns]"
      ],
      "text/html": [
       "<div>\n",
       "<style scoped>\n",
       "    .dataframe tbody tr th:only-of-type {\n",
       "        vertical-align: middle;\n",
       "    }\n",
       "\n",
       "    .dataframe tbody tr th {\n",
       "        vertical-align: top;\n",
       "    }\n",
       "\n",
       "    .dataframe thead th {\n",
       "        text-align: right;\n",
       "    }\n",
       "</style>\n",
       "<table border=\"1\" class=\"dataframe\">\n",
       "  <thead>\n",
       "    <tr style=\"text-align: right;\">\n",
       "      <th></th>\n",
       "      <th>省份</th>\n",
       "      <th>城市</th>\n",
       "      <th>区域</th>\n",
       "      <th>院校名称</th>\n",
       "      <th>建校时间</th>\n",
       "      <th>隶属于</th>\n",
       "      <th>985工程</th>\n",
       "      <th>211工程</th>\n",
       "      <th>双一流</th>\n",
       "      <th>强基</th>\n",
       "      <th>...</th>\n",
       "      <th>占地面积</th>\n",
       "      <th>院校类型</th>\n",
       "      <th>办学类型</th>\n",
       "      <th>办学性质</th>\n",
       "      <th>电子邮箱</th>\n",
       "      <th>地址</th>\n",
       "      <th>官方网址</th>\n",
       "      <th>官方电话</th>\n",
       "      <th>简介</th>\n",
       "      <th>校区</th>\n",
       "    </tr>\n",
       "  </thead>\n",
       "  <tbody>\n",
       "    <tr>\n",
       "      <th>0</th>\n",
       "      <td>陕西</td>\n",
       "      <td>西安市</td>\n",
       "      <td>碑林区</td>\n",
       "      <td>西北大学</td>\n",
       "      <td>1902</td>\n",
       "      <td>陕西省</td>\n",
       "      <td></td>\n",
       "      <td>是</td>\n",
       "      <td>是</td>\n",
       "      <td></td>\n",
       "      <td>...</td>\n",
       "      <td>2360</td>\n",
       "      <td>综合类</td>\n",
       "      <td>普通本科</td>\n",
       "      <td>公办</td>\n",
       "      <td>zsb@nwu.edu.cn</td>\n",
       "      <td>长安校区：西安市长安区郭杜教育科技产业区学府大道1号,太白校区：西安市太白北路229号</td>\n",
       "      <td>http://www.nwu.edu.cn/</td>\n",
       "      <td>029-88302211</td>\n",
       "      <td>西北大学肇始于1902年的陕西大学堂和京师大学堂速成科仕学馆。1912年始称西北大学。192...</td>\n",
       "      <td>长安校区</td>\n",
       "    </tr>\n",
       "    <tr>\n",
       "      <th>2</th>\n",
       "      <td>湖北</td>\n",
       "      <td>武汉市</td>\n",
       "      <td>武昌区</td>\n",
       "      <td>武汉大学</td>\n",
       "      <td>1893</td>\n",
       "      <td>教育部</td>\n",
       "      <td>是</td>\n",
       "      <td>是</td>\n",
       "      <td>是</td>\n",
       "      <td>是</td>\n",
       "      <td>...</td>\n",
       "      <td>5195</td>\n",
       "      <td>综合类</td>\n",
       "      <td>普通本科</td>\n",
       "      <td>公办</td>\n",
       "      <td>wlxxs@whu.edu.cn</td>\n",
       "      <td>湖北省武汉市武昌区八一路299号</td>\n",
       "      <td>http://www.whu.edu.cn/</td>\n",
       "      <td>027-68754231</td>\n",
       "      <td>江城多山，珞珈独秀;山上有黉，武汉大学。武汉大学是国家教育部直属重点综合性大学，是国家“98...</td>\n",
       "      <td></td>\n",
       "    </tr>\n",
       "    <tr>\n",
       "      <th>3</th>\n",
       "      <td>内蒙古</td>\n",
       "      <td>呼和浩特市</td>\n",
       "      <td>赛罕区</td>\n",
       "      <td>内蒙古大学</td>\n",
       "      <td>1957</td>\n",
       "      <td>内蒙古自治区</td>\n",
       "      <td></td>\n",
       "      <td>是</td>\n",
       "      <td>是</td>\n",
       "      <td></td>\n",
       "      <td>...</td>\n",
       "      <td>3802</td>\n",
       "      <td>综合类</td>\n",
       "      <td>普通本科</td>\n",
       "      <td>公办</td>\n",
       "      <td>ndzs2008@imu.edu.cn</td>\n",
       "      <td>北校区：呼和浩特市赛罕区大学西街235号,南校区：呼和浩特市玉泉区昭君路24号,满洲里校区：...</td>\n",
       "      <td>http://www.imu.edu.cn/</td>\n",
       "      <td>0471-4993105,0471-4993164</td>\n",
       "      <td>【历史沿革】内蒙古大学位于内蒙古自治区首府、历史文化名城呼和浩特市，距北京400余公里，是中...</td>\n",
       "      <td>北校区</td>\n",
       "    </tr>\n",
       "    <tr>\n",
       "      <th>6</th>\n",
       "      <td>湖南</td>\n",
       "      <td>长沙市</td>\n",
       "      <td>岳麓区</td>\n",
       "      <td>中南大学</td>\n",
       "      <td>1976</td>\n",
       "      <td>教育部</td>\n",
       "      <td>是</td>\n",
       "      <td>是</td>\n",
       "      <td>是</td>\n",
       "      <td></td>\n",
       "      <td>...</td>\n",
       "      <td>3597</td>\n",
       "      <td>综合类</td>\n",
       "      <td>普通本科</td>\n",
       "      <td>公办</td>\n",
       "      <td>admi@hnu.cn</td>\n",
       "      <td>湖南省长沙市岳麓区麓山南路麓山门</td>\n",
       "      <td>http://www.hnu.edu.cn/</td>\n",
       "      <td>0731-88823560,0731-88823067,0731-88823578,0731...</td>\n",
       "      <td>湖南大学位于中国历史文化名城长沙，校区坐落在湘江之滨、岳麓山下，享有“千年学府，百年名校”之...</td>\n",
       "      <td></td>\n",
       "    </tr>\n",
       "    <tr>\n",
       "      <th>7</th>\n",
       "      <td>云南</td>\n",
       "      <td>昆明市</td>\n",
       "      <td>呈贡区</td>\n",
       "      <td>云南大学</td>\n",
       "      <td>1922</td>\n",
       "      <td>云南省</td>\n",
       "      <td></td>\n",
       "      <td>是</td>\n",
       "      <td>是</td>\n",
       "      <td></td>\n",
       "      <td>...</td>\n",
       "      <td>4364</td>\n",
       "      <td>综合类</td>\n",
       "      <td>普通本科</td>\n",
       "      <td>公办</td>\n",
       "      <td>zszx@ynu.edu.cn</td>\n",
       "      <td>云南省昆明市翠湖北路2号</td>\n",
       "      <td>http://www.ynu.edu.cn/</td>\n",
       "      <td>0871-65033819,0871-65032173,0871-65939873</td>\n",
       "      <td>云南大学始建于1922年，时为私立东陆大学，1934年更名为省立云南大学，1938年改为国立...</td>\n",
       "      <td></td>\n",
       "    </tr>\n",
       "  </tbody>\n",
       "</table>\n",
       "<p>5 rows × 24 columns</p>\n",
       "</div>"
      ]
     },
     "execution_count": 37,
     "metadata": {},
     "output_type": "execute_result"
    }
   ],
   "execution_count": 37
  },
  {
   "metadata": {
    "ExecuteTime": {
     "end_time": "2024-10-21T07:07:16.744486Z",
     "start_time": "2024-10-21T07:07:16.736992Z"
    }
   },
   "cell_type": "code",
   "source": [
    "##需求5\n",
    "data_both = data_task2.groupby(by = ['省份','办学性质'])['院校名称'].count().reset_index()"
   ],
   "id": "c6847bd6f077bcd6",
   "outputs": [],
   "execution_count": 61
  },
  {
   "metadata": {
    "ExecuteTime": {
     "end_time": "2024-10-21T07:15:34.907905Z",
     "start_time": "2024-10-21T07:15:34.893814Z"
    }
   },
   "cell_type": "code",
   "source": "data_both.head()",
   "id": "dfa0d2db85f1ede2",
   "outputs": [
    {
     "data": {
      "text/plain": [
       "   省份    办学性质  院校名称\n",
       "0  上海  中外合作办学     2\n",
       "1  上海      公办    45\n",
       "2  上海      民办    17\n",
       "3  云南      公办    60\n",
       "4  云南      民办    21"
      ],
      "text/html": [
       "<div>\n",
       "<style scoped>\n",
       "    .dataframe tbody tr th:only-of-type {\n",
       "        vertical-align: middle;\n",
       "    }\n",
       "\n",
       "    .dataframe tbody tr th {\n",
       "        vertical-align: top;\n",
       "    }\n",
       "\n",
       "    .dataframe thead th {\n",
       "        text-align: right;\n",
       "    }\n",
       "</style>\n",
       "<table border=\"1\" class=\"dataframe\">\n",
       "  <thead>\n",
       "    <tr style=\"text-align: right;\">\n",
       "      <th></th>\n",
       "      <th>省份</th>\n",
       "      <th>办学性质</th>\n",
       "      <th>院校名称</th>\n",
       "    </tr>\n",
       "  </thead>\n",
       "  <tbody>\n",
       "    <tr>\n",
       "      <th>0</th>\n",
       "      <td>上海</td>\n",
       "      <td>中外合作办学</td>\n",
       "      <td>2</td>\n",
       "    </tr>\n",
       "    <tr>\n",
       "      <th>1</th>\n",
       "      <td>上海</td>\n",
       "      <td>公办</td>\n",
       "      <td>45</td>\n",
       "    </tr>\n",
       "    <tr>\n",
       "      <th>2</th>\n",
       "      <td>上海</td>\n",
       "      <td>民办</td>\n",
       "      <td>17</td>\n",
       "    </tr>\n",
       "    <tr>\n",
       "      <th>3</th>\n",
       "      <td>云南</td>\n",
       "      <td>公办</td>\n",
       "      <td>60</td>\n",
       "    </tr>\n",
       "    <tr>\n",
       "      <th>4</th>\n",
       "      <td>云南</td>\n",
       "      <td>民办</td>\n",
       "      <td>21</td>\n",
       "    </tr>\n",
       "  </tbody>\n",
       "</table>\n",
       "</div>"
      ]
     },
     "execution_count": 76,
     "metadata": {},
     "output_type": "execute_result"
    }
   ],
   "execution_count": 76
  },
  {
   "metadata": {
    "ExecuteTime": {
     "end_time": "2024-10-21T07:23:48.121899Z",
     "start_time": "2024-10-21T07:23:48.112696Z"
    }
   },
   "cell_type": "code",
   "source": "data_private = data_both[data_both['办学性质'] == '公办'][['省份','院校名称']].sort_values(by = '院校名称',ascending=False).iloc[:10].values.tolist()",
   "id": "6b060f78b4876a8a",
   "outputs": [],
   "execution_count": 83
  },
  {
   "metadata": {
    "ExecuteTime": {
     "end_time": "2024-10-21T07:23:49.560764Z",
     "start_time": "2024-10-21T07:23:49.538532Z"
    }
   },
   "cell_type": "code",
   "source": "data_public = data_both[data_both['办学性质'] == '民办'][['省份','院校名称']].sort_values(by = '院校名称',ascending=False).iloc[:10].values.tolist()",
   "id": "a2d87dc43015c682",
   "outputs": [],
   "execution_count": 84
  },
  {
   "metadata": {
    "ExecuteTime": {
     "end_time": "2024-10-21T07:27:38.324036Z",
     "start_time": "2024-10-21T07:27:38.306904Z"
    }
   },
   "cell_type": "code",
   "source": "data_public",
   "id": "1b169bc4c382eb9d",
   "outputs": [
    {
     "data": {
      "text/plain": [
       "[['广东', 50],\n",
       " ['四川', 49],\n",
       " ['江苏', 46],\n",
       " ['湖北', 43],\n",
       " ['山东', 41],\n",
       " ['河南', 40],\n",
       " ['福建', 36],\n",
       " ['河北', 34],\n",
       " ['安徽', 31],\n",
       " ['浙江', 31]]"
      ]
     },
     "execution_count": 85,
     "metadata": {},
     "output_type": "execute_result"
    }
   ],
   "execution_count": 85
  },
  {
   "metadata": {
    "ExecuteTime": {
     "end_time": "2024-10-21T07:32:49.610290Z",
     "start_time": "2024-10-21T07:32:49.571696Z"
    }
   },
   "cell_type": "code",
   "source": [
    "pie=(Pie(init_opts=opts.InitOpts(theme=ThemeType.DARK,width='100%',height='95vh'))\n",
    "    .add(series_name='民办高校',data_pair=data_private,\n",
    "        rosetype='area', \n",
    "        radius=['20%','40%'],\n",
    "        center=['20%','55%'],\n",
    "        label_opts=opts.LabelOpts(formatter='{b}:{c}\\n百分占比{d}%'),\n",
    "        itemstyle_opts=itemstyle_pie,\n",
    "        )\n",
    "     .add(series_name='公办高校',data_pair=data_public,\n",
    "        rosetype='area', \n",
    "        radius=['20%','40%'],\n",
    "        center=['75%','55%'],\n",
    "        label_opts=opts.LabelOpts(formatter='{b}:{c}\\n百分占比{d}%'),\n",
    "        itemstyle_opts=itemstyle_pie,\n",
    "        )\n",
    "     .set_global_opts(\n",
    "         title_opts=[\n",
    "              dict(text='公办',top='53%',left='19%'),\n",
    "              dict(text='民办',top='53%',left='74%'),\n",
    "         ],\n",
    "         legend_opts=opts.LegendOpts(pos_top='5%'),\n",
    "         tooltip_opts=opts.TooltipOpts(trigger='item'),\n",
    "                      )\n",
    "   )\n",
    "pie.render('./result/需求5.html')"
   ],
   "id": "acaa9a0207d26b9f",
   "outputs": [
    {
     "data": {
      "text/plain": [
       "'C:\\\\Users\\\\wang\\\\Desktop\\\\pyLearn\\\\作业\\\\work_05\\\\result\\\\需求5.html'"
      ]
     },
     "execution_count": 94,
     "metadata": {},
     "output_type": "execute_result"
    }
   ],
   "execution_count": 94
  },
  {
   "metadata": {
    "ExecuteTime": {
     "end_time": "2024-10-21T07:39:50.169706Z",
     "start_time": "2024-10-21T07:39:50.154158Z"
    }
   },
   "cell_type": "code",
   "source": [
    "# 需求6\n",
    "dicts1 = {\n",
    "    '东北': ['黑龙江', '吉林', '辽宁'],\n",
    "    '华北': ['北京', '天津', '河北', '山西', '内蒙古'],\n",
    "    '华东': ['山东', '江苏', '安徽', '上海', '浙江', '福建', '江西'],\n",
    "    '华中': ['河南', '湖北', '湖南'],\n",
    "    '华南': ['广东', '广西', '海南'],\n",
    "    '西南': ['重庆', '四川', '云南', '贵州', '西藏'],\n",
    "    '西北': ['陕西', '甘肃', '青海', '宁夏', '新疆'],\n",
    "}\n",
    "dicts2 = {}\n",
    "dicts2.update({i:k for k, v in dicts1.items() for i in v})"
   ],
   "id": "37f3339e005ff4e6",
   "outputs": [],
   "execution_count": 99
  },
  {
   "metadata": {
    "ExecuteTime": {
     "end_time": "2024-10-21T07:42:45.191734Z",
     "start_time": "2024-10-21T07:42:45.184732Z"
    }
   },
   "cell_type": "code",
   "source": "data_task2['区域'] = data_task2['省份'].map(dicts2)",
   "id": "697facf722b7f827",
   "outputs": [],
   "execution_count": 102
  },
  {
   "metadata": {
    "ExecuteTime": {
     "end_time": "2024-10-21T07:48:24.281832Z",
     "start_time": "2024-10-21T07:48:24.277333Z"
    }
   },
   "cell_type": "code",
   "source": "school_count = data_task2.groupby('区域')['院校名称'].count().reset_index().values.tolist()",
   "id": "acb17f58ae0719d2",
   "outputs": [],
   "execution_count": 114
  },
  {
   "metadata": {
    "ExecuteTime": {
     "end_time": "2024-10-21T07:49:06.207975Z",
     "start_time": "2024-10-21T07:49:06.187448Z"
    }
   },
   "cell_type": "code",
   "source": "school_type_count = data_task2.groupby('区域')['院校类型'].count().reset_index().values.tolist()",
   "id": "139d9946ba3facee",
   "outputs": [],
   "execution_count": 115
  },
  {
   "metadata": {
    "ExecuteTime": {
     "end_time": "2024-10-21T07:50:04.294179Z",
     "start_time": "2024-10-21T07:50:04.281651Z"
    }
   },
   "cell_type": "code",
   "source": "found_school_count = data_task2.groupby('区域')['办学类型'].count().reset_index().values.tolist()",
   "id": "53768b1020ed2c3c",
   "outputs": [],
   "execution_count": 116
  },
  {
   "metadata": {
    "ExecuteTime": {
     "end_time": "2024-10-21T07:51:37.216979Z",
     "start_time": "2024-10-21T07:51:37.203868Z"
    }
   },
   "cell_type": "code",
   "source": "nature_school_count = data_task2.groupby('区域')['办学性质'].count().reset_index().values.tolist()",
   "id": "baebc4c6663db211",
   "outputs": [],
   "execution_count": 117
  },
  {
   "metadata": {
    "ExecuteTime": {
     "end_time": "2024-10-21T08:01:24.376078Z",
     "start_time": "2024-10-21T08:01:24.345874Z"
    }
   },
   "cell_type": "code",
   "source": [
    "pie=(Pie(init_opts=opts.InitOpts(theme=ThemeType.DARK,width='100%',height='95vh'))\n",
    "    .add(series_name='院校数量',data_pair=school_count,\n",
    "        #rosetype='area', \n",
    "        radius=['20%','40%'],\n",
    "        center=['20%','25%'],\n",
    "        label_opts=opts.LabelOpts(formatter='{b}:{c}\\n百分占比{d}%'),\n",
    "        itemstyle_opts=itemstyle_pie,\n",
    "        )\n",
    "     .add(series_name='院校类型',data_pair=school_type_count,\n",
    "        #rosetype='area', \n",
    "        radius=['20%','40%'],\n",
    "        center=['75%','25%'],\n",
    "        label_opts=opts.LabelOpts(formatter='{b}:{c}\\n百分占比{d}%'),\n",
    "        itemstyle_opts=itemstyle_pie,\n",
    "        )\n",
    "    .add(series_name='办学类型',data_pair=found_school_count,\n",
    "        #rosetype='area', \n",
    "        radius=['20%','40%'],\n",
    "        center=['20%','72%'],\n",
    "        label_opts=opts.LabelOpts(formatter='{b}:{c}\\n百分占比{d}%'),\n",
    "        itemstyle_opts=itemstyle_pie,\n",
    "        )\n",
    "    .add(series_name='办学性质',data_pair=nature_school_count,\n",
    "        #rosetype='area', \n",
    "        radius=['20%','40%'],\n",
    "        center=['75%','72%'],\n",
    "        label_opts=opts.LabelOpts(formatter='{b}:{c}\\n百分占比{d}%'),\n",
    "        itemstyle_opts=itemstyle_pie,\n",
    "        )\n",
    "     .set_global_opts(\n",
    "         title_opts=[\n",
    "              dict(text='院校数量',top='23%',left='18%'),\n",
    "              dict(text='院校类型',top='23%',left='73%'),\n",
    "              dict(text='办学类型',top='70%',left='18%'),\n",
    "              dict(text='办学性质',top='70%',left='73%'),\n",
    "         ],\n",
    "         legend_opts=opts.LegendOpts(pos_top='5%'),\n",
    "         tooltip_opts=opts.TooltipOpts(trigger='item'),\n",
    "                      )\n",
    "   )\n",
    "pie.render('./result/需求6.html')"
   ],
   "id": "ba18704e6a33f342",
   "outputs": [
    {
     "data": {
      "text/plain": [
       "'C:\\\\Users\\\\wang\\\\Desktop\\\\pyLearn\\\\作业\\\\work_05\\\\result\\\\需求6.html'"
      ]
     },
     "execution_count": 135,
     "metadata": {},
     "output_type": "execute_result"
    }
   ],
   "execution_count": 135
  },
  {
   "metadata": {},
   "cell_type": "markdown",
   "source": [
    "# 任务3. 数据分析任务-相关性分析(工具:Seaborn)\n",
    "- 需求7: 利用中国大学综合排名2023.xlsx数据集,计算该数据集中下述字段\n",
    "排名,评分,办学层次,学科水平,办学资源,师资规模与结构,人才培养,科学研究,服务社会,高端人才,重大项目与成果,国际竞争力. 之间是否存在相关性.可使用seaborn完成"
   ],
   "id": "5032dd856cf6c897"
  },
  {
   "metadata": {
    "ExecuteTime": {
     "end_time": "2024-10-21T08:02:05.380175Z",
     "start_time": "2024-10-21T08:02:05.288830Z"
    }
   },
   "cell_type": "code",
   "source": [
    "data_2013 = pd.read_excel('./中国大学数据/中国大学综合排名2023.xlsx')\n",
    "data_2013  =data_2013.loc[:,['排名', '评分', '办学层次', '学科水平', '办学资源', '师资规模与结构', \n",
    "                            '人才培养', '科学研究', '服务社会', '高端人才', '重大项目与成果', '国际竞争力']].corr()"
   ],
   "id": "53ef140d86a0c3d6",
   "outputs": [],
   "execution_count": 136
  },
  {
   "metadata": {
    "ExecuteTime": {
     "end_time": "2024-10-21T08:07:56.241004Z",
     "start_time": "2024-10-21T08:07:55.766284Z"
    }
   },
   "cell_type": "code",
   "source": [
    "import seaborn as sns\n",
    "import matplotlib.pyplot as plt\n",
    "plt.rcParams['font.sans-serif'] = 'STsong'\n",
    "plt.figure(figsize=(12, 9))\n",
    "sns.heatmap(data=data_2013,\n",
    "            annot=True, \n",
    "            cmap='PuOr', \n",
    "            vmin=-1, \n",
    "            vmax=1, \n",
    "            center=0,\n",
    "            square=True,)\n",
    "plt.savefig('./result/需求7.jpg')"
   ],
   "id": "6568829fb811901d",
   "outputs": [
    {
     "data": {
      "text/plain": [
       "<Figure size 1200x900 with 2 Axes>"
      ],
      "image/png": "[encoded data removed]"
     },
     "metadata": {},
     "output_type": "display_data"
    }
   ],
   "execution_count": 139
  },
  {
   "metadata": {
    "ExecuteTime": {
     "end_time": "2024-10-21T09:33:35.741577Z",
     "start_time": "2024-10-21T09:33:35.733561Z"
    }
   },
   "cell_type": "code",
   "source": "school_211 = all_school.loc[all_school['层次'].apply(lambda x:'211' in str(x))]",
   "id": "57fdf9c56c306262",
   "outputs": [],
   "execution_count": 246
  },
  {
   "metadata": {
    "ExecuteTime": {
     "end_time": "2024-10-21T09:51:28.354872Z",
     "start_time": "2024-10-21T09:51:28.339841Z"
    }
   },
   "cell_type": "code",
   "source": "count_211 = school_211.groupby(by = ['年份','地区'])['学校名称'].count().reset_index()",
   "id": "5543db9e3801f0bc",
   "outputs": [],
   "execution_count": 258
  },
  {
   "metadata": {
    "ExecuteTime": {
     "end_time": "2024-10-21T09:51:35.477787Z",
     "start_time": "2024-10-21T09:51:35.465256Z"
    }
   },
   "cell_type": "code",
   "source": "count_211",
   "id": "e50d5975b2ac74ed",
   "outputs": [
    {
     "data": {
      "text/plain": [
       "       年份   地区  学校名称\n",
       "0    2015   上海     7\n",
       "1    2015  内蒙古     1\n",
       "2    2015   北京    16\n",
       "3    2015   吉林     2\n",
       "4    2015   四川     4\n",
       "..    ...  ...   ...\n",
       "289  2024   辽宁     4\n",
       "290  2024   重庆     2\n",
       "291  2024   陕西     7\n",
       "292  2024   青海     1\n",
       "293  2024  黑龙江     4\n",
       "\n",
       "[294 rows x 3 columns]"
      ],
      "text/html": [
       "<div>\n",
       "<style scoped>\n",
       "    .dataframe tbody tr th:only-of-type {\n",
       "        vertical-align: middle;\n",
       "    }\n",
       "\n",
       "    .dataframe tbody tr th {\n",
       "        vertical-align: top;\n",
       "    }\n",
       "\n",
       "    .dataframe thead th {\n",
       "        text-align: right;\n",
       "    }\n",
       "</style>\n",
       "<table border=\"1\" class=\"dataframe\">\n",
       "  <thead>\n",
       "    <tr style=\"text-align: right;\">\n",
       "      <th></th>\n",
       "      <th>年份</th>\n",
       "      <th>地区</th>\n",
       "      <th>学校名称</th>\n",
       "    </tr>\n",
       "  </thead>\n",
       "  <tbody>\n",
       "    <tr>\n",
       "      <th>0</th>\n",
       "      <td>2015</td>\n",
       "      <td>上海</td>\n",
       "      <td>7</td>\n",
       "    </tr>\n",
       "    <tr>\n",
       "      <th>1</th>\n",
       "      <td>2015</td>\n",
       "      <td>内蒙古</td>\n",
       "      <td>1</td>\n",
       "    </tr>\n",
       "    <tr>\n",
       "      <th>2</th>\n",
       "      <td>2015</td>\n",
       "      <td>北京</td>\n",
       "      <td>16</td>\n",
       "    </tr>\n",
       "    <tr>\n",
       "      <th>3</th>\n",
       "      <td>2015</td>\n",
       "      <td>吉林</td>\n",
       "      <td>2</td>\n",
       "    </tr>\n",
       "    <tr>\n",
       "      <th>4</th>\n",
       "      <td>2015</td>\n",
       "      <td>四川</td>\n",
       "      <td>4</td>\n",
       "    </tr>\n",
       "    <tr>\n",
       "      <th>...</th>\n",
       "      <td>...</td>\n",
       "      <td>...</td>\n",
       "      <td>...</td>\n",
       "    </tr>\n",
       "    <tr>\n",
       "      <th>289</th>\n",
       "      <td>2024</td>\n",
       "      <td>辽宁</td>\n",
       "      <td>4</td>\n",
       "    </tr>\n",
       "    <tr>\n",
       "      <th>290</th>\n",
       "      <td>2024</td>\n",
       "      <td>重庆</td>\n",
       "      <td>2</td>\n",
       "    </tr>\n",
       "    <tr>\n",
       "      <th>291</th>\n",
       "      <td>2024</td>\n",
       "      <td>陕西</td>\n",
       "      <td>7</td>\n",
       "    </tr>\n",
       "    <tr>\n",
       "      <th>292</th>\n",
       "      <td>2024</td>\n",
       "      <td>青海</td>\n",
       "      <td>1</td>\n",
       "    </tr>\n",
       "    <tr>\n",
       "      <th>293</th>\n",
       "      <td>2024</td>\n",
       "      <td>黑龙江</td>\n",
       "      <td>4</td>\n",
       "    </tr>\n",
       "  </tbody>\n",
       "</table>\n",
       "<p>294 rows × 3 columns</p>\n",
       "</div>"
      ]
     },
     "execution_count": 259,
     "metadata": {},
     "output_type": "execute_result"
    }
   ],
   "execution_count": 259
  },
  {
   "metadata": {
    "ExecuteTime": {
     "end_time": "2024-10-21T09:52:45.396424Z",
     "start_time": "2024-10-21T09:52:45.382424Z"
    }
   },
   "cell_type": "code",
   "source": [
    "data_pair = {}\n",
    "for i in range(2015, 2025):\n",
    "    data_pair[i] = count_211[count_211['年份'] == i][[\n",
    "        '地区', '学校名称'\n",
    "    ]].sort_values(by='学校名称',ascending=False).values.tolist()"
   ],
   "id": "7b7e30b58a5ec137",
   "outputs": [],
   "execution_count": 260
  },
  {
   "metadata": {
    "ExecuteTime": {
     "end_time": "2024-10-21T10:07:41.856263Z",
     "start_time": "2024-10-21T10:07:41.823262Z"
    }
   },
   "cell_type": "code",
   "source": [
    "timeline = Timeline()\n",
    "for i in range(2015, 2025):\n",
    "    pie = (Pie(init_opts=opts.InitOpts(theme=ThemeType.CHALK))\n",
    "    .add(series_name='历年211的数量', data_pair=data_pair[i],\n",
    "         radius=['30%','80%'], # 饼图内半径和外半径\n",
    "         center=['50%','60%'],\n",
    "         #rosetype='radius',  # 否展示成南丁格尔图\n",
    "         label_opts=opts.LabelOpts(formatter='{b}:{c}'), # 标签配置\n",
    "         itemstyle_opts=itemstyle_pie, # 图元样式配置\n",
    "         emphasis_opts=opts.EmphasisOpts( is_show_label_line=True,focus='series',\n",
    "                    label_opts=opts.LabelOpts(font_size=20,font_weight='bold')\n",
    "                                        ), #高亮多边形配置\n",
    "        )\n",
    "    .set_global_opts(tooltip_opts=opts.TooltipOpts(trigger='item'))\n",
    "      )\n",
    "    pie.options['series'][0]['padAngle'] = 1 # 设定每个饼图各个饼块之间的距离\n",
    "    timeline.add(pie,i)\n",
    "timeline.add_schema(play_interval=1000)\n",
    "timeline.render('./result/需求8.html')"
   ],
   "id": "107fac3f6509cfe1",
   "outputs": [
    {
     "data": {
      "text/plain": [
       "'C:\\\\Users\\\\wang\\\\Desktop\\\\pyLearn\\\\作业\\\\work_05\\\\result\\\\需求8.html'"
      ]
     },
     "execution_count": 280,
     "metadata": {},
     "output_type": "execute_result"
    }
   ],
   "execution_count": 280
  },
  {
   "metadata": {
    "ExecuteTime": {
     "end_time": "2024-10-21T12:00:11.025446Z",
     "start_time": "2024-10-21T12:00:11.006721Z"
    }
   },
   "cell_type": "code",
   "source": [
    "bar_itemstyle1 = {\n",
    "    'normal': {\n",
    "        'color': JsCode(\"\"\"new echarts.graphic.LinearGradient(0, 0, 1, 1, [\n",
    "          { offset: 0, color: 'rgb(49, 141, 234' },\n",
    "          { offset: 1, color: 'rgb(224, 62, 76)' }\n",
    "        ],)\"\"\"),\n",
    "        'barBorderRadius': [10,10,10,10],      #  柱子的四个角圆角设计\n",
    "        'shadowColor':'rgba(108,80,243,0.9)', # 阴影的颜色\n",
    "        'shadowBlur':5, # 阴影的宽度\n",
    "    }\n",
    "}"
   ],
   "id": "44a80549f2766498",
   "outputs": [],
   "execution_count": 28
  },
  {
   "metadata": {
    "ExecuteTime": {
     "end_time": "2024-10-21T12:00:12.630697Z",
     "start_time": "2024-10-21T12:00:12.600765Z"
    }
   },
   "cell_type": "code",
   "source": [
    "timeline = Timeline()\n",
    "for i in range(2015, 2025):\n",
    "    data = all_school[all_school['年份'] == i].sort_values(by = '排名').reset_index().loc[:20].sort_values(by = '排名', ascending=False).reset_index(drop=True)\n",
    "    bar = (\n",
    "        Bar()\n",
    "        .add_xaxis(data['学校名称'].tolist())\n",
    "        .add_yaxis(\"排名\", data['排名'].tolist(),\n",
    "                   itemstyle_opts=bar_itemstyle1)\n",
    "        .reversal_axis()\n",
    "        .set_global_opts(\n",
    "            title_opts=opts.TitleOpts(title=f\"{i}年中国大学综合排名TOP20\"),\n",
    "            xaxis_opts=opts.AxisOpts(axislabel_opts=opts.LabelOpts(rotate=-45)),\n",
    "            yaxis_opts=opts.AxisOpts(),\n",
    "        )\n",
    "    )\n",
    "    timeline.add(bar, i)\n",
    "timeline.add_schema(play_interval=1000, is_auto_play=True)\n",
    "timeline.render('./result/需求9.html')"
   ],
   "id": "ae3893da758616b3",
   "outputs": [
    {
     "data": {
      "text/plain": [
       "'C:\\\\Users\\\\wang\\\\Desktop\\\\pyLearn\\\\作业\\\\work_05\\\\result\\\\需求9.html'"
      ]
     },
     "execution_count": 29,
     "metadata": {},
     "output_type": "execute_result"
    }
   ],
   "execution_count": 29
  },
  {
   "metadata": {
    "ExecuteTime": {
     "end_time": "2024-10-21T12:07:22.006297Z",
     "start_time": "2024-10-21T12:07:21.959484Z"
    }
   },
   "cell_type": "code",
   "source": [
    "timeline = Timeline()\n",
    "for i in range(2015, 2025):\n",
    "    data = all_school[all_school['年份'] == i].sort_values(by = '排名').reset_index().loc[:20].sort_values(by = '排名', ascending=False).reset_index(drop=True)\n",
    "    pie = (Pie()\n",
    "           .add(series_name='排序饼图',data_pair=data[['学校名称','排名']].values.tolist(),\n",
    "                radius=['30%','80%'], center=['50%','60%'],\n",
    "                itemstyle_opts = itemstyle_pie,\n",
    "                rosetype='area',label_opts=opts.LabelOpts(formatter='{b}第{c}'),\n",
    "                )\n",
    "            .set_global_opts(tooltip_opts=opts.TooltipOpts(trigger='item'))\n",
    "           )\n",
    "    \n",
    "    timeline.add(pie, i)\n",
    "timeline.add_schema(play_interval=1000)\n",
    "timeline.render('./result/需求10.html')"
   ],
   "id": "da8a6d5a63d6f844",
   "outputs": [
    {
     "data": {
      "text/plain": [
       "'C:\\\\Users\\\\wang\\\\Desktop\\\\pyLearn\\\\作业\\\\work_05\\\\result\\\\需求10.html'"
      ]
     },
     "execution_count": 36,
     "metadata": {},
     "output_type": "execute_result"
    }
   ],
   "execution_count": 36
  },
  {
   "metadata": {
    "ExecuteTime": {
     "end_time": "2024-10-21T10:19:34.607298Z",
     "start_time": "2024-10-21T10:19:34.586287Z"
    }
   },
   "cell_type": "code",
   "source": [
    "import pandas as pd\n",
    "from pyecharts.charts import Map\n",
    "from pyecharts import options as opts\n",
    "dicts1 = {\n",
    "    '东北': ['黑龙江', '吉林', '辽宁'],\n",
    "    '华北': ['北京', '天津', '河北', '山西', '内蒙古'],\n",
    "    '华东': ['山东', '江苏', '安徽', '上海', '浙江', '福建', '江西'],\n",
    "    '华中': ['河南', '湖北', '湖南'],\n",
    "    '华南': ['广东', '广西', '海南'],\n",
    "    '西南': ['重庆', '四川', '云南', '贵州', '西藏'],\n",
    "    '西北': ['陕西', '甘肃', '青海', '宁夏', '新疆'],\n",
    "}\n",
    "dicts2 = {i: k for k, v in dicts1.items() for i in v}\n",
    "data_p4 = data_task2.groupby('区域')['院校名称'].count().reset_index().values.tolist()\n",
    "\n",
    "maps = (\n",
    "    Map()\n",
    "    .add(\"高校数量\", data_p4, maptype=\"china\")  # Use a valid map type\n",
    "    .set_global_opts(\n",
    "        visualmap_opts=opts.VisualMapOpts(max_=10),  # Adjust max value\n",
    "        legend_opts=opts.LegendOpts(selected_mode='single', pos_top=\"10%\")\n",
    "    )\n",
    ")\n",
    "\n",
    "maps.render()"
   ],
   "id": "c12e37d926acfa2f",
   "outputs": [
    {
     "data": {
      "text/plain": [
       "'C:\\\\Users\\\\wang\\\\Desktop\\\\pyLearn\\\\作业\\\\work_05\\\\render.html'"
      ]
     },
     "execution_count": 284,
     "metadata": {},
     "output_type": "execute_result"
    }
   ],
   "execution_count": 284
  },
  {
   "metadata": {},
   "cell_type": "raw",
   "source": "",
   "id": "9ee7e18cd8f920a1"
  }
 ],
 "metadata": {
  "kernelspec": {
   "display_name": "Python 3",
   "language": "python",
   "name": "python3"
  },
  "language_info": {
   "codemirror_mode": {
    "name": "ipython",
    "version": 2
   },
   "file_extension": ".py",
   "mimetype": "text/x-python",
   "name": "python",
   "nbconvert_exporter": "python",
   "pygments_lexer": "ipython2",
   "version": "2.7.6"
  }
 },
 "nbformat": 4,
 "nbformat_minor": 5
}
