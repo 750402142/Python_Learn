{
 "cells": [
  {
   "cell_type": "code",
   "id": "initial_id",
   "metadata": {
    "collapsed": true,
    "ExecuteTime": {
     "end_time": "2024-10-22T11:57:19.846825Z",
     "start_time": "2024-10-22T11:57:19.766213Z"
    }
   },
   "source": [
    "import pandas as pd\n",
    "import numpy as np\n",
    "import sys\n",
    "print('Python version:', sys.version)\n",
    "print('Pandas version:', pd.__version__)\n",
    "print('Numpy version:', np.__version__)\n",
    "\n",
    "from pyecharts.charts import Scatter, Timeline\n",
    "from pyecharts.globals import JsCode\n",
    "from pyecharts import options as opts\n",
    "from pyecharts.globals import ThemeType"
   ],
   "outputs": [
    {
     "name": "stdout",
     "output_type": "stream",
     "text": [
      "Python version: 3.10.9 (tags/v3.10.9:1dd9be6, Dec  6 2022, 20:01:21) [MSC v.1934 64 bit (AMD64)]\n",
      "Pandas version: 2.2.2\n",
      "Numpy version: 2.1.1\n"
     ]
    }
   ],
   "execution_count": 15
  },
  {
   "metadata": {
    "ExecuteTime": {
     "end_time": "2024-10-22T11:53:04.793865Z",
     "start_time": "2024-10-22T11:53:04.580104Z"
    }
   },
   "cell_type": "code",
   "source": "data = pd.read_excel('./中国分省GDP数据.xlsx')",
   "id": "7b546795e1f0cbb5",
   "outputs": [],
   "execution_count": 2
  },
  {
   "metadata": {
    "ExecuteTime": {
     "end_time": "2024-10-22T11:53:08.380391Z",
     "start_time": "2024-10-22T11:53:08.358478Z"
    }
   },
   "cell_type": "code",
   "source": "data.head()",
   "id": "7d3e06c40e5aa9db",
   "outputs": [
    {
     "data": {
      "text/plain": [
       "   date province      GDP\n",
       "0  2014      北京市  22926.0\n",
       "1  2014      天津市  10640.6\n",
       "2  2014      河北省  25208.9\n",
       "3  2014      山西省  12094.7\n",
       "4  2014   内蒙古自治区  12158.2"
      ],
      "text/html": [
       "<div>\n",
       "<style scoped>\n",
       "    .dataframe tbody tr th:only-of-type {\n",
       "        vertical-align: middle;\n",
       "    }\n",
       "\n",
       "    .dataframe tbody tr th {\n",
       "        vertical-align: top;\n",
       "    }\n",
       "\n",
       "    .dataframe thead th {\n",
       "        text-align: right;\n",
       "    }\n",
       "</style>\n",
       "<table border=\"1\" class=\"dataframe\">\n",
       "  <thead>\n",
       "    <tr style=\"text-align: right;\">\n",
       "      <th></th>\n",
       "      <th>date</th>\n",
       "      <th>province</th>\n",
       "      <th>GDP</th>\n",
       "    </tr>\n",
       "  </thead>\n",
       "  <tbody>\n",
       "    <tr>\n",
       "      <th>0</th>\n",
       "      <td>2014</td>\n",
       "      <td>北京市</td>\n",
       "      <td>22926.0</td>\n",
       "    </tr>\n",
       "    <tr>\n",
       "      <th>1</th>\n",
       "      <td>2014</td>\n",
       "      <td>天津市</td>\n",
       "      <td>10640.6</td>\n",
       "    </tr>\n",
       "    <tr>\n",
       "      <th>2</th>\n",
       "      <td>2014</td>\n",
       "      <td>河北省</td>\n",
       "      <td>25208.9</td>\n",
       "    </tr>\n",
       "    <tr>\n",
       "      <th>3</th>\n",
       "      <td>2014</td>\n",
       "      <td>山西省</td>\n",
       "      <td>12094.7</td>\n",
       "    </tr>\n",
       "    <tr>\n",
       "      <th>4</th>\n",
       "      <td>2014</td>\n",
       "      <td>内蒙古自治区</td>\n",
       "      <td>12158.2</td>\n",
       "    </tr>\n",
       "  </tbody>\n",
       "</table>\n",
       "</div>"
      ]
     },
     "execution_count": 3,
     "metadata": {},
     "output_type": "execute_result"
    }
   ],
   "execution_count": 3
  },
  {
   "metadata": {
    "ExecuteTime": {
     "end_time": "2024-10-22T11:56:30.027987Z",
     "start_time": "2024-10-22T11:56:30.009485Z"
    }
   },
   "cell_type": "code",
   "source": "data_2023 = data.loc[data['date'] == 2023][['province','GDP']].values.tolist()",
   "id": "6a158a0037093311",
   "outputs": [],
   "execution_count": 13
  },
  {
   "metadata": {
    "ExecuteTime": {
     "end_time": "2024-10-22T12:04:59.570946Z",
     "start_time": "2024-10-22T12:04:59.562992Z"
    }
   },
   "cell_type": "code",
   "source": [
    "itemstyle = {\n",
    "    'normal': {\n",
    "        'borderWidth':1,\n",
    "        'borderColor':JsCode(\"\"\"new echarts.graphic.LinearGradient(0, 0, 1, 1, [\n",
    "          { offset: 0, color: 'rgb(255, 191, 0)' },\n",
    "          { offset: 1, color: 'rgb(224, 62, 76)' }\n",
    "        ],)\"\"\"),\n",
    "        'shadowColor':'green',\n",
    "        'shadowBlur':1,\n",
    "    }\n",
    "}"
   ],
   "id": "32c5ed91fdab6ab7",
   "outputs": [],
   "execution_count": 22
  },
  {
   "metadata": {
    "ExecuteTime": {
     "end_time": "2024-10-22T12:15:01.299899Z",
     "start_time": "2024-10-22T12:15:01.278890Z"
    }
   },
   "cell_type": "code",
   "source": [
    "#任务一\n",
    "from pyecharts.charts import Map\n",
    "maps = (Map(init_opts=opts.InitOpts(theme=ThemeType.LIGHT))\n",
    "       .add(series_name = '全国各省2013年GDP地图的绘制',data_pair=data_2023,maptype='china',\n",
    "            is_map_symbol_show=False,is_roam=False,\n",
    "            itemstyle_opts=itemstyle,\n",
    "            zoom=1.2\n",
    "            )\n",
    "        .set_global_opts(visualmap_opts=opts.VisualMapOpts(is_piecewise=True,\n",
    "                          pieces=[\n",
    "                              {'min':80000,'color':'red'},\n",
    "                              {'min':50000,'max':79999,'color':'yellow'},\n",
    "                              {'min':30000,'max':49999,'color':'green'},\n",
    "                              {'min':10000,'max':29999,'color':'pink'},\n",
    "                              {'min':0,'max':9999,'color':'orange'}\n",
    "                          ]                            \n",
    "                                                           ))\n",
    "       )\n",
    "maps.render('./任务一.html')"
   ],
   "id": "4ac772ec19106b71",
   "outputs": [
    {
     "data": {
      "text/plain": [
       "'C:\\\\Users\\\\wang\\\\Desktop\\\\pyLearn\\\\作业\\\\分省GDP\\\\任务一.html'"
      ]
     },
     "execution_count": 34,
     "metadata": {},
     "output_type": "execute_result"
    }
   ],
   "execution_count": 34
  },
  {
   "metadata": {
    "ExecuteTime": {
     "end_time": "2024-10-22T12:30:54.298423Z",
     "start_time": "2024-10-22T12:30:54.277745Z"
    }
   },
   "cell_type": "code",
   "source": [
    "from pyecharts.charts import Map,Timeline\n",
    "timeline = Timeline()\n",
    "for year in range(2014,2024):\n",
    "    data_year = data.loc[data['date'] == year][['province','GDP']].values.tolist()\n",
    "    maps = (Map(init_opts=opts.InitOpts(theme=ThemeType.LIGHT))\n",
    "           .add(series_name = f'全国各省{year}年GDP地图的绘制',data_pair=data_year,maptype='china',\n",
    "                is_map_symbol_show=False,is_roam=False,\n",
    "                itemstyle_opts=itemstyle,\n",
    "                zoom=1.2\n",
    "                )\n",
    "            .set_global_opts(visualmap_opts=opts.VisualMapOpts(is_piecewise=True,\n",
    "                              pieces=[\n",
    "                                  {'min':80000,'color':'red'},\n",
    "                                  {'min':50000,'max':79999,'color':'yellow'},\n",
    "                                  {'min':30000,'max':49999,'color':'green'},\n",
    "                                  {'min':10000,'max':29999,'color':'pink'},\n",
    "                                  {'min':0,'max':9999,'color':'orange'}\n",
    "                              ]                            \n",
    "                                                               ),\n",
    "                             title_opts=opts.TitleOpts(title = f'全国各省{year}年GDP地图的绘制')\n",
    "                             )\n",
    "           )\n",
    "    timeline.add(maps,year)\n",
    "timeline.add_schema()\n",
    "timeline.render()"
   ],
   "id": "81c06e7abb3a028d",
   "outputs": [
    {
     "data": {
      "text/plain": [
       "'C:\\\\Users\\\\wang\\\\Desktop\\\\pyLearn\\\\作业\\\\分省GDP\\\\render.html'"
      ]
     },
     "execution_count": 38,
     "metadata": {},
     "output_type": "execute_result"
    }
   ],
   "execution_count": 38
  },
  {
   "metadata": {},
   "cell_type": "code",
   "outputs": [],
   "execution_count": null,
   "source": "",
   "id": "1cabc04fa51bfeea"
  }
 ],
 "metadata": {
  "kernelspec": {
   "display_name": "Python 3",
   "language": "python",
   "name": "python3"
  },
  "language_info": {
   "codemirror_mode": {
    "name": "ipython",
    "version": 2
   },
   "file_extension": ".py",
   "mimetype": "text/x-python",
   "name": "python",
   "nbconvert_exporter": "python",
   "pygments_lexer": "ipython2",
   "version": "2.7.6"
  }
 },
 "nbformat": 4,
 "nbformat_minor": 5
}
