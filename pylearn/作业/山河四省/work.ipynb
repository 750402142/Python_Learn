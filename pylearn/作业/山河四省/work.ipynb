{
 "cells": [
  {
   "cell_type": "code",
   "id": "initial_id",
   "metadata": {
    "collapsed": true,
    "ExecuteTime": {
     "end_time": "2024-10-22T12:38:42.330981Z",
     "start_time": "2024-10-22T12:38:41.951241Z"
    }
   },
   "source": [
    "import pandas as pd\n",
    "import numpy as np\n",
    "import sys\n",
    "print('Python version:', sys.version)\n",
    "print('Pandas version:', pd.__version__)\n",
    "print('Numpy version:', np.__version__)\n",
    "\n",
    "from pyecharts.charts import Scatter, Timeline\n",
    "from pyecharts.globals import JsCode\n",
    "from pyecharts import options as opts\n",
    "from pyecharts.globals import ThemeType"
   ],
   "outputs": [
    {
     "name": "stdout",
     "output_type": "stream",
     "text": [
      "Python version: 3.10.9 (tags/v3.10.9:1dd9be6, Dec  6 2022, 20:01:21) [MSC v.1934 64 bit (AMD64)]\n",
      "Pandas version: 2.2.2\n",
      "Numpy version: 2.1.1\n"
     ]
    }
   ],
   "execution_count": 1
  },
  {
   "metadata": {
    "ExecuteTime": {
     "end_time": "2024-10-22T13:36:19.989837Z",
     "start_time": "2024-10-22T13:36:19.952489Z"
    }
   },
   "cell_type": "code",
   "source": "data = pd.read_excel('./中国分省GDP数据.xlsx')",
   "id": "db7681a7d1854a01",
   "outputs": [],
   "execution_count": 44
  },
  {
   "metadata": {
    "ExecuteTime": {
     "end_time": "2024-10-22T12:46:08.746581Z",
     "start_time": "2024-10-22T12:46:08.695351Z"
    }
   },
   "cell_type": "code",
   "source": [
    "from pyecharts.globals import CurrentConfig  # 加载全局配置\n",
    "CurrentConfig.ONLINE_HOST = \"http://127.0.0.1:8000/assets/\"  # 设定静态资源地址\n",
    "from pyecharts.datasets import register_url  # 部分地图文件注册\n",
    "# 注册本地服务器的地图数据源\n",
    "register_url(\"http://127.0.0.1:8000/\") "
   ],
   "id": "dda3ced7675bbd7a",
   "outputs": [],
   "execution_count": 4
  },
  {
   "metadata": {
    "ExecuteTime": {
     "end_time": "2024-10-22T13:25:16.698969Z",
     "start_time": "2024-10-22T13:25:16.684873Z"
    }
   },
   "cell_type": "code",
   "source": [
    "import json\n",
    "import os\n",
    "filenames = os.listdir('./maps/')\n",
    "shss = {'type': 'FeatureCollection','features':[]}\n",
    "for i in filenames:\n",
    "    with open(f\"./maps/{i}\",'r',encoding='utf-8') as f:\n",
    "        data = json.loads(f.read())\n",
    "        shss['features'].append(data)"
   ],
   "id": "bd8c2c0968b1f1a3",
   "outputs": [],
   "execution_count": 17
  },
  {
   "metadata": {
    "ExecuteTime": {
     "end_time": "2024-10-22T13:25:40.608634Z",
     "start_time": "2024-10-22T13:25:40.586937Z"
    }
   },
   "cell_type": "code",
   "source": [
    "target_data = \"\"\"{\n",
    "        \"type\": \"FeatureCollection\",\n",
    "        \"features\": []}\"\"\"\n",
    "target_data = json.loads(target_data)\n",
    "list_region = os.listdir('./maps/')\n",
    "name_list = []\n",
    "for lr in list_region:\n",
    "    with open(f\"./maps/{lr}\", 'r', encoding='utf-8') as f:\n",
    "        temp = json.load(f)\n",
    "        temp = temp['features']\n",
    "        for tp in temp:\n",
    "            name = tp['properties']['name']\n",
    "            # 将area加入tp节点并传入target_data\n",
    "            tp['properties']['area'] = '山河四省'\n",
    "            target_data['features'].append(tp)\n",
    "            name_list.append((name, np.random.randint(100, 5000)))"
   ],
   "id": "2db5cb6ea3241c81",
   "outputs": [],
   "execution_count": 18
  },
  {
   "metadata": {
    "ExecuteTime": {
     "end_time": "2024-10-22T13:26:56.424210Z",
     "start_time": "2024-10-22T13:26:56.385942Z"
    }
   },
   "cell_type": "code",
   "source": [
    "from pyecharts.charts import Map\n",
    "maps = Map(init_opts=opts.InitOpts(theme='light',\n",
    "                                      width='1000px',\n",
    "                                      height='600px'))\n",
    "maps.add_js_funcs(f\"echarts.registerMap('山河四省', {target_data});\")\n",
    "# 引用添加的地图\n",
    "maps.add(\"山河四省\",[('河南省',100)],maptype='山河四省')\n",
    "maps.render()"
   ],
   "id": "58bdea5ba249f5f1",
   "outputs": [
    {
     "data": {
      "text/plain": [
       "'C:\\\\Users\\\\wang\\\\Desktop\\\\pyLearn\\\\作业\\\\山河四省\\\\render.html'"
      ]
     },
     "execution_count": 20,
     "metadata": {},
     "output_type": "execute_result"
    }
   ],
   "execution_count": 20
  },
  {
   "metadata": {
    "ExecuteTime": {
     "end_time": "2024-10-22T13:30:28.874355Z",
     "start_time": "2024-10-22T13:30:28.855675Z"
    }
   },
   "cell_type": "code",
   "source": [
    "dicts = {\n",
    "    '华东':['上海市','江苏省','浙江省','安徽省','福建省','江西省','山东省','台湾省'],\n",
    "    '华南':['广东省','广西壮族自治区','海南省','香港特别行政区','澳门特别行政区'],\n",
    "    '华北':['北京市','天津市','河北省','山西省','内蒙古自治区'],\n",
    "    '华中':['河南省','湖北省','湖南省'],\n",
    "    '西南':['重庆市','四川省','贵州省','云南省','西藏自治区'],\n",
    "    '西北':['陕西省','甘肃省','青海省','宁夏回族自治区','新疆维吾尔自治区'],\n",
    "    '东北':['辽宁省','吉林省','黑龙江省']\n",
    "}\n",
    "dicts2 = {}\n",
    "for k,v in dicts.items():\n",
    "    dicts2.update({i:k for i in v})"
   ],
   "id": "9586836ea5615902",
   "outputs": [],
   "execution_count": 21
  },
  {
   "metadata": {
    "ExecuteTime": {
     "end_time": "2024-10-22T13:49:15.223773Z",
     "start_time": "2024-10-22T13:49:15.205298Z"
    }
   },
   "cell_type": "code",
   "source": "data['province'] = data['province'].map(dicts2)",
   "id": "a680d39254a294f9",
   "outputs": [],
   "execution_count": 56
  },
  {
   "metadata": {
    "ExecuteTime": {
     "end_time": "2024-10-22T13:37:32.205600Z",
     "start_time": "2024-10-22T13:37:32.202448Z"
    }
   },
   "cell_type": "code",
   "source": [
    "itemstyle = {\n",
    "    'normal': {\n",
    "        'borderWidth':1,\n",
    "        'borderColor':JsCode(\"\"\"new echarts.graphic.LinearGradient(0, 0, 1, 1, [\n",
    "          { offset: 0, color: 'rgb(255, 191, 0)' },\n",
    "          { offset: 1, color: 'rgb(224, 62, 76)' }\n",
    "        ],)\"\"\"),\n",
    "        'shadowColor':'green',\n",
    "        'shadowBlur':1,\n",
    "    }\n",
    "}"
   ],
   "id": "914297865e1a5c35",
   "outputs": [],
   "execution_count": 47
  },
  {
   "metadata": {
    "ExecuteTime": {
     "end_time": "2024-10-22T13:53:07.366203Z",
     "start_time": "2024-10-22T13:53:07.323197Z"
    }
   },
   "cell_type": "code",
   "source": [
    "from pyecharts.charts import Map,Timeline\n",
    "timeline = Timeline()\n",
    "for year in range(2014,2024):\n",
    "    data_year = data.loc[data['date'] == year].groupby(by = 'province')['GDP'].sum().reset_index().values.tolist()\n",
    "    maps = (Map(init_opts=opts.InitOpts(theme=ThemeType.LIGHT))\n",
    "           .add(series_name = f'七大区{year}年GDP地图的绘制',data_pair=data_year,maptype='中国七大区',\n",
    "                is_map_symbol_show=False,is_roam=False,\n",
    "                itemstyle_opts=itemstyle,\n",
    "                zoom=1.2\n",
    "                )\n",
    "            .set_global_opts(visualmap_opts=opts.VisualMapOpts(is_piecewise=True,\n",
    "                             pieces=[\n",
    "                                 {'min':300000,'color':'red'},\n",
    "                              {'min':200000,'max':299999,'color':'yellow'},\n",
    "                              {'min':100000,'max':199999,'color':'green'},\n",
    "                              {'min':50000,'max':99999,'color':'pink'},\n",
    "                              {'min':0,'max':49999,'color':'orange'}\n",
    "                          ]),\n",
    "                             title_opts=opts.TitleOpts(title = f'七大区{year}年GDP地图的绘制')\n",
    "                             )\n",
    "           )\n",
    "    timeline.add(maps,year)\n",
    "timeline.add_schema()\n",
    "timeline.render()"
   ],
   "id": "136bf05e65ad5cdf",
   "outputs": [
    {
     "data": {
      "text/plain": [
       "'C:\\\\Users\\\\wang\\\\Desktop\\\\pyLearn\\\\作业\\\\山河四省\\\\render.html'"
      ]
     },
     "execution_count": 61,
     "metadata": {},
     "output_type": "execute_result"
    }
   ],
   "execution_count": 61
  },
  {
   "metadata": {
    "ExecuteTime": {
     "end_time": "2024-10-22T13:50:52.911111Z",
     "start_time": "2024-10-22T13:50:52.891632Z"
    }
   },
   "cell_type": "code",
   "source": "data[data['date'] == 2023].groupby(by = 'province')['GDP'].sum().reset_index().values.tolist()",
   "id": "3a38bbb8bc77564",
   "outputs": [
    {
     "data": {
      "text/plain": [
       "[['东北', 59624.5],\n",
       " ['华东', 483668.6],\n",
       " ['华中', 164948.9],\n",
       " ['华北', 154767.3],\n",
       " ['华南', 170426.80000000002],\n",
       " ['西北', 73889.9],\n",
       " ['西南', 143605.8]]"
      ]
     },
     "execution_count": 60,
     "metadata": {},
     "output_type": "execute_result"
    }
   ],
   "execution_count": 60
  },
  {
   "metadata": {},
   "cell_type": "code",
   "outputs": [],
   "execution_count": null,
   "source": "",
   "id": "430d5bc111e809"
  }
 ],
 "metadata": {
  "kernelspec": {
   "display_name": "Python 3",
   "language": "python",
   "name": "python3"
  },
  "language_info": {
   "codemirror_mode": {
    "name": "ipython",
    "version": 2
   },
   "file_extension": ".py",
   "mimetype": "text/x-python",
   "name": "python",
   "nbconvert_exporter": "python",
   "pygments_lexer": "ipython2",
   "version": "2.7.6"
  }
 },
 "nbformat": 4,
 "nbformat_minor": 5
}
