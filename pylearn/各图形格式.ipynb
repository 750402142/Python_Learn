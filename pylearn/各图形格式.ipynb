{
 "cells": [
  {
   "cell_type": "code",
   "execution_count": null,
   "id": "initial_id",
   "metadata": {
    "collapsed": true
   },
   "outputs": [],
   "source": [
    "#饼图\n",
    "itemstyle_pie = {\n",
    "    'normal': {\n",
    "        'borderRadius':15,\n",
    "        'borderWidth':.5,\n",
    "        'borderColor':'auto',\n",
    "    }\n",
    "}"
   ]
  },
  {
   "metadata": {},
   "cell_type": "code",
   "outputs": [],
   "execution_count": null,
   "source": [
    "# 柱状图\n",
    "itemstyle = {\n",
    "    'normal': {\n",
    "        'color': JsCode(\"\"\"new echarts.graphic.LinearGradient(0, 0, 1, 1, [\n",
    "          { offset: 0, color: 'rgb(255, 191, 0)' },\n",
    "          { offset: 1, color: 'rgb(224, 62, 76)' }\n",
    "        ],)\"\"\"),\n",
    "        'barBorderRadius': [20,20,20,20],      #  柱子的四个角圆角设计\n",
    "        'shadowColor':'rgba(108,80,243,0.9)', # 阴影的颜色\n",
    "        'shadowBlur':5, # 阴影的宽度\n",
    "        'width': 4,\n",
    "    }\n",
    "}"
   ],
   "id": "94d0d07280470452"
  }
 ],
 "metadata": {
  "kernelspec": {
   "display_name": "Python 3",
   "language": "python",
   "name": "python3"
  },
  "language_info": {
   "codemirror_mode": {
    "name": "ipython",
    "version": 2
   },
   "file_extension": ".py",
   "mimetype": "text/x-python",
   "name": "python",
   "nbconvert_exporter": "python",
   "pygments_lexer": "ipython2",
   "version": "2.7.6"
  }
 },
 "nbformat": 4,
 "nbformat_minor": 5
}
