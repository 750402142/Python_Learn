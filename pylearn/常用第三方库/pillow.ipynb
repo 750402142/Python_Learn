{
 "cells": [
  {
   "cell_type": "code",
   "id": "initial_id",
   "metadata": {
    "collapsed": true,
    "ExecuteTime": {
     "end_time": "2024-10-26T12:22:48.711644Z",
     "start_time": "2024-10-26T12:22:48.695812Z"
    }
   },
   "source": "from PIL import Image",
   "outputs": [],
   "execution_count": 1
  },
  {
   "metadata": {
    "ExecuteTime": {
     "end_time": "2024-10-26T12:24:59.255179Z",
     "start_time": "2024-10-26T12:24:59.239835Z"
    }
   },
   "cell_type": "code",
   "source": "im = Image.open(\"任务2.png\")",
   "id": "7962364971067d5e",
   "outputs": [],
   "execution_count": 5
  },
  {
   "metadata": {
    "ExecuteTime": {
     "end_time": "2024-10-26T13:09:17.603808Z",
     "start_time": "2024-10-26T13:09:17.598282Z"
    }
   },
   "cell_type": "code",
   "source": [
    "# 获得图片的尺寸\n",
    "w,h = im.size"
   ],
   "id": "406f3b4d13a48e96",
   "outputs": [],
   "execution_count": 6
  },
  {
   "metadata": {
    "ExecuteTime": {
     "end_time": "2024-10-26T13:09:21.248512Z",
     "start_time": "2024-10-26T13:09:21.242084Z"
    }
   },
   "cell_type": "code",
   "source": "w,h",
   "id": "225c7b87c47000d0",
   "outputs": [
    {
     "data": {
      "text/plain": [
       "(1215, 675)"
      ]
     },
     "execution_count": 7,
     "metadata": {},
     "output_type": "execute_result"
    }
   ],
   "execution_count": 7
  },
  {
   "metadata": {
    "ExecuteTime": {
     "end_time": "2024-10-26T13:10:40.657276Z",
     "start_time": "2024-10-26T13:10:40.634431Z"
    }
   },
   "cell_type": "code",
   "source": [
    "# 对图像进行缩放\n",
    "w,h = im.thumbnail((w//2,h//2))"
   ],
   "id": "39d32144ebba39f7",
   "outputs": [],
   "execution_count": 10
  },
  {
   "metadata": {
    "ExecuteTime": {
     "end_time": "2024-10-26T13:20:43.589226Z",
     "start_time": "2024-10-26T13:20:43.585475Z"
    }
   },
   "cell_type": "code",
   "source": "w,h",
   "id": "73a1f7e9f6cbd7b5",
   "outputs": [
    {
     "data": {
      "text/plain": [
       "(1215, 675)"
      ]
     },
     "execution_count": 19,
     "metadata": {},
     "output_type": "execute_result"
    }
   ],
   "execution_count": 19
  },
  {
   "metadata": {
    "ExecuteTime": {
     "end_time": "2024-10-26T13:21:44.286704Z",
     "start_time": "2024-10-26T13:21:44.283588Z"
    }
   },
   "cell_type": "code",
   "source": " im = im.convert('RGB')",
   "id": "a123ff00cd64fef8",
   "outputs": [],
   "execution_count": 21
  },
  {
   "metadata": {
    "ExecuteTime": {
     "end_time": "2024-10-26T13:21:47.064655Z",
     "start_time": "2024-10-26T13:21:47.057021Z"
    }
   },
   "cell_type": "code",
   "source": [
    "# 将缩放后的图像用jpg格式保存\n",
    "im.save('thumbnail.jpg','jpeg')"
   ],
   "id": "bd0831b27d4a998e",
   "outputs": [],
   "execution_count": 22
  },
  {
   "metadata": {
    "ExecuteTime": {
     "end_time": "2024-10-26T13:21:57.712418Z",
     "start_time": "2024-10-26T13:21:57.709448Z"
    }
   },
   "cell_type": "code",
   "source": "im.size",
   "id": "b61b52b598c7f07f",
   "outputs": [
    {
     "data": {
      "text/plain": [
       "(607, 337)"
      ]
     },
     "execution_count": 23,
     "metadata": {},
     "output_type": "execute_result"
    }
   ],
   "execution_count": 23
  },
  {
   "metadata": {},
   "cell_type": "raw",
   "source": "随机得到验证码图片",
   "id": "1e9dda0d6ad2aa0d"
  },
  {
   "metadata": {
    "ExecuteTime": {
     "end_time": "2024-10-26T13:27:24.883489Z",
     "start_time": "2024-10-26T13:27:24.855443Z"
    }
   },
   "cell_type": "code",
   "source": [
    "from PIL import Image, ImageDraw, ImageFont, ImageFilter\n",
    "\n",
    "import random\n",
    "\n",
    "# 随机字母:\n",
    "def rndChar():\n",
    "    return chr(random.randint(65, 90))\n",
    "\n",
    "# 随机颜色1:\n",
    "def rndColor():\n",
    "    return (random.randint(64, 255), random.randint(64, 255), random.randint(64, 255))\n",
    "\n",
    "# 随机颜色2:\n",
    "def rndColor2():\n",
    "    return (random.randint(32, 127), random.randint(32, 127), random.randint(32, 127))\n",
    "\n",
    "# 240 x 60:\n",
    "width = 60 * 4\n",
    "height = 60\n",
    "image = Image.new('RGB', (width, height), (255, 255, 255))\n",
    "# 创建Font对象:\n",
    "font = ImageFont.truetype('arial.ttf', 36)\n",
    "# 创建Draw对象:\n",
    "draw = ImageDraw.Draw(image)\n",
    "# 填充每个像素:\n",
    "for x in range(width):\n",
    "    for y in range(height):\n",
    "        draw.point((x, y), fill=rndColor())\n",
    "# 输出文字:\n",
    "for t in range(4):\n",
    "    draw.text((60 * t + 10, 10), rndChar(), font=font, fill=rndColor2())\n",
    "# 模糊:\n",
    "image = image.filter(ImageFilter.BLUR)\n",
    "image.save('./result/code.jpg', 'jpeg')"
   ],
   "id": "eb494a4093a3ec3e",
   "outputs": [],
   "execution_count": 25
  },
  {
   "metadata": {
    "ExecuteTime": {
     "end_time": "2024-10-26T13:31:25.324988Z",
     "start_time": "2024-10-26T13:31:25.320471Z"
    }
   },
   "cell_type": "code",
   "source": "chr(66)",
   "id": "bbf49765eb36ab45",
   "outputs": [
    {
     "data": {
      "text/plain": [
       "'B'"
      ]
     },
     "execution_count": 26,
     "metadata": {},
     "output_type": "execute_result"
    }
   ],
   "execution_count": 26
  },
  {
   "metadata": {},
   "cell_type": "code",
   "outputs": [],
   "execution_count": null,
   "source": "",
   "id": "cc36ede9caef18d9"
  }
 ],
 "metadata": {
  "kernelspec": {
   "display_name": "Python 3",
   "language": "python",
   "name": "python3"
  },
  "language_info": {
   "codemirror_mode": {
    "name": "ipython",
    "version": 2
   },
   "file_extension": ".py",
   "mimetype": "text/x-python",
   "name": "python",
   "nbconvert_exporter": "python",
   "pygments_lexer": "ipython2",
   "version": "2.7.6"
  }
 },
 "nbformat": 4,
 "nbformat_minor": 5
}
