{
 "cells": [
  {
   "cell_type": "code",
   "execution_count": 13,
   "id": "32ffb21a-ffef-4d1f-905c-2fda3a485544",
   "metadata": {},
   "outputs": [
    {
     "name": "stdout",
     "output_type": "stream",
     "text": [
      "93326215443944152681699238856266700490715968264381621468592963895217599993229915608941463976156518286253697920827223758251185210916864000000000000000000000000\n"
     ]
    },
    {
     "data": {
      "text/plain": [
       "93326215443944152681699238856266700490715968264381621468592963895217599993229915608941463976156518286253697920827223758251185210916864000000000000000000000000"
      ]
     },
     "execution_count": 13,
     "metadata": {},
     "output_type": "execute_result"
    }
   ],
   "source": [
    "#计算100的阶乘\n",
    "sum = 1\n",
    "for i in range(1,101):\n",
    "    sum *= i\n",
    "print(sum)\n",
    "\n",
    "#reduce函数的使用\n",
    "from functools import reduce \n",
    "reduce(lambda x,y:x*y, range(1,101))"
   ]
  },
  {
   "cell_type": "markdown",
   "id": "b81d202b-bf8c-42ad-a3a8-408bb37c3044",
   "metadata": {},
   "source": [
    "###迭代器\n",
    "表示数据流的对象,每次只返回一个元素"
   ]
  },
  {
   "cell_type": "code",
   "execution_count": 21,
   "id": "d0b367b5-f558-4438-8a41-47a9738e6072",
   "metadata": {},
   "outputs": [
    {
     "data": {
      "text/plain": [
       "[1, 32, 243, 1024, 3125, 7776, 16807, 32768, 59049, 100000]"
      ]
     },
     "execution_count": 21,
     "metadata": {},
     "output_type": "execute_result"
    }
   ],
   "source": [
    "import itertools\n",
    "def expensice_func(x):\n",
    "    return x**5\n",
    "data = range(1,100)\n",
    "\n",
    "result = map(expensice_func,data)\n",
    "list(itertools.islice(result,10))"
   ]
  },
  {
   "cell_type": "code",
   "execution_count": null,
   "id": "ca1c42db-9564-4a90-92b8-262b12b4642d",
   "metadata": {},
   "outputs": [],
   "source": []
  }
 ],
 "metadata": {
  "kernelspec": {
   "display_name": "Python 3 (ipykernel)",
   "language": "python",
   "name": "python3"
  },
  "language_info": {
   "codemirror_mode": {
    "name": "ipython",
    "version": 3
   },
   "file_extension": ".py",
   "mimetype": "text/x-python",
   "name": "python",
   "nbconvert_exporter": "python",
   "pygments_lexer": "ipython3",
   "version": "3.12.4"
  }
 },
 "nbformat": 4,
 "nbformat_minor": 5
}
