{
 "cells": [
  {
   "cell_type": "code",
   "execution_count": 7,
   "id": "59b73b4d-746e-4b2e-a655-2cc366630808",
   "metadata": {},
   "outputs": [
    {
     "name": "stdout",
     "output_type": "stream",
     "text": [
      "hellp world\n"
     ]
    }
   ],
   "source": [
    "print(\"hellp world\")"
   ]
  },
  {
   "attachments": {},
   "cell_type": "markdown",
   "id": "7dfd96f4-65b6-4174-9079-aa6eb6acac58",
   "metadata": {},
   "source": [
    "# 学习\n",
    "\n",
    "![picture1](./picture1.png)\n",
    "\n",
    "$P1(x0) = y0P1(x1) = y1$\n",
    "|姓名|年龄|\n",
    "|---|---|\n",
    "|王尹|10|\n",
    "\n",
    "\n",
    "\n"
   ]
  },
  {
   "cell_type": "code",
   "execution_count": 10,
   "id": "40171868-e914-4784-baf1-8e9e4610ed8e",
   "metadata": {},
   "outputs": [
    {
     "name": "stdout",
     "output_type": "stream",
     "text": [
      "['Python', 'is', 'best', 'language', 'in', 'the', 'World']\n"
     ]
    }
   ],
   "source": [
    "\n",
    "str= \"Python is best language in the World\"#生成一个列表\n",
    "print(str.split(\" \"))"
   ]
  },
  {
   "cell_type": "code",
   "execution_count": null,
   "id": "d6edbd3d-80aa-4e86-9daf-5a3dc99bfacb",
   "metadata": {},
   "outputs": [],
   "source": []
  }
 ],
 "metadata": {
  "kernelspec": {
   "display_name": "Python 3 (ipykernel)",
   "language": "python",
   "name": "python3"
  },
  "language_info": {
   "codemirror_mode": {
    "name": "ipython",
    "version": 3
   },
   "file_extension": ".py",
   "mimetype": "text/x-python",
   "name": "python",
   "nbconvert_exporter": "python",
   "pygments_lexer": "ipython3",
   "version": "3.12.4"
  }
 },
 "nbformat": 4,
 "nbformat_minor": 5
}
