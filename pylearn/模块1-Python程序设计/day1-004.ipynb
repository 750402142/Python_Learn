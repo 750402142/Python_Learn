{
 "cells": [
  {
   "cell_type": "code",
   "execution_count": 1,
   "id": "0906c6ac-d07d-4569-91c7-4941a12e9e28",
   "metadata": {},
   "outputs": [
    {
     "name": "stdout",
     "output_type": "stream",
     "text": [
      "王尹\n",
      "htu\n",
      "新乡市\n"
     ]
    }
   ],
   "source": [
    "name = \"王尹\"  \n",
    "school  = \"htu\"\n",
    "address = \"新乡市\"#地址\n",
    "\n",
    "print(name)\n",
    "print(school)\n",
    "print(address)"
   ]
  },
  {
   "cell_type": "code",
   "execution_count": 5,
   "id": "afe19ee9-6f4d-43c4-a8ec-57f2876ad8a4",
   "metadata": {},
   "outputs": [
    {
     "data": {
      "text/plain": [
       "'C:\\\\Users\\\\wang\\\\Desktop\\\\pyLearn\\\\模块1-Python程序设计\\\\render.html'"
      ]
     },
     "execution_count": 5,
     "metadata": {},
     "output_type": "execute_result"
    }
   ],
   "source": [
    "from pyecharts.charts import Line\n",
    "\n",
    "line = Line()\n",
    "line.add_xaxis([\"今天\",\"明天\"])\n",
    "line.add_yaxis(\"任务量\",[10,20])\n",
    "line.render()"
   ]
  },
  {
   "cell_type": "code",
   "execution_count": 11,
   "id": "b5e504ac-d9bd-4b4a-92cc-bc1412bf5cb6",
   "metadata": {
    "scrolled": true
   },
   "outputs": [
    {
     "name": "stdout",
     "output_type": "stream",
     "text": [
      "大学\n",
      "平原湖校区\n",
      "学大范师南河\n",
      "河南师范大学平原湖\n"
     ]
    }
   ],
   "source": [
    "address = \"河南师范大学平原湖校区\"\n",
    "print(address[4:6])\n",
    "print(address[6:])\n",
    "print(address[5::-1])\n",
    "print(address[:-2])"
   ]
  },
  {
   "cell_type": "code",
   "execution_count": null,
   "id": "5ee831a4-51e0-48f9-9453-c24724a8b652",
   "metadata": {},
   "outputs": [],
   "source": [
    "str = \"python is best language best in the World\"\n",
    "print(str.center(80,'-'))\n"
   ]
  }
 ],
 "metadata": {
  "kernelspec": {
   "display_name": "Python 3 (ipykernel)",
   "language": "python",
   "name": "python3"
  },
  "language_info": {
   "codemirror_mode": {
    "name": "ipython",
    "version": 3
   },
   "file_extension": ".py",
   "mimetype": "text/x-python",
   "name": "python",
   "nbconvert_exporter": "python",
   "pygments_lexer": "ipython3",
   "version": "3.12.4"
  }
 },
 "nbformat": 4,
 "nbformat_minor": 5
}
