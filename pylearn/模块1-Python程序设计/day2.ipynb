{
 "cells": [
  {
   "cell_type": "code",
   "execution_count": 1,
   "id": "2656e4ff-262e-493e-804a-7ad97aa2b724",
   "metadata": {},
   "outputs": [
    {
     "name": "stdout",
     "output_type": "stream",
     "text": [
      "12\n"
     ]
    }
   ],
   "source": [
    "'''\n",
    "试验多行注释\n",
    "'''\n",
    "print(12)"
   ]
  },
  {
   "cell_type": "code",
   "execution_count": 22,
   "id": "0ccdaa06-f0b8-494d-87a0-6d35c1652d8d",
   "metadata": {},
   "outputs": [
    {
     "name": "stdout",
     "output_type": "stream",
     "text": [
      "0 10\n",
      "1 20\n",
      "2 30\n"
     ]
    }
   ],
   "source": [
    "list = [10,20,30]\n",
    "for index,i in enumerate(list):#index快速遍历,enumerate\n",
    "    print(index,i)\n",
    "\n"
   ]
  },
  {
   "cell_type": "code",
   "execution_count": 20,
   "id": "0c33192f-d5cf-48ae-bbf1-3977f201ed00",
   "metadata": {},
   "outputs": [
    {
     "name": "stdout",
     "output_type": "stream",
     "text": [
      "[(4, 8), (16, 64), (36, 216), (64, 512), (100, 1000)]\n",
      "{1: (1, 1), 3: (9, 27), 5: (25, 125), 7: (49, 343), 9: (81, 729)}\n"
     ]
    }
   ],
   "source": [
    "list = []\n",
    "for i in range(2,11,2):\n",
    "    list.append((i*i,i*i*i))\n",
    "print(list)\n",
    "dict = {}\n",
    "for i in range(1,11,2):\n",
    "    dict[i] = (i*i,i*i*i)\n",
    "print(dict)\n"
   ]
  },
  {
   "cell_type": "code",
   "execution_count": 42,
   "id": "f036f6b9-c1c9-4950-a639-25bad952de54",
   "metadata": {},
   "outputs": [
    {
     "ename": "TypeError",
     "evalue": "'set' object is not callable",
     "output_type": "error",
     "traceback": [
      "\u001b[1;31m---------------------------------------------------------------------------\u001b[0m",
      "\u001b[1;31mTypeError\u001b[0m                                 Traceback (most recent call last)",
      "Cell \u001b[1;32mIn[42], line 6\u001b[0m\n\u001b[0;32m      1\u001b[0m strs \u001b[38;5;241m=\u001b[39m  \u001b[38;5;124m\"\"\"\u001b[39m\n\u001b[0;32m      2\u001b[0m \u001b[38;5;124mCertainly! Here\u001b[39m\u001b[38;5;124m'\u001b[39m\u001b[38;5;124ms a short English passage for you:\u001b[39m\n\u001b[0;32m      3\u001b[0m \u001b[38;5;124mIn the tranquility of the early morning, the sun gently caressed the dew-kissed petals of the roses in the garden. A soft breeze whispered through the trees, carrying the sweet scent of blooming jasmine. The world was awakening to a symphony of birdsong, each note a testament to the beauty of a new day. The vibrant hues of the sky painted a picture of hope and promise, as the first light of dawn broke through the darkness, heralding the arrival of a day filled with endless possibilities.\u001b[39m\n\u001b[0;32m      4\u001b[0m \u001b[38;5;124m\"\"\"\u001b[39m\n\u001b[0;32m      5\u001b[0m new_strs\u001b[38;5;241m=\u001b[39m strs\u001b[38;5;241m.\u001b[39msplit()\n\u001b[1;32m----> 6\u001b[0m sets \u001b[38;5;241m=\u001b[39m \u001b[38;5;28mset\u001b[39m(new_strs)\n\u001b[0;32m      7\u001b[0m \u001b[38;5;28mdict\u001b[39m \u001b[38;5;241m=\u001b[39m {}\n\u001b[0;32m      8\u001b[0m \u001b[38;5;28;01mfor\u001b[39;00m sett \u001b[38;5;129;01min\u001b[39;00m sets:\n",
      "\u001b[1;31mTypeError\u001b[0m: 'set' object is not callable"
     ]
    }
   ],
   "source": [
    "strs =  \"\"\"\n",
    "Certainly! Here's a short English passage for you:\n",
    "In the tranquility of the early morning, the sun gently caressed the dew-kissed petals of the roses in the garden. A soft breeze whispered through the trees, carrying the sweet scent of blooming jasmine. The world was awakening to a symphony of birdsong, each note a testament to the beauty of a new day. The vibrant hues of the sky painted a picture of hope and promise, as the first light of dawn broke through the darkness, heralding the arrival of a day filled with endless possibilities.\n",
    "\"\"\"\n",
    "new_strs= strs.split()\n",
    "sets = set(new_strs)\n",
    "dict = {}\n",
    "for sett in sets:\n",
    "    count = 0\n",
    "    for str in new_strs:\n",
    "        if str == sett:\n",
    "            count += 1\n",
    "    dict[sett] = count\n",
    "print(dict)"
   ]
  },
  {
   "cell_type": "code",
   "execution_count": 52,
   "id": "87cbd0b1-c9df-4fa3-b083-78ee72f4ede7",
   "metadata": {},
   "outputs": [
    {
     "data": {
      "text/plain": [
       "[]"
      ]
     },
     "execution_count": 52,
     "metadata": {},
     "output_type": "execute_result"
    }
   ],
   "source": [
    "import collections\n",
    "strs =  \"\"\"\n",
    "Certainly! Here's a short English passage for you:\n",
    "In the tranquility of the early morning, the sun gently caressed the dew-kissed petals of the roses in the garden. A soft breeze whispered through the trees, carrying the sweet scent of blooming jasmine. The world was awakening to a symphony of birdsong, each note a testament to the beauty of a new day. The vibrant hues of the sky painted a picture of hope and promise, as the first light of dawn broke through the darkness, heralding the arrival of a day filled with endless possibilities.\n",
    "\"\"\"\n",
    "words = strs.lower().split(\" \")\n",
    "\n",
    "[i for i in collections.Counter(words).most_common() if len(i)>=3]"
   ]
  },
  {
   "cell_type": "code",
   "execution_count": null,
   "id": "f9d60c28-17b8-4b0c-896c-c9aa8997759f",
   "metadata": {},
   "outputs": [],
   "source": []
  }
 ],
 "metadata": {
  "kernelspec": {
   "display_name": "Python 3 (ipykernel)",
   "language": "python",
   "name": "python3"
  },
  "language_info": {
   "codemirror_mode": {
    "name": "ipython",
    "version": 3
   },
   "file_extension": ".py",
   "mimetype": "text/x-python",
   "name": "python",
   "nbconvert_exporter": "python",
   "pygments_lexer": "ipython3",
   "version": "3.12.4"
  }
 },
 "nbformat": 4,
 "nbformat_minor": 5
}
