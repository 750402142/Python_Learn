{
 "cells": [
  {
   "cell_type": "code",
   "execution_count": 13,
   "id": "b7e99e9b-6e08-440f-8fff-403200d3ba28",
   "metadata": {},
   "outputs": [
    {
     "name": "stdout",
     "output_type": "stream",
     "text": [
      "[8, 88, 888, 8888, 88888, 888888, 8888888, 88888888, 888888888, 8888888888]\n",
      "9876543200\n"
     ]
    }
   ],
   "source": [
    "\n",
    "lists = []\n",
    "for i in range(1,11):\n",
    "    lists.append(int(\"8\"*i))\n",
    "    \n",
    "print(lists)\n",
    "sum = 0\n",
    "for i in lists:\n",
    "    sum += i\n",
    "print(sum)\n",
    "\n",
    "\n"
   ]
  },
  {
   "cell_type": "code",
   "execution_count": 27,
   "id": "673067be-00f3-4ffb-82d4-ec897cb5e78e",
   "metadata": {},
   "outputs": [
    {
     "name": "stdout",
     "output_type": "stream",
     "text": [
      "['1', '2', '3', '4', '5', '6', '7', '8', '9', '10', '11', '12', '13', '14', '15', '16', '17', '18', '19', '20', '21', '22', '23', '24', '25', '26', '27', '28', '29', '30', '31', '32', '33', '34', '35', '36', '37', '38', '39', '40', '41', '42', '43', '44', '45', '46', '47', '48', '49', '50', '51', '52', '53', '54', '55', '56', '57', '58', '59', '60', '61', '62', '63', '64', '65', '66', '67', '68', '69', '70', '71', '72', '73', '74', '75', '76', '77', '78', '79', '80', '81', '82', '83', '84', '85', '86', '87', '88', '89', '90', '91', '92', '93', '94', '95', '96', '97', '98', '99', '100']\n",
      "['5', '15', '25', '35', '45', '50', '51', '52', '53', '54', '55', '56', '57', '58', '59', '65', '75', '85', '95']\n"
     ]
    }
   ],
   "source": [
    "lists = []\n",
    "for i in range(1,101):\n",
    "    lists.append(str(i))\n",
    "new_lists = []\n",
    "for i in lists:\n",
    "    for m in i:\n",
    "        if m == '5':\n",
    "            new_lists.append(i)\n",
    "            break\n",
    "                 \n",
    "print(lists)\n",
    "print(new_lists)"
   ]
  },
  {
   "cell_type": "code",
   "execution_count": null,
   "id": "0afdbce9-ca29-4fb2-a878-8df695f8e2b2",
   "metadata": {},
   "outputs": [],
   "source": []
  }
 ],
 "metadata": {
  "kernelspec": {
   "display_name": "Python 3 (ipykernel)",
   "language": "python",
   "name": "python3"
  },
  "language_info": {
   "codemirror_mode": {
    "name": "ipython",
    "version": 3
   },
   "file_extension": ".py",
   "mimetype": "text/x-python",
   "name": "python",
   "nbconvert_exporter": "python",
   "pygments_lexer": "ipython3",
   "version": "3.12.4"
  }
 },
 "nbformat": 4,
 "nbformat_minor": 5
}
