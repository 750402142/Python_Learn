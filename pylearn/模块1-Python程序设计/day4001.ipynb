{
 "cells": [
  {
   "cell_type": "code",
   "execution_count": null,
   "id": "6405d78a-d7ff-4054-996e-e3b9e9c92496",
   "metadata": {},
   "outputs": [],
   "source": [
    "import time\n",
    "import random\n",
    "from function import wraps\n",
    "def timeit(num1):\n",
    "    def outer(func):\n",
    "        @wraps(func)\n",
    "        def inner(*args,**kwargs):\n",
    "            start = time.time()\n",
    "            print(f\"任务开始时间为:{time.strftime('%Y-%m-%d %X')}\"}\n",
    "            for i in range(num):\n",
    "                result = func(*args,**kwargs)\n",
    "            end = time.time()\n",
    "            print(f\"任务结束时间为:{time.strftime('%Y-%m-%d %X')}\")\n",
    "            print(f\"任务共执行{num}次,共消耗:{end-start:2f}秒,平均消耗时间{(end-start)/num:2f}'}\n",
    "            return result\n",
    "        return inner\n",
    "    return outer"
   ]
  }
 ],
 "metadata": {
  "kernelspec": {
   "display_name": "Python 3 (ipykernel)",
   "language": "python",
   "name": "python3"
  },
  "language_info": {
   "codemirror_mode": {
    "name": "ipython",
    "version": 3
   },
   "file_extension": ".py",
   "mimetype": "text/x-python",
   "name": "python",
   "nbconvert_exporter": "python",
   "pygments_lexer": "ipython3",
   "version": "3.12.4"
  }
 },
 "nbformat": 4,
 "nbformat_minor": 5
}
