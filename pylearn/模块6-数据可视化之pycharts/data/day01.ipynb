{
 "cells": [
  {
   "cell_type": "code",
   "id": "initial_id",
   "metadata": {
    "collapsed": true,
    "ExecuteTime": {
     "end_time": "2024-10-08T13:45:52.517054Z",
     "start_time": "2024-10-08T13:45:52.254915Z"
    }
   },
   "source": [
    "from platform import version\n",
    "\n",
    "import pandas as pd\n",
    "import numpy as np\n",
    "import sys\n",
    "import pyecharts\n",
    "\n",
    "print(pyecharts.__version__)"
   ],
   "outputs": [
    {
     "name": "stdout",
     "output_type": "stream",
     "text": [
      "2.0.5\n"
     ]
    }
   ],
   "execution_count": 1
  },
  {
   "metadata": {
    "ExecuteTime": {
     "end_time": "2024-10-08T13:45:56.370242Z",
     "start_time": "2024-10-08T13:45:56.331245Z"
    }
   },
   "cell_type": "code",
   "source": [
    "from pyecharts.globals import ThemeType\n",
    "from pyecharts.options import LabelOpts, InitOpts\n",
    "from pyecharts.charts import Bar, Timeline\n",
    "\n",
    "bar1 = Bar()\n",
    "bar1.add_xaxis([\"周一\",\"周二\",\"周三\"])\n",
    "bar1.add_yaxis(\"每天的工作量\",[10,20,30],\n",
    "              label_opts = LabelOpts(position = \"right\"))\n",
    "bar1.reversal_axis()\n",
    "bar1.render()\n",
    "#x,y轴的反转\n",
    "\n",
    "bar2 = Bar()\n",
    "bar2.add_xaxis([\"周一\",\"周二\",\"周三\"])\n",
    "bar2.add_yaxis(\"每天的工作量\",[20,30,40],\n",
    "              label_opts = LabelOpts(position = \"right\"))\n",
    "bar2.render()\n",
    "bar2.reversal_axis()\n",
    "\n",
    "bar3 = Bar()\n",
    "bar3.add_xaxis([\"周一\",\"周二\",\"周三\"])\n",
    "bar3.add_yaxis(\"每天的工作量\",[40,30,50],\n",
    "              label_opts = LabelOpts(position = \"right\"))\n",
    "bar3.render()\n",
    "bar3.reversal_axis()\n",
    "#创建时间线\n",
    "timeline = Timeline({\"theme\": ThemeType.DARK})\n",
    "timeline.add(bar1,\"第一周的工作量\")\n",
    "timeline.add(bar2,\"第二周的工作量\")\n",
    "timeline.add(bar3,\"第三周的工作量\")\n",
    "\n",
    "\n",
    "#设置自动播放\n",
    "timeline.add_schema(\n",
    "    play_interval = 1000,\n",
    "    is_timeline_show = True,\n",
    "    is_auto_play = True,\n",
    "    is_loop_play = True\n",
    ")\n",
    "\n",
    "timeline.render(\"./result/mybar_01.html\")\n"
   ],
   "id": "7c0c3bcaa25fe29e",
   "outputs": [
    {
     "data": {
      "text/plain": [
       "'C:\\\\Users\\\\wang\\\\Desktop\\\\pyLearn\\\\模块6-数据可视化之pycharts\\\\result\\\\mybar_01.html'"
      ]
     },
     "execution_count": 2,
     "metadata": {},
     "output_type": "execute_result"
    }
   ],
   "execution_count": 2
  },
  {
   "metadata": {
    "ExecuteTime": {
     "end_time": "2024-10-08T00:36:35.158844Z",
     "start_time": "2024-10-08T00:36:35.141772Z"
    }
   },
   "cell_type": "code",
   "source": [
    "from pyecharts.charts import Bar\n",
    "\n",
    "bar = Bar()\n",
    "\n",
    "bar.add_xaxis(xaxis_data=['周一','周二','周三','周四','周五'])\n",
    "bar.add_yaxis(series_name=\"人工智能1班\",y_axis=[45,56,47,44,54])\n",
    "\n",
    "bar.add_yaxis(series_name=\"人工智能2班\",y_axis=[54,65,74,44,45])\n",
    "\n",
    "bar.reversal_axis()\n",
    "bar.render(\"./result/bar_02.html\")"
   ],
   "id": "7fdb06457a7370d0",
   "outputs": [
    {
     "data": {
      "text/plain": [
       "'C:\\\\Users\\\\wang\\\\Desktop\\\\pyLearn\\\\模块6-数据可视化之pycharts\\\\result\\\\bar_02.html'"
      ]
     },
     "execution_count": 6,
     "metadata": {},
     "output_type": "execute_result"
    }
   ],
   "execution_count": 6
  },
  {
   "metadata": {
    "ExecuteTime": {
     "end_time": "2024-10-08T01:20:00.507825Z",
     "start_time": "2024-10-08T01:20:00.488930Z"
    }
   },
   "cell_type": "code",
   "source": [
    "from pyecharts import options as opts\n",
    "bar = (Bar(init_opts=opts.InitOpts(width= \"%100\",height = \"95vh\",\n",
    "                                   page_title=\"Bar_test\",\n",
    "                                   theme=ThemeType.LIGHT))\n",
    "\n",
    "    .add_xaxis(xaxis_data=['周一', '周二', '周三', '周四', '周五'])\n",
    "    .add_yaxis(series_name=\"人工智能1班\", y_axis=[45, 56, 47, 44, 54])\n",
    "    \n",
    "    .add_yaxis(series_name=\"人工智能2班\", y_axis=[54, 65, 74, 44, 45])\n",
    "    )\n",
    "bar.render(\"./result/bar_02_link_use.html\")"
   ],
   "id": "8ae26dfb38b291a2",
   "outputs": [
    {
     "data": {
      "text/plain": [
       "'C:\\\\Users\\\\wang\\\\Desktop\\\\pyLearn\\\\模块6-数据可视化之pycharts\\\\result\\\\bar_02_link_use.html'"
      ]
     },
     "execution_count": 16,
     "metadata": {},
     "output_type": "execute_result"
    }
   ],
   "execution_count": 16
  },
  {
   "metadata": {
    "ExecuteTime": {
     "end_time": "2024-10-08T03:57:25.052585Z",
     "start_time": "2024-10-08T03:57:25.044622Z"
    }
   },
   "cell_type": "code",
   "source": [
    "from pyecharts import options as opts\n",
    "bar = (Bar(init_opts=opts.InitOpts(width= \"%100\",height = \"95vh\",\n",
    "                                   page_title=\"Bar_test\",\n",
    "                                   theme=ThemeType.LIGHT),\n",
    "           )\n",
    "\n",
    "    .add_xaxis(xaxis_data=['周一', '周二', '周三', '周四', '周五'])\n",
    "    .add_yaxis(series_name=\"人工智能1班\", y_axis=[45, 56, 47, 44, 54])\n",
    "    \n",
    "    .add_yaxis(series_name=\"人工智能2班\", y_axis=[54, 65, 74, 44, 45])\n",
    "    .set_global_opts(title_opts = opts.TitleOpts(title = \"数据可视化-柱形图\",\n",
    "                                               subtitle = \"wang\",\n",
    "                                                 pos_left=\"center\",\n",
    "                                                 text_align=\"center\",\n",
    "                                    title_textstyle_opts=opts.TextStyleOpts(font_size = 26,\n",
    "                                                        font_weight=\"bold\",\n",
    "                                                        color=\"red\",)  ,\n",
    "                                    subtitle_textstyle_opts=opts.TextStyleOpts(font_size = 10,\n",
    "                                                        font_weight=\"bold\",\n",
    "                                                        color=\"red\",) \n",
    "                                                ),\n",
    "    legend_opts=opts.LegendOpts(pos_top=\"7%\",pos_left=\"36%\"),\n",
    "    tooltip_opts=opts.TooltipOpts(trigger=\"axis\",\n",
    "                axis_pointer_type=\"shadow\",\n",
    "                                  )\n",
    "                     \n",
    "                     \n",
    "                     )  \n",
    "    )\n",
    "    \n",
    "bar.render(\"./result/bar_02_link_use.html\")\n",
    "\n"
   ],
   "id": "78ef02a52376baa2",
   "outputs": [
    {
     "data": {
      "text/plain": [
       "'C:\\\\Users\\\\wang\\\\Desktop\\\\pyLearn\\\\模块6-数据可视化之pycharts\\\\result\\\\bar_02_link_use.html'"
      ]
     },
     "execution_count": 41,
     "metadata": {},
     "output_type": "execute_result"
    }
   ],
   "execution_count": 41
  },
  {
   "metadata": {
    "ExecuteTime": {
     "end_time": "2024-10-08T13:48:04.212383Z",
     "start_time": "2024-10-08T13:48:03.979307Z"
    }
   },
   "cell_type": "code",
   "source": [
    "data = pd.read_excel(\"./data/gamer.xlsx\")\n",
    "data_pubg = data[data[\"Name\"] == \"PUBG\"]\n",
    "data['Month'] = data[\"Month\"].apply(lambda x:x.strftime(\"%Y-%m\"))\n",
    "data_pair = data[[\"Month\",\"Gain\"]].values.tolist()[::-1]\n",
    "itemstyle = {\n",
    "    'normal':{\n",
    "        'color': 'rgba(255,105,180,0.9)',\n",
    "        'barBorderRadius':[2,2,2,2],\n",
    "        'shadowColor':'rgba(255,80,243,0.9)',\n",
    "        'shadowBlur':20,\n",
    "    }\n",
    "}\n"
   ],
   "id": "9e636641c02ec4ac",
   "outputs": [],
   "execution_count": 5
  },
  {
   "metadata": {
    "ExecuteTime": {
     "end_time": "2024-10-08T13:48:14.057936Z",
     "start_time": "2024-10-08T13:48:14.038416Z"
    }
   },
   "cell_type": "code",
   "source": [
    "from pyecharts.charts import Bar\n",
    "from pyecharts import options as opts\n",
    "bar = (Bar()\n",
    "    .add_xaxis([i[0] for i in data_pair])\n",
    "    .add_yaxis(\n",
    "    series_name=\"增长人数\",\n",
    "    y_axis = [i[1] for i in data_pair],\n",
    "    label_opts = opts.LabelOpts(is_show=False),\n",
    "    itemstyle_opts = itemstyle,)\n",
    "    .set_global_opts(datazoom_opts=opts.DataZoomOpts(range_start=0,range_end=20,type_='inside',),\n",
    "                     title_opts=opts.TitleOpts(title = 'Pubg月增长人数柱形图',pos_left='center'),\n",
    "                     legend_opts=opts.LegendOpts(pos_top='5%'),\n",
    "                     tooltip_opts=opts.TooltipOpts(trigger=\"axis\",axis_pointer_type=\"shadow\",),\n",
    "                     xaxis_opts=opts.AxisOpts(splitarea_opts={'show':False}),\n",
    "                     yaxis_opts=opts.AxisOpts(splitarea_opts=opts.SplitAreaOpts(is_show=True)),\n",
    "                    )\n",
    "    )\n",
    "bar.render(\"./result/bar_03.html\")"
   ],
   "id": "ba422590c1eabe02",
   "outputs": [
    {
     "data": {
      "text/plain": [
       "'C:\\\\Users\\\\wang\\\\Desktop\\\\pyLearn\\\\模块6-数据可视化之pycharts\\\\result\\\\bar_03.html'"
      ]
     },
     "execution_count": 7,
     "metadata": {},
     "output_type": "execute_result"
    }
   ],
   "execution_count": 7
  },
  {
   "metadata": {
    "ExecuteTime": {
     "end_time": "2024-10-08T13:47:48.014953Z",
     "start_time": "2024-10-08T13:47:48.002953Z"
    }
   },
   "cell_type": "code",
   "source": [
    "from pyecharts.commons.utils import JsCode\n",
    "\n",
    "itemstyle1 = {\n",
    "    'normal': {\n",
    "        'color': JsCode(\"\"\"new echarts.graphic.LinearGradient(0, 0, 0, 1, [\n",
    "          { offset: 0, color: 'rgb(128, 255, 165)' },\n",
    "          { offset: 1, color: 'rgb(1, 191, 236)' }\n",
    "        ],)\"\"\"),\n",
    "        'barBorderRadius': [2,2,2,2],      #  柱子的四个角圆角设计\n",
    "        'shadowColor':'rgba(108,80,243,0.9)', # 阴影的颜色\n",
    "        'shadowBlur':20, # 阴影的宽度\n",
    "    }\n",
    "}\n",
    "itemstyle2 = {\n",
    "    'normal': {\n",
    "        'color': JsCode(\"\"\"new echarts.graphic.LinearGradient(0, 0, 0, 1, [\n",
    "          { offset: 0, color: 'rgb(255, 191, 0)' },\n",
    "          { offset: 1, color: 'rgb(224, 62, 76)' }\n",
    "        ],)\"\"\"),\n",
    "        'barBorderRadius': [10,10,10,10],      #  柱子的四个角圆角设计\n",
    "        'shadowColor':'rgba(108,80,243,0.9)', # 阴影的颜色\n",
    "        'shadowBlur':20, # 阴影的宽度\n",
    "    }\n",
    "}"
   ],
   "id": "cbb92275d1b08389",
   "outputs": [],
   "execution_count": 3
  },
  {
   "metadata": {
    "ExecuteTime": {
     "end_time": "2024-10-08T13:48:18.799870Z",
     "start_time": "2024-10-08T13:48:18.790844Z"
    }
   },
   "cell_type": "code",
   "source": [
    "data_y = []\n",
    "for x,y in data_pair:\n",
    "    y = float(y)\n",
    "    if y > 0:\n",
    "        data_y.append(opts.BarItem(name='',value=y,itemstyle_opts=itemstyle1))\n",
    "    else:\n",
    "        data_y.append(opts.BarItem(name='',value=y,itemstyle_opts=itemstyle2))"
   ],
   "id": "b7f8a406135c845a",
   "outputs": [],
   "execution_count": 8
  },
  {
   "metadata": {
    "ExecuteTime": {
     "end_time": "2024-10-08T14:14:30.865081Z",
     "start_time": "2024-10-08T14:14:30.833023Z"
    }
   },
   "cell_type": "code",
   "source": [
    "from pyecharts.charts import Bar\n",
    "from pyecharts import options as opts\n",
    "bar = (Bar()\n",
    "    .add_xaxis([i[0] for i in data_pair])\n",
    "    .add_yaxis(\n",
    "    series_name=\"增长人数\",\n",
    "    y_axis = data_y,\n",
    "    label_opts = opts.LabelOpts(is_show=False),\n",
    "    itemstyle_opts = itemstyle,)\n",
    "    .set_global_opts(datazoom_opts=opts.DataZoomOpts(range_start=0,range_end=20,type_='inside',),\n",
    "                     title_opts=opts.TitleOpts(title = 'Pubg月增长人数柱形图',pos_left='center'),\n",
    "                     legend_opts=opts.LegendOpts(pos_top='5%'),\n",
    "                     tooltip_opts=opts.TooltipOpts(trigger=\"axis\",axis_pointer_type=\"shadow\",),\n",
    "                     xaxis_opts=opts.AxisOpts(splitarea_opts={'show':False}),\n",
    "                     yaxis_opts=opts.AxisOpts(splitarea_opts=opts.SplitAreaOpts(is_show=True)),\n",
    "                    )\n",
    "    )\n",
    "bar.render(\"./result/bar_04.html\")"
   ],
   "id": "e89b3ba63cab142b",
   "outputs": [
    {
     "data": {
      "text/plain": [
       "'C:\\\\Users\\\\wang\\\\Desktop\\\\pyLearn\\\\模块6-数据可视化之pycharts\\\\result\\\\bar_04.html'"
      ]
     },
     "execution_count": 18,
     "metadata": {},
     "output_type": "execute_result"
    }
   ],
   "execution_count": 18
  },
  {
   "metadata": {
    "ExecuteTime": {
     "end_time": "2024-10-08T14:02:01.746213Z",
     "start_time": "2024-10-08T14:02:01.722060Z"
    }
   },
   "cell_type": "code",
   "source": [
    "data = pd.read_excel(\"./data/奖牌.xlsx\")\n",
    "data"
   ],
   "id": "ff51665ac8685924",
   "outputs": [
    {
     "data": {
      "text/plain": [
       "          赛事  参赛人数  金牌  银牌  铜牌   总计  排名\n",
       "0   1984年洛杉矶   216  15   8   9   32   4\n",
       "1    1988年汉城   273   5  11  12   28  11\n",
       "2  1992年巴塞罗那   244  16  22  16   54   4\n",
       "3  1996年亚特兰大   294  16  22  12   50   4\n",
       "4    2000年悉尼   271  28  16  14   58   3\n",
       "5    2004年雅典   384  32  17  14   63   2\n",
       "6    2008年北京   639  48  22  30  100   1\n",
       "7    2012年伦敦   396  38  31  22   91   2\n",
       "8    2016年里约   412  26  18  26   70   3\n",
       "9    2020年东京   431  38  32  18   88   2"
      ],
      "text/html": [
       "<div>\n",
       "<style scoped>\n",
       "    .dataframe tbody tr th:only-of-type {\n",
       "        vertical-align: middle;\n",
       "    }\n",
       "\n",
       "    .dataframe tbody tr th {\n",
       "        vertical-align: top;\n",
       "    }\n",
       "\n",
       "    .dataframe thead th {\n",
       "        text-align: right;\n",
       "    }\n",
       "</style>\n",
       "<table border=\"1\" class=\"dataframe\">\n",
       "  <thead>\n",
       "    <tr style=\"text-align: right;\">\n",
       "      <th></th>\n",
       "      <th>赛事</th>\n",
       "      <th>参赛人数</th>\n",
       "      <th>金牌</th>\n",
       "      <th>银牌</th>\n",
       "      <th>铜牌</th>\n",
       "      <th>总计</th>\n",
       "      <th>排名</th>\n",
       "    </tr>\n",
       "  </thead>\n",
       "  <tbody>\n",
       "    <tr>\n",
       "      <th>0</th>\n",
       "      <td>1984年洛杉矶</td>\n",
       "      <td>216</td>\n",
       "      <td>15</td>\n",
       "      <td>8</td>\n",
       "      <td>9</td>\n",
       "      <td>32</td>\n",
       "      <td>4</td>\n",
       "    </tr>\n",
       "    <tr>\n",
       "      <th>1</th>\n",
       "      <td>1988年汉城</td>\n",
       "      <td>273</td>\n",
       "      <td>5</td>\n",
       "      <td>11</td>\n",
       "      <td>12</td>\n",
       "      <td>28</td>\n",
       "      <td>11</td>\n",
       "    </tr>\n",
       "    <tr>\n",
       "      <th>2</th>\n",
       "      <td>1992年巴塞罗那</td>\n",
       "      <td>244</td>\n",
       "      <td>16</td>\n",
       "      <td>22</td>\n",
       "      <td>16</td>\n",
       "      <td>54</td>\n",
       "      <td>4</td>\n",
       "    </tr>\n",
       "    <tr>\n",
       "      <th>3</th>\n",
       "      <td>1996年亚特兰大</td>\n",
       "      <td>294</td>\n",
       "      <td>16</td>\n",
       "      <td>22</td>\n",
       "      <td>12</td>\n",
       "      <td>50</td>\n",
       "      <td>4</td>\n",
       "    </tr>\n",
       "    <tr>\n",
       "      <th>4</th>\n",
       "      <td>2000年悉尼</td>\n",
       "      <td>271</td>\n",
       "      <td>28</td>\n",
       "      <td>16</td>\n",
       "      <td>14</td>\n",
       "      <td>58</td>\n",
       "      <td>3</td>\n",
       "    </tr>\n",
       "    <tr>\n",
       "      <th>5</th>\n",
       "      <td>2004年雅典</td>\n",
       "      <td>384</td>\n",
       "      <td>32</td>\n",
       "      <td>17</td>\n",
       "      <td>14</td>\n",
       "      <td>63</td>\n",
       "      <td>2</td>\n",
       "    </tr>\n",
       "    <tr>\n",
       "      <th>6</th>\n",
       "      <td>2008年北京</td>\n",
       "      <td>639</td>\n",
       "      <td>48</td>\n",
       "      <td>22</td>\n",
       "      <td>30</td>\n",
       "      <td>100</td>\n",
       "      <td>1</td>\n",
       "    </tr>\n",
       "    <tr>\n",
       "      <th>7</th>\n",
       "      <td>2012年伦敦</td>\n",
       "      <td>396</td>\n",
       "      <td>38</td>\n",
       "      <td>31</td>\n",
       "      <td>22</td>\n",
       "      <td>91</td>\n",
       "      <td>2</td>\n",
       "    </tr>\n",
       "    <tr>\n",
       "      <th>8</th>\n",
       "      <td>2016年里约</td>\n",
       "      <td>412</td>\n",
       "      <td>26</td>\n",
       "      <td>18</td>\n",
       "      <td>26</td>\n",
       "      <td>70</td>\n",
       "      <td>3</td>\n",
       "    </tr>\n",
       "    <tr>\n",
       "      <th>9</th>\n",
       "      <td>2020年东京</td>\n",
       "      <td>431</td>\n",
       "      <td>38</td>\n",
       "      <td>32</td>\n",
       "      <td>18</td>\n",
       "      <td>88</td>\n",
       "      <td>2</td>\n",
       "    </tr>\n",
       "  </tbody>\n",
       "</table>\n",
       "</div>"
      ]
     },
     "execution_count": 14,
     "metadata": {},
     "output_type": "execute_result"
    }
   ],
   "execution_count": 14
  },
  {
   "metadata": {
    "ExecuteTime": {
     "end_time": "2024-10-08T14:03:51.665004Z",
     "start_time": "2024-10-08T14:03:51.648326Z"
    }
   },
   "cell_type": "code",
   "source": [
    "dt = data[['赛事','金牌','银牌','铜牌']].iloc[-6:].values.tolist()\n",
    "dt"
   ],
   "id": "581835a541a3e361",
   "outputs": [
    {
     "data": {
      "text/plain": [
       "[['2000年悉尼', 28, 16, 14],\n",
       " ['2004年雅典', 32, 17, 14],\n",
       " ['2008年北京', 48, 22, 30],\n",
       " ['2012年伦敦', 38, 31, 22],\n",
       " ['2016年里约', 26, 18, 26],\n",
       " ['2020年东京', 38, 32, 18]]"
      ]
     },
     "execution_count": 15,
     "metadata": {},
     "output_type": "execute_result"
    }
   ],
   "execution_count": 15
  },
  {
   "metadata": {
    "ExecuteTime": {
     "end_time": "2024-10-08T14:34:26.427677Z",
     "start_time": "2024-10-08T14:34:26.409618Z"
    }
   },
   "cell_type": "code",
   "source": [
    "bar = (Bar()\n",
    "    .add_xaxis([i[0] for i in dt])\n",
    "    .add_yaxis(series_name='金牌',y_axis=[i[1] for i in dt],category_gap='40%', \n",
    "              gap='5%', )\n",
    "    .add_yaxis(series_name='银牌',y_axis=[i[2] for i in dt],category_gap='40%',\n",
    "              gap='5%',)\n",
    "    .add_yaxis(series_name='铜牌',y_axis=[i[3] for i in dt],category_gap='40%',\n",
    "              gap='5%',)\n",
    "    .set_global_opts(\n",
    "        title_opts=opts.TitleOpts(title = '六年内金银牌的数量',pos_left = 'center',),\n",
    "        legend_opts=opts.LegendOpts(pos_top='5%'),\n",
    "        tooltip_opts=opts.TooltipOpts(trigger=\"axis\",axis_pointer_type=\"shadow\",),#设置鼠标放置的显示效果\n",
    "    )   \n",
    "    .set_series_opts(#itemstyle_opts=itemstyle,\n",
    "                     #设置数据标签的样式\n",
    "                     label_opts=opts.LabelOpts(position = 'top',font_weight='bold',color = 'blue')\n",
    "                     )\n",
    "    #.set_colors(colors=['#4e70f0',\"#00c5d2\",'#ffce2b'])\n",
    "            \n",
    ")\n",
    "bar.render('./result/bar_05.html')"
   ],
   "id": "97982ccf82922c30",
   "outputs": [
    {
     "data": {
      "text/plain": [
       "'C:\\\\Users\\\\wang\\\\Desktop\\\\pyLearn\\\\模块6-数据可视化之pycharts\\\\result\\\\bar_05.html'"
      ]
     },
     "execution_count": 33,
     "metadata": {},
     "output_type": "execute_result"
    }
   ],
   "execution_count": 33
  },
  {
   "metadata": {},
   "cell_type": "code",
   "outputs": [],
   "execution_count": null,
   "source": "",
   "id": "4751b3941272dc63"
  }
 ],
 "metadata": {
  "kernelspec": {
   "display_name": "Python 3",
   "language": "python",
   "name": "python3"
  },
  "language_info": {
   "codemirror_mode": {
    "name": "ipython",
    "version": 2
   },
   "file_extension": ".py",
   "mimetype": "text/x-python",
   "name": "python",
   "nbconvert_exporter": "python",
   "pygments_lexer": "ipython2",
   "version": "2.7.6"
  }
 },
 "nbformat": 4,
 "nbformat_minor": 5
}
