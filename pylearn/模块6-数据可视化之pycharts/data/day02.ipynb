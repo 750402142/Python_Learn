{
 "cells": [
  {
   "cell_type": "code",
   "id": "initial_id",
   "metadata": {
    "collapsed": true,
    "ExecuteTime": {
     "end_time": "2024-10-09T12:04:53.932098Z",
     "start_time": "2024-10-09T12:04:52.987600Z"
    }
   },
   "source": [
    "from platform import version\n",
    "\n",
    "import pandas as pd\n",
    "import numpy as np\n",
    "import sys\n",
    "import pyecharts\n",
    "from fontTools.misc.bezierTools import splitLine\n",
    "from matplotlib.pyplot import title\n",
    "\n",
    "print(pyecharts.__version__)"
   ],
   "outputs": [
    {
     "name": "stdout",
     "output_type": "stream",
     "text": [
      "2.0.5\n"
     ]
    }
   ],
   "execution_count": 2
  },
  {
   "metadata": {
    "ExecuteTime": {
     "end_time": "2024-10-09T00:40:25.325827Z",
     "start_time": "2024-10-09T00:40:25.301077Z"
    }
   },
   "cell_type": "code",
   "source": [
    "from pyecharts.commons.utils import JsCode\n",
    "\n",
    "data = pd.read_excel(\"./data/奖牌.xlsx\")\n",
    "data_pair = data[['赛事','总计']].values.tolist()\n",
    "itemstyle = {\n",
    "    'normal': {\n",
    "        'color': JsCode(\"\"\"new echarts.graphic.LinearGradient(0, 0, 0, 1, [\n",
    "          { offset: 0, color: 'rgb(255, 191, 0)' },\n",
    "          { offset: 1, color: 'rgb(224, 62, 76)' }\n",
    "        ],)\"\"\"),\n",
    "        'barBorderRadius': [10,10,10,10],      #  柱子的四个角圆角设计\n",
    "        'shadowColor':'rgba(108,80,243,0.9)', # 阴影的颜色\n",
    "        'shadowBlur':20, # 阴影的宽度\n",
    "    }\n",
    "}"
   ],
   "id": "92669ee5d15f14ca",
   "outputs": [],
   "execution_count": 19
  },
  {
   "metadata": {
    "ExecuteTime": {
     "end_time": "2024-10-09T01:05:33.113525Z",
     "start_time": "2024-10-09T01:05:33.105836Z"
    }
   },
   "cell_type": "code",
   "source": [
    "from pyecharts.globals import ThemeType\n",
    "from pyecharts.options import LabelOpts, InitOpts\n",
    "from pyecharts.charts import Bar, Timeline\n",
    "from pyecharts import options as opts\n",
    "bar = (Bar()\n",
    "    .add_xaxis([i[0] for i in data_pair])\n",
    "    .add_yaxis(series_name = '奖牌统计',y_axis=[i[1] for i in data_pair],itemstyle_opts=itemstyle )    \n",
    "    .set_global_opts(title_opts=opts.TitleOpts(title = '奖牌的统计',pos_left='center'),\n",
    "                      legend_opts=opts.LegendOpts(pos_top='5%'),\n",
    "                     tooltip_opts=opts.TooltipOpts(trigger=\"axis\",axis_pointer_type=\"shadow\",),\n",
    "                     xaxis_opts=opts.AxisOpts(max_= 120))\n",
    "    .set_series_opts(label_opts=opts.LabelOpts(position='right',formatter='{b},{c}',#\n",
    "                                               font_weight='bold',color = 'aotu'),\n",
    "                     )\n",
    "    .reversal_axis()\n",
    " )\n",
    "bar.render(\"./result/奖牌_bar06.html\")"
   ],
   "id": "6cfc8fc004cd37a8",
   "outputs": [
    {
     "data": {
      "text/plain": [
       "'C:\\\\Users\\\\wang\\\\Desktop\\\\pyLearn\\\\模块6-数据可视化之pycharts\\\\result\\\\奖牌_bar06.html'"
      ]
     },
     "execution_count": 25,
     "metadata": {},
     "output_type": "execute_result"
    }
   ],
   "execution_count": 25
  },
  {
   "metadata": {
    "ExecuteTime": {
     "end_time": "2024-10-09T01:06:58.587834Z",
     "start_time": "2024-10-09T01:06:58.565920Z"
    }
   },
   "cell_type": "code",
   "source": [
    "data = pd.read_excel('./data/age.xlsx')\n",
    "dp = data.values.tolist()[::-1]"
   ],
   "id": "5ecd78b0bc8e7cdd",
   "outputs": [],
   "execution_count": 26
  },
  {
   "metadata": {
    "ExecuteTime": {
     "end_time": "2024-10-09T01:07:23.621498Z",
     "start_time": "2024-10-09T01:07:23.601711Z"
    }
   },
   "cell_type": "code",
   "source": [
    "bar = (Bar(init_opts=opts.InitOpts(theme=ThemeType.DARK,width='100%'))\n",
    "    .add_xaxis([i[0] for i in dp])\n",
    "    .add_yaxis(series_name='Male',y_axis=[i[1] for i in dp],gap='-1')\n",
    "    .add_yaxis(series_name='Female',y_axis=[-i[2] for i in dp],gap='-1')\n",
    "    .reversal_axis() # 翻转x轴和y轴\n",
    "    .set_series_opts(label_opts=opts.LabelOpts(is_show=False))\n",
    "    .set_global_opts(tooltip_opts=opts.TooltipOpts(trigger='axis',axis_pointer_type='shadow'))\n",
    "    )\n",
    "bar.render('./result/bar07.html')"
   ],
   "id": "fc7be0a773b5ebc9",
   "outputs": [
    {
     "data": {
      "text/plain": [
       "'C:\\\\Users\\\\wang\\\\Desktop\\\\pyLearn\\\\模块6-数据可视化之pycharts\\\\result\\\\bar07.html'"
      ]
     },
     "execution_count": 28,
     "metadata": {},
     "output_type": "execute_result"
    }
   ],
   "execution_count": 28
  },
  {
   "metadata": {
    "ExecuteTime": {
     "end_time": "2024-10-09T01:31:14.087847Z",
     "start_time": "2024-10-09T01:31:14.053887Z"
    }
   },
   "cell_type": "code",
   "source": [
    "data = pd.read_excel('./data/部分专业录取.xlsx')\n",
    "data['专业'] = data['专业'].apply(lambda x:x.split('(')[0])\n",
    "dp = data[['专业','最高分','最低分']].values.tolist()\n",
    "  "
   ],
   "id": "5c67955d9e12f987",
   "outputs": [],
   "execution_count": 43
  },
  {
   "metadata": {},
   "cell_type": "markdown",
   "source": "## 图形风格的自定义设计",
   "id": "1f13433369814aa0"
  },
  {
   "metadata": {
    "ExecuteTime": {
     "end_time": "2024-10-09T12:50:15.146924Z",
     "start_time": "2024-10-09T12:50:15.127200Z"
    }
   },
   "cell_type": "code",
   "source": [
    "itemstyle1 = {\n",
    "    'normal': {\n",
    "        'color': JsCode(\"\"\"new echarts.graphic.LinearGradient(0, 0, 0, 1, [\n",
    "          { offset: 0, color: 'rgb(128, 255, 165)' },\n",
    "          { offset: 1, color: 'rgb(1, 191, 236)' }\n",
    "        ],)\"\"\"),\n",
    "        'barBorderRadius': [2,2,2,2],      #  柱子的四个角圆角设计\n",
    "        'shadowColor':'rgba(108,80,243,0.9)', # 阴影的颜色\n",
    "        'shadowBlur':20, # 阴影的宽度\n",
    "    }\n",
    "}\n",
    "itemstyle2 = {\n",
    "    'normal': {\n",
    "        'color': JsCode(\"\"\"new echarts.graphic.LinearGradient(0, 0, 0, 1, [\n",
    "          { offset: 0, color: 'rgb(255, 244, 199)' },\n",
    "          { offset: 1, color: 'rgb(247, 200, 110)' }\n",
    "        ],)\"\"\"),\n",
    "        'barBorderRadius': [10,10,10,10],      #  柱子的四个角圆角设计\n",
    "        'shadowColor':'rgba(108,80,243,0.9)', # 阴影的颜色\n",
    "        'shadowBlur':20, # 阴影的宽度\n",
    "    }\n",
    "}"
   ],
   "id": "66001b50bcec34ca",
   "outputs": [],
   "execution_count": 32
  },
  {
   "metadata": {},
   "cell_type": "raw",
   "source": "",
   "id": "9c0d76eabb132804"
  },
  {
   "metadata": {
    "ExecuteTime": {
     "end_time": "2024-10-09T03:59:27.307862Z",
     "start_time": "2024-10-09T03:59:27.293855Z"
    }
   },
   "cell_type": "code",
   "source": [
    "jscode = \"\"\"function(x) {return -x.data + '分';}\"\"\"\n",
    "jscode2 = \"\"\"function(x) {console.log(x); return Math.abs(x);}\"\"\""
   ],
   "id": "b3af378ae438978",
   "outputs": [],
   "execution_count": 84
  },
  {
   "metadata": {
    "ExecuteTime": {
     "end_time": "2024-10-09T03:59:28.236863Z",
     "start_time": "2024-10-09T03:59:28.215863Z"
    }
   },
   "cell_type": "code",
   "source": [
    "bar = (Bar(init_opts=opts.InitOpts(theme=ThemeType.DARK,width='100%'))\n",
    "    .add_xaxis([i[0] for i in dp ])\n",
    "    .add_yaxis(series_name='最高分',y_axis=[i[1] for i in dp],gap='-1',itemstyle_opts=itemstyle1,label_opts=opts.LabelOpts(position = 'insideLeft',formatter='{c}分'),category_gap=\"50%\")\n",
    "    .add_yaxis(series_name='最低分',y_axis=[-i[2] for i in dp],gap='-1',\n",
    "               itemstyle_opts=itemstyle2,\n",
    "               label_opts=opts.LabelOpts(position = 'insideRight',formatter=JsCode(jscode)),category_gap=\"50%\" )\n",
    "     .reversal_axis()\n",
    "    .set_series_opts(LabelOpts=opts.LabelOpts(is_show=False))\n",
    "    .set_global_opts(datazoom_opts=opts.DataZoomOpts(orient='vertical',type_ = 'inside',),\n",
    "                     \n",
    "                     title_opts=opts.TitleOpts(title = \"各专业录取的最低分和最高分\",pos_left='center'),\n",
    "                     legend_opts=opts.LegendOpts(pos_top='5%'),\n",
    "                     tooltip_opts=opts.TooltipOpts(trigger='axis',axis_pointer_type=\"shadow\",),\n",
    "                      xaxis_opts=opts.AxisOpts(splitline_opts={'show':False},\n",
    "                               axislabel_opts=opts.LabelOpts(formatter=JsCode(jscode2),),               \n",
    "                                              ),\n",
    "                     yaxis_opts=opts.AxisOpts(splitline_opts={'show':False},\n",
    "                                    axislabel_opts=opts.LabelOpts(font_weight='bold',color='cyan'),)\n",
    "                     )\n",
    "    \n",
    "    )\n",
    "bar.render('./result/bar08.html')"
   ],
   "id": "d2cdcff160cbcd21",
   "outputs": [
    {
     "data": {
      "text/plain": [
       "'C:\\\\Users\\\\wang\\\\Desktop\\\\pyLearn\\\\模块6-数据可视化之pycharts\\\\result\\\\bar08.html'"
      ]
     },
     "execution_count": 85,
     "metadata": {},
     "output_type": "execute_result"
    }
   ],
   "execution_count": 85
  },
  {
   "metadata": {},
   "cell_type": "markdown",
   "source": "# 折线图系列",
   "id": "5634e5bed9928049"
  },
  {
   "metadata": {
    "ExecuteTime": {
     "end_time": "2024-10-09T12:06:01.768676Z",
     "start_time": "2024-10-09T12:06:01.463474Z"
    }
   },
   "cell_type": "code",
   "source": [
    "data = pd.read_excel('./data/gamer.xlsx')\n",
    "data"
   ],
   "id": "d311b792c9f99371",
   "outputs": [
    {
     "data": {
      "text/plain": [
       "     Name      Month  Average    Gain  Gain_p     Peak\n",
       "0    CSGO 2022-08-01   638072   45094  0.0760  1039161\n",
       "1    CSGO 2022-07-01   592978   23436  0.0411   927570\n",
       "2    CSGO 2022-06-01   569542    8263  0.0147   906968\n",
       "3    CSGO 2022-05-01   561279   13026  0.0238   932615\n",
       "4    CSGO 2022-04-01   548253  -31282 -0.0540  1016762\n",
       "..    ...        ...      ...     ...     ...      ...\n",
       "302  PUBG 2017-08-01   389527  159825  0.6958   874171\n",
       "303  PUBG 2017-07-01   229702   89800  0.6419   481291\n",
       "304  PUBG 2017-06-01   139902   32460  0.3021   267194\n",
       "305  PUBG 2017-05-01   107442   37647  0.5394   189456\n",
       "306  PUBG 2017-04-01    69795   52244  2.9767   140104\n",
       "\n",
       "[307 rows x 6 columns]"
      ],
      "text/html": [
       "<div>\n",
       "<style scoped>\n",
       "    .dataframe tbody tr th:only-of-type {\n",
       "        vertical-align: middle;\n",
       "    }\n",
       "\n",
       "    .dataframe tbody tr th {\n",
       "        vertical-align: top;\n",
       "    }\n",
       "\n",
       "    .dataframe thead th {\n",
       "        text-align: right;\n",
       "    }\n",
       "</style>\n",
       "<table border=\"1\" class=\"dataframe\">\n",
       "  <thead>\n",
       "    <tr style=\"text-align: right;\">\n",
       "      <th></th>\n",
       "      <th>Name</th>\n",
       "      <th>Month</th>\n",
       "      <th>Average</th>\n",
       "      <th>Gain</th>\n",
       "      <th>Gain_p</th>\n",
       "      <th>Peak</th>\n",
       "    </tr>\n",
       "  </thead>\n",
       "  <tbody>\n",
       "    <tr>\n",
       "      <th>0</th>\n",
       "      <td>CSGO</td>\n",
       "      <td>2022-08-01</td>\n",
       "      <td>638072</td>\n",
       "      <td>45094</td>\n",
       "      <td>0.0760</td>\n",
       "      <td>1039161</td>\n",
       "    </tr>\n",
       "    <tr>\n",
       "      <th>1</th>\n",
       "      <td>CSGO</td>\n",
       "      <td>2022-07-01</td>\n",
       "      <td>592978</td>\n",
       "      <td>23436</td>\n",
       "      <td>0.0411</td>\n",
       "      <td>927570</td>\n",
       "    </tr>\n",
       "    <tr>\n",
       "      <th>2</th>\n",
       "      <td>CSGO</td>\n",
       "      <td>2022-06-01</td>\n",
       "      <td>569542</td>\n",
       "      <td>8263</td>\n",
       "      <td>0.0147</td>\n",
       "      <td>906968</td>\n",
       "    </tr>\n",
       "    <tr>\n",
       "      <th>3</th>\n",
       "      <td>CSGO</td>\n",
       "      <td>2022-05-01</td>\n",
       "      <td>561279</td>\n",
       "      <td>13026</td>\n",
       "      <td>0.0238</td>\n",
       "      <td>932615</td>\n",
       "    </tr>\n",
       "    <tr>\n",
       "      <th>4</th>\n",
       "      <td>CSGO</td>\n",
       "      <td>2022-04-01</td>\n",
       "      <td>548253</td>\n",
       "      <td>-31282</td>\n",
       "      <td>-0.0540</td>\n",
       "      <td>1016762</td>\n",
       "    </tr>\n",
       "    <tr>\n",
       "      <th>...</th>\n",
       "      <td>...</td>\n",
       "      <td>...</td>\n",
       "      <td>...</td>\n",
       "      <td>...</td>\n",
       "      <td>...</td>\n",
       "      <td>...</td>\n",
       "    </tr>\n",
       "    <tr>\n",
       "      <th>302</th>\n",
       "      <td>PUBG</td>\n",
       "      <td>2017-08-01</td>\n",
       "      <td>389527</td>\n",
       "      <td>159825</td>\n",
       "      <td>0.6958</td>\n",
       "      <td>874171</td>\n",
       "    </tr>\n",
       "    <tr>\n",
       "      <th>303</th>\n",
       "      <td>PUBG</td>\n",
       "      <td>2017-07-01</td>\n",
       "      <td>229702</td>\n",
       "      <td>89800</td>\n",
       "      <td>0.6419</td>\n",
       "      <td>481291</td>\n",
       "    </tr>\n",
       "    <tr>\n",
       "      <th>304</th>\n",
       "      <td>PUBG</td>\n",
       "      <td>2017-06-01</td>\n",
       "      <td>139902</td>\n",
       "      <td>32460</td>\n",
       "      <td>0.3021</td>\n",
       "      <td>267194</td>\n",
       "    </tr>\n",
       "    <tr>\n",
       "      <th>305</th>\n",
       "      <td>PUBG</td>\n",
       "      <td>2017-05-01</td>\n",
       "      <td>107442</td>\n",
       "      <td>37647</td>\n",
       "      <td>0.5394</td>\n",
       "      <td>189456</td>\n",
       "    </tr>\n",
       "    <tr>\n",
       "      <th>306</th>\n",
       "      <td>PUBG</td>\n",
       "      <td>2017-04-01</td>\n",
       "      <td>69795</td>\n",
       "      <td>52244</td>\n",
       "      <td>2.9767</td>\n",
       "      <td>140104</td>\n",
       "    </tr>\n",
       "  </tbody>\n",
       "</table>\n",
       "<p>307 rows × 6 columns</p>\n",
       "</div>"
      ]
     },
     "execution_count": 6,
     "metadata": {},
     "output_type": "execute_result"
    }
   ],
   "execution_count": 6
  },
  {
   "metadata": {
    "ExecuteTime": {
     "end_time": "2024-10-09T12:06:03.865246Z",
     "start_time": "2024-10-09T12:06:03.846099Z"
    }
   },
   "cell_type": "code",
   "source": [
    "data['Month'] = data['Month'].apply(lambda x:x.strftime('%Y-%m'))\n",
    "\n",
    "data_pair = data[data['Name'] == 'CSGO'][[\"Month\",'Average','Peak']].values.tolist()"
   ],
   "id": "9379dd2e5ee0190b",
   "outputs": [],
   "execution_count": 7
  },
  {
   "metadata": {
    "ExecuteTime": {
     "end_time": "2024-10-09T03:54:04.129518Z",
     "start_time": "2024-10-09T03:54:04.096520Z"
    }
   },
   "cell_type": "code",
   "source": [
    "from pyecharts.charts import Line\n",
    "line = (Line()\n",
    "    .add_xaxis(xaxis_data=[i[0] for i in data_pair])\n",
    "    .add_yaxis(series_name='平均在线人数',y_axis=[i[1] for i in data_pair],\n",
    "               is_smooth=True,#让折线可以更加平滑\n",
    "               is_symbol_show=False,#是否显示结点\n",
    "               markline_opts=opts.MarkLineOpts(data=[\n",
    "                   opts.MarkLineItem(type_='average',name='均值线')\n",
    "               ],linestyle_opts=itemstyle),#设置一条显示该折线累计点平均值的折线\n",
    "               markpoint_opts=opts.MarkPointOpts(data=[\n",
    "                   opts.MarkPointItem(type_='max',name='最大值点')\n",
    "               ]))#设置一个显示该折线最大值的结点\n",
    "    .add_yaxis(series_name='在线峰值',y_axis=[i[2] for i in data_pair],\n",
    "               is_smooth=True,\n",
    "               is_symbol_show=False, \n",
    "               markline_opts=opts.MarkLineOpts(data=[\n",
    "                   opts.MarkLineItem(type_='average',name='均值线')\n",
    "               ],linestyle_opts=itemstyle),\n",
    "               markpoint_opts=opts.MarkPointOpts(data=[\n",
    "                   opts.MarkPointItem(type_='max',name='最大值点')\n",
    "               ])\n",
    "               )\n",
    "    .set_global_opts(datazoom_opts=opts.DataZoomOpts(type_='inside'),\n",
    "                     tooltip_opts=opts.TooltipOpts(trigger='axis',axis_pointer_type=\"cross\",),\n",
    "                     xaxis_opts=opts.AxisOpts(name = '日期',splitline_opts={'show':False},name_gap=26,),\n",
    "                     visualmap_opts=opts.VisualMapOpts(\n",
    "                         is_show=True,#是否展示颜色区间\n",
    "                         is_piecewise=True,\n",
    "                         #设置不同数值区间的颜色\n",
    "                         pieces=[\n",
    "                             {'min':1500000,'color':'red'},\n",
    "                             {'min':1200000,'max':1499999,'color':'orange'},\n",
    "                             {'min':900000,'max':1199999,'color':'yellow'},\n",
    "                             {'min':600000,'max':899999,'color':'green'},\n",
    "                             {'min':300000,'max':599999,'color':'blue'},\n",
    "                             {'min':0,'max':299999,'color':'purple'}\n",
    "                         ]\n",
    "                     )\n",
    "                     )\n",
    "    .set_series_opts(label_opts=opts.LabelOpts(is_show=False))\n",
    "    )\n",
    "line.render('./result/line01.html')"
   ],
   "id": "735d70505db0ce6c",
   "outputs": [
    {
     "data": {
      "text/plain": [
       "'C:\\\\Users\\\\wang\\\\Desktop\\\\pyLearn\\\\模块6-数据可视化之pycharts\\\\result\\\\line01.html'"
      ]
     },
     "execution_count": 82,
     "metadata": {},
     "output_type": "execute_result"
    }
   ],
   "execution_count": 82
  },
  {
   "metadata": {
    "ExecuteTime": {
     "end_time": "2024-10-09T12:05:07.559692Z",
     "start_time": "2024-10-09T12:05:07.554391Z"
    }
   },
   "cell_type": "code",
   "source": [
    "from pyecharts.commons.utils import JsCode\n",
    "areastyle1 = {\n",
    "    'normal': {\n",
    "        'color': JsCode(\"\"\"new echarts.graphic.LinearGradient(0, 0, 0, 1, [\n",
    "          { offset: 0, color: 'rgb(255, 191, 0)' },\n",
    "          { offset: 1, color: 'rgb(224, 62, 76)' }\n",
    "        ],)\"\"\"),\n",
    "        'barBorderRadius': [20,20,20,20],      #  柱子的四个角圆角设计\n",
    "        'shadowColor':'rgba(108,80,243,0.9)', # 阴影的颜色\n",
    "        'shadowBlur':5, # 阴影的宽度\n",
    "        'width': 4,\n",
    "         'type': 'dotted'\n",
    "    }\n",
    "}\n",
    "areastyle2 = {\n",
    "    'normal': {\n",
    "        'color': JsCode(\"\"\"new echarts.graphic.LinearGradient(0, 0, 1, 1, [\n",
    "          { offset: 0, color: 'rgb(40, 141, 125)' },\n",
    "          { offset: 1, color: 'rgb(199, 229, 227)' }\n",
    "        ],)\"\"\"),\n",
    "        'barBorderRadius': [20,20,20,20],      #  柱子的四个角圆角设计\n",
    "        'shadowColor':'rgba(108,80,243,0.9)', # 阴影的颜色\n",
    "        'shadowBlur':5, # 阴影的宽度\n",
    "        'width': 4,\n",
    "    }\n",
    "}"
   ],
   "id": "98dd16b5db40d979",
   "outputs": [],
   "execution_count": 3
  },
  {
   "metadata": {
    "ExecuteTime": {
     "end_time": "2024-10-09T12:12:53.545997Z",
     "start_time": "2024-10-09T12:12:53.531996Z"
    }
   },
   "cell_type": "code",
   "source": [
    "from pyecharts.charts import Line\n",
    "from pyecharts import options as opts\n",
    "line = (Line()\n",
    "    .add_xaxis(xaxis_data=[i[0] for i in data_pair])\n",
    "    .add_yaxis(series_name=\"平均在线人数\",y_axis=[i[1] for i in data_pair],\n",
    "               is_smooth=True,\n",
    "               is_symbol_show=False,\n",
    "               areastyle_opts=areastyle1,)\n",
    "    .set_global_opts(\n",
    "        datazoom_opts=opts.DataZoomOpts(type_='inside'),#鼠标进行变化的缩放\n",
    "        tooltip_opts=opts.TooltipOpts(trigger='axis',axis_pointer_type=\"cross\",),\n",
    "        xaxis_opts=opts.AxisOpts(name = '日期',\n",
    "                                 name_location='middle',#位置在水平的中间\n",
    "                                 name_gap=50,#离x轴的距离\n",
    "                    splitline_opts={'show':False},),\n",
    "        )   \n",
    "    )\n",
    "line.render(\"./result/面积图01.html\")"
   ],
   "id": "208d884fe1684e1",
   "outputs": [
    {
     "data": {
      "text/plain": [
       "'C:\\\\Users\\\\wang\\\\Desktop\\\\pyLearn\\\\模块6-数据可视化之pycharts\\\\result\\\\面积图01.html'"
      ]
     },
     "execution_count": 17,
     "metadata": {},
     "output_type": "execute_result"
    }
   ],
   "execution_count": 17
  },
  {
   "metadata": {
    "ExecuteTime": {
     "end_time": "2024-10-09T12:16:46.733527Z",
     "start_time": "2024-10-09T12:16:46.715969Z"
    }
   },
   "cell_type": "code",
   "source": [
    "from pyecharts.charts import Line\n",
    "from pyecharts import options as opts\n",
    "line = (Line()\n",
    "    .add_xaxis(xaxis_data=[i[0] for i in data_pair])\n",
    "    .add_yaxis(series_name=\"平均在线人数\",y_axis=[i[1] for i in data_pair],\n",
    "               is_smooth=True,\n",
    "               is_symbol_show=False,\n",
    "               areastyle_opts=areastyle1,)\n",
    "    .add_yaxis(series_name=\"在线峰值\",y_axis=[i[2] for i in data_pair],\n",
    "               is_smooth=True,\n",
    "               is_symbol_show=True,\n",
    "               areastyle_opts=areastyle2,)\n",
    "    .set_global_opts(\n",
    "        datazoom_opts=opts.DataZoomOpts(type_='inside'),#鼠标进行变化的缩放\n",
    "        tooltip_opts=opts.TooltipOpts(trigger='axis',axis_pointer_type=\"cross\",),\n",
    "        xaxis_opts=opts.AxisOpts(name = '日期',\n",
    "                                 name_location='middle',#位置在水平的中间\n",
    "                                 name_gap=50,#离x轴的距离\n",
    "                    splitline_opts={'show':False},),\n",
    "        )\n",
    "    .set_series_opts(\n",
    "        label_opts=opts.LabelOpts(is_show=False),\n",
    ")\n",
    "    )\n",
    "line.render('./result/02.html')"
   ],
   "id": "ee253fd6395cd5a",
   "outputs": [
    {
     "data": {
      "text/plain": [
       "'C:\\\\Users\\\\wang\\\\Desktop\\\\pyLearn\\\\模块6-数据可视化之pycharts\\\\result\\\\02.html'"
      ]
     },
     "execution_count": 20,
     "metadata": {},
     "output_type": "execute_result"
    }
   ],
   "execution_count": 20
  },
  {
   "metadata": {
    "ExecuteTime": {
     "end_time": "2024-10-09T12:36:25.216562Z",
     "start_time": "2024-10-09T12:36:25.171060Z"
    }
   },
   "cell_type": "code",
   "source": [
    "#柱形图和折线图共用\n",
    "data = {\n",
    "'month': ['Jan', 'Feb', 'Mar', 'Apr', 'May', 'Jun', 'Jul', 'Aug', 'Sep', 'Oct', 'Nov', 'Dec'],\n",
    "'Evaporation': [2.0, 4.9, 7.0, 23.2, 25.6, 76.7, 135.6, 162.2, 32.6, 20.0, 6.4, 3.3],\n",
    "'Precipitation': [2.6, 5.9, 9.0, 26.4, 28.7, 70.7, 175.6, 182.2, 48.7, 18.8, 6.0, 2.3],\n",
    "'Temperature': [2.0, 2.2, 3.3, 4.5, 6.3, 10.2, 20.3, 23.4, 23.0, 16.5, 12.0, 6.2],\n",
    "}"
   ],
   "id": "714682cec35f5b07",
   "outputs": [],
   "execution_count": 21
  },
  {
   "metadata": {
    "ExecuteTime": {
     "end_time": "2024-10-09T13:12:37.278155Z",
     "start_time": "2024-10-09T13:12:37.261046Z"
    }
   },
   "cell_type": "code",
   "source": [
    "from pyecharts.charts import Bar\n",
    "bar = (Bar()\n",
    "        .add_xaxis(xaxis_data=data['month'])\n",
    "       .add_yaxis(series_name=\"Evaporation\",y_axis=data['Evaporation'],\n",
    "                  yaxis_index=1 #表示要使用为1的坐标轴\n",
    "                  )\n",
    "        #新创建的坐标轴的index会在原有的坐标轴的基础上递增\n",
    "       .add_yaxis(series_name=\"Precipitation\",y_axis=data['Precipitation'],yaxis_index=1)\n",
    "        .extend_axis(yaxis=opts.AxisOpts(name='降水',type_='value',max_=200,min_=0,position='right'))\n",
    "       .set_global_opts(title_opts=opts.TitleOpts(title='柱形和条形的共用',pos_left='center'),\n",
    "                        legend_opts=opts.LegendOpts(orient='horizontal',pos_top='5%'),\n",
    "                        xaxis_opts=opts.AxisOpts(splitline_opts={'show':False},),\n",
    "                        yaxis_opts=opts.AxisOpts(type_='value',name='T',min_=0,max_=30))\n",
    "       .set_series_opts(label_opts=opts.LabelOpts(is_show=True,position = 'top'),\n",
    "                        )\n",
    "    )\n",
    "line = (Line()\n",
    "    .add_xaxis(xaxis_data=data['month'])\n",
    "    .add_yaxis(series_name=\"Temperature\",y_axis=data['Temperature'],yaxis_index=0)\n",
    "    )\n",
    "bar.overlap(line)\n",
    "bar.render(\"./result/柱形和折线共用.html\")"
   ],
   "id": "4913c7724e4dcf47",
   "outputs": [
    {
     "data": {
      "text/plain": [
       "'C:\\\\Users\\\\wang\\\\Desktop\\\\pyLearn\\\\模块6-数据可视化之pycharts\\\\result\\\\柱形和折线共用.html'"
      ]
     },
     "execution_count": 46,
     "metadata": {},
     "output_type": "execute_result"
    }
   ],
   "execution_count": 46
  },
  {
   "metadata": {
    "ExecuteTime": {
     "end_time": "2024-10-09T13:08:44.576386Z",
     "start_time": "2024-10-09T13:08:44.543974Z"
    }
   },
   "cell_type": "code",
   "source": [
    "bar = (Bar()\n",
    "    .add_xaxis(data['month'])\n",
    "    .add_yaxis('Evaporation',data['Evaporation'],yaxis_index=1)\n",
    "    .add_yaxis('Precipitation',data['Precipitation'],yaxis_index=1)\n",
    "    .extend_axis(yaxis=opts.AxisOpts(name='降水',type_='value',max_=200,min_=0,position='right'))\n",
    "    .set_global_opts(\n",
    "        yaxis_opts=opts.AxisOpts(type_='value',name='温度',\n",
    "                    min_=0,max_=30,position='left'\n",
    "                                )\n",
    "        )\n",
    "      )\n",
    "line = (Line()\n",
    "    .add_xaxis(data['month'])\n",
    "    .add_yaxis('Temperature',data['Temperature'],yaxis_index=0,z_level=2)\n",
    "       )\n",
    "bar.overlap(line)\n",
    "bar.render('./result/老师柱形和折线共用.html')"
   ],
   "id": "b26b1cc5ed577ecb",
   "outputs": [
    {
     "data": {
      "text/plain": [
       "'C:\\\\Users\\\\wang\\\\Desktop\\\\pyLearn\\\\模块6-数据可视化之pycharts\\\\result\\\\老师柱形和折线共用.html'"
      ]
     },
     "execution_count": 45,
     "metadata": {},
     "output_type": "execute_result"
    }
   ],
   "execution_count": 45
  },
  {
   "metadata": {
    "ExecuteTime": {
     "end_time": "2024-10-09T13:43:43.746336Z",
     "start_time": "2024-10-09T13:43:43.717667Z"
    }
   },
   "cell_type": "code",
   "source": [
    "data = pd.read_csv('./data/GLB.Ts+dSST.csv',header=1)#header=1 表示将该表中的第二行作为列名\n",
    "data2 = data.iloc[:,:13].melt(id_vars='Year')#melt用于将宽格式的数据转换为长格式。id_vars='Year'指定了 “Year” 列作为标识变量，即这一列的值在转换过程中保持不变，其他列被展开成两列，一列包含原来的列名，另一列包含对应的值。好牛逼\n",
    "maps = dict(zip(data.iloc[:,1:13].columns.tolist(), range(1,13)))#zip用于生成一个相互对应的迭代器\n",
    "data2['month'] = data2['variable'].map(maps)#如果该值在字典的键中，就会被替换为对应键的值。例如，如果maps = {'old_value': 'new_value'}，并且 “variable” 列中有一个元素为 “old_value”，那么这个元素就会被替换为 “new_value”。\n",
    "data2['date'] = data2['Year'].astype(str) + '-' + data2['month'].astype(str)\n",
    "data2['date']  = pd.to_datetime(data2['date']).apply(lambda x: x.strftime('%Y-%m'))\n",
    "data2.sort_values(by='date',inplace=True)\n",
    "data_pair = data2[['date','value']].values.tolist()"
   ],
   "id": "91cd53a023d00a40",
   "outputs": [],
   "execution_count": 64
  },
  {
   "metadata": {
    "ExecuteTime": {
     "end_time": "2024-10-09T13:22:22.985868Z",
     "start_time": "2024-10-09T13:22:22.961215Z"
    }
   },
   "cell_type": "code",
   "source": "data",
   "id": "35cd325d26246d29",
   "outputs": [
    {
     "data": {
      "text/plain": [
       "     Year   Jan    Feb    Mar    Apr    May    Jun    Jul    Aug    Sep  \\\n",
       "0    1880 -0.18  -0.24  -0.09  -0.16   -0.1  -0.21  -0.18   -0.1  -0.15   \n",
       "1    1881 -0.19  -0.14   0.03   0.05   0.06  -0.18      0  -0.03  -0.15   \n",
       "2    1882  0.16   0.14   0.04  -0.16  -0.14  -0.22  -0.17  -0.08  -0.15   \n",
       "3    1883 -0.29  -0.37  -0.12  -0.18  -0.18  -0.07  -0.07  -0.14  -0.22   \n",
       "4    1884 -0.13  -0.08  -0.36   -0.4  -0.34  -0.35   -0.3  -0.28  -0.27   \n",
       "..    ...   ...    ...    ...    ...    ...    ...    ...    ...    ...   \n",
       "139  2019  0.93   0.95   1.17   1.02   0.85   0.91   0.94   0.95   0.93   \n",
       "140  2020  1.17   1.25   1.17   1.14   1.02   0.92    0.9   0.88   0.99   \n",
       "141  2021  0.82   0.64   0.89   0.76   0.79   0.85   0.92   0.82   0.93   \n",
       "142  2022  0.91    0.9   1.06   0.84   0.85   0.93   0.94   0.96    0.9   \n",
       "143  2023  0.87    ***    ***    ***    ***    ***    ***    ***    ***   \n",
       "\n",
       "       Oct    Nov    Dec    J-D    D-N    DJF    MAM    JJA    SON  \n",
       "0    -0.23  -0.22  -0.17  -0.17    ***    ***  -0.11  -0.16   -0.2  \n",
       "1    -0.22  -0.18  -0.07  -0.09  -0.09  -0.17   0.05  -0.07  -0.18  \n",
       "2    -0.23  -0.17  -0.36  -0.11  -0.09   0.08  -0.08  -0.16  -0.18  \n",
       "3    -0.11  -0.24  -0.11  -0.18   -0.2  -0.34  -0.16   -0.1  -0.19  \n",
       "4    -0.25  -0.33  -0.31  -0.28  -0.27  -0.11  -0.37  -0.31  -0.28  \n",
       "..     ...    ...    ...    ...    ...    ...    ...    ...    ...  \n",
       "139   1.01   0.99   1.09   0.98   0.96   0.93   1.01   0.93   0.98  \n",
       "140   0.89   1.11   0.82   1.02   1.05   1.17   1.11    0.9      1  \n",
       "141      1   0.94   0.87   0.85   0.85   0.76   0.81   0.86   0.95  \n",
       "142   0.97   0.72   0.81    0.9    0.9   0.89   0.92   0.94   0.86  \n",
       "143    ***    ***    ***    ***    ***    ***    ***    ***    ***  \n",
       "\n",
       "[144 rows x 19 columns]"
      ],
      "text/html": [
       "<div>\n",
       "<style scoped>\n",
       "    .dataframe tbody tr th:only-of-type {\n",
       "        vertical-align: middle;\n",
       "    }\n",
       "\n",
       "    .dataframe tbody tr th {\n",
       "        vertical-align: top;\n",
       "    }\n",
       "\n",
       "    .dataframe thead th {\n",
       "        text-align: right;\n",
       "    }\n",
       "</style>\n",
       "<table border=\"1\" class=\"dataframe\">\n",
       "  <thead>\n",
       "    <tr style=\"text-align: right;\">\n",
       "      <th></th>\n",
       "      <th>Year</th>\n",
       "      <th>Jan</th>\n",
       "      <th>Feb</th>\n",
       "      <th>Mar</th>\n",
       "      <th>Apr</th>\n",
       "      <th>May</th>\n",
       "      <th>Jun</th>\n",
       "      <th>Jul</th>\n",
       "      <th>Aug</th>\n",
       "      <th>Sep</th>\n",
       "      <th>Oct</th>\n",
       "      <th>Nov</th>\n",
       "      <th>Dec</th>\n",
       "      <th>J-D</th>\n",
       "      <th>D-N</th>\n",
       "      <th>DJF</th>\n",
       "      <th>MAM</th>\n",
       "      <th>JJA</th>\n",
       "      <th>SON</th>\n",
       "    </tr>\n",
       "  </thead>\n",
       "  <tbody>\n",
       "    <tr>\n",
       "      <th>0</th>\n",
       "      <td>1880</td>\n",
       "      <td>-0.18</td>\n",
       "      <td>-0.24</td>\n",
       "      <td>-0.09</td>\n",
       "      <td>-0.16</td>\n",
       "      <td>-0.1</td>\n",
       "      <td>-0.21</td>\n",
       "      <td>-0.18</td>\n",
       "      <td>-0.1</td>\n",
       "      <td>-0.15</td>\n",
       "      <td>-0.23</td>\n",
       "      <td>-0.22</td>\n",
       "      <td>-0.17</td>\n",
       "      <td>-0.17</td>\n",
       "      <td>***</td>\n",
       "      <td>***</td>\n",
       "      <td>-0.11</td>\n",
       "      <td>-0.16</td>\n",
       "      <td>-0.2</td>\n",
       "    </tr>\n",
       "    <tr>\n",
       "      <th>1</th>\n",
       "      <td>1881</td>\n",
       "      <td>-0.19</td>\n",
       "      <td>-0.14</td>\n",
       "      <td>0.03</td>\n",
       "      <td>0.05</td>\n",
       "      <td>0.06</td>\n",
       "      <td>-0.18</td>\n",
       "      <td>0</td>\n",
       "      <td>-0.03</td>\n",
       "      <td>-0.15</td>\n",
       "      <td>-0.22</td>\n",
       "      <td>-0.18</td>\n",
       "      <td>-0.07</td>\n",
       "      <td>-0.09</td>\n",
       "      <td>-0.09</td>\n",
       "      <td>-0.17</td>\n",
       "      <td>0.05</td>\n",
       "      <td>-0.07</td>\n",
       "      <td>-0.18</td>\n",
       "    </tr>\n",
       "    <tr>\n",
       "      <th>2</th>\n",
       "      <td>1882</td>\n",
       "      <td>0.16</td>\n",
       "      <td>0.14</td>\n",
       "      <td>0.04</td>\n",
       "      <td>-0.16</td>\n",
       "      <td>-0.14</td>\n",
       "      <td>-0.22</td>\n",
       "      <td>-0.17</td>\n",
       "      <td>-0.08</td>\n",
       "      <td>-0.15</td>\n",
       "      <td>-0.23</td>\n",
       "      <td>-0.17</td>\n",
       "      <td>-0.36</td>\n",
       "      <td>-0.11</td>\n",
       "      <td>-0.09</td>\n",
       "      <td>0.08</td>\n",
       "      <td>-0.08</td>\n",
       "      <td>-0.16</td>\n",
       "      <td>-0.18</td>\n",
       "    </tr>\n",
       "    <tr>\n",
       "      <th>3</th>\n",
       "      <td>1883</td>\n",
       "      <td>-0.29</td>\n",
       "      <td>-0.37</td>\n",
       "      <td>-0.12</td>\n",
       "      <td>-0.18</td>\n",
       "      <td>-0.18</td>\n",
       "      <td>-0.07</td>\n",
       "      <td>-0.07</td>\n",
       "      <td>-0.14</td>\n",
       "      <td>-0.22</td>\n",
       "      <td>-0.11</td>\n",
       "      <td>-0.24</td>\n",
       "      <td>-0.11</td>\n",
       "      <td>-0.18</td>\n",
       "      <td>-0.2</td>\n",
       "      <td>-0.34</td>\n",
       "      <td>-0.16</td>\n",
       "      <td>-0.1</td>\n",
       "      <td>-0.19</td>\n",
       "    </tr>\n",
       "    <tr>\n",
       "      <th>4</th>\n",
       "      <td>1884</td>\n",
       "      <td>-0.13</td>\n",
       "      <td>-0.08</td>\n",
       "      <td>-0.36</td>\n",
       "      <td>-0.4</td>\n",
       "      <td>-0.34</td>\n",
       "      <td>-0.35</td>\n",
       "      <td>-0.3</td>\n",
       "      <td>-0.28</td>\n",
       "      <td>-0.27</td>\n",
       "      <td>-0.25</td>\n",
       "      <td>-0.33</td>\n",
       "      <td>-0.31</td>\n",
       "      <td>-0.28</td>\n",
       "      <td>-0.27</td>\n",
       "      <td>-0.11</td>\n",
       "      <td>-0.37</td>\n",
       "      <td>-0.31</td>\n",
       "      <td>-0.28</td>\n",
       "    </tr>\n",
       "    <tr>\n",
       "      <th>...</th>\n",
       "      <td>...</td>\n",
       "      <td>...</td>\n",
       "      <td>...</td>\n",
       "      <td>...</td>\n",
       "      <td>...</td>\n",
       "      <td>...</td>\n",
       "      <td>...</td>\n",
       "      <td>...</td>\n",
       "      <td>...</td>\n",
       "      <td>...</td>\n",
       "      <td>...</td>\n",
       "      <td>...</td>\n",
       "      <td>...</td>\n",
       "      <td>...</td>\n",
       "      <td>...</td>\n",
       "      <td>...</td>\n",
       "      <td>...</td>\n",
       "      <td>...</td>\n",
       "      <td>...</td>\n",
       "    </tr>\n",
       "    <tr>\n",
       "      <th>139</th>\n",
       "      <td>2019</td>\n",
       "      <td>0.93</td>\n",
       "      <td>0.95</td>\n",
       "      <td>1.17</td>\n",
       "      <td>1.02</td>\n",
       "      <td>0.85</td>\n",
       "      <td>0.91</td>\n",
       "      <td>0.94</td>\n",
       "      <td>0.95</td>\n",
       "      <td>0.93</td>\n",
       "      <td>1.01</td>\n",
       "      <td>0.99</td>\n",
       "      <td>1.09</td>\n",
       "      <td>0.98</td>\n",
       "      <td>0.96</td>\n",
       "      <td>0.93</td>\n",
       "      <td>1.01</td>\n",
       "      <td>0.93</td>\n",
       "      <td>0.98</td>\n",
       "    </tr>\n",
       "    <tr>\n",
       "      <th>140</th>\n",
       "      <td>2020</td>\n",
       "      <td>1.17</td>\n",
       "      <td>1.25</td>\n",
       "      <td>1.17</td>\n",
       "      <td>1.14</td>\n",
       "      <td>1.02</td>\n",
       "      <td>0.92</td>\n",
       "      <td>0.9</td>\n",
       "      <td>0.88</td>\n",
       "      <td>0.99</td>\n",
       "      <td>0.89</td>\n",
       "      <td>1.11</td>\n",
       "      <td>0.82</td>\n",
       "      <td>1.02</td>\n",
       "      <td>1.05</td>\n",
       "      <td>1.17</td>\n",
       "      <td>1.11</td>\n",
       "      <td>0.9</td>\n",
       "      <td>1</td>\n",
       "    </tr>\n",
       "    <tr>\n",
       "      <th>141</th>\n",
       "      <td>2021</td>\n",
       "      <td>0.82</td>\n",
       "      <td>0.64</td>\n",
       "      <td>0.89</td>\n",
       "      <td>0.76</td>\n",
       "      <td>0.79</td>\n",
       "      <td>0.85</td>\n",
       "      <td>0.92</td>\n",
       "      <td>0.82</td>\n",
       "      <td>0.93</td>\n",
       "      <td>1</td>\n",
       "      <td>0.94</td>\n",
       "      <td>0.87</td>\n",
       "      <td>0.85</td>\n",
       "      <td>0.85</td>\n",
       "      <td>0.76</td>\n",
       "      <td>0.81</td>\n",
       "      <td>0.86</td>\n",
       "      <td>0.95</td>\n",
       "    </tr>\n",
       "    <tr>\n",
       "      <th>142</th>\n",
       "      <td>2022</td>\n",
       "      <td>0.91</td>\n",
       "      <td>0.9</td>\n",
       "      <td>1.06</td>\n",
       "      <td>0.84</td>\n",
       "      <td>0.85</td>\n",
       "      <td>0.93</td>\n",
       "      <td>0.94</td>\n",
       "      <td>0.96</td>\n",
       "      <td>0.9</td>\n",
       "      <td>0.97</td>\n",
       "      <td>0.72</td>\n",
       "      <td>0.81</td>\n",
       "      <td>0.9</td>\n",
       "      <td>0.9</td>\n",
       "      <td>0.89</td>\n",
       "      <td>0.92</td>\n",
       "      <td>0.94</td>\n",
       "      <td>0.86</td>\n",
       "    </tr>\n",
       "    <tr>\n",
       "      <th>143</th>\n",
       "      <td>2023</td>\n",
       "      <td>0.87</td>\n",
       "      <td>***</td>\n",
       "      <td>***</td>\n",
       "      <td>***</td>\n",
       "      <td>***</td>\n",
       "      <td>***</td>\n",
       "      <td>***</td>\n",
       "      <td>***</td>\n",
       "      <td>***</td>\n",
       "      <td>***</td>\n",
       "      <td>***</td>\n",
       "      <td>***</td>\n",
       "      <td>***</td>\n",
       "      <td>***</td>\n",
       "      <td>***</td>\n",
       "      <td>***</td>\n",
       "      <td>***</td>\n",
       "      <td>***</td>\n",
       "    </tr>\n",
       "  </tbody>\n",
       "</table>\n",
       "<p>144 rows × 19 columns</p>\n",
       "</div>"
      ]
     },
     "execution_count": 53,
     "metadata": {},
     "output_type": "execute_result"
    }
   ],
   "execution_count": 53
  },
  {
   "metadata": {
    "ExecuteTime": {
     "end_time": "2024-10-09T13:42:55.471152Z",
     "start_time": "2024-10-09T13:42:55.461619Z"
    }
   },
   "cell_type": "code",
   "source": "data2",
   "id": "e51c63b1afd6a33b",
   "outputs": [
    {
     "data": {
      "text/plain": [
       "      Year variable value  month     date\n",
       "0     1880      Jan -0.18      1  1880-01\n",
       "1     1881      Jan -0.19      1  1881-01\n",
       "2     1882      Jan  0.16      1  1882-01\n",
       "3     1883      Jan -0.29      1  1883-01\n",
       "4     1884      Jan -0.13      1  1884-01\n",
       "...    ...      ...   ...    ...      ...\n",
       "1723  2019      Dec  1.09     12  2019-12\n",
       "1724  2020      Dec  0.82     12  2020-12\n",
       "1725  2021      Dec  0.87     12  2021-12\n",
       "1726  2022      Dec  0.81     12  2022-12\n",
       "1727  2023      Dec   ***     12  2023-12\n",
       "\n",
       "[1728 rows x 5 columns]"
      ],
      "text/html": [
       "<div>\n",
       "<style scoped>\n",
       "    .dataframe tbody tr th:only-of-type {\n",
       "        vertical-align: middle;\n",
       "    }\n",
       "\n",
       "    .dataframe tbody tr th {\n",
       "        vertical-align: top;\n",
       "    }\n",
       "\n",
       "    .dataframe thead th {\n",
       "        text-align: right;\n",
       "    }\n",
       "</style>\n",
       "<table border=\"1\" class=\"dataframe\">\n",
       "  <thead>\n",
       "    <tr style=\"text-align: right;\">\n",
       "      <th></th>\n",
       "      <th>Year</th>\n",
       "      <th>variable</th>\n",
       "      <th>value</th>\n",
       "      <th>month</th>\n",
       "      <th>date</th>\n",
       "    </tr>\n",
       "  </thead>\n",
       "  <tbody>\n",
       "    <tr>\n",
       "      <th>0</th>\n",
       "      <td>1880</td>\n",
       "      <td>Jan</td>\n",
       "      <td>-0.18</td>\n",
       "      <td>1</td>\n",
       "      <td>1880-01</td>\n",
       "    </tr>\n",
       "    <tr>\n",
       "      <th>1</th>\n",
       "      <td>1881</td>\n",
       "      <td>Jan</td>\n",
       "      <td>-0.19</td>\n",
       "      <td>1</td>\n",
       "      <td>1881-01</td>\n",
       "    </tr>\n",
       "    <tr>\n",
       "      <th>2</th>\n",
       "      <td>1882</td>\n",
       "      <td>Jan</td>\n",
       "      <td>0.16</td>\n",
       "      <td>1</td>\n",
       "      <td>1882-01</td>\n",
       "    </tr>\n",
       "    <tr>\n",
       "      <th>3</th>\n",
       "      <td>1883</td>\n",
       "      <td>Jan</td>\n",
       "      <td>-0.29</td>\n",
       "      <td>1</td>\n",
       "      <td>1883-01</td>\n",
       "    </tr>\n",
       "    <tr>\n",
       "      <th>4</th>\n",
       "      <td>1884</td>\n",
       "      <td>Jan</td>\n",
       "      <td>-0.13</td>\n",
       "      <td>1</td>\n",
       "      <td>1884-01</td>\n",
       "    </tr>\n",
       "    <tr>\n",
       "      <th>...</th>\n",
       "      <td>...</td>\n",
       "      <td>...</td>\n",
       "      <td>...</td>\n",
       "      <td>...</td>\n",
       "      <td>...</td>\n",
       "    </tr>\n",
       "    <tr>\n",
       "      <th>1723</th>\n",
       "      <td>2019</td>\n",
       "      <td>Dec</td>\n",
       "      <td>1.09</td>\n",
       "      <td>12</td>\n",
       "      <td>2019-12</td>\n",
       "    </tr>\n",
       "    <tr>\n",
       "      <th>1724</th>\n",
       "      <td>2020</td>\n",
       "      <td>Dec</td>\n",
       "      <td>0.82</td>\n",
       "      <td>12</td>\n",
       "      <td>2020-12</td>\n",
       "    </tr>\n",
       "    <tr>\n",
       "      <th>1725</th>\n",
       "      <td>2021</td>\n",
       "      <td>Dec</td>\n",
       "      <td>0.87</td>\n",
       "      <td>12</td>\n",
       "      <td>2021-12</td>\n",
       "    </tr>\n",
       "    <tr>\n",
       "      <th>1726</th>\n",
       "      <td>2022</td>\n",
       "      <td>Dec</td>\n",
       "      <td>0.81</td>\n",
       "      <td>12</td>\n",
       "      <td>2022-12</td>\n",
       "    </tr>\n",
       "    <tr>\n",
       "      <th>1727</th>\n",
       "      <td>2023</td>\n",
       "      <td>Dec</td>\n",
       "      <td>***</td>\n",
       "      <td>12</td>\n",
       "      <td>2023-12</td>\n",
       "    </tr>\n",
       "  </tbody>\n",
       "</table>\n",
       "<p>1728 rows × 5 columns</p>\n",
       "</div>"
      ]
     },
     "execution_count": 62,
     "metadata": {},
     "output_type": "execute_result"
    }
   ],
   "execution_count": 62
  },
  {
   "metadata": {
    "ExecuteTime": {
     "end_time": "2024-10-09T14:10:26.595019Z",
     "start_time": "2024-10-09T14:10:26.556771Z"
    }
   },
   "cell_type": "code",
   "source": [
    "jscode = \"\"\"function(x) {console.log(x); if(x >= 0) {return '+' + x} else {return x};}\"\"\"\n",
    "from pyecharts.charts import Scatter\n",
    "sca = (Scatter()\n",
    "    .add_xaxis(xaxis_data= [i[0] for i in data_pair])\n",
    "    .add_yaxis('温度',y_axis=[i[1] for i in data_pair],\n",
    "               itemstyle_opts=opts.ItemStyleOpts(border_width=.5,opacity=0.5),\n",
    "            markline_opts=opts.MarkLineOpts(data=[opts.MarkLineItem(y=0)])\n",
    "               )\n",
    "    .set_series_opts(label_opts=opts.LabelOpts(is_show=False),)\n",
    "    .set_global_opts(datazoom_opts=opts.DataZoomOpts(),\n",
    "                     tooltip_opts=opts.TooltipOpts(trigger='item',axis_pointer_type=\"cross\",),\n",
    "                     title_opts=opts.TitleOpts(title='各年里每月的温度散点图',pos_left='center'),\n",
    "                     legend_opts=opts.LegendOpts(orient='horizontal',pos_top='5%'),\n",
    "                     yaxis_opts=opts.AxisOpts(type_='value',min_=-0.8,max_=1.2,\n",
    "                                              split_number=10,#坐标轴的分割段数\n",
    "                    name= 'Anomaly ( °C\") Distance from 1951-1980 avera',\n",
    "                    name_location='center',name_gap=40,\n",
    "                    axislabel_opts=opts.LabelOpts(formatter=JsCode(jscode)),#设置y轴标签的数值展示形式\n",
    "                    splitline_opts={'show':False},\n",
    "                    axisline_opts={'show':False},\n",
    "                    axistick_opts={'show':False},\n",
    "                                ),\n",
    "        xaxis_opts=opts.AxisOpts(type_='time',split_number=20,position='bottom',\n",
    "                                 offset=2,#Y轴相对默认位置的偏移\n",
    "                splitline_opts=opts.SplitLineOpts(is_show=False),\n",
    "                axisline_opts=opts.AxisLineOpts(is_show=False),\n",
    "                axistick_opts=opts.AxisTickOpts(is_show=False),     \n",
    "                                ),\n",
    "        #不同数值的颜色变化\n",
    "        visualmap_opts=opts.VisualMapOpts(is_show=False,is_calculable=True,\n",
    "                range_color=['blue','#c5dbe9','#eab195','#681321','red'],\n",
    "                min_= -0.8,max_ = 1.2)\n",
    "                     )\n",
    "       )\n",
    "sca.render('./result/温度散点图.html')"
   ],
   "id": "2fac9f2c3fc65a10",
   "outputs": [
    {
     "data": {
      "text/plain": [
       "'C:\\\\Users\\\\wang\\\\Desktop\\\\pyLearn\\\\模块6-数据可视化之pycharts\\\\result\\\\温度散点图.html'"
      ]
     },
     "execution_count": 75,
     "metadata": {},
     "output_type": "execute_result"
    }
   ],
   "execution_count": 75
  },
  {
   "metadata": {},
   "cell_type": "code",
   "outputs": [],
   "execution_count": null,
   "source": "",
   "id": "6c035ffddb8837e3"
  }
 ],
 "metadata": {
  "kernelspec": {
   "display_name": "Python 3",
   "language": "python",
   "name": "python3"
  },
  "language_info": {
   "codemirror_mode": {
    "name": "ipython",
    "version": 2
   },
   "file_extension": ".py",
   "mimetype": "text/x-python",
   "name": "python",
   "nbconvert_exporter": "python",
   "pygments_lexer": "ipython2",
   "version": "2.7.6"
  }
 },
 "nbformat": 4,
 "nbformat_minor": 5
}
