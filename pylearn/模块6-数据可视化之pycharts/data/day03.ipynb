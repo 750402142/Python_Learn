{
 "cells": [
  {
   "cell_type": "code",
   "id": "initial_id",
   "metadata": {
    "collapsed": true,
    "ExecuteTime": {
     "end_time": "2024-10-10T00:13:01.408461Z",
     "start_time": "2024-10-10T00:13:01.401950Z"
    }
   },
   "source": [
    "import pandas as pd\n",
    "import numpy as np\n",
    "import sys\n",
    "\n",
    "from matplotlib.pyplot import title\n",
    "\n",
    "print('Python version:', sys.version)\n",
    "print('Pandas version:', pd.__version__)\n",
    "print('Numpy version:', np.__version__)\n",
    "\n",
    "from pyecharts.charts import Scatter\n",
    "from pyecharts.globals import JsCode\n",
    "from pyecharts import options as opts\n",
    "from pyecharts.globals import ThemeType"
   ],
   "outputs": [
    {
     "name": "stdout",
     "output_type": "stream",
     "text": [
      "Python version: 3.10.9 (tags/v3.10.9:1dd9be6, Dec  6 2022, 20:01:21) [MSC v.1934 64 bit (AMD64)]\n",
      "Pandas version: 2.2.2\n",
      "Numpy version: 2.1.1\n"
     ]
    }
   ],
   "execution_count": 2
  },
  {
   "metadata": {
    "ExecuteTime": {
     "end_time": "2024-10-10T01:21:23.597608Z",
     "start_time": "2024-10-10T01:21:23.581693Z"
    }
   },
   "cell_type": "code",
   "source": [
    "data = pd.read_csv('./data/天猫订单_去除0.csv',encoding='utf-8')\n",
    "data['date-time'] = data['date'] + ' ' + data['time']\n",
    "data['date-time'] = pd.to_datetime(data['date-time'])\n",
    "tb = pd.DataFrame(pd.date_range('2024-09-30 00:00:00', '2024-10-06 23:59:59', freq='h'))\n",
    "alldt = pd.merge(left=data,right=tb,left_on='date-time',right_on=0,how='outer')[['date-time','va',0]].fillna(0)\n",
    "alldt['Week'] = alldt[0].dt.day_name()\n",
    "alldt['hour'] = alldt[0].dt.hour"
   ],
   "id": "461511f36df09c4b",
   "outputs": [],
   "execution_count": 27
  },
  {
   "metadata": {
    "ExecuteTime": {
     "end_time": "2024-10-10T01:21:24.217317Z",
     "start_time": "2024-10-10T01:21:24.196515Z"
    }
   },
   "cell_type": "code",
   "source": "alldt",
   "id": "c415992e8132ecb7",
   "outputs": [
    {
     "data": {
      "text/plain": [
       "              date-time   va                   0    Week  hour\n",
       "0   2024-09-30 00:00:00  5.0 2024-09-30 00:00:00  Monday     0\n",
       "1   2024-09-30 01:00:00  1.0 2024-09-30 01:00:00  Monday     1\n",
       "2   2024-09-30 02:00:00  0.0 2024-09-30 02:00:00  Monday     2\n",
       "3   2024-09-30 03:00:00  0.0 2024-09-30 03:00:00  Monday     3\n",
       "4   2024-09-30 04:00:00  0.0 2024-09-30 04:00:00  Monday     4\n",
       "..                  ...  ...                 ...     ...   ...\n",
       "163 2024-10-06 19:00:00  0.0 2024-10-06 19:00:00  Sunday    19\n",
       "164 2024-10-06 20:00:00  1.0 2024-10-06 20:00:00  Sunday    20\n",
       "165 2024-10-06 21:00:00  2.0 2024-10-06 21:00:00  Sunday    21\n",
       "166 2024-10-06 22:00:00  2.0 2024-10-06 22:00:00  Sunday    22\n",
       "167 2024-10-06 23:00:00  6.0 2024-10-06 23:00:00  Sunday    23\n",
       "\n",
       "[168 rows x 5 columns]"
      ],
      "text/html": [
       "<div>\n",
       "<style scoped>\n",
       "    .dataframe tbody tr th:only-of-type {\n",
       "        vertical-align: middle;\n",
       "    }\n",
       "\n",
       "    .dataframe tbody tr th {\n",
       "        vertical-align: top;\n",
       "    }\n",
       "\n",
       "    .dataframe thead th {\n",
       "        text-align: right;\n",
       "    }\n",
       "</style>\n",
       "<table border=\"1\" class=\"dataframe\">\n",
       "  <thead>\n",
       "    <tr style=\"text-align: right;\">\n",
       "      <th></th>\n",
       "      <th>date-time</th>\n",
       "      <th>va</th>\n",
       "      <th>0</th>\n",
       "      <th>Week</th>\n",
       "      <th>hour</th>\n",
       "    </tr>\n",
       "  </thead>\n",
       "  <tbody>\n",
       "    <tr>\n",
       "      <th>0</th>\n",
       "      <td>2024-09-30 00:00:00</td>\n",
       "      <td>5.0</td>\n",
       "      <td>2024-09-30 00:00:00</td>\n",
       "      <td>Monday</td>\n",
       "      <td>0</td>\n",
       "    </tr>\n",
       "    <tr>\n",
       "      <th>1</th>\n",
       "      <td>2024-09-30 01:00:00</td>\n",
       "      <td>1.0</td>\n",
       "      <td>2024-09-30 01:00:00</td>\n",
       "      <td>Monday</td>\n",
       "      <td>1</td>\n",
       "    </tr>\n",
       "    <tr>\n",
       "      <th>2</th>\n",
       "      <td>2024-09-30 02:00:00</td>\n",
       "      <td>0.0</td>\n",
       "      <td>2024-09-30 02:00:00</td>\n",
       "      <td>Monday</td>\n",
       "      <td>2</td>\n",
       "    </tr>\n",
       "    <tr>\n",
       "      <th>3</th>\n",
       "      <td>2024-09-30 03:00:00</td>\n",
       "      <td>0.0</td>\n",
       "      <td>2024-09-30 03:00:00</td>\n",
       "      <td>Monday</td>\n",
       "      <td>3</td>\n",
       "    </tr>\n",
       "    <tr>\n",
       "      <th>4</th>\n",
       "      <td>2024-09-30 04:00:00</td>\n",
       "      <td>0.0</td>\n",
       "      <td>2024-09-30 04:00:00</td>\n",
       "      <td>Monday</td>\n",
       "      <td>4</td>\n",
       "    </tr>\n",
       "    <tr>\n",
       "      <th>...</th>\n",
       "      <td>...</td>\n",
       "      <td>...</td>\n",
       "      <td>...</td>\n",
       "      <td>...</td>\n",
       "      <td>...</td>\n",
       "    </tr>\n",
       "    <tr>\n",
       "      <th>163</th>\n",
       "      <td>2024-10-06 19:00:00</td>\n",
       "      <td>0.0</td>\n",
       "      <td>2024-10-06 19:00:00</td>\n",
       "      <td>Sunday</td>\n",
       "      <td>19</td>\n",
       "    </tr>\n",
       "    <tr>\n",
       "      <th>164</th>\n",
       "      <td>2024-10-06 20:00:00</td>\n",
       "      <td>1.0</td>\n",
       "      <td>2024-10-06 20:00:00</td>\n",
       "      <td>Sunday</td>\n",
       "      <td>20</td>\n",
       "    </tr>\n",
       "    <tr>\n",
       "      <th>165</th>\n",
       "      <td>2024-10-06 21:00:00</td>\n",
       "      <td>2.0</td>\n",
       "      <td>2024-10-06 21:00:00</td>\n",
       "      <td>Sunday</td>\n",
       "      <td>21</td>\n",
       "    </tr>\n",
       "    <tr>\n",
       "      <th>166</th>\n",
       "      <td>2024-10-06 22:00:00</td>\n",
       "      <td>2.0</td>\n",
       "      <td>2024-10-06 22:00:00</td>\n",
       "      <td>Sunday</td>\n",
       "      <td>22</td>\n",
       "    </tr>\n",
       "    <tr>\n",
       "      <th>167</th>\n",
       "      <td>2024-10-06 23:00:00</td>\n",
       "      <td>6.0</td>\n",
       "      <td>2024-10-06 23:00:00</td>\n",
       "      <td>Sunday</td>\n",
       "      <td>23</td>\n",
       "    </tr>\n",
       "  </tbody>\n",
       "</table>\n",
       "<p>168 rows × 5 columns</p>\n",
       "</div>"
      ]
     },
     "execution_count": 28,
     "metadata": {},
     "output_type": "execute_result"
    }
   ],
   "execution_count": 28
  },
  {
   "metadata": {
    "ExecuteTime": {
     "end_time": "2024-10-10T01:21:28.140687Z",
     "start_time": "2024-10-10T01:21:28.118400Z"
    }
   },
   "cell_type": "code",
   "source": [
    "allinfo = alldt[['Week','hour','va']].values.tolist()\n",
    "week = alldt['Week'].unique().tolist()"
   ],
   "id": "5dbe97c721f94194",
   "outputs": [],
   "execution_count": 29
  },
  {
   "metadata": {
    "ExecuteTime": {
     "end_time": "2024-10-10T01:41:36.932086Z",
     "start_time": "2024-10-10T01:41:36.919721Z"
    }
   },
   "cell_type": "code",
   "source": "allinfo",
   "id": "97786926b9db6bd9",
   "outputs": [
    {
     "data": {
      "text/plain": [
       "[['Monday', 0, 5.0],\n",
       " ['Monday', 1, 1.0],\n",
       " ['Monday', 2, 0.0],\n",
       " ['Monday', 3, 0.0],\n",
       " ['Monday', 4, 0.0],\n",
       " ['Monday', 5, 0.0],\n",
       " ['Monday', 6, 0.0],\n",
       " ['Monday', 7, 0.0],\n",
       " ['Monday', 8, 0.0],\n",
       " ['Monday', 9, 0.0],\n",
       " ['Monday', 10, 0.0],\n",
       " ['Monday', 11, 2.0],\n",
       " ['Monday', 12, 4.0],\n",
       " ['Monday', 13, 1.0],\n",
       " ['Monday', 14, 1.0],\n",
       " ['Monday', 15, 3.0],\n",
       " ['Monday', 16, 4.0],\n",
       " ['Monday', 17, 6.0],\n",
       " ['Monday', 18, 4.0],\n",
       " ['Monday', 19, 4.0],\n",
       " ['Monday', 20, 3.0],\n",
       " ['Monday', 21, 3.0],\n",
       " ['Monday', 22, 2.0],\n",
       " ['Monday', 23, 5.0],\n",
       " ['Tuesday', 0, 7.0],\n",
       " ['Tuesday', 1, 0.0],\n",
       " ['Tuesday', 2, 0.0],\n",
       " ['Tuesday', 3, 0.0],\n",
       " ['Tuesday', 4, 0.0],\n",
       " ['Tuesday', 5, 0.0],\n",
       " ['Tuesday', 6, 0.0],\n",
       " ['Tuesday', 7, 0.0],\n",
       " ['Tuesday', 8, 0.0],\n",
       " ['Tuesday', 9, 0.0],\n",
       " ['Tuesday', 10, 5.0],\n",
       " ['Tuesday', 11, 2.0],\n",
       " ['Tuesday', 12, 2.0],\n",
       " ['Tuesday', 13, 6.0],\n",
       " ['Tuesday', 14, 9.0],\n",
       " ['Tuesday', 15, 11.0],\n",
       " ['Tuesday', 16, 6.0],\n",
       " ['Tuesday', 17, 7.0],\n",
       " ['Tuesday', 18, 8.0],\n",
       " ['Tuesday', 19, 12.0],\n",
       " ['Tuesday', 20, 5.0],\n",
       " ['Tuesday', 21, 5.0],\n",
       " ['Tuesday', 22, 7.0],\n",
       " ['Tuesday', 23, 2.0],\n",
       " ['Wednesday', 0, 1.0],\n",
       " ['Wednesday', 1, 1.0],\n",
       " ['Wednesday', 2, 0.0],\n",
       " ['Wednesday', 3, 0.0],\n",
       " ['Wednesday', 4, 0.0],\n",
       " ['Wednesday', 5, 0.0],\n",
       " ['Wednesday', 6, 0.0],\n",
       " ['Wednesday', 7, 0.0],\n",
       " ['Wednesday', 8, 0.0],\n",
       " ['Wednesday', 9, 0.0],\n",
       " ['Wednesday', 10, 3.0],\n",
       " ['Wednesday', 11, 2.0],\n",
       " ['Wednesday', 12, 1.0],\n",
       " ['Wednesday', 13, 9.0],\n",
       " ['Wednesday', 14, 8.0],\n",
       " ['Wednesday', 15, 10.0],\n",
       " ['Wednesday', 16, 6.0],\n",
       " ['Wednesday', 17, 5.0],\n",
       " ['Wednesday', 18, 5.0],\n",
       " ['Wednesday', 19, 5.0],\n",
       " ['Wednesday', 20, 7.0],\n",
       " ['Wednesday', 21, 4.0],\n",
       " ['Wednesday', 22, 2.0],\n",
       " ['Wednesday', 23, 4.0],\n",
       " ['Thursday', 0, 7.0],\n",
       " ['Thursday', 1, 3.0],\n",
       " ['Thursday', 2, 0.0],\n",
       " ['Thursday', 3, 0.0],\n",
       " ['Thursday', 4, 0.0],\n",
       " ['Thursday', 5, 0.0],\n",
       " ['Thursday', 6, 0.0],\n",
       " ['Thursday', 7, 0.0],\n",
       " ['Thursday', 8, 1.0],\n",
       " ['Thursday', 9, 0.0],\n",
       " ['Thursday', 10, 5.0],\n",
       " ['Thursday', 11, 4.0],\n",
       " ['Thursday', 12, 7.0],\n",
       " ['Thursday', 13, 14.0],\n",
       " ['Thursday', 14, 13.0],\n",
       " ['Thursday', 15, 12.0],\n",
       " ['Thursday', 16, 9.0],\n",
       " ['Thursday', 17, 5.0],\n",
       " ['Thursday', 18, 5.0],\n",
       " ['Thursday', 19, 10.0],\n",
       " ['Thursday', 20, 6.0],\n",
       " ['Thursday', 21, 4.0],\n",
       " ['Thursday', 22, 4.0],\n",
       " ['Thursday', 23, 1.0],\n",
       " ['Friday', 0, 1.0],\n",
       " ['Friday', 1, 3.0],\n",
       " ['Friday', 2, 0.0],\n",
       " ['Friday', 3, 0.0],\n",
       " ['Friday', 4, 0.0],\n",
       " ['Friday', 5, 1.0],\n",
       " ['Friday', 6, 0.0],\n",
       " ['Friday', 7, 0.0],\n",
       " ['Friday', 8, 0.0],\n",
       " ['Friday', 9, 2.0],\n",
       " ['Friday', 10, 4.0],\n",
       " ['Friday', 11, 4.0],\n",
       " ['Friday', 12, 2.0],\n",
       " ['Friday', 13, 4.0],\n",
       " ['Friday', 14, 4.0],\n",
       " ['Friday', 15, 14.0],\n",
       " ['Friday', 16, 12.0],\n",
       " ['Friday', 17, 1.0],\n",
       " ['Friday', 18, 8.0],\n",
       " ['Friday', 19, 5.0],\n",
       " ['Friday', 20, 3.0],\n",
       " ['Friday', 21, 7.0],\n",
       " ['Friday', 22, 3.0],\n",
       " ['Friday', 23, 0.0],\n",
       " ['Saturday', 0, 2.0],\n",
       " ['Saturday', 1, 1.0],\n",
       " ['Saturday', 2, 0.0],\n",
       " ['Saturday', 3, 3.0],\n",
       " ['Saturday', 4, 0.0],\n",
       " ['Saturday', 5, 0.0],\n",
       " ['Saturday', 6, 0.0],\n",
       " ['Saturday', 7, 0.0],\n",
       " ['Saturday', 8, 2.0],\n",
       " ['Saturday', 9, 0.0],\n",
       " ['Saturday', 10, 4.0],\n",
       " ['Saturday', 11, 1.0],\n",
       " ['Saturday', 12, 5.0],\n",
       " ['Saturday', 13, 10.0],\n",
       " ['Saturday', 14, 5.0],\n",
       " ['Saturday', 15, 7.0],\n",
       " ['Saturday', 16, 11.0],\n",
       " ['Saturday', 17, 6.0],\n",
       " ['Saturday', 18, 0.0],\n",
       " ['Saturday', 19, 5.0],\n",
       " ['Saturday', 20, 3.0],\n",
       " ['Saturday', 21, 4.0],\n",
       " ['Saturday', 22, 2.0],\n",
       " ['Saturday', 23, 0.0],\n",
       " ['Sunday', 0, 1.0],\n",
       " ['Sunday', 1, 0.0],\n",
       " ['Sunday', 2, 0.0],\n",
       " ['Sunday', 3, 0.0],\n",
       " ['Sunday', 4, 0.0],\n",
       " ['Sunday', 5, 0.0],\n",
       " ['Sunday', 6, 0.0],\n",
       " ['Sunday', 7, 0.0],\n",
       " ['Sunday', 8, 0.0],\n",
       " ['Sunday', 9, 0.0],\n",
       " ['Sunday', 10, 1.0],\n",
       " ['Sunday', 11, 0.0],\n",
       " ['Sunday', 12, 2.0],\n",
       " ['Sunday', 13, 1.0],\n",
       " ['Sunday', 14, 3.0],\n",
       " ['Sunday', 15, 4.0],\n",
       " ['Sunday', 16, 0.0],\n",
       " ['Sunday', 17, 0.0],\n",
       " ['Sunday', 18, 0.0],\n",
       " ['Sunday', 19, 0.0],\n",
       " ['Sunday', 20, 1.0],\n",
       " ['Sunday', 21, 2.0],\n",
       " ['Sunday', 22, 2.0],\n",
       " ['Sunday', 23, 6.0]]"
      ]
     },
     "execution_count": 33,
     "metadata": {},
     "output_type": "execute_result"
    }
   ],
   "execution_count": 33
  },
  {
   "metadata": {
    "ExecuteTime": {
     "end_time": "2024-10-10T01:50:07.222015Z",
     "start_time": "2024-10-10T01:50:07.200318Z"
    }
   },
   "cell_type": "code",
   "source": [
    "#单轴散点图\n",
    "sing_axis,titles = [],[]#两个空列表,前者存放所有的轴,后者存放标题\n",
    "sca = Scatter(init_opts = opts.InitOpts(width = '100%'))\n",
    "for idx,day in enumerate(week):\n",
    "    sca.add_xaxis(xaxis_data=range(24))\n",
    "    sing_axis.append({\n",
    "        'left':100,#坐标轴距离坐标点的位置\n",
    "        'nameGap':20,#坐标轴名称距离轴线的位置\n",
    "        'nameLocation':'start',#坐标轴名称的位置\n",
    "        'type':'category',#设定为分类数据\n",
    "        'data':list(range(24)),#每个轴上x轴的数据\n",
    "        'top':f\"{idx*100/7 +5}%\",#z坐标轴距离顶部的距离\n",
    "        'height':f\"{100/7 -10}%\",#坐标轴的高度\n",
    "        'gridIndex':idx,#每个轴的索引\n",
    "        'axisLabel':{'interval':2,'color':'red'}#轴标签的配置,设定间隔是2,颜色是红色\n",
    "    })\n",
    "    titles.append(dict(text = day,top=f'{idx*100/7 +5}%',left='2%'))#设置标题\n",
    "    sca.add_yaxis('',y_axis=[int(item[2]) for item in allinfo if item[0] == day],\n",
    "                  symbol_size=JsCode('function(x){return x[1] *3}'),#设置点的大小\n",
    "                  label_opts=opts.LabelOpts(is_show=False)\n",
    "                  )\n",
    "    sca.options['series'][idx]['singleAxisIndex'] = idx#单个轴的索引\n",
    "    sca.options['series'][idx]['coordinateSystem'] = 'singleAxis'\n",
    "sca.options['singleAxis'] = sing_axis\n",
    "sca.set_global_opts(\n",
    "    xaxis_opts=opts.AxisOpts(is_show=False),\n",
    "    yaxis_opts=opts.AxisOpts(is_show=False),\n",
    "    title_opts=titles,\n",
    ")   \n",
    "sca.render('./result/单轴.html')    "
   ],
   "id": "7ca05757c7109161",
   "outputs": [
    {
     "data": {
      "text/plain": [
       "'C:\\\\Users\\\\wang\\\\Desktop\\\\pyLearn\\\\模块6-数据可视化之pycharts\\\\result\\\\单轴.html'"
      ]
     },
     "execution_count": 37,
     "metadata": {},
     "output_type": "execute_result"
    }
   ],
   "execution_count": 37
  },
  {
   "metadata": {
    "ExecuteTime": {
     "end_time": "2024-10-10T01:47:19.592672Z",
     "start_time": "2024-10-10T01:47:19.570983Z"
    }
   },
   "cell_type": "code",
   "source": [
    "#单轴散点图\n",
    "sing_axis,titles = [],[]\n",
    "sca = Scatter(init_opts = opts.InitOpts(width = '100%'))\n",
    "for idx,day in enumerate(week):\n",
    "    sca.add_xaxis(xaxis_data=range(24))\n",
    "    sing_axis.append({\n",
    "        'left':100,\n",
    "        'nameGap':20,\n",
    "        'nameLocation':'start',\n",
    "        'type':'category',\n",
    "        'data':list(range(24)),\n",
    "        'top':f\"{idx*100/7 +5}%\",\n",
    "        'height':f\"{100/7 -10}%\",\n",
    "        'gridIndex':idx,\n",
    "        'axisLabel':{'interval':2,'color':'red'}\n",
    "    })\n",
    "    titles.append(dict(text=day,top=f'{idx * 100 / 7 + 5}%',left='2%')) # 每个轴有一个标题,循环添加多个\n",
    "    sca.add_yaxis('',   # 绘制y轴数据,设定seriesname为空\n",
    "                 y_axis=[int(item[2]) for item in  allinfo if item[0] == day], # 设定y轴的数据\n",
    "                 symbol_size=JsCode('function(x){return x[1] * 3 }'), # 设定点的大小,采用回调进行设置\n",
    "                 label_opts=opts.LabelOpts(is_show=False) # 关闭点上面的数字\n",
    "                 )\n",
    "    sca.options['series'][idx]['singleAxisIndex'] =  idx  # 轴索引设置\n",
    "    sca.options['series'][idx]['coordinateSystem'] = 'singleAxis'  # 单轴设定\n",
    "#sca.options['singleAxis'] = sing_axis  # 设定单轴\n",
    "sca.set_global_opts(\n",
    "    xaxis_opts=opts.AxisOpts(is_show=False),\n",
    "    yaxis_opts=opts.AxisOpts(is_show=False),\n",
    "    title_opts = titles,\n",
    ")\n",
    "sca.render(\"./result/T_单轴.html\")"
   ],
   "id": "1aed638ac5a91e17",
   "outputs": [
    {
     "data": {
      "text/plain": [
       "'C:\\\\Users\\\\wang\\\\Desktop\\\\pyLearn\\\\模块6-数据可视化之pycharts\\\\result\\\\T_单轴.html'"
      ]
     },
     "execution_count": 36,
     "metadata": {},
     "output_type": "execute_result"
    }
   ],
   "execution_count": 36
  },
  {
   "metadata": {},
   "cell_type": "markdown",
   "source": "## 饼图",
   "id": "996591d245c69adc"
  },
  {
   "metadata": {
    "ExecuteTime": {
     "end_time": "2024-10-10T02:29:29.519628Z",
     "start_time": "2024-10-10T02:29:29.511854Z"
    }
   },
   "cell_type": "code",
   "source": [
    "itemstyle = {\n",
    "    'normal':{\n",
    "        'borderRadius':15,\n",
    "        'borderWidth':.5,\n",
    "        'borderColor':'auto'\n",
    "    }\n",
    "}"
   ],
   "id": "71a42d25d4a457dc",
   "outputs": [],
   "execution_count": 42
  },
  {
   "metadata": {
    "ExecuteTime": {
     "end_time": "2024-10-10T02:39:50.001517Z",
     "start_time": "2024-10-10T02:39:49.980532Z"
    }
   },
   "cell_type": "code",
   "source": [
    "from pyecharts.charts import Pie\n",
    "from pyecharts.faker import Faker\n",
    "va = [65,56,48,43,30,25,12]\n",
    "value = [list(z) for z in zip(Faker.choose(), va)]\n",
    "pie = (Pie(init_opts=opts.InitOpts(theme=ThemeType.CHALK))\n",
    "       .add(series_name='系列1',data_pair=value,\n",
    "        radius=['30%','80%'],#饼图内半径和外半径\n",
    "        rosetype='area',#是否展示位南丁格尔图\n",
    "        label_opts=opts.LabelOpts(formatter='{a},{b},{c}:百分比{d}%'),\n",
    "        itemstyle_opts=itemstyle,\n",
    "        emphasis_opts=opts.EmphasisOpts(is_show_label_line=True,focus='series',\n",
    "                    label_opts=opts.LabelOpts(font_size=20,font_weight='bold'))\n",
    "            )\n",
    "       .set_global_opts(tooltip_opts=opts.TooltipOpts(trigger='item'))\n",
    "       )\n",
    "pie.options['series'][0]['padAngle'] = 4#设定每个饼图各个饼块之间的距离\n",
    "pie.render('./result/饼图.html')"
   ],
   "id": "bb42f8550709c9f9",
   "outputs": [
    {
     "data": {
      "text/plain": [
       "'C:\\\\Users\\\\wang\\\\Desktop\\\\pyLearn\\\\模块6-数据可视化之pycharts\\\\result\\\\饼图.html'"
      ]
     },
     "execution_count": 51,
     "metadata": {},
     "output_type": "execute_result"
    }
   ],
   "execution_count": 51
  },
  {
   "metadata": {},
   "cell_type": "markdown",
   "source": "### 饼图的组合",
   "id": "ddf30ec3db089f4e"
  },
  {
   "metadata": {
    "ExecuteTime": {
     "end_time": "2024-10-10T03:06:32.219239Z",
     "start_time": "2024-10-10T03:06:31.965542Z"
    }
   },
   "cell_type": "code",
   "source": [
    "data = pd.read_excel('./data/icu.xlsx')\n",
    "data"
   ],
   "id": "ec3af0c644b893c4",
   "outputs": [
    {
     "data": {
      "text/plain": [
       "    国家  ICU人均   ICU总数    确诊患者      比值   死亡人数     同人口比值\n",
       "0   中国    3.6   50400   83302  0.6050   3351  0.000002\n",
       "1   美国   34.7  114500  582607  0.1965  23604  0.000072\n",
       "2   德国   29.2   24200  130072  0.1861   3194  0.000039\n",
       "3  西班牙    9.7    4532  170099  0.0266  17756  0.000380\n",
       "4  意大利   12.5    7554  159516  0.0474  20465  0.000339\n",
       "5   法国   11.6    7770  137877  0.0564  14986  0.000224\n",
       "6   英国    6.6    4388   89571  0.0490  11347  0.000171"
      ],
      "text/html": [
       "<div>\n",
       "<style scoped>\n",
       "    .dataframe tbody tr th:only-of-type {\n",
       "        vertical-align: middle;\n",
       "    }\n",
       "\n",
       "    .dataframe tbody tr th {\n",
       "        vertical-align: top;\n",
       "    }\n",
       "\n",
       "    .dataframe thead th {\n",
       "        text-align: right;\n",
       "    }\n",
       "</style>\n",
       "<table border=\"1\" class=\"dataframe\">\n",
       "  <thead>\n",
       "    <tr style=\"text-align: right;\">\n",
       "      <th></th>\n",
       "      <th>国家</th>\n",
       "      <th>ICU人均</th>\n",
       "      <th>ICU总数</th>\n",
       "      <th>确诊患者</th>\n",
       "      <th>比值</th>\n",
       "      <th>死亡人数</th>\n",
       "      <th>同人口比值</th>\n",
       "    </tr>\n",
       "  </thead>\n",
       "  <tbody>\n",
       "    <tr>\n",
       "      <th>0</th>\n",
       "      <td>中国</td>\n",
       "      <td>3.6</td>\n",
       "      <td>50400</td>\n",
       "      <td>83302</td>\n",
       "      <td>0.6050</td>\n",
       "      <td>3351</td>\n",
       "      <td>0.000002</td>\n",
       "    </tr>\n",
       "    <tr>\n",
       "      <th>1</th>\n",
       "      <td>美国</td>\n",
       "      <td>34.7</td>\n",
       "      <td>114500</td>\n",
       "      <td>582607</td>\n",
       "      <td>0.1965</td>\n",
       "      <td>23604</td>\n",
       "      <td>0.000072</td>\n",
       "    </tr>\n",
       "    <tr>\n",
       "      <th>2</th>\n",
       "      <td>德国</td>\n",
       "      <td>29.2</td>\n",
       "      <td>24200</td>\n",
       "      <td>130072</td>\n",
       "      <td>0.1861</td>\n",
       "      <td>3194</td>\n",
       "      <td>0.000039</td>\n",
       "    </tr>\n",
       "    <tr>\n",
       "      <th>3</th>\n",
       "      <td>西班牙</td>\n",
       "      <td>9.7</td>\n",
       "      <td>4532</td>\n",
       "      <td>170099</td>\n",
       "      <td>0.0266</td>\n",
       "      <td>17756</td>\n",
       "      <td>0.000380</td>\n",
       "    </tr>\n",
       "    <tr>\n",
       "      <th>4</th>\n",
       "      <td>意大利</td>\n",
       "      <td>12.5</td>\n",
       "      <td>7554</td>\n",
       "      <td>159516</td>\n",
       "      <td>0.0474</td>\n",
       "      <td>20465</td>\n",
       "      <td>0.000339</td>\n",
       "    </tr>\n",
       "    <tr>\n",
       "      <th>5</th>\n",
       "      <td>法国</td>\n",
       "      <td>11.6</td>\n",
       "      <td>7770</td>\n",
       "      <td>137877</td>\n",
       "      <td>0.0564</td>\n",
       "      <td>14986</td>\n",
       "      <td>0.000224</td>\n",
       "    </tr>\n",
       "    <tr>\n",
       "      <th>6</th>\n",
       "      <td>英国</td>\n",
       "      <td>6.6</td>\n",
       "      <td>4388</td>\n",
       "      <td>89571</td>\n",
       "      <td>0.0490</td>\n",
       "      <td>11347</td>\n",
       "      <td>0.000171</td>\n",
       "    </tr>\n",
       "  </tbody>\n",
       "</table>\n",
       "</div>"
      ]
     },
     "execution_count": 52,
     "metadata": {},
     "output_type": "execute_result"
    }
   ],
   "execution_count": 52
  },
  {
   "metadata": {
    "ExecuteTime": {
     "end_time": "2024-10-10T03:08:01.654246Z",
     "start_time": "2024-10-10T03:08:01.641735Z"
    }
   },
   "cell_type": "code",
   "source": [
    "dp1 = data[['国家','ICU人均']].values.tolist()\n",
    "dp2 = data[['国家','ICU总数']].values.tolist()\n",
    "dp3 = data[['国家','确诊患者']].values.tolist()\n",
    "dp4 = data[['国家','死亡人数']].values.tolist()"
   ],
   "id": "d1628794059dc960",
   "outputs": [],
   "execution_count": 54
  },
  {
   "metadata": {
    "ExecuteTime": {
     "end_time": "2024-10-10T03:54:41.279793Z",
     "start_time": "2024-10-10T03:54:41.260784Z"
    }
   },
   "cell_type": "code",
   "source": "dp1",
   "id": "c7d01693b7e1e28b",
   "outputs": [
    {
     "data": {
      "text/plain": [
       "[['中国', 3.6],\n",
       " ['美国', 34.7],\n",
       " ['德国', 29.2],\n",
       " ['西班牙', 9.7],\n",
       " ['意大利', 12.5],\n",
       " ['法国', 11.6],\n",
       " ['英国', 6.6]]"
      ]
     },
     "execution_count": 77,
     "metadata": {},
     "output_type": "execute_result"
    }
   ],
   "execution_count": 77
  },
  {
   "metadata": {
    "ExecuteTime": {
     "end_time": "2024-10-10T03:57:50.586248Z",
     "start_time": "2024-10-10T03:57:50.562242Z"
    }
   },
   "cell_type": "code",
   "source": [
    "value = [list(z) for z in zip(Faker.choose(), va)]\n",
    "pie = (Pie(init_opts=opts.InitOpts(theme=ThemeType.CHALK,page_title='饼图组合'))\n",
    "      .add(series_name='ICU人均',data_pair=dp1,\n",
    "           radius=[40,80],\n",
    "           center = ['30%','35%'],#设置饼图的位置\n",
    "           label_opts=opts.LabelOpts(formatter='{b}:{c}\\n百分比{d}%'),\n",
    "           ) \n",
    "       .add(series_name='ICU总数',data_pair=dp2,\n",
    "           radius=[40,80],\n",
    "           center = ['80%','35%'],\n",
    "           label_opts=opts.LabelOpts(formatter='{b}:{c}\\n百分比{d}%'),\n",
    "           ) \n",
    "        .add(series_name='确诊患者',data_pair=dp3,\n",
    "           radius=[40,80],\n",
    "           center = ['30%','80%'],\n",
    "           label_opts=opts.LabelOpts(formatter='{b}:{c}\\n百分比{d}%'),\n",
    "           ) \n",
    "        .add(series_name='死亡人数',data_pair=dp4,\n",
    "           radius=[40,80],\n",
    "           center = ['80%','80%'],\n",
    "           label_opts=opts.LabelOpts(formatter='{b}:{c}\\n百分比{d}%'),\n",
    "           )\n",
    "       .set_global_opts(tooltip_opts=opts.TooltipOpts(trigger='item'),\n",
    "                        title_opts=[\n",
    "                            dict(text='ICU人均',top='32%',left='26%'),\n",
    "                            dict(text='ICU总数',top='32%',left='76%'),\n",
    "                            dict(text='确诊患者',top='78%',left='26%'),\n",
    "                            dict(text='死亡人数',top='78%',left='76%'),\n",
    "                            dict(text='部分国家病例人数与ICU数量对比饼图',left='26%'),\n",
    "                        ],\n",
    "                        legend_opts=opts.LegendOpts(pos_top='5%',\n",
    "                                                    textstyle_opts=opts.TextStyleOpts(color='white'))\n",
    "                        )\n",
    "        .set_series_opts(itemstyle_opts=itemstyle,\n",
    "                         )\n",
    "\n",
    "       )\n",
    "pie.options['series'][0]['padAngle'] = 1\n",
    "pie.render('./result/饼图组合.html')"
   ],
   "id": "7e69019f998d93fe",
   "outputs": [
    {
     "data": {
      "text/plain": [
       "'C:\\\\Users\\\\wang\\\\Desktop\\\\pyLearn\\\\模块6-数据可视化之pycharts\\\\result\\\\饼图组合.html'"
      ]
     },
     "execution_count": 79,
     "metadata": {},
     "output_type": "execute_result"
    }
   ],
   "execution_count": 79
  },
  {
   "metadata": {
    "ExecuteTime": {
     "end_time": "2024-10-10T03:24:05.537576Z",
     "start_time": "2024-10-10T03:24:05.528998Z"
    }
   },
   "cell_type": "code",
   "source": [
    "import random\n",
    "\n",
    "# 中国34个省市自治区名称列表\n",
    "provinces = [\n",
    "    \"北京市\", \"天津市\", \"河北省\", \"山西省\", \"内蒙古自治区\",\n",
    "    \"辽宁省\", \"吉林省\", \"黑龙江省\", \"上海市\", \"江苏省\",\n",
    "    \"浙江省\", \"安徽省\", \"福建省\", \"江西省\", \"山东省\",\n",
    "    \"河南省\", \"湖北省\", \"湖南省\", \"广东省\", \"广西壮族自治区\",\n",
    "    \"海南省\", \"重庆市\", \"四川省\", \"贵州省\", \"云南省\",\n",
    "    \"西藏自治区\", \"陕西省\", \"甘肃省\", \"青海省\", \"宁夏回族自治区\",\n",
    "    \"新疆维吾尔自治区\", \"香港特别行政区\", \"澳门特别行政区\", \"台湾省\"\n",
    "]\n",
    "\n",
    "# 使用字典推导式构建字典，每个地区分配一个1-200之间的随机数值\n",
    "province_data = {province: random.randint(1, 100) for province in provinces}\n",
    "data_pair = [(k,v) for k,v in province_data.items()]\n",
    "data_pair"
   ],
   "id": "2f2a0e7a827bcea2",
   "outputs": [
    {
     "data": {
      "text/plain": [
       "[('北京市', 69),\n",
       " ('天津市', 10),\n",
       " ('河北省', 36),\n",
       " ('山西省', 4),\n",
       " ('内蒙古自治区', 78),\n",
       " ('辽宁省', 76),\n",
       " ('吉林省', 35),\n",
       " ('黑龙江省', 14),\n",
       " ('上海市', 82),\n",
       " ('江苏省', 67),\n",
       " ('浙江省', 67),\n",
       " ('安徽省', 62),\n",
       " ('福建省', 98),\n",
       " ('江西省', 32),\n",
       " ('山东省', 65),\n",
       " ('河南省', 66),\n",
       " ('湖北省', 60),\n",
       " ('湖南省', 97),\n",
       " ('广东省', 84),\n",
       " ('广西壮族自治区', 74),\n",
       " ('海南省', 45),\n",
       " ('重庆市', 97),\n",
       " ('四川省', 6),\n",
       " ('贵州省', 4),\n",
       " ('云南省', 13),\n",
       " ('西藏自治区', 39),\n",
       " ('陕西省', 68),\n",
       " ('甘肃省', 97),\n",
       " ('青海省', 100),\n",
       " ('宁夏回族自治区', 28),\n",
       " ('新疆维吾尔自治区', 76),\n",
       " ('香港特别行政区', 86),\n",
       " ('澳门特别行政区', 63),\n",
       " ('台湾省', 98)]"
      ]
     },
     "execution_count": 59,
     "metadata": {},
     "output_type": "execute_result"
    }
   ],
   "execution_count": 59
  },
  {
   "metadata": {
    "ExecuteTime": {
     "end_time": "2024-10-10T03:22:50.357632Z",
     "start_time": "2024-10-10T03:22:50.340026Z"
    }
   },
   "cell_type": "code",
   "source": "province_data",
   "id": "4c38a48315a8960e",
   "outputs": [
    {
     "data": {
      "text/plain": [
       "{'北京市': 65,\n",
       " '天津市': 61,\n",
       " '河北省': 76,\n",
       " '山西省': 40,\n",
       " '内蒙古自治区': 61,\n",
       " '辽宁省': 81,\n",
       " '吉林省': 24,\n",
       " '黑龙江省': 18,\n",
       " '上海市': 81,\n",
       " '江苏省': 22,\n",
       " '浙江省': 71,\n",
       " '安徽省': 18,\n",
       " '福建省': 14,\n",
       " '江西省': 98,\n",
       " '山东省': 34,\n",
       " '河南省': 57,\n",
       " '湖北省': 56,\n",
       " '湖南省': 69,\n",
       " '广东省': 64,\n",
       " '广西壮族自治区': 45,\n",
       " '海南省': 81,\n",
       " '重庆市': 24,\n",
       " '四川省': 70,\n",
       " '贵州省': 52,\n",
       " '云南省': 46,\n",
       " '西藏自治区': 31,\n",
       " '陕西省': 65,\n",
       " '甘肃省': 23,\n",
       " '青海省': 60,\n",
       " '宁夏回族自治区': 59,\n",
       " '新疆维吾尔自治区': 7,\n",
       " '香港特别行政区': 95,\n",
       " '澳门特别行政区': 15,\n",
       " '台湾省': 89}"
      ]
     },
     "execution_count": 58,
     "metadata": {},
     "output_type": "execute_result"
    }
   ],
   "execution_count": 58
  },
  {
   "metadata": {
    "ExecuteTime": {
     "end_time": "2024-10-10T03:26:12.514114Z",
     "start_time": "2024-10-10T03:26:12.502599Z"
    }
   },
   "cell_type": "code",
   "source": [
    "from pyecharts.charts import Map\n",
    "maps = (Map()\n",
    "        .add(series_name='销量',data_pair=data_pair,maptype='china')\n",
    "        .set_global_opts(visualmap_opts=opts.VisualMapOpts())\n",
    "        )\n",
    "maps.render('./result/china_map01.html')"
   ],
   "id": "f2c7c67dfe96aa3e",
   "outputs": [
    {
     "data": {
      "text/plain": [
       "'C:\\\\Users\\\\wang\\\\Desktop\\\\pyLearn\\\\模块6-数据可视化之pycharts\\\\result\\\\china_map01.html'"
      ]
     },
     "execution_count": 60,
     "metadata": {},
     "output_type": "execute_result"
    }
   ],
   "execution_count": 60
  },
  {
   "metadata": {},
   "cell_type": "code",
   "outputs": [],
   "execution_count": null,
   "source": "",
   "id": "dfd638e8d51d5407"
  }
 ],
 "metadata": {
  "kernelspec": {
   "display_name": "Python 3",
   "language": "python",
   "name": "python3"
  },
  "language_info": {
   "codemirror_mode": {
    "name": "ipython",
    "version": 2
   },
   "file_extension": ".py",
   "mimetype": "text/x-python",
   "name": "python",
   "nbconvert_exporter": "python",
   "pygments_lexer": "ipython2",
   "version": "2.7.6"
  }
 },
 "nbformat": 4,
 "nbformat_minor": 5
}
