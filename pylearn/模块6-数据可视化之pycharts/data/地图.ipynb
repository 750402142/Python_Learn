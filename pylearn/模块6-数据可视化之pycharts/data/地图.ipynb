{
 "cells": [
  {
   "metadata": {},
   "cell_type": "markdown",
   "source": "# 地图",
   "id": "79d0603d28f84288"
  },
  {
   "metadata": {
    "collapsed": true,
    "ExecuteTime": {
     "end_time": "2024-10-22T11:17:34.545260Z",
     "start_time": "2024-10-22T11:17:34.009606Z"
    }
   },
   "cell_type": "code",
   "source": [
    "import json\n",
    "\n",
    "import pandas as pd\n",
    "import numpy as np\n",
    "import sys\n",
    "print('Python version:', sys.version)\n",
    "print('Pandas version:', pd.__version__)\n",
    "print('Numpy version:', np.__version__)\n",
    "\n",
    "from pyecharts.charts import Bar, Geo\n",
    "from pyecharts.globals import JsCode\n",
    "from pyecharts import options as opts\n",
    "from pyecharts.globals import ThemeType, ChartType, SymbolType"
   ],
   "id": "initial_id",
   "outputs": [
    {
     "name": "stdout",
     "output_type": "stream",
     "text": [
      "Python version: 3.10.9 (tags/v3.10.9:1dd9be6, Dec  6 2022, 20:01:21) [MSC v.1934 64 bit (AMD64)]\n",
      "Pandas version: 2.2.2\n",
      "Numpy version: 2.1.1\n"
     ]
    }
   ],
   "execution_count": 1
  },
  {
   "metadata": {},
   "cell_type": "markdown",
   "source": [
    "## 全国地图\n",
    "### 精确到省"
   ],
   "id": "918cb9c8c3f029cc"
  },
  {
   "metadata": {
    "ExecuteTime": {
     "end_time": "2024-10-22T11:21:49.724912Z",
     "start_time": "2024-10-22T11:21:49.714903Z"
    }
   },
   "cell_type": "code",
   "source": [
    "import random\n",
    "\n",
    "# 中国34个省市自治区名称列表\n",
    "provinces = [\n",
    "    \"北京市\", \"天津市\", \"河北省\", \"山西省\", \"内蒙古自治区\",\n",
    "    \"辽宁省\", \"吉林省\", \"黑龙江省\", \"上海市\", \"江苏省\",\n",
    "    \"浙江省\", \"安徽省\", \"福建省\", \"江西省\", \"山东省\",\n",
    "    \"河南省\", \"湖北省\", \"湖南省\", \"广东省\", \"广西壮族自治区\",\n",
    "    \"海南省\", \"重庆市\", \"四川省\", \"贵州省\", \"云南省\",\n",
    "    \"西藏自治区\", \"陕西省\", \"甘肃省\", \"青海省\", \"宁夏回族自治区\",\n",
    "    \"新疆维吾尔自治区\", \"香港特别行政区\", \"澳门特别行政区\", \"台湾省\"\n",
    "]\n",
    "\n",
    "# 使用字典推导式构建字典，每个地区分配一个1-200之间的随机数值\n",
    "province_data = {province: random.randint(1, 100) for province in provinces}\n",
    "data_pair = [(k,v) for k,v in province_data.items()]"
   ],
   "id": "782c3adc35221b00",
   "outputs": [],
   "execution_count": 3
  },
  {
   "metadata": {
    "ExecuteTime": {
     "end_time": "2024-10-22T06:31:51.866797Z",
     "start_time": "2024-10-22T06:31:51.836791Z"
    }
   },
   "cell_type": "code",
   "source": [
    "from pyecharts.charts import Map\n",
    "maps = (Map()\n",
    "        .add(series_name='销量',data_pair=data_pair,maptype='china',\n",
    "             center=[125,30],\n",
    "             name_map={'河南省':'河南'},#使用字典实现地图名称的映射\n",
    "             is_map_symbol_show=False,#地图上的点是否开启\n",
    "             is_roam=False,#鼠标缩放和平移漫游是否开启\n",
    "             zoom=1.5#在原先大小的基础上缩放的倍数\n",
    "             )\n",
    "        .set_global_opts(visualmap_opts=opts.VisualMapOpts(\n",
    "                                            is_piecewise=True,#是否显示成区间\n",
    "                                            # pieces=[\n",
    "                                            #     {'min':100,'color':'red'}\n",
    "                                            # ]  自己设置颜色的显示区间\n",
    ")\n",
    ")\n",
    "        )\n",
    "maps.render('./result/china_map01_精确到省.html')"
   ],
   "id": "9464d765e23fab17",
   "outputs": [
    {
     "data": {
      "text/plain": [
       "'C:\\\\Users\\\\wang\\\\Desktop\\\\pyLearn\\\\模块6-数据可视化之pycharts\\\\result\\\\china_map01_精确到省.html'"
      ]
     },
     "execution_count": 3,
     "metadata": {},
     "output_type": "execute_result"
    }
   ],
   "execution_count": 3
  },
  {
   "metadata": {},
   "cell_type": "markdown",
   "source": "### 精确到市",
   "id": "b86b4191a099cdfe"
  },
  {
   "metadata": {
    "ExecuteTime": {
     "end_time": "2024-10-22T06:31:51.912791Z",
     "start_time": "2024-10-22T06:31:51.906791Z"
    }
   },
   "cell_type": "code",
   "source": [
    "from pyecharts.charts import Map\n",
    "maps = (Map()\n",
    "        .add(series_name='销量',data_pair=data_pair,maptype='china-cities',\n",
    "             center=[125,30],\n",
    "             name_map={'河南省':'河南'},#使用字典实现地图名称的映射\n",
    "             is_map_symbol_show=False,#地图上的点是否开启\n",
    "             #is_roam=False,#鼠标缩放和平移漫游是否开启\n",
    "             zoom=1.5#在原先大小的基础上缩放的倍数\n",
    "             )\n",
    "        .set_global_opts(visualmap_opts=opts.VisualMapOpts(\n",
    "                                            is_piecewise=True,#是否显示成区间\n",
    "                                            # pieces=[\n",
    "                                            #     {'min':100,'color':'red'}\n",
    "                                            # ]  自己设置颜色的显示区间\n",
    ")\n",
    ")\n",
    "        )\n",
    "maps.render('./result/china_map01_精确到市.html')"
   ],
   "id": "eb445717dde91a40",
   "outputs": [
    {
     "data": {
      "text/plain": [
       "'C:\\\\Users\\\\wang\\\\Desktop\\\\pyLearn\\\\模块6-数据可视化之pycharts\\\\result\\\\china_map01_精确到市.html'"
      ]
     },
     "execution_count": 4,
     "metadata": {},
     "output_type": "execute_result"
    }
   ],
   "execution_count": 4
  },
  {
   "metadata": {},
   "cell_type": "markdown",
   "source": "### 绘制某个省的",
   "id": "172487376b021bd0"
  },
  {
   "metadata": {
    "ExecuteTime": {
     "end_time": "2024-10-22T06:31:51.975791Z",
     "start_time": "2024-10-22T06:31:51.965791Z"
    }
   },
   "cell_type": "code",
   "source": [
    "from pyecharts.charts import Map\n",
    "maps = (Map()\n",
    "        .add(series_name='销量',data_pair=data_pair,maptype='河北',# 后面不能加省\n",
    "             #center=[125,30],\n",
    "             #name_map={'河南省':'河南'},#使用字典实现地图名称的映射\n",
    "             is_map_symbol_show=False,#地图上的点是否开启\n",
    "             #is_roam=False,#鼠标缩放和平移漫游是否开启\n",
    "             zoom=1.5#在原先大小的基础上缩放的倍数\n",
    "             )\n",
    "        .set_global_opts(visualmap_opts=opts.VisualMapOpts(\n",
    "                                            is_piecewise=True,#是否显示成区间\n",
    "                                            # pieces=[\n",
    "                                            #     {'min':100,'color':'red'}\n",
    "                                            # ]  自己设置颜色的显示区间\n",
    ")\n",
    ")\n",
    "        )\n",
    "maps.render('./result/china_map01_绘制某个省.html')"
   ],
   "id": "6010576fc944ec01",
   "outputs": [
    {
     "data": {
      "text/plain": [
       "'C:\\\\Users\\\\wang\\\\Desktop\\\\pyLearn\\\\模块6-数据可视化之pycharts\\\\result\\\\china_map01_绘制某个省.html'"
      ]
     },
     "execution_count": 5,
     "metadata": {},
     "output_type": "execute_result"
    }
   ],
   "execution_count": 5
  },
  {
   "metadata": {},
   "cell_type": "markdown",
   "source": "### 绘制某个市的",
   "id": "b6a0a6a2b1143078"
  },
  {
   "metadata": {
    "ExecuteTime": {
     "end_time": "2024-10-22T06:31:52.006791Z",
     "start_time": "2024-10-22T06:31:51.991791Z"
    }
   },
   "cell_type": "code",
   "source": [
    "from pyecharts.charts import Map\n",
    "maps = (Map()\n",
    "        .add(series_name='销量',data_pair=data_pair,maptype='新乡',\n",
    "             center=[125,30],\n",
    "             name_map={'河南省':'河南'},#使用字典实现地图名称的映射\n",
    "             is_map_symbol_show=False,#地图上的点是否开启\n",
    "             #is_roam=False,#鼠标缩放和平移漫游是否开启\n",
    "             zoom=1.5#在原先大小的基础上缩放的倍数\n",
    "             )\n",
    "        .set_global_opts(visualmap_opts=opts.VisualMapOpts(\n",
    "                                            is_piecewise=True,#是否显示成区间\n",
    "                                            # pieces=[\n",
    "                                            #     {'min':100,'color':'red'}\n",
    "                                            # ]  自己设置颜色的显示区间\n",
    ")\n",
    ")\n",
    "        )\n",
    "maps.render('./result/china_map01_绘制某个市.html')"
   ],
   "id": "608ea023252b1a56",
   "outputs": [
    {
     "data": {
      "text/plain": [
       "'C:\\\\Users\\\\wang\\\\Desktop\\\\pyLearn\\\\模块6-数据可视化之pycharts\\\\result\\\\china_map01_绘制某个市.html'"
      ]
     },
     "execution_count": 6,
     "metadata": {},
     "output_type": "execute_result"
    }
   ],
   "execution_count": 6
  },
  {
   "metadata": {},
   "cell_type": "markdown",
   "source": "### 世界地图",
   "id": "e93833106e4d9fbc"
  },
  {
   "metadata": {
    "ExecuteTime": {
     "end_time": "2024-10-22T06:31:52.038792Z",
     "start_time": "2024-10-22T06:31:52.024792Z"
    }
   },
   "cell_type": "code",
   "source": [
    "from pyecharts.charts import Map\n",
    "maps = (Map()\n",
    "        .add(series_name='销量',data_pair=data_pair,maptype='world',\n",
    "             center=[125,30],\n",
    "             name_map={'河南省':'河南'},#使用字典实现地图名称的映射\n",
    "             is_map_symbol_show=False,#地图上的点是否开启\n",
    "             #is_roam=False,#鼠标缩放和平移漫游是否开启\n",
    "             zoom=1#在原先大小的基础上缩放的倍数\n",
    "             )\n",
    "        .set_series_opts(label_opts=opts.LabelOpts(is_show=False))\n",
    "        .set_global_opts(visualmap_opts=opts.VisualMapOpts(\n",
    "                                            is_piecewise=True,#是否显示成区间\n",
    "                                            # pieces=[\n",
    "                                            #     {'min':100,'color':'red'}\n",
    "                                            # ]  自己设置颜色的显示区间\n",
    ")\n",
    ")\n",
    "        )\n",
    "maps.render('./result/world_map01.html')"
   ],
   "id": "6f7f21df51744c3e",
   "outputs": [
    {
     "data": {
      "text/plain": [
       "'C:\\\\Users\\\\wang\\\\Desktop\\\\pyLearn\\\\模块6-数据可视化之pycharts\\\\result\\\\world_map01.html'"
      ]
     },
     "execution_count": 7,
     "metadata": {},
     "output_type": "execute_result"
    }
   ],
   "execution_count": 7
  },
  {
   "metadata": {},
   "cell_type": "markdown",
   "source": "### 七大区",
   "id": "7f1b2b999479f741"
  },
  {
   "metadata": {
    "ExecuteTime": {
     "end_time": "2024-10-22T06:31:52.528638Z",
     "start_time": "2024-10-22T06:31:52.055791Z"
    }
   },
   "cell_type": "code",
   "source": [
    "from pyecharts.datasets import register_url\n",
    "\n",
    "register_url(\"https://echarts-maps.github.io/echarts-china-misc-js/\")"
   ],
   "id": "4190a08c0ca7a3b2",
   "outputs": [],
   "execution_count": 8
  },
  {
   "metadata": {
    "ExecuteTime": {
     "end_time": "2024-10-22T06:34:04.517252Z",
     "start_time": "2024-10-22T06:34:04.496252Z"
    }
   },
   "cell_type": "code",
   "source": [
    "from pyecharts.charts import Map\n",
    "maps = (Map()\n",
    "        .add(series_name='销量',data_pair=data_pair,maptype='中国七大区',\n",
    "             #center=[125,30],\n",
    "             name_map={'河南省':'河南'},#使用字典实现地图名称的映射\n",
    "             is_map_symbol_show=False,#地图上的点是否开启\n",
    "             #is_roam=False,#鼠标缩放和平移漫游是否开启\n",
    "             zoom=1#在原先大小的基础上缩放的倍数\n",
    "             )\n",
    "        .set_series_opts(label_opts=opts.LabelOpts(is_show=False))\n",
    "        .set_global_opts(visualmap_opts=opts.VisualMapOpts(\n",
    "                                            is_piecewise=True,#是否显示成区间\n",
    "                                            # pieces=[\n",
    "                                            #     {'min':100,'color':'red'}\n",
    "                                            # ]  自己设置颜色的显示区间\n",
    ")\n",
    ")\n",
    "        )\n",
    "maps.render('./result/七大区_map.html')"
   ],
   "id": "65bda16d65621515",
   "outputs": [
    {
     "data": {
      "text/plain": [
       "'C:\\\\Users\\\\wang\\\\Desktop\\\\pyLearn\\\\模块6-数据可视化之pycharts\\\\result\\\\七大区_map.html'"
      ]
     },
     "execution_count": 10,
     "metadata": {},
     "output_type": "execute_result"
    }
   ],
   "execution_count": 10
  },
  {
   "metadata": {
    "ExecuteTime": {
     "end_time": "2024-10-22T11:22:03.382388Z",
     "start_time": "2024-10-22T11:22:03.375389Z"
    }
   },
   "cell_type": "code",
   "source": [
    "provinces = [\n",
    "    \"北京\", \"天津\", \"河北\", \"山西\", \"内蒙古\",\n",
    "    \"辽宁\", \"吉林\", \"黑龙江\", \"上海\", \"江苏\",\n",
    "    \"浙江\", \"安徽\", \"福建\", \"江西\", \"山东\",\n",
    "    \"河南\", \"湖北\", \"湖南\", \"广东\", \"广西\",\n",
    "    \"海南\", \"重庆\", \"四川\", \"贵州\", \"云南\",\n",
    "    \"西藏\", \"陕西\", \"甘肃\", \"青海\", \"宁夏\",\n",
    "    \"新疆\", \"香港\", \"澳门\", \"台湾\"\n",
    "]\n",
    "\n",
    "# 使用字典推导式构建字典，每个地区分配一个1-200之间的随机数值\n",
    "province_data = {province: random.randint(1, 100) for province in provinces}\n",
    "data_pair = [(k,v) for k,v in province_data.items()]"
   ],
   "id": "f1fa553cd8d51058",
   "outputs": [],
   "execution_count": 5
  },
  {
   "metadata": {},
   "cell_type": "markdown",
   "source": [
    "## geo\n",
    "### 基本地图"
   ],
   "id": "cf4fac1ccf2e5bfd"
  },
  {
   "metadata": {
    "ExecuteTime": {
     "end_time": "2024-10-22T07:09:54.039166Z",
     "start_time": "2024-10-22T07:09:54.017166Z"
    }
   },
   "cell_type": "code",
   "source": [
    "geo = (Geo()\n",
    "        .add_schema(maptype='china')\n",
    "       .add('',data_pair=data_pair,type_=ChartType.EFFECT_SCATTER)\n",
    "       )\n",
    "geo.render('./result/_geo01.html')"
   ],
   "id": "d7252945fbadee6e",
   "outputs": [
    {
     "data": {
      "text/plain": [
       "'C:\\\\Users\\\\wang\\\\Desktop\\\\pyLearn\\\\模块6-数据可视化之pycharts\\\\result\\\\_geo01.html'"
      ]
     },
     "execution_count": 17,
     "metadata": {},
     "output_type": "execute_result"
    }
   ],
   "execution_count": 17
  },
  {
   "metadata": {},
   "cell_type": "markdown",
   "source": "### 河南往各地迁徙图",
   "id": "6b09674ca9dd5d11"
  },
  {
   "metadata": {
    "ExecuteTime": {
     "end_time": "2024-10-22T11:22:08.326418Z",
     "start_time": "2024-10-22T11:22:08.308418Z"
    }
   },
   "cell_type": "code",
   "source": "dp = [('河南',i) for i in province_data]",
   "id": "e3a23a0cc3cd9231",
   "outputs": [],
   "execution_count": 6
  },
  {
   "metadata": {
    "ExecuteTime": {
     "end_time": "2024-10-22T11:22:09.798266Z",
     "start_time": "2024-10-22T11:22:09.774264Z"
    }
   },
   "cell_type": "code",
   "source": [
    "geo = (Geo(init_opts=opts.InitOpts(theme=ThemeType.DARK,width='100%', height='100vh'))\n",
    "        .add_schema(maptype='china')## 设置图表的类型\n",
    "       .add('',data_pair=data_pair,type_=ChartType.EFFECT_SCATTER)\n",
    "       .add('往各地迁徙',data_pair=dp,type_=ChartType.LINES,#生成一条条线条\n",
    "            linestyle_opts=opts.LineStyleOpts(color='red')\n",
    "            )\n",
    "       )\n",
    "geo.render('./result/_geo迁徙.html')"
   ],
   "id": "28ca951f72bdf74f",
   "outputs": [
    {
     "data": {
      "text/plain": [
       "'C:\\\\Users\\\\wang\\\\Desktop\\\\pyLearn\\\\模块6-数据可视化之pycharts\\\\result\\\\_geo迁徙.html'"
      ]
     },
     "execution_count": 7,
     "metadata": {},
     "output_type": "execute_result"
    }
   ],
   "execution_count": 7
  },
  {
   "metadata": {},
   "cell_type": "markdown",
   "source": "### geo进阶",
   "id": "7e7569d9b9682a19"
  },
  {
   "metadata": {
    "ExecuteTime": {
     "end_time": "2024-10-22T11:22:11.501073Z",
     "start_time": "2024-10-22T11:22:11.490074Z"
    }
   },
   "cell_type": "code",
   "source": [
    "import json\n",
    "with open('./data/word_data.txt','r') as f:\n",
    "    data = json.loads(f.read())\n",
    "with open('./data/crood.txt','r') as f:\n",
    "    data_loc = eval(f.read())\n",
    "country = ['China','United States','Brazil','United Kingdom', 'Canda','Russia','India']\n",
    "data_pair = [i for i in data if i[0] in country]"
   ],
   "id": "3107e219b7db3d40",
   "outputs": [],
   "execution_count": 8
  },
  {
   "metadata": {
    "ExecuteTime": {
     "end_time": "2024-10-22T11:22:13.054613Z",
     "start_time": "2024-10-22T11:22:13.040613Z"
    }
   },
   "cell_type": "code",
   "source": [
    "itemstyle = {\n",
    "    'normal': {\n",
    "        'borderWidth':1,\n",
    "        'borderColor':JsCode(\"\"\"new echarts.graphic.LinearGradient(0, 0, 1, 1, [\n",
    "          { offset: 0, color: 'rgb(255, 191, 0)' },\n",
    "          { offset: 1, color: 'rgb(224, 62, 76)' }\n",
    "        ],)\"\"\"),\n",
    "        'shadowColor':'green',\n",
    "        'shadowBlur':1,\n",
    "        'areaColor':'#2b3440',\n",
    "    }\n",
    "}\n",
    "lc = JsCode(\"\"\"new echarts.graphic.LinearGradient(0, 0, 1, 1, [\n",
    "          { offset: 0, color: 'rgb(255, 191, 0)' },\n",
    "          { offset: 0.5, color: 'rgb(255, 255, 255)' },\n",
    "          { offset: 1, color: 'rgb(224, 62, 76)' }\n",
    "        ],)\"\"\")\n",
    "lcj= JsCode(\"\"\"new echarts.graphic.LinearGradient(0, 0, 0, 1, [\n",
    "{offset: 0,color: '#58B3CC'}, \n",
    "{offset: 1,color: '#F58158'}],\n",
    ")\"\"\")"
   ],
   "id": "ac9eae68765a6953",
   "outputs": [],
   "execution_count": 9
  },
  {
   "metadata": {
    "ExecuteTime": {
     "end_time": "2024-10-22T11:23:37.711208Z",
     "start_time": "2024-10-22T11:23:37.681208Z"
    }
   },
   "cell_type": "code",
   "source": [
    "geo = Geo(is_ignore_nonexistent_coord=True,init_opts=opts.InitOpts(width='100%', height='100vh',theme=ThemeType.DARK))\n",
    "for k,v in data_loc.items():\n",
    "    geo.add_coordinate(k,v[0],v[1])\n",
    "geo.add_schema(maptype='world',itemstyle_opts=itemstyle)\n",
    "geo.add('',data_pair,type_=ChartType.EFFECT_SCATTER,)\n",
    "geo.set_series_opts(label_opts=opts.LabelOpts(is_show=True,\n",
    "                    position='right',color = 'white',\n",
    "                    font_size=10,font_weight='bold',\n",
    "                     formatter=JsCode(\"function(x) {console.log(x);return x.name + ':'+ x.value[2]}\")                         \n",
    "                                              ))\n",
    "geo.render('./result/geo_进阶01.html')"
   ],
   "id": "7577cc5159013248",
   "outputs": [
    {
     "data": {
      "text/plain": [
       "'C:\\\\Users\\\\wang\\\\Desktop\\\\pyLearn\\\\模块6-数据可视化之pycharts\\\\result\\\\geo_进阶01.html'"
      ]
     },
     "execution_count": 13,
     "metadata": {},
     "output_type": "execute_result"
    }
   ],
   "execution_count": 13
  },
  {
   "metadata": {
    "ExecuteTime": {
     "end_time": "2024-10-22T11:33:39.718306Z",
     "start_time": "2024-10-22T11:33:39.710372Z"
    }
   },
   "cell_type": "code",
   "source": "data_pair.sort(key=lambda x: x[1],reverse=True)",
   "id": "17ce7f8eb7519fd6",
   "outputs": [],
   "execution_count": 23
  },
  {
   "metadata": {
    "ExecuteTime": {
     "end_time": "2024-10-22T11:35:14.742767Z",
     "start_time": "2024-10-22T11:35:14.725768Z"
    }
   },
   "cell_type": "code",
   "source": [
    "itemstyle_bar = {\n",
    "    'normal': {\n",
    "        'color': JsCode(\"\"\"new echarts.graphic.LinearGradient(0, 0, 1, 1, [\n",
    "          { offset: 0, color: 'rgb(255, 191, 0)' },\n",
    "          { offset: 1, color: 'rgb(224, 62, 76)' }\n",
    "        ],)\"\"\"),\n",
    "        'barBorderRadius': [20,20,20,20],      #  柱子的四个角圆角设计\n",
    "        'shadowColor':'rgba(108,80,243,0.9)', # 阴影的颜色\n",
    "        'shadowBlur':5, # 阴影的宽度\n",
    "        'width': 4,\n",
    "    }\n",
    "}"
   ],
   "id": "945ff0b1d40968b8",
   "outputs": [],
   "execution_count": 27
  },
  {
   "metadata": {
    "ExecuteTime": {
     "end_time": "2024-10-22T11:37:06.167623Z",
     "start_time": "2024-10-22T11:37:06.135699Z"
    }
   },
   "cell_type": "code",
   "source": [
    "bar = (Bar()\n",
    "       .add_xaxis([i[0] for i in data_pair])\n",
    "       .add_yaxis('',[i[1] for i in data_pair],\n",
    "                  itemstyle_opts=itemstyle_bar\n",
    "                  )\n",
    "       .reversal_axis()\n",
    "        .set_series_opts(label_opts=opts.LabelOpts(formatter='{b}:{c}'))\n",
    "       .set_global_opts(xaxis_opts=opts.AxisOpts(is_show=False),\n",
    "                        yaxis_opts=opts.AxisOpts(is_show=False),)\n",
    "       )\n",
    "bar.render('./result/geo_bar01.html')"
   ],
   "id": "1ba860d6dcbfd295",
   "outputs": [
    {
     "data": {
      "text/plain": [
       "'C:\\\\Users\\\\wang\\\\Desktop\\\\pyLearn\\\\模块6-数据可视化之pycharts\\\\result\\\\geo_bar01.html'"
      ]
     },
     "execution_count": 30,
     "metadata": {},
     "output_type": "execute_result"
    }
   ],
   "execution_count": 30
  },
  {
   "metadata": {},
   "cell_type": "code",
   "outputs": [],
   "execution_count": null,
   "source": "",
   "id": "63e3a6eaf78caa1b"
  }
 ],
 "metadata": {
  "kernelspec": {
   "display_name": "Python 3",
   "language": "python",
   "name": "python3"
  },
  "language_info": {
   "codemirror_mode": {
    "name": "ipython",
    "version": 2
   },
   "file_extension": ".py",
   "mimetype": "text/x-python",
   "name": "python",
   "nbconvert_exporter": "python",
   "pygments_lexer": "ipython2",
   "version": "2.7.6"
  }
 },
 "nbformat": 4,
 "nbformat_minor": 5
}
