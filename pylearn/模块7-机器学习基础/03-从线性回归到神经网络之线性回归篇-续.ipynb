{
 "cells": [
  {
   "cell_type": "code",
   "id": "initial_id",
   "metadata": {
    "collapsed": true,
    "ExecuteTime": {
     "end_time": "2024-11-21T02:19:51.673548Z",
     "start_time": "2024-11-21T02:19:51.349370Z"
    }
   },
   "source": [
    "from audioop import cross\n",
    "\n",
    "import pandas as pd\n",
    "from pandas.core.common import random_state\n",
    "\n",
    "from model.NCC_demo import y_predict"
   ],
   "outputs": [],
   "execution_count": 1
  },
  {
   "metadata": {
    "ExecuteTime": {
     "end_time": "2024-11-21T02:20:00.220860Z",
     "start_time": "2024-11-21T02:19:59.844605Z"
    }
   },
   "cell_type": "code",
   "source": [
    "from sklearn.datasets import fetch_california_housing\n",
    "dataset = fetch_california_housing()"
   ],
   "id": "6aff2ebf9017e315",
   "outputs": [],
   "execution_count": 2
  },
  {
   "metadata": {
    "ExecuteTime": {
     "end_time": "2024-11-21T02:20:01.171073Z",
     "start_time": "2024-11-21T02:20:01.167526Z"
    }
   },
   "cell_type": "code",
   "source": "data = pd.DataFrame(dataset.data,columns = dataset.feature_names)",
   "id": "f5b657eeae7e43c2",
   "outputs": [],
   "execution_count": 3
  },
  {
   "metadata": {
    "ExecuteTime": {
     "end_time": "2024-11-21T02:20:03.122783Z",
     "start_time": "2024-11-21T02:20:03.119989Z"
    }
   },
   "cell_type": "code",
   "source": [
    "data.columns = [\n",
    "    '住户收入的中位数', '房屋年龄的中位数', '平均房间数据', '平均卧室数目',\n",
    "    '街区的人口', '平均入住率', '纬度', '经度'\n",
    "]"
   ],
   "id": "67ca59d7bcae8eaf",
   "outputs": [],
   "execution_count": 4
  },
  {
   "metadata": {
    "ExecuteTime": {
     "end_time": "2024-11-21T02:20:04.443661Z",
     "start_time": "2024-11-21T02:20:04.416231Z"
    }
   },
   "cell_type": "code",
   "source": "from sklearn.model_selection import train_test_split\n",
   "id": "209ecd4fa9082d33",
   "outputs": [],
   "execution_count": 5
  },
  {
   "metadata": {
    "ExecuteTime": {
     "end_time": "2024-11-21T02:20:06.512548Z",
     "start_time": "2024-11-21T02:20:06.507081Z"
    }
   },
   "cell_type": "code",
   "source": [
    "X_train, X_test, y_train, y_test = train_test_split(\n",
    "    data,\n",
    "    dataset.target,\n",
    "    test_size=0.3,\n",
    "    random_state=1210\n",
    ")"
   ],
   "id": "452a005fd8d18022",
   "outputs": [],
   "execution_count": 6
  },
  {
   "metadata": {
    "ExecuteTime": {
     "end_time": "2024-11-21T02:28:30.817602Z",
     "start_time": "2024-11-21T02:28:30.814804Z"
    }
   },
   "cell_type": "code",
   "source": "from sklearn.linear_model import LinearRegression as LR#LinearRegression\n",
   "id": "105b79b818d5b8e0",
   "outputs": [],
   "execution_count": 8
  },
  {
   "metadata": {
    "ExecuteTime": {
     "end_time": "2024-11-21T02:28:32.106422Z",
     "start_time": "2024-11-21T02:28:32.103451Z"
    }
   },
   "cell_type": "code",
   "source": [
    "#建立模型\n",
    "reg = LR(fit_intercept=True,#是否计算模型的截距\n",
    "         copy_X=True,#程序复制x,防止X被覆盖\n",
    "         n_jobs=-1,#所有内核参与运算\n",
    "         positive = False#强制线性模型的系数为证\n",
    "         )"
   ],
   "id": "f458d46460c6f671",
   "outputs": [],
   "execution_count": 9
  },
  {
   "metadata": {
    "ExecuteTime": {
     "end_time": "2024-11-21T02:28:39.461196Z",
     "start_time": "2024-11-21T02:28:39.443180Z"
    }
   },
   "cell_type": "code",
   "source": "reg.fit(X_train,y_train)",
   "id": "def6c285cc4b0aec",
   "outputs": [
    {
     "data": {
      "text/plain": [
       "LinearRegression(n_jobs=-1)"
      ],
      "text/html": [
       "<style>#sk-container-id-1 {\n",
       "  /* Definition of color scheme common for light and dark mode */\n",
       "  --sklearn-color-text: black;\n",
       "  --sklearn-color-line: gray;\n",
       "  /* Definition of color scheme for unfitted estimators */\n",
       "  --sklearn-color-unfitted-level-0: #fff5e6;\n",
       "  --sklearn-color-unfitted-level-1: #f6e4d2;\n",
       "  --sklearn-color-unfitted-level-2: #ffe0b3;\n",
       "  --sklearn-color-unfitted-level-3: chocolate;\n",
       "  /* Definition of color scheme for fitted estimators */\n",
       "  --sklearn-color-fitted-level-0: #f0f8ff;\n",
       "  --sklearn-color-fitted-level-1: #d4ebff;\n",
       "  --sklearn-color-fitted-level-2: #b3dbfd;\n",
       "  --sklearn-color-fitted-level-3: cornflowerblue;\n",
       "\n",
       "  /* Specific color for light theme */\n",
       "  --sklearn-color-text-on-default-background: var(--sg-text-color, var(--theme-code-foreground, var(--jp-content-font-color1, black)));\n",
       "  --sklearn-color-background: var(--sg-background-color, var(--theme-background, var(--jp-layout-color0, white)));\n",
       "  --sklearn-color-border-box: var(--sg-text-color, var(--theme-code-foreground, var(--jp-content-font-color1, black)));\n",
       "  --sklearn-color-icon: #696969;\n",
       "\n",
       "  @media (prefers-color-scheme: dark) {\n",
       "    /* Redefinition of color scheme for dark theme */\n",
       "    --sklearn-color-text-on-default-background: var(--sg-text-color, var(--theme-code-foreground, var(--jp-content-font-color1, white)));\n",
       "    --sklearn-color-background: var(--sg-background-color, var(--theme-background, var(--jp-layout-color0, #111)));\n",
       "    --sklearn-color-border-box: var(--sg-text-color, var(--theme-code-foreground, var(--jp-content-font-color1, white)));\n",
       "    --sklearn-color-icon: #878787;\n",
       "  }\n",
       "}\n",
       "\n",
       "#sk-container-id-1 {\n",
       "  color: var(--sklearn-color-text);\n",
       "}\n",
       "\n",
       "#sk-container-id-1 pre {\n",
       "  padding: 0;\n",
       "}\n",
       "\n",
       "#sk-container-id-1 input.sk-hidden--visually {\n",
       "  border: 0;\n",
       "  clip: rect(1px 1px 1px 1px);\n",
       "  clip: rect(1px, 1px, 1px, 1px);\n",
       "  height: 1px;\n",
       "  margin: -1px;\n",
       "  overflow: hidden;\n",
       "  padding: 0;\n",
       "  position: absolute;\n",
       "  width: 1px;\n",
       "}\n",
       "\n",
       "#sk-container-id-1 div.sk-dashed-wrapped {\n",
       "  border: 1px dashed var(--sklearn-color-line);\n",
       "  margin: 0 0.4em 0.5em 0.4em;\n",
       "  box-sizing: border-box;\n",
       "  padding-bottom: 0.4em;\n",
       "  background-color: var(--sklearn-color-background);\n",
       "}\n",
       "\n",
       "#sk-container-id-1 div.sk-container {\n",
       "  /* jupyter's `normalize.less` sets `[hidden] { display: none; }`\n",
       "     but bootstrap.min.css set `[hidden] { display: none !important; }`\n",
       "     so we also need the `!important` here to be able to override the\n",
       "     default hidden behavior on the sphinx rendered scikit-learn.org.\n",
       "     See: https://github.com/scikit-learn/scikit-learn/issues/21755 */\n",
       "  display: inline-block !important;\n",
       "  position: relative;\n",
       "}\n",
       "\n",
       "#sk-container-id-1 div.sk-text-repr-fallback {\n",
       "  display: none;\n",
       "}\n",
       "\n",
       "div.sk-parallel-item,\n",
       "div.sk-serial,\n",
       "div.sk-item {\n",
       "  /* draw centered vertical line to link estimators */\n",
       "  background-image: linear-gradient(var(--sklearn-color-text-on-default-background), var(--sklearn-color-text-on-default-background));\n",
       "  background-size: 2px 100%;\n",
       "  background-repeat: no-repeat;\n",
       "  background-position: center center;\n",
       "}\n",
       "\n",
       "/* Parallel-specific style estimator block */\n",
       "\n",
       "#sk-container-id-1 div.sk-parallel-item::after {\n",
       "  content: \"\";\n",
       "  width: 100%;\n",
       "  border-bottom: 2px solid var(--sklearn-color-text-on-default-background);\n",
       "  flex-grow: 1;\n",
       "}\n",
       "\n",
       "#sk-container-id-1 div.sk-parallel {\n",
       "  display: flex;\n",
       "  align-items: stretch;\n",
       "  justify-content: center;\n",
       "  background-color: var(--sklearn-color-background);\n",
       "  position: relative;\n",
       "}\n",
       "\n",
       "#sk-container-id-1 div.sk-parallel-item {\n",
       "  display: flex;\n",
       "  flex-direction: column;\n",
       "}\n",
       "\n",
       "#sk-container-id-1 div.sk-parallel-item:first-child::after {\n",
       "  align-self: flex-end;\n",
       "  width: 50%;\n",
       "}\n",
       "\n",
       "#sk-container-id-1 div.sk-parallel-item:last-child::after {\n",
       "  align-self: flex-start;\n",
       "  width: 50%;\n",
       "}\n",
       "\n",
       "#sk-container-id-1 div.sk-parallel-item:only-child::after {\n",
       "  width: 0;\n",
       "}\n",
       "\n",
       "/* Serial-specific style estimator block */\n",
       "\n",
       "#sk-container-id-1 div.sk-serial {\n",
       "  display: flex;\n",
       "  flex-direction: column;\n",
       "  align-items: center;\n",
       "  background-color: var(--sklearn-color-background);\n",
       "  padding-right: 1em;\n",
       "  padding-left: 1em;\n",
       "}\n",
       "\n",
       "\n",
       "/* Toggleable style: style used for estimator/Pipeline/ColumnTransformer box that is\n",
       "clickable and can be expanded/collapsed.\n",
       "- Pipeline and ColumnTransformer use this feature and define the default style\n",
       "- Estimators will overwrite some part of the style using the `sk-estimator` class\n",
       "*/\n",
       "\n",
       "/* Pipeline and ColumnTransformer style (default) */\n",
       "\n",
       "#sk-container-id-1 div.sk-toggleable {\n",
       "  /* Default theme specific background. It is overwritten whether we have a\n",
       "  specific estimator or a Pipeline/ColumnTransformer */\n",
       "  background-color: var(--sklearn-color-background);\n",
       "}\n",
       "\n",
       "/* Toggleable label */\n",
       "#sk-container-id-1 label.sk-toggleable__label {\n",
       "  cursor: pointer;\n",
       "  display: block;\n",
       "  width: 100%;\n",
       "  margin-bottom: 0;\n",
       "  padding: 0.5em;\n",
       "  box-sizing: border-box;\n",
       "  text-align: center;\n",
       "}\n",
       "\n",
       "#sk-container-id-1 label.sk-toggleable__label-arrow:before {\n",
       "  /* Arrow on the left of the label */\n",
       "  content: \"▸\";\n",
       "  float: left;\n",
       "  margin-right: 0.25em;\n",
       "  color: var(--sklearn-color-icon);\n",
       "}\n",
       "\n",
       "#sk-container-id-1 label.sk-toggleable__label-arrow:hover:before {\n",
       "  color: var(--sklearn-color-text);\n",
       "}\n",
       "\n",
       "/* Toggleable content - dropdown */\n",
       "\n",
       "#sk-container-id-1 div.sk-toggleable__content {\n",
       "  max-height: 0;\n",
       "  max-width: 0;\n",
       "  overflow: hidden;\n",
       "  text-align: left;\n",
       "  /* unfitted */\n",
       "  background-color: var(--sklearn-color-unfitted-level-0);\n",
       "}\n",
       "\n",
       "#sk-container-id-1 div.sk-toggleable__content.fitted {\n",
       "  /* fitted */\n",
       "  background-color: var(--sklearn-color-fitted-level-0);\n",
       "}\n",
       "\n",
       "#sk-container-id-1 div.sk-toggleable__content pre {\n",
       "  margin: 0.2em;\n",
       "  border-radius: 0.25em;\n",
       "  color: var(--sklearn-color-text);\n",
       "  /* unfitted */\n",
       "  background-color: var(--sklearn-color-unfitted-level-0);\n",
       "}\n",
       "\n",
       "#sk-container-id-1 div.sk-toggleable__content.fitted pre {\n",
       "  /* unfitted */\n",
       "  background-color: var(--sklearn-color-fitted-level-0);\n",
       "}\n",
       "\n",
       "#sk-container-id-1 input.sk-toggleable__control:checked~div.sk-toggleable__content {\n",
       "  /* Expand drop-down */\n",
       "  max-height: 200px;\n",
       "  max-width: 100%;\n",
       "  overflow: auto;\n",
       "}\n",
       "\n",
       "#sk-container-id-1 input.sk-toggleable__control:checked~label.sk-toggleable__label-arrow:before {\n",
       "  content: \"▾\";\n",
       "}\n",
       "\n",
       "/* Pipeline/ColumnTransformer-specific style */\n",
       "\n",
       "#sk-container-id-1 div.sk-label input.sk-toggleable__control:checked~label.sk-toggleable__label {\n",
       "  color: var(--sklearn-color-text);\n",
       "  background-color: var(--sklearn-color-unfitted-level-2);\n",
       "}\n",
       "\n",
       "#sk-container-id-1 div.sk-label.fitted input.sk-toggleable__control:checked~label.sk-toggleable__label {\n",
       "  background-color: var(--sklearn-color-fitted-level-2);\n",
       "}\n",
       "\n",
       "/* Estimator-specific style */\n",
       "\n",
       "/* Colorize estimator box */\n",
       "#sk-container-id-1 div.sk-estimator input.sk-toggleable__control:checked~label.sk-toggleable__label {\n",
       "  /* unfitted */\n",
       "  background-color: var(--sklearn-color-unfitted-level-2);\n",
       "}\n",
       "\n",
       "#sk-container-id-1 div.sk-estimator.fitted input.sk-toggleable__control:checked~label.sk-toggleable__label {\n",
       "  /* fitted */\n",
       "  background-color: var(--sklearn-color-fitted-level-2);\n",
       "}\n",
       "\n",
       "#sk-container-id-1 div.sk-label label.sk-toggleable__label,\n",
       "#sk-container-id-1 div.sk-label label {\n",
       "  /* The background is the default theme color */\n",
       "  color: var(--sklearn-color-text-on-default-background);\n",
       "}\n",
       "\n",
       "/* On hover, darken the color of the background */\n",
       "#sk-container-id-1 div.sk-label:hover label.sk-toggleable__label {\n",
       "  color: var(--sklearn-color-text);\n",
       "  background-color: var(--sklearn-color-unfitted-level-2);\n",
       "}\n",
       "\n",
       "/* Label box, darken color on hover, fitted */\n",
       "#sk-container-id-1 div.sk-label.fitted:hover label.sk-toggleable__label.fitted {\n",
       "  color: var(--sklearn-color-text);\n",
       "  background-color: var(--sklearn-color-fitted-level-2);\n",
       "}\n",
       "\n",
       "/* Estimator label */\n",
       "\n",
       "#sk-container-id-1 div.sk-label label {\n",
       "  font-family: monospace;\n",
       "  font-weight: bold;\n",
       "  display: inline-block;\n",
       "  line-height: 1.2em;\n",
       "}\n",
       "\n",
       "#sk-container-id-1 div.sk-label-container {\n",
       "  text-align: center;\n",
       "}\n",
       "\n",
       "/* Estimator-specific */\n",
       "#sk-container-id-1 div.sk-estimator {\n",
       "  font-family: monospace;\n",
       "  border: 1px dotted var(--sklearn-color-border-box);\n",
       "  border-radius: 0.25em;\n",
       "  box-sizing: border-box;\n",
       "  margin-bottom: 0.5em;\n",
       "  /* unfitted */\n",
       "  background-color: var(--sklearn-color-unfitted-level-0);\n",
       "}\n",
       "\n",
       "#sk-container-id-1 div.sk-estimator.fitted {\n",
       "  /* fitted */\n",
       "  background-color: var(--sklearn-color-fitted-level-0);\n",
       "}\n",
       "\n",
       "/* on hover */\n",
       "#sk-container-id-1 div.sk-estimator:hover {\n",
       "  /* unfitted */\n",
       "  background-color: var(--sklearn-color-unfitted-level-2);\n",
       "}\n",
       "\n",
       "#sk-container-id-1 div.sk-estimator.fitted:hover {\n",
       "  /* fitted */\n",
       "  background-color: var(--sklearn-color-fitted-level-2);\n",
       "}\n",
       "\n",
       "/* Specification for estimator info (e.g. \"i\" and \"?\") */\n",
       "\n",
       "/* Common style for \"i\" and \"?\" */\n",
       "\n",
       ".sk-estimator-doc-link,\n",
       "a:link.sk-estimator-doc-link,\n",
       "a:visited.sk-estimator-doc-link {\n",
       "  float: right;\n",
       "  font-size: smaller;\n",
       "  line-height: 1em;\n",
       "  font-family: monospace;\n",
       "  background-color: var(--sklearn-color-background);\n",
       "  border-radius: 1em;\n",
       "  height: 1em;\n",
       "  width: 1em;\n",
       "  text-decoration: none !important;\n",
       "  margin-left: 1ex;\n",
       "  /* unfitted */\n",
       "  border: var(--sklearn-color-unfitted-level-1) 1pt solid;\n",
       "  color: var(--sklearn-color-unfitted-level-1);\n",
       "}\n",
       "\n",
       ".sk-estimator-doc-link.fitted,\n",
       "a:link.sk-estimator-doc-link.fitted,\n",
       "a:visited.sk-estimator-doc-link.fitted {\n",
       "  /* fitted */\n",
       "  border: var(--sklearn-color-fitted-level-1) 1pt solid;\n",
       "  color: var(--sklearn-color-fitted-level-1);\n",
       "}\n",
       "\n",
       "/* On hover */\n",
       "div.sk-estimator:hover .sk-estimator-doc-link:hover,\n",
       ".sk-estimator-doc-link:hover,\n",
       "div.sk-label-container:hover .sk-estimator-doc-link:hover,\n",
       ".sk-estimator-doc-link:hover {\n",
       "  /* unfitted */\n",
       "  background-color: var(--sklearn-color-unfitted-level-3);\n",
       "  color: var(--sklearn-color-background);\n",
       "  text-decoration: none;\n",
       "}\n",
       "\n",
       "div.sk-estimator.fitted:hover .sk-estimator-doc-link.fitted:hover,\n",
       ".sk-estimator-doc-link.fitted:hover,\n",
       "div.sk-label-container:hover .sk-estimator-doc-link.fitted:hover,\n",
       ".sk-estimator-doc-link.fitted:hover {\n",
       "  /* fitted */\n",
       "  background-color: var(--sklearn-color-fitted-level-3);\n",
       "  color: var(--sklearn-color-background);\n",
       "  text-decoration: none;\n",
       "}\n",
       "\n",
       "/* Span, style for the box shown on hovering the info icon */\n",
       ".sk-estimator-doc-link span {\n",
       "  display: none;\n",
       "  z-index: 9999;\n",
       "  position: relative;\n",
       "  font-weight: normal;\n",
       "  right: .2ex;\n",
       "  padding: .5ex;\n",
       "  margin: .5ex;\n",
       "  width: min-content;\n",
       "  min-width: 20ex;\n",
       "  max-width: 50ex;\n",
       "  color: var(--sklearn-color-text);\n",
       "  box-shadow: 2pt 2pt 4pt #999;\n",
       "  /* unfitted */\n",
       "  background: var(--sklearn-color-unfitted-level-0);\n",
       "  border: .5pt solid var(--sklearn-color-unfitted-level-3);\n",
       "}\n",
       "\n",
       ".sk-estimator-doc-link.fitted span {\n",
       "  /* fitted */\n",
       "  background: var(--sklearn-color-fitted-level-0);\n",
       "  border: var(--sklearn-color-fitted-level-3);\n",
       "}\n",
       "\n",
       ".sk-estimator-doc-link:hover span {\n",
       "  display: block;\n",
       "}\n",
       "\n",
       "/* \"?\"-specific style due to the `<a>` HTML tag */\n",
       "\n",
       "#sk-container-id-1 a.estimator_doc_link {\n",
       "  float: right;\n",
       "  font-size: 1rem;\n",
       "  line-height: 1em;\n",
       "  font-family: monospace;\n",
       "  background-color: var(--sklearn-color-background);\n",
       "  border-radius: 1rem;\n",
       "  height: 1rem;\n",
       "  width: 1rem;\n",
       "  text-decoration: none;\n",
       "  /* unfitted */\n",
       "  color: var(--sklearn-color-unfitted-level-1);\n",
       "  border: var(--sklearn-color-unfitted-level-1) 1pt solid;\n",
       "}\n",
       "\n",
       "#sk-container-id-1 a.estimator_doc_link.fitted {\n",
       "  /* fitted */\n",
       "  border: var(--sklearn-color-fitted-level-1) 1pt solid;\n",
       "  color: var(--sklearn-color-fitted-level-1);\n",
       "}\n",
       "\n",
       "/* On hover */\n",
       "#sk-container-id-1 a.estimator_doc_link:hover {\n",
       "  /* unfitted */\n",
       "  background-color: var(--sklearn-color-unfitted-level-3);\n",
       "  color: var(--sklearn-color-background);\n",
       "  text-decoration: none;\n",
       "}\n",
       "\n",
       "#sk-container-id-1 a.estimator_doc_link.fitted:hover {\n",
       "  /* fitted */\n",
       "  background-color: var(--sklearn-color-fitted-level-3);\n",
       "}\n",
       "</style><div id=\"sk-container-id-1\" class=\"sk-top-container\"><div class=\"sk-text-repr-fallback\"><pre>LinearRegression(n_jobs=-1)</pre><b>In a Jupyter environment, please rerun this cell to show the HTML representation or trust the notebook. <br />On GitHub, the HTML representation is unable to render, please try loading this page with nbviewer.org.</b></div><div class=\"sk-container\" hidden><div class=\"sk-item\"><div class=\"sk-estimator fitted sk-toggleable\"><input class=\"sk-toggleable__control sk-hidden--visually\" id=\"sk-estimator-id-1\" type=\"checkbox\" checked><label for=\"sk-estimator-id-1\" class=\"sk-toggleable__label fitted sk-toggleable__label-arrow fitted\">&nbsp;&nbsp;LinearRegression<a class=\"sk-estimator-doc-link fitted\" rel=\"noreferrer\" target=\"_blank\" href=\"https://scikit-learn.org/1.5/modules/generated/sklearn.linear_model.LinearRegression.html\">?<span>Documentation for LinearRegression</span></a><span class=\"sk-estimator-doc-link fitted\">i<span>Fitted</span></span></label><div class=\"sk-toggleable__content fitted\"><pre>LinearRegression(n_jobs=-1)</pre></div> </div></div></div></div>"
      ]
     },
     "execution_count": 10,
     "metadata": {},
     "output_type": "execute_result"
    }
   ],
   "execution_count": 10
  },
  {
   "metadata": {
    "ExecuteTime": {
     "end_time": "2024-11-21T02:28:40.907211Z",
     "start_time": "2024-11-21T02:28:40.903676Z"
    }
   },
   "cell_type": "code",
   "source": "y_hat = reg.predict(X_test)",
   "id": "a44297d19ccb1cac",
   "outputs": [],
   "execution_count": 11
  },
  {
   "metadata": {
    "ExecuteTime": {
     "end_time": "2024-11-21T02:06:02.810827Z",
     "start_time": "2024-11-21T02:06:02.807197Z"
    }
   },
   "cell_type": "code",
   "source": "reg.coef_#返回前面每一个系数",
   "id": "aba2424f5f0b93a3",
   "outputs": [
    {
     "data": {
      "text/plain": [
       "array([ 4.28217281e-01,  9.91254367e-03, -9.71040803e-02,  5.78359909e-01,\n",
       "       -3.17237397e-06, -3.22574961e-03, -4.24004392e-01, -4.36778327e-01])"
      ]
     },
     "execution_count": 33,
     "metadata": {},
     "output_type": "execute_result"
    }
   ],
   "execution_count": 33
  },
  {
   "metadata": {
    "ExecuteTime": {
     "end_time": "2024-11-21T02:07:03.990675Z",
     "start_time": "2024-11-21T02:07:03.987376Z"
    }
   },
   "cell_type": "code",
   "source": "[*zip(reg.feature_names_in_,reg.coef_)]",
   "id": "f54832dac0c4c40b",
   "outputs": [
    {
     "data": {
      "text/plain": [
       "[('住户收入的中位数', 0.4282172805980205),\n",
       " ('房屋年龄的中位数', 0.009912543668054642),\n",
       " ('平均房间数据', -0.0971040803007032),\n",
       " ('平均卧室数目', 0.5783599085896157),\n",
       " ('街区的人口', -3.172373968561256e-06),\n",
       " ('平均入住率', -0.0032257496085364274),\n",
       " ('纬度', -0.42400439230970327),\n",
       " ('经度', -0.4367783265173471)]"
      ]
     },
     "execution_count": 37,
     "metadata": {},
     "output_type": "execute_result"
    }
   ],
   "execution_count": 37
  },
  {
   "metadata": {
    "ExecuteTime": {
     "end_time": "2024-11-21T02:09:03.676150Z",
     "start_time": "2024-11-21T02:09:03.672687Z"
    }
   },
   "cell_type": "code",
   "source": "reg.intercept_#返回截距",
   "id": "18297cf7c81b500d",
   "outputs": [
    {
     "data": {
      "text/plain": [
       "-37.081643840320766"
      ]
     },
     "execution_count": 41,
     "metadata": {},
     "output_type": "execute_result"
    }
   ],
   "execution_count": 41
  },
  {
   "metadata": {
    "ExecuteTime": {
     "end_time": "2024-11-21T02:07:23.775131Z",
     "start_time": "2024-11-21T02:07:23.771219Z"
    }
   },
   "cell_type": "code",
   "source": "reg.rank_",
   "id": "bc472fe3a4fe8364",
   "outputs": [
    {
     "data": {
      "text/plain": [
       "8"
      ]
     },
     "execution_count": 38,
     "metadata": {},
     "output_type": "execute_result"
    }
   ],
   "execution_count": 38
  },
  {
   "metadata": {
    "ExecuteTime": {
     "end_time": "2024-11-21T02:08:05.588127Z",
     "start_time": "2024-11-21T02:08:05.584680Z"
    }
   },
   "cell_type": "code",
   "source": "reg.singular_#返回特征矩阵的奇异值",
   "id": "1ac8c97ca070c822",
   "outputs": [
    {
     "data": {
      "text/plain": [
       "array([1.27502384e+05, 1.50098485e+03, 1.42741409e+03, 3.46008532e+02,\n",
       "       3.18768078e+02, 2.10151092e+02, 6.04977574e+01, 2.13823151e+01])"
      ]
     },
     "execution_count": 39,
     "metadata": {},
     "output_type": "execute_result"
    }
   ],
   "execution_count": 39
  },
  {
   "metadata": {
    "ExecuteTime": {
     "end_time": "2024-11-21T02:09:56.692785Z",
     "start_time": "2024-11-21T02:09:56.689630Z"
    }
   },
   "cell_type": "code",
   "source": "reg.n_features_in_#返回特征的数量",
   "id": "b4d8de02269a3c13",
   "outputs": [
    {
     "data": {
      "text/plain": [
       "8"
      ]
     },
     "execution_count": 42,
     "metadata": {},
     "output_type": "execute_result"
    }
   ],
   "execution_count": 42
  },
  {
   "metadata": {
    "ExecuteTime": {
     "end_time": "2024-11-21T02:32:18.176676Z",
     "start_time": "2024-11-21T02:32:18.171305Z"
    }
   },
   "cell_type": "code",
   "source": [
    "#求出均方方差\n",
    "from sklearn.metrics import mean_squared_error as MSE#均方误差\n",
    "MSE(y_hat,y_test)"
   ],
   "id": "b6f484f63e5a540b",
   "outputs": [
    {
     "data": {
      "text/plain": [
       "0.5198138702278863"
      ]
     },
     "execution_count": 12,
     "metadata": {},
     "output_type": "execute_result"
    }
   ],
   "execution_count": 12
  },
  {
   "metadata": {
    "ExecuteTime": {
     "end_time": "2024-11-21T02:36:03.095449Z",
     "start_time": "2024-11-21T02:36:03.070125Z"
    }
   },
   "cell_type": "code",
   "source": [
    "#将数据集划分为5份(cv=5)求出五个均方方差\n",
    "from sklearn.model_selection import cross_val_score\n",
    "cross_val_score(reg,X_train,y_train,cv=5,scoring='neg_mean_squared_error')"
   ],
   "id": "72496767e9730f64",
   "outputs": [
    {
     "data": {
      "text/plain": [
       "array([-0.56944385, -0.48865454, -0.53811748, -0.50304552, -0.55486849])"
      ]
     },
     "execution_count": 15,
     "metadata": {},
     "output_type": "execute_result"
    }
   ],
   "execution_count": 15
  },
  {
   "metadata": {
    "ExecuteTime": {
     "end_time": "2024-11-21T02:36:58.980741Z",
     "start_time": "2024-11-21T02:36:58.934711Z"
    }
   },
   "cell_type": "code",
   "source": [
    "#\n",
    "from sklearn.metrics import mean_absolute_error as MAE#平均绝对误差\n",
    "MAE(y_hat,y_test)\n",
    "cross_val_score(reg,X_train,y_train,cv=10,scoring='neg_mean_absolute_error')"
   ],
   "id": "5885f4bd1d1c75d3",
   "outputs": [
    {
     "data": {
      "text/plain": [
       "array([-0.55657995, -0.55111683, -0.5125106 , -0.50478592, -0.52013679,\n",
       "       -0.54715075, -0.52103139, -0.52199379, -0.53350441, -0.55897291])"
      ]
     },
     "execution_count": 18,
     "metadata": {},
     "output_type": "execute_result"
    }
   ],
   "execution_count": 18
  },
  {
   "metadata": {
    "ExecuteTime": {
     "end_time": "2024-11-21T02:40:57.434065Z",
     "start_time": "2024-11-21T02:40:57.431186Z"
    }
   },
   "cell_type": "code",
   "source": "from sklearn.metrics import r2_score",
   "id": "1993cab549f72c75",
   "outputs": [],
   "execution_count": 19
  },
  {
   "metadata": {
    "ExecuteTime": {
     "end_time": "2024-11-21T02:41:37.828307Z",
     "start_time": "2024-11-21T02:41:37.822014Z"
    }
   },
   "cell_type": "code",
   "source": "r2_score(y_pred=y_hat,y_true=y_test)",
   "id": "8e37bcd37be71733",
   "outputs": [
    {
     "data": {
      "text/plain": [
       "0.6131935096962663"
      ]
     },
     "execution_count": 20,
     "metadata": {},
     "output_type": "execute_result"
    }
   ],
   "execution_count": 20
  },
  {
   "metadata": {
    "ExecuteTime": {
     "end_time": "2024-11-21T02:53:43.937948Z",
     "start_time": "2024-11-21T02:53:43.707974Z"
    }
   },
   "cell_type": "code",
   "source": "import matplotlib.pyplot as plt",
   "id": "297dc19eb4c0b9c1",
   "outputs": [],
   "execution_count": 24
  },
  {
   "metadata": {
    "ExecuteTime": {
     "end_time": "2024-11-21T02:52:27.181511Z",
     "start_time": "2024-11-21T02:52:27.179233Z"
    }
   },
   "cell_type": "code",
   "source": [
    "plt.rcParams['font.sans-serif'] = 'Times New Roman'\n",
    "plt.rcParams['font.size'] = 16"
   ],
   "id": "2d9e2765e91caa36",
   "outputs": [],
   "execution_count": 22
  },
  {
   "metadata": {
    "ExecuteTime": {
     "end_time": "2024-11-21T02:52:52.725885Z",
     "start_time": "2024-11-21T02:52:52.721502Z"
    }
   },
   "cell_type": "code",
   "source": "y_test",
   "id": "86f72189653a4e00",
   "outputs": [
    {
     "data": {
      "text/plain": [
       "array([0.965, 0.979, 1.229, ..., 0.945, 1.899, 1.334])"
      ]
     },
     "execution_count": 23,
     "metadata": {},
     "output_type": "execute_result"
    }
   ],
   "execution_count": 23
  },
  {
   "metadata": {
    "ExecuteTime": {
     "end_time": "2024-11-21T02:57:54.979883Z",
     "start_time": "2024-11-21T02:57:54.876323Z"
    }
   },
   "cell_type": "code",
   "source": [
    "#绘制出实际数据的参数和预测数据的参数\n",
    "plt.figure(figsize=(12,9))\n",
    "plt.plot(range(len(y_test)),sorted(y_test),c = 'orange',ls = '--',label = 'RealData')\n",
    "plt.plot(range(len(y_test)),sorted(y_hat),c='red',label = 'PredictedData')\n",
    "plt.legend()\n",
    "plt.show()"
   ],
   "id": "22a156dda6a9c01a",
   "outputs": [
    {
     "data": {
      "text/plain": [
       "<Figure size 1200x900 with 1 Axes>"
      ],
      "image/png": "[encoded data removed]"
     },
     "metadata": {},
     "output_type": "display_data"
    }
   ],
   "execution_count": 29
  },
  {
   "metadata": {
    "ExecuteTime": {
     "end_time": "2024-11-21T03:00:27.350195Z",
     "start_time": "2024-11-21T03:00:27.347519Z"
    }
   },
   "cell_type": "code",
   "source": "import numpy as np",
   "id": "cdee71bce54a352a",
   "outputs": [],
   "execution_count": 30
  },
  {
   "metadata": {
    "ExecuteTime": {
     "end_time": "2024-11-21T03:00:44.119130Z",
     "start_time": "2024-11-21T03:00:44.116133Z"
    }
   },
   "cell_type": "code",
   "source": "rng = np.random.RandomState(1210)",
   "id": "6df740f962db1552",
   "outputs": [],
   "execution_count": 31
  },
  {
   "metadata": {
    "ExecuteTime": {
     "end_time": "2024-11-21T03:02:15.682425Z",
     "start_time": "2024-11-21T03:02:15.679255Z"
    }
   },
   "cell_type": "code",
   "source": [
    "X = rng.randn(100,8)\n",
    "y = rng.randn(100,)"
   ],
   "id": "b957c5f2a2cc0eae",
   "outputs": [],
   "execution_count": 36
  },
  {
   "metadata": {
    "ExecuteTime": {
     "end_time": "2024-11-21T03:02:16.260980Z",
     "start_time": "2024-11-21T03:02:16.253684Z"
    }
   },
   "cell_type": "code",
   "source": "X",
   "id": "6e20f98f4ef5b1cb",
   "outputs": [
    {
     "data": {
      "text/plain": [
       "array([[ 1.08876142e-01,  1.46114950e+00, -1.18316851e+00,\n",
       "        -3.71266889e-01,  4.70364163e-01, -7.97239461e-01,\n",
       "        -1.88254249e-02,  1.15598856e+00],\n",
       "       [ 1.64474797e+00,  9.80707051e-01,  1.29776352e-01,\n",
       "        -7.01972889e-01,  2.98303049e-01, -1.90804284e+00,\n",
       "         3.65720407e-01,  1.50610004e+00],\n",
       "       [-6.67646845e-01, -5.91848367e-01, -1.02369023e+00,\n",
       "         2.29483544e-01,  8.18025787e-01, -2.71108911e-01,\n",
       "         1.17199215e-01,  7.19396636e-01],\n",
       "       [ 1.21996433e+00, -1.81004046e+00, -5.86535330e-01,\n",
       "        -2.93577714e-01, -4.02561411e-02,  4.30115156e-01,\n",
       "        -9.96904585e-02, -4.41654133e-01],\n",
       "       [-6.24636127e-01,  1.53290833e-01,  1.32644381e+00,\n",
       "        -1.40672412e+00,  2.12826872e+00, -2.21594620e+00,\n",
       "         3.34596047e-01, -2.67954115e+00],\n",
       "       [ 9.31140488e-01,  1.24260305e+00,  1.80660971e+00,\n",
       "        -8.25254837e-02,  4.92789102e-01,  3.16676675e-01,\n",
       "         3.11576494e-01,  3.00915120e-01],\n",
       "       [ 6.23080395e-02,  5.83604477e-01, -8.59944067e-01,\n",
       "        -1.59041543e-01, -3.10408725e-01, -1.54858635e+00,\n",
       "         5.07399070e-01, -2.55861998e-01],\n",
       "       [ 1.11172213e+00, -7.70778682e-01, -2.26259844e+00,\n",
       "        -1.94886532e+00,  5.56373393e-01, -8.97499754e-01,\n",
       "         3.29348424e-01,  3.42133113e-01],\n",
       "       [ 8.60657527e-02,  6.92180127e-01, -1.11011709e+00,\n",
       "         1.61368276e+00,  3.67729091e-01,  5.77498194e-01,\n",
       "         3.42012133e-01,  1.67927399e+00],\n",
       "       [ 1.11606966e+00,  6.17571482e-01,  2.46499667e-01,\n",
       "        -9.10247870e-01,  3.39114405e-02, -1.11337632e-01,\n",
       "        -8.86357170e-01,  1.86151648e+00],\n",
       "       [ 7.99344432e-01,  5.31823126e-01, -6.76812754e-01,\n",
       "         1.26048416e+00,  3.03204443e+00,  6.83041859e-01,\n",
       "        -4.89306793e-02,  1.15310549e+00],\n",
       "       [-1.56337454e-01,  1.71394132e+00,  2.08570964e+00,\n",
       "        -9.88795643e-01, -7.45465554e-01, -7.89602691e-01,\n",
       "         1.46669466e+00, -4.94959992e-01],\n",
       "       [-6.00502630e-01,  3.41764083e-01,  4.58107670e-01,\n",
       "        -5.41313857e-01, -1.04140987e+00, -2.32939574e+00,\n",
       "        -6.11801459e-01,  7.99996745e-01],\n",
       "       [ 6.26628864e-01, -1.79490361e+00, -1.14172944e+00,\n",
       "        -4.86358675e-01, -7.03562967e-01,  1.24860078e+00,\n",
       "         1.22169814e+00,  8.01132009e-01],\n",
       "       [ 3.07409894e-01,  1.98898047e+00, -5.62447776e-02,\n",
       "         9.84340799e-01,  1.68295655e+00,  1.51151032e+00,\n",
       "         8.45856948e-02, -2.89989649e-02],\n",
       "       [ 6.92709657e-01,  4.07789775e-01, -1.40922029e+00,\n",
       "         1.18639765e+00, -2.87118668e-02,  2.13639022e-01,\n",
       "         6.01494285e-01, -3.28241406e-01],\n",
       "       [ 2.13339973e+00,  2.01055413e+00, -1.46103606e+00,\n",
       "        -5.54002398e-01, -6.82841946e-01,  2.79694135e-01,\n",
       "        -3.19247524e-01, -4.43800882e-03],\n",
       "       [-5.19989006e-01, -1.03209372e-01,  6.56850717e-01,\n",
       "        -1.51884434e+00,  1.73140226e+00,  1.62015542e+00,\n",
       "        -3.20261239e-01,  8.78116553e-01],\n",
       "       [ 4.99205312e-01, -1.96963280e+00, -3.39528883e-02,\n",
       "         1.14543289e+00, -1.38039912e+00, -9.42878855e-01,\n",
       "        -2.10765898e+00,  1.39171573e+00],\n",
       "       [ 9.59351418e-01,  3.21330533e-01,  6.51289095e-01,\n",
       "        -9.09760329e-02, -9.20268784e-01,  2.64393828e-01,\n",
       "        -5.67871884e-01, -3.91714941e-01],\n",
       "       [ 6.77859188e-01,  8.76324597e-01,  1.02038801e-02,\n",
       "        -1.56793239e+00,  4.48578292e-01, -1.78625495e+00,\n",
       "        -4.96044107e-01, -9.46096279e-01],\n",
       "       [ 1.44449828e+00, -1.27854998e+00, -7.40167546e-02,\n",
       "         1.37529524e+00, -1.37154200e+00,  1.14861739e+00,\n",
       "         1.68828057e-01, -1.85583037e-01],\n",
       "       [-2.39437766e+00, -8.29764887e-02, -1.21834598e-01,\n",
       "         3.83827573e-01,  1.46742915e+00,  1.01134333e+00,\n",
       "        -8.03791635e-01, -1.93695315e-01],\n",
       "       [ 4.25128800e-01,  9.56835695e-01, -1.99867263e+00,\n",
       "         7.93523505e-01, -1.78700628e+00, -1.23895058e-02,\n",
       "         1.15809780e+00, -7.58572265e-01],\n",
       "       [ 6.12097191e-02, -6.67407717e-01,  4.78994406e-01,\n",
       "         8.82619380e-01,  8.50516969e-01,  6.48224989e-01,\n",
       "         2.10272966e-01, -3.89641643e-01],\n",
       "       [ 7.23158642e-01,  1.33400676e+00,  4.07060568e-01,\n",
       "        -1.86206103e+00, -1.68172543e-01,  6.02928350e-02,\n",
       "        -1.01440024e+00,  1.96413952e+00],\n",
       "       [-5.45781743e-01, -1.08617798e+00, -5.59187940e-01,\n",
       "         6.96617373e-01, -1.36751258e+00, -1.89577491e+00,\n",
       "         7.69395263e-01,  3.07067685e+00],\n",
       "       [ 1.23224042e+00,  1.52738905e+00, -1.52580604e+00,\n",
       "         8.22405748e-01, -5.25773805e-02, -1.51147075e+00,\n",
       "         9.03195069e-02,  7.93594629e-01],\n",
       "       [-4.59115727e-01, -4.81900170e-01,  7.66889332e-01,\n",
       "        -6.56355204e-01,  1.21474756e+00,  3.67001651e-01,\n",
       "        -2.47617693e-02,  4.94195974e-01],\n",
       "       [-5.21251659e-01, -1.16934132e+00, -2.81372622e-01,\n",
       "        -8.55116833e-01,  1.60766217e-01, -3.04118019e-01,\n",
       "         1.38649477e-01, -8.28855264e-01],\n",
       "       [-1.81435197e-01, -7.50071620e-01, -1.51722960e+00,\n",
       "        -1.20622840e+00,  7.69499764e-01,  7.75243557e-01,\n",
       "        -3.27051902e-01,  1.03166442e+00],\n",
       "       [ 4.23969065e-01, -1.70554305e-01, -6.78460612e-01,\n",
       "         1.05648098e+00, -1.36523606e-01,  4.61171040e-02,\n",
       "         1.51967707e+00,  1.22064357e+00],\n",
       "       [ 2.66826627e-01,  1.78768970e+00,  8.13134082e-02,\n",
       "         2.16372364e-01, -2.02036640e+00, -1.24501852e+00,\n",
       "        -1.26660783e+00,  5.47120644e-01],\n",
       "       [-1.24457302e+00, -1.72970367e+00,  1.21552187e+00,\n",
       "         1.38484510e+00, -1.96737613e+00,  5.12231946e-01,\n",
       "        -1.50068803e+00, -1.37332590e-01],\n",
       "       [ 3.23936418e-01,  2.35753804e-01, -5.29769012e-01,\n",
       "        -5.55771023e-01,  1.24016650e+00, -1.02125542e+00,\n",
       "         1.19494282e+00,  5.36994762e-01],\n",
       "       [-1.21646622e+00, -7.04760038e-01,  3.06958272e-01,\n",
       "        -6.28174005e-01,  9.88375212e-01, -1.33453361e+00,\n",
       "         9.15360450e-01, -1.14615812e+00],\n",
       "       [-3.26285811e-01, -1.52690531e+00,  7.74933537e-02,\n",
       "        -1.83991397e+00,  5.65208685e-01,  1.58237516e+00,\n",
       "        -1.45883658e+00, -5.45663331e-03],\n",
       "       [ 2.55531188e-01,  1.49144977e+00,  2.39643309e-01,\n",
       "        -4.25395257e-01,  5.15617047e-01, -8.14421861e-01,\n",
       "        -7.67196440e-01, -2.91064225e-01],\n",
       "       [ 1.47998004e+00,  9.36080425e-01,  4.29274835e-01,\n",
       "         1.73974729e-02,  5.78700027e-02, -5.10940237e-01,\n",
       "         1.52863963e+00,  1.48319319e+00],\n",
       "       [-2.01742299e-02,  9.12277128e-01, -9.68719618e-01,\n",
       "        -1.12965386e+00,  1.51590615e+00,  1.69594830e+00,\n",
       "        -1.50331113e+00,  4.47462038e-01],\n",
       "       [ 4.81817946e-01,  6.65024786e-01,  8.91909125e-01,\n",
       "        -3.81223960e-01,  1.17084448e-01, -1.11904889e-01,\n",
       "         8.83243233e-01, -4.23052939e-01],\n",
       "       [ 3.74801114e-01,  7.83495345e-01, -2.43792691e-01,\n",
       "         1.51069002e+00,  3.00055078e-03, -5.54636021e-01,\n",
       "        -1.24070147e+00, -1.32277881e-01],\n",
       "       [ 1.02320098e+00, -1.99056956e-01,  1.65136812e+00,\n",
       "        -4.08501126e-01,  1.01180697e+00,  6.24987627e-01,\n",
       "         1.14431993e+00,  1.05659185e+00],\n",
       "       [-2.71029589e-01,  9.61827805e-01, -2.19985933e-01,\n",
       "        -5.78115163e-01,  8.32934175e-01, -7.67729177e-01,\n",
       "         3.01965079e-02,  4.54767747e-01],\n",
       "       [-3.21633710e-01,  5.96290452e-01,  7.12205516e-01,\n",
       "        -1.10205645e+00,  7.89628933e-01, -5.03471524e-01,\n",
       "         7.84856895e-01, -4.41857788e-01],\n",
       "       [-3.50646167e-01,  1.80240855e+00,  1.14593166e+00,\n",
       "         9.59380195e-01, -6.93596704e-01, -7.08473498e-01,\n",
       "        -5.21597975e-01, -3.91900742e-01],\n",
       "       [-1.57494789e+00, -1.23689741e+00,  1.12436476e-01,\n",
       "        -6.76230477e-01,  9.55950056e-01, -1.26304637e+00,\n",
       "         4.29587576e-01,  2.05141844e-01],\n",
       "       [-1.28570393e+00, -1.12463915e+00,  9.80197479e-01,\n",
       "        -8.04128927e-01, -7.28941544e-02, -1.66239535e+00,\n",
       "         2.54610943e-01,  7.02136756e-01],\n",
       "       [-3.19297875e-01,  7.56656477e-01, -9.09169214e-01,\n",
       "         6.44164490e-01, -2.01798318e+00,  1.35675930e+00,\n",
       "         3.76182547e-01,  6.36438181e-01],\n",
       "       [ 6.23628196e-02,  1.60187551e+00,  9.24064171e-01,\n",
       "         1.74614528e-01, -1.15868937e+00, -1.77219525e+00,\n",
       "        -7.21809481e-02,  2.21870254e+00],\n",
       "       [ 1.34947590e-01,  1.49717646e+00,  5.24901956e-01,\n",
       "        -1.06393295e+00,  5.14497100e-01, -6.62628018e-01,\n",
       "        -6.93899190e-01, -1.92697279e+00],\n",
       "       [-5.52916918e-01, -1.13257396e+00,  9.86154639e-01,\n",
       "         1.86282678e+00, -1.61098227e+00,  1.40435431e+00,\n",
       "         2.38059236e-01,  4.41489116e-01],\n",
       "       [-4.52586056e-01, -1.10954559e+00, -2.31276480e+00,\n",
       "        -3.46343405e-01,  1.52234442e-01, -2.63479394e+00,\n",
       "        -7.88822915e-01, -1.46240951e-01],\n",
       "       [-1.94728385e+00,  4.33115119e-01,  1.81895702e+00,\n",
       "         3.60845334e-01, -1.57456780e+00, -2.67287013e-01,\n",
       "         1.48789007e+00,  3.69516579e-01],\n",
       "       [ 1.53127661e+00,  2.69575591e-01,  1.75737715e+00,\n",
       "         1.50787397e+00,  4.23482009e-01,  7.77229607e-01,\n",
       "        -2.84791175e-01,  1.80624051e-01],\n",
       "       [ 1.94984573e+00,  6.57078160e-01,  8.98967469e-01,\n",
       "        -6.06963606e-02, -5.47334442e-01,  6.37512614e-01,\n",
       "        -2.18535042e-01,  5.15557967e-01],\n",
       "       [-7.15566786e-01, -3.31513883e-01, -3.69472953e-01,\n",
       "        -1.40569280e+00, -1.06628281e+00,  2.61575343e-01,\n",
       "        -5.49009595e-01, -2.67248004e-01],\n",
       "       [-1.24858668e+00,  9.26200473e-02, -4.73060949e-01,\n",
       "         9.63355332e-01, -1.91358429e+00,  1.41156748e-01,\n",
       "        -5.75533714e-01,  6.88418185e-01],\n",
       "       [-6.81581726e-01, -1.17428091e+00, -7.36985178e-02,\n",
       "         3.05412483e-01, -5.33138282e-01,  5.00484001e-01,\n",
       "         2.36854848e+00,  2.46956641e+00],\n",
       "       [ 5.34253889e-01,  1.41607126e+00,  6.70451786e-01,\n",
       "        -1.34268098e+00,  1.09460578e+00, -1.91565359e-02,\n",
       "        -5.25994825e-01,  9.20310897e-01],\n",
       "       [-1.51815873e+00, -6.79217957e-01,  1.93399036e-01,\n",
       "        -3.20482518e-01, -2.17367327e+00,  2.25659039e-01,\n",
       "         1.40314977e+00,  1.81624933e+00],\n",
       "       [ 6.01610059e-01, -5.25733787e-01, -7.08859646e-01,\n",
       "         7.34770333e-01, -2.20139727e-01, -5.36104168e-02,\n",
       "        -2.08451218e-01, -1.07768989e+00],\n",
       "       [ 3.81060978e-01,  1.04180246e+00,  9.10340641e-01,\n",
       "        -4.15461491e-01, -7.88122474e-01, -2.38301904e-01,\n",
       "         1.68672179e+00, -6.54245229e-01],\n",
       "       [-4.87447118e-01,  1.08951848e+00,  9.06598580e-01,\n",
       "        -1.44267700e+00,  1.02455383e-01,  2.60772092e-01,\n",
       "         4.92240336e-01, -5.82659940e-01],\n",
       "       [ 1.41211247e+00, -2.50856065e-01, -1.31346986e+00,\n",
       "        -1.57950291e+00, -1.16084723e+00,  1.21069850e+00,\n",
       "        -1.96887556e+00,  7.43337057e-01],\n",
       "       [-4.46801462e-03,  2.91959285e-01,  1.33870211e+00,\n",
       "         2.03149318e-01, -1.61758395e-01,  4.40291930e-01,\n",
       "         1.73939361e+00, -1.34158498e+00],\n",
       "       [ 4.49581635e-02,  6.74831731e-01,  9.59651450e-01,\n",
       "         6.99209745e-01, -2.16270594e+00,  7.09884730e-01,\n",
       "        -9.88267584e-01, -9.45560233e-01],\n",
       "       [-1.32795430e+00, -5.36983121e-01, -5.55485110e-01,\n",
       "        -8.81380156e-01, -1.13992690e+00,  9.62932565e-01,\n",
       "        -5.95780587e-01,  1.16435423e+00],\n",
       "       [-2.70164464e+00, -1.03266577e+00,  4.07692973e-01,\n",
       "        -5.10867811e-01,  7.07575071e-01,  2.52157588e-01,\n",
       "        -1.72197707e+00,  2.23753504e-01],\n",
       "       [ 3.53545541e-01, -2.77739417e-01,  4.09189132e-01,\n",
       "        -8.27509477e-01, -8.37663638e-01, -8.21409159e-01,\n",
       "        -4.33639182e-01,  1.32586398e-01],\n",
       "       [ 4.69828144e-01, -6.70775750e-01, -6.01928507e-01,\n",
       "        -1.19437838e+00, -1.12925339e+00,  2.48797685e-01,\n",
       "        -2.64754424e-01, -7.25259247e-01],\n",
       "       [-1.06865248e-01,  6.45269342e-01,  5.33460745e-01,\n",
       "         1.09045419e+00,  9.99817031e-01,  9.23440289e-01,\n",
       "        -7.24446271e-01,  3.10313037e-01],\n",
       "       [-8.86583451e-01,  1.96251147e-01, -9.42898153e-01,\n",
       "        -1.31395310e+00, -2.08553147e+00,  1.23749175e+00,\n",
       "        -1.90894380e+00,  8.88930811e-01],\n",
       "       [-4.12778679e-01,  1.45771663e+00,  7.56469834e-02,\n",
       "         1.15610709e-01,  1.77533058e-01, -7.33054358e-01,\n",
       "         6.73132397e-01,  2.87919686e+00],\n",
       "       [-8.95232239e-01, -1.92398489e+00,  2.69474227e-01,\n",
       "        -2.29679232e+00,  6.64513819e-01, -4.91550072e-01,\n",
       "        -7.84756072e-01,  1.96747099e+00],\n",
       "       [ 3.72483267e-01, -1.77872051e+00,  9.16210027e-01,\n",
       "         6.23254746e-01, -1.74885956e+00, -1.00571413e+00,\n",
       "         4.28952470e-01,  1.88522582e-01],\n",
       "       [-2.33434781e-01,  9.37805120e-01, -3.98086805e-01,\n",
       "        -7.03606440e-01, -4.63478562e-01, -3.60839620e-01,\n",
       "         3.29816013e+00,  1.07679437e+00],\n",
       "       [ 9.88437134e-01, -5.90189932e-01,  6.43210204e-01,\n",
       "        -2.23508490e+00, -1.85844506e+00,  7.33495374e-01,\n",
       "        -7.96745442e-01, -2.56459631e-02],\n",
       "       [ 7.88103707e-01, -2.02054047e-01,  9.94861513e-01,\n",
       "         7.61658844e-01, -1.45728090e-01, -9.06564616e-01,\n",
       "         2.40901681e-01,  2.28371033e+00],\n",
       "       [ 9.65787696e-01,  3.54896707e-02, -4.23160944e-01,\n",
       "         1.45667837e+00,  1.49993475e-01,  3.23392116e-02,\n",
       "         6.22998694e-02, -1.75377084e+00],\n",
       "       [-4.14440500e-01,  1.03407619e+00,  5.03555288e-01,\n",
       "        -1.10336684e-01, -3.63178828e-01, -3.60833395e-01,\n",
       "        -1.25645902e+00, -1.58276244e+00],\n",
       "       [-5.75990830e-01, -1.34875520e+00, -7.80063742e-01,\n",
       "        -6.44015709e-01, -4.25212509e-01,  3.41472408e-01,\n",
       "         1.07571744e-03, -3.24620630e-01],\n",
       "       [-1.94375263e+00, -1.23977360e+00,  2.06232765e-01,\n",
       "         8.10701380e-01,  7.28335056e-01,  7.46461408e-01,\n",
       "         2.53925390e-01, -4.52741583e-01],\n",
       "       [ 4.90402506e-01, -9.92151533e-01, -1.46583182e+00,\n",
       "         3.00361469e+00, -2.13885021e-01, -3.62556490e-01,\n",
       "        -8.75269290e-01,  1.43778571e+00],\n",
       "       [ 9.10364493e-01,  2.19798069e-01,  4.73883819e-01,\n",
       "         2.59270204e+00, -1.01769708e+00,  1.24992966e+00,\n",
       "         2.42128126e+00, -2.11756957e-02],\n",
       "       [-1.14987086e+00, -9.22762366e-01,  3.22056480e-01,\n",
       "        -1.96552964e-01, -2.06916875e+00,  3.20000506e-01,\n",
       "        -7.57574653e-01,  6.86645377e-01],\n",
       "       [ 1.20446170e+00, -4.79148958e-01, -2.93769777e-01,\n",
       "         7.81174041e-03,  1.75251696e+00, -2.03294732e+00,\n",
       "         8.59382174e-01,  3.10333678e-01],\n",
       "       [ 7.53908647e-01, -1.04768907e+00,  4.18627141e-01,\n",
       "        -2.51168601e-02,  3.90351850e-01,  1.15833594e+00,\n",
       "         3.52347331e-01, -5.75943988e-01],\n",
       "       [ 7.85265674e-01, -1.39220825e-01,  7.70763911e-02,\n",
       "        -1.51609281e+00, -6.43956975e-01,  1.09754510e-01,\n",
       "         1.72286190e+00, -7.42757044e-01],\n",
       "       [ 9.32188365e-01, -2.41250619e-01,  5.85504317e-01,\n",
       "        -6.86881331e-01,  1.45160794e+00, -1.02912875e+00,\n",
       "         9.51865258e-01,  4.66613313e-01],\n",
       "       [ 1.99856919e-01,  1.23092687e+00, -1.43659483e-01,\n",
       "         4.08166501e-01,  7.99927760e-01, -1.24356573e+00,\n",
       "         2.93678650e-01, -2.02080720e-02],\n",
       "       [ 7.87208475e-01, -1.65005951e-01, -1.21603280e+00,\n",
       "        -2.06363421e+00,  5.64175009e-01,  1.45385894e+00,\n",
       "        -2.46902957e+00, -9.91657266e-01],\n",
       "       [ 7.17490499e-01, -2.79836443e-01, -9.32889235e-01,\n",
       "         7.59182809e-01, -2.29769080e-01, -3.33970046e-01,\n",
       "        -5.15603973e-01,  3.31303550e-01],\n",
       "       [-2.72621538e-01, -8.46104395e-01,  8.00610431e-01,\n",
       "        -1.18748195e-01,  1.12724972e+00,  1.77919837e+00,\n",
       "        -5.89567993e-01,  7.11396432e-01],\n",
       "       [ 1.06309465e+00, -1.06409783e+00, -1.49116453e+00,\n",
       "         7.58200051e-01, -7.24556088e-01, -1.85064963e+00,\n",
       "         1.08103396e+00, -3.05893229e-01],\n",
       "       [-1.09870092e-01,  1.38493590e+00, -1.98823010e+00,\n",
       "        -1.01561824e+00,  8.21155771e-01, -1.52642183e+00,\n",
       "        -6.91083905e-01,  2.45038266e-01],\n",
       "       [-1.07915371e+00,  1.78687408e-01,  1.28831672e+00,\n",
       "        -2.52970983e-02,  3.60156973e-01,  2.12390451e+00,\n",
       "        -1.05760511e-01, -3.69028250e-01],\n",
       "       [ 1.64923614e+00, -5.03542054e-01, -6.25497373e-02,\n",
       "        -1.85283336e+00,  1.84162995e+00,  3.07154151e-01,\n",
       "         3.17554086e-02,  1.66517556e+00],\n",
       "       [-3.40751653e-01, -3.86147371e-01,  1.78786176e+00,\n",
       "         5.73088693e-01,  7.03928899e-02, -8.40475238e-01,\n",
       "         3.10242088e-01,  1.59313641e+00],\n",
       "       [ 4.42418800e-01, -1.31659718e+00, -7.17961193e-01,\n",
       "        -9.55392104e-01,  4.99233848e-01,  7.20359068e-01,\n",
       "        -1.42990940e+00,  1.05304210e+00]])"
      ]
     },
     "execution_count": 37,
     "metadata": {},
     "output_type": "execute_result"
    }
   ],
   "execution_count": 37
  },
  {
   "metadata": {
    "ExecuteTime": {
     "end_time": "2024-11-21T03:06:17.652771Z",
     "start_time": "2024-11-21T03:06:17.642876Z"
    }
   },
   "cell_type": "code",
   "source": "cross_val_score(LR(),X,y,cv = 5)",
   "id": "7ecc2e16292354c4",
   "outputs": [
    {
     "data": {
      "text/plain": [
       "array([-0.11979244, -0.35628323, -0.11987547,  0.07032536, -0.36232673])"
      ]
     },
     "execution_count": 39,
     "metadata": {},
     "output_type": "execute_result"
    }
   ],
   "execution_count": 39
  },
  {
   "metadata": {
    "ExecuteTime": {
     "end_time": "2024-11-21T03:02:07.538463Z",
     "start_time": "2024-11-21T03:02:07.534536Z"
    }
   },
   "cell_type": "code",
   "source": "dataset.target",
   "id": "412e4970e2fd2758",
   "outputs": [
    {
     "data": {
      "text/plain": [
       "array([4.526, 3.585, 3.521, ..., 0.923, 0.847, 0.894])"
      ]
     },
     "execution_count": 35,
     "metadata": {},
     "output_type": "execute_result"
    }
   ],
   "execution_count": 35
  },
  {
   "metadata": {},
   "cell_type": "code",
   "outputs": [],
   "execution_count": null,
   "source": "",
   "id": "749395faf6f9b10f"
  }
 ],
 "metadata": {
  "kernelspec": {
   "display_name": "Python 3",
   "language": "python",
   "name": "python3"
  },
  "language_info": {
   "codemirror_mode": {
    "name": "ipython",
    "version": 2
   },
   "file_extension": ".py",
   "mimetype": "text/x-python",
   "name": "python",
   "nbconvert_exporter": "python",
   "pygments_lexer": "ipython2",
   "version": "2.7.6"
  }
 },
 "nbformat": 4,
 "nbformat_minor": 5
}
