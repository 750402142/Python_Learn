{
 "cells": [
  {
   "metadata": {},
   "cell_type": "markdown",
   "source": "# 从线性回归到神经网络之线性回归篇",
   "id": "530ae701cff2c24e"
  },
  {
   "metadata": {
    "collapsed": true,
    "ExecuteTime": {
     "end_time": "2024-11-16T11:45:40.532799Z",
     "start_time": "2024-11-16T11:45:39.179136Z"
    }
   },
   "cell_type": "code",
   "source": [
    "from random import uniform\n",
    "\n",
    "import pandas as pd\n",
    "import numpy as np\n",
    "import matplotlib\n",
    "import matplotlib.pyplot as plt\n",
    "import sys\n",
    "\n",
    "from dask.array import meshgrid\n",
    "from matplotlib.colors import ListedColormap\n",
    "from matplotlib.lines import lineStyles\n",
    "from networkx import neighbors\n",
    "from sklearn.metrics import confusion_matrix\n",
    "from streamlit import columns, metric\n",
    "from sympy.printing.pretty.pretty_symbology import line_width\n",
    "\n",
    "print('Python version:', sys.version)\n",
    "print('Pandas version:', pd.__version__)\n",
    "print('Numpy version:', np.__version__)\n",
    "print('Matplotlib version:', matplotlib.__version__)"
   ],
   "id": "initial_id",
   "outputs": [
    {
     "name": "stdout",
     "output_type": "stream",
     "text": [
      "Python version: 3.12.4 | packaged by Anaconda, Inc. | (main, Jun 18 2024, 15:03:56) [MSC v.1929 64 bit (AMD64)]\n",
      "Pandas version: 2.2.2\n",
      "Numpy version: 1.26.4\n",
      "Matplotlib version: 3.8.4\n"
     ]
    }
   ],
   "execution_count": 1
  },
  {
   "metadata": {
    "ExecuteTime": {
     "end_time": "2024-11-18T12:53:29.348780Z",
     "start_time": "2024-11-18T12:53:29.346010Z"
    }
   },
   "cell_type": "code",
   "source": "from sklearn.neighbors import KNeighborsClassifier",
   "id": "b0f0ee6d7f48bab1",
   "outputs": [],
   "execution_count": 2
  },
  {
   "metadata": {},
   "cell_type": "code",
   "outputs": [],
   "execution_count": null,
   "source": "KNeighborsClassifier",
   "id": "3f111c8bb5158355"
  },
  {
   "metadata": {
    "ExecuteTime": {
     "end_time": "2024-11-16T11:45:45.206959Z",
     "start_time": "2024-11-16T11:45:45.203701Z"
    }
   },
   "cell_type": "code",
   "source": [
    "import seaborn as sns\n",
    "plt.rcParams['font.sans-serif'] = 'STsong'\n",
    "plt.rcParams['font.size'] = 14"
   ],
   "id": "39a96921851f25c7",
   "outputs": [],
   "execution_count": 2
  },
  {
   "metadata": {
    "ExecuteTime": {
     "end_time": "2024-11-16T11:49:01.095843Z",
     "start_time": "2024-11-16T11:49:01.084603Z"
    }
   },
   "cell_type": "code",
   "source": [
    "data = pd.read_csv('./data/Advertising.csv',encoding = 'utf-8')\n",
    "data.head()"
   ],
   "id": "c88585cfced496d3",
   "outputs": [
    {
     "data": {
      "text/plain": [
       "   index     微信    微博    抖音   销售额\n",
       "0      0  231.1  41.8  73.2  26.1\n",
       "1      1   48.5  42.3  50.1  11.4\n",
       "2      2   22.2  48.9  71.3  10.3\n",
       "3      3  153.5  42.3  60.5  23.5\n",
       "4      4  181.8  14.8  59.4  15.9"
      ],
      "text/html": [
       "<div>\n",
       "<style scoped>\n",
       "    .dataframe tbody tr th:only-of-type {\n",
       "        vertical-align: middle;\n",
       "    }\n",
       "\n",
       "    .dataframe tbody tr th {\n",
       "        vertical-align: top;\n",
       "    }\n",
       "\n",
       "    .dataframe thead th {\n",
       "        text-align: right;\n",
       "    }\n",
       "</style>\n",
       "<table border=\"1\" class=\"dataframe\">\n",
       "  <thead>\n",
       "    <tr style=\"text-align: right;\">\n",
       "      <th></th>\n",
       "      <th>index</th>\n",
       "      <th>微信</th>\n",
       "      <th>微博</th>\n",
       "      <th>抖音</th>\n",
       "      <th>销售额</th>\n",
       "    </tr>\n",
       "  </thead>\n",
       "  <tbody>\n",
       "    <tr>\n",
       "      <th>0</th>\n",
       "      <td>0</td>\n",
       "      <td>231.1</td>\n",
       "      <td>41.8</td>\n",
       "      <td>73.2</td>\n",
       "      <td>26.1</td>\n",
       "    </tr>\n",
       "    <tr>\n",
       "      <th>1</th>\n",
       "      <td>1</td>\n",
       "      <td>48.5</td>\n",
       "      <td>42.3</td>\n",
       "      <td>50.1</td>\n",
       "      <td>11.4</td>\n",
       "    </tr>\n",
       "    <tr>\n",
       "      <th>2</th>\n",
       "      <td>2</td>\n",
       "      <td>22.2</td>\n",
       "      <td>48.9</td>\n",
       "      <td>71.3</td>\n",
       "      <td>10.3</td>\n",
       "    </tr>\n",
       "    <tr>\n",
       "      <th>3</th>\n",
       "      <td>3</td>\n",
       "      <td>153.5</td>\n",
       "      <td>42.3</td>\n",
       "      <td>60.5</td>\n",
       "      <td>23.5</td>\n",
       "    </tr>\n",
       "    <tr>\n",
       "      <th>4</th>\n",
       "      <td>4</td>\n",
       "      <td>181.8</td>\n",
       "      <td>14.8</td>\n",
       "      <td>59.4</td>\n",
       "      <td>15.9</td>\n",
       "    </tr>\n",
       "  </tbody>\n",
       "</table>\n",
       "</div>"
      ]
     },
     "execution_count": 10,
     "metadata": {},
     "output_type": "execute_result"
    }
   ],
   "execution_count": 10
  },
  {
   "metadata": {
    "ExecuteTime": {
     "end_time": "2024-11-16T11:49:02.572882Z",
     "start_time": "2024-11-16T11:49:02.568286Z"
    }
   },
   "cell_type": "code",
   "source": "data.columns",
   "id": "b0030bd9aaf94cec",
   "outputs": [
    {
     "data": {
      "text/plain": [
       "Index(['index', '微信', '微博', '抖音', '销售额'], dtype='object')"
      ]
     },
     "execution_count": 11,
     "metadata": {},
     "output_type": "execute_result"
    }
   ],
   "execution_count": 11
  },
  {
   "metadata": {
    "ExecuteTime": {
     "end_time": "2024-11-16T11:49:12.686740Z",
     "start_time": "2024-11-16T11:49:12.481461Z"
    }
   },
   "cell_type": "code",
   "source": [
    "import seaborn as sns\n",
    "plt.figure(figsize=(10,8),dpi=100)\n",
    "\n",
    "sns.heatmap(\n",
    "    data = data.iloc[:,1:].corr(), # 传入相关系数矩阵\n",
    "    annot=True,  # 是否显示文本标记\n",
    "    square=True, # 是否显示为正方形\n",
    "    vmax=1,  # 设定最大值\n",
    "    vmin=-1, # 设定最小值\n",
    ")\n",
    "plt.savefig('./result/各个列的线性关系.png')"
   ],
   "id": "adde081b07138eca",
   "outputs": [
    {
     "data": {
      "text/plain": [
       "<Figure size 1000x800 with 2 Axes>"
      ],
      "image/png": "[encoded data removed]"
     },
     "metadata": {},
     "output_type": "display_data"
    }
   ],
   "execution_count": 13
  },
  {
   "metadata": {},
   "cell_type": "markdown",
   "source": [
    "## 数据划分\n",
    "- 测试集完全独立于模型的训练过程\n",
    "- 先划分为X_train, X_test, y_train, y_test一系列数据集再进行后面数据的归一化"
   ],
   "id": "9845be79f0fcd39d"
  },
  {
   "metadata": {
    "ExecuteTime": {
     "end_time": "2024-11-16T11:50:09.490992Z",
     "start_time": "2024-11-16T11:50:09.487109Z"
    }
   },
   "cell_type": "code",
   "source": [
    "X = data['微信'].to_numpy()\n",
    "print(X.shape)\n",
    "X = X.reshape(X.shape[0],1)#转换为多行一列(200,1)的形式,之前是(200,)的形式\n",
    "print(X.shape)"
   ],
   "id": "799fcd48b5244114",
   "outputs": [
    {
     "name": "stdout",
     "output_type": "stream",
     "text": [
      "(200,)\n",
      "(200, 1)\n"
     ]
    }
   ],
   "execution_count": 15
  },
  {
   "metadata": {
    "ExecuteTime": {
     "end_time": "2024-11-16T11:56:47.170003Z",
     "start_time": "2024-11-16T11:56:47.166907Z"
    }
   },
   "cell_type": "code",
   "source": [
    "y = data['销售额'].to_numpy()\n",
    "y = y.reshape(y.shape[0],1)"
   ],
   "id": "2cf5996994ed852e",
   "outputs": [],
   "execution_count": 16
  },
  {
   "metadata": {
    "ExecuteTime": {
     "end_time": "2024-11-16T11:57:00.114857Z",
     "start_time": "2024-11-16T11:57:00.091944Z"
    }
   },
   "cell_type": "code",
   "source": "from sklearn.model_selection import train_test_split",
   "id": "a74d66813b34dbb",
   "outputs": [],
   "execution_count": 18
  },
  {
   "metadata": {
    "ExecuteTime": {
     "end_time": "2024-11-16T11:57:04.746952Z",
     "start_time": "2024-11-16T11:57:04.741670Z"
    }
   },
   "cell_type": "code",
   "source": "X_train, X_test, y_train, y_test = train_test_split(X, y, test_size=0.2, random_state=1210)",
   "id": "1727d541f0490220",
   "outputs": [],
   "execution_count": 19
  },
  {
   "metadata": {
    "ExecuteTime": {
     "end_time": "2024-11-16T12:02:59.668516Z",
     "start_time": "2024-11-16T12:02:59.663991Z"
    }
   },
   "cell_type": "code",
   "source": "X_train.shape",
   "id": "a9dbcf4707e6c5e4",
   "outputs": [
    {
     "data": {
      "text/plain": [
       "(160, 1)"
      ]
     },
     "execution_count": 22,
     "metadata": {},
     "output_type": "execute_result"
    }
   ],
   "execution_count": 22
  },
  {
   "metadata": {
    "ExecuteTime": {
     "end_time": "2024-11-16T11:57:09.468091Z",
     "start_time": "2024-11-16T11:57:09.465217Z"
    }
   },
   "cell_type": "code",
   "source": "from sklearn.preprocessing import MinMaxScaler",
   "id": "44b60236203c9772",
   "outputs": [],
   "execution_count": 20
  },
  {
   "metadata": {
    "ExecuteTime": {
     "end_time": "2024-11-16T11:57:27.761957Z",
     "start_time": "2024-11-16T11:57:27.757555Z"
    }
   },
   "cell_type": "code",
   "source": [
    "scaler = MinMaxScaler()\n",
    "X_train,X_test = scaler.fit_transform(X_train),scaler.fit_transform(X_test)\n",
    "y_train,y_test = scaler.fit_transform(y_train),scaler.fit_transform(y_test)"
   ],
   "id": "5823376e6f724563",
   "outputs": [],
   "execution_count": 21
  },
  {
   "metadata": {
    "ExecuteTime": {
     "end_time": "2024-11-14T01:21:02.002585Z",
     "start_time": "2024-11-14T01:21:01.890910Z"
    }
   },
   "cell_type": "code",
   "source": [
    "plt.figure(figsize=(8,5),dpi=100)\n",
    "plt.scatter(X_train,y_train,edgecolors='black',lw = 4,color = 'orange',marker = 'o')\n",
    "plt.savefig('./result/微信和销售图.png')"
   ],
   "id": "a84c512a9d370213",
   "outputs": [
    {
     "data": {
      "text/plain": [
       "<Figure size 800x500 with 1 Axes>"
      ],
      "image/png": "[encoded data removed]"
     },
     "metadata": {},
     "output_type": "display_data"
    }
   ],
   "execution_count": 50
  },
  {
   "metadata": {},
   "cell_type": "markdown",
   "source": [
    "## 模型确定\n",
    "- 机器学习中,表示为y=kx+b,其中w表示权重,b表示偏执\n",
    "- \n"
   ],
   "id": "58d2affd5ed71037"
  },
  {
   "metadata": {
    "ExecuteTime": {
     "end_time": "2024-11-14T14:59:29.957159Z",
     "start_time": "2024-11-14T14:59:29.953418Z"
    }
   },
   "cell_type": "code",
   "source": [
    "x = np.linspace(-5, 5, 100)\n",
    "y = np.linspace(-5, 5, 100)"
   ],
   "id": "ddbdaabd24d50c",
   "outputs": [],
   "execution_count": 16
  },
  {
   "metadata": {
    "ExecuteTime": {
     "end_time": "2024-11-16T12:04:00.883755Z",
     "start_time": "2024-11-16T12:04:00.880332Z"
    }
   },
   "cell_type": "code",
   "source": [
    "# 定义线性回归预测函数,返回每一个预测值\n",
    "def predict(weight,bias,X): # 定义损失函数\n",
    "    y_hat = weight * X + bias # 这是假设函数\n",
    "    return y_hat # 返回预测的结果"
   ],
   "id": "56c3d491d4fb4d2a",
   "outputs": [],
   "execution_count": 23
  },
  {
   "metadata": {
    "ExecuteTime": {
     "end_time": "2024-11-16T12:04:25.663516Z",
     "start_time": "2024-11-16T12:04:25.660282Z"
    }
   },
   "cell_type": "code",
   "source": [
    "# 定义损失函数,返回所有损失值的均值\n",
    "def cost_function(X,y,w,b): # 定义一个MSE均方误差函数\n",
    "    y_hat = w * X + b # 假设函数\n",
    "    loss = y_hat - y #\n",
    "    cost = np.sum(loss ** 2) /len(X)\n",
    "    return cost"
   ],
   "id": "368118cb515da47e",
   "outputs": [],
   "execution_count": 24
  },
  {
   "metadata": {
    "ExecuteTime": {
     "end_time": "2024-11-14T06:47:05.312105Z",
     "start_time": "2024-11-14T06:47:05.308311Z"
    }
   },
   "cell_type": "code",
   "source": "np.array([1,2,4,5],ndmin=3)#admin 表示生成的是几维数组,由结果可知嵌套了三层",
   "id": "8d0b7ba7b4c17e23",
   "outputs": [
    {
     "data": {
      "text/plain": [
       "array([[[1, 2, 4, 5]]])"
      ]
     },
     "execution_count": 7,
     "metadata": {},
     "output_type": "execute_result"
    }
   ],
   "execution_count": 7
  },
  {
   "metadata": {
    "ExecuteTime": {
     "end_time": "2024-11-14T06:57:57.432562Z",
     "start_time": "2024-11-14T06:57:57.427999Z"
    }
   },
   "cell_type": "code",
   "source": [
    "# 线性回归梯度下降的实现\n",
    "def gradient_descent(X,y,w,b,lr,iterations):\n",
    "    l_history = np.zeros(iterations)\n",
    "    w_history = np.zeros(iterations)\n",
    "    b_history = np.zeros(iterations)\n",
    "    for iter in range(iterations):\n",
    "        y_hat = w * X + b\n",
    "        loss = y_hat -y\n",
    "        derivative_weight = X.T.dot(loss)/len(X) *2\n",
    "        derivative_bias = sum(loss) * 1/len(X) *2\n",
    "        w = w - lr * derivative_weight\n",
    "        b = b - lr * derivative_bias\n",
    "        l_history[iter] = cost_function(X,y,w,b)\n",
    "        w_history[iter] = w\n",
    "        b_history[iter] = b\n",
    "        return l_history,w_history,b_history"
   ],
   "id": "9f4eb12e41e4cc81",
   "outputs": [],
   "execution_count": 8
  },
  {
   "metadata": {
    "ExecuteTime": {
     "end_time": "2024-11-14T15:24:44.064580Z",
     "start_time": "2024-11-14T15:24:44.060098Z"
    }
   },
   "cell_type": "code",
   "source": [
    "import func1\n",
    "func1."
   ],
   "id": "cef8bcf160704e90",
   "outputs": [
    {
     "data": {
      "text/plain": [
       "array([-5.        , -4.8989899 , -4.7979798 , -4.6969697 , -4.5959596 ,\n",
       "       -4.49494949, -4.39393939, -4.29292929, -4.19191919, -4.09090909,\n",
       "       -3.98989899, -3.88888889, -3.78787879, -3.68686869, -3.58585859,\n",
       "       -3.48484848, -3.38383838, -3.28282828, -3.18181818, -3.08080808,\n",
       "       -2.97979798, -2.87878788, -2.77777778, -2.67676768, -2.57575758,\n",
       "       -2.47474747, -2.37373737, -2.27272727, -2.17171717, -2.07070707,\n",
       "       -1.96969697, -1.86868687, -1.76767677, -1.66666667, -1.56565657,\n",
       "       -1.46464646, -1.36363636, -1.26262626, -1.16161616, -1.06060606,\n",
       "       -0.95959596, -0.85858586, -0.75757576, -0.65656566, -0.55555556,\n",
       "       -0.45454545, -0.35353535, -0.25252525, -0.15151515, -0.05050505,\n",
       "        0.05050505,  0.15151515,  0.25252525,  0.35353535,  0.45454545,\n",
       "        0.55555556,  0.65656566,  0.75757576,  0.85858586,  0.95959596,\n",
       "        1.06060606,  1.16161616,  1.26262626,  1.36363636,  1.46464646,\n",
       "        1.56565657,  1.66666667,  1.76767677,  1.86868687,  1.96969697,\n",
       "        2.07070707,  2.17171717,  2.27272727,  2.37373737,  2.47474747,\n",
       "        2.57575758,  2.67676768,  2.77777778,  2.87878788,  2.97979798,\n",
       "        3.08080808,  3.18181818,  3.28282828,  3.38383838,  3.48484848,\n",
       "        3.58585859,  3.68686869,  3.78787879,  3.88888889,  3.98989899,\n",
       "        4.09090909,  4.19191919,  4.29292929,  4.39393939,  4.49494949,\n",
       "        4.5959596 ,  4.6969697 ,  4.7979798 ,  4.8989899 ,  5.        ])"
      ]
     },
     "execution_count": 23,
     "metadata": {},
     "output_type": "execute_result"
    }
   ],
   "execution_count": 23
  },
  {
   "metadata": {},
   "cell_type": "code",
   "outputs": [],
   "execution_count": null,
   "source": "",
   "id": "40c85e6e6a4d47f0"
  }
 ],
 "metadata": {
  "kernelspec": {
   "display_name": "Python 3",
   "language": "python",
   "name": "python3"
  },
  "language_info": {
   "codemirror_mode": {
    "name": "ipython",
    "version": 2
   },
   "file_extension": ".py",
   "mimetype": "text/x-python",
   "name": "python",
   "nbconvert_exporter": "python",
   "pygments_lexer": "ipython2",
   "version": "2.7.6"
  }
 },
 "nbformat": 4,
 "nbformat_minor": 5
}
