{
 "cells": [
  {
   "cell_type": "markdown",
   "id": "7d85072d",
   "metadata": {},
   "source": [
    "# 模块7-机器学习基础-基础篇-03-从线性回归到神经网络之线性回归篇-Sklearn实现"
   ]
  },
  {
   "cell_type": "code",
   "execution_count": 2,
   "id": "74948c63",
   "metadata": {
    "ExecuteTime": {
     "end_time": "2024-11-15T00:02:58.021256Z",
     "start_time": "2024-11-15T00:02:58.018238Z"
    }
   },
   "outputs": [],
   "source": [
    "import pandas as pd\n",
    "import numpy as np\n",
    "import matplotlib\n",
    "import matplotlib.pyplot as plt"
   ]
  },
  {
   "cell_type": "markdown",
   "id": "352477fd",
   "metadata": {},
   "source": [
    "## 数据准备与预处理"
   ]
  },
  {
   "cell_type": "code",
   "execution_count": 8,
   "id": "f025fa59",
   "metadata": {
    "ExecuteTime": {
     "end_time": "2024-11-15T00:06:31.729559Z",
     "start_time": "2024-11-15T00:06:31.714521Z"
    }
   },
   "outputs": [
    {
     "data": {
      "text/plain": [
       "['MedInc',\n",
       " 'HouseAge',\n",
       " 'AveRooms',\n",
       " 'AveBedrms',\n",
       " 'Population',\n",
       " 'AveOccup',\n",
       " 'Latitude',\n",
       " 'Longitude']"
      ]
     },
     "execution_count": 8,
     "metadata": {},
     "output_type": "execute_result"
    }
   ],
   "source": [
    "from sklearn.datasets import fetch_california_housing\n",
    "data = fetch_california_housing()\n",
    "data.data\n",
    "data.target\n",
    "data.feature_names"
   ]
  },
  {
   "cell_type": "code",
   "execution_count": 10,
   "id": "73492b80",
   "metadata": {
    "ExecuteTime": {
     "end_time": "2024-11-15T00:09:14.939739Z",
     "start_time": "2024-11-15T00:09:14.885549Z"
    }
   },
   "outputs": [
    {
     "data": {
      "text/html": [
       "<div>\n",
       "<style scoped>\n",
       "    .dataframe tbody tr th:only-of-type {\n",
       "        vertical-align: middle;\n",
       "    }\n",
       "\n",
       "    .dataframe tbody tr th {\n",
       "        vertical-align: top;\n",
       "    }\n",
       "\n",
       "    .dataframe thead th {\n",
       "        text-align: right;\n",
       "    }\n",
       "</style>\n",
       "<table border=\"1\" class=\"dataframe\">\n",
       "  <thead>\n",
       "    <tr style=\"text-align: right;\">\n",
       "      <th></th>\n",
       "      <th>住户收入的中位数</th>\n",
       "      <th>房屋年龄的中位数</th>\n",
       "      <th>平均房间数据</th>\n",
       "      <th>平均卧室数目</th>\n",
       "      <th>街区的人口</th>\n",
       "      <th>平均入住率</th>\n",
       "      <th>纬度</th>\n",
       "      <th>经度</th>\n",
       "      <th>房屋的价格</th>\n",
       "    </tr>\n",
       "  </thead>\n",
       "  <tbody>\n",
       "    <tr>\n",
       "      <th>0</th>\n",
       "      <td>8.3252</td>\n",
       "      <td>41.0</td>\n",
       "      <td>6.984127</td>\n",
       "      <td>1.023810</td>\n",
       "      <td>322.0</td>\n",
       "      <td>2.555556</td>\n",
       "      <td>37.88</td>\n",
       "      <td>-122.23</td>\n",
       "      <td>4.526</td>\n",
       "    </tr>\n",
       "    <tr>\n",
       "      <th>1</th>\n",
       "      <td>8.3014</td>\n",
       "      <td>21.0</td>\n",
       "      <td>6.238137</td>\n",
       "      <td>0.971880</td>\n",
       "      <td>2401.0</td>\n",
       "      <td>2.109842</td>\n",
       "      <td>37.86</td>\n",
       "      <td>-122.22</td>\n",
       "      <td>3.585</td>\n",
       "    </tr>\n",
       "    <tr>\n",
       "      <th>2</th>\n",
       "      <td>7.2574</td>\n",
       "      <td>52.0</td>\n",
       "      <td>8.288136</td>\n",
       "      <td>1.073446</td>\n",
       "      <td>496.0</td>\n",
       "      <td>2.802260</td>\n",
       "      <td>37.85</td>\n",
       "      <td>-122.24</td>\n",
       "      <td>3.521</td>\n",
       "    </tr>\n",
       "    <tr>\n",
       "      <th>3</th>\n",
       "      <td>5.6431</td>\n",
       "      <td>52.0</td>\n",
       "      <td>5.817352</td>\n",
       "      <td>1.073059</td>\n",
       "      <td>558.0</td>\n",
       "      <td>2.547945</td>\n",
       "      <td>37.85</td>\n",
       "      <td>-122.25</td>\n",
       "      <td>3.413</td>\n",
       "    </tr>\n",
       "    <tr>\n",
       "      <th>4</th>\n",
       "      <td>3.8462</td>\n",
       "      <td>52.0</td>\n",
       "      <td>6.281853</td>\n",
       "      <td>1.081081</td>\n",
       "      <td>565.0</td>\n",
       "      <td>2.181467</td>\n",
       "      <td>37.85</td>\n",
       "      <td>-122.25</td>\n",
       "      <td>3.422</td>\n",
       "    </tr>\n",
       "  </tbody>\n",
       "</table>\n",
       "</div>"
      ],
      "text/plain": [
       "   住户收入的中位数  房屋年龄的中位数    平均房间数据    平均卧室数目   街区的人口     平均入住率     纬度      经度  \\\n",
       "0    8.3252      41.0  6.984127  1.023810   322.0  2.555556  37.88 -122.23   \n",
       "1    8.3014      21.0  6.238137  0.971880  2401.0  2.109842  37.86 -122.22   \n",
       "2    7.2574      52.0  8.288136  1.073446   496.0  2.802260  37.85 -122.24   \n",
       "3    5.6431      52.0  5.817352  1.073059   558.0  2.547945  37.85 -122.25   \n",
       "4    3.8462      52.0  6.281853  1.081081   565.0  2.181467  37.85 -122.25   \n",
       "\n",
       "   房屋的价格  \n",
       "0  4.526  \n",
       "1  3.585  \n",
       "2  3.521  \n",
       "3  3.413  \n",
       "4  3.422  "
      ]
     },
     "execution_count": 10,
     "metadata": {},
     "output_type": "execute_result"
    }
   ],
   "source": [
    "data = pd.read_csv('./data/housevalue.csv', encoding='utf-8')\n",
    "data.columns = [\n",
    "    '住户收入的中位数', '房屋年龄的中位数', '平均房间数据', '平均卧室数目',\n",
    "    '街区的人口', '平均入住率', '纬度', '经度','房屋的价格'\n",
    "]\n",
    "data.head()"
   ]
  },
  {
   "cell_type": "code",
   "execution_count": 19,
   "id": "062b7656",
   "metadata": {
    "ExecuteTime": {
     "end_time": "2024-11-15T00:18:49.412060Z",
     "start_time": "2024-11-15T00:18:49.403105Z"
    }
   },
   "outputs": [],
   "source": [
    "from sklearn.model_selection import train_test_split\n",
    "from rich import print\n",
    "\n",
    "X_train, X_test, y_train, y_test = train_test_split(\n",
    "    data.iloc[:,:-1], #特征\n",
    "    data.iloc[:,-1], # 标签\n",
    "    test_size=0.3,  # 划分比例\n",
    "    random_state=1210 # 随机数种子\n",
    ")"
   ]
  },
  {
   "cell_type": "code",
   "execution_count": 20,
   "id": "a8a21ab1",
   "metadata": {
    "ExecuteTime": {
     "end_time": "2024-11-15T00:19:18.355605Z",
     "start_time": "2024-11-15T00:19:18.342538Z"
    }
   },
   "outputs": [
    {
     "data": {
      "text/html": [
       "<pre style=\"white-space:pre;overflow-x:auto;line-height:normal;font-family:Menlo,'DejaVu Sans Mono',consolas,'Courier New',monospace\">训练集特征的大小为: <span style=\"font-weight: bold\">(</span><span style=\"color: #008080; text-decoration-color: #008080; font-weight: bold\">14448</span>, <span style=\"color: #008080; text-decoration-color: #008080; font-weight: bold\">8</span><span style=\"font-weight: bold\">)</span>\n",
       "</pre>\n"
      ],
      "text/plain": [
       "训练集特征的大小为: \u001b[1m(\u001b[0m\u001b[1;36m14448\u001b[0m, \u001b[1;36m8\u001b[0m\u001b[1m)\u001b[0m\n"
      ]
     },
     "metadata": {},
     "output_type": "display_data"
    },
    {
     "data": {
      "text/html": [
       "<pre style=\"white-space:pre;overflow-x:auto;line-height:normal;font-family:Menlo,'DejaVu Sans Mono',consolas,'Courier New',monospace\">训练集标签的大小为: <span style=\"font-weight: bold\">(</span><span style=\"color: #008080; text-decoration-color: #008080; font-weight: bold\">14448</span>,<span style=\"font-weight: bold\">)</span>\n",
       "</pre>\n"
      ],
      "text/plain": [
       "训练集标签的大小为: \u001b[1m(\u001b[0m\u001b[1;36m14448\u001b[0m,\u001b[1m)\u001b[0m\n"
      ]
     },
     "metadata": {},
     "output_type": "display_data"
    },
    {
     "data": {
      "text/html": [
       "<pre style=\"white-space:pre;overflow-x:auto;line-height:normal;font-family:Menlo,'DejaVu Sans Mono',consolas,'Courier New',monospace\">测试集特征的大小为: <span style=\"font-weight: bold\">(</span><span style=\"color: #008080; text-decoration-color: #008080; font-weight: bold\">6192</span>, <span style=\"color: #008080; text-decoration-color: #008080; font-weight: bold\">8</span><span style=\"font-weight: bold\">)</span>\n",
       "</pre>\n"
      ],
      "text/plain": [
       "测试集特征的大小为: \u001b[1m(\u001b[0m\u001b[1;36m6192\u001b[0m, \u001b[1;36m8\u001b[0m\u001b[1m)\u001b[0m\n"
      ]
     },
     "metadata": {},
     "output_type": "display_data"
    },
    {
     "data": {
      "text/html": [
       "<pre style=\"white-space:pre;overflow-x:auto;line-height:normal;font-family:Menlo,'DejaVu Sans Mono',consolas,'Courier New',monospace\">测试集标签的大小为: <span style=\"font-weight: bold\">(</span><span style=\"color: #008080; text-decoration-color: #008080; font-weight: bold\">6192</span>,<span style=\"font-weight: bold\">)</span>\n",
       "</pre>\n"
      ],
      "text/plain": [
       "测试集标签的大小为: \u001b[1m(\u001b[0m\u001b[1;36m6192\u001b[0m,\u001b[1m)\u001b[0m\n"
      ]
     },
     "metadata": {},
     "output_type": "display_data"
    }
   ],
   "source": [
    "print(f\"训练集特征的大小为: {X_train.shape}\")\n",
    "print(f\"训练集标签的大小为: {y_train.shape}\")\n",
    "print(f\"测试集特征的大小为: {X_test.shape}\")\n",
    "print(f\"测试集标签的大小为: {y_test.shape}\")"
   ]
  },
  {
   "cell_type": "markdown",
   "id": "de76c897",
   "metadata": {},
   "source": [
    "## 模型建立"
   ]
  },
  {
   "cell_type": "code",
   "execution_count": 21,
   "id": "fe48a3b8",
   "metadata": {
    "ExecuteTime": {
     "end_time": "2024-11-15T00:20:09.810881Z",
     "start_time": "2024-11-15T00:20:09.806947Z"
    }
   },
   "outputs": [],
   "source": [
    "from sklearn.linear_model import LinearRegression as LR"
   ]
  },
  {
   "cell_type": "code",
   "execution_count": 37,
   "id": "5588e833",
   "metadata": {
    "ExecuteTime": {
     "end_time": "2024-11-15T00:31:42.173578Z",
     "start_time": "2024-11-15T00:31:42.159884Z"
    }
   },
   "outputs": [
    {
     "data": {
      "text/plain": [
       "array([1.7427149 , 1.0351381 , 2.23547189, ..., 1.30589654, 1.68168387,\n",
       "       2.1008634 ])"
      ]
     },
     "execution_count": 37,
     "metadata": {},
     "output_type": "execute_result"
    }
   ],
   "source": [
    "reg = LR(fit_intercept=True, # 是否计算模型的截距项\n",
    "        copy_X=True,  # 默认是True, 程序会复制数据X,否则X可能会被覆盖\n",
    "        n_jobs=-1,  # 所有的内核都参与运算\n",
    "        positive=False, # 强制线性模型的系数为正\n",
    "        )          #  实例化一个线性回归模型对象\n",
    "reg.fit(X_train, y_train)  # 使用该模型进行训练\n",
    "y_hat = reg.predict(X_test)  # 训练好的模型进行预测\n",
    "y_hat   # 查看预测的结果"
   ]
  },
  {
   "cell_type": "markdown",
   "id": "2e3065ac",
   "metadata": {
    "ExecuteTime": {
     "end_time": "2024-11-15T00:31:42.579992Z",
     "start_time": "2024-11-15T00:31:42.575978Z"
    }
   },
   "source": [
    "- fit_intercept: 是否计算模型的截距项\n",
    "- copy_X : 默认是True, 程序会复制数据X,否则X可能会被覆盖\n",
    "- positive=False,  强制线性模型的系数为正"
   ]
  },
  {
   "cell_type": "code",
   "execution_count": 45,
   "id": "87ad6398",
   "metadata": {
    "ExecuteTime": {
     "end_time": "2024-11-15T00:42:28.341937Z",
     "start_time": "2024-11-15T00:42:28.336476Z"
    }
   },
   "outputs": [
    {
     "data": {
      "text/plain": [
       "8"
      ]
     },
     "execution_count": 45,
     "metadata": {},
     "output_type": "execute_result"
    }
   ],
   "source": [
    "reg.coef_   # 返回特征的系数\n",
    "[*zip(reg.feature_names_in_, reg.coef_)] #返回特征的名称和特征的系数\n",
    "reg.intercept_ #线性回归的中的截距项目\n",
    "reg.rank_ #返回特征矩阵的rank\n",
    "reg.singular_ # 返回特征矩阵的奇异值,\n",
    "reg.n_features_in_ # 返回特征的数量"
   ]
  },
  {
   "cell_type": "markdown",
   "id": "bb951d42",
   "metadata": {},
   "source": [
    "## 回归类模型的评估指标"
   ]
  },
  {
   "cell_type": "markdown",
   "id": "5d6e6d8f",
   "metadata": {},
   "source": [
    "### 是否预测了正确的数值\n",
    "这里一般使用MSE来评价来作为评估指标\n",
    "\n",
    "$$ \\frac{1}{N}\\sum(y_i - y^{\\hat})^2 $$"
   ]
  },
  {
   "cell_type": "code",
   "execution_count": 51,
   "id": "b016beb8",
   "metadata": {
    "ExecuteTime": {
     "end_time": "2024-11-15T01:05:57.500887Z",
     "start_time": "2024-11-15T01:05:57.493885Z"
    }
   },
   "outputs": [
    {
     "data": {
      "text/plain": [
       "0.5198138702278865"
      ]
     },
     "execution_count": 51,
     "metadata": {},
     "output_type": "execute_result"
    }
   ],
   "source": [
    "from sklearn.metrics import mean_squared_error as MSE\n",
    "\n",
    "MSE(y_hat, y_test) # 方法1"
   ]
  },
  {
   "cell_type": "code",
   "execution_count": 59,
   "id": "74edb047",
   "metadata": {
    "ExecuteTime": {
     "end_time": "2024-11-15T01:22:27.349753Z",
     "start_time": "2024-11-15T01:22:27.311026Z"
    }
   },
   "outputs": [
    {
     "data": {
      "text/plain": [
       "array([-0.56944385, -0.48865454, -0.53811748, -0.50304552, -0.55486849])"
      ]
     },
     "execution_count": 59,
     "metadata": {},
     "output_type": "execute_result"
    }
   ],
   "source": [
    "from sklearn.model_selection import cross_val_score\n",
    "cross_val_score(reg,X_train, y_train, cv=5,scoring='neg_mean_squared_error')"
   ]
  },
  {
   "cell_type": "code",
   "execution_count": 56,
   "id": "a7875b84",
   "metadata": {
    "ExecuteTime": {
     "end_time": "2024-11-15T01:11:31.066497Z",
     "start_time": "2024-11-15T01:11:30.981259Z"
    }
   },
   "outputs": [
    {
     "data": {
      "text/plain": [
       "-0.532778333806857"
      ]
     },
     "execution_count": 56,
     "metadata": {},
     "output_type": "execute_result"
    }
   ],
   "source": [
    "from sklearn.metrics import mean_absolute_error as MAE\n",
    "MAE(y_hat, y_test)\n",
    "cross_val_score(reg,X_train, y_train, cv=10,scoring='neg_mean_absolute_error').mean()"
   ]
  },
  {
   "cell_type": "markdown",
   "id": "f5dfb848",
   "metadata": {
    "ExecuteTime": {
     "end_time": "2024-11-15T01:21:00.959089Z",
     "start_time": "2024-11-15T01:21:00.945548Z"
    }
   },
   "source": [
    "CV = 10\n",
    "1. 将X_train划分为10个大小的相似的子集,成为'折',分为10个,那就是10折交叉验证\n",
    "2. 模型的测试与训练: 10个子集里面,我拿9个子集训练模型,剩下的1个测试模型,\n",
    "3. 重复上述过程K次,每次都选择不通的测试集,\n",
    "4. 结果计算\n",
    "    1. 记录每次迭代中模型的评估指标,比如准确率,均方误差\n",
    "    2. 最后,计算所有K次评估的平均值以及标准差,这为模型性能提供了一个稳健的估计\n",
    "\n",
    "做交叉验证的好处:\n",
    "1. 提供模型在不同数据集划分下的性能的平均值,减少单词划分带来的随机性\n",
    "2. 帮助检测模型是否过拟合或者欠拟合\n",
    "3. 提供更稳健的模型评估结果,提高模型选择的可靠性"
   ]
  },
  {
   "cell_type": "markdown",
   "id": "92314e09",
   "metadata": {},
   "source": [
    "### 是否拟合了足够的信息\n",
    "\n",
    "只探索数据是否预测准确说不够的,除了数据本身的数值大小之外,我们还希望我们都模型能够捕捉到数据的规律,比如数据的分布,单调性等,但是这些 并没有办法通过MSE来衡量"
   ]
  },
  {
   "cell_type": "markdown",
   "id": "cb85a430",
   "metadata": {
    "ExecuteTime": {
     "end_time": "2024-11-15T01:36:34.662834Z",
     "start_time": "2024-11-15T01:36:34.658691Z"
    }
   },
   "source": [
    "$$R^2 = 1 - \\frac{\\sum_{i=0}^m (y_i - \\hat{y})^2} {\\sum_{i=0}^m (y_i - \\bar{y})^2 }$$"
   ]
  },
  {
   "cell_type": "code",
   "execution_count": 67,
   "id": "6b77c332",
   "metadata": {
    "ExecuteTime": {
     "end_time": "2024-11-15T02:12:02.230276Z",
     "start_time": "2024-11-15T02:12:02.226663Z"
    }
   },
   "outputs": [],
   "source": [
    "from sklearn.metrics import r2_score"
   ]
  },
  {
   "cell_type": "code",
   "execution_count": 64,
   "id": "96f46065",
   "metadata": {
    "ExecuteTime": {
     "end_time": "2024-11-15T02:04:35.589723Z",
     "start_time": "2024-11-15T02:04:35.582275Z"
    }
   },
   "outputs": [
    {
     "data": {
      "text/plain": [
       "0.6131935096962662"
      ]
     },
     "execution_count": 64,
     "metadata": {},
     "output_type": "execute_result"
    }
   ],
   "source": [
    "# 请务必注意,输入的时候,先输入真实值,后输入预测值,两者顺序乱了,会导致相同评估指标不同的结果\n",
    "r2_score(y_hat, y_test)  # 错误师范\n",
    "r2_score(y_test, y_hat)  # 虽然可以用,但是不建议,\n",
    "r2_score(y_pred=y_hat, y_true=y_test)  # 建议使用关键字从传参"
   ]
  },
  {
   "cell_type": "code",
   "execution_count": 65,
   "id": "fc5b0614",
   "metadata": {
    "ExecuteTime": {
     "end_time": "2024-11-15T02:05:23.551229Z",
     "start_time": "2024-11-15T02:05:23.463810Z"
    }
   },
   "outputs": [
    {
     "data": {
      "text/plain": [
       "0.5983794887137079"
      ]
     },
     "execution_count": 65,
     "metadata": {},
     "output_type": "execute_result"
    }
   ],
   "source": [
    "from sklearn.model_selection import cross_val_score\n",
    "cross_val_score(reg,X_train, y_train, cv=10,scoring='r2').mean()"
   ]
  },
  {
   "cell_type": "code",
   "execution_count": 66,
   "id": "156b5fca",
   "metadata": {
    "ExecuteTime": {
     "end_time": "2024-11-15T02:09:50.375997Z",
     "start_time": "2024-11-15T02:09:50.116619Z"
    }
   },
   "outputs": [
    {
     "data": {
      "image/png": "[encoded data removed]",
      "text/plain": [
       "<Figure size 800x600 with 1 Axes>"
      ]
     },
     "metadata": {},
     "output_type": "display_data"
    }
   ],
   "source": [
    "import matplotlib.pyplot as plt\n",
    "plt.rcParams['font.sans-serif'] = 'Times New Roman'\n",
    "plt.rcParams['font.size'] = 16\n",
    "plt.figure(figsize=(8,6),dpi=100)\n",
    "sorted(y_test)\n",
    "\n",
    "plt.plot(range(len(y_test)), sorted(y_test),c='orange',ls='--', label='Raal Data')\n",
    "         \n",
    "plt.plot(range(len(y_hat)), sorted(y_hat),c='red', label='Predict Data')\n",
    "\n",
    "plt.legend()\n",
    "\n",
    "plt.show()"
   ]
  },
  {
   "cell_type": "code",
   "execution_count": 68,
   "id": "51d4b6ae",
   "metadata": {
    "ExecuteTime": {
     "end_time": "2024-11-15T02:16:05.103850Z",
     "start_time": "2024-11-15T02:16:05.099336Z"
    }
   },
   "outputs": [],
   "source": [
    "rng = np.random.RandomState(1210)\n",
    "X = rng.randn(100,80)\n",
    "y = rng.randn(100)"
   ]
  },
  {
   "cell_type": "code",
   "execution_count": 72,
   "id": "d3d7607d",
   "metadata": {
    "ExecuteTime": {
     "end_time": "2024-11-15T02:16:52.239583Z",
     "start_time": "2024-11-15T02:16:52.204486Z"
    }
   },
   "outputs": [
    {
     "data": {
      "text/plain": [
       "array([-1588.66069835,   -21.04452071,   -14.13640302,   -55.35250717,\n",
       "        -307.18284983])"
      ]
     },
     "execution_count": 72,
     "metadata": {},
     "output_type": "execute_result"
    }
   ],
   "source": [
    "cross_val_score(LR(), X, y, cv=5, scoring='r2')"
   ]
  },
  {
   "cell_type": "markdown",
   "id": "9e210c97",
   "metadata": {
    "ExecuteTime": {
     "end_time": "2024-11-15T02:26:04.518151Z",
     "start_time": "2024-11-15T02:26:04.512653Z"
    }
   },
   "source": [
    "- 极端情况: R^2为负数\n",
    "\n",
    "1. 模型不合适: 模型没有捕捉到任何数据结构,甚至比用均值预测还要差, R^2就可能是负数\n",
    "2. 数据噪声太大: 如果数据当中存在大量噪声,模型可能无法有效学习 任何规律\n",
    "3. 预测偏差过大,当预测值原理实际时,误差 平方和可能超过总的平方和,此时R^2就是负数\n",
    "4. 特征与目标无关: 特征与目标变了没有显著关系时, 回归模型的效果可能就很差\n",
    "    \n",
    "如何规避这种问题:\n",
    "1. 检查数据: 确保特征和目标变变量之间的某种关系,可以通过绘图或者计算想关系数来检查'\n",
    "2.  特征工程: 尝试提取更有意义的特征.\n",
    "3. 模型选择: 如果线性回归模型不适合,可以尝试其他模型,\n",
    "4. 增加样本量: 更大的样本量可以帮助模型更好的学习数据的结构"
   ]
  },
  {
   "cell_type": "raw",
   "id": "d30ac010",
   "metadata": {
    "ExecuteTime": {
     "end_time": "2024-11-15T03:01:03.242071Z",
     "start_time": "2024-11-15T03:01:03.236230Z"
    }
   },
   "source": [
    "1. 分类任务: 使用KNN或者NCC完成企鹅数据集的分类模型搭建.\n",
    "任务要求: \n",
    "    1. 包含数据清洗\n",
    "    2. 选择合适的指标\n",
    "    3. 数据集的划分\n",
    "    4. 模型的搭建\n",
    "    5. 模型的预测\n",
    "    6. 模型的评估\n",
    "    7. 模型的调参\n",
    "    8. 找到最优的参数.保存模型"
   ]
  },
  {
   "cell_type": "markdown",
   "id": "c62d09c4",
   "metadata": {
    "ExecuteTime": {
     "end_time": "2024-11-15T03:02:32.295345Z",
     "start_time": "2024-11-15T03:02:32.290149Z"
    }
   },
   "source": [
    "2. 回归任务: 使用线性回归完成网店销售额的预测工作\n",
    "\n",
    "任务要求:\n",
    "\n",
    "    1. 数据集的划分\n",
    "    2. 模型的搭建\n",
    "    3. 模型的预测\n",
    "    4. 模型的评估\n",
    "    5. 模型的保存与存储"
   ]
  },
  {
   "cell_type": "code",
   "execution_count": null,
   "id": "5489a4cd",
   "metadata": {},
   "outputs": [],
   "source": []
  }
 ],
 "metadata": {
  "kernelspec": {
   "display_name": "Python 3 (ipykernel)",
   "language": "python",
   "name": "python3"
  },
  "language_info": {
   "codemirror_mode": {
    "name": "ipython",
    "version": 3
   },
   "file_extension": ".py",
   "mimetype": "text/x-python",
   "name": "python",
   "nbconvert_exporter": "python",
   "pygments_lexer": "ipython3",
   "version": "3.12.3"
  },
  "toc": {
   "base_numbering": 1,
   "nav_menu": {},
   "number_sections": true,
   "sideBar": true,
   "skip_h1_title": false,
   "title_cell": "Table of Contents",
   "title_sidebar": "Contents",
   "toc_cell": false,
   "toc_position": {
    "height": "calc(100% - 180px)",
    "left": "10px",
    "top": "150px",
    "width": "325.76px"
   },
   "toc_section_display": true,
   "toc_window_display": false
  }
 },
 "nbformat": 4,
 "nbformat_minor": 5
}
