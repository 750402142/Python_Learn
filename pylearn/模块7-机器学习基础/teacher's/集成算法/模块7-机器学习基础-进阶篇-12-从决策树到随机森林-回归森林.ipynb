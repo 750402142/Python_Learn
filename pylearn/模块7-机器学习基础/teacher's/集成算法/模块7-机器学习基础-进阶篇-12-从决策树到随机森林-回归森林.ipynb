{
 "cells": [
  {
   "cell_type": "markdown",
   "id": "7d03711d",
   "metadata": {},
   "source": [
    "# 随机森林回归"
   ]
  },
  {
   "cell_type": "code",
   "execution_count": 1,
   "id": "cc38f8af",
   "metadata": {
    "ExecuteTime": {
     "end_time": "2024-11-28T00:03:23.914283Z",
     "start_time": "2024-11-28T00:03:23.910872Z"
    }
   },
   "outputs": [],
   "source": [
    "from sklearn.ensemble import RandomForestRegressor"
   ]
  },
  {
   "cell_type": "markdown",
   "id": "93f0ed6e",
   "metadata": {},
   "source": [
    "## 核心参数"
   ]
  },
  {
   "cell_type": "markdown",
   "id": "0e6cbe37",
   "metadata": {
    "ExecuteTime": {
     "end_time": "2024-11-28T00:04:10.253531Z",
     "start_time": "2024-11-28T00:04:10.247315Z"
    }
   },
   "source": [
    "class RandomForestRegressor(ForestRegressor)\n",
    " |  RandomForestRegressor(n_estimators=100, *, criterion='squared_error', max_depth=None, min_samples_split=2, min_samples_leaf=1, min_weight_fraction_leaf=0.0, max_features=1.0, max_leaf_nodes=None, min_impurity_decrease=0.0, bootstrap=True, oob_score=False, n_jobs=None, random_state=None, verbose=0, warm_start=False, ccp_alpha=0.0, max_samples=None, monotonic_cst=None)\n",
    " \n",
    " \n",
    "- n_estimators=100: 随机森林中树都个数\n",
    "- criterion='squared_error': 用于衡量分裂质量的函数,{\"friedman_mse\", \"absolute_error\",\"poisson\"}\n",
    "-  max_depth=None,树都最大深度\n",
    "- min_samples_split: 分裂节点所需要的最小样本数\n",
    "- min_samples_leaf: 叶子节点所需的最小样本数\n",
    "- min_weight_fraction_leaf: 叶子节点所需要的最小权重分数\n",
    "- max_features=1.0, 寻找最佳分裂时,考虑的特征数量: {sqrt， log2}\n",
    "- min_impurity_decrease=0.0, 如果这个分裂导致的不纯的度减少大于或等于这个值,则节点就会分裂\n",
    "- bootstrap=True, 是否使用自助样本构建\n",
    "- oob_score=False, 是否使用袋外数据\n",
    "- n_jobs=None, 并行工作的数量,根据你自己电脑的CPU内核数来决定\n",
    "- random_state: 用于构建树都样本的随机性,以及寻找最佳的分裂特征时考虑的随机性\n",
    "-  verbose=0: 控制台拟合和预测的详细程度\n",
    "- ccp_alpha=0.0, 用于空值最小成本复杂性剪枝的参数\n",
    "- max_samples=None, 如果这里boostrap设定为True, 他就是从X中抽取用于训练每个基学习器的样本数量"
   ]
  },
  {
   "cell_type": "markdown",
   "id": "3258c530",
   "metadata": {},
   "source": [
    "## 随机森林回归案例1-缺失值处理"
   ]
  },
  {
   "cell_type": "code",
   "execution_count": 4,
   "id": "dc790958",
   "metadata": {
    "ExecuteTime": {
     "end_time": "2024-11-28T00:23:13.634835Z",
     "start_time": "2024-11-28T00:23:12.397444Z"
    }
   },
   "outputs": [
    {
     "name": "stdout",
     "output_type": "stream",
     "text": [
      "Python version: 3.12.3 | packaged by conda-forge | (main, Apr 15 2024, 18:20:11) [MSC v.1938 64 bit (AMD64)]\n",
      "Pandas version: 2.2.2\n",
      "Numpy version: 1.26.4\n",
      "Matplotlib version: 3.8.4\n"
     ]
    }
   ],
   "source": [
    "from sklearn.model_selection import cross_val_score\n",
    "\n",
    "from sklearn.ensemble import RandomForestRegressor\n",
    "\n",
    "import pandas as pd\n",
    "import numpy as np\n",
    "import matplotlib\n",
    "import matplotlib.pyplot as plt\n",
    "import sys\n",
    "print('Python version:', sys.version)\n",
    "print('Pandas version:', pd.__version__)\n",
    "print('Numpy version:', np.__version__)\n",
    "print('Matplotlib version:', matplotlib.__version__)"
   ]
  },
  {
   "cell_type": "code",
   "execution_count": 5,
   "id": "cd82515a",
   "metadata": {
    "ExecuteTime": {
     "end_time": "2024-11-28T00:24:47.630829Z",
     "start_time": "2024-11-28T00:24:47.614863Z"
    }
   },
   "outputs": [],
   "source": [
    "raw_df = pd.read_csv('./data/boston.txt', sep=r\"\\s+\",skiprows=22, header=None)"
   ]
  },
  {
   "cell_type": "code",
   "execution_count": 9,
   "id": "f01296da",
   "metadata": {
    "ExecuteTime": {
     "end_time": "2024-11-28T00:27:31.305735Z",
     "start_time": "2024-11-28T00:27:31.302506Z"
    }
   },
   "outputs": [],
   "source": [
    "raw_df.values[::2,:]\n",
    "raw_df.values[1::2,2]\n",
    "data = np.hstack([raw_df.values[::2,:], raw_df.values[1::2,:2]])\n",
    "target = raw_df.values[1::2,2]"
   ]
  },
  {
   "cell_type": "code",
   "execution_count": 15,
   "id": "12cdbdaf",
   "metadata": {
    "ExecuteTime": {
     "end_time": "2024-11-28T00:29:14.492964Z",
     "start_time": "2024-11-28T00:29:14.489938Z"
    },
    "scrolled": false
   },
   "outputs": [
    {
     "name": "stdout",
     "output_type": "stream",
     "text": [
      "数据集的大小为:(506, 13)\n",
      "数据集的标签的大小为: (506,)\n"
     ]
    }
   ],
   "source": [
    "print(f\"数据集的大小为:{data.shape}\")\n",
    "print(f\"数据集的标签的大小为: {target.shape}\")"
   ]
  },
  {
   "cell_type": "code",
   "execution_count": 39,
   "id": "7ccbcf60",
   "metadata": {
    "ExecuteTime": {
     "end_time": "2024-11-28T00:58:33.365599Z",
     "start_time": "2024-11-28T00:58:33.359777Z"
    }
   },
   "outputs": [],
   "source": [
    "X_full, y_full = data, target\n",
    "n_samples = X_full.shape[0]\n",
    "n_features = X_full.shape[1]\n",
    "\n",
    "# 创建一个随机数生成器, 并设置种子是1210,以确保结果都可重复性\n",
    "rng = np.random.RandomState(1210)\n",
    "# 缺失值比例是0.5, \n",
    "missing_rate = 0.5 # 设置缺失的比例是0.5\n",
    "# 计算需要生成的缺失数据的总数,\n",
    "n_missing_samples = int(np.floor(n_samples * n_features * missing_rate))\n",
    "# 希望是创建一个数字,包含在0-506的中间的行索引,和0-13之间的列索引,\n",
    "# 生成确实特征的索引,随机的生成n_missing_samples个不同的索引\n",
    "missing_feautres = rng.randint(0, n_features, n_missing_samples)\n",
    "# 生成缺失样本的索引,随机选择n_missing_samples个不同的索引\n",
    "missing_samples = rng.randint(0, n_samples, n_missing_samples)\n",
    "X_missing = X_full.copy()\n",
    "y_missing = y_full.copy()\n",
    "X_missing[missing_samples, missing_feautres] = np.nan\n",
    "X_missing = pd.DataFrame(X_missing)"
   ]
  },
  {
   "cell_type": "markdown",
   "id": "4a35c748",
   "metadata": {},
   "source": [
    "### 缺失值的处理"
   ]
  },
  {
   "cell_type": "code",
   "execution_count": 35,
   "id": "2549202c",
   "metadata": {
    "ExecuteTime": {
     "end_time": "2024-11-28T00:43:30.630151Z",
     "start_time": "2024-11-28T00:43:30.623134Z"
    }
   },
   "outputs": [],
   "source": [
    "from sklearn.impute import SimpleImputer\n",
    "# 使用均值这种填充从恶略\n",
    "impmean =  SimpleImputer(missing_values=np.nan, strategy='mean')\n",
    "X_missing_mean = impmean.fit_transform(X_missing)"
   ]
  },
  {
   "cell_type": "code",
   "execution_count": 40,
   "id": "6c8f300d",
   "metadata": {
    "ExecuteTime": {
     "end_time": "2024-11-28T01:03:25.178486Z",
     "start_time": "2024-11-28T01:03:25.173253Z"
    }
   },
   "outputs": [],
   "source": [
    "# 使用常数0这种填充策略\n",
    "imp_0 = SimpleImputer(missing_values=np.nan, strategy=\"constant\",fill_value=0)\n",
    "X_missing_zero = imp_0.fit_transform(X_missing)"
   ]
  },
  {
   "cell_type": "markdown",
   "id": "146b32ca",
   "metadata": {},
   "source": [
    "### 随机森林填补缺失值"
   ]
  },
  {
   "cell_type": "markdown",
   "id": "b5cc741e",
   "metadata": {
    "ExecuteTime": {
     "end_time": "2024-11-28T01:21:59.671862Z",
     "start_time": "2024-11-28T01:21:59.658389Z"
    }
   },
   "source": [
    "特征T不缺失的值对应其他n-1个特征 + 原本的标签: X_train\n",
    "特征T不缺失的值: Y_train\n",
    "特征T缺失的值对应其他n-1个特征 + 本来都 标签: X_test\n",
    "特征T缺失的值: Y_test "
   ]
  },
  {
   "cell_type": "code",
   "execution_count": 45,
   "id": "4fafe2bd",
   "metadata": {
    "ExecuteTime": {
     "end_time": "2024-11-28T01:39:24.553486Z",
     "start_time": "2024-11-28T01:39:22.085316Z"
    }
   },
   "outputs": [],
   "source": [
    "X_missing_reg = X_missing.copy() # 创建一个副本,\n",
    "\n",
    "# 对每列的缺失值做排序,并获得排序之后的索引\n",
    "sortindex = np.argsort(X_missing_reg.isnull().sum(axis=0)).values \n",
    "for  i in sortindex:\n",
    "    df = X_missing_reg\n",
    "    fillc = df.iloc[:, i] # 获取当前列的特征\n",
    "    df = pd.concat([df.loc[:, df.columns != i], pd.DataFrame(y_full)], axis=1)\n",
    "    \n",
    "    # 对于这些新的特征,含有缺失值的列使用0进行填补操作\n",
    "    df_0 = SimpleImputer(missing_values=np.nan, \\\n",
    "                         strategy='constant', fill_value=0).fit_transform(df)\n",
    "    \n",
    "    Ytrain = fillc[fillc.notnull()] # 获取当前列中非缺失的值当做训练标签\n",
    "    Ytest = fillc[fillc.isnull()] # 获取当前列中的缺失值作为测试标签\n",
    "    Xtrain = df_0[Ytrain.index, :] # 获取对应非缺失标签的特征数据作为训练集\n",
    "    Xtest = df_0[Ytest.index, :] #获取对应缺失标签的特征数据作为测试集\n",
    "    \n",
    "    # 使用随机森林来进行缺失值的填补\n",
    "    rfg = RandomForestRegressor(n_estimators=100)\n",
    "    rfg.fit(Xtrain, Ytrain)\n",
    "    ypredict = rfg.predict(Xtest)\n",
    "    X_missing_reg.loc[X_missing_reg.iloc[:,i].isnull(), i] = ypredict"
   ]
  },
  {
   "cell_type": "markdown",
   "id": "a323169b",
   "metadata": {
    "ExecuteTime": {
     "end_time": "2024-11-28T01:39:31.966611Z",
     "start_time": "2024-11-28T01:39:31.954850Z"
    }
   },
   "source": [
    "## 对填补好的缺失值进行建模"
   ]
  },
  {
   "cell_type": "code",
   "execution_count": 48,
   "id": "356962e2",
   "metadata": {
    "ExecuteTime": {
     "end_time": "2024-11-28T02:04:33.054205Z",
     "start_time": "2024-11-28T02:04:28.270396Z"
    }
   },
   "outputs": [],
   "source": [
    "X = [X_full, X_missing_mean, X_missing_zero, X_missing_reg]\n",
    "mse = []\n",
    "std = []\n",
    "for x in X:\n",
    "    estimator = RandomForestRegressor(n_estimators=100, random_state=1210)\n",
    "    score = cross_val_score(estimator, x, y_full, scoring='neg_mean_squared_error',cv=5).mean()\n",
    "    mse.append(score * -1)\n",
    "    print(f\"均方误差为: {-np.mean(score)}\")\n",
    "    print(f\"R^2为: {-np.mean(score_r2)}\")"
   ]
  },
  {
   "cell_type": "markdown",
   "id": "32a96b30",
   "metadata": {},
   "source": [
    "### 可视化结果"
   ]
  },
  {
   "cell_type": "code",
   "execution_count": 57,
   "id": "9dfdc4aa",
   "metadata": {
    "ExecuteTime": {
     "end_time": "2024-11-28T02:11:19.174983Z",
     "start_time": "2024-11-28T02:11:19.107788Z"
    },
    "scrolled": false
   },
   "outputs": [
    {
     "data": {
      "image/png": "[encoded data removed]",
      "text/plain": [
       "<Figure size 640x480 with 1 Axes>"
      ]
     },
     "metadata": {},
     "output_type": "display_data"
    }
   ],
   "source": [
    "x_label = ['原始数据', '0填充数据','均值填充','随机森林填充']\n",
    "colors = ['r','g','b','orange']\n",
    "\n",
    "ax = plt.subplot(111)\n",
    "\n",
    "for i in np.arange(len(mse)):\n",
    "    ax.barh(i, mse[i], color=colors[i],alpha=.7,edgecolor='black',linewidth=.6, align='center')\n",
    "ax.set_yticks(np.arange(len(mse)))\n",
    "ax.set_yticklabels(x_label, fontproperties='STsong')\n",
    "plt.show()"
   ]
  },
  {
   "cell_type": "code",
   "execution_count": 84,
   "id": "d79f623e",
   "metadata": {
    "ExecuteTime": {
     "end_time": "2024-11-28T02:22:08.321359Z",
     "start_time": "2024-11-28T02:22:08.226439Z"
    },
    "scrolled": false
   },
   "outputs": [
    {
     "data": {
      "image/png": "[encoded data removed]",
      "text/plain": [
       "<Figure size 1200x900 with 1 Axes>"
      ]
     },
     "metadata": {},
     "output_type": "display_data"
    }
   ],
   "source": [
    "plt.rcParams['font.sans-serif'] = 'Times New Roman'\n",
    "plt.rcParams['font.size'] = 16\n",
    "plt.figure(figsize=(12,9),dpi=100)\n",
    "plt.barh(range(4),mse,alpha=.7,edgecolor='black',linewidth=.6,color=['r','g','b','orange'])\n",
    "\n",
    "for  x,y in zip(range(4),mse):\n",
    "    plt.text(y+.1, x, f\"{y:.2f}%\", ha='left',va='center')\n",
    "\n",
    "\n",
    "plt.yticks(range(4), x_label,fontproperties='STsong',fontsize=16)\n",
    "plt.xlim(0,45)\n",
    "plt.title(\"Inputation Techniques with Boston Data\")\n",
    "plt.show()"
   ]
  }
 ],
 "metadata": {
  "kernelspec": {
   "display_name": "Python 3 (ipykernel)",
   "language": "python",
   "name": "python3"
  },
  "language_info": {
   "codemirror_mode": {
    "name": "ipython",
    "version": 3
   },
   "file_extension": ".py",
   "mimetype": "text/x-python",
   "name": "python",
   "nbconvert_exporter": "python",
   "pygments_lexer": "ipython3",
   "version": "3.12.3"
  },
  "toc": {
   "base_numbering": 1,
   "nav_menu": {},
   "number_sections": true,
   "sideBar": true,
   "skip_h1_title": false,
   "title_cell": "Table of Contents",
   "title_sidebar": "Contents",
   "toc_cell": false,
   "toc_position": {},
   "toc_section_display": true,
   "toc_window_display": false
  }
 },
 "nbformat": 4,
 "nbformat_minor": 5
}
