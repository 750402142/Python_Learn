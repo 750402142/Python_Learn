{
 "cells": [
  {
   "cell_type": "markdown",
   "id": "e3a28ce3",
   "metadata": {},
   "source": [
    "# 集成学习进阶-GBDT梯度提升树-参数空间与超参数优化"
   ]
  },
  {
   "cell_type": "markdown",
   "id": "ba4ed332",
   "metadata": {},
   "source": [
    "1. 不同的参数对算法结果都影响力大小\n",
    "2. 确定用于搜索的参数空间"
   ]
  },
  {
   "cell_type": "code",
   "execution_count": 24,
   "id": "6132ee37",
   "metadata": {
    "ExecuteTime": {
     "end_time": "2024-12-04T00:44:37.309488Z",
     "start_time": "2024-12-04T00:44:37.305670Z"
    }
   },
   "outputs": [],
   "source": [
    "import pandas as pd\n",
    "import numpy as np\n",
    "import matplotlib.pyplot as plt\n",
    "\n",
    "import time\n",
    "from sklearn.ensemble import RandomForestRegressor as RFR\n",
    "from sklearn.ensemble import GradientBoostingRegressor as GBR\n",
    "from sklearn.model_selection import cross_validate, KFold\n",
    "from sklearn.model_selection import cross_val_score\n",
    "# 导入优化算法\n",
    "import hyperopt # pip install hyperopt\n",
    "from hyperopt import hp,fmin, tpe, Trials, partial, STATUS_OK\n",
    "from hyperopt.early_stop import no_progress_loss\n",
    "from sklearn.model_selection import train_test_split"
   ]
  },
  {
   "cell_type": "code",
   "execution_count": 25,
   "id": "1c0c6a1a",
   "metadata": {
    "ExecuteTime": {
     "end_time": "2024-12-04T00:44:37.690581Z",
     "start_time": "2024-12-04T00:44:37.687361Z"
    }
   },
   "outputs": [],
   "source": [
    "from sklearn.datasets import load_iris\n",
    "iris = load_iris()\n",
    "X,y = iris.data, iris.target"
   ]
  },
  {
   "cell_type": "code",
   "execution_count": 51,
   "id": "4c0f3e6f",
   "metadata": {
    "ExecuteTime": {
     "end_time": "2024-12-04T01:18:25.424053Z",
     "start_time": "2024-12-04T01:18:25.418037Z"
    }
   },
   "outputs": [],
   "source": [
    "X_train, X_test, y_train, y_test = train_test_split(X, y, test_size=0.2, random_state=1210)\n",
    "from sklearn.ensemble import RandomForestClassifier as RFC\n",
    "# 定义一个参数空间\n",
    "space = {\n",
    "    'max_depth': hp.choice('max_depth', [None, 3,10,20,30,40,50]), # hp.choice从给定点选项中找一个\n",
    "    # hp.uniform表示从给定范围均匀选择一个\n",
    "    'min_samples_split': hp.uniform('min_samples_split',0,1),\n",
    "    'min_samples_leaf': hp.uniform('min_samples_leaf', 0,1),\n",
    "    'n_estimators': hp.choice('n_estimators', [10,50,100,200]),    \n",
    "}\n",
    "# 定义目标函数,这个函数被用于评估不同的超参数组合\n",
    "def objective(params):\n",
    "    params = {\n",
    "        'max_depth': int(params['max_depth']) if params['max_depth'] is not None else None,\n",
    "        'min_samples_split': params['min_samples_split'],\n",
    "        'min_samples_leaf': params['min_samples_leaf'],\n",
    "        'n_estimators': params['n_estimators'],\n",
    "    }\n",
    "    model = RFC(**params, random_state=1210)\n",
    "    score = cross_val_score(model, X_train, y_train, cv=5, scoring='accuracy').mean()\n",
    "    return {'loss': -score, 'status': STATUS_OK}"
   ]
  },
  {
   "cell_type": "code",
   "execution_count": 52,
   "id": "52216b3f",
   "metadata": {
    "ExecuteTime": {
     "end_time": "2024-12-04T01:19:03.454684Z",
     "start_time": "2024-12-04T01:18:26.010183Z"
    }
   },
   "outputs": [
    {
     "name": "stdout",
     "output_type": "stream",
     "text": [
      "100%|██████████████████████████████████████████████████████████████████| 100/100 [00:37<00:00,  2.67trial/s, best loss: -0.9583333333333334]\n",
      "Best Parameters found {'max_depth': 4, 'min_samples_leaf': 0.05065874421371182, 'min_samples_split': 0.27406541389885647, 'n_estimators': 2}\n"
     ]
    }
   ],
   "source": [
    "best_params = fmin(fn=objective, space=space, algo=tpe.suggest, max_evals=100)\n",
    "print('Best Parameters found', best_params)"
   ]
  },
  {
   "cell_type": "markdown",
   "id": "3d287ed5",
   "metadata": {},
   "source": [
    "## 基于TOE的GBDT超参数优化"
   ]
  },
  {
   "cell_type": "code",
   "execution_count": 53,
   "id": "06f6e386",
   "metadata": {
    "ExecuteTime": {
     "end_time": "2024-12-04T01:20:39.409325Z",
     "start_time": "2024-12-04T01:20:39.388317Z"
    }
   },
   "outputs": [],
   "source": [
    "data = pd.read_csv('./data/train_encode.csv',index_col=0)\n",
    "X = data.iloc[:,:-1]\n",
    "y= data.iloc[:,-1]"
   ]
  },
  {
   "cell_type": "code",
   "execution_count": 57,
   "id": "5017b7ce",
   "metadata": {
    "ExecuteTime": {
     "end_time": "2024-12-04T01:23:29.354916Z",
     "start_time": "2024-12-04T01:23:27.344384Z"
    }
   },
   "outputs": [
    {
     "name": "stderr",
     "output_type": "stream",
     "text": [
      "[Parallel(n_jobs=-1)]: Using backend LokyBackend with 20 concurrent workers.\n"
     ]
    },
    {
     "name": "stdout",
     "output_type": "stream",
     "text": [
      "训练集得分: 14073.455827917089\n",
      "测试集得分: 26931.362456023093\n",
      "平均训练耗时: 0.581626558303833\n"
     ]
    },
    {
     "name": "stderr",
     "output_type": "stream",
     "text": [
      "[Parallel(n_jobs=-1)]: Done   2 out of   5 | elapsed:    1.9s remaining:    2.8s\n",
      "[Parallel(n_jobs=-1)]: Done   5 out of   5 | elapsed:    1.9s finished\n"
     ]
    }
   ],
   "source": [
    "# 定义一个交叉验证方式,这里使用的是5折交叉验证,打乱数据\n",
    "cv = KFold(n_splits=5, shuffle=True, random_state=1210)\n",
    "# 定义一个计算绝对平均的RMSE\n",
    "def RMSE(result, name):\n",
    "    return abs(result[name].mean())\n",
    "gbr = GBR(random_state=1210)\n",
    "# 使用从ross_validate对模型进行评估\n",
    "result_gbdt = cross_validate(gbr,  # 传递给模型的对象\n",
    "               X,   # 特征变量的数据集\n",
    "               y,    #  目标变量的数据集\n",
    "               cv=cv,  # 交叉验证的分割厕所\n",
    "               scoring='neg_root_mean_squared_error', # 负的均方根误差\n",
    "               return_train_score=True, # 是否在叫超验证当中返回训练分数\n",
    "               verbose=True, #控制输出的冗余程度\n",
    "               n_jobs=-1, # 并行作业的数量\n",
    "              )\n",
    "# 计算误差\n",
    "train_rmse = RMSE(result_gbdt, \"train_score\")\n",
    "test_rmse = RMSE(result_gbdt, 'test_score')\n",
    "print(f'训练集得分: {train_rmse}')\n",
    "print(f\"测试集得分: {test_rmse}\")\n",
    "print(f'平均训练耗时: {result_gbdt['fit_time'].mean()}')"
   ]
  },
  {
   "cell_type": "code",
   "execution_count": 109,
   "id": "509aceac",
   "metadata": {
    "ExecuteTime": {
     "end_time": "2024-12-04T02:28:19.124105Z",
     "start_time": "2024-12-04T02:28:19.120105Z"
    }
   },
   "outputs": [],
   "source": [
    "rfr = RFR(n_estimators=89, max_depth=22, max_features=14,min_impurity_decrease=0,\n",
    "         random_state=1210, verbose=False, n_jobs=-1\n",
    "         )"
   ]
  },
  {
   "cell_type": "markdown",
   "id": "f5849118",
   "metadata": {},
   "source": [
    "### 定义目标函数"
   ]
  },
  {
   "cell_type": "code",
   "execution_count": 110,
   "id": "79207b1a",
   "metadata": {
    "ExecuteTime": {
     "end_time": "2024-12-04T02:28:19.736717Z",
     "start_time": "2024-12-04T02:28:19.732180Z"
    }
   },
   "outputs": [],
   "source": [
    "def hyperopt_objective(params):\n",
    "    rbg = GBR(\n",
    "        n_estimators=int(params['n_estimators']),\n",
    "        learning_rate=params['lr'],\n",
    "        criterion=params['criterion'],\n",
    "        loss=params['loss'],\n",
    "        max_depth=int(params['max_depth']),\n",
    "        max_features=params['max_features'],\n",
    "        min_impurity_decrease=params['min_impurity_decrease'],\n",
    "        init=rfr,\n",
    "        random_state=1210,\n",
    "        verbose=False,\n",
    "    )\n",
    "    cv = KFold(n_splits=5,shuffle=True, random_state=1210)\n",
    "    valiadtion_loss = cross_validate(\n",
    "            rbg, X, y, scoring='neg_root_mean_squared_error',\n",
    "            cv=cv,verbose=False,n_jobs=-1,error_score='raise',\n",
    "    )\n",
    "    mean_loss = np.mean(abs(valiadtion_loss['test_score']))\n",
    "    return mean_loss"
   ]
  },
  {
   "cell_type": "markdown",
   "id": "fc2f871e",
   "metadata": {
    "ExecuteTime": {
     "end_time": "2024-12-04T02:00:43.515463Z",
     "start_time": "2024-12-04T02:00:43.510872Z"
    }
   },
   "source": [
    "### 参数空间"
   ]
  },
  {
   "cell_type": "code",
   "execution_count": 111,
   "id": "f2fdfd17",
   "metadata": {
    "ExecuteTime": {
     "end_time": "2024-12-04T02:28:20.278574Z",
     "start_time": "2024-12-04T02:28:20.271197Z"
    }
   },
   "outputs": [],
   "source": [
    "X_train,X_test,y_train,y_test=train_test_split(X,y,test_size=0.2,\n",
    "                                               random_state=1128)\n",
    "from sklearn.ensemble import RandomForestClassifier as RFC\n",
    "space={\n",
    "    'max_depth':hp.choice('max_depth',[None,3,10,20,30,40,50]),\n",
    "    'min_samples_split':hp.uniform('min_samples_split',0.0,1.0),\n",
    "    'min_samples_leaf':hp.uniform('min_samples_leaf',0.0,1.0),\n",
    "    'n_estimators':hp.choice('n_estimators',[10,50,100,200])\n",
    "}\n",
    "\n",
    "def objective(params):\n",
    "    params={\n",
    "        'max_depth':int(params['max_depth']) if params['max_depth'] is not None else None,\n",
    "        'min_samples_split':params['min_samples_split'],\n",
    "        'min_samples_leaf':params['min_samples_leaf'],\n",
    "        'n_estimators':params['n_estimators']\n",
    "    \n",
    "    }\n",
    "    model=RFC(**params,random_state=1128)\n",
    "    score=cross_val_score(model,X_train,y_train,cv=5,scoring='accuracy').mean()\n",
    "    return{'loss':-score,'status':STATUS_OK}"
   ]
  },
  {
   "cell_type": "code",
   "execution_count": 112,
   "id": "fbac16e8",
   "metadata": {
    "ExecuteTime": {
     "end_time": "2024-12-04T02:28:20.515581Z",
     "start_time": "2024-12-04T02:28:20.511334Z"
    }
   },
   "outputs": [],
   "source": [
    "param = {\n",
    "    'n_estimators': hp.quniform('n_estimators',25, 200, 25),\n",
    "    \"lr\": hp.quniform('learning_rate',0.01,3.0, 0.05),\n",
    "    'criterion': hp.choice('criterion',['friedman_mse','squared_error']),\n",
    "    'loss': hp.choice(\"loss\",['squared_error','absolute_error','huber','quantile']),\n",
    "    'max_depth': hp.quniform('max_depth',2,30,2),\n",
    "    'subsample': hp.quniform('subsample',0.1,0.8,0.1),\n",
    "    'max_features': hp.choice(\"max_features\", ['log2','sqrt',16,32,64]),\n",
    "    'min_impurity_decrease': hp.quniform('min_impurity_decrease',0,5,1)\n",
    "} "
   ]
  },
  {
   "cell_type": "markdown",
   "id": "5e8e93fd",
   "metadata": {
    "ExecuteTime": {
     "end_time": "2024-12-04T02:00:59.367834Z",
     "start_time": "2024-12-04T02:00:59.365361Z"
    }
   },
   "source": [
    "### 优化函数"
   ]
  },
  {
   "cell_type": "code",
   "execution_count": 113,
   "id": "8c8ab817",
   "metadata": {
    "ExecuteTime": {
     "end_time": "2024-12-04T02:28:21.202532Z",
     "start_time": "2024-12-04T02:28:21.198182Z"
    }
   },
   "outputs": [],
   "source": [
    "def param_hyperopt(max_evals=200):\n",
    "    trials = Trials()  # 保存每次迭代的结果\n",
    "    early_stop_fn = no_progress_loss(50)  # 设置提前停止机制,如果连续50次都没改进,就停止\n",
    "\n",
    "    best_params = fmin(\n",
    "        fn=hyperopt_objective,  # 目标函数\n",
    "        space=param,  # 参数空间\n",
    "        algo=tpe.suggest,  # 使用TPE算法进行优化\n",
    "        max_evals=max_evals,\n",
    "        verbose=True,  # 关闭每次迭代的信息\n",
    "        trials=trials,  # 记录每次迭代的信息\n",
    "        early_stop_fn=early_stop_fn  # 提前停止机制,\n",
    "    )\n",
    "    print(f\"Best Parameters found\\n{best_params}\")\n",
    "    best_params['criterion'] = ['friedman_mse',\n",
    "                                'squared_error'][best_params['criterion']]\n",
    "    best_params['loss'] = [\n",
    "        'squared_error', 'absolute_error', 'huber', 'quantile'\n",
    "    ][best_params['loss']]\n",
    "    best_params['max_features'] = ['log2','sqrt',16,32,64][best_params['max_features']]\n",
    "    print(f\"转换后的参数组合为: {best_params}\")\n",
    "    return best_params, trials"
   ]
  },
  {
   "cell_type": "markdown",
   "id": "6b6ee2f9",
   "metadata": {},
   "source": [
    "### 训练贝叶斯优化器"
   ]
  },
  {
   "cell_type": "code",
   "execution_count": 128,
   "id": "759647d2",
   "metadata": {
    "ExecuteTime": {
     "end_time": "2024-12-04T02:39:45.292938Z",
     "start_time": "2024-12-04T02:32:25.248028Z"
    }
   },
   "outputs": [
    {
     "name": "stdout",
     "output_type": "stream",
     "text": [
      " 69%|███████████████████████████████████████████████▏                    | 208/300 [07:20<03:14,  2.12s/trial, best loss: 26480.67464985185]\n"
     ]
    },
    {
     "data": {
      "text/html": [
       "<pre style=\"white-space:pre;overflow-x:auto;line-height:normal;font-family:Menlo,'DejaVu Sans Mono',consolas,'Courier New',monospace\">Best Parameters found\n",
       "<span style=\"font-weight: bold\">{</span><span style=\"color: #008000; text-decoration-color: #008000\">'criterion'</span>: <span style=\"color: #008080; text-decoration-color: #008080; font-weight: bold\">1</span>, <span style=\"color: #008000; text-decoration-color: #008000\">'learning_rate'</span>: <span style=\"color: #008080; text-decoration-color: #008080; font-weight: bold\">0.45</span>, <span style=\"color: #008000; text-decoration-color: #008000\">'loss'</span>: <span style=\"color: #008080; text-decoration-color: #008080; font-weight: bold\">2</span>, <span style=\"color: #008000; text-decoration-color: #008000\">'max_depth'</span>: <span style=\"color: #008080; text-decoration-color: #008080; font-weight: bold\">2.0</span>, <span style=\"color: #008000; text-decoration-color: #008000\">'max_features'</span>: <span style=\"color: #008080; text-decoration-color: #008080; font-weight: bold\">2</span>, <span style=\"color: #008000; text-decoration-color: #008000\">'min_impurity_decrease'</span>: \n",
       "<span style=\"color: #008080; text-decoration-color: #008080; font-weight: bold\">0.0</span>, <span style=\"color: #008000; text-decoration-color: #008000\">'n_estimators'</span>: <span style=\"color: #008080; text-decoration-color: #008080; font-weight: bold\">100.0</span>, <span style=\"color: #008000; text-decoration-color: #008000\">'subsample'</span>: <span style=\"color: #008080; text-decoration-color: #008080; font-weight: bold\">0.5</span><span style=\"font-weight: bold\">}</span>\n",
       "</pre>\n"
      ],
      "text/plain": [
       "Best Parameters found\n",
       "\u001b[1m{\u001b[0m\u001b[32m'criterion'\u001b[0m: \u001b[1;36m1\u001b[0m, \u001b[32m'learning_rate'\u001b[0m: \u001b[1;36m0.45\u001b[0m, \u001b[32m'loss'\u001b[0m: \u001b[1;36m2\u001b[0m, \u001b[32m'max_depth'\u001b[0m: \u001b[1;36m2.0\u001b[0m, \u001b[32m'max_features'\u001b[0m: \u001b[1;36m2\u001b[0m, \u001b[32m'min_impurity_decrease'\u001b[0m: \n",
       "\u001b[1;36m0.0\u001b[0m, \u001b[32m'n_estimators'\u001b[0m: \u001b[1;36m100.0\u001b[0m, \u001b[32m'subsample'\u001b[0m: \u001b[1;36m0.5\u001b[0m\u001b[1m}\u001b[0m\n"
      ]
     },
     "metadata": {},
     "output_type": "display_data"
    },
    {
     "data": {
      "text/html": [
       "<pre style=\"white-space:pre;overflow-x:auto;line-height:normal;font-family:Menlo,'DejaVu Sans Mono',consolas,'Courier New',monospace\">转换后的参数组合为: <span style=\"font-weight: bold\">{</span><span style=\"color: #008000; text-decoration-color: #008000\">'criterion'</span>: <span style=\"color: #008000; text-decoration-color: #008000\">'squared_error'</span>, <span style=\"color: #008000; text-decoration-color: #008000\">'learning_rate'</span>: <span style=\"color: #008080; text-decoration-color: #008080; font-weight: bold\">0.45</span>, <span style=\"color: #008000; text-decoration-color: #008000\">'loss'</span>: <span style=\"color: #008000; text-decoration-color: #008000\">'huber'</span>, <span style=\"color: #008000; text-decoration-color: #008000\">'max_depth'</span>: <span style=\"color: #008080; text-decoration-color: #008080; font-weight: bold\">2.0</span>, \n",
       "<span style=\"color: #008000; text-decoration-color: #008000\">'max_features'</span>: <span style=\"color: #008080; text-decoration-color: #008080; font-weight: bold\">16</span>, <span style=\"color: #008000; text-decoration-color: #008000\">'min_impurity_decrease'</span>: <span style=\"color: #008080; text-decoration-color: #008080; font-weight: bold\">0.0</span>, <span style=\"color: #008000; text-decoration-color: #008000\">'n_estimators'</span>: <span style=\"color: #008080; text-decoration-color: #008080; font-weight: bold\">100.0</span>, <span style=\"color: #008000; text-decoration-color: #008000\">'subsample'</span>: <span style=\"color: #008080; text-decoration-color: #008080; font-weight: bold\">0.5</span><span style=\"font-weight: bold\">}</span>\n",
       "</pre>\n"
      ],
      "text/plain": [
       "转换后的参数组合为: \u001b[1m{\u001b[0m\u001b[32m'criterion'\u001b[0m: \u001b[32m'squared_error'\u001b[0m, \u001b[32m'learning_rate'\u001b[0m: \u001b[1;36m0.45\u001b[0m, \u001b[32m'loss'\u001b[0m: \u001b[32m'huber'\u001b[0m, \u001b[32m'max_depth'\u001b[0m: \u001b[1;36m2.0\u001b[0m, \n",
       "\u001b[32m'max_features'\u001b[0m: \u001b[1;36m16\u001b[0m, \u001b[32m'min_impurity_decrease'\u001b[0m: \u001b[1;36m0.0\u001b[0m, \u001b[32m'n_estimators'\u001b[0m: \u001b[1;36m100.0\u001b[0m, \u001b[32m'subsample'\u001b[0m: \u001b[1;36m0.5\u001b[0m\u001b[1m}\u001b[0m\n"
      ]
     },
     "metadata": {},
     "output_type": "display_data"
    }
   ],
   "source": [
    "param_best, trials = param_hyperopt(300)"
   ]
  },
  {
   "cell_type": "code",
   "execution_count": 75,
   "id": "98421b99",
   "metadata": {
    "ExecuteTime": {
     "end_time": "2024-12-04T02:14:04.779657Z",
     "start_time": "2024-12-04T02:14:04.774727Z"
    }
   },
   "outputs": [
    {
     "data": {
      "text/plain": [
       "{'criterion': 'friedman_mse',\n",
       " 'learning_rate': 0.55,\n",
       " 'loss': 'huber',\n",
       " 'max_depth': 2.0,\n",
       " 'max_features': 64,\n",
       " 'min_impurity_decrease': 4.0,\n",
       " 'n_estimators': 125.0,\n",
       " 'subsample': 0.1}"
      ]
     },
     "execution_count": 75,
     "metadata": {},
     "output_type": "execute_result"
    }
   ],
   "source": [
    "param_best"
   ]
  },
  {
   "cell_type": "code",
   "execution_count": 131,
   "id": "59f862d9",
   "metadata": {
    "ExecuteTime": {
     "end_time": "2024-12-04T02:45:05.143193Z",
     "start_time": "2024-12-04T02:45:05.120627Z"
    },
    "scrolled": false
   },
   "outputs": [
    {
     "data": {
      "text/html": [
       "<div>\n",
       "<style scoped>\n",
       "    .dataframe tbody tr th:only-of-type {\n",
       "        vertical-align: middle;\n",
       "    }\n",
       "\n",
       "    .dataframe tbody tr th {\n",
       "        vertical-align: top;\n",
       "    }\n",
       "\n",
       "    .dataframe thead th {\n",
       "        text-align: right;\n",
       "    }\n",
       "</style>\n",
       "<table border=\"1\" class=\"dataframe\">\n",
       "  <thead>\n",
       "    <tr style=\"text-align: right;\">\n",
       "      <th></th>\n",
       "      <th>finall_loss</th>\n",
       "      <th>statues</th>\n",
       "      <th>criterion</th>\n",
       "      <th>learning_rate</th>\n",
       "      <th>loss</th>\n",
       "      <th>max_depth</th>\n",
       "      <th>max_features</th>\n",
       "      <th>min_impurity_decrease</th>\n",
       "      <th>n_estimators</th>\n",
       "      <th>subsample</th>\n",
       "    </tr>\n",
       "  </thead>\n",
       "  <tbody>\n",
       "    <tr>\n",
       "      <th>46</th>\n",
       "      <td>26744.351443</td>\n",
       "      <td>ok</td>\n",
       "      <td>[0]</td>\n",
       "      <td>[0.35000000000000003]</td>\n",
       "      <td>[2]</td>\n",
       "      <td>[28.0]</td>\n",
       "      <td>[2]</td>\n",
       "      <td>[3.0]</td>\n",
       "      <td>[25.0]</td>\n",
       "      <td>[0.6000000000000001]</td>\n",
       "    </tr>\n",
       "    <tr>\n",
       "      <th>77</th>\n",
       "      <td>26939.598713</td>\n",
       "      <td>ok</td>\n",
       "      <td>[1]</td>\n",
       "      <td>[0.4]</td>\n",
       "      <td>[2]</td>\n",
       "      <td>[20.0]</td>\n",
       "      <td>[2]</td>\n",
       "      <td>[3.0]</td>\n",
       "      <td>[150.0]</td>\n",
       "      <td>[0.8]</td>\n",
       "    </tr>\n",
       "    <tr>\n",
       "      <th>83</th>\n",
       "      <td>26792.876811</td>\n",
       "      <td>ok</td>\n",
       "      <td>[1]</td>\n",
       "      <td>[0.25]</td>\n",
       "      <td>[2]</td>\n",
       "      <td>[28.0]</td>\n",
       "      <td>[2]</td>\n",
       "      <td>[2.0]</td>\n",
       "      <td>[125.0]</td>\n",
       "      <td>[0.8]</td>\n",
       "    </tr>\n",
       "    <tr>\n",
       "      <th>89</th>\n",
       "      <td>26705.548194</td>\n",
       "      <td>ok</td>\n",
       "      <td>[1]</td>\n",
       "      <td>[0.4]</td>\n",
       "      <td>[2]</td>\n",
       "      <td>[28.0]</td>\n",
       "      <td>[2]</td>\n",
       "      <td>[3.0]</td>\n",
       "      <td>[125.0]</td>\n",
       "      <td>[0.8]</td>\n",
       "    </tr>\n",
       "    <tr>\n",
       "      <th>102</th>\n",
       "      <td>26973.884352</td>\n",
       "      <td>ok</td>\n",
       "      <td>[0]</td>\n",
       "      <td>[0.75]</td>\n",
       "      <td>[2]</td>\n",
       "      <td>[28.0]</td>\n",
       "      <td>[2]</td>\n",
       "      <td>[4.0]</td>\n",
       "      <td>[125.0]</td>\n",
       "      <td>[0.8]</td>\n",
       "    </tr>\n",
       "    <tr>\n",
       "      <th>137</th>\n",
       "      <td>26598.158974</td>\n",
       "      <td>ok</td>\n",
       "      <td>[1]</td>\n",
       "      <td>[0.2]</td>\n",
       "      <td>[2]</td>\n",
       "      <td>[4.0]</td>\n",
       "      <td>[2]</td>\n",
       "      <td>[0.0]</td>\n",
       "      <td>[125.0]</td>\n",
       "      <td>[0.4]</td>\n",
       "    </tr>\n",
       "    <tr>\n",
       "      <th>149</th>\n",
       "      <td>26809.645224</td>\n",
       "      <td>ok</td>\n",
       "      <td>[1]</td>\n",
       "      <td>[0.4]</td>\n",
       "      <td>[2]</td>\n",
       "      <td>[10.0]</td>\n",
       "      <td>[2]</td>\n",
       "      <td>[1.0]</td>\n",
       "      <td>[100.0]</td>\n",
       "      <td>[0.30000000000000004]</td>\n",
       "    </tr>\n",
       "    <tr>\n",
       "      <th>157</th>\n",
       "      <td>26480.674650</td>\n",
       "      <td>ok</td>\n",
       "      <td>[1]</td>\n",
       "      <td>[0.45]</td>\n",
       "      <td>[2]</td>\n",
       "      <td>[2.0]</td>\n",
       "      <td>[2]</td>\n",
       "      <td>[0.0]</td>\n",
       "      <td>[100.0]</td>\n",
       "      <td>[0.5]</td>\n",
       "    </tr>\n",
       "    <tr>\n",
       "      <th>161</th>\n",
       "      <td>26711.148564</td>\n",
       "      <td>ok</td>\n",
       "      <td>[1]</td>\n",
       "      <td>[0.15000000000000002]</td>\n",
       "      <td>[2]</td>\n",
       "      <td>[4.0]</td>\n",
       "      <td>[2]</td>\n",
       "      <td>[0.0]</td>\n",
       "      <td>[50.0]</td>\n",
       "      <td>[0.5]</td>\n",
       "    </tr>\n",
       "    <tr>\n",
       "      <th>162</th>\n",
       "      <td>26652.320686</td>\n",
       "      <td>ok</td>\n",
       "      <td>[1]</td>\n",
       "      <td>[0.4]</td>\n",
       "      <td>[2]</td>\n",
       "      <td>[4.0]</td>\n",
       "      <td>[2]</td>\n",
       "      <td>[0.0]</td>\n",
       "      <td>[75.0]</td>\n",
       "      <td>[0.1]</td>\n",
       "    </tr>\n",
       "    <tr>\n",
       "      <th>171</th>\n",
       "      <td>26943.792182</td>\n",
       "      <td>ok</td>\n",
       "      <td>[1]</td>\n",
       "      <td>[0.4]</td>\n",
       "      <td>[0]</td>\n",
       "      <td>[10.0]</td>\n",
       "      <td>[2]</td>\n",
       "      <td>[0.0]</td>\n",
       "      <td>[100.0]</td>\n",
       "      <td>[0.2]</td>\n",
       "    </tr>\n",
       "    <tr>\n",
       "      <th>180</th>\n",
       "      <td>26803.367985</td>\n",
       "      <td>ok</td>\n",
       "      <td>[1]</td>\n",
       "      <td>[0.55]</td>\n",
       "      <td>[2]</td>\n",
       "      <td>[2.0]</td>\n",
       "      <td>[3]</td>\n",
       "      <td>[0.0]</td>\n",
       "      <td>[125.0]</td>\n",
       "      <td>[0.2]</td>\n",
       "    </tr>\n",
       "    <tr>\n",
       "      <th>204</th>\n",
       "      <td>26872.147135</td>\n",
       "      <td>ok</td>\n",
       "      <td>[1]</td>\n",
       "      <td>[0.05]</td>\n",
       "      <td>[2]</td>\n",
       "      <td>[4.0]</td>\n",
       "      <td>[4]</td>\n",
       "      <td>[0.0]</td>\n",
       "      <td>[175.0]</td>\n",
       "      <td>[0.30000000000000004]</td>\n",
       "    </tr>\n",
       "  </tbody>\n",
       "</table>\n",
       "</div>"
      ],
      "text/plain": [
       "      finall_loss statues criterion          learning_rate loss max_depth  \\\n",
       "46   26744.351443      ok       [0]  [0.35000000000000003]  [2]    [28.0]   \n",
       "77   26939.598713      ok       [1]                  [0.4]  [2]    [20.0]   \n",
       "83   26792.876811      ok       [1]                 [0.25]  [2]    [28.0]   \n",
       "89   26705.548194      ok       [1]                  [0.4]  [2]    [28.0]   \n",
       "102  26973.884352      ok       [0]                 [0.75]  [2]    [28.0]   \n",
       "137  26598.158974      ok       [1]                  [0.2]  [2]     [4.0]   \n",
       "149  26809.645224      ok       [1]                  [0.4]  [2]    [10.0]   \n",
       "157  26480.674650      ok       [1]                 [0.45]  [2]     [2.0]   \n",
       "161  26711.148564      ok       [1]  [0.15000000000000002]  [2]     [4.0]   \n",
       "162  26652.320686      ok       [1]                  [0.4]  [2]     [4.0]   \n",
       "171  26943.792182      ok       [1]                  [0.4]  [0]    [10.0]   \n",
       "180  26803.367985      ok       [1]                 [0.55]  [2]     [2.0]   \n",
       "204  26872.147135      ok       [1]                 [0.05]  [2]     [4.0]   \n",
       "\n",
       "    max_features min_impurity_decrease n_estimators              subsample  \n",
       "46           [2]                 [3.0]       [25.0]   [0.6000000000000001]  \n",
       "77           [2]                 [3.0]      [150.0]                  [0.8]  \n",
       "83           [2]                 [2.0]      [125.0]                  [0.8]  \n",
       "89           [2]                 [3.0]      [125.0]                  [0.8]  \n",
       "102          [2]                 [4.0]      [125.0]                  [0.8]  \n",
       "137          [2]                 [0.0]      [125.0]                  [0.4]  \n",
       "149          [2]                 [1.0]      [100.0]  [0.30000000000000004]  \n",
       "157          [2]                 [0.0]      [100.0]                  [0.5]  \n",
       "161          [2]                 [0.0]       [50.0]                  [0.5]  \n",
       "162          [2]                 [0.0]       [75.0]                  [0.1]  \n",
       "171          [2]                 [0.0]      [100.0]                  [0.2]  \n",
       "180          [3]                 [0.0]      [125.0]                  [0.2]  \n",
       "204          [4]                 [0.0]      [175.0]  [0.30000000000000004]  "
      ]
     },
     "execution_count": 131,
     "metadata": {},
     "output_type": "execute_result"
    }
   ],
   "source": [
    "trials.results # 查看每次训练的损失结果\n",
    "tb1 = pd.DataFrame([i['result'] for i in trials.trials])\n",
    "tb1.columns = ['finall_loss', 'statues']\n",
    "tb2 = pd.DataFrame([i['misc']['vals'] for i in trials.trials])\n",
    "tb = pd.concat([tb1,tb2],axis=1)\n",
    "tb[tb['finall_loss'] < 27000]"
   ]
  },
  {
   "cell_type": "code",
   "execution_count": 142,
   "id": "57b0e87b",
   "metadata": {
    "ExecuteTime": {
     "end_time": "2024-12-04T03:19:17.745371Z",
     "start_time": "2024-12-04T03:19:17.739866Z"
    }
   },
   "outputs": [],
   "source": [
    "param = {\n",
    "    'n_estimators': hp.quniform('n_estimators',125, 180, 5),\n",
    "    \"lr\": hp.quniform('learning_rate',0.05,0.8, 0.05),\n",
    "    'criterion': hp.choice('criterion',['squared_error']),\n",
    "    'loss': hp.choice(\"loss\",['huber']),\n",
    "    'max_depth': hp.quniform('max_depth',2,30,1),\n",
    "    'subsample': hp.quniform('subsample',0.5,1,0.05),\n",
    "    'max_features': hp.choice(\"max_features\", range(16,32,2)),\n",
    "    'min_impurity_decrease': hp.quniform('min_impurity_decrease',0,4,0.5)\n",
    "}\n",
    "def param_hyperopt(max_evals=200):\n",
    "    trials = Trials()  # 保存每次迭代的结果\n",
    "    early_stop_fn = no_progress_loss(50)  # 设置提前停止机制,如果连续50次都没改进,就停止\n",
    "\n",
    "    best_params = fmin(\n",
    "        fn=hyperopt_objective,  # 目标函数\n",
    "        space=param,  # 参数空间\n",
    "        algo=tpe.suggest,  # 使用TPE算法进行优化\n",
    "        max_evals=max_evals,\n",
    "        verbose=True,  # 关闭每次迭代的信息\n",
    "        trials=trials,  # 记录每次迭代的信息\n",
    "        early_stop_fn=early_stop_fn  # 提前停止机制,\n",
    "    )\n",
    "    print(f\"Best Parameters found\\n{best_params}\")\n",
    "    best_params['criterion'] = ['squared_error'][best_params['criterion']]\n",
    "    best_params['loss'] = ['huber'][best_params['loss']]\n",
    "    best_params['max_features'] = list(range(16,32,2))[best_params['max_features']]\n",
    "    print(f\"转换后的参数组合为: {best_params}\")\n",
    "    return best_params, trials"
   ]
  },
  {
   "cell_type": "code",
   "execution_count": 143,
   "id": "c606ac05",
   "metadata": {
    "ExecuteTime": {
     "end_time": "2024-12-04T03:21:45.904615Z",
     "start_time": "2024-12-04T03:19:19.982838Z"
    }
   },
   "outputs": [
    {
     "name": "stdout",
     "output_type": "stream",
     "text": [
      " 22%|███████████████▍                                                     | 67/300 [02:25<08:27,  2.18s/trial, best loss: 26164.39904602347]\n"
     ]
    },
    {
     "data": {
      "text/html": [
       "<pre style=\"white-space:pre;overflow-x:auto;line-height:normal;font-family:Menlo,'DejaVu Sans Mono',consolas,'Courier New',monospace\">Best Parameters found\n",
       "<span style=\"font-weight: bold\">{</span><span style=\"color: #008000; text-decoration-color: #008000\">'criterion'</span>: <span style=\"color: #008080; text-decoration-color: #008080; font-weight: bold\">0</span>, <span style=\"color: #008000; text-decoration-color: #008000\">'learning_rate'</span>: <span style=\"color: #008080; text-decoration-color: #008080; font-weight: bold\">0.7000000000000001</span>, <span style=\"color: #008000; text-decoration-color: #008000\">'loss'</span>: <span style=\"color: #008080; text-decoration-color: #008080; font-weight: bold\">0</span>, <span style=\"color: #008000; text-decoration-color: #008000\">'max_depth'</span>: <span style=\"color: #008080; text-decoration-color: #008080; font-weight: bold\">15.0</span>, <span style=\"color: #008000; text-decoration-color: #008000\">'max_features'</span>: <span style=\"color: #008080; text-decoration-color: #008080; font-weight: bold\">2</span>, \n",
       "<span style=\"color: #008000; text-decoration-color: #008000\">'min_impurity_decrease'</span>: <span style=\"color: #008080; text-decoration-color: #008080; font-weight: bold\">2.5</span>, <span style=\"color: #008000; text-decoration-color: #008000\">'n_estimators'</span>: <span style=\"color: #008080; text-decoration-color: #008080; font-weight: bold\">135.0</span>, <span style=\"color: #008000; text-decoration-color: #008000\">'subsample'</span>: <span style=\"color: #008080; text-decoration-color: #008080; font-weight: bold\">0.65</span><span style=\"font-weight: bold\">}</span>\n",
       "</pre>\n"
      ],
      "text/plain": [
       "Best Parameters found\n",
       "\u001b[1m{\u001b[0m\u001b[32m'criterion'\u001b[0m: \u001b[1;36m0\u001b[0m, \u001b[32m'learning_rate'\u001b[0m: \u001b[1;36m0.7000000000000001\u001b[0m, \u001b[32m'loss'\u001b[0m: \u001b[1;36m0\u001b[0m, \u001b[32m'max_depth'\u001b[0m: \u001b[1;36m15.0\u001b[0m, \u001b[32m'max_features'\u001b[0m: \u001b[1;36m2\u001b[0m, \n",
       "\u001b[32m'min_impurity_decrease'\u001b[0m: \u001b[1;36m2.5\u001b[0m, \u001b[32m'n_estimators'\u001b[0m: \u001b[1;36m135.0\u001b[0m, \u001b[32m'subsample'\u001b[0m: \u001b[1;36m0.65\u001b[0m\u001b[1m}\u001b[0m\n"
      ]
     },
     "metadata": {},
     "output_type": "display_data"
    },
    {
     "data": {
      "text/html": [
       "<pre style=\"white-space:pre;overflow-x:auto;line-height:normal;font-family:Menlo,'DejaVu Sans Mono',consolas,'Courier New',monospace\">转换后的参数组合为: <span style=\"font-weight: bold\">{</span><span style=\"color: #008000; text-decoration-color: #008000\">'criterion'</span>: <span style=\"color: #008000; text-decoration-color: #008000\">'squared_error'</span>, <span style=\"color: #008000; text-decoration-color: #008000\">'learning_rate'</span>: <span style=\"color: #008080; text-decoration-color: #008080; font-weight: bold\">0.7000000000000001</span>, <span style=\"color: #008000; text-decoration-color: #008000\">'loss'</span>: <span style=\"color: #008000; text-decoration-color: #008000\">'huber'</span>, \n",
       "<span style=\"color: #008000; text-decoration-color: #008000\">'max_depth'</span>: <span style=\"color: #008080; text-decoration-color: #008080; font-weight: bold\">15.0</span>, <span style=\"color: #008000; text-decoration-color: #008000\">'max_features'</span>: <span style=\"color: #008080; text-decoration-color: #008080; font-weight: bold\">20</span>, <span style=\"color: #008000; text-decoration-color: #008000\">'min_impurity_decrease'</span>: <span style=\"color: #008080; text-decoration-color: #008080; font-weight: bold\">2.5</span>, <span style=\"color: #008000; text-decoration-color: #008000\">'n_estimators'</span>: <span style=\"color: #008080; text-decoration-color: #008080; font-weight: bold\">135.0</span>, <span style=\"color: #008000; text-decoration-color: #008000\">'subsample'</span>: <span style=\"color: #008080; text-decoration-color: #008080; font-weight: bold\">0.65</span><span style=\"font-weight: bold\">}</span>\n",
       "</pre>\n"
      ],
      "text/plain": [
       "转换后的参数组合为: \u001b[1m{\u001b[0m\u001b[32m'criterion'\u001b[0m: \u001b[32m'squared_error'\u001b[0m, \u001b[32m'learning_rate'\u001b[0m: \u001b[1;36m0.7000000000000001\u001b[0m, \u001b[32m'loss'\u001b[0m: \u001b[32m'huber'\u001b[0m, \n",
       "\u001b[32m'max_depth'\u001b[0m: \u001b[1;36m15.0\u001b[0m, \u001b[32m'max_features'\u001b[0m: \u001b[1;36m20\u001b[0m, \u001b[32m'min_impurity_decrease'\u001b[0m: \u001b[1;36m2.5\u001b[0m, \u001b[32m'n_estimators'\u001b[0m: \u001b[1;36m135.0\u001b[0m, \u001b[32m'subsample'\u001b[0m: \u001b[1;36m0.65\u001b[0m\u001b[1m}\u001b[0m\n"
      ]
     },
     "metadata": {},
     "output_type": "display_data"
    }
   ],
   "source": [
    "param_best, trials = param_hyperopt(300)"
   ]
  },
  {
   "cell_type": "code",
   "execution_count": 136,
   "id": "3e35bda9",
   "metadata": {
    "ExecuteTime": {
     "end_time": "2024-12-04T03:14:51.751960Z",
     "start_time": "2024-12-04T03:14:51.746693Z"
    }
   },
   "outputs": [],
   "source": [
    "tb1 = pd.DataFrame([i['result'] for i in trials.trials])\n",
    "tb1.columns = ['finall_loss', 'statues']\n",
    "tb2 = pd.DataFrame([i['misc']['vals'] for i in trials.trials])\n",
    "tb = pd.concat([tb1,tb2],axis=1)"
   ]
  },
  {
   "cell_type": "code",
   "execution_count": 140,
   "id": "373c793a",
   "metadata": {
    "ExecuteTime": {
     "end_time": "2024-12-04T03:16:41.055713Z",
     "start_time": "2024-12-04T03:16:40.967338Z"
    }
   },
   "outputs": [
    {
     "data": {
      "image/png": "[encoded data removed]",
      "text/plain": [
       "<Figure size 1200x500 with 1 Axes>"
      ]
     },
     "metadata": {},
     "output_type": "display_data"
    }
   ],
   "source": [
    "plt.figure(figsize=(12,5),dpi=100)\n",
    "plt.plot(range(tb.shape[0]),tb['finall_loss'])\n",
    "plt.show()"
   ]
  },
  {
   "cell_type": "code",
   "execution_count": 146,
   "id": "73ade358",
   "metadata": {
    "ExecuteTime": {
     "end_time": "2024-12-04T03:25:59.311192Z",
     "start_time": "2024-12-04T03:25:59.306258Z"
    }
   },
   "outputs": [],
   "source": [
    "param = {\n",
    "    'n_estimators': hp.quniform('n_estimators',125, 180, 2),\n",
    "    \"lr\": hp.quniform('learning_rate',0.05,0.8, 0.05),\n",
    "    'criterion': hp.choice('criterion',['squared_error']),\n",
    "    'loss': hp.choice(\"loss\",['huber']),\n",
    "    'max_depth': hp.quniform('max_depth',2,30,1),\n",
    "    'subsample': hp.quniform('subsample',0.2,1,0.02),\n",
    "    'max_features': hp.choice(\"max_features\",  list(range(16,32,2))),\n",
    "    'min_impurity_decrease': hp.quniform('min_impurity_decrease',0,4,0.01)\n",
    "}\n",
    "def param_hyperopt(max_evals=200):\n",
    "    trials = Trials()  # 保存每次迭代的结果\n",
    "    early_stop_fn = no_progress_loss(50)  # 设置提前停止机制,如果连续50次都没改进,就停止\n",
    "\n",
    "    best_params = fmin(\n",
    "        fn=hyperopt_objective,  # 目标函数\n",
    "        space=param,  # 参数空间\n",
    "        algo=tpe.suggest,  # 使用TPE算法进行优化\n",
    "        max_evals=max_evals,\n",
    "        verbose=True,  # 关闭每次迭代的信息\n",
    "        trials=trials,  # 记录每次迭代的信息\n",
    "        early_stop_fn=early_stop_fn  # 提前停止机制,\n",
    "    )\n",
    "    print(f\"Best Parameters found\\n{best_params}\")\n",
    "    best_params['criterion'] = ['squared_error'][best_params['criterion']]\n",
    "    best_params['loss'] = ['huber'][best_params['loss']]\n",
    "    best_params['max_features'] = list(range(16,32,2))[best_params['max_features']]\n",
    "    print(f\"转换后的参数组合为: {best_params}\")\n",
    "    return best_params, trials"
   ]
  },
  {
   "cell_type": "code",
   "execution_count": 147,
   "id": "e7ba1ad7",
   "metadata": {
    "ExecuteTime": {
     "end_time": "2024-12-04T03:29:31.897272Z",
     "start_time": "2024-12-04T03:25:59.926324Z"
    }
   },
   "outputs": [
    {
     "name": "stdout",
     "output_type": "stream",
     "text": [
      " 37%|█████████████████████████                                          | 112/300 [03:31<05:55,  1.89s/trial, best loss: 26110.335692311335]\n"
     ]
    },
    {
     "data": {
      "text/html": [
       "<pre style=\"white-space:pre;overflow-x:auto;line-height:normal;font-family:Menlo,'DejaVu Sans Mono',consolas,'Courier New',monospace\">Best Parameters found\n",
       "<span style=\"font-weight: bold\">{</span><span style=\"color: #008000; text-decoration-color: #008000\">'criterion'</span>: <span style=\"color: #008080; text-decoration-color: #008080; font-weight: bold\">0</span>, <span style=\"color: #008000; text-decoration-color: #008000\">'learning_rate'</span>: <span style=\"color: #008080; text-decoration-color: #008080; font-weight: bold\">0.15000000000000002</span>, <span style=\"color: #008000; text-decoration-color: #008000\">'loss'</span>: <span style=\"color: #008080; text-decoration-color: #008080; font-weight: bold\">0</span>, <span style=\"color: #008000; text-decoration-color: #008000\">'max_depth'</span>: <span style=\"color: #008080; text-decoration-color: #008080; font-weight: bold\">4.0</span>, <span style=\"color: #008000; text-decoration-color: #008000\">'max_features'</span>: <span style=\"color: #008080; text-decoration-color: #008080; font-weight: bold\">0</span>, \n",
       "<span style=\"color: #008000; text-decoration-color: #008000\">'min_impurity_decrease'</span>: <span style=\"color: #008080; text-decoration-color: #008080; font-weight: bold\">1.99</span>, <span style=\"color: #008000; text-decoration-color: #008000\">'n_estimators'</span>: <span style=\"color: #008080; text-decoration-color: #008080; font-weight: bold\">156.0</span>, <span style=\"color: #008000; text-decoration-color: #008000\">'subsample'</span>: <span style=\"color: #008080; text-decoration-color: #008080; font-weight: bold\">0.92</span><span style=\"font-weight: bold\">}</span>\n",
       "</pre>\n"
      ],
      "text/plain": [
       "Best Parameters found\n",
       "\u001b[1m{\u001b[0m\u001b[32m'criterion'\u001b[0m: \u001b[1;36m0\u001b[0m, \u001b[32m'learning_rate'\u001b[0m: \u001b[1;36m0.15000000000000002\u001b[0m, \u001b[32m'loss'\u001b[0m: \u001b[1;36m0\u001b[0m, \u001b[32m'max_depth'\u001b[0m: \u001b[1;36m4.0\u001b[0m, \u001b[32m'max_features'\u001b[0m: \u001b[1;36m0\u001b[0m, \n",
       "\u001b[32m'min_impurity_decrease'\u001b[0m: \u001b[1;36m1.99\u001b[0m, \u001b[32m'n_estimators'\u001b[0m: \u001b[1;36m156.0\u001b[0m, \u001b[32m'subsample'\u001b[0m: \u001b[1;36m0.92\u001b[0m\u001b[1m}\u001b[0m\n"
      ]
     },
     "metadata": {},
     "output_type": "display_data"
    },
    {
     "data": {
      "text/html": [
       "<pre style=\"white-space:pre;overflow-x:auto;line-height:normal;font-family:Menlo,'DejaVu Sans Mono',consolas,'Courier New',monospace\">转换后的参数组合为: <span style=\"font-weight: bold\">{</span><span style=\"color: #008000; text-decoration-color: #008000\">'criterion'</span>: <span style=\"color: #008000; text-decoration-color: #008000\">'squared_error'</span>, <span style=\"color: #008000; text-decoration-color: #008000\">'learning_rate'</span>: <span style=\"color: #008080; text-decoration-color: #008080; font-weight: bold\">0.15000000000000002</span>, <span style=\"color: #008000; text-decoration-color: #008000\">'loss'</span>: <span style=\"color: #008000; text-decoration-color: #008000\">'huber'</span>, \n",
       "<span style=\"color: #008000; text-decoration-color: #008000\">'max_depth'</span>: <span style=\"color: #008080; text-decoration-color: #008080; font-weight: bold\">4.0</span>, <span style=\"color: #008000; text-decoration-color: #008000\">'max_features'</span>: <span style=\"color: #008080; text-decoration-color: #008080; font-weight: bold\">16</span>, <span style=\"color: #008000; text-decoration-color: #008000\">'min_impurity_decrease'</span>: <span style=\"color: #008080; text-decoration-color: #008080; font-weight: bold\">1.99</span>, <span style=\"color: #008000; text-decoration-color: #008000\">'n_estimators'</span>: <span style=\"color: #008080; text-decoration-color: #008080; font-weight: bold\">156.0</span>, <span style=\"color: #008000; text-decoration-color: #008000\">'subsample'</span>: <span style=\"color: #008080; text-decoration-color: #008080; font-weight: bold\">0.92</span><span style=\"font-weight: bold\">}</span>\n",
       "</pre>\n"
      ],
      "text/plain": [
       "转换后的参数组合为: \u001b[1m{\u001b[0m\u001b[32m'criterion'\u001b[0m: \u001b[32m'squared_error'\u001b[0m, \u001b[32m'learning_rate'\u001b[0m: \u001b[1;36m0.15000000000000002\u001b[0m, \u001b[32m'loss'\u001b[0m: \u001b[32m'huber'\u001b[0m, \n",
       "\u001b[32m'max_depth'\u001b[0m: \u001b[1;36m4.0\u001b[0m, \u001b[32m'max_features'\u001b[0m: \u001b[1;36m16\u001b[0m, \u001b[32m'min_impurity_decrease'\u001b[0m: \u001b[1;36m1.99\u001b[0m, \u001b[32m'n_estimators'\u001b[0m: \u001b[1;36m156.0\u001b[0m, \u001b[32m'subsample'\u001b[0m: \u001b[1;36m0.92\u001b[0m\u001b[1m}\u001b[0m\n"
      ]
     },
     "metadata": {},
     "output_type": "display_data"
    }
   ],
   "source": [
    "param_best, trials = param_hyperopt(300)"
   ]
  },
  {
   "cell_type": "code",
   "execution_count": null,
   "id": "16792b81",
   "metadata": {},
   "outputs": [],
   "source": []
  }
 ],
 "metadata": {
  "kernelspec": {
   "display_name": "Python 3 (ipykernel)",
   "language": "python",
   "name": "python3"
  },
  "language_info": {
   "codemirror_mode": {
    "name": "ipython",
    "version": 3
   },
   "file_extension": ".py",
   "mimetype": "text/x-python",
   "name": "python",
   "nbconvert_exporter": "python",
   "pygments_lexer": "ipython3",
   "version": "3.12.3"
  },
  "toc": {
   "base_numbering": 1,
   "nav_menu": {},
   "number_sections": true,
   "sideBar": true,
   "skip_h1_title": false,
   "title_cell": "Table of Contents",
   "title_sidebar": "Contents",
   "toc_cell": false,
   "toc_position": {},
   "toc_section_display": true,
   "toc_window_display": false
  }
 },
 "nbformat": 4,
 "nbformat_minor": 5
}
