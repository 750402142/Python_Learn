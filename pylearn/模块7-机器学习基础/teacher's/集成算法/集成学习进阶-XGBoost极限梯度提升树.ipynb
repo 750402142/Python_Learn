{
 "cells": [
  {
   "cell_type": "markdown",
   "id": "a32d123f",
   "metadata": {},
   "source": [
    "# 集成学习进阶-XGBoost极限梯度提升算法"
   ]
  },
  {
   "cell_type": "markdown",
   "id": "f43170ac",
   "metadata": {},
   "source": [
    "## 模块安装"
   ]
  },
  {
   "cell_type": "markdown",
   "id": "50b7e815",
   "metadata": {},
   "source": [
    "-  cpu版本安装\n",
    "pip install xgboost\n",
    "\n",
    "-  GPU版本的安装\n",
    "conda install -c conda-forge py-xgboost-gpu"
   ]
  },
  {
   "cell_type": "code",
   "execution_count": 1,
   "id": "ccda912d",
   "metadata": {
    "ExecuteTime": {
     "end_time": "2024-12-04T06:55:19.146074Z",
     "start_time": "2024-12-04T06:55:19.141655Z"
    },
    "scrolled": true
   },
   "outputs": [
    {
     "name": "stdout",
     "output_type": "stream",
     "text": [
      "2.1.3\n"
     ]
    }
   ],
   "source": [
    "import xgboost as xgb\n",
    "print(xgb.__version__)"
   ]
  },
  {
   "cell_type": "code",
   "execution_count": 8,
   "id": "d9c72b04",
   "metadata": {
    "ExecuteTime": {
     "end_time": "2024-12-04T07:06:48.974944Z",
     "start_time": "2024-12-04T07:06:48.285809Z"
    }
   },
   "outputs": [],
   "source": [
    "import pandas as pd\n",
    "import numpy as np\n",
    "import matplotlib.pyplot as plt"
   ]
  },
  {
   "cell_type": "markdown",
   "id": "968d8564",
   "metadata": {},
   "source": [
    "1. 读取数据: xgb.DMatrix() # 读取数据\n",
    "2. 设置参数: param = {}  # 设置参数\n",
    "3. 训练模型: xgb.train(params)\n",
    "4. 预测结果:  xgb.predict()"
   ]
  },
  {
   "cell_type": "markdown",
   "id": "43111a2c",
   "metadata": {
    "ExecuteTime": {
     "end_time": "2024-12-04T07:54:36.464109Z",
     "start_time": "2024-12-04T07:54:36.461127Z"
    }
   },
   "source": [
    "### xgboost的sklean api"
   ]
  },
  {
   "cell_type": "code",
   "execution_count": 34,
   "id": "6b2f1d14",
   "metadata": {
    "ExecuteTime": {
     "end_time": "2024-12-04T07:34:17.674709Z",
     "start_time": "2024-12-04T07:34:17.656971Z"
    }
   },
   "outputs": [],
   "source": [
    "from xgboost import XGBRegressor # \n",
    "from sklearn.model_selection import cross_validate, KFold\n",
    "from sklearn.model_selection import train_test_split\n",
    "\n",
    "data = pd.read_csv('./data/train_encode.csv',index_col=0)\n",
    "\n",
    "X = data.iloc[:,:-1]\n",
    "y = data.iloc[:,-1]"
   ]
  },
  {
   "cell_type": "code",
   "execution_count": 35,
   "id": "1f3e2c4a",
   "metadata": {
    "ExecuteTime": {
     "end_time": "2024-12-04T07:34:17.991221Z",
     "start_time": "2024-12-04T07:34:17.983338Z"
    }
   },
   "outputs": [],
   "source": [
    "X_train, X_test, y_train, y_test = train_test_split(X,y,  test_size=0.2, random_state=1210)"
   ]
  },
  {
   "cell_type": "code",
   "execution_count": 36,
   "id": "fd4e6a65",
   "metadata": {
    "ExecuteTime": {
     "end_time": "2024-12-04T07:34:18.559547Z",
     "start_time": "2024-12-04T07:34:18.254054Z"
    }
   },
   "outputs": [
    {
     "data": {
      "text/plain": [
       "0.8986894232222045"
      ]
     },
     "execution_count": 36,
     "metadata": {},
     "output_type": "execute_result"
    }
   ],
   "source": [
    "xgb_sg = XGBRegressor(random_state=1210)\n",
    "xgb_sg.fit(X_train,y_train)\n",
    "xgb_sg.score(X_test,y_test) # 默认返回到指标生R^2"
   ]
  },
  {
   "cell_type": "code",
   "execution_count": 37,
   "id": "53039607",
   "metadata": {
    "ExecuteTime": {
     "end_time": "2024-12-04T07:34:19.484016Z",
     "start_time": "2024-12-04T07:34:18.677014Z"
    }
   },
   "outputs": [
    {
     "name": "stderr",
     "output_type": "stream",
     "text": [
      "[Parallel(n_jobs=-1)]: Using backend LokyBackend with 20 concurrent workers.\n",
      "[Parallel(n_jobs=-1)]: Done   2 out of   5 | elapsed:    0.7s remaining:    1.1s\n",
      "[Parallel(n_jobs=-1)]: Done   5 out of   5 | elapsed:    0.7s finished\n"
     ]
    },
    {
     "data": {
      "text/html": [
       "<pre style=\"white-space:pre;overflow-x:auto;line-height:normal;font-family:Menlo,'DejaVu Sans Mono',consolas,'Courier New',monospace\">模型的名称: XGBoost, 训练耗时: <span style=\"color: #008080; text-decoration-color: #008080; font-weight: bold\">0.6478349685668945</span>, 训练集分数: <span style=\"color: #008080; text-decoration-color: #008080; font-weight: bold\">835.7244886670805</span>, 测试集分数:<span style=\"color: #008080; text-decoration-color: #008080; font-weight: bold\">30086.623416939274</span>\n",
       "</pre>\n"
      ],
      "text/plain": [
       "模型的名称: XGBoost, 训练耗时: \u001b[1;36m0.6478349685668945\u001b[0m, 训练集分数: \u001b[1;36m835.7244886670805\u001b[0m, 测试集分数:\u001b[1;36m30086.623416939274\u001b[0m\n"
      ]
     },
     "metadata": {},
     "output_type": "display_data"
    }
   ],
   "source": [
    "import time\n",
    "from rich import print\n",
    "def RMSE(result, name):\n",
    "    return abs(result[name].mean())\n",
    "\n",
    "cv = KFold(n_splits=5, shuffle=True, random_state=1210)\n",
    "start_time = time.time()\n",
    "\n",
    "result_xgb_sg = cross_validate(xgb_sg,X,y,cv=cv,\n",
    "        scoring='neg_root_mean_squared_error',\n",
    "        return_train_score=True,\n",
    "        verbose=True,\n",
    "        n_jobs=-1)\n",
    "elapsed_time = time.time() - start_time\n",
    "print(f\"模型的名称: XGBoost, \\\n",
    "训练耗时: {result_xgb_sg['fit_time'].mean()}, \\\n",
    "训练集分数: {RMSE(result_xgb_sg, 'train_score')}, \\\n",
    "测试集分数:{RMSE(result_xgb_sg,'test_score')}\")"
   ]
  },
  {
   "cell_type": "code",
   "execution_count": 84,
   "id": "fedd1e8b",
   "metadata": {
    "ExecuteTime": {
     "end_time": "2024-12-04T07:52:33.118534Z",
     "start_time": "2024-12-04T07:52:32.856913Z"
    }
   },
   "outputs": [
    {
     "name": "stderr",
     "output_type": "stream",
     "text": [
      "[Parallel(n_jobs=-1)]: Using backend LokyBackend with 20 concurrent workers.\n",
      "[Parallel(n_jobs=-1)]: Done   2 out of   5 | elapsed:    0.1s remaining:    0.2s\n",
      "[Parallel(n_jobs=-1)]: Done   5 out of   5 | elapsed:    0.2s finished\n"
     ]
    },
    {
     "data": {
      "text/html": [
       "<pre style=\"white-space:pre;overflow-x:auto;line-height:normal;font-family:Menlo,'DejaVu Sans Mono',consolas,'Courier New',monospace\">模型的名称: XGBoost, 训练耗时: <span style=\"color: #008080; text-decoration-color: #008080; font-weight: bold\">0.18949356079101562</span>, 训练集分数: <span style=\"color: #008080; text-decoration-color: #008080; font-weight: bold\">10528.43273650927</span>, 测试集分数:<span style=\"color: #008080; text-decoration-color: #008080; font-weight: bold\">27603.554281010165</span>\n",
       "</pre>\n"
      ],
      "text/plain": [
       "模型的名称: XGBoost, 训练耗时: \u001b[1;36m0.18949356079101562\u001b[0m, 训练集分数: \u001b[1;36m10528.43273650927\u001b[0m, 测试集分数:\u001b[1;36m27603.554281010165\u001b[0m\n"
      ]
     },
     "metadata": {},
     "output_type": "display_data"
    }
   ],
   "source": [
    "xgb_sg = XGBRegressor(max_depth=4,\n",
    "                      random_state=1210,\n",
    "                      n_estimators=100,\n",
    "                      learning_rate=0.1,\n",
    "                      min_child_weight=.6,\n",
    "                      booster='gbtree',\n",
    "                      gamma=100,\n",
    "                      reg_alpha=4,\n",
    "                      subsample=.9,\n",
    "                      nehred=14,\n",
    "                      rate_drop=0.5,\n",
    "                      num_boost_round=150,\n",
    "                     )\n",
    "\n",
    "import time\n",
    "from rich import print\n",
    "def RMSE(result, name):\n",
    "    return abs(result[name].mean())\n",
    "\n",
    "cv = KFold(n_splits=5, shuffle=True, random_state=1210)\n",
    "start_time = time.time()\n",
    "\n",
    "result_xgb_sg = cross_validate(xgb_sg,X,y,cv=cv,\n",
    "        scoring='neg_root_mean_squared_error',\n",
    "        return_train_score=True,\n",
    "        verbose=True,\n",
    "        n_jobs=-1)\n",
    "elapsed_time = time.time() - start_time\n",
    "print(f\"模型的名称: XGBoost, \\\n",
    "训练耗时: {result_xgb_sg['fit_time'].mean()}, \\\n",
    "训练集分数: {RMSE(result_xgb_sg, 'train_score')}, \\\n",
    "测试集分数:{RMSE(result_xgb_sg,'test_score')}\")"
   ]
  },
  {
   "cell_type": "markdown",
   "id": "b99c149c",
   "metadata": {},
   "source": [
    "### xgboost算法属性"
   ]
  },
  {
   "cell_type": "code",
   "execution_count": 92,
   "id": "0e02ec15",
   "metadata": {
    "ExecuteTime": {
     "end_time": "2024-12-04T07:57:07.820588Z",
     "start_time": "2024-12-04T07:57:07.645480Z"
    },
    "collapsed": true
   },
   "outputs": [
    {
     "data": {
      "text/plain": [
       "{'objective': 'reg:squarederror',\n",
       " 'base_score': None,\n",
       " 'booster': None,\n",
       " 'callbacks': None,\n",
       " 'colsample_bylevel': None,\n",
       " 'colsample_bynode': None,\n",
       " 'colsample_bytree': None,\n",
       " 'device': None,\n",
       " 'early_stopping_rounds': None,\n",
       " 'enable_categorical': False,\n",
       " 'eval_metric': None,\n",
       " 'feature_types': None,\n",
       " 'gamma': None,\n",
       " 'grow_policy': None,\n",
       " 'importance_type': None,\n",
       " 'interaction_constraints': None,\n",
       " 'learning_rate': None,\n",
       " 'max_bin': None,\n",
       " 'max_cat_threshold': None,\n",
       " 'max_cat_to_onehot': None,\n",
       " 'max_delta_step': None,\n",
       " 'max_depth': 5,\n",
       " 'max_leaves': None,\n",
       " 'min_child_weight': None,\n",
       " 'missing': nan,\n",
       " 'monotone_constraints': None,\n",
       " 'multi_strategy': None,\n",
       " 'n_estimators': None,\n",
       " 'n_jobs': None,\n",
       " 'num_parallel_tree': None,\n",
       " 'random_state': 1210,\n",
       " 'reg_alpha': None,\n",
       " 'reg_lambda': None,\n",
       " 'sampling_method': None,\n",
       " 'scale_pos_weight': None,\n",
       " 'subsample': None,\n",
       " 'tree_method': None,\n",
       " 'validate_parameters': None,\n",
       " 'verbosity': None}"
      ]
     },
     "execution_count": 92,
     "metadata": {},
     "output_type": "execute_result"
    }
   ],
   "source": [
    "xgb_sg = XGBRegressor(max_depth=5,random_state=1210).fit(X, y)\n",
    "xgb_sg.feature_importances_ # 查看重要的特征\n",
    "xgb_sg.get_booster()[1]\n",
    "xgb_sg.get_num_boosting_rounds() # 查看建立的树的数量\n",
    "xgb_sg.predict(X) # 做预测\n",
    "xgb_sg.get_params()"
   ]
  },
  {
   "cell_type": "markdown",
   "id": "5848dcf9",
   "metadata": {},
   "source": [
    "## XGBoost回归原生代码实现"
   ]
  },
  {
   "cell_type": "markdown",
   "id": "01acfcaf",
   "metadata": {},
   "source": [
    "1. 数据集对我们来说是新的,必须使用DMatrix,这也是第一步要完成的\n",
    "2. 设置参数\n",
    "3. 训练模型,传入的设置的参数\n",
    "4. 预测结果"
   ]
  },
  {
   "cell_type": "markdown",
   "id": "5e06ec80",
   "metadata": {},
   "source": [
    "### 将数据转换为DMatrix"
   ]
  },
  {
   "cell_type": "code",
   "execution_count": 94,
   "id": "801bf2e3",
   "metadata": {
    "ExecuteTime": {
     "end_time": "2024-12-04T08:32:44.143526Z",
     "start_time": "2024-12-04T08:32:44.130433Z"
    }
   },
   "outputs": [],
   "source": [
    "data_xgb = xgb.DMatrix(X,y)"
   ]
  },
  {
   "cell_type": "code",
   "execution_count": 112,
   "id": "b0f86d08",
   "metadata": {
    "ExecuteTime": {
     "end_time": "2024-12-04T08:37:47.850037Z",
     "start_time": "2024-12-04T08:37:47.812428Z"
    }
   },
   "outputs": [],
   "source": [
    "data_xgb.get_label() # 可以获取标签\n",
    "data_xgb.feature_names # 可以拿到特征名\n",
    "data_xgb.feature_types # 查看字段的类型\n",
    "data_xgb.get_data() # 看到一些基础信息\n",
    "type(data_xgb)\n",
    "X_train,X_test,y_train,y_test = train_test_split(X, y,random_state=1210, test_size=0.3)\n",
    "\n",
    "data_train = xgb.DMatrix(X_train, y_train)\n",
    "data_test = xgb.DMatrix(X_test,y_test)"
   ]
  },
  {
   "cell_type": "markdown",
   "id": "9a4bdc4f",
   "metadata": {},
   "source": [
    "### 设置参数"
   ]
  },
  {
   "cell_type": "code",
   "execution_count": 147,
   "id": "6e33f0c1",
   "metadata": {
    "ExecuteTime": {
     "end_time": "2024-12-04T08:52:21.982801Z",
     "start_time": "2024-12-04T08:52:21.980457Z"
    }
   },
   "outputs": [],
   "source": [
    "params = {\n",
    "    'max_depth': 4,\n",
    "    'random_state': 1210,\n",
    "}"
   ]
  },
  {
   "cell_type": "code",
   "execution_count": 148,
   "id": "5cd97f7b",
   "metadata": {
    "ExecuteTime": {
     "end_time": "2024-12-04T08:52:22.821805Z",
     "start_time": "2024-12-04T08:52:22.625424Z"
    }
   },
   "outputs": [
    {
     "data": {
      "text/plain": [
       "4307.2708181234675"
      ]
     },
     "execution_count": 148,
     "metadata": {},
     "output_type": "execute_result"
    }
   ],
   "source": [
    "# 模型训练\n",
    "reg = xgb.train(params, data_xgb,num_boost_round= 150,)\n",
    "# 模型预测\n",
    "y_pred = reg.predict(data_xgb)\n",
    "# 模型评分\n",
    "from sklearn.metrics import root_mean_squared_error as RMSE\n",
    "RMSE(y,y_pred=y_pred)"
   ]
  },
  {
   "cell_type": "markdown",
   "id": "8281bc5a",
   "metadata": {},
   "source": [
    "### 使用交叉验证进行训练"
   ]
  },
  {
   "cell_type": "code",
   "execution_count": 144,
   "id": "1f8d8c8e",
   "metadata": {
    "ExecuteTime": {
     "end_time": "2024-12-04T08:50:19.001195Z",
     "start_time": "2024-12-04T08:50:15.044013Z"
    }
   },
   "outputs": [
    {
     "data": {
      "text/plain": [
       "train-rmse-mean     6492.066736\n",
       "train-rmse-std       236.742734\n",
       "test-rmse-mean     28467.623064\n",
       "test-rmse-std       8148.199177\n",
       "dtype: float64"
      ]
     },
     "execution_count": 144,
     "metadata": {},
     "output_type": "execute_result"
    }
   ],
   "source": [
    "params = {\n",
    "    'max_depth': 5,\n",
    "    'random_state': 1210\n",
    "}\n",
    "result = xgb.cv(params,data_xgb, num_boost_round=150, nfold=10,seed=1210)\n",
    "result.mean()"
   ]
  },
  {
   "cell_type": "code",
   "execution_count": 146,
   "id": "8c462fda",
   "metadata": {
    "ExecuteTime": {
     "end_time": "2024-12-04T08:51:52.250592Z",
     "start_time": "2024-12-04T08:51:52.156454Z"
    }
   },
   "outputs": [
    {
     "data": {
      "image/png": "[encoded data removed]",
      "text/plain": [
       "<Figure size 1200x600 with 1 Axes>"
      ]
     },
     "metadata": {},
     "output_type": "display_data"
    }
   ],
   "source": [
    "plt.figure(figsize=(12,6), dpi=100)\n",
    "plt.plot(result['train-rmse-mean'],label='Train')\n",
    "plt.plot(result['test-rmse-mean'], label='Test')\n",
    "plt.legend()\n",
    "plt.show()"
   ]
  },
  {
   "cell_type": "markdown",
   "id": "39d186e0",
   "metadata": {},
   "source": [
    "### 使用GPU加速???"
   ]
  },
  {
   "cell_type": "code",
   "execution_count": 11,
   "id": "09fe81c6",
   "metadata": {
    "ExecuteTime": {
     "end_time": "2024-12-04T09:25:23.489620Z",
     "start_time": "2024-12-04T09:25:23.224723Z"
    }
   },
   "outputs": [],
   "source": [
    "from xgboost import XGBRegressor\n",
    "import xgboost as xgb\n",
    "from sklearn.model_selection import cross_validate, KFold\n",
    "from sklearn.model_selection import train_test_split\n",
    "import time\n",
    "from rich import print\n",
    "\n",
    "import pandas as pd \n",
    "data = pd.read_csv('./data/train_encode.csv',index_col=0)\n",
    "\n",
    "va = []\n",
    "for i in range(1000):\n",
    "    va.append(data)\n",
    "datas = pd.concat(va,axis=0)\n"
   ]
  },
  {
   "cell_type": "code",
   "execution_count": 12,
   "id": "fd1b2495",
   "metadata": {
    "ExecuteTime": {
     "end_time": "2024-12-04T09:25:25.184843Z",
     "start_time": "2024-12-04T09:25:24.412968Z"
    }
   },
   "outputs": [],
   "source": [
    "X = datas.iloc[:,:-1]\n",
    "y = datas.iloc[:,-1]\n",
    "data_xgb = xgb.DMatrix(X,y)"
   ]
  },
  {
   "cell_type": "code",
   "execution_count": 13,
   "id": "6786de35",
   "metadata": {
    "ExecuteTime": {
     "end_time": "2024-12-04T09:25:25.737728Z",
     "start_time": "2024-12-04T09:25:25.733537Z"
    }
   },
   "outputs": [],
   "source": [
    "def run_cv(use_gpu):\n",
    "    params = {\n",
    "    'max_depth': 4,\n",
    "    'random_state': 1210,\n",
    "    'device': \"cuda\" if use_gpu else 'cpu'\n",
    "    }\n",
    "    start_time = time.time()\n",
    "    result = xgb.cv(\n",
    "        params=params,\n",
    "        dtrain=data_xgb,\n",
    "        num_boost_round=100,\n",
    "        nfold=5,\n",
    "        seed=1210,\n",
    "        as_pandas=False,\n",
    "        verbose_eval=False,\n",
    "    )\n",
    "    elapsed_time = time.time() - start_time\n",
    "    return elapsed_time, result"
   ]
  },
  {
   "cell_type": "code",
   "execution_count": 14,
   "id": "f876f5bb",
   "metadata": {
    "ExecuteTime": {
     "end_time": "2024-12-04T09:26:06.079294Z",
     "start_time": "2024-12-04T09:25:26.853973Z"
    }
   },
   "outputs": [
    {
     "data": {
      "text/html": [
       "<pre style=\"white-space:pre;overflow-x:auto;line-height:normal;font-family:Menlo,'DejaVu Sans Mono',consolas,'Courier New',monospace\">未使用GPU加速,平均耗时为: <span style=\"color: #008080; text-decoration-color: #008080; font-weight: bold\">39.</span>2214秒\n",
       "</pre>\n"
      ],
      "text/plain": [
       "未使用GPU加速,平均耗时为: \u001b[1;36m39.\u001b[0m2214秒\n"
      ]
     },
     "metadata": {},
     "output_type": "display_data"
    }
   ],
   "source": [
    "cpu_elapsed_time, result = run_cv(use_gpu=False)\n",
    "print(f\"未使用GPU加速,平均耗时为: {cpu_elapsed_time:.4f}秒\")"
   ]
  },
  {
   "cell_type": "code",
   "execution_count": 15,
   "id": "2c57cfa3",
   "metadata": {
    "ExecuteTime": {
     "end_time": "2024-12-04T09:27:03.661778Z",
     "start_time": "2024-12-04T09:26:48.046148Z"
    }
   },
   "outputs": [
    {
     "data": {
      "text/html": [
       "<pre style=\"white-space:pre;overflow-x:auto;line-height:normal;font-family:Menlo,'DejaVu Sans Mono',consolas,'Courier New',monospace\">使用GPU加速,平均耗时为: <span style=\"color: #008080; text-decoration-color: #008080; font-weight: bold\">15.</span>6101秒\n",
       "</pre>\n"
      ],
      "text/plain": [
       "使用GPU加速,平均耗时为: \u001b[1;36m15.\u001b[0m6101秒\n"
      ]
     },
     "metadata": {},
     "output_type": "display_data"
    }
   ],
   "source": [
    "gpu_elapsed_time, result = run_cv(use_gpu=True)\n",
    "print(f\"使用GPU加速,平均耗时为: {gpu_elapsed_time:.4f}秒\")"
   ]
  },
  {
   "cell_type": "code",
   "execution_count": 19,
   "id": "494134bb",
   "metadata": {
    "ExecuteTime": {
     "end_time": "2024-12-04T09:32:11.946406Z",
     "start_time": "2024-12-04T09:31:39.660359Z"
    }
   },
   "outputs": [
    {
     "name": "stderr",
     "output_type": "stream",
     "text": [
      "[Parallel(n_jobs=-1)]: Using backend LokyBackend with 20 concurrent workers.\n",
      "[Parallel(n_jobs=-1)]: Done   2 out of   5 | elapsed:   31.0s remaining:   46.5s\n",
      "[Parallel(n_jobs=-1)]: Done   5 out of   5 | elapsed:   31.5s finished\n"
     ]
    },
    {
     "data": {
      "text/html": [
       "<pre style=\"white-space:pre;overflow-x:auto;line-height:normal;font-family:Menlo,'DejaVu Sans Mono',consolas,'Courier New',monospace\">模型的名称: XGBoost, 训练耗时: <span style=\"color: #008080; text-decoration-color: #008080; font-weight: bold\">26.42931318283081</span>, 训练集分数: <span style=\"color: #008080; text-decoration-color: #008080; font-weight: bold\">2704.2958526684174</span>, 测试集分数:<span style=\"color: #008080; text-decoration-color: #008080; font-weight: bold\">2707.8189250279675</span>\n",
       "</pre>\n"
      ],
      "text/plain": [
       "模型的名称: XGBoost, 训练耗时: \u001b[1;36m26.42931318283081\u001b[0m, 训练集分数: \u001b[1;36m2704.2958526684174\u001b[0m, 测试集分数:\u001b[1;36m2707.8189250279675\u001b[0m\n"
      ]
     },
     "metadata": {},
     "output_type": "display_data"
    }
   ],
   "source": [
    "# sklean API版本,没有使用GPU加速\n",
    "import time\n",
    "from rich import print\n",
    "def RMSE(result, name):\n",
    "    return abs(result[name].mean())\n",
    "X = datas.iloc[:,:-1]\n",
    "y = datas.iloc[:,-1]\n",
    "xgb_sg = XGBRegressor(random_state=1210, max_depth=5)\n",
    "cv = KFold(n_splits=5, shuffle=True, random_state=1210)\n",
    "start_time = time.time()\n",
    "\n",
    "result_xgb_sg = cross_validate(xgb_sg,X,y,cv=cv,\n",
    "        scoring='neg_root_mean_squared_error',\n",
    "        return_train_score=True,\n",
    "        verbose=True,\n",
    "        n_jobs=-1)\n",
    "elapsed_time = time.time() - start_time\n",
    "print(f\"模型的名称: XGBoost, \\\n",
    "训练耗时: {result_xgb_sg['fit_time'].mean()}, \\\n",
    "训练集分数: {RMSE(result_xgb_sg, 'train_score')}, \\\n",
    "测试集分数:{RMSE(result_xgb_sg,'test_score')}\")"
   ]
  },
  {
   "cell_type": "code",
   "execution_count": 20,
   "id": "320720cc",
   "metadata": {
    "ExecuteTime": {
     "end_time": "2024-12-04T09:32:48.939932Z",
     "start_time": "2024-12-04T09:32:30.355425Z"
    }
   },
   "outputs": [
    {
     "name": "stderr",
     "output_type": "stream",
     "text": [
      "[Parallel(n_jobs=-1)]: Using backend LokyBackend with 20 concurrent workers.\n",
      "[Parallel(n_jobs=-1)]: Done   2 out of   5 | elapsed:   17.7s remaining:   26.6s\n",
      "[Parallel(n_jobs=-1)]: Done   5 out of   5 | elapsed:   17.9s finished\n"
     ]
    },
    {
     "data": {
      "text/html": [
       "<pre style=\"white-space:pre;overflow-x:auto;line-height:normal;font-family:Menlo,'DejaVu Sans Mono',consolas,'Courier New',monospace\">模型的名称: XGBoost, 训练耗时: <span style=\"color: #008080; text-decoration-color: #008080; font-weight: bold\">12.490436506271362</span>, 训练集分数: <span style=\"color: #008080; text-decoration-color: #008080; font-weight: bold\">2704.2960121963865</span>, 测试集分数:<span style=\"color: #008080; text-decoration-color: #008080; font-weight: bold\">2707.8191659976387</span>\n",
       "</pre>\n"
      ],
      "text/plain": [
       "模型的名称: XGBoost, 训练耗时: \u001b[1;36m12.490436506271362\u001b[0m, 训练集分数: \u001b[1;36m2704.2960121963865\u001b[0m, 测试集分数:\u001b[1;36m2707.8191659976387\u001b[0m\n"
      ]
     },
     "metadata": {},
     "output_type": "display_data"
    }
   ],
   "source": [
    "# sklean API版本,没有使用GPU加速\n",
    "import time\n",
    "from rich import print\n",
    "def RMSE(result, name):\n",
    "    return abs(result[name].mean())\n",
    "X = datas.iloc[:,:-1]\n",
    "y = datas.iloc[:,-1]\n",
    "xgb_sg = XGBRegressor(random_state=1210, max_depth=5, device='cuda')\n",
    "cv = KFold(n_splits=5, shuffle=True, random_state=1210)\n",
    "start_time = time.time()\n",
    "\n",
    "result_xgb_sg = cross_validate(xgb_sg,X,y,cv=cv,\n",
    "        scoring='neg_root_mean_squared_error',\n",
    "        return_train_score=True,\n",
    "        verbose=True,\n",
    "        n_jobs=-1)\n",
    "elapsed_time = time.time() - start_time\n",
    "print(f\"模型的名称: XGBoost, \\\n",
    "训练耗时: {result_xgb_sg['fit_time'].mean()}, \\\n",
    "训练集分数: {RMSE(result_xgb_sg, 'train_score')}, \\\n",
    "测试集分数:{RMSE(result_xgb_sg,'test_score')}\")"
   ]
  },
  {
   "cell_type": "code",
   "execution_count": null,
   "id": "8d53093f",
   "metadata": {},
   "outputs": [],
   "source": []
  }
 ],
 "metadata": {
  "kernelspec": {
   "display_name": "Python 3 (ipykernel)",
   "language": "python",
   "name": "python3"
  },
  "language_info": {
   "codemirror_mode": {
    "name": "ipython",
    "version": 3
   },
   "file_extension": ".py",
   "mimetype": "text/x-python",
   "name": "python",
   "nbconvert_exporter": "python",
   "pygments_lexer": "ipython3",
   "version": "3.12.3"
  },
  "toc": {
   "base_numbering": 1,
   "nav_menu": {},
   "number_sections": true,
   "sideBar": true,
   "skip_h1_title": false,
   "title_cell": "Table of Contents",
   "title_sidebar": "Contents",
   "toc_cell": false,
   "toc_position": {},
   "toc_section_display": true,
   "toc_window_display": false
  }
 },
 "nbformat": 4,
 "nbformat_minor": 5
}
