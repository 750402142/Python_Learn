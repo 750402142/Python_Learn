{
 "cells": [
  {
   "cell_type": "markdown",
   "id": "b1fbaefd",
   "metadata": {},
   "source": [
    "# 集成学习进阶-XGBoost极限梯度提升算法-分类任务"
   ]
  },
  {
   "cell_type": "code",
   "execution_count": null,
   "id": "74fc3609",
   "metadata": {
    "ExecuteTime": {
     "end_time": "2024-12-05T00:04:09.013590Z",
     "start_time": "2024-12-05T00:04:09.010632Z"
    }
   },
   "outputs": [],
   "source": [
    "import xgboost as xgb\n",
    "from xgboost import XGBRegressor # "
   ]
  },
  {
   "cell_type": "markdown",
   "id": "5decf0e1",
   "metadata": {
    "ExecuteTime": {
     "end_time": "2024-12-05T00:04:18.191039Z",
     "start_time": "2024-12-05T00:04:18.180820Z"
    }
   },
   "source": [
    "objective:\n",
    "\n",
    "1. 对于回归任务来说:\n",
    "    - reg:squarederror: 平方损失, 默认值\n",
    "    - reg:squaredlogerror: 平方对数损失\n",
    "2. 对于分类任务:\n",
    "    - binary:logistic: 二分类交叉熵损失,可以使用oredict接口输出概率\n",
    "    - binary:logitraw: 二分类交叉熵损失, 使用该损失时可以输出执行sigmoid变化之前的值\n",
    "    - multi: softmax: 多分类交叉熵损失, 使用predict接口可以输出具体的类别\n",
    "    - multi:sorfprob: 多分类交叉熵, 使用predict接口可以输出每个样本每个类别下面的概率"
   ]
  },
  {
   "cell_type": "code",
   "execution_count": null,
   "id": "533a1461",
   "metadata": {
    "ExecuteTime": {
     "end_time": "2024-12-05T00:14:33.323079Z",
     "start_time": "2024-12-05T00:14:33.317643Z"
    }
   },
   "outputs": [],
   "source": [
    "from sklearn.datasets import load_breast_cancer, load_digits\n",
    "import xgboost as xgb\n",
    "from xgboost import XGBRegressor #"
   ]
  },
  {
   "cell_type": "markdown",
   "id": "110e4cfe",
   "metadata": {},
   "source": [
    "## 二分类任务\n",
    "\n",
    "### 第一步: 构建数据集\""
   ]
  },
  {
   "cell_type": "code",
   "execution_count": null,
   "id": "2d273c02",
   "metadata": {
    "ExecuteTime": {
     "end_time": "2024-12-05T00:14:34.149645Z",
     "start_time": "2024-12-05T00:14:34.132320Z"
    }
   },
   "outputs": [],
   "source": [
    "X_binary = load_breast_cancer().data\n",
    "y_binary = load_breast_cancer().target\n",
    "data_binary = xgb.DMatrix(X_binary, y_binary)"
   ]
  },
  {
   "cell_type": "markdown",
   "id": "839e4608",
   "metadata": {},
   "source": [
    "### 第二步: 设置参数"
   ]
  },
  {
   "cell_type": "code",
   "execution_count": null,
   "id": "89089278",
   "metadata": {
    "ExecuteTime": {
     "end_time": "2024-12-05T00:16:05.919845Z",
     "start_time": "2024-12-05T00:16:05.915419Z"
    }
   },
   "outputs": [],
   "source": [
    "params = {\n",
    "    'seed': 1210, 'objective': \"binary:logistic\"\n",
    "}"
   ]
  },
  {
   "cell_type": "markdown",
   "id": "922ef4ac",
   "metadata": {},
   "source": [
    "### 第三步: 模型训练"
   ]
  },
  {
   "cell_type": "code",
   "execution_count": null,
   "id": "d81bbf6e",
   "metadata": {
    "ExecuteTime": {
     "end_time": "2024-12-05T00:16:55.150732Z",
     "start_time": "2024-12-05T00:16:55.047164Z"
    }
   },
   "outputs": [],
   "source": [
    "clf_binary = xgb.train(params, data_binary, num_boost_round=100)"
   ]
  },
  {
   "cell_type": "markdown",
   "id": "a27b86e6",
   "metadata": {},
   "source": [
    "### 第四步: 模型评估"
   ]
  },
  {
   "cell_type": "code",
   "execution_count": null,
   "id": "00434925",
   "metadata": {
    "ExecuteTime": {
     "end_time": "2024-12-05T00:18:09.699892Z",
     "start_time": "2024-12-05T00:18:09.693613Z"
    }
   },
   "outputs": [],
   "source": [
    "y_pred_binary = clf_binary.predict(data_binary) # 返回到是概率"
   ]
  },
  {
   "cell_type": "code",
   "execution_count": null,
   "id": "12b24e81",
   "metadata": {
    "ExecuteTime": {
     "end_time": "2024-12-05T00:19:22.602429Z",
     "start_time": "2024-12-05T00:19:22.595827Z"
    }
   },
   "outputs": [],
   "source": [
    "y_binary_predict = (y_pred_binary > 0.5).astype(\"int\") # 再上一步的基础上返回类别"
   ]
  },
  {
   "cell_type": "code",
   "execution_count": null,
   "id": "e528f875",
   "metadata": {
    "ExecuteTime": {
     "end_time": "2024-12-05T00:35:10.274299Z",
     "start_time": "2024-12-05T00:35:10.252468Z"
    }
   },
   "outputs": [],
   "source": [
    "from rich import print\n",
    "from sklearn.metrics import confusion_matrix\n",
    "from sklearn.metrics import accuracy_score as acc # 返回准确率\n",
    "from sklearn.metrics import classification_report\n",
    "from sklearn.metrics import log_loss # 当返回是概率时,可以使用交叉熵损失\n",
    "import seaborn as sns\n",
    "acc(y_true=y_binary,y_pred=y_binary_predict)\n",
    "print(f\"交叉熵损失为: {log_loss(y_true=y_binary,y_pred=y_binary_predict):.7f}\")\n",
    "print(classification_report(y_true=y_binary, y_pred=y_binary_predict))"
   ]
  },
  {
   "cell_type": "code",
   "execution_count": null,
   "id": "d0e0d314",
   "metadata": {
    "ExecuteTime": {
     "end_time": "2024-12-05T00:26:06.067672Z",
     "start_time": "2024-12-05T00:26:05.859688Z"
    }
   },
   "outputs": [],
   "source": [
    "cm = confusion_matrix(y_true=y_binary, y_pred=y_binary_predict)\n",
    "sns.heatmap(cm,square=True, annot=True, cmap='Blues',fmt='d', linecolor='white',linewidths=2)"
   ]
  },
  {
   "cell_type": "markdown",
   "id": "e48530a8",
   "metadata": {},
   "source": [
    "### 使用xgboost sklean api完成"
   ]
  },
  {
   "cell_type": "code",
   "execution_count": null,
   "id": "186cd3d5",
   "metadata": {
    "ExecuteTime": {
     "end_time": "2024-12-05T00:40:30.387536Z",
     "start_time": "2024-12-05T00:40:30.283419Z"
    }
   },
   "outputs": [],
   "source": [
    "from xgboost import XGBClassifier\n",
    "clf = XGBClassifier(objective='binary:logistic', seed=1210)  # 实例化模型\n",
    "clf.fit(X_binary, y_binary)  # 训练模型\n",
    "y_binary_pred = clf.predict(X_binary)  # 查看预测的分类\n",
    "y_binary_pred_proba = clf.predict_proba(X_binary) # 查看预测的概率\n",
    "clf.score(X_binary, y_binary) # 查看评分"
   ]
  },
  {
   "cell_type": "markdown",
   "id": "5101bf60",
   "metadata": {},
   "source": [
    "## 多分类任务"
   ]
  },
  {
   "cell_type": "code",
   "execution_count": null,
   "id": "10ca375d",
   "metadata": {
    "ExecuteTime": {
     "end_time": "2024-12-05T00:56:31.151328Z",
     "start_time": "2024-12-05T00:56:31.120448Z"
    }
   },
   "outputs": [],
   "source": [
    "X_multi = load_digits().data\n",
    "y_multi = load_digits().target"
   ]
  },
  {
   "cell_type": "code",
   "execution_count": null,
   "id": "7433e5e6",
   "metadata": {
    "ExecuteTime": {
     "end_time": "2024-12-05T01:01:27.853003Z",
     "start_time": "2024-12-05T01:01:27.170111Z"
    }
   },
   "outputs": [],
   "source": [
    "data_multi = xgb.DMatrix(X_multi, y_multi) # 构建数据集\n",
    "params2 = {'seed': 1210, \"objective\":\"multi:softmax\",\n",
    "          'eval_metric': \"mlogloss\",\n",
    "           'num_class': 10\n",
    "          } #构建参数字典\n",
    "clf_multi = xgb.train(params2, data_multi, num_boost_round=100)\n",
    "y_pred_multi = clf_multi.predict(data_multi)"
   ]
  },
  {
   "cell_type": "code",
   "execution_count": null,
   "id": "1ea28017",
   "metadata": {
    "ExecuteTime": {
     "end_time": "2024-12-05T01:03:40.427047Z",
     "start_time": "2024-12-05T01:03:40.056481Z"
    }
   },
   "outputs": [],
   "source": [
    "import  matplotlib.pyplot as plt\n",
    "plt.rcParams['font.sans-serif'] = 'Times New Roman'\n",
    "cm = confusion_matrix(y_true=y_multi, y_pred=y_pred_multi)\n",
    "plt.figure(figsize=(7,6),dpi=100)\n",
    "sns.heatmap(cm,square=True, annot=True, cmap='Blues',fmt='d', linecolor='white',linewidths=2)\n",
    "plt.show()"
   ]
  },
  {
   "cell_type": "code",
   "execution_count": null,
   "id": "cd2f6b4d",
   "metadata": {
    "ExecuteTime": {
     "end_time": "2024-12-05T01:04:23.089540Z",
     "start_time": "2024-12-05T01:04:23.083968Z"
    }
   },
   "outputs": [],
   "source": [
    "from sklearn.model_selection import train_test_split"
   ]
  },
  {
   "cell_type": "code",
   "execution_count": null,
   "id": "b8c99797",
   "metadata": {
    "ExecuteTime": {
     "end_time": "2024-12-05T01:05:22.864824Z",
     "start_time": "2024-12-05T01:05:22.860704Z"
    }
   },
   "outputs": [],
   "source": [
    "X_train, X_test, y_train, y_test = train_test_split(\n",
    "    X_multi, y_multi,test_size=0.2, random_state=1210)"
   ]
  },
  {
   "cell_type": "code",
   "execution_count": null,
   "id": "42dc8efa",
   "metadata": {
    "ExecuteTime": {
     "end_time": "2024-12-05T01:06:36.405234Z",
     "start_time": "2024-12-05T01:06:35.911335Z"
    }
   },
   "outputs": [],
   "source": [
    "dxtrain= xgb.DMatrix(X_train, y_train) # 构建数据集\n",
    "dxtest = xgb.DMatrix(X_test, y_test)\n",
    "params2 = {'seed': 1210, \"objective\":\"multi:softmax\",\n",
    "          'eval_metric': \"mlogloss\",\n",
    "           'num_class': 10\n",
    "          } #构建参数字典\n",
    "clf_multi = xgb.train(params2, dxtest, num_boost_round=100)\n",
    "y_pred_multi = clf_multi.predict(dxtest)"
   ]
  },
  {
   "cell_type": "code",
   "execution_count": null,
   "id": "9ada17a6",
   "metadata": {
    "ExecuteTime": {
     "end_time": "2024-12-05T01:07:05.302810Z",
     "start_time": "2024-12-05T01:07:04.975530Z"
    }
   },
   "outputs": [],
   "source": [
    "import  matplotlib.pyplot as plt\n",
    "plt.rcParams['font.sans-serif'] = 'Times New Roman'\n",
    "cm = confusion_matrix(y_true=y_test, y_pred=y_pred_multi)\n",
    "plt.figure(figsize=(7,6),dpi=100)\n",
    "sns.heatmap(cm,square=True, annot=True, cmap='Blues',fmt='d', linecolor='white',linewidths=2)\n",
    "plt.show()"
   ]
  },
  {
   "cell_type": "code",
   "execution_count": null,
   "id": "0fbbfd65",
   "metadata": {
    "ExecuteTime": {
     "end_time": "2024-12-05T01:08:02.474806Z",
     "start_time": "2024-12-05T01:08:02.457710Z"
    }
   },
   "outputs": [],
   "source": [
    "print(classification_report(y_true=y_test, y_pred=y_pred_multi))"
   ]
  },
  {
   "cell_type": "markdown",
   "id": "d7844ea6",
   "metadata": {},
   "source": [
    "### 多分类问题交叉验证"
   ]
  },
  {
   "cell_type": "code",
   "execution_count": null,
   "id": "c9b9cb84",
   "metadata": {
    "ExecuteTime": {
     "end_time": "2024-12-05T01:30:55.372032Z",
     "start_time": "2024-12-05T01:30:51.869216Z"
    },
    "scrolled": true
   },
   "outputs": [],
   "source": [
    "params2 = {'seed': 1210, \"objective\":\"multi:softmax\",\n",
    "           'num_class': 10\n",
    "          } #构建参数字典\n",
    "result = xgb.cv(params=params2,dtrain=data_multi, num_boost_round=100,\n",
    "               metrics=('mlogloss','merror'), # 可以填写多个评估指标\n",
    "               nfold=5,\n",
    "               seed=1210,\n",
    "               )\n",
    "result.head()"
   ]
  },
  {
   "cell_type": "markdown",
   "id": "7ea63c2c",
   "metadata": {},
   "source": [
    "### sklean api"
   ]
  },
  {
   "cell_type": "code",
   "execution_count": null,
   "id": "c522c1e6",
   "metadata": {
    "ExecuteTime": {
     "end_time": "2024-12-05T01:33:07.510287Z",
     "start_time": "2024-12-05T01:33:06.817260Z"
    }
   },
   "outputs": [],
   "source": [
    "clf = XGBClassifier(objective='multi:softmax',\n",
    "                    eval_metric='mlogloss',\n",
    "                    num_class = 10\n",
    "                   )\n",
    "clf.fit(X_train, y_train)\n",
    "\n",
    "y_pred = clf.predict(X_test)\n",
    "clf.score(X_test,y_test) # 查看准确率"
   ]
  },
  {
   "cell_type": "markdown",
   "id": "94d35422",
   "metadata": {},
   "source": [
    "## XGBoost调参"
   ]
  },
  {
   "cell_type": "markdown",
   "id": "dc919887",
   "metadata": {},
   "source": [
    "### 迭代过程中的参数\n",
    "\n",
    "- eta: learning_rate: 学习率,学习率越大需要的基学习器越少,学习率越小需要的基学习器越多,\n",
    "- num_boost_round: n_estimators: 基学习器的数量.\n",
    "- base_socre: base_score: 由于没有第0棵树的存在,因此我们可以使用base_socre来确定第0棵树的分数,默认值是0.5,调不调意义不大,当你的数据足够多,迭代次数足够的大的时候.\n",
    "- max_delta_step: max_delta_step: 当样本极度不均衡的时候,可以尝试调整这个值,一般1-10左右,单次提升到最大步长"
   ]
  },
  {
   "cell_type": "markdown",
   "id": "6daee5b1",
   "metadata": {},
   "source": [
    "### xgboost的目标函数"
   ]
  },
  {
   "cell_type": "markdown",
   "id": "4b79f18b",
   "metadata": {},
   "source": [
    "$$\n",
    "\\Omega\\left(f_k\\right)=\\gamma T+\\frac{1}{2} \\lambda \\sum_{j=1}^T w_j^2+\\alpha \\sum_{j=1}^T w_j\n",
    "$$"
   ]
  },
  {
   "cell_type": "markdown",
   "id": "a92cbe5c",
   "metadata": {
    "ExecuteTime": {
     "end_time": "2024-12-05T02:22:40.222489Z",
     "start_time": "2024-12-05T02:22:40.212374Z"
    }
   },
   "source": [
    "其中$\\gamma,\\lambda\\ \\alpha$都是可以自由设定的系数,T表示当前第K棵树都上的叶子总数量.$w_j$代表当前树上第j片叶子的权重,\n",
    "\n",
    "- $\\gamma$ (gamma <-> gamma):乘在一棵树的叶子总量T之前,依照叶子总量对目标函数施加惩罚的系数,默认是0,范围$0-\\inf$,当叶子总量固定时,$\\gamma$越大,结构风险越大,同时,$\\gamma$不变时,叶子总量越多,模型复杂度越大,结构风险越大,基于此,调整$\\gamma$可以控制过拟合.\n",
    "- 参数$\\lambda$和$\\alpha$(lambda <-> reg_lambda)|((alpha <-> reg_alpha)): 正则化系数,依照叶子的权重大小对目标函数施加惩罚的系数,其实就是正则项系数,$\\lambda$默认是1,$\\alpha$是0,因此xgboost默认使用的L2正则化,通常来说我们不会同时使用两个正则化,但是可以尝试,通过调整$\\lambda$和$\\alpha$可以空值过拟合,"
   ]
  },
  {
   "cell_type": "code",
   "execution_count": null,
   "id": "f619fdc9",
   "metadata": {
    "ExecuteTime": {
     "end_time": "2024-12-05T06:31:36.812540Z",
     "start_time": "2024-12-05T06:31:34.758384Z"
    }
   },
   "outputs": [],
   "source": [
    "import pandas as pd\n",
    "import numpy as np\n",
    "import matplotlib\n",
    "import matplotlib.pyplot as plt\n",
    "import sys\n",
    "print('Python version:', sys.version)\n",
    "print('Pandas version:', pd.__version__)\n",
    "print('Numpy version:', np.__version__)\n",
    "print('Matplotlib version:', matplotlib.__version__)"
   ]
  },
  {
   "cell_type": "code",
   "execution_count": null,
   "id": "dba150a9",
   "metadata": {
    "ExecuteTime": {
     "end_time": "2024-12-05T02:37:30.837452Z",
     "start_time": "2024-12-05T02:37:30.777588Z"
    }
   },
   "outputs": [],
   "source": [
    "data = pd.read_csv('./data/train_encode.csv')\n",
    "X = data.iloc[:,:-1]\n",
    "y = data.iloc[:,-1]\n",
    "data_xgb = xgb.DMatrix(X, y)"
   ]
  },
  {
   "cell_type": "code",
   "execution_count": null,
   "id": "9bfe240e",
   "metadata": {
    "ExecuteTime": {
     "end_time": "2024-12-05T02:40:23.553592Z",
     "start_time": "2024-12-05T02:40:21.176910Z"
    }
   },
   "outputs": [],
   "source": [
    "params = {\"max_depth\":5,'seed': 1210}\n",
    "\n",
    "result = xgb.cv(params, data_xgb, num_boost_round=100, nfold=5, seed=1210)"
   ]
  },
  {
   "cell_type": "code",
   "execution_count": null,
   "id": "cf3a0932",
   "metadata": {
    "ExecuteTime": {
     "end_time": "2024-12-05T02:42:05.636591Z",
     "start_time": "2024-12-05T02:42:05.630312Z"
    }
   },
   "outputs": [],
   "source": [
    "def overfitcheck(result):\n",
    "    # 返回训练误差和验证误差的最小值,就可以帮助我们识别模型的过拟合程度\n",
    "    return (result.iloc[-1,2] - result.iloc[-1,0])"
   ]
  },
  {
   "cell_type": "code",
   "execution_count": null,
   "id": "e640263b",
   "metadata": {
    "ExecuteTime": {
     "end_time": "2024-12-05T02:59:57.866259Z",
     "start_time": "2024-12-05T02:56:20.553924Z"
    }
   },
   "outputs": [],
   "source": [
    "train = []\n",
    "test = []\n",
    "gamma = np.arange(0,100,1)\n",
    "overfit = []\n",
    "\n",
    "for i in gamma:\n",
    "    params =  {\"max_depth\":5,'seed': 1210, 'gamma':float(i)}\n",
    "    result = xgb.cv(params, data_xgb, num_boost_round=100, nfold=5, seed=1210)\n",
    "    overfit.append(overfitcheck(result))\n",
    "    train.append(result.iloc[-1,0])\n",
    "    test.append(result.iloc[-1,2])"
   ]
  },
  {
   "cell_type": "code",
   "execution_count": null,
   "id": "469aba11",
   "metadata": {
    "ExecuteTime": {
     "end_time": "2024-12-05T03:01:02.809115Z",
     "start_time": "2024-12-05T03:01:00.436308Z"
    }
   },
   "outputs": [],
   "source": [
    "plt.figure(figsize=(12,7),dpi=1200)\n",
    "plt.plot(gamma, overfit)\n",
    "plt.plot(gamma, train) # 训练集误差分数\n",
    "plt.plot(gamma,test) # 测试集误差分数\n",
    "plt.xlabel('Gamma Value')\n",
    "plt.ylabel('Overfit Measure')\n",
    "plt.title('Effect of Gamma on Overfitting')\n",
    "plt.show()"
   ]
  },
  {
   "cell_type": "markdown",
   "id": "4c42cd63",
   "metadata": {},
   "source": [
    "### 调整gamma的大小,检测范围"
   ]
  },
  {
   "cell_type": "code",
   "execution_count": null,
   "id": "2f265ba3",
   "metadata": {
    "ExecuteTime": {
     "end_time": "2024-12-05T03:05:46.272989Z",
     "start_time": "2024-12-05T03:05:30.083002Z"
    }
   },
   "outputs": [],
   "source": [
    "train = []\n",
    "test = []\n",
    "gamma = np.arange(0,1000000,100000)\n",
    "overfit = []\n",
    "\n",
    "for i in gamma:\n",
    "    params =  {\"max_depth\":5,'seed': 1210, 'gamma':float(i)}\n",
    "    result = xgb.cv(params, data_xgb, num_boost_round=100, nfold=5, seed=1210)\n",
    "    overfit.append(overfitcheck(result))\n",
    "    train.append(result.iloc[-1,0])\n",
    "    test.append(result.iloc[-1,2])"
   ]
  },
  {
   "cell_type": "code",
   "execution_count": null,
   "id": "5623fe97",
   "metadata": {
    "ExecuteTime": {
     "end_time": "2024-12-05T03:05:49.397971Z",
     "start_time": "2024-12-05T03:05:46.274992Z"
    }
   },
   "outputs": [],
   "source": [
    "plt.figure(figsize=(12,7),dpi=1200)\n",
    "plt.plot(gamma, overfit)\n",
    "plt.xlabel('Gamma Value')\n",
    "plt.ylabel('Overfit Measure')\n",
    "plt.title('Effect of Gamma on Overfitting')\n",
    "plt.show()"
   ]
  },
  {
   "cell_type": "markdown",
   "id": "03bc19be",
   "metadata": {},
   "source": [
    "对于gamma来说,如果树都结构不是很复杂,建议先对gamma的敏感程度进行一个探索,这里gamma参数显然是不敏感的,\n",
    "\n",
    "当标签值较大,因此预测的标签值也较大,这时候,lambda可能会更敏感一点."
   ]
  },
  {
   "cell_type": "code",
   "execution_count": null,
   "id": "e99f2022",
   "metadata": {
    "ExecuteTime": {
     "end_time": "2024-12-05T03:09:51.309686Z",
     "start_time": "2024-12-05T03:09:18.448566Z"
    }
   },
   "outputs": [],
   "source": [
    "train = []\n",
    "test = []\n",
    "lambda_ = np.arange(0,2,0.1)\n",
    "overfit = []\n",
    "\n",
    "for i in lambda_:\n",
    "    params =  {\"max_depth\":5,'seed': 1210, 'lambda':float(i)}\n",
    "    result = xgb.cv(params, data_xgb, num_boost_round=100, nfold=5, seed=1210)\n",
    "    overfit.append(overfitcheck(result))\n",
    "    train.append(result.iloc[-1,0])\n",
    "    test.append(result.iloc[-1,2])"
   ]
  },
  {
   "cell_type": "code",
   "execution_count": null,
   "id": "a97fb04f",
   "metadata": {
    "ExecuteTime": {
     "end_time": "2024-12-05T03:10:00.366560Z",
     "start_time": "2024-12-05T03:09:57.361535Z"
    }
   },
   "outputs": [],
   "source": [
    "plt.figure(figsize=(12,7),dpi=1200)\n",
    "plt.plot(lambda_, overfit)\n",
    "plt.xlabel('lambda Value')\n",
    "plt.ylabel('Overfit Measure')\n",
    "plt.title('Effect of lambda on Overfitting')\n",
    "plt.show()"
   ]
  },
  {
   "cell_type": "code",
   "execution_count": null,
   "id": "8116290a",
   "metadata": {
    "ExecuteTime": {
     "end_time": "2024-12-05T03:10:27.785383Z",
     "start_time": "2024-12-05T03:10:27.781572Z"
    }
   },
   "outputs": [],
   "source": [
    "min(overfit)"
   ]
  },
  {
   "cell_type": "markdown",
   "id": "c5d7665f",
   "metadata": {},
   "source": [
    "## 若评估器参数"
   ]
  },
  {
   "cell_type": "code",
   "execution_count": null,
   "id": "2e40bd6b",
   "metadata": {
    "ExecuteTime": {
     "end_time": "2024-12-05T06:32:56.822923Z",
     "start_time": "2024-12-05T06:32:53.535800Z"
    }
   },
   "outputs": [],
   "source": [
    "import pandas as pd\n",
    "import numpy as np\n",
    "import matplotlib\n",
    "import matplotlib.pyplot as plt\n",
    "import sys\n",
    "print('Python version:', sys.version)\n",
    "print('Pandas version:', pd.__version__)\n",
    "print('Numpy version:', np.__version__)\n",
    "print('Matplotlib version:', matplotlib.__version__)\n",
    "from rich import print\n",
    "from sklearn.metrics import confusion_matrix\n",
    "from sklearn.metrics import accuracy_score as acc # 返回准确率\n",
    "from sklearn.metrics import classification_report\n",
    "from sklearn.metrics import log_loss # 当返回是概率时,可以使用交叉熵损失\n",
    "import seaborn as sns\n",
    "import xgboost as xgb\n",
    "from xgboost import XGBRegressor #\n",
    "data = pd.read_csv('./data/train_encode.csv')\n",
    "X = data.iloc[:,:-1]\n",
    "y = data.iloc[:,-1]\n",
    "data_xgb = xgb.DMatrix(X, y)"
   ]
  },
  {
   "cell_type": "markdown",
   "id": "b2001be3",
   "metadata": {},
   "source": [
    "- booster:(booster| booster): 使用那种若评估器\n",
    "    - 'gbtree': 遵循XGBoost规则的CART决策树.\n",
    "    - 'dart': 抛弃提升树,原理在建立树都过程当中,我们随机抛弃一些树都结果,可以防止过你和,数据量巨大的时候,可以用\n",
    "    - 'gblinear': 表示使用线性模型,当若评估器是'gblinear'而损失函数是MSE时,表示使用xgboost方法来集成线性回归模型.损失是分类交叉熵损失时,则代表使用xgboost来集成逻辑回归模型.\n",
    "    \n",
    " - rate_drop: 设置0.3表示有30%的树会被抛弃,智能填写0-1之间的浮点树,只有当booster参数设置为dart时才可用\n",
    " - one_drop: 每一轮迭代至少有one_drop棵树会被抛弃.\n",
    " - skip_drop: 每一轮迭代可以不执行droupout的概率,即使设置booster为dart那么每轮迭代,依旧会以skip_drop的概率不执行Dropout\n",
    " \n",
    " - sample_type: 抛弃时采用的抽样方法.\n",
    "     - unifrom:表示均匀的不放回抽样\n",
    "     - weighted: 表示按没棵树都权重进行不放会抽样.\n",
    " - normalize_type: 增加新树是,赋予新树都权重,\n",
    "     - tree: 表示新生成的树都权重等于所有被抛弃树都权重的均值\n",
    "     - forest: 表示新生存的树权重等于所有被抛弃树都权重之和.,"
   ]
  },
  {
   "cell_type": "code",
   "execution_count": null,
   "id": "fa7d0d38",
   "metadata": {
    "ExecuteTime": {
     "end_time": "2024-12-05T06:52:25.074486Z",
     "start_time": "2024-12-05T06:52:12.228384Z"
    }
   },
   "outputs": [],
   "source": [
    "params_dart = {'max_depth':5, \"seed\":1210, 'eta':0.2,\n",
    "              'booster':'dart','sample_type':'uniform',\n",
    "               'normalize_type':'tree',\n",
    "               'rate_drop': 0.2,\n",
    "               'skip_drop':0.5,\n",
    "              }\n",
    "result_dart = xgb.cv(params_dart,data_xgb, num_boost_round=100, nfold=5, seed=1210)"
   ]
  },
  {
   "cell_type": "code",
   "execution_count": null,
   "id": "bdc39602",
   "metadata": {
    "ExecuteTime": {
     "end_time": "2024-12-05T06:53:05.025238Z",
     "start_time": "2024-12-05T06:53:05.020614Z"
    }
   },
   "outputs": [],
   "source": [
    "def overfitcheck(result):\n",
    "    # 返回训练误差和验证误差的最小值,就可以帮助我们识别模型的过拟合程度\n",
    "    return (result.iloc[-1,2] - result.iloc[-1,0])"
   ]
  },
  {
   "cell_type": "code",
   "execution_count": null,
   "id": "078e0329",
   "metadata": {
    "ExecuteTime": {
     "end_time": "2024-12-05T06:53:25.593164Z",
     "start_time": "2024-12-05T06:53:25.583020Z"
    }
   },
   "outputs": [],
   "source": [
    "overfitcheck(result_dart)"
   ]
  },
  {
   "cell_type": "markdown",
   "id": "6ee7188a",
   "metadata": {},
   "source": [
    "### 空值复杂度-若评估器的剪枝"
   ]
  },
  {
   "cell_type": "markdown",
   "id": "6c047d7f",
   "metadata": {},
   "source": [
    "- max_depth: 树都最大深度,默认是6,在对抗过拟合方向影响不是很大.\n",
    "- min_child_weight: 简单理解: 任意节点上所允许的样本数量,参数越大模型越不容易过你和,同时学习能力也会变得很弱.\n",
    "- subsample: 对样本进行抽样的比例,默认是1, 需要注意的是,这里抽样是默认采用不放回抽样,\n",
    "- sampling_method: 选择抽样方法,\n",
    "    - unifrom: 均匀抽样,map个样本被周到的概括是一致的\n",
    "    - gradient_basedm 表示有权重的抽样\n",
    "    \n",
    "- colsample_bytree: 特征抽样 发生在建树之前,\n",
    "- colsample_bylevel: 生长出新一棵树之间有colsample_bylevel抽样,\n",
    "- colsample__bynode: 每个分支节点前,"
   ]
  },
  {
   "cell_type": "markdown",
   "id": "f31fde34",
   "metadata": {},
   "source": [
    "其他参数和方法:\n",
    "    \n",
    "-  early_stoppiong_rounds(): 如果规定的评估指标不能连续early_stoppiong_round次迭代其他省,那就 提前触发停止\n",
    "- verbosity: 用于打印训练流程和测试结果都参数,\n",
    "- scale_pos_weight: 调节样本不均衡的参数, (负样本总量/正样本总量)类似这样的值,正负样本的比例\n",
    "- nthread: 允许并行度最大线程,默认最大,\n",
    "- device: 使用GPU进行训练,\n"
   ]
  },
  {
   "cell_type": "markdown",
   "id": "d3f09c06",
   "metadata": {},
   "source": [
    "## XGBoost的参数空间与超参数优化"
   ]
  },
  {
   "cell_type": "markdown",
   "id": "87c8112a",
   "metadata": {},
   "source": [
    "gamma: 75万左右有影响,\n",
    "lambda: 1.5-1.6  (0-2,0.1)"
   ]
  },
  {
   "cell_type": "code",
   "execution_count": 1,
   "id": "832688b5",
   "metadata": {
    "ExecuteTime": {
     "end_time": "2024-12-05T07:48:26.076567Z",
     "start_time": "2024-12-05T07:48:24.695113Z"
    }
   },
   "outputs": [
    {
     "name": "stdout",
     "output_type": "stream",
     "text": [
      "Python version: 3.12.3 | packaged by conda-forge | (main, Apr 15 2024, 18:20:11) [MSC v.1938 64 bit (AMD64)]\n",
      "Pandas version: 2.2.2\n",
      "Numpy version: 1.26.4\n",
      "Matplotlib version: 3.8.4\n"
     ]
    }
   ],
   "source": [
    "import pandas as pd\n",
    "import numpy as np\n",
    "import matplotlib\n",
    "import matplotlib.pyplot as plt\n",
    "import sys\n",
    "print('Python version:', sys.version)\n",
    "print('Pandas version:', pd.__version__)\n",
    "print('Numpy version:', np.__version__)\n",
    "print('Matplotlib version:', matplotlib.__version__)\n",
    "from rich import print\n",
    "from sklearn.metrics import confusion_matrix\n",
    "from sklearn.metrics import accuracy_score as acc # 返回准确率\n",
    "from sklearn.metrics import classification_report\n",
    "from sklearn.metrics import log_loss # 当返回是概率时,可以使用交叉熵损失\n",
    "import seaborn as sns\n",
    "import xgboost as xgb\n",
    "from xgboost import XGBRegressor #\n",
    "data = pd.read_csv('./data/train_encode.csv')\n",
    "X = data.iloc[:,:-1]\n",
    "y = data.iloc[:,-1]\n",
    "data_xgb = xgb.DMatrix(X, y)"
   ]
  },
  {
   "cell_type": "code",
   "execution_count": 2,
   "id": "eaa47cd8",
   "metadata": {
    "ExecuteTime": {
     "end_time": "2024-12-05T07:48:27.898529Z",
     "start_time": "2024-12-05T07:48:27.894476Z"
    }
   },
   "outputs": [],
   "source": [
    "\n",
    "def overfitcheck(result):\n",
    "    # 返回训练误差和验证误差的最小值,就可以帮助我们识别模型的过拟合程度\n",
    "    return (result.iloc[-1,2] - result.iloc[-1,0])"
   ]
  },
  {
   "cell_type": "code",
   "execution_count": 3,
   "id": "ed6cfa06",
   "metadata": {
    "ExecuteTime": {
     "end_time": "2024-12-05T07:49:03.666306Z",
     "start_time": "2024-12-05T07:48:35.171151Z"
    }
   },
   "outputs": [],
   "source": [
    "train = []\n",
    "test = []\n",
    "option = np.arange(10,200,10)\n",
    "overfit = []\n",
    "\n",
    "for i in option:\n",
    "    params = {'max_depth': 5, 'seed':1210}\n",
    "    result = xgb.cv(params, data_xgb, num_boost_round=i, nfold=5, seed=1210)\n",
    "    overfit.append(overfitcheck(result))\n",
    "    train.append(result.iloc[-1,0])\n",
    "    test.append(result.iloc[-1,2])"
   ]
  },
  {
   "cell_type": "code",
   "execution_count": 10,
   "id": "09a33beb",
   "metadata": {
    "ExecuteTime": {
     "end_time": "2024-12-05T07:52:12.327707Z",
     "start_time": "2024-12-05T07:52:12.230173Z"
    }
   },
   "outputs": [
    {
     "data": {
      "image/png": "[encoded data removed]",
      "text/plain": [
       "<Figure size 1200x700 with 1 Axes>"
      ]
     },
     "metadata": {},
     "output_type": "display_data"
    }
   ],
   "source": [
    "plt.figure(figsize=(12,7),dpi=100)\n",
    "plt.plot(option,test, label='Test')\n",
    "# plt.plot(option,train, label='Train')\n",
    "plt.legend()\n",
    "plt.show()"
   ]
  },
  {
   "cell_type": "markdown",
   "id": "0e3a7cd4",
   "metadata": {},
   "source": [
    "num_boost_round: range(100,200,10)\n",
    "\n",
    "gamma: 75万左右有影响, \n",
    "\n",
    "lambda_:  (0-2,0.1)\n",
    "\n",
    "mind_child_weight: [0,40,2]\n",
    "\n",
    "booster: [gbtree, dart]\n",
    "\n",
    "rate_drop: (0.1,1,0.1)\n",
    "\n",
    "subsample: (0.1,1,0.1)\n",
    "\n",
    "max_depth: (2,10,1)\n",
    "\n",
    "colsample_bytree: (0.1,1,0.1)\n",
    "\n",
    "colsample__bynode:(0.1,1,0.1)"
   ]
  },
  {
   "cell_type": "code",
   "execution_count": 16,
   "id": "58317f01",
   "metadata": {
    "ExecuteTime": {
     "end_time": "2024-12-05T08:01:31.215998Z",
     "start_time": "2024-12-05T08:01:31.211519Z"
    }
   },
   "outputs": [
    {
     "data": {
      "text/plain": [
       "20"
      ]
     },
     "execution_count": 16,
     "metadata": {},
     "output_type": "execute_result"
    }
   ],
   "source": [
    "option = np.arange(0.05,2.05,0.1)\n",
    "len(option)"
   ]
  },
  {
   "cell_type": "code",
   "execution_count": 20,
   "id": "5e4f4479",
   "metadata": {
    "ExecuteTime": {
     "end_time": "2024-12-05T08:04:59.470808Z",
     "start_time": "2024-12-05T08:04:30.534252Z"
    }
   },
   "outputs": [],
   "source": [
    "train = []\n",
    "test = []\n",
    "option = np.arange(2,10,1)\n",
    "overfit = []\n",
    "\n",
    "for i in option:\n",
    "    params = {'max_depth': 5, 'seed':1210, \"min_child_weight\": i}\n",
    "    result = xgb.cv(params, data_xgb, num_boost_round=100, nfold=5, seed=1210)\n",
    "    overfit.append(overfitcheck(result))\n",
    "    train.append(result.iloc[-1,0])\n",
    "    test.append(result.iloc[-1,2])"
   ]
  },
  {
   "cell_type": "code",
   "execution_count": 21,
   "id": "1fd524c4",
   "metadata": {
    "ExecuteTime": {
     "end_time": "2024-12-05T08:05:39.070133Z",
     "start_time": "2024-12-05T08:05:38.973310Z"
    }
   },
   "outputs": [
    {
     "data": {
      "image/png": "[encoded data removed]",
      "text/plain": [
       "<Figure size 1200x700 with 1 Axes>"
      ]
     },
     "metadata": {},
     "output_type": "display_data"
    }
   ],
   "source": [
    "plt.figure(figsize=(12,7),dpi=100)\n",
    "plt.plot(option,test, label='Test')\n",
    "# plt.plot(option,train, label='Train')\n",
    "plt.legend()\n",
    "plt.show()"
   ]
  },
  {
   "cell_type": "markdown",
   "id": "c8443564",
   "metadata": {},
   "source": [
    "## 基于TEP对XGBoost进行超参数优化"
   ]
  },
  {
   "cell_type": "code",
   "execution_count": 23,
   "id": "d0b62643",
   "metadata": {
    "ExecuteTime": {
     "end_time": "2024-12-05T08:09:24.132501Z",
     "start_time": "2024-12-05T08:09:24.091257Z"
    }
   },
   "outputs": [],
   "source": [
    "import hyperopt\n",
    "from hyperopt import hp, fmin, tpe, Trials, partial\n",
    "from hyperopt.early_stop import no_progress_loss\n",
    "data = pd.read_csv('./data/train_encode.csv')\n",
    "X = data.iloc[:,:-1]\n",
    "y = data.iloc[:,-1]\n",
    "data_xgb = xgb.DMatrix(X, y)"
   ]
  },
  {
   "cell_type": "markdown",
   "id": "ee4d0402",
   "metadata": {},
   "source": [
    "### 定义目标函数"
   ]
  },
  {
   "cell_type": "code",
   "execution_count": 51,
   "id": "57a0dc27",
   "metadata": {
    "ExecuteTime": {
     "end_time": "2024-12-05T09:00:27.830924Z",
     "start_time": "2024-12-05T09:00:27.826774Z"
    }
   },
   "outputs": [],
   "source": [
    "# 目标函数\n",
    "def hyperopt_objective(params):\n",
    "    paramsforxgb={\n",
    "        'eta':params['eta'],\n",
    "        'colsample_bytree':params['colsample_bytree'],\n",
    "        'colsample_bynode':params['colsample_bynode'],\n",
    "        'gamma':params['gamma'],\n",
    "        'lambda':params['lambda'],\n",
    "        'mind_child_weight':params['mind_child_weight'],\n",
    "        'max_depth':params['max_depth'],\n",
    "        'subsample':params['subsample'],\n",
    "        'rate_drop':params['rate_drop'],\n",
    "        'booster': 'dart',\n",
    "        'verbosity':False,\n",
    "        'seed':1412,\n",
    "    }\n",
    "    result = xgb.cv(paramsforxgb,data_xgb,metrics=('rmse'),\n",
    "            num_boost_round = int(params['num_boost_round']),\n",
    "                   )\n",
    "    return result.iloc[-1,2]"
   ]
  },
  {
   "cell_type": "markdown",
   "id": "75a57cb5",
   "metadata": {},
   "source": [
    "### 参数空间"
   ]
  },
  {
   "cell_type": "code",
   "execution_count": 61,
   "id": "7363c265",
   "metadata": {
    "ExecuteTime": {
     "end_time": "2024-12-05T09:45:58.548692Z",
     "start_time": "2024-12-05T09:45:58.544536Z"
    }
   },
   "outputs": [],
   "source": [
    "import warnings\n",
    "\n",
    "# 忽略所有警告\n",
    "warnings.filterwarnings('ignore')\n",
    "params = {\n",
    "    'num_boost_round': hp.quniform('num_boost_round',150,200,10),\n",
    "    \"eta\":hp.quniform('eta',0.8,2.1,0.1),\n",
    "    \"colsample_bytree\": hp.quniform('colsample_bytree',0.4,0.8,0.2),\n",
    "    \"colsample_bynode\":hp.quniform('colsample_bynode', 0.4, 0.8,0.2),\n",
    "    'gamma':hp.quniform('gamma',5e6,8e6,5e5),\n",
    "    'lambda': hp.quniform('lambda',0.0,1.2,0.2),\n",
    "    'mind_child_weight':hp.quniform('mind_child_weight',0,24,2),\n",
    "    'subsample': hp.quniform('subsample',0.1,1.0,0.2),\n",
    "    'rate_drop': hp.quniform('rate_drop',0.1,1.0,0.2),\n",
    "    'max_depth':5,\n",
    "         }"
   ]
  },
  {
   "cell_type": "markdown",
   "id": "b1721b02",
   "metadata": {},
   "source": [
    "### 优化函数"
   ]
  },
  {
   "cell_type": "code",
   "execution_count": 62,
   "id": "7fad5e99",
   "metadata": {
    "ExecuteTime": {
     "end_time": "2024-12-05T09:46:01.287717Z",
     "start_time": "2024-12-05T09:46:01.283194Z"
    }
   },
   "outputs": [],
   "source": [
    "def param_hyperopt(max_evals=100):\n",
    "    trials = Trials()\n",
    "    early_stop_fn = no_progress_loss(30)\n",
    "    params_best = fmin(hyperopt_objective,\n",
    "                      space=params,\n",
    "                       algo=tpe.suggest,\n",
    "                       max_evals=max_evals,\n",
    "                       verbose=True,\n",
    "                       trials=trials,\n",
    "                       early_stop_fn=early_stop_fn,\n",
    "                      )\n",
    "    print(f\"best_params: {params_best}\")\n",
    "    return params_best, trials"
   ]
  },
  {
   "cell_type": "markdown",
   "id": "61573841",
   "metadata": {},
   "source": [
    "### 训练贝叶斯优化器"
   ]
  },
  {
   "cell_type": "code",
   "execution_count": 57,
   "id": "28726f05",
   "metadata": {
    "ExecuteTime": {
     "end_time": "2024-12-05T09:25:02.664493Z",
     "start_time": "2024-12-05T09:02:25.974442Z"
    }
   },
   "outputs": [
    {
     "name": "stdout",
     "output_type": "stream",
     "text": [
      "100%|████████████████████████████████████████████████████████████████████| 100/100 [22:36<00:00, 13.57s/trial, best loss: 26649.80958058425]\n"
     ]
    },
    {
     "data": {
      "text/html": [
       "<pre style=\"white-space:pre;overflow-x:auto;line-height:normal;font-family:Menlo,'DejaVu Sans Mono',consolas,'Courier New',monospace\">best_params: <span style=\"font-weight: bold\">{</span><span style=\"color: #008000; text-decoration-color: #008000\">'colsample_bynode'</span>: <span style=\"color: #008080; text-decoration-color: #008080; font-weight: bold\">1.0</span>, <span style=\"color: #008000; text-decoration-color: #008000\">'colsample_bytree'</span>: <span style=\"color: #008080; text-decoration-color: #008080; font-weight: bold\">0.4</span>, <span style=\"color: #008000; text-decoration-color: #008000\">'eta'</span>: <span style=\"color: #008080; text-decoration-color: #008080; font-weight: bold\">0.8</span>, <span style=\"color: #008000; text-decoration-color: #008000\">'gamma'</span>: <span style=\"color: #008080; text-decoration-color: #008080; font-weight: bold\">5000000.0</span>, <span style=\"color: #008000; text-decoration-color: #008000\">'lambda'</span>: <span style=\"color: #008080; text-decoration-color: #008080; font-weight: bold\">0.0</span>, \n",
       "<span style=\"color: #008000; text-decoration-color: #008000\">'max_deptj'</span>: <span style=\"color: #008080; text-decoration-color: #008080; font-weight: bold\">5</span>, <span style=\"color: #008000; text-decoration-color: #008000\">'mind_child_weight'</span>: <span style=\"color: #008080; text-decoration-color: #008080; font-weight: bold\">4.0</span>, <span style=\"color: #008000; text-decoration-color: #008000\">'num_boost_round'</span>: <span style=\"color: #008080; text-decoration-color: #008080; font-weight: bold\">200.0</span>, <span style=\"color: #008000; text-decoration-color: #008000\">'rate_drop'</span>: <span style=\"color: #008080; text-decoration-color: #008080; font-weight: bold\">0.2</span>, <span style=\"color: #008000; text-decoration-color: #008000\">'subsample'</span>: <span style=\"color: #008080; text-decoration-color: #008080; font-weight: bold\">1.0</span><span style=\"font-weight: bold\">}</span>\n",
       "</pre>\n"
      ],
      "text/plain": [
       "best_params: \u001b[1m{\u001b[0m\u001b[32m'colsample_bynode'\u001b[0m: \u001b[1;36m1.0\u001b[0m, \u001b[32m'colsample_bytree'\u001b[0m: \u001b[1;36m0.4\u001b[0m, \u001b[32m'eta'\u001b[0m: \u001b[1;36m0.8\u001b[0m, \u001b[32m'gamma'\u001b[0m: \u001b[1;36m5000000.0\u001b[0m, \u001b[32m'lambda'\u001b[0m: \u001b[1;36m0.0\u001b[0m, \n",
       "\u001b[32m'max_deptj'\u001b[0m: \u001b[1;36m5\u001b[0m, \u001b[32m'mind_child_weight'\u001b[0m: \u001b[1;36m4.0\u001b[0m, \u001b[32m'num_boost_round'\u001b[0m: \u001b[1;36m200.0\u001b[0m, \u001b[32m'rate_drop'\u001b[0m: \u001b[1;36m0.2\u001b[0m, \u001b[32m'subsample'\u001b[0m: \u001b[1;36m1.0\u001b[0m\u001b[1m}\u001b[0m\n"
      ]
     },
     "metadata": {},
     "output_type": "display_data"
    }
   ],
   "source": [
    "params_best, trials = param_hyperopt(100)"
   ]
  },
  {
   "cell_type": "code",
   "execution_count": 60,
   "id": "194e3984",
   "metadata": {
    "ExecuteTime": {
     "end_time": "2024-12-05T09:44:11.840227Z",
     "start_time": "2024-12-05T09:28:33.964869Z"
    }
   },
   "outputs": [
    {
     "name": "stdout",
     "output_type": "stream",
     "text": [
      " 30%|████████████████████▋                                               | 61/200 [15:37<35:37, 15.37s/trial, best loss: 27053.656185817526]\n"
     ]
    },
    {
     "data": {
      "text/html": [
       "<pre style=\"white-space:pre;overflow-x:auto;line-height:normal;font-family:Menlo,'DejaVu Sans Mono',consolas,'Courier New',monospace\">best_params: <span style=\"font-weight: bold\">{</span><span style=\"color: #008000; text-decoration-color: #008000\">'colsample_bynode'</span>: <span style=\"color: #008080; text-decoration-color: #008080; font-weight: bold\">0.6000000000000001</span>, <span style=\"color: #008000; text-decoration-color: #008000\">'colsample_bytree'</span>: <span style=\"color: #008080; text-decoration-color: #008080; font-weight: bold\">0.4</span>, <span style=\"color: #008000; text-decoration-color: #008000\">'eta'</span>: <span style=\"color: #008080; text-decoration-color: #008080; font-weight: bold\">1.2000000000000002</span>, <span style=\"color: #008000; text-decoration-color: #008000\">'gamma'</span>: \n",
       "<span style=\"color: #008080; text-decoration-color: #008080; font-weight: bold\">9500000.0</span>, <span style=\"color: #008000; text-decoration-color: #008000\">'lambda'</span>: <span style=\"color: #008080; text-decoration-color: #008080; font-weight: bold\">1.0</span>, <span style=\"color: #008000; text-decoration-color: #008000\">'mind_child_weight'</span>: <span style=\"color: #008080; text-decoration-color: #008080; font-weight: bold\">22.0</span>, <span style=\"color: #008000; text-decoration-color: #008000\">'num_boost_round'</span>: <span style=\"color: #008080; text-decoration-color: #008080; font-weight: bold\">180.0</span>, <span style=\"color: #008000; text-decoration-color: #008000\">'rate_drop'</span>: <span style=\"color: #008080; text-decoration-color: #008080; font-weight: bold\">0.2</span>, <span style=\"color: #008000; text-decoration-color: #008000\">'subsample'</span>: <span style=\"color: #008080; text-decoration-color: #008080; font-weight: bold\">0.8</span><span style=\"font-weight: bold\">}</span>\n",
       "</pre>\n"
      ],
      "text/plain": [
       "best_params: \u001b[1m{\u001b[0m\u001b[32m'colsample_bynode'\u001b[0m: \u001b[1;36m0.6000000000000001\u001b[0m, \u001b[32m'colsample_bytree'\u001b[0m: \u001b[1;36m0.4\u001b[0m, \u001b[32m'eta'\u001b[0m: \u001b[1;36m1.2000000000000002\u001b[0m, \u001b[32m'gamma'\u001b[0m: \n",
       "\u001b[1;36m9500000.0\u001b[0m, \u001b[32m'lambda'\u001b[0m: \u001b[1;36m1.0\u001b[0m, \u001b[32m'mind_child_weight'\u001b[0m: \u001b[1;36m22.0\u001b[0m, \u001b[32m'num_boost_round'\u001b[0m: \u001b[1;36m180.0\u001b[0m, \u001b[32m'rate_drop'\u001b[0m: \u001b[1;36m0.2\u001b[0m, \u001b[32m'subsample'\u001b[0m: \u001b[1;36m0.8\u001b[0m\u001b[1m}\u001b[0m\n"
      ]
     },
     "metadata": {},
     "output_type": "display_data"
    }
   ],
   "source": [
    "params_best, trials = param_hyperopt(200)"
   ]
  },
  {
   "cell_type": "code",
   "execution_count": 63,
   "id": "2acad1c5",
   "metadata": {
    "ExecuteTime": {
     "end_time": "2024-12-05T10:06:29.302514Z",
     "start_time": "2024-12-05T09:46:09.699829Z"
    }
   },
   "outputs": [
    {
     "name": "stdout",
     "output_type": "stream",
     "text": [
      " 38%|██████████████████████████▏                                         | 77/200 [20:19<32:28, 15.84s/trial, best loss: 26967.181069050446]\n"
     ]
    },
    {
     "data": {
      "text/html": [
       "<pre style=\"white-space:pre;overflow-x:auto;line-height:normal;font-family:Menlo,'DejaVu Sans Mono',consolas,'Courier New',monospace\">best_params: <span style=\"font-weight: bold\">{</span><span style=\"color: #008000; text-decoration-color: #008000\">'colsample_bynode'</span>: <span style=\"color: #008080; text-decoration-color: #008080; font-weight: bold\">0.4</span>, <span style=\"color: #008000; text-decoration-color: #008000\">'colsample_bytree'</span>: <span style=\"color: #008080; text-decoration-color: #008080; font-weight: bold\">0.6000000000000001</span>, <span style=\"color: #008000; text-decoration-color: #008000\">'eta'</span>: <span style=\"color: #008080; text-decoration-color: #008080; font-weight: bold\">1.8</span>, <span style=\"color: #008000; text-decoration-color: #008000\">'gamma'</span>: <span style=\"color: #008080; text-decoration-color: #008080; font-weight: bold\">6500000.0</span>, \n",
       "<span style=\"color: #008000; text-decoration-color: #008000\">'lambda'</span>: <span style=\"color: #008080; text-decoration-color: #008080; font-weight: bold\">0.4</span>, <span style=\"color: #008000; text-decoration-color: #008000\">'mind_child_weight'</span>: <span style=\"color: #008080; text-decoration-color: #008080; font-weight: bold\">16.0</span>, <span style=\"color: #008000; text-decoration-color: #008000\">'num_boost_round'</span>: <span style=\"color: #008080; text-decoration-color: #008080; font-weight: bold\">180.0</span>, <span style=\"color: #008000; text-decoration-color: #008000\">'rate_drop'</span>: <span style=\"color: #008080; text-decoration-color: #008080; font-weight: bold\">0.2</span>, <span style=\"color: #008000; text-decoration-color: #008000\">'subsample'</span>: <span style=\"color: #008080; text-decoration-color: #008080; font-weight: bold\">1.0</span><span style=\"font-weight: bold\">}</span>\n",
       "</pre>\n"
      ],
      "text/plain": [
       "best_params: \u001b[1m{\u001b[0m\u001b[32m'colsample_bynode'\u001b[0m: \u001b[1;36m0.4\u001b[0m, \u001b[32m'colsample_bytree'\u001b[0m: \u001b[1;36m0.6000000000000001\u001b[0m, \u001b[32m'eta'\u001b[0m: \u001b[1;36m1.8\u001b[0m, \u001b[32m'gamma'\u001b[0m: \u001b[1;36m6500000.0\u001b[0m, \n",
       "\u001b[32m'lambda'\u001b[0m: \u001b[1;36m0.4\u001b[0m, \u001b[32m'mind_child_weight'\u001b[0m: \u001b[1;36m16.0\u001b[0m, \u001b[32m'num_boost_round'\u001b[0m: \u001b[1;36m180.0\u001b[0m, \u001b[32m'rate_drop'\u001b[0m: \u001b[1;36m0.2\u001b[0m, \u001b[32m'subsample'\u001b[0m: \u001b[1;36m1.0\u001b[0m\u001b[1m}\u001b[0m\n"
      ]
     },
     "metadata": {},
     "output_type": "display_data"
    }
   ],
   "source": [
    "params_best, trials = param_hyperopt(200)"
   ]
  },
  {
   "cell_type": "markdown",
   "id": "5c0f08f9",
   "metadata": {
    "ExecuteTime": {
     "end_time": "2024-12-05T08:48:04.838083Z",
     "start_time": "2024-12-05T08:48:04.832712Z"
    }
   },
   "source": [
    "    'booster': hp.choice('booster',['gbtree','dart'])\n",
    "len(range(100,200,10)) * len(np.arange(0.85,2.1,0.2)) * len(np.arange(0.1,1.0,0.2)) * \\\n",
    "len(np.arange(0.1,1.0,0.2)) * len(np.arange(0.1,2.0,0.2)) * \\\n",
    "len(np.arange(0,40,2)) * len(list(range(2,11,1))) * len(np.arange(0.1,1.0,0.2)) * \\\n",
    "len(np.arange(0.1,1.0,0.1)) * 2  * len(np.arange(5e6,1.5e7,5e5)) "
   ]
  },
  {
   "cell_type": "code",
   "execution_count": 47,
   "id": "34a5a688",
   "metadata": {
    "ExecuteTime": {
     "end_time": "2024-12-05T08:52:51.624372Z",
     "start_time": "2024-12-05T08:52:51.609490Z"
    }
   },
   "outputs": [
    {
     "data": {
      "text/html": [
       "<pre style=\"white-space:pre;overflow-x:auto;line-height:normal;font-family:Menlo,'DejaVu Sans Mono',consolas,'Courier New',monospace\"><span style=\"color: #008000; text-decoration-color: #008000\">'num_boost_round'</span>:params<span style=\"font-weight: bold\">[</span><span style=\"color: #008000; text-decoration-color: #008000\">'num_boost_round'</span><span style=\"font-weight: bold\">]</span>,\n",
       "</pre>\n"
      ],
      "text/plain": [
       "\u001b[32m'num_boost_round'\u001b[0m:params\u001b[1m[\u001b[0m\u001b[32m'num_boost_round'\u001b[0m\u001b[1m]\u001b[0m,\n"
      ]
     },
     "metadata": {},
     "output_type": "display_data"
    },
    {
     "data": {
      "text/html": [
       "<pre style=\"white-space:pre;overflow-x:auto;line-height:normal;font-family:Menlo,'DejaVu Sans Mono',consolas,'Courier New',monospace\"><span style=\"color: #008000; text-decoration-color: #008000\">'eta'</span>:params<span style=\"font-weight: bold\">[</span><span style=\"color: #008000; text-decoration-color: #008000\">'eta'</span><span style=\"font-weight: bold\">]</span>,\n",
       "</pre>\n"
      ],
      "text/plain": [
       "\u001b[32m'eta'\u001b[0m:params\u001b[1m[\u001b[0m\u001b[32m'eta'\u001b[0m\u001b[1m]\u001b[0m,\n"
      ]
     },
     "metadata": {},
     "output_type": "display_data"
    },
    {
     "data": {
      "text/html": [
       "<pre style=\"white-space:pre;overflow-x:auto;line-height:normal;font-family:Menlo,'DejaVu Sans Mono',consolas,'Courier New',monospace\"><span style=\"color: #008000; text-decoration-color: #008000\">'colsample_bytree'</span>:params<span style=\"font-weight: bold\">[</span><span style=\"color: #008000; text-decoration-color: #008000\">'colsample_bytree'</span><span style=\"font-weight: bold\">]</span>,\n",
       "</pre>\n"
      ],
      "text/plain": [
       "\u001b[32m'colsample_bytree'\u001b[0m:params\u001b[1m[\u001b[0m\u001b[32m'colsample_bytree'\u001b[0m\u001b[1m]\u001b[0m,\n"
      ]
     },
     "metadata": {},
     "output_type": "display_data"
    },
    {
     "data": {
      "text/html": [
       "<pre style=\"white-space:pre;overflow-x:auto;line-height:normal;font-family:Menlo,'DejaVu Sans Mono',consolas,'Courier New',monospace\"><span style=\"color: #008000; text-decoration-color: #008000\">'colsample_bynode'</span>:params<span style=\"font-weight: bold\">[</span><span style=\"color: #008000; text-decoration-color: #008000\">'colsample_bynode'</span><span style=\"font-weight: bold\">]</span>,\n",
       "</pre>\n"
      ],
      "text/plain": [
       "\u001b[32m'colsample_bynode'\u001b[0m:params\u001b[1m[\u001b[0m\u001b[32m'colsample_bynode'\u001b[0m\u001b[1m]\u001b[0m,\n"
      ]
     },
     "metadata": {},
     "output_type": "display_data"
    },
    {
     "data": {
      "text/html": [
       "<pre style=\"white-space:pre;overflow-x:auto;line-height:normal;font-family:Menlo,'DejaVu Sans Mono',consolas,'Courier New',monospace\"><span style=\"color: #008000; text-decoration-color: #008000\">'gamma'</span>:params<span style=\"font-weight: bold\">[</span><span style=\"color: #008000; text-decoration-color: #008000\">'gamma'</span><span style=\"font-weight: bold\">]</span>,\n",
       "</pre>\n"
      ],
      "text/plain": [
       "\u001b[32m'gamma'\u001b[0m:params\u001b[1m[\u001b[0m\u001b[32m'gamma'\u001b[0m\u001b[1m]\u001b[0m,\n"
      ]
     },
     "metadata": {},
     "output_type": "display_data"
    },
    {
     "data": {
      "text/html": [
       "<pre style=\"white-space:pre;overflow-x:auto;line-height:normal;font-family:Menlo,'DejaVu Sans Mono',consolas,'Courier New',monospace\"><span style=\"color: #008000; text-decoration-color: #008000\">'lambda'</span>:params<span style=\"font-weight: bold\">[</span><span style=\"color: #008000; text-decoration-color: #008000\">'lambda'</span><span style=\"font-weight: bold\">]</span>,\n",
       "</pre>\n"
      ],
      "text/plain": [
       "\u001b[32m'lambda'\u001b[0m:params\u001b[1m[\u001b[0m\u001b[32m'lambda'\u001b[0m\u001b[1m]\u001b[0m,\n"
      ]
     },
     "metadata": {},
     "output_type": "display_data"
    },
    {
     "data": {
      "text/html": [
       "<pre style=\"white-space:pre;overflow-x:auto;line-height:normal;font-family:Menlo,'DejaVu Sans Mono',consolas,'Courier New',monospace\"><span style=\"color: #008000; text-decoration-color: #008000\">'mind_child_weight'</span>:params<span style=\"font-weight: bold\">[</span><span style=\"color: #008000; text-decoration-color: #008000\">'mind_child_weight'</span><span style=\"font-weight: bold\">]</span>,\n",
       "</pre>\n"
      ],
      "text/plain": [
       "\u001b[32m'mind_child_weight'\u001b[0m:params\u001b[1m[\u001b[0m\u001b[32m'mind_child_weight'\u001b[0m\u001b[1m]\u001b[0m,\n"
      ]
     },
     "metadata": {},
     "output_type": "display_data"
    },
    {
     "data": {
      "text/html": [
       "<pre style=\"white-space:pre;overflow-x:auto;line-height:normal;font-family:Menlo,'DejaVu Sans Mono',consolas,'Courier New',monospace\"><span style=\"color: #008000; text-decoration-color: #008000\">'max_depth'</span>:params<span style=\"font-weight: bold\">[</span><span style=\"color: #008000; text-decoration-color: #008000\">'max_depth'</span><span style=\"font-weight: bold\">]</span>,\n",
       "</pre>\n"
      ],
      "text/plain": [
       "\u001b[32m'max_depth'\u001b[0m:params\u001b[1m[\u001b[0m\u001b[32m'max_depth'\u001b[0m\u001b[1m]\u001b[0m,\n"
      ]
     },
     "metadata": {},
     "output_type": "display_data"
    },
    {
     "data": {
      "text/html": [
       "<pre style=\"white-space:pre;overflow-x:auto;line-height:normal;font-family:Menlo,'DejaVu Sans Mono',consolas,'Courier New',monospace\"><span style=\"color: #008000; text-decoration-color: #008000\">'subsample'</span>:params<span style=\"font-weight: bold\">[</span><span style=\"color: #008000; text-decoration-color: #008000\">'subsample'</span><span style=\"font-weight: bold\">]</span>,\n",
       "</pre>\n"
      ],
      "text/plain": [
       "\u001b[32m'subsample'\u001b[0m:params\u001b[1m[\u001b[0m\u001b[32m'subsample'\u001b[0m\u001b[1m]\u001b[0m,\n"
      ]
     },
     "metadata": {},
     "output_type": "display_data"
    },
    {
     "data": {
      "text/html": [
       "<pre style=\"white-space:pre;overflow-x:auto;line-height:normal;font-family:Menlo,'DejaVu Sans Mono',consolas,'Courier New',monospace\"><span style=\"color: #008000; text-decoration-color: #008000\">'rate_drop'</span>:params<span style=\"font-weight: bold\">[</span><span style=\"color: #008000; text-decoration-color: #008000\">'rate_drop'</span><span style=\"font-weight: bold\">]</span>,\n",
       "</pre>\n"
      ],
      "text/plain": [
       "\u001b[32m'rate_drop'\u001b[0m:params\u001b[1m[\u001b[0m\u001b[32m'rate_drop'\u001b[0m\u001b[1m]\u001b[0m,\n"
      ]
     },
     "metadata": {},
     "output_type": "display_data"
    }
   ],
   "source": [
    "params = {\n",
    "    'num_boost_round': hp.quniform('num_boost_round',100,200,10),\n",
    "    \"eta\":hp.quniform('eta',0.8,2.1,0.1),\n",
    "    \"colsample_bytree\": hp.quniform('colsample_bytree',0.1,1.0,0.2),\n",
    "    \"colsample_bynode\":hp.quniform('colsample_bynode', 0.1, 1.0,0.2),\n",
    "    'gamma':hp.quniform('gamma',5e6,1.5e7,5e5),\n",
    "    'lambda': hp.quniform('lambda',0.0,2.0,0.2),\n",
    "    'mind_child_weight':hp.quniform('mind_child_weight',0,40,2),\n",
    "    'max_depth': hp.choice('max_deptj',list(range(2,11,1))),\n",
    "    'subsample': hp.quniform('subsample',0.1,1.0,0.2),\n",
    "    'rate_drop': hp.quniform('rate_drop',0.1,1.0,0.2),\n",
    "         }\n",
    "\n",
    "for k,v in params.items():\n",
    "    print(f\"'{k}':params['{k}'],\")"
   ]
  },
  {
   "cell_type": "code",
   "execution_count": null,
   "id": "ebaae97b",
   "metadata": {},
   "outputs": [],
   "source": []
  }
 ],
 "metadata": {
  "kernelspec": {
   "display_name": "Python 3 (ipykernel)",
   "language": "python",
   "name": "python3"
  },
  "language_info": {
   "codemirror_mode": {
    "name": "ipython",
    "version": 3
   },
   "file_extension": ".py",
   "mimetype": "text/x-python",
   "name": "python",
   "nbconvert_exporter": "python",
   "pygments_lexer": "ipython3",
   "version": "3.12.3"
  },
  "toc": {
   "base_numbering": 1,
   "nav_menu": {},
   "number_sections": true,
   "sideBar": true,
   "skip_h1_title": false,
   "title_cell": "Table of Contents",
   "title_sidebar": "Contents",
   "toc_cell": false,
   "toc_position": {},
   "toc_section_display": true,
   "toc_window_display": false
  }
 },
 "nbformat": 4,
 "nbformat_minor": 5
}
