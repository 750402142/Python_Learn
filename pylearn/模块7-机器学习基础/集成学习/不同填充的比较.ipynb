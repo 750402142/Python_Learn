{
 "cells": [
  {
   "cell_type": "code",
   "id": "initial_id",
   "metadata": {
    "collapsed": true,
    "ExecuteTime": {
     "end_time": "2024-12-01T12:50:07.764357Z",
     "start_time": "2024-12-01T12:50:07.760858Z"
    }
   },
   "source": [
    "from sklearn.tree import DecisionTreeClassifier\n",
    "from sklearn.ensemble import RandomForestClassifier\n",
    "from sklearn.datasets import load_wine\n",
    "from sklearn.model_selection import train_test_split, cross_val_score\n",
    "import pandas as pd\n",
    "import numpy as np\n",
    "from sympy.printing.pretty.pretty_symbology import line_width"
   ],
   "outputs": [],
   "execution_count": 2
  },
  {
   "metadata": {
    "ExecuteTime": {
     "end_time": "2024-12-01T12:50:13.669999Z",
     "start_time": "2024-12-01T12:50:13.659441Z"
    }
   },
   "cell_type": "code",
   "source": [
    "raw_df = pd.read_csv('../data/boston.txt',sep=r\"\\s+\",skiprows=22,header=None)\n",
    "data = np.hstack([raw_df.values[::2,:],raw_df.values[1::2,:2]])\n",
    "target = raw_df.values[1::2,2]\n",
    "X_full,y_full = data,target"
   ],
   "id": "d9baae285115161b",
   "outputs": [],
   "execution_count": 3
  },
  {
   "metadata": {
    "ExecuteTime": {
     "end_time": "2024-12-01T12:50:25.692422Z",
     "start_time": "2024-12-01T12:50:25.689176Z"
    }
   },
   "cell_type": "code",
   "source": [
    "n_samples = X_full.shape[0]\n",
    "n_features = X_full.shape[1]"
   ],
   "id": "b86e5d3eb8f90fd6",
   "outputs": [],
   "execution_count": 4
  },
  {
   "metadata": {
    "ExecuteTime": {
     "end_time": "2024-12-01T13:16:18.243759Z",
     "start_time": "2024-12-01T13:16:18.239338Z"
    }
   },
   "cell_type": "code",
   "source": "rng = np.random.RandomState(1210)",
   "id": "d0c286146c1b346",
   "outputs": [],
   "execution_count": 5
  },
  {
   "metadata": {
    "ExecuteTime": {
     "end_time": "2024-12-01T13:16:18.460059Z",
     "start_time": "2024-12-01T13:16:18.455784Z"
    }
   },
   "cell_type": "code",
   "source": [
    "missing_rate = 0.5\n",
    "n_missing_samples = int(np.floor(n_samples * n_features * missing_rate))#向下取整之后的整数"
   ],
   "id": "e213aa2a72aa67b8",
   "outputs": [],
   "execution_count": 6
  },
  {
   "metadata": {
    "ExecuteTime": {
     "end_time": "2024-12-01T13:16:18.631230Z",
     "start_time": "2024-12-01T13:16:18.627303Z"
    }
   },
   "cell_type": "code",
   "source": "missing_features = rng.randint(0,n_features,n_missing_samples)",
   "id": "557ba47c4a6c1cb1",
   "outputs": [],
   "execution_count": 7
  },
  {
   "metadata": {
    "ExecuteTime": {
     "end_time": "2024-12-01T13:16:18.815256Z",
     "start_time": "2024-12-01T13:16:18.812508Z"
    }
   },
   "cell_type": "code",
   "source": "missing_samples = rng.randint(0,n_samples,n_missing_samples)",
   "id": "74771c81b1a7ce79",
   "outputs": [],
   "execution_count": 8
  },
  {
   "metadata": {
    "ExecuteTime": {
     "end_time": "2024-12-01T13:16:19.060505Z",
     "start_time": "2024-12-01T13:16:19.057700Z"
    }
   },
   "cell_type": "code",
   "source": "X_missing = X_full.copy()",
   "id": "86c59f9c7e213330",
   "outputs": [],
   "execution_count": 9
  },
  {
   "metadata": {
    "ExecuteTime": {
     "end_time": "2024-12-01T13:16:19.177758Z",
     "start_time": "2024-12-01T13:16:19.174185Z"
    }
   },
   "cell_type": "code",
   "source": "y_missing = y_full.copy()",
   "id": "a46af71f26291498",
   "outputs": [],
   "execution_count": 10
  },
  {
   "metadata": {
    "ExecuteTime": {
     "end_time": "2024-12-01T13:16:19.338998Z",
     "start_time": "2024-12-01T13:16:19.334938Z"
    }
   },
   "cell_type": "code",
   "source": "X_missing[missing_samples,missing_features] = np.nan",
   "id": "a45a64f7761e4f28",
   "outputs": [],
   "execution_count": 11
  },
  {
   "metadata": {
    "ExecuteTime": {
     "end_time": "2024-12-01T13:16:21.407793Z",
     "start_time": "2024-12-01T13:16:21.403773Z"
    }
   },
   "cell_type": "code",
   "source": "X_missing = pd.DataFrame(X_missing)",
   "id": "1ed812b7a73d5dbd",
   "outputs": [],
   "execution_count": 12
  },
  {
   "metadata": {
    "ExecuteTime": {
     "end_time": "2024-12-01T13:16:22.147672Z",
     "start_time": "2024-12-01T13:16:22.137194Z"
    }
   },
   "cell_type": "code",
   "source": [
    "from sklearn.impute import SimpleImputer\n",
    "imp_mean = SimpleImputer(missing_values=np.nan,strategy='mean')\n",
    "X_missing_mean = imp_mean.fit_transform(X_missing)"
   ],
   "id": "10b1e6c1fc1272c8",
   "outputs": [],
   "execution_count": 13
  },
  {
   "metadata": {
    "ExecuteTime": {
     "end_time": "2024-12-01T13:16:23.205552Z",
     "start_time": "2024-12-01T13:16:23.200557Z"
    }
   },
   "cell_type": "code",
   "source": [
    "imp_0 = SimpleImputer(missing_values=np.nan,strategy='constant',fill_value=0)#constant指定是固定值,fill_value表示的是什么值\n",
    "X_missing_0 = imp_0.fit_transform(X_missing)"
   ],
   "id": "6d658b10785b3cef",
   "outputs": [],
   "execution_count": 14
  },
  {
   "metadata": {
    "ExecuteTime": {
     "end_time": "2024-11-28T14:01:34.021735Z",
     "start_time": "2024-11-28T14:01:34.017702Z"
    }
   },
   "cell_type": "code",
   "source": "type(X_missing_mean)",
   "id": "37b8af05c515fc8b",
   "outputs": [
    {
     "data": {
      "text/plain": [
       "numpy.ndarray"
      ]
     },
     "execution_count": 148,
     "metadata": {},
     "output_type": "execute_result"
    }
   ],
   "execution_count": 148
  },
  {
   "metadata": {
    "ExecuteTime": {
     "end_time": "2024-12-01T13:19:40.804885Z",
     "start_time": "2024-12-01T13:19:40.801974Z"
    }
   },
   "cell_type": "code",
   "source": "X_missing_reg = X_missing.copy()",
   "id": "da7982323041d13b",
   "outputs": [],
   "execution_count": 15
  },
  {
   "metadata": {
    "ExecuteTime": {
     "end_time": "2024-12-01T13:20:44.621228Z",
     "start_time": "2024-12-01T13:20:44.615766Z"
    }
   },
   "cell_type": "code",
   "source": "sort_index = np.argsort(X_missing_reg.isna().sum(axis = 0)).values",
   "id": "e7100d9866873f3d",
   "outputs": [],
   "execution_count": 16
  },
  {
   "metadata": {
    "ExecuteTime": {
     "end_time": "2024-12-01T13:21:10.360602Z",
     "start_time": "2024-12-01T13:21:10.355003Z"
    }
   },
   "cell_type": "code",
   "source": "sort_index",
   "id": "d4a09615adec00d3",
   "outputs": [
    {
     "data": {
      "text/plain": [
       "array([ 1,  4,  7,  8,  5, 12, 10,  9,  2,  6, 11,  0,  3], dtype=int64)"
      ]
     },
     "execution_count": 17,
     "metadata": {},
     "output_type": "execute_result"
    }
   ],
   "execution_count": 17
  },
  {
   "metadata": {
    "ExecuteTime": {
     "end_time": "2024-12-01T13:37:18.555498Z",
     "start_time": "2024-12-01T13:37:16.733923Z"
    }
   },
   "cell_type": "code",
   "source": [
    "#训练模型来得到\n",
    "from sklearn.ensemble import RandomForestRegressor\n",
    "for i in sort_index:\n",
    "    df = X_missing_reg \n",
    "    fillc = df.iloc[:,i] #得到每个列索引的值\n",
    "    df_ = pd.concat([df.loc[:,df.columns != 1],pd.DataFrame(y_full)],axis=1)#将不是该列的和target值合并,用于预测该列的值\n",
    "    df_0 = SimpleImputer(missing_values=np.nan,strategy='constant',fill_value=0).fit_transform(df_)#将空值用0来填充\n",
    "    #非空值来预测空值\n",
    "    y_train = fillc[fillc.notnull()]\n",
    "    y_test = fillc[fillc.isna()]\n",
    "    X_train = df_0[y_train.index,:]\n",
    "    X_test = df_0[y_test.index,:]\n",
    "    rfg = RandomForestRegressor(random_state=1210)\n",
    "    rfg.fit(X_train,y_train)\n",
    "    y_pred = rfg.predict(X_test)\n",
    "    X_missing_reg.loc[y_test.index,i] = y_pred"
   ],
   "id": "f66bb36f275d741b",
   "outputs": [],
   "execution_count": 18
  },
  {
   "metadata": {
    "ExecuteTime": {
     "end_time": "2024-12-01T14:13:22.628270Z",
     "start_time": "2024-12-01T14:13:13.858542Z"
    }
   },
   "cell_type": "code",
   "source": [
    "#用0填充的,\n",
    "from sklearn.model_selection import cross_val_score\n",
    "X = [X_full,X_missing_mean,X_missing_0,X_missing_reg]\n",
    "mse_list = []\n",
    "r2_list = []\n",
    "for x in X:\n",
    "    rfg = RandomForestRegressor(random_state=1210,n_estimators=100)\n",
    "    score = cross_val_score(rfg,x,y_full,scoring='neg_mean_squared_error',cv=5).mean()\n",
    "    score_r2 = cross_val_score(rfg,x,y_full,scoring='r2',cv=5).mean()\n",
    "    mse_list.append(score*-1)\n",
    "    r2_list.append(score_r2*-1)"
   ],
   "id": "652355b60dc72a9",
   "outputs": [],
   "execution_count": 35
  },
  {
   "metadata": {
    "ExecuteTime": {
     "end_time": "2024-12-01T13:57:16.355043Z",
     "start_time": "2024-12-01T13:57:16.351528Z"
    }
   },
   "cell_type": "code",
   "source": "import matplotlib.pyplot as plt",
   "id": "2eda8e450bbe7b4e",
   "outputs": [],
   "execution_count": 33
  },
  {
   "metadata": {
    "ExecuteTime": {
     "end_time": "2024-12-01T14:13:23.791711Z",
     "start_time": "2024-12-01T14:13:23.727287Z"
    }
   },
   "cell_type": "code",
   "source": [
    "X_labels = ['原始数据','用平均值填充','用0填充','随机森林的预测']\n",
    "plt.figure(figsize=(12,7))\n",
    "ax = plt.subplot(111)\n",
    "for i in range(len(X_labels)):\n",
    "    ax.barh(i,mse_list[i],alpha = .7,edgecolor = 'black',linewidth = .6,align='center')\n",
    "ax.set_yticks(np.arange(len(mse_list)))\n",
    "ax.set_yticklabels(X_labels,fontproperties = 'STsong')\n",
    "plt.show()"
   ],
   "id": "9573b413b1b9142d",
   "outputs": [
    {
     "data": {
      "text/plain": [
       "<Figure size 1200x700 with 1 Axes>"
      ],
      "image/png": "[encoded data removed]"
     },
     "metadata": {},
     "output_type": "display_data"
    }
   ],
   "execution_count": 36
  },
  {
   "metadata": {},
   "cell_type": "code",
   "outputs": [],
   "execution_count": null,
   "source": "",
   "id": "18ed5cfbf3c00bc7"
  }
 ],
 "metadata": {
  "kernelspec": {
   "display_name": "Python 3",
   "language": "python",
   "name": "python3"
  },
  "language_info": {
   "codemirror_mode": {
    "name": "ipython",
    "version": 2
   },
   "file_extension": ".py",
   "mimetype": "text/x-python",
   "name": "python",
   "nbconvert_exporter": "python",
   "pygments_lexer": "ipython2",
   "version": "2.7.6"
  }
 },
 "nbformat": 4,
 "nbformat_minor": 5
}
