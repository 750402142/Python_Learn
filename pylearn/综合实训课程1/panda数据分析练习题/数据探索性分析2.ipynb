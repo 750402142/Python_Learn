{
 "cells": [
  {
   "cell_type": "code",
   "id": "initial_id",
   "metadata": {
    "collapsed": true,
    "ExecuteTime": {
     "end_time": "2024-10-17T00:31:04.889061Z",
     "start_time": "2024-10-17T00:31:04.158835Z"
    }
   },
   "source": [
    "from idlelib.iomenu import encoding\n",
    "from idlelib.zoomheight import set_window_geometry\n",
    "\n",
    "import pandas as pd\n",
    "import numpy as np\n",
    "import matplotlib\n",
    "import matplotlib.pyplot as plt\n",
    "import sys\n",
    "\n",
    "from pygments.lexer import words\n",
    "\n",
    "print('Python version:', sys.version)\n",
    "print('Pandas version:', pd.__version__)\n",
    "print('Numpy version:', np.__version__)\n",
    "print('Matplotlib version:', matplotlib.__version__)"
   ],
   "outputs": [
    {
     "name": "stdout",
     "output_type": "stream",
     "text": [
      "Python version: 3.10.9 (tags/v3.10.9:1dd9be6, Dec  6 2022, 20:01:21) [MSC v.1934 64 bit (AMD64)]\n",
      "Pandas version: 2.2.2\n",
      "Numpy version: 2.1.1\n",
      "Matplotlib version: 3.9.2\n"
     ]
    }
   ],
   "execution_count": 3
  },
  {
   "metadata": {
    "ExecuteTime": {
     "end_time": "2024-10-17T00:31:06.395101Z",
     "start_time": "2024-10-17T00:31:06.336310Z"
    }
   },
   "cell_type": "code",
   "source": "new_accid = pd.read_csv('./data/new_accid_clear.csv')",
   "id": "5ee022ab84093464",
   "outputs": [],
   "execution_count": 4
  },
  {
   "metadata": {
    "ExecuteTime": {
     "end_time": "2024-10-17T00:31:07.973191Z",
     "start_time": "2024-10-17T00:31:07.964627Z"
    }
   },
   "cell_type": "code",
   "source": "data_pair = new_accid['车辆颜色'].value_counts(dropna=False).reset_index().values.tolist()",
   "id": "33ebb35371912fc",
   "outputs": [],
   "execution_count": 5
  },
  {
   "metadata": {
    "ExecuteTime": {
     "end_time": "2024-10-17T00:31:08.827243Z",
     "start_time": "2024-10-17T00:31:08.821390Z"
    }
   },
   "cell_type": "code",
   "source": [
    "from pyecharts.charts import Bar,Pie,Line,Scatter\n",
    "from pyecharts import options as opts\n",
    "from pyecharts.globals import ThemeType, ChartType, SymbolType, JsCode, CurrentConfig"
   ],
   "id": "8c3b972fd04ac5fc",
   "outputs": [],
   "execution_count": 6
  },
  {
   "metadata": {
    "ExecuteTime": {
     "end_time": "2024-10-17T00:33:13.756699Z",
     "start_time": "2024-10-17T00:33:13.711031Z"
    }
   },
   "cell_type": "code",
   "source": [
    "from pyecharts.globals import CurrentConfig\n",
    "CurrentConfig.ONLINE_HOST = \"http://127.0.0.1:8000/assets/\"\n",
    "from pyecharts.datasets import register_url\n",
    "# 注册本地服务器的地图数据源\n",
    "register_url(\"http://127.0.0.1:8000/\")"
   ],
   "id": "bc591c4c8372b151",
   "outputs": [],
   "execution_count": 9
  },
  {
   "metadata": {
    "ExecuteTime": {
     "end_time": "2024-10-17T00:31:10.870016Z",
     "start_time": "2024-10-17T00:31:10.843980Z"
    }
   },
   "cell_type": "code",
   "source": [
    "bar = (Bar(init_opts=opts.InitOpts(theme=ThemeType.DARK))\n",
    "       .add_xaxis([i[0] for i in data_pair])\n",
    "       .add_yaxis('车辆颜色',[i[1] for i in data_pair],\n",
    "                  label_opts=opts.LabelOpts(position = 'top'))\n",
    "       .set_global_opts(\n",
    "                     title_opts=opts.TitleOpts(title = '不同车辆颜色事故发生柱形图',pos_left='center',),\n",
    "                     legend_opts=opts.LegendOpts(pos_top='%5',),\n",
    "                     tooltip_opts=opts.TooltipOpts(trigger = 'axis',axis_pointer_type='shadow')\n",
    ")\n",
    "       )\n",
    "       \n",
    "bar.render('./out_render/bar01.html')"
   ],
   "id": "a20589d8aa0b44b6",
   "outputs": [
    {
     "data": {
      "text/plain": [
       "'C:\\\\Users\\\\wang\\\\Desktop\\\\pyLearn\\\\综合实训课程1\\\\交通事故行为成因分析\\\\render.html'"
      ]
     },
     "execution_count": 7,
     "metadata": {},
     "output_type": "execute_result"
    }
   ],
   "execution_count": 7
  },
  {
   "metadata": {
    "ExecuteTime": {
     "end_time": "2024-10-17T01:17:02.259777Z",
     "start_time": "2024-10-17T01:17:02.174944Z"
    }
   },
   "cell_type": "code",
   "source": [
    "dp = pd.read_csv('./data/事故双方数据.csv')\n",
    "dp['车辆颜色']=  dp['车辆颜色'].str.strip('.')"
   ],
   "id": "4580dcc8da1bd4d9",
   "outputs": [],
   "execution_count": 12
  },
  {
   "metadata": {
    "ExecuteTime": {
     "end_time": "2024-10-17T01:17:06.342856Z",
     "start_time": "2024-10-17T01:17:06.321184Z"
    }
   },
   "cell_type": "code",
   "source": [
    "dicts ={'白色':'白色','蓝色':'蓝色','黑色':'黑色','红色':'红色','灰':'灰色','银色':'银色','绿色':'绿色','灰色':'灰色','黄色':'黄色',\n",
    "        '黄':'黄色','棕色':'棕色','香槟色':'香槟色','兰色':'蓝色','BAI':'未知颜色','小型':'未知颜色','表示':'未知颜色','货车':'未知颜色'\n",
    "        }\n",
    "dp['车辆颜色'] = dp['车辆颜色'].map(dicts)\n",
    "dp.drop(dp[dp['车辆颜色'] == '未知颜色'].index,inplace=True)\n",
    "dt = dp.groupby(['车辆颜色','事故责任'])['事故责任'].value_counts().reset_index()"
   ],
   "id": "a15220ea486aae45",
   "outputs": [
    {
     "data": {
      "text/plain": [
       "                  事故时间    事故地址                     事故原因   事故责任  性别      车牌号  \\\n",
       "0        2015/2/4 8:23  花溪大道北段               7、未按规定让行的   负全部责任   1  贵AVG423   \n",
       "1        2015/2/4 8:40  花溪区孟关乡                    3、倒车的  负全部责任   1  贵AKC352   \n",
       "2        2015/2/4 7:20    白金大道                    1、追尾的  负全部责任   1  贵A24876   \n",
       "3        2015/2/4 9:20      金阳               7、未按规定让行的   负全部责任   1  贵A7287L   \n",
       "4        2015/2/4 9:00     新华路  9、不符合前8款规定或者双方同时具有上述情形的  负同等责任   1  贵AU1522   \n",
       "...                ...     ...                      ...    ...  ..      ...   \n",
       "36077  2015/5/10 22:26     贵开路               7、未按规定让行的   负同等责任   1  贵CHT461   \n",
       "36078   2015/2/5 17:20    林城西路               7、未按规定让行的    不负责任   1  贵AAS408   \n",
       "36079  2015/4/16 12:30    金珠大道                    1、追尾的   不负责任   1  贵A67R99   \n",
       "36080  2015/2/12 13:01     蟠桃宫               7、未按规定让行的    不负责任   0  贵JDN385   \n",
       "36081   2015/3/16 8:00    大理石路            8、依法应负全责的其他情形   不负责任   1  贵AYY148   \n",
       "\n",
       "      车辆颜色  驾校信息          驾驶证发放日期   车辆品牌                驾驶证编号    出生日期  \n",
       "0       白色    -1               -1    朗逸牌   36455619349666600   985082  \n",
       "1       白色    -1               -1    长安牌  354664000000000000   196904  \n",
       "2        蓝  鑫鑫驾校  2006/11/30 0:00    华神牌  366364000000000000   196907  \n",
       "3        黑  消防驾校   2004/6/17 0:00    众泰牌  366068000000000000   197512  \n",
       "4       白色    自培   2006/1/23 0:00    大众牌  366577000000000000   197209  \n",
       "...    ...   ...              ...    ...                  ...     ...  \n",
       "36077    红    自培   2014/11/5 0:00  北京现代牌  366564000000000000   198202  \n",
       "36078    蓝    自培  2001/12/31 0:00    银钢牌  366361000000000000   198008  \n",
       "36079    红    自培   2014/2/17 0:00  北京现代牌  364548000000000000   195712  \n",
       "36080    黑    自培  2000/12/27 0:00  东风标致牌  366667000000000000   196405  \n",
       "36081   白色    自培  2003/10/11 0:00    五菱牌  354663000000000000   197202  \n",
       "\n",
       "[36082 rows x 12 columns]"
      ],
      "text/html": [
       "<div>\n",
       "<style scoped>\n",
       "    .dataframe tbody tr th:only-of-type {\n",
       "        vertical-align: middle;\n",
       "    }\n",
       "\n",
       "    .dataframe tbody tr th {\n",
       "        vertical-align: top;\n",
       "    }\n",
       "\n",
       "    .dataframe thead th {\n",
       "        text-align: right;\n",
       "    }\n",
       "</style>\n",
       "<table border=\"1\" class=\"dataframe\">\n",
       "  <thead>\n",
       "    <tr style=\"text-align: right;\">\n",
       "      <th></th>\n",
       "      <th>事故时间</th>\n",
       "      <th>事故地址</th>\n",
       "      <th>事故原因</th>\n",
       "      <th>事故责任</th>\n",
       "      <th>性别</th>\n",
       "      <th>车牌号</th>\n",
       "      <th>车辆颜色</th>\n",
       "      <th>驾校信息</th>\n",
       "      <th>驾驶证发放日期</th>\n",
       "      <th>车辆品牌</th>\n",
       "      <th>驾驶证编号</th>\n",
       "      <th>出生日期</th>\n",
       "    </tr>\n",
       "  </thead>\n",
       "  <tbody>\n",
       "    <tr>\n",
       "      <th>0</th>\n",
       "      <td>2015/2/4 8:23</td>\n",
       "      <td>花溪大道北段</td>\n",
       "      <td>7、未按规定让行的</td>\n",
       "      <td>负全部责任</td>\n",
       "      <td>1</td>\n",
       "      <td>贵AVG423</td>\n",
       "      <td>白色</td>\n",
       "      <td>-1</td>\n",
       "      <td>-1</td>\n",
       "      <td>朗逸牌</td>\n",
       "      <td>36455619349666600</td>\n",
       "      <td>985082</td>\n",
       "    </tr>\n",
       "    <tr>\n",
       "      <th>1</th>\n",
       "      <td>2015/2/4 8:40</td>\n",
       "      <td>花溪区孟关乡</td>\n",
       "      <td>3、倒车的</td>\n",
       "      <td>负全部责任</td>\n",
       "      <td>1</td>\n",
       "      <td>贵AKC352</td>\n",
       "      <td>白色</td>\n",
       "      <td>-1</td>\n",
       "      <td>-1</td>\n",
       "      <td>长安牌</td>\n",
       "      <td>354664000000000000</td>\n",
       "      <td>196904</td>\n",
       "    </tr>\n",
       "    <tr>\n",
       "      <th>2</th>\n",
       "      <td>2015/2/4 7:20</td>\n",
       "      <td>白金大道</td>\n",
       "      <td>1、追尾的</td>\n",
       "      <td>负全部责任</td>\n",
       "      <td>1</td>\n",
       "      <td>贵A24876</td>\n",
       "      <td>蓝</td>\n",
       "      <td>鑫鑫驾校</td>\n",
       "      <td>2006/11/30 0:00</td>\n",
       "      <td>华神牌</td>\n",
       "      <td>366364000000000000</td>\n",
       "      <td>196907</td>\n",
       "    </tr>\n",
       "    <tr>\n",
       "      <th>3</th>\n",
       "      <td>2015/2/4 9:20</td>\n",
       "      <td>金阳</td>\n",
       "      <td>7、未按规定让行的</td>\n",
       "      <td>负全部责任</td>\n",
       "      <td>1</td>\n",
       "      <td>贵A7287L</td>\n",
       "      <td>黑</td>\n",
       "      <td>消防驾校</td>\n",
       "      <td>2004/6/17 0:00</td>\n",
       "      <td>众泰牌</td>\n",
       "      <td>366068000000000000</td>\n",
       "      <td>197512</td>\n",
       "    </tr>\n",
       "    <tr>\n",
       "      <th>4</th>\n",
       "      <td>2015/2/4 9:00</td>\n",
       "      <td>新华路</td>\n",
       "      <td>9、不符合前8款规定或者双方同时具有上述情形的</td>\n",
       "      <td>负同等责任</td>\n",
       "      <td>1</td>\n",
       "      <td>贵AU1522</td>\n",
       "      <td>白色</td>\n",
       "      <td>自培</td>\n",
       "      <td>2006/1/23 0:00</td>\n",
       "      <td>大众牌</td>\n",
       "      <td>366577000000000000</td>\n",
       "      <td>197209</td>\n",
       "    </tr>\n",
       "    <tr>\n",
       "      <th>...</th>\n",
       "      <td>...</td>\n",
       "      <td>...</td>\n",
       "      <td>...</td>\n",
       "      <td>...</td>\n",
       "      <td>...</td>\n",
       "      <td>...</td>\n",
       "      <td>...</td>\n",
       "      <td>...</td>\n",
       "      <td>...</td>\n",
       "      <td>...</td>\n",
       "      <td>...</td>\n",
       "      <td>...</td>\n",
       "    </tr>\n",
       "    <tr>\n",
       "      <th>36077</th>\n",
       "      <td>2015/5/10 22:26</td>\n",
       "      <td>贵开路</td>\n",
       "      <td>7、未按规定让行的</td>\n",
       "      <td>负同等责任</td>\n",
       "      <td>1</td>\n",
       "      <td>贵CHT461</td>\n",
       "      <td>红</td>\n",
       "      <td>自培</td>\n",
       "      <td>2014/11/5 0:00</td>\n",
       "      <td>北京现代牌</td>\n",
       "      <td>366564000000000000</td>\n",
       "      <td>198202</td>\n",
       "    </tr>\n",
       "    <tr>\n",
       "      <th>36078</th>\n",
       "      <td>2015/2/5 17:20</td>\n",
       "      <td>林城西路</td>\n",
       "      <td>7、未按规定让行的</td>\n",
       "      <td>不负责任</td>\n",
       "      <td>1</td>\n",
       "      <td>贵AAS408</td>\n",
       "      <td>蓝</td>\n",
       "      <td>自培</td>\n",
       "      <td>2001/12/31 0:00</td>\n",
       "      <td>银钢牌</td>\n",
       "      <td>366361000000000000</td>\n",
       "      <td>198008</td>\n",
       "    </tr>\n",
       "    <tr>\n",
       "      <th>36079</th>\n",
       "      <td>2015/4/16 12:30</td>\n",
       "      <td>金珠大道</td>\n",
       "      <td>1、追尾的</td>\n",
       "      <td>不负责任</td>\n",
       "      <td>1</td>\n",
       "      <td>贵A67R99</td>\n",
       "      <td>红</td>\n",
       "      <td>自培</td>\n",
       "      <td>2014/2/17 0:00</td>\n",
       "      <td>北京现代牌</td>\n",
       "      <td>364548000000000000</td>\n",
       "      <td>195712</td>\n",
       "    </tr>\n",
       "    <tr>\n",
       "      <th>36080</th>\n",
       "      <td>2015/2/12 13:01</td>\n",
       "      <td>蟠桃宫</td>\n",
       "      <td>7、未按规定让行的</td>\n",
       "      <td>不负责任</td>\n",
       "      <td>0</td>\n",
       "      <td>贵JDN385</td>\n",
       "      <td>黑</td>\n",
       "      <td>自培</td>\n",
       "      <td>2000/12/27 0:00</td>\n",
       "      <td>东风标致牌</td>\n",
       "      <td>366667000000000000</td>\n",
       "      <td>196405</td>\n",
       "    </tr>\n",
       "    <tr>\n",
       "      <th>36081</th>\n",
       "      <td>2015/3/16 8:00</td>\n",
       "      <td>大理石路</td>\n",
       "      <td>8、依法应负全责的其他情形</td>\n",
       "      <td>不负责任</td>\n",
       "      <td>1</td>\n",
       "      <td>贵AYY148</td>\n",
       "      <td>白色</td>\n",
       "      <td>自培</td>\n",
       "      <td>2003/10/11 0:00</td>\n",
       "      <td>五菱牌</td>\n",
       "      <td>354663000000000000</td>\n",
       "      <td>197202</td>\n",
       "    </tr>\n",
       "  </tbody>\n",
       "</table>\n",
       "<p>36082 rows × 12 columns</p>\n",
       "</div>"
      ]
     },
     "execution_count": 13,
     "metadata": {},
     "output_type": "execute_result"
    }
   ],
   "execution_count": 13
  },
  {
   "metadata": {
    "ExecuteTime": {
     "end_time": "2024-10-17T02:35:28.793824Z",
     "start_time": "2024-10-17T02:35:28.764546Z"
    }
   },
   "cell_type": "code",
   "source": [
    "baritemstyle = {\n",
    "    'normal': {\n",
    "        'borderWidth':1,\n",
    "        'color':JsCode(\"\"\"new echarts.graphic.LinearGradient(0, 0, 1, 1, [\n",
    "          { offset: 1, color: 'rgb(255, 191, 0)' },\n",
    "          { offset: 0, color: 'rgb(224, 62, 76)' }\n",
    "        ],)\"\"\"),\n",
    "        'shadowColor':'green',\n",
    "        'shadowBlur':1,\n",
    "        'barBorderRadius':[10,10,10,10]\n",
    "    }\n",
    "}"
   ],
   "id": "eb82716dce9cb7ee",
   "outputs": [],
   "execution_count": 14
  },
  {
   "metadata": {
    "ExecuteTime": {
     "end_time": "2024-10-17T02:36:08.343765Z",
     "start_time": "2024-10-17T02:36:08.323917Z"
    }
   },
   "cell_type": "code",
   "source": [
    "bar = (Bar(init_opts=opts.InitOpts(theme=ThemeType.DARK))\n",
    "    .add_xaxis([i[0] for i in data_pair])\n",
    "    .add_yaxis(\"车辆颜色\",[i[1] for i in data_pair],\n",
    "              itemstyle_opts=baritemstyle,\n",
    "              label_opts=opts.LabelOpts(position='top',font_weight='bold',color='aotu',\n",
    "                                       formatter=\"{c}辆\",\n",
    "                                       )\n",
    "              )\n",
    "    .set_global_opts(\n",
    "        title_opts=opts.TitleOpts(title='不同车辆颜色事故发生频次柱形图',pos_left='center'),\n",
    "        legend_opts=opts.LegendOpts(pos_top='5%'),\n",
    "            tooltip_opts=opts.TooltipOpts(trigger='axis',axis_pointer_type='shadow'),\n",
    "        xaxis_opts=opts.AxisOpts(name='车辆颜色',name_location='center',name_gap=40,\n",
    "                name_textstyle_opts=opts.TextStyleOpts(font_weight='bold',color='orange'),\n",
    "                axisline_opts={'show':True,\"lineStyle\":{'color':'orange',\"width\":2}},\n",
    "                axistick_opts={'show':False},\n",
    "                axislabel_opts={'color':'orange'},\n",
    "                splitline_opts={'show':False}\n",
    "                                ),\n",
    "        yaxis_opts=opts.AxisOpts(name='事故数量',name_location='center',name_gap=50,\n",
    "                name_textstyle_opts=opts.TextStyleOpts(font_weight='bold',color='orange'),\n",
    "                axisline_opts={'show':True,\"lineStyle\":{'color':'cyan',\"width\":2}},\n",
    "                axistick_opts={'show':False},\n",
    "                axislabel_opts={'color':'orange'},\n",
    "                splitline_opts={'show':False}\n",
    "                                )        \n",
    "            \n",
    "        )\n",
    "      )\n",
    "bar.render('./out_render/bar02.html')"
   ],
   "id": "338bf296aa6e6f22",
   "outputs": [
    {
     "data": {
      "text/plain": [
       "'C:\\\\Users\\\\wang\\\\Desktop\\\\pyLearn\\\\综合实训课程1\\\\交通事故行为成因分析\\\\out_render\\\\bar02.html'"
      ]
     },
     "execution_count": 16,
     "metadata": {},
     "output_type": "execute_result"
    }
   ],
   "execution_count": 16
  },
  {
   "metadata": {},
   "cell_type": "code",
   "outputs": [],
   "execution_count": null,
   "source": [
    "data = pd.read_csv('./data/accid1.csv',encoding='gbk')\n",
    "data['carcolor1'] = data['carcolor1'].str.strip(' ·')\n",
    "data['carcolor2'] = data['carcolor2'].str.strip(' ·')\n",
    "data['carcolor1'] = data['carcolor1'].map(dicts)\n",
    "data['carcolor2'] = data['carcolor2'].map(dicts)\n",
    "repect_white_color = dpc[(dpc['carcolor1'] == '白色')\n",
    "                         & (dpc['carcolor2'] == '白色')]\n",
    "repect_white_color = repect_white_color[\n",
    "    (repect_white_color['driver1responsibility'] != '不负责任') |\n",
    "    (repect_white_color['driver2responsibility'] != '不负责任')].shape[0]\n",
    "    \n",
    "dpc = data.loc[(data['carcolor1'] == '白色') | (data['carcolor2'] == '白色')]\n",
    "dpc.reset_index(inplace=True)\n",
    "dpc1 = dpc[dpc['driver1responsibility'] != '不负责任']\n",
    "cpc11 = dpc1[dpc1['carcolor1'] == '白色']['carcolor2']\n",
    "dpc2 = dpc[dpc['driver2responsibility'] != '不负责任']\n",
    "cpc21 = dpc1[dpc1['carcolor2'] == '白色']['carcolor1']\n",
    "cpc3 = pd.concat([cpc11,cpc21],axis=0).value_counts().reset_index()\n",
    "cpc3.iloc[0,1] = cpc3.iloc[0,1] - repect_white_color "
   ],
   "id": "cb8ad81a1f149f3e"
  },
  {
   "metadata": {
    "ExecuteTime": {
     "end_time": "2024-10-17T03:12:36.493796Z",
     "start_time": "2024-10-17T03:12:36.440699Z"
    }
   },
   "cell_type": "code",
   "source": "dp_cloud = new_accid['驾校信息'].value_counts().reset_index().values.tolist()",
   "id": "2ec9c56077296d4",
   "outputs": [],
   "execution_count": 17
  },
  {
   "metadata": {
    "ExecuteTime": {
     "end_time": "2024-10-17T03:15:07.505150Z",
     "start_time": "2024-10-17T03:15:07.473728Z"
    }
   },
   "cell_type": "code",
   "source": [
    "from pyecharts import options as opts\n",
    "from pyecharts.charts import WordCloud\n",
    "c = (\n",
    "    WordCloud(init_opts=opts.InitOpts(theme=ThemeType.DARK))\n",
    "    .add('',dp_cloud,word_size_range=[15,60],)\n",
    "    .set_global_opts(title_opts=opts.TitleOpts(title='WordCloud-自定义图片'))\n",
    ")\n",
    "c.render('./out_render/wo.html')"
   ],
   "id": "57630c5b4ae3909f",
   "outputs": [
    {
     "data": {
      "text/plain": [
       "'C:\\\\Users\\\\wang\\\\Desktop\\\\pyLearn\\\\综合实训课程1\\\\交通事故行为成因分析\\\\out_render\\\\wo.html'"
      ]
     },
     "execution_count": 18,
     "metadata": {},
     "output_type": "execute_result"
    }
   ],
   "execution_count": 18
  },
  {
   "metadata": {
    "ExecuteTime": {
     "end_time": "2024-10-17T03:15:47.839894Z",
     "start_time": "2024-10-17T03:15:47.833047Z"
    }
   },
   "cell_type": "code",
   "source": "dic = new_accid['驾校信息'].values.tolist()",
   "id": "17f0799db81ce01e",
   "outputs": [],
   "execution_count": 19
  },
  {
   "metadata": {},
   "cell_type": "code",
   "outputs": [],
   "execution_count": null,
   "source": [
    "from wordcloud import WordCloud\n",
    "plt.figure(figsize = (12,6),dpi=100)\n",
    "wc = WordCloud(font_path='simhei.ttf',min_font_size=)"
   ],
   "id": "c4be2c380041bc26"
  }
 ],
 "metadata": {
  "kernelspec": {
   "display_name": "Python 3",
   "language": "python",
   "name": "python3"
  },
  "language_info": {
   "codemirror_mode": {
    "name": "ipython",
    "version": 2
   },
   "file_extension": ".py",
   "mimetype": "text/x-python",
   "name": "python",
   "nbconvert_exporter": "python",
   "pygments_lexer": "ipython2",
   "version": "2.7.6"
  }
 },
 "nbformat": 4,
 "nbformat_minor": 5
}
