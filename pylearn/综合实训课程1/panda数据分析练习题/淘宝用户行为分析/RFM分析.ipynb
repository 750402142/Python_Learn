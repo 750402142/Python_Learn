{
 "cells": [
  {
   "cell_type": "code",
   "id": "initial_id",
   "metadata": {
    "collapsed": true,
    "ExecuteTime": {
     "end_time": "2024-10-24T13:29:55.364129Z",
     "start_time": "2024-10-24T13:29:54.381099Z"
    }
   },
   "source": [
    "import pandas as pd\n",
    "\n",
    "import numpy as np\n",
    "import matplotlib\n",
    "import matplotlib.pyplot as plt\n",
    "import sys\n",
    "\n",
    "\n",
    "from win32ui import types\n",
    "\n",
    "print('Python version:', sys.version)\n",
    "print('Pandas version:', pd.__version__)\n",
    "print('Numpy version:', np.__version__)\n",
    "print('Matplotlib version:', matplotlib.__version__)"
   ],
   "outputs": [
    {
     "name": "stdout",
     "output_type": "stream",
     "text": [
      "Python version: 3.10.9 (tags/v3.10.9:1dd9be6, Dec  6 2022, 20:01:21) [MSC v.1934 64 bit (AMD64)]\n",
      "Pandas version: 2.2.2\n",
      "Numpy version: 2.1.1\n",
      "Matplotlib version: 3.9.2\n"
     ]
    }
   ],
   "execution_count": 1
  },
  {
   "metadata": {
    "ExecuteTime": {
     "end_time": "2024-10-24T13:31:26.459603Z",
     "start_time": "2024-10-24T13:31:19.132055Z"
    }
   },
   "cell_type": "code",
   "source": [
    "dtypes = {\n",
    "    'user_id': 'int32',\n",
    "    'item_id': 'int32',\n",
    "    'behavior_type': 'object',\n",
    "    'item_category': 'int16',\n",
    "    'day': 'int8',\n",
    "    'day_name': 'object',\n",
    "    'hour': 'int8',\n",
    "    'month': \"int8\",\n",
    "    'md': 'object',\n",
    "    'time':'object',\n",
    "}\n",
    "\n",
    "data = pd.read_csv('./user_action/clear_data2.csv',\n",
    "                  dtype=dtypes,  # 设定读取字段的类型\n",
    "                  engine='c', # 设定读取的引擎\n",
    "                  )"
   ],
   "id": "5735dfda54568aaa",
   "outputs": [],
   "execution_count": 3
  },
  {
   "metadata": {
    "ExecuteTime": {
     "end_time": "2024-10-24T13:31:53.190121Z",
     "start_time": "2024-10-24T13:31:52.483311Z"
    }
   },
   "cell_type": "code",
   "source": [
    "dicts = {\n",
    "    1:'浏览',\n",
    "    2:'收藏',\n",
    "    3:'加购物车',\n",
    "    4:'购买'\n",
    "}\n",
    "data['behavior_type'] = data['behavior_type'].astype(int).map(dicts)"
   ],
   "id": "969684914bf47c4",
   "outputs": [],
   "execution_count": 5
  },
  {
   "metadata": {
    "ExecuteTime": {
     "end_time": "2024-10-24T13:32:08.948710Z",
     "start_time": "2024-10-24T13:32:08.015421Z"
    }
   },
   "cell_type": "code",
   "source": "data['time'] = pd.to_datetime(data['time'])",
   "id": "dc0d8b1f5edea1c2",
   "outputs": [],
   "execution_count": 7
  },
  {
   "metadata": {
    "ExecuteTime": {
     "end_time": "2024-10-24T13:41:22.656464Z",
     "start_time": "2024-10-24T13:41:22.602335Z"
    }
   },
   "cell_type": "code",
   "source": [
    "# 让12月19日是数据中的最后一个日期\n",
    "latest_date = data['time'].max() + pd.Timedelta(days=1)"
   ],
   "id": "2b7e5d66594356f3",
   "outputs": [],
   "execution_count": 8
  },
  {
   "metadata": {
    "ExecuteTime": {
     "end_time": "2024-10-24T13:41:40.075124Z",
     "start_time": "2024-10-24T13:41:39.878938Z"
    }
   },
   "cell_type": "code",
   "source": [
    "# 购买的频次\n",
    "data['frequency'] = data.groupby('user_id')['time'].transform('count')"
   ],
   "id": "6ce2a2dad9ecdcad",
   "outputs": [],
   "execution_count": 10
  },
  {
   "metadata": {
    "ExecuteTime": {
     "end_time": "2024-10-24T13:42:58.240664Z",
     "start_time": "2024-10-24T13:42:58.232682Z"
    }
   },
   "cell_type": "code",
   "source": "data.head()",
   "id": "cc4f80bcca7c5ccf",
   "outputs": [
    {
     "data": {
      "text/plain": [
       "    user_id    item_id behavior_type  item_category                time  day  \\\n",
       "0  98047837  232431562            浏览           4245 2014-12-06 02:00:00    6   \n",
       "1  97726136  383583590            浏览           5894 2014-12-09 20:00:00    9   \n",
       "2  98607707   64749712            浏览           2883 2014-12-18 11:00:00   18   \n",
       "3  98662432  320593836            浏览           6562 2014-12-06 10:00:00    6   \n",
       "4  98145908  290208520            浏览          13926 2014-12-16 21:00:00   16   \n",
       "\n",
       "  day_name  hour  month     md  frequency  \n",
       "0        5     2     12  12-06       1779  \n",
       "1        1    20     12  12-09        676  \n",
       "2        3    11     12  12-18       1525  \n",
       "3        5    10     12  12-06         41  \n",
       "4        1    21     12  12-16        170  "
      ],
      "text/html": [
       "<div>\n",
       "<style scoped>\n",
       "    .dataframe tbody tr th:only-of-type {\n",
       "        vertical-align: middle;\n",
       "    }\n",
       "\n",
       "    .dataframe tbody tr th {\n",
       "        vertical-align: top;\n",
       "    }\n",
       "\n",
       "    .dataframe thead th {\n",
       "        text-align: right;\n",
       "    }\n",
       "</style>\n",
       "<table border=\"1\" class=\"dataframe\">\n",
       "  <thead>\n",
       "    <tr style=\"text-align: right;\">\n",
       "      <th></th>\n",
       "      <th>user_id</th>\n",
       "      <th>item_id</th>\n",
       "      <th>behavior_type</th>\n",
       "      <th>item_category</th>\n",
       "      <th>time</th>\n",
       "      <th>day</th>\n",
       "      <th>day_name</th>\n",
       "      <th>hour</th>\n",
       "      <th>month</th>\n",
       "      <th>md</th>\n",
       "      <th>frequency</th>\n",
       "    </tr>\n",
       "  </thead>\n",
       "  <tbody>\n",
       "    <tr>\n",
       "      <th>0</th>\n",
       "      <td>98047837</td>\n",
       "      <td>232431562</td>\n",
       "      <td>浏览</td>\n",
       "      <td>4245</td>\n",
       "      <td>2014-12-06 02:00:00</td>\n",
       "      <td>6</td>\n",
       "      <td>5</td>\n",
       "      <td>2</td>\n",
       "      <td>12</td>\n",
       "      <td>12-06</td>\n",
       "      <td>1779</td>\n",
       "    </tr>\n",
       "    <tr>\n",
       "      <th>1</th>\n",
       "      <td>97726136</td>\n",
       "      <td>383583590</td>\n",
       "      <td>浏览</td>\n",
       "      <td>5894</td>\n",
       "      <td>2014-12-09 20:00:00</td>\n",
       "      <td>9</td>\n",
       "      <td>1</td>\n",
       "      <td>20</td>\n",
       "      <td>12</td>\n",
       "      <td>12-09</td>\n",
       "      <td>676</td>\n",
       "    </tr>\n",
       "    <tr>\n",
       "      <th>2</th>\n",
       "      <td>98607707</td>\n",
       "      <td>64749712</td>\n",
       "      <td>浏览</td>\n",
       "      <td>2883</td>\n",
       "      <td>2014-12-18 11:00:00</td>\n",
       "      <td>18</td>\n",
       "      <td>3</td>\n",
       "      <td>11</td>\n",
       "      <td>12</td>\n",
       "      <td>12-18</td>\n",
       "      <td>1525</td>\n",
       "    </tr>\n",
       "    <tr>\n",
       "      <th>3</th>\n",
       "      <td>98662432</td>\n",
       "      <td>320593836</td>\n",
       "      <td>浏览</td>\n",
       "      <td>6562</td>\n",
       "      <td>2014-12-06 10:00:00</td>\n",
       "      <td>6</td>\n",
       "      <td>5</td>\n",
       "      <td>10</td>\n",
       "      <td>12</td>\n",
       "      <td>12-06</td>\n",
       "      <td>41</td>\n",
       "    </tr>\n",
       "    <tr>\n",
       "      <th>4</th>\n",
       "      <td>98145908</td>\n",
       "      <td>290208520</td>\n",
       "      <td>浏览</td>\n",
       "      <td>13926</td>\n",
       "      <td>2014-12-16 21:00:00</td>\n",
       "      <td>16</td>\n",
       "      <td>1</td>\n",
       "      <td>21</td>\n",
       "      <td>12</td>\n",
       "      <td>12-16</td>\n",
       "      <td>170</td>\n",
       "    </tr>\n",
       "  </tbody>\n",
       "</table>\n",
       "</div>"
      ]
     },
     "execution_count": 15,
     "metadata": {},
     "output_type": "execute_result"
    }
   ],
   "execution_count": 15
  },
  {
   "metadata": {
    "ExecuteTime": {
     "end_time": "2024-10-24T13:42:21.973260Z",
     "start_time": "2024-10-24T13:42:21.805917Z"
    }
   },
   "cell_type": "code",
   "source": "data.groupby('user_id')['time'].count()",
   "id": "29371eb5d759bc09",
   "outputs": [
    {
     "data": {
      "text/plain": [
       "user_id\n",
       "4913         1742\n",
       "6118          117\n",
       "7528          214\n",
       "7591          859\n",
       "12645         268\n",
       "             ... \n",
       "142376113     322\n",
       "142412247     335\n",
       "142430177    1481\n",
       "142450275    6819\n",
       "142455899    1351\n",
       "Name: time, Length: 10000, dtype: int64"
      ]
     },
     "execution_count": 13,
     "metadata": {},
     "output_type": "execute_result"
    }
   ],
   "execution_count": 13
  },
  {
   "metadata": {
    "ExecuteTime": {
     "end_time": "2024-10-24T13:51:50.458562Z",
     "start_time": "2024-10-24T13:51:50.075578Z"
    }
   },
   "cell_type": "code",
   "source": [
    "# 得到日期间隔的天数\n",
    "data['recency'] = (latest_date - data.groupby('user_id')['time'].transform('max')).dt.days"
   ],
   "id": "983235d84082cf72",
   "outputs": [],
   "execution_count": 16
  },
  {
   "metadata": {
    "ExecuteTime": {
     "end_time": "2024-10-24T14:03:36.609510Z",
     "start_time": "2024-10-24T14:03:35.880418Z"
    }
   },
   "cell_type": "code",
   "source": [
    "# 购买的行为设置为1 其他行为 设置为false\n",
    "data['monetary'] = (data['behavior_type'] == '购买').astype(int)##前面得到一个布尔值 运用astype方法 true表示是1,false表示是0\n",
    "data['monetary'] = data.groupby('user_id')['monetary'].transform('sum')# 按用户分组,统计每个用户购买了多少次"
   ],
   "id": "2a7792836c08b447",
   "outputs": [],
   "execution_count": 18
  },
  {
   "metadata": {
    "ExecuteTime": {
     "end_time": "2024-10-24T14:03:37.730398Z",
     "start_time": "2024-10-24T14:03:37.506016Z"
    }
   },
   "cell_type": "code",
   "source": [
    "rfm = data.groupby('user_id').agg({'recency':'min','frequency':'max','monetary':'max'}).reset_index()\n",
    "quantiles = rfm.quantile(q=[0.25,0.5,0.75])"
   ],
   "id": "e0fc364e8d125d9f",
   "outputs": [],
   "execution_count": 19
  },
  {
   "metadata": {
    "ExecuteTime": {
     "end_time": "2024-10-24T14:04:04.262134Z",
     "start_time": "2024-10-24T14:04:04.242846Z"
    }
   },
   "cell_type": "code",
   "source": "quantiles",
   "id": "b663708416ff1a50",
   "outputs": [
    {
     "data": {
      "text/plain": [
       "           user_id  recency  frequency  monetary\n",
       "0.25  3.547193e+07      1.0     314.00       2.0\n",
       "0.50  7.251422e+07      1.0     747.00       7.0\n",
       "0.75  1.073052e+08      2.0    1547.25      15.0"
      ],
      "text/html": [
       "<div>\n",
       "<style scoped>\n",
       "    .dataframe tbody tr th:only-of-type {\n",
       "        vertical-align: middle;\n",
       "    }\n",
       "\n",
       "    .dataframe tbody tr th {\n",
       "        vertical-align: top;\n",
       "    }\n",
       "\n",
       "    .dataframe thead th {\n",
       "        text-align: right;\n",
       "    }\n",
       "</style>\n",
       "<table border=\"1\" class=\"dataframe\">\n",
       "  <thead>\n",
       "    <tr style=\"text-align: right;\">\n",
       "      <th></th>\n",
       "      <th>user_id</th>\n",
       "      <th>recency</th>\n",
       "      <th>frequency</th>\n",
       "      <th>monetary</th>\n",
       "    </tr>\n",
       "  </thead>\n",
       "  <tbody>\n",
       "    <tr>\n",
       "      <th>0.25</th>\n",
       "      <td>3.547193e+07</td>\n",
       "      <td>1.0</td>\n",
       "      <td>314.00</td>\n",
       "      <td>2.0</td>\n",
       "    </tr>\n",
       "    <tr>\n",
       "      <th>0.50</th>\n",
       "      <td>7.251422e+07</td>\n",
       "      <td>1.0</td>\n",
       "      <td>747.00</td>\n",
       "      <td>7.0</td>\n",
       "    </tr>\n",
       "    <tr>\n",
       "      <th>0.75</th>\n",
       "      <td>1.073052e+08</td>\n",
       "      <td>2.0</td>\n",
       "      <td>1547.25</td>\n",
       "      <td>15.0</td>\n",
       "    </tr>\n",
       "  </tbody>\n",
       "</table>\n",
       "</div>"
      ]
     },
     "execution_count": 21,
     "metadata": {},
     "output_type": "execute_result"
    }
   ],
   "execution_count": 21
  },
  {
   "metadata": {
    "ExecuteTime": {
     "end_time": "2024-10-24T00:44:33.529971Z",
     "start_time": "2024-10-24T00:44:33.515930Z"
    }
   },
   "cell_type": "code",
   "source": [
    "def RMScore(x):\n",
    "    if x<= quantiles['recency'][0.25]:\n",
    "        return 1\n",
    "    elif x<= quantiles['recency'][0.5]:\n",
    "        return 2\n",
    "    elif x<= quantiles['recency'][0.75]:\n",
    "        return 3\n",
    "    else :\n",
    "        return 4"
   ],
   "id": "120ee3f60efde36e",
   "outputs": [],
   "execution_count": 44
  },
  {
   "metadata": {
    "ExecuteTime": {
     "end_time": "2024-10-24T00:42:16.204246Z",
     "start_time": "2024-10-24T00:42:16.197216Z"
    }
   },
   "cell_type": "code",
   "source": [
    "def FMScore(x,col):\n",
    "    if x<= quantiles[col][0.25]:\n",
    "        return 4\n",
    "    elif x<= quantiles[col][0.5]:\n",
    "        return 3\n",
    "    elif x<= quantiles[col][0.75]:\n",
    "        return 2\n",
    "    else :\n",
    "        return 1\n"
   ],
   "id": "b8aef97548ad2d02",
   "outputs": [],
   "execution_count": 42
  },
  {
   "metadata": {
    "ExecuteTime": {
     "end_time": "2024-10-24T00:44:35.310963Z",
     "start_time": "2024-10-24T00:44:35.121528Z"
    }
   },
   "cell_type": "code",
   "source": [
    "rfm['R'] = rfm['recency'].apply(RMScore)\n",
    "rfm['F'] = rfm['frequency'].apply(lambda x:FMScore(x,'frequency'))\n",
    "rfm['M'] = rfm['monetary'].apply(lambda x:FMScore(x,'monetary'))"
   ],
   "id": "154d2e49b70aee3e",
   "outputs": [],
   "execution_count": 45
  },
  {
   "metadata": {
    "ExecuteTime": {
     "end_time": "2024-10-24T00:59:21.183719Z",
     "start_time": "2024-10-24T00:59:21.109959Z"
    }
   },
   "cell_type": "code",
   "source": [
    "from pyecharts.globals import CurrentConfig  # 加载全局配置\n",
    "CurrentConfig.ONLINE_HOST = \"http://127.0.0.1:8000/assets/\"  # 设定静态资源地址\n",
    "from pyecharts.datasets import register_url  # 部分地图文件注册\n",
    "# 注册本地服务器的地图数据源\n",
    "register_url(\"http://127.0.0.1:8000/\") "
   ],
   "id": "a4b55f2f67b1b817",
   "outputs": [],
   "execution_count": 50
  },
  {
   "metadata": {
    "ExecuteTime": {
     "end_time": "2024-10-24T00:54:00.453968Z",
     "start_time": "2024-10-24T00:54:00.104597Z"
    }
   },
   "cell_type": "code",
   "source": [
    "from pyecharts import options as opts\n",
    "import json\n",
    "import os\n",
    "filenames = os.listdir('./user_action/maps/')\n",
    "hnhb = {'type': 'FeatureCollection','features':[]}\n",
    "for i in filenames:\n",
    "    with open(f\"./user_action/maps/{i}\",'r',encoding='utf-8') as f:\n",
    "        data = json.loads(f.read())\n",
    "        hnhb['features'].append(data)\n",
    "target_data = \"\"\"{\n",
    "        \"type\": \"FeatureCollection\",\n",
    "        \"features\": []}\"\"\"\n",
    "target_data = json.loads(target_data)\n",
    "list_region = os.listdir('./user_action/maps/')\n",
    "name_list = []\n",
    "for lr in list_region:\n",
    "    with open(f\"./user_action/maps/{lr}\", 'r', encoding='utf-8') as f:\n",
    "        temp = json.load(f)\n",
    "        temp = temp['features']\n",
    "        for tp in temp:\n",
    "            name = tp['properties']['name']\n",
    "            # 将area加入tp节点并传入target_data\n",
    "            tp['properties']['area'] = '湖南湖北'\n",
    "            target_data['features'].append(tp)\n",
    "            name_list.append((name, np.random.randint(100, 5000)))\n",
    "from pyecharts.charts import Map\n",
    "maps = Map(init_opts=opts.InitOpts(theme='light',\n",
    "                                      width='1000px',\n",
    "                                      height='600px'))\n",
    "maps.add_js_funcs(f\"echarts.registerMap('湖南湖北', {target_data});\")\n",
    "# 引用添加的地图\n",
    "maps.add(\"湖南湖北\",[('河南省',100)],maptype='湖南湖北')\n",
    "maps.render()"
   ],
   "id": "66a7b08da668d1c4",
   "outputs": [
    {
     "data": {
      "text/plain": [
       "'C:\\\\Users\\\\wang\\\\Desktop\\\\pyLearn\\\\综合实训课程1\\\\淘宝用户行为分析\\\\render.html'"
      ]
     },
     "execution_count": 48,
     "metadata": {},
     "output_type": "execute_result"
    }
   ],
   "execution_count": 48
  },
  {
   "metadata": {
    "ExecuteTime": {
     "end_time": "2024-10-24T02:42:21.412940Z",
     "start_time": "2024-10-24T02:42:21.160129Z"
    }
   },
   "cell_type": "code",
   "source": [
    "from pyecharts import options as opts\n",
    "import json\n",
    "import os\n",
    "import numpy as np\n",
    "from pyecharts.charts import Map\n",
    "\n",
    "# 获取文件列表\n",
    "filenames = os.listdir('./user_action/maps/')\n",
    "\n",
    "# 创建湖南湖北的地理数据集合\n",
    "hnhb = {'type': 'FeatureCollection', 'features': []}\n",
    "for i in filenames:\n",
    "    with open(f\"./user_action/maps/{i}\", 'r', encoding='utf-8') as f:\n",
    "        data = json.loads(f.read())\n",
    "        hnhb['features'].append(data)\n",
    "\n",
    "target_data = \"\"\"{\n",
    "        \"type\": \"FeatureCollection\",\n",
    "        \"features\": []}\"\"\"\n",
    "target_data = json.loads(target_data)\n",
    "\n",
    "list_region = os.listdir('./user_action/maps/')\n",
    "name_list = []\n",
    "for lr in list_region:\n",
    "    with open(f\"./user_action/maps/{lr}\", 'r', encoding='utf-8') as f:\n",
    "        temp = json.load(f)\n",
    "        temp = temp['features']\n",
    "        for tp in temp:\n",
    "            name = tp['properties']['name']\n",
    "            if name in ['湖南省', '湖北省']:\n",
    "                # 将 area 加入 tp 节点并传入 target_data\n",
    "                tp['properties']['area'] = '湖南湖北'\n",
    "                target_data['features'].append(tp)\n",
    "                name_list.append((name, np.random.randint(100, 5000)))\n",
    "\n",
    "# 创建地图对象\n",
    "maps = Map(init_opts=opts.InitOpts(theme='light',\n",
    "                                      width='1000px',\n",
    "                                      height='600px'))\n",
    "\n",
    "# 注册湖南湖北地图\n",
    "maps.add_js_funcs(f\"echarts.registerMap('湖南湖北', {target_data});\")\n",
    "\n",
    "# 绘制湖南湖北地图，不显示具体市的数据\n",
    "maps.add(\"湖南湖北\", [('湖南湖北', np.random.randint(100, 5000))], maptype='湖南湖北')\n",
    "\n",
    "# 渲染地图\n",
    "maps.render()"
   ],
   "id": "9ee2f21ddd5806c6",
   "outputs": [
    {
     "ename": "FileNotFoundError",
     "evalue": "[WinError 3] 系统找不到指定的路径。: './user_action/maps/'",
     "output_type": "error",
     "traceback": [
      "\u001B[1;31m---------------------------------------------------------------------------\u001B[0m",
      "\u001B[1;31mFileNotFoundError\u001B[0m                         Traceback (most recent call last)",
      "Cell \u001B[1;32mIn[52], line 8\u001B[0m\n\u001B[0;32m      5\u001B[0m \u001B[38;5;28;01mfrom\u001B[39;00m \u001B[38;5;21;01mpyecharts\u001B[39;00m\u001B[38;5;21;01m.\u001B[39;00m\u001B[38;5;21;01mcharts\u001B[39;00m \u001B[38;5;28;01mimport\u001B[39;00m Map\n\u001B[0;32m      7\u001B[0m \u001B[38;5;66;03m# 获取文件列表\u001B[39;00m\n\u001B[1;32m----> 8\u001B[0m filenames \u001B[38;5;241m=\u001B[39m \u001B[43mos\u001B[49m\u001B[38;5;241;43m.\u001B[39;49m\u001B[43mlistdir\u001B[49m\u001B[43m(\u001B[49m\u001B[38;5;124;43m'\u001B[39;49m\u001B[38;5;124;43m./user_action/maps/\u001B[39;49m\u001B[38;5;124;43m'\u001B[39;49m\u001B[43m)\u001B[49m\n\u001B[0;32m     10\u001B[0m \u001B[38;5;66;03m# 创建湖南湖北的地理数据集合\u001B[39;00m\n\u001B[0;32m     11\u001B[0m hnhb \u001B[38;5;241m=\u001B[39m {\u001B[38;5;124m'\u001B[39m\u001B[38;5;124mtype\u001B[39m\u001B[38;5;124m'\u001B[39m: \u001B[38;5;124m'\u001B[39m\u001B[38;5;124mFeatureCollection\u001B[39m\u001B[38;5;124m'\u001B[39m, \u001B[38;5;124m'\u001B[39m\u001B[38;5;124mfeatures\u001B[39m\u001B[38;5;124m'\u001B[39m: []}\n",
      "\u001B[1;31mFileNotFoundError\u001B[0m: [WinError 3] 系统找不到指定的路径。: './user_action/maps/'"
     ]
    }
   ],
   "execution_count": 52
  },
  {
   "metadata": {},
   "cell_type": "code",
   "outputs": [],
   "execution_count": null,
   "source": "",
   "id": "f71cc9af2a1a8ac7"
  }
 ],
 "metadata": {
  "kernelspec": {
   "display_name": "Python 3",
   "language": "python",
   "name": "python3"
  },
  "language_info": {
   "codemirror_mode": {
    "name": "ipython",
    "version": 2
   },
   "file_extension": ".py",
   "mimetype": "text/x-python",
   "name": "python",
   "nbconvert_exporter": "python",
   "pygments_lexer": "ipython2",
   "version": "2.7.6"
  }
 },
 "nbformat": 4,
 "nbformat_minor": 5
}
