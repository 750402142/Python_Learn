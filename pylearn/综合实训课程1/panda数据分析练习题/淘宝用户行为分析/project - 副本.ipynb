{
 "cells": [
  {
   "metadata": {},
   "cell_type": "markdown",
   "source": "# 淘宝用户购物行为数据分析",
   "id": "cf95ec749981e3b5"
  },
  {
   "metadata": {
    "collapsed": true,
    "ExecuteTime": {
     "end_time": "2024-10-22T14:42:46.616224Z",
     "start_time": "2024-10-22T14:42:46.130567Z"
    }
   },
   "cell_type": "code",
   "source": [
    "from calendar import day_name\n",
    "\n",
    "import pandas as pd"
   ],
   "id": "initial_id",
   "outputs": [],
   "execution_count": 1
  },
  {
   "metadata": {
    "ExecuteTime": {
     "end_time": "2024-10-22T14:42:51.616022Z",
     "start_time": "2024-10-22T14:42:47.910147Z"
    }
   },
   "cell_type": "code",
   "source": "data = pd.read_csv('./user_action/user_action.csv')",
   "id": "4249f22961b151f2",
   "outputs": [],
   "execution_count": 2
  },
  {
   "metadata": {
    "ExecuteTime": {
     "end_time": "2024-10-21T13:47:31.033990Z",
     "start_time": "2024-10-21T13:47:31.017088Z"
    }
   },
   "cell_type": "code",
   "source": "data.head()",
   "id": "47ad1803e6827a11",
   "outputs": [
    {
     "data": {
      "text/plain": [
       "    user_id    item_id  behavior_type  item_category           time\n",
       "0  98047837  232431562              1           4245  2014-12-06 02\n",
       "1  97726136  383583590              1           5894  2014-12-09 20\n",
       "2  98607707   64749712              1           2883  2014-12-18 11\n",
       "3  98662432  320593836              1           6562  2014-12-06 10\n",
       "4  98145908  290208520              1          13926  2014-12-16 21"
      ],
      "text/html": [
       "<div>\n",
       "<style scoped>\n",
       "    .dataframe tbody tr th:only-of-type {\n",
       "        vertical-align: middle;\n",
       "    }\n",
       "\n",
       "    .dataframe tbody tr th {\n",
       "        vertical-align: top;\n",
       "    }\n",
       "\n",
       "    .dataframe thead th {\n",
       "        text-align: right;\n",
       "    }\n",
       "</style>\n",
       "<table border=\"1\" class=\"dataframe\">\n",
       "  <thead>\n",
       "    <tr style=\"text-align: right;\">\n",
       "      <th></th>\n",
       "      <th>user_id</th>\n",
       "      <th>item_id</th>\n",
       "      <th>behavior_type</th>\n",
       "      <th>item_category</th>\n",
       "      <th>time</th>\n",
       "    </tr>\n",
       "  </thead>\n",
       "  <tbody>\n",
       "    <tr>\n",
       "      <th>0</th>\n",
       "      <td>98047837</td>\n",
       "      <td>232431562</td>\n",
       "      <td>1</td>\n",
       "      <td>4245</td>\n",
       "      <td>2014-12-06 02</td>\n",
       "    </tr>\n",
       "    <tr>\n",
       "      <th>1</th>\n",
       "      <td>97726136</td>\n",
       "      <td>383583590</td>\n",
       "      <td>1</td>\n",
       "      <td>5894</td>\n",
       "      <td>2014-12-09 20</td>\n",
       "    </tr>\n",
       "    <tr>\n",
       "      <th>2</th>\n",
       "      <td>98607707</td>\n",
       "      <td>64749712</td>\n",
       "      <td>1</td>\n",
       "      <td>2883</td>\n",
       "      <td>2014-12-18 11</td>\n",
       "    </tr>\n",
       "    <tr>\n",
       "      <th>3</th>\n",
       "      <td>98662432</td>\n",
       "      <td>320593836</td>\n",
       "      <td>1</td>\n",
       "      <td>6562</td>\n",
       "      <td>2014-12-06 10</td>\n",
       "    </tr>\n",
       "    <tr>\n",
       "      <th>4</th>\n",
       "      <td>98145908</td>\n",
       "      <td>290208520</td>\n",
       "      <td>1</td>\n",
       "      <td>13926</td>\n",
       "      <td>2014-12-16 21</td>\n",
       "    </tr>\n",
       "  </tbody>\n",
       "</table>\n",
       "</div>"
      ]
     },
     "execution_count": 3,
     "metadata": {},
     "output_type": "execute_result"
    }
   ],
   "execution_count": 3
  },
  {
   "metadata": {},
   "cell_type": "markdown",
   "source": "## 任务目标一:从数据集角度分析",
   "id": "62358dfcb8ef41b9"
  },
  {
   "metadata": {
    "ExecuteTime": {
     "end_time": "2024-10-21T02:41:35.557777Z",
     "start_time": "2024-10-21T02:41:35.554777Z"
    }
   },
   "cell_type": "code",
   "source": [
    "# 任务1\n",
    "## 行数和列数\n",
    "r = data.shape[0]\n",
    "c = len(data.columns)"
   ],
   "id": "e16360526222029a",
   "outputs": [],
   "execution_count": 5
  },
  {
   "metadata": {
    "ExecuteTime": {
     "end_time": "2024-10-21T02:43:57.098481Z",
     "start_time": "2024-10-21T02:43:57.026891Z"
    }
   },
   "cell_type": "code",
   "source": [
    "#唯一user_id的数量\n",
    "data['user_id'].nunique()#去除重复数据之后的数据量"
   ],
   "id": "563f06f980a3821",
   "outputs": [],
   "execution_count": 12
  },
  {
   "metadata": {
    "ExecuteTime": {
     "end_time": "2024-10-21T13:50:16.590808Z",
     "start_time": "2024-10-21T13:50:16.036579Z"
    }
   },
   "cell_type": "code",
   "source": [
    "#唯一item_id的数量\n",
    "data['item_id'].nunique()"
   ],
   "id": "e4956226c9f0526e",
   "outputs": [
    {
     "data": {
      "text/plain": [
       "2876947"
      ]
     },
     "execution_count": 6,
     "metadata": {},
     "output_type": "execute_result"
    }
   ],
   "execution_count": 6
  },
  {
   "metadata": {
    "ExecuteTime": {
     "end_time": "2024-10-21T13:54:25.273951Z",
     "start_time": "2024-10-21T13:54:25.204385Z"
    }
   },
   "cell_type": "code",
   "source": [
    "# item_category的唯一值的数量\n",
    "data['item_category'].nunique()"
   ],
   "id": "720341dc6e5a89a7",
   "outputs": [
    {
     "data": {
      "text/plain": [
       "8916"
      ]
     },
     "execution_count": 7,
     "metadata": {},
     "output_type": "execute_result"
    }
   ],
   "execution_count": 7
  },
  {
   "metadata": {
    "ExecuteTime": {
     "end_time": "2024-10-22T06:53:42.994628Z",
     "start_time": "2024-10-22T06:53:42.984619Z"
    }
   },
   "cell_type": "code",
   "source": [
    "dicts = {\n",
    "    1:'浏览',\n",
    "    2:'收藏',\n",
    "    3:'加购物车',\n",
    "    4:'购买'\n",
    "}"
   ],
   "id": "52a7a392d4a1f6e9",
   "outputs": [],
   "execution_count": 3
  },
  {
   "metadata": {
    "ExecuteTime": {
     "end_time": "2024-10-22T06:53:44.232255Z",
     "start_time": "2024-10-22T06:53:44.021255Z"
    }
   },
   "cell_type": "code",
   "source": "data['behavior_type'] = data['behavior_type'].map(dicts)",
   "id": "9ce0146bea5d9407",
   "outputs": [],
   "execution_count": 4
  },
  {
   "metadata": {
    "ExecuteTime": {
     "end_time": "2024-10-21T13:55:41.079310Z",
     "start_time": "2024-10-21T13:55:40.757211Z"
    }
   },
   "cell_type": "code",
   "source": "data['behavior_type'].value_counts()",
   "id": "108c07208fa5155",
   "outputs": [
    {
     "data": {
      "text/plain": [
       "behavior_type\n",
       "浏览      11550581\n",
       "加购物车      343564\n",
       "收藏        242556\n",
       "购买        120205\n",
       "Name: count, dtype: int64"
      ]
     },
     "execution_count": 10,
     "metadata": {},
     "output_type": "execute_result"
    }
   ],
   "execution_count": 10
  },
  {
   "metadata": {
    "ExecuteTime": {
     "end_time": "2024-10-22T14:42:57.266071Z",
     "start_time": "2024-10-22T14:42:55.741152Z"
    }
   },
   "cell_type": "code",
   "source": [
    "#统计时间跨度\n",
    "data['time'] = pd.to_datetime(data['time'])\n",
    "data['time'].describe()#描述性值来计算时间跨度"
   ],
   "id": "551777be5b9a16d5",
   "outputs": [
    {
     "data": {
      "text/plain": [
       "count                         12256906\n",
       "mean     2014-12-04 04:47:28.445699072\n",
       "min                2014-11-18 00:00:00\n",
       "25%                2014-11-26 15:00:00\n",
       "50%                2014-12-04 14:00:00\n",
       "75%                2014-12-11 23:00:00\n",
       "max                2014-12-18 23:00:00\n",
       "Name: time, dtype: object"
      ]
     },
     "execution_count": 3,
     "metadata": {},
     "output_type": "execute_result"
    }
   ],
   "execution_count": 3
  },
  {
   "metadata": {
    "ExecuteTime": {
     "end_time": "2024-10-21T14:08:07.947887Z",
     "start_time": "2024-10-21T14:08:07.654390Z"
    }
   },
   "cell_type": "code",
   "source": [
    "#缺失值的处理\n",
    "data.isna().sum()#计算每列缺失值的数量"
   ],
   "id": "29e36b7007427bbe",
   "outputs": [
    {
     "data": {
      "text/plain": [
       "          user_id  item_id  behavior_type  item_category   time\n",
       "0           False    False          False          False  False\n",
       "1           False    False          False          False  False\n",
       "2           False    False          False          False  False\n",
       "3           False    False          False          False  False\n",
       "4           False    False          False          False  False\n",
       "...           ...      ...            ...            ...    ...\n",
       "12256901    False    False          False          False  False\n",
       "12256902    False    False          False          False  False\n",
       "12256903    False    False          False          False  False\n",
       "12256904    False    False          False          False  False\n",
       "12256905    False    False          False          False  False\n",
       "\n",
       "[12256906 rows x 5 columns]"
      ],
      "text/html": [
       "<div>\n",
       "<style scoped>\n",
       "    .dataframe tbody tr th:only-of-type {\n",
       "        vertical-align: middle;\n",
       "    }\n",
       "\n",
       "    .dataframe tbody tr th {\n",
       "        vertical-align: top;\n",
       "    }\n",
       "\n",
       "    .dataframe thead th {\n",
       "        text-align: right;\n",
       "    }\n",
       "</style>\n",
       "<table border=\"1\" class=\"dataframe\">\n",
       "  <thead>\n",
       "    <tr style=\"text-align: right;\">\n",
       "      <th></th>\n",
       "      <th>user_id</th>\n",
       "      <th>item_id</th>\n",
       "      <th>behavior_type</th>\n",
       "      <th>item_category</th>\n",
       "      <th>time</th>\n",
       "    </tr>\n",
       "  </thead>\n",
       "  <tbody>\n",
       "    <tr>\n",
       "      <th>0</th>\n",
       "      <td>False</td>\n",
       "      <td>False</td>\n",
       "      <td>False</td>\n",
       "      <td>False</td>\n",
       "      <td>False</td>\n",
       "    </tr>\n",
       "    <tr>\n",
       "      <th>1</th>\n",
       "      <td>False</td>\n",
       "      <td>False</td>\n",
       "      <td>False</td>\n",
       "      <td>False</td>\n",
       "      <td>False</td>\n",
       "    </tr>\n",
       "    <tr>\n",
       "      <th>2</th>\n",
       "      <td>False</td>\n",
       "      <td>False</td>\n",
       "      <td>False</td>\n",
       "      <td>False</td>\n",
       "      <td>False</td>\n",
       "    </tr>\n",
       "    <tr>\n",
       "      <th>3</th>\n",
       "      <td>False</td>\n",
       "      <td>False</td>\n",
       "      <td>False</td>\n",
       "      <td>False</td>\n",
       "      <td>False</td>\n",
       "    </tr>\n",
       "    <tr>\n",
       "      <th>4</th>\n",
       "      <td>False</td>\n",
       "      <td>False</td>\n",
       "      <td>False</td>\n",
       "      <td>False</td>\n",
       "      <td>False</td>\n",
       "    </tr>\n",
       "    <tr>\n",
       "      <th>...</th>\n",
       "      <td>...</td>\n",
       "      <td>...</td>\n",
       "      <td>...</td>\n",
       "      <td>...</td>\n",
       "      <td>...</td>\n",
       "    </tr>\n",
       "    <tr>\n",
       "      <th>12256901</th>\n",
       "      <td>False</td>\n",
       "      <td>False</td>\n",
       "      <td>False</td>\n",
       "      <td>False</td>\n",
       "      <td>False</td>\n",
       "    </tr>\n",
       "    <tr>\n",
       "      <th>12256902</th>\n",
       "      <td>False</td>\n",
       "      <td>False</td>\n",
       "      <td>False</td>\n",
       "      <td>False</td>\n",
       "      <td>False</td>\n",
       "    </tr>\n",
       "    <tr>\n",
       "      <th>12256903</th>\n",
       "      <td>False</td>\n",
       "      <td>False</td>\n",
       "      <td>False</td>\n",
       "      <td>False</td>\n",
       "      <td>False</td>\n",
       "    </tr>\n",
       "    <tr>\n",
       "      <th>12256904</th>\n",
       "      <td>False</td>\n",
       "      <td>False</td>\n",
       "      <td>False</td>\n",
       "      <td>False</td>\n",
       "      <td>False</td>\n",
       "    </tr>\n",
       "    <tr>\n",
       "      <th>12256905</th>\n",
       "      <td>False</td>\n",
       "      <td>False</td>\n",
       "      <td>False</td>\n",
       "      <td>False</td>\n",
       "      <td>False</td>\n",
       "    </tr>\n",
       "  </tbody>\n",
       "</table>\n",
       "<p>12256906 rows × 5 columns</p>\n",
       "</div>"
      ]
     },
     "execution_count": 15,
     "metadata": {},
     "output_type": "execute_result"
    }
   ],
   "execution_count": 15
  },
  {
   "metadata": {
    "ExecuteTime": {
     "end_time": "2024-10-21T14:11:57.213894Z",
     "start_time": "2024-10-21T14:11:54.989468Z"
    }
   },
   "cell_type": "code",
   "source": [
    "#统计重复的行\n",
    "duplicated_rows = data[data.duplicated()]"
   ],
   "id": "2bdfa6f93b93522c",
   "outputs": [],
   "execution_count": 16
  },
  {
   "metadata": {
    "ExecuteTime": {
     "end_time": "2024-10-21T14:12:31.607254Z",
     "start_time": "2024-10-21T14:12:31.204941Z"
    }
   },
   "cell_type": "code",
   "source": "data['time'].dt.year.unique()",
   "id": "e2114ba12fc8bbb0",
   "outputs": [
    {
     "data": {
      "text/plain": [
       "array([2014], dtype=int32)"
      ]
     },
     "execution_count": 18,
     "metadata": {},
     "output_type": "execute_result"
    }
   ],
   "execution_count": 18
  },
  {
   "metadata": {
    "ExecuteTime": {
     "end_time": "2024-10-21T14:12:44.782795Z",
     "start_time": "2024-10-21T14:12:44.430258Z"
    }
   },
   "cell_type": "code",
   "source": "data['time'].dt.month",
   "id": "23e24ea259bb9c7f",
   "outputs": [
    {
     "data": {
      "text/plain": [
       "0           12\n",
       "1           12\n",
       "2           12\n",
       "3           12\n",
       "4           12\n",
       "            ..\n",
       "12256901    12\n",
       "12256902    12\n",
       "12256903    12\n",
       "12256904    12\n",
       "12256905    12\n",
       "Name: time, Length: 12256906, dtype: int32"
      ]
     },
     "execution_count": 20,
     "metadata": {},
     "output_type": "execute_result"
    }
   ],
   "execution_count": 20
  },
  {
   "metadata": {
    "ExecuteTime": {
     "end_time": "2024-10-22T14:43:45.452066Z",
     "start_time": "2024-10-22T14:43:03.260572Z"
    }
   },
   "cell_type": "code",
   "source": [
    "data['day_name'] = data['time'].dt.day_name()##统计每天周几\n",
    "data['month'] = data['time'].dt.month\n",
    "data['year'] = data['time'].dt.year\n",
    "data['month_day'] = data['time'].dt.strftime('%m-%d')"
   ],
   "id": "a202817f3f087e9e",
   "outputs": [],
   "execution_count": 4
  },
  {
   "metadata": {
    "ExecuteTime": {
     "end_time": "2024-10-21T14:18:38.309133Z",
     "start_time": "2024-10-21T14:18:01.596739Z"
    }
   },
   "cell_type": "code",
   "source": "data['month_day'] = data['time'].apply(lambda x:x.strftime('%m-%d'))",
   "id": "b4e47df8cb42b6a1",
   "outputs": [],
   "execution_count": 24
  },
  {
   "metadata": {
    "ExecuteTime": {
     "end_time": "2024-10-22T14:43:45.845065Z",
     "start_time": "2024-10-22T14:43:45.457055Z"
    }
   },
   "cell_type": "code",
   "source": "data['hour'] = data['time'].dt.hour",
   "id": "b4ed4701cb5f0c34",
   "outputs": [],
   "execution_count": 5
  },
  {
   "metadata": {
    "ExecuteTime": {
     "end_time": "2024-10-22T14:44:24.326062Z",
     "start_time": "2024-10-22T14:43:53.907238Z"
    }
   },
   "cell_type": "code",
   "source": "data.to_csv('./user_action/clear_data.csv')",
   "id": "e0a84660e43060b9",
   "outputs": [],
   "execution_count": 6
  },
  {
   "metadata": {},
   "cell_type": "markdown",
   "source": "## 任务目标2:PV和UV分析",
   "id": "f32b20cc5e538e10"
  },
  {
   "metadata": {
    "ExecuteTime": {
     "end_time": "2024-10-21T14:41:37.329950Z",
     "start_time": "2024-10-21T14:41:37.280020Z"
    }
   },
   "cell_type": "code",
   "source": [
    "# 要求进行11月和12月的PV量和UV量,并进行可视化工作\n",
    "PV_count = data['month'].value_counts().reset_index().values.tolist()"
   ],
   "id": "94b2b64b6bddabe3",
   "outputs": [],
   "execution_count": 47
  },
  {
   "metadata": {
    "ExecuteTime": {
     "end_time": "2024-10-21T14:42:04.084467Z",
     "start_time": "2024-10-21T14:42:04.012Z"
    }
   },
   "cell_type": "code",
   "source": "data2 = data.drop_duplicates(subset=['user_id'])",
   "id": "f76df474dd62af11",
   "outputs": [],
   "execution_count": 54
  },
  {
   "metadata": {
    "ExecuteTime": {
     "end_time": "2024-10-21T14:42:04.845254Z",
     "start_time": "2024-10-21T14:42:04.841256Z"
    }
   },
   "cell_type": "code",
   "source": "UV_count = data2['month'].value_counts().reset_index().values.tolist()",
   "id": "5f7098e3d296bfe7",
   "outputs": [],
   "execution_count": 55
  },
  {
   "metadata": {
    "ExecuteTime": {
     "end_time": "2024-10-21T14:41:47.586178Z",
     "start_time": "2024-10-21T14:41:47.580180Z"
    }
   },
   "cell_type": "code",
   "source": "PV_count",
   "id": "c913e20b64122edb",
   "outputs": [
    {
     "data": {
      "text/plain": [
       "[[12, 7512976], [11, 4743930]]"
      ]
     },
     "execution_count": 51,
     "metadata": {},
     "output_type": "execute_result"
    }
   ],
   "execution_count": 51
  },
  {
   "metadata": {
    "ExecuteTime": {
     "end_time": "2024-10-21T14:42:06.791044Z",
     "start_time": "2024-10-21T14:42:06.781045Z"
    }
   },
   "cell_type": "code",
   "source": "UV_count",
   "id": "d5e1d2e1e6206506",
   "outputs": [
    {
     "data": {
      "text/plain": [
       "[[12, 6141], [11, 3859]]"
      ]
     },
     "execution_count": 56,
     "metadata": {},
     "output_type": "execute_result"
    }
   ],
   "execution_count": 56
  },
  {
   "metadata": {
    "ExecuteTime": {
     "end_time": "2024-10-21T14:43:54.602936Z",
     "start_time": "2024-10-21T14:43:54.588946Z"
    }
   },
   "cell_type": "code",
   "source": [
    "itemstyle_pie = {\n",
    "    'normal': {\n",
    "        'borderRadius':15,\n",
    "        'borderWidth':.5,\n",
    "        'borderColor':'auto',\n",
    "    }\n",
    "}"
   ],
   "id": "d7a5b0bf6f21d020",
   "outputs": [],
   "execution_count": 60
  },
  {
   "metadata": {
    "ExecuteTime": {
     "end_time": "2024-10-22T08:14:19.161274Z",
     "start_time": "2024-10-22T08:14:19.155274Z"
    }
   },
   "cell_type": "code",
   "source": [
    "from pyecharts import options as opts\n",
    "from pyecharts.charts import Bar,Scatter,Pie,Timeline\n",
    "from pyecharts.globals import ThemeType,ChartType,SymbolType,JsCode"
   ],
   "id": "9eed093314c983a3",
   "outputs": [],
   "execution_count": 39
  },
  {
   "metadata": {
    "ExecuteTime": {
     "end_time": "2024-10-21T14:45:41.682978Z",
     "start_time": "2024-10-21T14:45:41.662978Z"
    }
   },
   "cell_type": "code",
   "source": [
    "from pyecharts.charts import Pie\n",
    "\n",
    "pie=(Pie(init_opts=opts.InitOpts(theme=ThemeType.DARK,width='100%',height='95vh'))\n",
    "    .add(series_name='PV量',data_pair=PV_count,\n",
    "        rosetype='area', \n",
    "        radius=['20%','40%'],\n",
    "        center=['20%','55%'],\n",
    "        label_opts=opts.LabelOpts(formatter='{b}:{c}'),\n",
    "        itemstyle_opts=itemstyle_pie,\n",
    "        )\n",
    "     .add(series_name='UV量',data_pair=UV_count,\n",
    "        rosetype='area', \n",
    "        radius=['20%','40%'],\n",
    "        center=['75%','55%'],\n",
    "        label_opts=opts.LabelOpts(formatter='{b}:{c}'),\n",
    "        itemstyle_opts=itemstyle_pie,\n",
    "        )\n",
    "     .set_global_opts(\n",
    "         title_opts=[\n",
    "              dict(text='PV量',top='53%',left='19%'),\n",
    "              dict(text='UV量',top='53%',left='74%'),\n",
    "         ],\n",
    "         legend_opts=opts.LegendOpts(pos_top='5%'),\n",
    "         tooltip_opts=opts.TooltipOpts(trigger='item'),\n",
    "                      )\n",
    "   )\n",
    "pie.render('./result/Q1.html')"
   ],
   "id": "eecdb099a49066b1",
   "outputs": [
    {
     "data": {
      "text/plain": [
       "'C:\\\\Users\\\\wang\\\\Desktop\\\\pyLearn\\\\综合实训课程1\\\\淘宝用户行为分析\\\\result\\\\Q1.html'"
      ]
     },
     "execution_count": 63,
     "metadata": {},
     "output_type": "execute_result"
    }
   ],
   "execution_count": 63
  },
  {
   "metadata": {
    "ExecuteTime": {
     "end_time": "2024-10-22T00:05:16.346278Z",
     "start_time": "2024-10-22T00:05:16.190999Z"
    }
   },
   "cell_type": "code",
   "source": [
    "from pyecharts.globals import CurrentConfig  # 加载全局配置\n",
    "CurrentConfig.ONLINE_HOST = \"http://127.0.0.1:8000/assets/\"  # 设定静态资源地址\n",
    "from pyecharts.datasets import register_url  # 部分地图文件注册\n",
    "# 注册本地服务器的地图数据源\n",
    "register_url(\"http://127.0.0.1:8000/\") "
   ],
   "id": "a6eb928cfb1f51d6",
   "outputs": [],
   "execution_count": 8
  },
  {
   "metadata": {
    "ExecuteTime": {
     "end_time": "2024-10-22T00:07:20.139586Z",
     "start_time": "2024-10-22T00:07:19.277491Z"
    }
   },
   "cell_type": "code",
   "source": "dp4 = data.groupby(['month_day'])['user_id'].agg([('pv','count'),('uv','nunique')])",
   "id": "c93a3421e69a5939",
   "outputs": [],
   "execution_count": 9
  },
  {
   "metadata": {
    "ExecuteTime": {
     "end_time": "2024-10-22T00:12:58.901553Z",
     "start_time": "2024-10-22T00:12:58.880920Z"
    }
   },
   "cell_type": "code",
   "source": "dp4",
   "id": "cb653aedc78bbd67",
   "outputs": [
    {
     "data": {
      "text/plain": [
       "               pv    uv\n",
       "month_day              \n",
       "11-18      366701  6343\n",
       "11-19      358823  6420\n",
       "11-20      353429  6333\n",
       "11-21      333104  6276\n",
       "11-22      361355  6187\n",
       "11-23      382702  6373\n",
       "11-24      378342  6513\n",
       "11-25      370239  6351\n",
       "11-26      360896  6357\n",
       "11-27      371384  6359\n",
       "11-28      340638  6189\n",
       "11-29      364697  6224\n",
       "11-30      401620  6379\n",
       "12-01      394611  6544\n",
       "12-02      405216  6550\n",
       "12-03      411606  6585\n",
       "12-04      399952  6531\n",
       "12-05      361878  6367\n",
       "12-06      389610  6440\n",
       "12-07      399751  6422\n",
       "12-08      386667  6564\n",
       "12-09      398025  6566\n",
       "12-10      421910  6652\n",
       "12-11      488508  6894\n",
       "12-12      691712  7720\n",
       "12-13      407160  6776\n",
       "12-14      402541  6668\n",
       "12-15      398356  6787\n",
       "12-16      395085  6729\n",
       "12-17      384791  6643\n",
       "12-18      375597  6582"
      ],
      "text/html": [
       "<div>\n",
       "<style scoped>\n",
       "    .dataframe tbody tr th:only-of-type {\n",
       "        vertical-align: middle;\n",
       "    }\n",
       "\n",
       "    .dataframe tbody tr th {\n",
       "        vertical-align: top;\n",
       "    }\n",
       "\n",
       "    .dataframe thead th {\n",
       "        text-align: right;\n",
       "    }\n",
       "</style>\n",
       "<table border=\"1\" class=\"dataframe\">\n",
       "  <thead>\n",
       "    <tr style=\"text-align: right;\">\n",
       "      <th></th>\n",
       "      <th>pv</th>\n",
       "      <th>uv</th>\n",
       "    </tr>\n",
       "    <tr>\n",
       "      <th>month_day</th>\n",
       "      <th></th>\n",
       "      <th></th>\n",
       "    </tr>\n",
       "  </thead>\n",
       "  <tbody>\n",
       "    <tr>\n",
       "      <th>11-18</th>\n",
       "      <td>366701</td>\n",
       "      <td>6343</td>\n",
       "    </tr>\n",
       "    <tr>\n",
       "      <th>11-19</th>\n",
       "      <td>358823</td>\n",
       "      <td>6420</td>\n",
       "    </tr>\n",
       "    <tr>\n",
       "      <th>11-20</th>\n",
       "      <td>353429</td>\n",
       "      <td>6333</td>\n",
       "    </tr>\n",
       "    <tr>\n",
       "      <th>11-21</th>\n",
       "      <td>333104</td>\n",
       "      <td>6276</td>\n",
       "    </tr>\n",
       "    <tr>\n",
       "      <th>11-22</th>\n",
       "      <td>361355</td>\n",
       "      <td>6187</td>\n",
       "    </tr>\n",
       "    <tr>\n",
       "      <th>11-23</th>\n",
       "      <td>382702</td>\n",
       "      <td>6373</td>\n",
       "    </tr>\n",
       "    <tr>\n",
       "      <th>11-24</th>\n",
       "      <td>378342</td>\n",
       "      <td>6513</td>\n",
       "    </tr>\n",
       "    <tr>\n",
       "      <th>11-25</th>\n",
       "      <td>370239</td>\n",
       "      <td>6351</td>\n",
       "    </tr>\n",
       "    <tr>\n",
       "      <th>11-26</th>\n",
       "      <td>360896</td>\n",
       "      <td>6357</td>\n",
       "    </tr>\n",
       "    <tr>\n",
       "      <th>11-27</th>\n",
       "      <td>371384</td>\n",
       "      <td>6359</td>\n",
       "    </tr>\n",
       "    <tr>\n",
       "      <th>11-28</th>\n",
       "      <td>340638</td>\n",
       "      <td>6189</td>\n",
       "    </tr>\n",
       "    <tr>\n",
       "      <th>11-29</th>\n",
       "      <td>364697</td>\n",
       "      <td>6224</td>\n",
       "    </tr>\n",
       "    <tr>\n",
       "      <th>11-30</th>\n",
       "      <td>401620</td>\n",
       "      <td>6379</td>\n",
       "    </tr>\n",
       "    <tr>\n",
       "      <th>12-01</th>\n",
       "      <td>394611</td>\n",
       "      <td>6544</td>\n",
       "    </tr>\n",
       "    <tr>\n",
       "      <th>12-02</th>\n",
       "      <td>405216</td>\n",
       "      <td>6550</td>\n",
       "    </tr>\n",
       "    <tr>\n",
       "      <th>12-03</th>\n",
       "      <td>411606</td>\n",
       "      <td>6585</td>\n",
       "    </tr>\n",
       "    <tr>\n",
       "      <th>12-04</th>\n",
       "      <td>399952</td>\n",
       "      <td>6531</td>\n",
       "    </tr>\n",
       "    <tr>\n",
       "      <th>12-05</th>\n",
       "      <td>361878</td>\n",
       "      <td>6367</td>\n",
       "    </tr>\n",
       "    <tr>\n",
       "      <th>12-06</th>\n",
       "      <td>389610</td>\n",
       "      <td>6440</td>\n",
       "    </tr>\n",
       "    <tr>\n",
       "      <th>12-07</th>\n",
       "      <td>399751</td>\n",
       "      <td>6422</td>\n",
       "    </tr>\n",
       "    <tr>\n",
       "      <th>12-08</th>\n",
       "      <td>386667</td>\n",
       "      <td>6564</td>\n",
       "    </tr>\n",
       "    <tr>\n",
       "      <th>12-09</th>\n",
       "      <td>398025</td>\n",
       "      <td>6566</td>\n",
       "    </tr>\n",
       "    <tr>\n",
       "      <th>12-10</th>\n",
       "      <td>421910</td>\n",
       "      <td>6652</td>\n",
       "    </tr>\n",
       "    <tr>\n",
       "      <th>12-11</th>\n",
       "      <td>488508</td>\n",
       "      <td>6894</td>\n",
       "    </tr>\n",
       "    <tr>\n",
       "      <th>12-12</th>\n",
       "      <td>691712</td>\n",
       "      <td>7720</td>\n",
       "    </tr>\n",
       "    <tr>\n",
       "      <th>12-13</th>\n",
       "      <td>407160</td>\n",
       "      <td>6776</td>\n",
       "    </tr>\n",
       "    <tr>\n",
       "      <th>12-14</th>\n",
       "      <td>402541</td>\n",
       "      <td>6668</td>\n",
       "    </tr>\n",
       "    <tr>\n",
       "      <th>12-15</th>\n",
       "      <td>398356</td>\n",
       "      <td>6787</td>\n",
       "    </tr>\n",
       "    <tr>\n",
       "      <th>12-16</th>\n",
       "      <td>395085</td>\n",
       "      <td>6729</td>\n",
       "    </tr>\n",
       "    <tr>\n",
       "      <th>12-17</th>\n",
       "      <td>384791</td>\n",
       "      <td>6643</td>\n",
       "    </tr>\n",
       "    <tr>\n",
       "      <th>12-18</th>\n",
       "      <td>375597</td>\n",
       "      <td>6582</td>\n",
       "    </tr>\n",
       "  </tbody>\n",
       "</table>\n",
       "</div>"
      ]
     },
     "execution_count": 16,
     "metadata": {},
     "output_type": "execute_result"
    }
   ],
   "execution_count": 16
  },
  {
   "metadata": {
    "ExecuteTime": {
     "end_time": "2024-10-22T00:07:24.777500Z",
     "start_time": "2024-10-22T00:07:24.765721Z"
    }
   },
   "cell_type": "code",
   "source": [
    "dp4_pv = dp4['pv'].reset_index().values.tolist()\n",
    "dp4_uv = dp4['uv'].reset_index().values.tolist()"
   ],
   "id": "91f5c637136e8827",
   "outputs": [],
   "execution_count": 10
  },
  {
   "metadata": {
    "ExecuteTime": {
     "end_time": "2024-10-22T00:14:50.219658Z",
     "start_time": "2024-10-22T00:14:50.212448Z"
    }
   },
   "cell_type": "code",
   "source": "",
   "id": "d71ab7c9addda915",
   "outputs": [
    {
     "data": {
      "text/plain": [
       "Index(['11-18', '11-19', '11-20', '11-21', '11-22', '11-23', '11-24', '11-25',\n",
       "       '11-26', '11-27', '11-28', '11-29', '11-30', '12-01', '12-02', '12-03',\n",
       "       '12-04', '12-05', '12-06', '12-07', '12-08', '12-09', '12-10', '12-11',\n",
       "       '12-12', '12-13', '12-14', '12-15', '12-16', '12-17', '12-18'],\n",
       "      dtype='object', name='month_day')"
      ]
     },
     "execution_count": 19,
     "metadata": {},
     "output_type": "execute_result"
    }
   ],
   "execution_count": 19
  },
  {
   "metadata": {
    "ExecuteTime": {
     "end_time": "2024-10-22T00:10:37.873387Z",
     "start_time": "2024-10-22T00:10:37.854228Z"
    }
   },
   "cell_type": "code",
   "source": [
    "bar_itemstyle1 = {\n",
    "    'normal': {\n",
    "        'color': JsCode(\"\"\"new echarts.graphic.LinearGradient(0, 0, 1, 1, [\n",
    "          { offset: 0, color: 'rgb(49, 141, 234)' },\n",
    "          { offset: 1, color: 'rgb(224, 62, 76)' }\n",
    "        ],)\"\"\"),\n",
    "        'barBorderRadius': [10,10,10,10],      #  柱子的四个角圆角设计​\n",
    "        'shadowColor':'rgba(108,80,243,0.9)', # 阴影的颜色​\n",
    "        'shadowBlur':5, # 阴影的宽度​\n",
    "    }\n",
    "}\n",
    "bar_itemstyle = {\n",
    "    'normal': {\n",
    "        'color': JsCode(\"\"\"new echarts.graphic.LinearGradient(0, 0, 1, 1, [\n",
    "          { offset: 0, color: 'rgb(255, 191, 0)' },\n",
    "          { offset: 1, color: 'rgb(224, 62, 76)' }\n",
    "        ],)\"\"\"),\n",
    "        'barBorderRadius': [10,10,10,10],      #  柱子的四个角圆角设计\n",
    "        'shadowColor':'rgba(108,80,243,0.9)', # 阴影的颜色\n",
    "        'shadowBlur':5, # 阴影的宽度\n",
    "    }\n",
    "}\n",
    "\n",
    "line_itemstyle1 = {\n",
    "    'normal': {\n",
    "        'color': JsCode(\"\"\"new echarts.graphic.LinearGradient(0, 0, 1, 1, [\n",
    "          { offset: 0, color: 'rgb(49, 141, 234)' },\n",
    "          { offset: 1, color: 'rgb(224, 62, 76)' }\n",
    "        ],)\"\"\"),\n",
    "        'barBorderRadius': [10,10,10,10],      #  柱子的四个角圆角设计​\n",
    "        'shadowColor':'rgba(108,80,243,0.9)', # 阴影的颜色​\n",
    "        'shadowBlur':5, # 阴影的宽度​\n",
    "        'width':2,\n",
    "    }\n",
    "}\n",
    "line_itemstyle = {\n",
    "    'normal': {\n",
    "        'color': JsCode(\"\"\"new echarts.graphic.LinearGradient(0, 0, 1, 1, [\n",
    "          { offset: 0, color: 'rgb(255, 191, 0)' },\n",
    "          { offset: 1, color: 'rgb(224, 62, 76)' }\n",
    "        ],)\"\"\"),\n",
    "        'barBorderRadius': [10,10,10,10],      #  柱子的四个角圆角设计\n",
    "        'shadowColor':'rgba(108,80,243,0.9)', # 阴影的颜色\n",
    "        'shadowBlur':5, # 阴影的宽度\n",
    "                'width':2,\n",
    "    }\n",
    "}"
   ],
   "id": "fb25dc5fc4e6ec21",
   "outputs": [],
   "execution_count": 14
  },
  {
   "metadata": {
    "ExecuteTime": {
     "end_time": "2024-10-22T00:10:43.089614Z",
     "start_time": "2024-10-22T00:10:43.054028Z"
    }
   },
   "cell_type": "code",
   "source": [
    "from pyecharts.charts import Line,Grid\n",
    "bar = (Bar()\n",
    "    .add_xaxis([i[0] for i in dp4_pv])\n",
    "    .add_yaxis('pv',[i[1] for i in dp4_pv],z=0,\n",
    "            itemstyle_opts=bar_itemstyle,\n",
    "              )\n",
    "    .set_global_opts(tooltip_opts=opts.TooltipOpts(trigger='axis',axis_pointer_type='cross'),\n",
    "            axispointer_opts=opts.AxisPointerOpts(is_show=True,link=\n",
    "                    [{'xAxisIndex':'all'},],),\n",
    "            datazoom_opts=opts.DataZoomOpts(xaxis_index=[0,1],type_='inside'),\n",
    "            xaxis_opts=opts.AxisOpts(splitline_opts={'show':False},\n",
    "                        axislabel_opts=opts.LabelOpts(font_weight='bold',color = 'white')),\n",
    "            yaxis_opts=opts.AxisOpts(splitline_opts={'show':False},\n",
    "                        axislabel_opts=opts.LabelOpts(font_weight='bold',color = 'white'),)                         \n",
    "                                                 \n",
    "                    \n",
    "                                     \n",
    "                    )\n",
    "    .set_series_opts(label_opts=opts.LabelOpts(is_show=False))\n",
    "      )\n",
    "bar1 = (Bar()\n",
    "    .add_xaxis([i[0] for i in dp4_uv])\n",
    "    .add_yaxis('uv',[i[1] for i in dp4_uv],z=0,\n",
    "            itemstyle_opts=bar_itemstyle1,\n",
    "              )\n",
    "        \n",
    "    .set_global_opts(legend_opts=opts.LegendOpts(pos_left='center',pos_top='5%' ))\n",
    "    .set_series_opts(label_opts=opts.LabelOpts(is_show=False))    \n",
    "      )\n",
    "line = (Line()\n",
    "    .add_xaxis([i[0] for i in dp4_pv])\n",
    "    .add_yaxis('pv-line',[i[1] for i in dp4_pv],z=1,\n",
    "              linestyle_opts=line_itemstyle\n",
    "              )\n",
    "    .set_series_opts(label_opts=opts.LabelOpts(is_show=False))   \n",
    "       )\n",
    "line1 = (Line()\n",
    "    .add_xaxis([i[0] for i in dp4_uv])\n",
    "    .add_yaxis('uv-line',[i[1] for i in dp4_uv],z=1,\n",
    "                            linestyle_opts=line_itemstyle1\n",
    "              )\n",
    "    .set_series_opts(label_opts=opts.LabelOpts(is_show=False))   \n",
    "       )\n",
    "bar.overlap(line)\n",
    "bar1.overlap(line1)\n",
    "grid = (Grid()\n",
    "    .add(bar,opts.GridOpts(pos_left='7%',pos_top='15%',pos_bottom='53%',pos_right='3%'))\n",
    "    .add(bar1,opts.GridOpts(pos_left='7%',pos_top='55%',pos_bottom='5%',pos_right='3%'))\n",
    "       )\n",
    "grid.render('./result/Q2_按天分析.html')"
   ],
   "id": "a222cdc07db71eb0",
   "outputs": [
    {
     "data": {
      "text/plain": [
       "'C:\\\\Users\\\\wang\\\\Desktop\\\\pyLearn\\\\综合实训课程1\\\\淘宝用户行为分析\\\\result\\\\Q2_按天分析.html'"
      ]
     },
     "execution_count": 15,
     "metadata": {},
     "output_type": "execute_result"
    }
   ],
   "execution_count": 15
  },
  {
   "metadata": {
    "ExecuteTime": {
     "end_time": "2024-10-22T00:32:17.342461Z",
     "start_time": "2024-10-22T00:32:17.212308Z"
    }
   },
   "cell_type": "code",
   "source": "hour_pv = data.groupby(by = 'hour')['user_id'].count().reset_index().values.tolist()\n",
   "id": "396ae9ffdd8548da",
   "outputs": [],
   "execution_count": 27
  },
  {
   "metadata": {
    "ExecuteTime": {
     "end_time": "2024-10-22T00:32:36.714542Z",
     "start_time": "2024-10-22T00:32:36.267456Z"
    }
   },
   "cell_type": "code",
   "source": "hour_uv = data.groupby(by = 'hour')['user_id'].nunique().reset_index().values.tolist()",
   "id": "e569db915e989bdc",
   "outputs": [],
   "execution_count": 30
  },
  {
   "metadata": {
    "ExecuteTime": {
     "end_time": "2024-10-22T01:49:42.164710Z",
     "start_time": "2024-10-22T01:49:42.146928Z"
    }
   },
   "cell_type": "code",
   "source": [
    "from pyecharts.charts import Line,Grid\n",
    "time_list = [f'{hour:02d}:00' for hour in range(24)]\n",
    "line = (Line(init_opts=opts.InitOpts(theme=ThemeType.DARK))\n",
    "       .add_xaxis(time_list)\n",
    "         .add_yaxis('每小时的UV量',[i[1] for i in hour_uv],\n",
    "                   linestyle_opts=line_itemstyle1,\n",
    "                    is_smooth=True,\n",
    "                    markline_opts=opts.MarkLineOpts(data=[\n",
    "                   opts.MarkLineItem(type_='average',name='均值线')\n",
    "               ]))\n",
    "       .add_yaxis('每小时的PV量',[i[1] for i in hour_pv],\n",
    "                  yaxis_index=1,\n",
    "                  linestyle_opts=line_itemstyle,\n",
    "                  is_smooth=True,\n",
    "                  markline_opts=opts.MarkLineOpts(data=[\n",
    "                   opts.MarkLineItem(type_='average',name='均值线')\n",
    "               ]\n",
    "                  ))\n",
    "        .extend_axis(yaxis=opts.AxisOpts(type_ = 'value',position='right'))\n",
    "        .set_series_opts(label_opts=opts.LabelOpts(is_show=False),\n",
    "                         ) \n",
    "        .set_global_opts(            \n",
    "            yaxis_opts=opts.AxisOpts(max_ = 12000),\n",
    "        tooltip_opts=opts.TooltipOpts(trigger='axis'),\n",
    "    xaxis_opts=opts.AxisOpts(splitline_opts={'show':False},\n",
    "                        axislabel_opts=opts.LabelOpts(rotate = 45,font_weight='bold',color = 'white')),\n",
    ")\n",
    "      \n",
    "\n",
    ")\n",
    "line.render('./result/hour_pv.html')"
   ],
   "id": "8b7723ee9a6456b",
   "outputs": [
    {
     "data": {
      "text/plain": [
       "'C:\\\\Users\\\\wang\\\\Desktop\\\\pyLearn\\\\综合实训课程1\\\\淘宝用户行为分析\\\\result\\\\hour_pv.html'"
      ]
     },
     "execution_count": 61,
     "metadata": {},
     "output_type": "execute_result"
    }
   ],
   "execution_count": 61
  },
  {
   "metadata": {
    "ExecuteTime": {
     "end_time": "2024-10-22T07:48:24.483101Z",
     "start_time": "2024-10-22T07:48:21.773404Z"
    }
   },
   "cell_type": "code",
   "source": [
    "day_name_pv = data.groupby(by = ['day_name','hour'])['user_id'].count().reset_index().values.tolist()\n",
    "day_name_uv = data.groupby(by = ['day_name','hour'])['user_id'].nunique().reset_index().values.tolist()"
   ],
   "id": "40ba21bf0a05bae4",
   "outputs": [],
   "execution_count": 28
  },
  {
   "metadata": {
    "ExecuteTime": {
     "end_time": "2024-10-22T02:32:46.182529Z",
     "start_time": "2024-10-22T02:32:45.263362Z"
    }
   },
   "cell_type": "code",
   "source": "data.groupby(by = ['day_name','hour'])['user_id'].count().reset_index()",
   "id": "34c0ba995983142f",
   "outputs": [
    {
     "data": {
      "text/plain": [
       "      day_name  hour  user_id\n",
       "0       Friday     0    94556\n",
       "1       Friday     1    44804\n",
       "2       Friday     2    23410\n",
       "3       Friday     3    14848\n",
       "4       Friday     4    12818\n",
       "..         ...   ...      ...\n",
       "163  Wednesday    19   118976\n",
       "164  Wednesday    20   153873\n",
       "165  Wednesday    21   177736\n",
       "166  Wednesday    22   172632\n",
       "167  Wednesday    23   129186\n",
       "\n",
       "[168 rows x 3 columns]"
      ],
      "text/html": [
       "<div>\n",
       "<style scoped>\n",
       "    .dataframe tbody tr th:only-of-type {\n",
       "        vertical-align: middle;\n",
       "    }\n",
       "\n",
       "    .dataframe tbody tr th {\n",
       "        vertical-align: top;\n",
       "    }\n",
       "\n",
       "    .dataframe thead th {\n",
       "        text-align: right;\n",
       "    }\n",
       "</style>\n",
       "<table border=\"1\" class=\"dataframe\">\n",
       "  <thead>\n",
       "    <tr style=\"text-align: right;\">\n",
       "      <th></th>\n",
       "      <th>day_name</th>\n",
       "      <th>hour</th>\n",
       "      <th>user_id</th>\n",
       "    </tr>\n",
       "  </thead>\n",
       "  <tbody>\n",
       "    <tr>\n",
       "      <th>0</th>\n",
       "      <td>Friday</td>\n",
       "      <td>0</td>\n",
       "      <td>94556</td>\n",
       "    </tr>\n",
       "    <tr>\n",
       "      <th>1</th>\n",
       "      <td>Friday</td>\n",
       "      <td>1</td>\n",
       "      <td>44804</td>\n",
       "    </tr>\n",
       "    <tr>\n",
       "      <th>2</th>\n",
       "      <td>Friday</td>\n",
       "      <td>2</td>\n",
       "      <td>23410</td>\n",
       "    </tr>\n",
       "    <tr>\n",
       "      <th>3</th>\n",
       "      <td>Friday</td>\n",
       "      <td>3</td>\n",
       "      <td>14848</td>\n",
       "    </tr>\n",
       "    <tr>\n",
       "      <th>4</th>\n",
       "      <td>Friday</td>\n",
       "      <td>4</td>\n",
       "      <td>12818</td>\n",
       "    </tr>\n",
       "    <tr>\n",
       "      <th>...</th>\n",
       "      <td>...</td>\n",
       "      <td>...</td>\n",
       "      <td>...</td>\n",
       "    </tr>\n",
       "    <tr>\n",
       "      <th>163</th>\n",
       "      <td>Wednesday</td>\n",
       "      <td>19</td>\n",
       "      <td>118976</td>\n",
       "    </tr>\n",
       "    <tr>\n",
       "      <th>164</th>\n",
       "      <td>Wednesday</td>\n",
       "      <td>20</td>\n",
       "      <td>153873</td>\n",
       "    </tr>\n",
       "    <tr>\n",
       "      <th>165</th>\n",
       "      <td>Wednesday</td>\n",
       "      <td>21</td>\n",
       "      <td>177736</td>\n",
       "    </tr>\n",
       "    <tr>\n",
       "      <th>166</th>\n",
       "      <td>Wednesday</td>\n",
       "      <td>22</td>\n",
       "      <td>172632</td>\n",
       "    </tr>\n",
       "    <tr>\n",
       "      <th>167</th>\n",
       "      <td>Wednesday</td>\n",
       "      <td>23</td>\n",
       "      <td>129186</td>\n",
       "    </tr>\n",
       "  </tbody>\n",
       "</table>\n",
       "<p>168 rows × 3 columns</p>\n",
       "</div>"
      ]
     },
     "execution_count": 72,
     "metadata": {},
     "output_type": "execute_result"
    }
   ],
   "execution_count": 72
  },
  {
   "metadata": {
    "ExecuteTime": {
     "end_time": "2024-10-22T07:49:59.545260Z",
     "start_time": "2024-10-22T07:49:59.018259Z"
    }
   },
   "cell_type": "code",
   "source": "weeks = data['day_name'].unique().tolist()",
   "id": "8f93154a30db9014",
   "outputs": [],
   "execution_count": 30
  },
  {
   "metadata": {},
   "cell_type": "code",
   "outputs": [],
   "execution_count": null,
   "source": "day_name_pv",
   "id": "ee937b0eb0f07855"
  },
  {
   "metadata": {
    "ExecuteTime": {
     "end_time": "2024-10-22T07:50:06.771953Z",
     "start_time": "2024-10-22T07:50:06.763981Z"
    }
   },
   "cell_type": "code",
   "source": "weeks",
   "id": "59530d6ee88aa7a5",
   "outputs": [
    {
     "data": {
      "text/plain": [
       "['Saturday', 'Tuesday', 'Thursday', 'Wednesday', 'Friday', 'Monday', 'Sunday']"
      ]
     },
     "execution_count": 31,
     "metadata": {},
     "output_type": "execute_result"
    }
   ],
   "execution_count": 31
  },
  {
   "metadata": {
    "ExecuteTime": {
     "end_time": "2024-10-22T07:46:42.448867Z",
     "start_time": "2024-10-22T07:46:42.437866Z"
    }
   },
   "cell_type": "code",
   "source": [
    "hours = [\n",
    "    '12a', '1a', '2a', '3a', '4a', '5a', '6a',\n",
    "    '7a', '8a', '9a', '10a', '11a',\n",
    "    '12p', '1p', '2p', '3p', '4p', '5p',\n",
    "    '6p', '7p', '8p', '9p', '10p', '11p'\n",
    "]"
   ],
   "id": "64c667433810b039",
   "outputs": [],
   "execution_count": 27
  },
  {
   "metadata": {
    "ExecuteTime": {
     "end_time": "2024-10-22T08:06:03.985511Z",
     "start_time": "2024-10-22T08:06:01.645819Z"
    }
   },
   "cell_type": "code",
   "source": [
    "dp6 = data.groupby(['day_name','hour'])['user_id'].agg(\n",
    "    [('pv', 'count'),('uv', 'nunique')]).reset_index()\n",
    "\n",
    "from sklearn.preprocessing import MinMaxScaler\n",
    "sca = MinMaxScaler(feature_range=(3,40))\n",
    "dp6[['pv_s','uv_s']] = sca.fit_transform(dp6[['uv','pv']]).astype('int')\n",
    "weekday_mapping = {\n",
    "    'Monday': '周一',\n",
    "    'Tuesday': '周二',\n",
    "    'Wednesday': '周三',\n",
    "    'Thursday': '周四',\n",
    "    'Friday': '周五',\n",
    "    'Saturday': '周六',\n",
    "    'Sunday': '周日'\n",
    "}\n",
    "dp6['day_name'] = dp6['day_name'].map(weekday_mapping)"
   ],
   "id": "aef800069189062a",
   "outputs": [],
   "execution_count": 34
  },
  {
   "metadata": {
    "ExecuteTime": {
     "end_time": "2024-10-22T08:30:37.737397Z",
     "start_time": "2024-10-22T08:30:37.720437Z"
    }
   },
   "cell_type": "code",
   "source": "[int(i[2] )for i in day_name_pv]",
   "id": "c7d262385b4a6bb9",
   "outputs": [
    {
     "data": {
      "text/plain": [
       "[94556,\n",
       " 44804,\n",
       " 23410,\n",
       " 14848,\n",
       " 12818,\n",
       " 14421,\n",
       " 28124,\n",
       " 48088,\n",
       " 60178,\n",
       " 72053,\n",
       " 81840,\n",
       " 72393,\n",
       " 76553,\n",
       " 85377,\n",
       " 80673,\n",
       " 80580,\n",
       " 76066,\n",
       " 69310,\n",
       " 74671,\n",
       " 96247,\n",
       " 118266,\n",
       " 139113,\n",
       " 141212,\n",
       " 121731,\n",
       " 60981,\n",
       " 31162,\n",
       " 16812,\n",
       " 11462,\n",
       " 8802,\n",
       " 10418,\n",
       " 16955,\n",
       " 31167,\n",
       " 44525,\n",
       " 57073,\n",
       " 68744,\n",
       " 69080,\n",
       " 72408,\n",
       " 81993,\n",
       " 77520,\n",
       " 80477,\n",
       " 73684,\n",
       " 64246,\n",
       " 69570,\n",
       " 97080,\n",
       " 125400,\n",
       " 143508,\n",
       " 140237,\n",
       " 104672,\n",
       " 67049,\n",
       " 34015,\n",
       " 19445,\n",
       " 13198,\n",
       " 9937,\n",
       " 11233,\n",
       " 22779,\n",
       " 39368,\n",
       " 54273,\n",
       " 60866,\n",
       " 67239,\n",
       " 63525,\n",
       " 60432,\n",
       " 69466,\n",
       " 71945,\n",
       " 73470,\n",
       " 72160,\n",
       " 64951,\n",
       " 68504,\n",
       " 89811,\n",
       " 114534,\n",
       " 131266,\n",
       " 134449,\n",
       " 108907,\n",
       " 67631,\n",
       " 37366,\n",
       " 20379,\n",
       " 14324,\n",
       " 10084,\n",
       " 9663,\n",
       " 18541,\n",
       " 39527,\n",
       " 58235,\n",
       " 66235,\n",
       " 71752,\n",
       " 67308,\n",
       " 61800,\n",
       " 71075,\n",
       " 74819,\n",
       " 75909,\n",
       " 78299,\n",
       " 65493,\n",
       " 73194,\n",
       " 94683,\n",
       " 120171,\n",
       " 141942,\n",
       " 141717,\n",
       " 106467,\n",
       " 76750,\n",
       " 39989,\n",
       " 21456,\n",
       " 15763,\n",
       " 13588,\n",
       " 13979,\n",
       " 24343,\n",
       " 43767,\n",
       " 58731,\n",
       " 76743,\n",
       " 88601,\n",
       " 86336,\n",
       " 86297,\n",
       " 96613,\n",
       " 97855,\n",
       " 97364,\n",
       " 90983,\n",
       " 82421,\n",
       " 88214,\n",
       " 120680,\n",
       " 153216,\n",
       " 178935,\n",
       " 185903,\n",
       " 150343,\n",
       " 75367,\n",
       " 40871,\n",
       " 24540,\n",
       " 14219,\n",
       " 12528,\n",
       " 13972,\n",
       " 23909,\n",
       " 43944,\n",
       " 59276,\n",
       " 76335,\n",
       " 86217,\n",
       " 83265,\n",
       " 87684,\n",
       " 98233,\n",
       " 96926,\n",
       " 94295,\n",
       " 91594,\n",
       " 81493,\n",
       " 84747,\n",
       " 117715,\n",
       " 149701,\n",
       " 177678,\n",
       " 172811,\n",
       " 127946,\n",
       " 75070,\n",
       " 39475,\n",
       " 21048,\n",
       " 14702,\n",
       " 12730,\n",
       " 14610,\n",
       " 24147,\n",
       " 41476,\n",
       " 60888,\n",
       " 76646,\n",
       " 86272,\n",
       " 85033,\n",
       " 86783,\n",
       " 95586,\n",
       " 94477,\n",
       " 96754,\n",
       " 93421,\n",
       " 78022,\n",
       " 88483,\n",
       " 118976,\n",
       " 153873,\n",
       " 177736,\n",
       " 172632,\n",
       " 129186]"
      ]
     },
     "execution_count": 49,
     "metadata": {},
     "output_type": "execute_result"
    }
   ],
   "execution_count": 49
  },
  {
   "metadata": {
    "ExecuteTime": {
     "end_time": "2024-10-22T08:06:41.287617Z",
     "start_time": "2024-10-22T08:06:41.274574Z"
    }
   },
   "cell_type": "code",
   "source": [
    "allinfo = dp6.values.tolist()\n",
    "weeks = ['周一','周二','周三','周四','周五','周六','周日']\n",
    "hours = [\n",
    "    '12a', '1a', '2a', '3a', '4a', '5a', '6a',\n",
    "    '7a', '8a', '9a', '10a', '11a',\n",
    "    '12p', '1p', '2p', '3p', '4p', '5p',\n",
    "    '6p', '7p', '8p', '9p', '10p', '11p'\n",
    "]"
   ],
   "id": "f7bc17b5295aeae5",
   "outputs": [],
   "execution_count": 36
  },
  {
   "metadata": {
    "ExecuteTime": {
     "end_time": "2024-10-22T08:29:06.901886Z",
     "start_time": "2024-10-22T08:29:06.863895Z"
    }
   },
   "cell_type": "code",
   "source": [
    "\n",
    "from pyecharts.charts import Scatter,Tab\n",
    "single_axis, titles = [], []     #  创建两个空列表,用于存放所有的轴,以及标题\n",
    "sca = Scatter(init_opts=opts.InitOpts(width='100%')) # 实例化一个散点图对象\n",
    "for idx, day in enumerate(weeks):       # 按天遍历数据\n",
    "    sca.add_xaxis(xaxis_data=hours)  # 添加x轴\n",
    "    single_axis.append({    # 设定每个轴的样式\n",
    "        'left': 100,        # 坐标轴距离坐标点位置\n",
    "         'nameGap': 20,    # 坐标轴名称距离轴线的位置\n",
    "        'nameLocation': 'start',   # 坐标轴名称的位置\n",
    "        'type': 'category',     # 设定为分类数据\n",
    "        'data': hours,         # 每个轴上面的x轴数据\n",
    "        'top': f\"{idx * 100 / 7 + 5}%\",   # z坐标轴距离顶部的距离\n",
    "        'height':f\"{100 / 7 - 10}%\",    # 坐标轴的高度\n",
    "        'gridIndex':idx,      # 因为有多个轴,因此需要设定轴索引\n",
    "        'axisLabel': {'interval':2, 'color':'red'}, # 轴标签的配置,设定间隔为2,颜色为红色\n",
    "    })\n",
    "    titles.append(dict(text=day,top=f'{idx * 100 / 7 + 5}%',left='2%')) # 每个轴有一个标题,循环添加多个\n",
    "    sca.add_yaxis('',   # 绘制y轴数据,设定seriesname为空\n",
    "                 y_axis=[int(item[1]) for item in  day_name_pv if item[0] == day], # 设定y轴的数据\n",
    "                 symbol_size=JsCode('function(x){console.log(x);return x[1] }'), # 设定点的大小,采用回调进行设置\n",
    "                 label_opts=opts.LabelOpts(is_show=False), # 关闭点上面的数字\n",
    "                  yaxis_index=0,\n",
    "                 )    \n",
    "    sca.options['series'][idx]['singleAxisIndex'] =  idx  # 轴索引设置\n",
    "    sca.options['series'][idx]['coordinateSystem'] = 'singleAxis'  # 单轴设定\n",
    "\n",
    "sca.options['singleAxis'] = single_axis  # 设定单轴\n",
    "sca.set_global_opts(\n",
    "    xaxis_opts=opts.AxisOpts(is_show=False),\n",
    "    yaxis_opts=opts.AxisOpts(is_show=False),\n",
    "    title_opts = titles,\n",
    ")\n",
    "sca.render()"
   ],
   "id": "f32940fe7d75d689",
   "outputs": [
    {
     "ename": "IndexError",
     "evalue": "list index out of range",
     "output_type": "error",
     "traceback": [
      "\u001B[1;31m---------------------------------------------------------------------------\u001B[0m",
      "\u001B[1;31mIndexError\u001B[0m                                Traceback (most recent call last)",
      "Cell \u001B[1;32mIn[46], line 18\u001B[0m\n\u001B[0;32m      6\u001B[0m single_axis\u001B[38;5;241m.\u001B[39mappend({    \u001B[38;5;66;03m# 设定每个轴的样式\u001B[39;00m\n\u001B[0;32m      7\u001B[0m     \u001B[38;5;124m'\u001B[39m\u001B[38;5;124mleft\u001B[39m\u001B[38;5;124m'\u001B[39m: \u001B[38;5;241m100\u001B[39m,        \u001B[38;5;66;03m# 坐标轴距离坐标点位置\u001B[39;00m\n\u001B[0;32m      8\u001B[0m      \u001B[38;5;124m'\u001B[39m\u001B[38;5;124mnameGap\u001B[39m\u001B[38;5;124m'\u001B[39m: \u001B[38;5;241m20\u001B[39m,    \u001B[38;5;66;03m# 坐标轴名称距离轴线的位置\u001B[39;00m\n\u001B[1;32m   (...)\u001B[0m\n\u001B[0;32m     15\u001B[0m     \u001B[38;5;124m'\u001B[39m\u001B[38;5;124maxisLabel\u001B[39m\u001B[38;5;124m'\u001B[39m: {\u001B[38;5;124m'\u001B[39m\u001B[38;5;124minterval\u001B[39m\u001B[38;5;124m'\u001B[39m:\u001B[38;5;241m2\u001B[39m, \u001B[38;5;124m'\u001B[39m\u001B[38;5;124mcolor\u001B[39m\u001B[38;5;124m'\u001B[39m:\u001B[38;5;124m'\u001B[39m\u001B[38;5;124mred\u001B[39m\u001B[38;5;124m'\u001B[39m}, \u001B[38;5;66;03m# 轴标签的配置,设定间隔为2,颜色为红色\u001B[39;00m\n\u001B[0;32m     16\u001B[0m })\n\u001B[0;32m     17\u001B[0m titles\u001B[38;5;241m.\u001B[39mappend(\u001B[38;5;28mdict\u001B[39m(text\u001B[38;5;241m=\u001B[39mday,top\u001B[38;5;241m=\u001B[39m\u001B[38;5;124mf\u001B[39m\u001B[38;5;124m'\u001B[39m\u001B[38;5;132;01m{\u001B[39;00midx\u001B[38;5;250m \u001B[39m\u001B[38;5;241m*\u001B[39m\u001B[38;5;250m \u001B[39m\u001B[38;5;241m100\u001B[39m\u001B[38;5;250m \u001B[39m\u001B[38;5;241m/\u001B[39m\u001B[38;5;250m \u001B[39m\u001B[38;5;241m7\u001B[39m\u001B[38;5;250m \u001B[39m\u001B[38;5;241m+\u001B[39m\u001B[38;5;250m \u001B[39m\u001B[38;5;241m5\u001B[39m\u001B[38;5;132;01m}\u001B[39;00m\u001B[38;5;124m%\u001B[39m\u001B[38;5;124m'\u001B[39m,left\u001B[38;5;241m=\u001B[39m\u001B[38;5;124m'\u001B[39m\u001B[38;5;124m2\u001B[39m\u001B[38;5;124m%\u001B[39m\u001B[38;5;124m'\u001B[39m)) \u001B[38;5;66;03m# 每个轴有一个标题,循环添加多个\u001B[39;00m\n\u001B[1;32m---> 18\u001B[0m \u001B[43msca\u001B[49m\u001B[38;5;241;43m.\u001B[39;49m\u001B[43madd_yaxis\u001B[49m\u001B[43m(\u001B[49m\u001B[38;5;124;43m'\u001B[39;49m\u001B[38;5;124;43m'\u001B[39;49m\u001B[43m,\u001B[49m\u001B[43m   \u001B[49m\u001B[38;5;66;43;03m# 绘制y轴数据,设定seriesname为空\u001B[39;49;00m\n\u001B[0;32m     19\u001B[0m \u001B[43m             \u001B[49m\u001B[43my_axis\u001B[49m\u001B[38;5;241;43m=\u001B[39;49m\u001B[43m[\u001B[49m\u001B[38;5;28;43mint\u001B[39;49m\u001B[43m(\u001B[49m\u001B[43mitem\u001B[49m\u001B[43m[\u001B[49m\u001B[38;5;241;43m1\u001B[39;49m\u001B[43m]\u001B[49m\u001B[43m)\u001B[49m\u001B[43m \u001B[49m\u001B[38;5;28;43;01mfor\u001B[39;49;00m\u001B[43m \u001B[49m\u001B[43mitem\u001B[49m\u001B[43m \u001B[49m\u001B[38;5;129;43;01min\u001B[39;49;00m\u001B[43m  \u001B[49m\u001B[43mday_name_pv\u001B[49m\u001B[43m \u001B[49m\u001B[38;5;28;43;01mif\u001B[39;49;00m\u001B[43m \u001B[49m\u001B[43mitem\u001B[49m\u001B[43m[\u001B[49m\u001B[38;5;241;43m0\u001B[39;49m\u001B[43m]\u001B[49m\u001B[43m \u001B[49m\u001B[38;5;241;43m==\u001B[39;49m\u001B[43m \u001B[49m\u001B[43mday\u001B[49m\u001B[43m]\u001B[49m\u001B[43m,\u001B[49m\u001B[43m \u001B[49m\u001B[38;5;66;43;03m# 设定y轴的数据\u001B[39;49;00m\n\u001B[0;32m     20\u001B[0m \u001B[43m             \u001B[49m\u001B[43msymbol_size\u001B[49m\u001B[38;5;241;43m=\u001B[39;49m\u001B[43mJsCode\u001B[49m\u001B[43m(\u001B[49m\u001B[38;5;124;43m'\u001B[39;49m\u001B[38;5;124;43mfunction(x)\u001B[39;49m\u001B[38;5;124;43m{\u001B[39;49m\u001B[38;5;124;43mconsole.log(x);return x[1] }\u001B[39;49m\u001B[38;5;124;43m'\u001B[39;49m\u001B[43m)\u001B[49m\u001B[43m,\u001B[49m\u001B[43m \u001B[49m\u001B[38;5;66;43;03m# 设定点的大小,采用回调进行设置\u001B[39;49;00m\n\u001B[0;32m     21\u001B[0m \u001B[43m             \u001B[49m\u001B[43mlabel_opts\u001B[49m\u001B[38;5;241;43m=\u001B[39;49m\u001B[43mopts\u001B[49m\u001B[38;5;241;43m.\u001B[39;49m\u001B[43mLabelOpts\u001B[49m\u001B[43m(\u001B[49m\u001B[43mis_show\u001B[49m\u001B[38;5;241;43m=\u001B[39;49m\u001B[38;5;28;43;01mFalse\u001B[39;49;00m\u001B[43m)\u001B[49m\u001B[43m,\u001B[49m\u001B[43m \u001B[49m\u001B[38;5;66;43;03m# 关闭点上面的数字\u001B[39;49;00m\n\u001B[0;32m     22\u001B[0m \u001B[43m              \u001B[49m\u001B[43myaxis_index\u001B[49m\u001B[38;5;241;43m=\u001B[39;49m\u001B[38;5;241;43m0\u001B[39;49m\u001B[43m,\u001B[49m\n\u001B[0;32m     23\u001B[0m \u001B[43m             \u001B[49m\u001B[43m)\u001B[49m    \n\u001B[0;32m     24\u001B[0m sca\u001B[38;5;241m.\u001B[39moptions[\u001B[38;5;124m'\u001B[39m\u001B[38;5;124mseries\u001B[39m\u001B[38;5;124m'\u001B[39m][idx][\u001B[38;5;124m'\u001B[39m\u001B[38;5;124msingleAxisIndex\u001B[39m\u001B[38;5;124m'\u001B[39m] \u001B[38;5;241m=\u001B[39m  idx  \u001B[38;5;66;03m# 轴索引设置\u001B[39;00m\n\u001B[0;32m     25\u001B[0m sca\u001B[38;5;241m.\u001B[39moptions[\u001B[38;5;124m'\u001B[39m\u001B[38;5;124mseries\u001B[39m\u001B[38;5;124m'\u001B[39m][idx][\u001B[38;5;124m'\u001B[39m\u001B[38;5;124mcoordinateSystem\u001B[39m\u001B[38;5;124m'\u001B[39m] \u001B[38;5;241m=\u001B[39m \u001B[38;5;124m'\u001B[39m\u001B[38;5;124msingleAxis\u001B[39m\u001B[38;5;124m'\u001B[39m  \u001B[38;5;66;03m# 单轴设定\u001B[39;00m\n",
      "File \u001B[1;32mD:\\Develop\\python\\python310\\lib\\site-packages\\pyecharts\\charts\\basic_charts\\scatter.py:59\u001B[0m, in \u001B[0;36mScatter.add_yaxis\u001B[1;34m(self, series_name, y_axis, xaxis_index, yaxis_index, color, symbol, symbol_size, symbol_rotate, label_opts, markpoint_opts, markline_opts, markarea_opts, tooltip_opts, itemstyle_opts, emphasis_opts, encode)\u001B[0m\n\u001B[0;32m     56\u001B[0m \u001B[38;5;28mself\u001B[39m\u001B[38;5;241m.\u001B[39m_append_color(color)\n\u001B[0;32m     57\u001B[0m \u001B[38;5;28mself\u001B[39m\u001B[38;5;241m.\u001B[39m_append_legend(series_name)\n\u001B[1;32m---> 59\u001B[0m data \u001B[38;5;241m=\u001B[39m \u001B[38;5;28;43mself\u001B[39;49m\u001B[38;5;241;43m.\u001B[39;49m\u001B[43m_parse_data\u001B[49m\u001B[43m(\u001B[49m\u001B[43my_axis\u001B[49m\u001B[38;5;241;43m=\u001B[39;49m\u001B[43my_axis\u001B[49m\u001B[43m)\u001B[49m\n\u001B[0;32m     61\u001B[0m \u001B[38;5;28mself\u001B[39m\u001B[38;5;241m.\u001B[39moptions\u001B[38;5;241m.\u001B[39mget(\u001B[38;5;124m\"\u001B[39m\u001B[38;5;124mseries\u001B[39m\u001B[38;5;124m\"\u001B[39m)\u001B[38;5;241m.\u001B[39mappend(\n\u001B[0;32m     62\u001B[0m     {\n\u001B[0;32m     63\u001B[0m         \u001B[38;5;124m\"\u001B[39m\u001B[38;5;124mtype\u001B[39m\u001B[38;5;124m\"\u001B[39m: ChartType\u001B[38;5;241m.\u001B[39mSCATTER,\n\u001B[1;32m   (...)\u001B[0m\n\u001B[0;32m     79\u001B[0m     }\n\u001B[0;32m     80\u001B[0m )\n\u001B[0;32m     81\u001B[0m \u001B[38;5;28;01mreturn\u001B[39;00m \u001B[38;5;28mself\u001B[39m\n",
      "File \u001B[1;32mD:\\Develop\\python\\python310\\lib\\site-packages\\pyecharts\\charts\\basic_charts\\scatter.py:26\u001B[0m, in \u001B[0;36mScatter._parse_data\u001B[1;34m(self, y_axis)\u001B[0m\n\u001B[0;32m     24\u001B[0m \u001B[38;5;28;01melif\u001B[39;00m \u001B[38;5;28mlen\u001B[39m(\u001B[38;5;28mself\u001B[39m\u001B[38;5;241m.\u001B[39m_xaxis_data) \u001B[38;5;241m==\u001B[39m \u001B[38;5;241m0\u001B[39m:\n\u001B[0;32m     25\u001B[0m     \u001B[38;5;28;01mreturn\u001B[39;00m y_axis\n\u001B[1;32m---> 26\u001B[0m \u001B[38;5;28;01melif\u001B[39;00m \u001B[38;5;28misinstance\u001B[39m(\u001B[43my_axis\u001B[49m\u001B[43m[\u001B[49m\u001B[38;5;241;43m0\u001B[39;49m\u001B[43m]\u001B[49m, (opts\u001B[38;5;241m.\u001B[39mScatterItem, \u001B[38;5;28mdict\u001B[39m)):\n\u001B[0;32m     27\u001B[0m     \u001B[38;5;28;01mreturn\u001B[39;00m y_axis\n\u001B[0;32m     28\u001B[0m \u001B[38;5;28;01melif\u001B[39;00m \u001B[38;5;28misinstance\u001B[39m(y_axis[\u001B[38;5;241m0\u001B[39m], types\u001B[38;5;241m.\u001B[39mSequence):\n",
      "\u001B[1;31mIndexError\u001B[0m: list index out of range"
     ]
    }
   ],
   "execution_count": 46
  },
  {
   "metadata": {
    "ExecuteTime": {
     "end_time": "2024-10-22T07:55:24.304180Z",
     "start_time": "2024-10-22T07:55:24.284180Z"
    }
   },
   "cell_type": "code",
   "source": "data.head()",
   "id": "fe6eba2d11fc4d6c",
   "outputs": [
    {
     "data": {
      "text/plain": [
       "    user_id    item_id behavior_type  item_category                time  \\\n",
       "0  98047837  232431562            浏览           4245 2014-12-06 02:00:00   \n",
       "1  97726136  383583590            浏览           5894 2014-12-09 20:00:00   \n",
       "2  98607707   64749712            浏览           2883 2014-12-18 11:00:00   \n",
       "3  98662432  320593836            浏览           6562 2014-12-06 10:00:00   \n",
       "4  98145908  290208520            浏览          13926 2014-12-16 21:00:00   \n",
       "\n",
       "   day_name  month  year month_day  hour  \n",
       "0  Saturday     12  2014     12-06     2  \n",
       "1   Tuesday     12  2014     12-09    20  \n",
       "2  Thursday     12  2014     12-18    11  \n",
       "3  Saturday     12  2014     12-06    10  \n",
       "4   Tuesday     12  2014     12-16    21  "
      ],
      "text/html": [
       "<div>\n",
       "<style scoped>\n",
       "    .dataframe tbody tr th:only-of-type {\n",
       "        vertical-align: middle;\n",
       "    }\n",
       "\n",
       "    .dataframe tbody tr th {\n",
       "        vertical-align: top;\n",
       "    }\n",
       "\n",
       "    .dataframe thead th {\n",
       "        text-align: right;\n",
       "    }\n",
       "</style>\n",
       "<table border=\"1\" class=\"dataframe\">\n",
       "  <thead>\n",
       "    <tr style=\"text-align: right;\">\n",
       "      <th></th>\n",
       "      <th>user_id</th>\n",
       "      <th>item_id</th>\n",
       "      <th>behavior_type</th>\n",
       "      <th>item_category</th>\n",
       "      <th>time</th>\n",
       "      <th>day_name</th>\n",
       "      <th>month</th>\n",
       "      <th>year</th>\n",
       "      <th>month_day</th>\n",
       "      <th>hour</th>\n",
       "    </tr>\n",
       "  </thead>\n",
       "  <tbody>\n",
       "    <tr>\n",
       "      <th>0</th>\n",
       "      <td>98047837</td>\n",
       "      <td>232431562</td>\n",
       "      <td>浏览</td>\n",
       "      <td>4245</td>\n",
       "      <td>2014-12-06 02:00:00</td>\n",
       "      <td>Saturday</td>\n",
       "      <td>12</td>\n",
       "      <td>2014</td>\n",
       "      <td>12-06</td>\n",
       "      <td>2</td>\n",
       "    </tr>\n",
       "    <tr>\n",
       "      <th>1</th>\n",
       "      <td>97726136</td>\n",
       "      <td>383583590</td>\n",
       "      <td>浏览</td>\n",
       "      <td>5894</td>\n",
       "      <td>2014-12-09 20:00:00</td>\n",
       "      <td>Tuesday</td>\n",
       "      <td>12</td>\n",
       "      <td>2014</td>\n",
       "      <td>12-09</td>\n",
       "      <td>20</td>\n",
       "    </tr>\n",
       "    <tr>\n",
       "      <th>2</th>\n",
       "      <td>98607707</td>\n",
       "      <td>64749712</td>\n",
       "      <td>浏览</td>\n",
       "      <td>2883</td>\n",
       "      <td>2014-12-18 11:00:00</td>\n",
       "      <td>Thursday</td>\n",
       "      <td>12</td>\n",
       "      <td>2014</td>\n",
       "      <td>12-18</td>\n",
       "      <td>11</td>\n",
       "    </tr>\n",
       "    <tr>\n",
       "      <th>3</th>\n",
       "      <td>98662432</td>\n",
       "      <td>320593836</td>\n",
       "      <td>浏览</td>\n",
       "      <td>6562</td>\n",
       "      <td>2014-12-06 10:00:00</td>\n",
       "      <td>Saturday</td>\n",
       "      <td>12</td>\n",
       "      <td>2014</td>\n",
       "      <td>12-06</td>\n",
       "      <td>10</td>\n",
       "    </tr>\n",
       "    <tr>\n",
       "      <th>4</th>\n",
       "      <td>98145908</td>\n",
       "      <td>290208520</td>\n",
       "      <td>浏览</td>\n",
       "      <td>13926</td>\n",
       "      <td>2014-12-16 21:00:00</td>\n",
       "      <td>Tuesday</td>\n",
       "      <td>12</td>\n",
       "      <td>2014</td>\n",
       "      <td>12-16</td>\n",
       "      <td>21</td>\n",
       "    </tr>\n",
       "  </tbody>\n",
       "</table>\n",
       "</div>"
      ]
     },
     "execution_count": 32,
     "metadata": {},
     "output_type": "execute_result"
    }
   ],
   "execution_count": 32
  },
  {
   "metadata": {
    "ExecuteTime": {
     "end_time": "2024-10-22T08:39:17.341682Z",
     "start_time": "2024-10-22T08:39:12.831669Z"
    }
   },
   "cell_type": "code",
   "source": "data_view = data.groupby(by = ['behavior_type','item_id'])['user_id'].nunique().reset_index().set_index('behavior_type')",
   "id": "3adbe3d83a64f6d",
   "outputs": [],
   "execution_count": 51
  },
  {
   "metadata": {
    "ExecuteTime": {
     "end_time": "2024-10-22T08:52:47.850627Z",
     "start_time": "2024-10-22T08:52:47.722483Z"
    }
   },
   "cell_type": "code",
   "source": "data_view.index.unique()",
   "id": "eeb4eb89e112ef01",
   "outputs": [
    {
     "data": {
      "text/plain": [
       "Index(['加购物车', '收藏', '浏览', '购买'], dtype='object', name='behavior_type')"
      ]
     },
     "execution_count": 63,
     "metadata": {},
     "output_type": "execute_result"
    }
   ],
   "execution_count": 63
  },
  {
   "metadata": {
    "ExecuteTime": {
     "end_time": "2024-10-22T08:40:47.708827Z",
     "start_time": "2024-10-22T08:40:47.516365Z"
    }
   },
   "cell_type": "code",
   "source": "view_list = data_view.loc['浏览'].sort_values('user_id',ascending=False).iloc[:10].values.tolist()",
   "id": "988546f4e0439c94",
   "outputs": [],
   "execution_count": 54
  },
  {
   "metadata": {
    "ExecuteTime": {
     "end_time": "2024-10-22T08:52:57.309911Z",
     "start_time": "2024-10-22T08:52:57.302882Z"
    }
   },
   "cell_type": "code",
   "source": "dicts = ['浏览','加购物车','购买','收藏']",
   "id": "71f2a94dcf6a9a34",
   "outputs": [],
   "execution_count": 64
  },
  {
   "metadata": {
    "ExecuteTime": {
     "end_time": "2024-10-22T09:18:03.120377Z",
     "start_time": "2024-10-22T09:18:03.109201Z"
    }
   },
   "cell_type": "code",
   "source": "colors_list3 = ['pink', 'magenta', 'violet', 'lavender']",
   "id": "9cb83094782ede65",
   "outputs": [],
   "execution_count": 78
  },
  {
   "metadata": {
    "ExecuteTime": {
     "end_time": "2024-10-22T09:18:35.773519Z",
     "start_time": "2024-10-22T09:18:35.552938Z"
    }
   },
   "cell_type": "code",
   "source": [
    "bar = Bar()\n",
    "for index,item in enumerate(dicts):\n",
    "    data_pair = data_view.loc[item].sort_values('user_id',ascending=False).iloc[:10].values.tolist()\n",
    "    bar.add_xaxis([i[0] for i in data_pair])\n",
    "    bar.add_yaxis(f'{item}排名',[i[1] for i in data_pair],\n",
    "                  itemstyle_opts=opts.ItemStyleOpts(color=colors_list3[index],))\n",
    "    bar.reversal_axis()\n",
    "bar.set_global_opts(legend_opts=opts.LegendOpts(selected_mode='single'))\n",
    "bar.set_global_opts(\n",
    "         title_opts=opts.TitleOpts(title='浏览收藏加购物车购买量', pos_left='center'),\n",
    "         legend_opts=opts.LegendOpts(pos_top='5%',\n",
    "                                    textstyle_opts=opts.TextStyleOpts(color='auto'),  # 文字样式\n",
    "                                    ),\n",
    "         tooltip_opts=opts.TooltipOpts(trigger='axis',axis_pointer_type='shadow',\n",
    "                                      ),\n",
    "         yaxis_opts=opts.AxisOpts(\n",
    "                                 axislabel_opts=opts.LabelOpts(font_weight='bold',color='white',##粗体白色\n",
    "                                                                ),\n",
    "                                 )\n",
    "     )\n",
    "bar.render()"
   ],
   "id": "f39b334655847004",
   "outputs": [
    {
     "data": {
      "text/plain": [
       "'C:\\\\Users\\\\wang\\\\Desktop\\\\pyLearn\\\\综合实训课程1\\\\淘宝用户行为分析\\\\render.html'"
      ]
     },
     "execution_count": 79,
     "metadata": {},
     "output_type": "execute_result"
    }
   ],
   "execution_count": 79
  },
  {
   "metadata": {
    "ExecuteTime": {
     "end_time": "2024-10-22T09:01:53.320759Z",
     "start_time": "2024-10-22T09:01:53.316758Z"
    }
   },
   "cell_type": "code",
   "source": [
    "itemstyle_pie = {\n",
    "    'normal': {\n",
    "        'borderRadius':15,\n",
    "        'borderWidth':.5,\n",
    "        'borderColor':'auto',\n",
    "    }\n",
    "}"
   ],
   "id": "924a8c6143c2cc80",
   "outputs": [],
   "execution_count": 69
  },
  {
   "metadata": {
    "ExecuteTime": {
     "end_time": "2024-10-22T09:11:05.994552Z",
     "start_time": "2024-10-22T09:11:05.975657Z"
    }
   },
   "cell_type": "code",
   "source": [
    "itemstyle = {\n",
    "    'normal': {\n",
    "        'color': JsCode(\"\"\"new echarts.graphic.LinearGradient(0, 0, 1, 1, [\n",
    "          { offset: 0, color: 'rgb(255, 191, 0)' },\n",
    "          { offset: 1, color: 'rgb(224, 62, 76)' }\n",
    "        ],)\"\"\"),\n",
    "        'barBorderRadius': [20,20,20,20],      #  柱子的四个角圆角设计\n",
    "        'shadowColor':'rgba(108,80,243,0.9)', # 阴影的颜色\n",
    "        'shadowBlur':5, # 阴影的宽度\n",
    "        'width': 4,\n",
    "    }\n",
    "}"
   ],
   "id": "8ff236e1df70e898",
   "outputs": [],
   "execution_count": 75
  },
  {
   "metadata": {
    "ExecuteTime": {
     "end_time": "2024-10-22T09:04:36.948967Z",
     "start_time": "2024-10-22T09:04:36.727400Z"
    }
   },
   "cell_type": "code",
   "source": [
    "pie=(Pie(init_opts=opts.InitOpts(theme=ThemeType.DARK,width='100%',height='95vh'))\n",
    "    .add(series_name='浏览',data_pair= data_view.loc['浏览'].sort_values('user_id',ascending=False).iloc[:10].values.tolist(),\n",
    "        rosetype='area', \n",
    "        radius=['20%','40%'],\n",
    "        center=['20%','25%'],\n",
    "        label_opts=opts.LabelOpts(formatter='{b}:{c}\\n百分占比{d}%'),\n",
    "        itemstyle_opts=itemstyle_pie,\n",
    "        )\n",
    "     .add(series_name='加购物车',data_pair=data_view.loc['加购物车'].sort_values('user_id',ascending=False).iloc[:10].values.tolist(),\n",
    "        rosetype='area', \n",
    "        radius=['20%','40%'],\n",
    "        center=['75%','25%'],\n",
    "        label_opts=opts.LabelOpts(formatter='{b}:{c}\\n百分占比{d}%'),\n",
    "        itemstyle_opts=itemstyle_pie,\n",
    "        )\n",
    "     .add(series_name='收藏',data_pair=data_view.loc['收藏'].sort_values('user_id',ascending=False).iloc[:10].values.tolist(),\n",
    "        rosetype='area', \n",
    "        radius=['20%','40%'],\n",
    "        center=['20%','72%'],\n",
    "        label_opts=opts.LabelOpts(formatter='{b}:{c}\\n百分占比{d}%'),\n",
    "        itemstyle_opts=itemstyle_pie,\n",
    "        )\n",
    "    .add(series_name='购买',data_pair=data_view.loc['购买'].sort_values('user_id',ascending=False).iloc[:10].values.tolist(),\n",
    "        rosetype='area', \n",
    "        radius=['20%','40%'],\n",
    "        center=['75%','72%'],\n",
    "        label_opts=opts.LabelOpts(formatter='{b}:{c}\\n百分占比{d}%'),\n",
    "        itemstyle_opts=itemstyle_pie,\n",
    "        )\n",
    "     .set_global_opts(\n",
    "         title_opts=[\n",
    "              dict(text='浏览',top='23%',left='18%'),\n",
    "              dict(text='加购物车',top='23%',left='73%'),\n",
    "              dict(text='收藏',top='70%',left='18%'),\n",
    "              dict(text='购买',top='70%',left='73%'),\n",
    "         ],\n",
    "         legend_opts=opts.LegendOpts(pos_top='5%'),\n",
    "         tooltip_opts=opts.TooltipOpts(trigger='item'),\n",
    "   )\n",
    ")\n",
    "pie.render()"
   ],
   "id": "b965e899b86a0113",
   "outputs": [
    {
     "data": {
      "text/plain": [
       "'C:\\\\Users\\\\wang\\\\Desktop\\\\pyLearn\\\\综合实训课程1\\\\淘宝用户行为分析\\\\render.html'"
      ]
     },
     "execution_count": 73,
     "metadata": {},
     "output_type": "execute_result"
    }
   ],
   "execution_count": 73
  },
  {
   "metadata": {
    "ExecuteTime": {
     "end_time": "2024-10-22T09:11:40.368350Z",
     "start_time": "2024-10-22T09:11:40.130009Z"
    }
   },
   "cell_type": "code",
   "source": [
    "dp1 = data_view.loc['浏览'].sort_values('user_id',ascending=False).iloc[:10].values.tolist()\n",
    "dp2 = data_view.loc['购买'].sort_values('user_id',ascending=False).iloc[:10].values.tolist()\n",
    "dp3 = data_view.loc['加购物车'].sort_values('user_id',ascending=False).iloc[:10].values.tolist()\n",
    "dp4 = data_view.loc['收藏'].sort_values('user_id',ascending=False).iloc[:10].values.tolist()\n",
    "tab = Tab()\n",
    "bar = (Bar()\n",
    "       .add_xaxis([i[0] for i in dp1])\n",
    "       .add_yaxis('浏览量',[i[1] for i in dp1],\n",
    "                  itemstyle_opts=itemstyle)\n",
    "       )\n",
    "bar1 = (Bar()\n",
    "       .add_xaxis([i[0] for i in dp2])\n",
    "       .add_yaxis('购买',[i[1] for i in dp2],\n",
    "                  itemstyle_opts=itemstyle)\n",
    "       )\n",
    "bar2 = (Bar()\n",
    "       .add_xaxis([i[0] for i in dp3])\n",
    "       .add_yaxis('加购物车',[i[1] for i in dp3],\n",
    "                  itemstyle_opts=itemstyle)\n",
    "       )\n",
    "bar3 = (Bar()\n",
    "       .add_xaxis([i[0] for i in dp4])\n",
    "       .add_yaxis('收藏',[i[1] for i in dp4],\n",
    "                  itemstyle_opts=itemstyle)\n",
    "       )\n",
    "tab.add(bar,'浏览')\n",
    "tab.add(bar1,'购买')\n",
    "tab.add(bar2,'加购物车')\n",
    "tab.add(bar3,'收藏')\n",
    "tab.render()"
   ],
   "id": "abcc72685b5c5ce9",
   "outputs": [
    {
     "data": {
      "text/plain": [
       "'C:\\\\Users\\\\wang\\\\Desktop\\\\pyLearn\\\\综合实训课程1\\\\淘宝用户行为分析\\\\render.html'"
      ]
     },
     "execution_count": 76,
     "metadata": {},
     "output_type": "execute_result"
    }
   ],
   "execution_count": 76
  },
  {
   "metadata": {
    "ExecuteTime": {
     "end_time": "2024-10-22T15:02:33.575846Z",
     "start_time": "2024-10-22T15:02:33.557718Z"
    }
   },
   "cell_type": "code",
   "source": "data.columns",
   "id": "bc537027baad413f",
   "outputs": [
    {
     "data": {
      "text/plain": [
       "Index(['user_id', 'item_id', 'behavior_type', 'item_category', 'time',\n",
       "       'day_name', 'month', 'year', 'month_day', 'hour'],\n",
       "      dtype='object')"
      ]
     },
     "execution_count": 8,
     "metadata": {},
     "output_type": "execute_result"
    }
   ],
   "execution_count": 8
  },
  {
   "metadata": {
    "ExecuteTime": {
     "end_time": "2024-10-22T15:03:59.000326Z",
     "start_time": "2024-10-22T15:03:58.822325Z"
    }
   },
   "cell_type": "code",
   "source": [
    "data[['item_id','user_id']] = data[['item_id','user_id']].astype('int32')\n",
    "\n",
    "data['item_category'] = data['item_category'].astype('int16')"
   ],
   "id": "d3a749d489d80034",
   "outputs": [],
   "execution_count": 10
  },
  {
   "metadata": {
    "ExecuteTime": {
     "end_time": "2024-10-22T15:04:54.005887Z",
     "start_time": "2024-10-22T15:04:52.324656Z"
    }
   },
   "cell_type": "code",
   "source": [
    "data['behavior_type'] = data['behavior_type'].astype('int8')\n",
    "data['day_name'] = data['day_name'].map({\n",
    "    'Monday': 0,\n",
    "    'Tuesday': 1,\n",
    "    'Wednesday': 2,\n",
    "    'Thursday': 3,\n",
    "    'Friday': 4,\n",
    "    'Saturday': 5,\n",
    "    'Sunday': 6\n",
    "}).astype('int8')"
   ],
   "id": "960b181964dc275c",
   "outputs": [],
   "execution_count": 14
  },
  {
   "metadata": {
    "ExecuteTime": {
     "end_time": "2024-10-22T15:04:31.919606Z",
     "start_time": "2024-10-22T15:04:31.899903Z"
    }
   },
   "cell_type": "code",
   "source": "data.head()",
   "id": "7f507c999b7f6091",
   "outputs": [
    {
     "data": {
      "text/plain": [
       "    user_id    item_id  behavior_type  item_category                time  \\\n",
       "0  98047837  232431562              1           4245 2014-12-06 02:00:00   \n",
       "1  97726136  383583590              1           5894 2014-12-09 20:00:00   \n",
       "2  98607707   64749712              1           2883 2014-12-18 11:00:00   \n",
       "3  98662432  320593836              1           6562 2014-12-06 10:00:00   \n",
       "4  98145908  290208520              1          13926 2014-12-16 21:00:00   \n",
       "\n",
       "   day_name  month  year month_day  hour  \n",
       "0  Saturday     12  2014     12-06     2  \n",
       "1   Tuesday     12  2014     12-09    20  \n",
       "2  Thursday     12  2014     12-18    11  \n",
       "3  Saturday     12  2014     12-06    10  \n",
       "4   Tuesday     12  2014     12-16    21  "
      ],
      "text/html": [
       "<div>\n",
       "<style scoped>\n",
       "    .dataframe tbody tr th:only-of-type {\n",
       "        vertical-align: middle;\n",
       "    }\n",
       "\n",
       "    .dataframe tbody tr th {\n",
       "        vertical-align: top;\n",
       "    }\n",
       "\n",
       "    .dataframe thead th {\n",
       "        text-align: right;\n",
       "    }\n",
       "</style>\n",
       "<table border=\"1\" class=\"dataframe\">\n",
       "  <thead>\n",
       "    <tr style=\"text-align: right;\">\n",
       "      <th></th>\n",
       "      <th>user_id</th>\n",
       "      <th>item_id</th>\n",
       "      <th>behavior_type</th>\n",
       "      <th>item_category</th>\n",
       "      <th>time</th>\n",
       "      <th>day_name</th>\n",
       "      <th>month</th>\n",
       "      <th>year</th>\n",
       "      <th>month_day</th>\n",
       "      <th>hour</th>\n",
       "    </tr>\n",
       "  </thead>\n",
       "  <tbody>\n",
       "    <tr>\n",
       "      <th>0</th>\n",
       "      <td>98047837</td>\n",
       "      <td>232431562</td>\n",
       "      <td>1</td>\n",
       "      <td>4245</td>\n",
       "      <td>2014-12-06 02:00:00</td>\n",
       "      <td>Saturday</td>\n",
       "      <td>12</td>\n",
       "      <td>2014</td>\n",
       "      <td>12-06</td>\n",
       "      <td>2</td>\n",
       "    </tr>\n",
       "    <tr>\n",
       "      <th>1</th>\n",
       "      <td>97726136</td>\n",
       "      <td>383583590</td>\n",
       "      <td>1</td>\n",
       "      <td>5894</td>\n",
       "      <td>2014-12-09 20:00:00</td>\n",
       "      <td>Tuesday</td>\n",
       "      <td>12</td>\n",
       "      <td>2014</td>\n",
       "      <td>12-09</td>\n",
       "      <td>20</td>\n",
       "    </tr>\n",
       "    <tr>\n",
       "      <th>2</th>\n",
       "      <td>98607707</td>\n",
       "      <td>64749712</td>\n",
       "      <td>1</td>\n",
       "      <td>2883</td>\n",
       "      <td>2014-12-18 11:00:00</td>\n",
       "      <td>Thursday</td>\n",
       "      <td>12</td>\n",
       "      <td>2014</td>\n",
       "      <td>12-18</td>\n",
       "      <td>11</td>\n",
       "    </tr>\n",
       "    <tr>\n",
       "      <th>3</th>\n",
       "      <td>98662432</td>\n",
       "      <td>320593836</td>\n",
       "      <td>1</td>\n",
       "      <td>6562</td>\n",
       "      <td>2014-12-06 10:00:00</td>\n",
       "      <td>Saturday</td>\n",
       "      <td>12</td>\n",
       "      <td>2014</td>\n",
       "      <td>12-06</td>\n",
       "      <td>10</td>\n",
       "    </tr>\n",
       "    <tr>\n",
       "      <th>4</th>\n",
       "      <td>98145908</td>\n",
       "      <td>290208520</td>\n",
       "      <td>1</td>\n",
       "      <td>13926</td>\n",
       "      <td>2014-12-16 21:00:00</td>\n",
       "      <td>Tuesday</td>\n",
       "      <td>12</td>\n",
       "      <td>2014</td>\n",
       "      <td>12-16</td>\n",
       "      <td>21</td>\n",
       "    </tr>\n",
       "  </tbody>\n",
       "</table>\n",
       "</div>"
      ]
     },
     "execution_count": 13,
     "metadata": {},
     "output_type": "execute_result"
    }
   ],
   "execution_count": 13
  },
  {
   "metadata": {
    "ExecuteTime": {
     "end_time": "2024-10-22T15:05:08.992064Z",
     "start_time": "2024-10-22T15:05:05.430118Z"
    }
   },
   "cell_type": "code",
   "source": "data.drop('time',axis=1,inplace=True)",
   "id": "9b81ca49b01fd055",
   "outputs": [],
   "execution_count": 15
  },
  {
   "metadata": {
    "ExecuteTime": {
     "end_time": "2024-10-22T15:06:14.605729Z",
     "start_time": "2024-10-22T15:05:58.485230Z"
    }
   },
   "cell_type": "code",
   "source": "data.to_csv('./user_action/clear_data.csv',index=None)",
   "id": "b39c281e97b74ac5",
   "outputs": [],
   "execution_count": 16
  }
 ],
 "metadata": {
  "kernelspec": {
   "display_name": "Python 3",
   "language": "python",
   "name": "python3"
  },
  "language_info": {
   "codemirror_mode": {
    "name": "ipython",
    "version": 2
   },
   "file_extension": ".py",
   "mimetype": "text/x-python",
   "name": "python",
   "nbconvert_exporter": "python",
   "pygments_lexer": "ipython2",
   "version": "2.7.6"
  }
 },
 "nbformat": 4,
 "nbformat_minor": 5
}
