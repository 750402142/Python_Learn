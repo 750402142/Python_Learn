{
 "cells": [
  {
   "metadata": {},
   "cell_type": "markdown",
   "source": "# 淘宝用户购物行为数据分析",
   "id": "cf95ec749981e3b5"
  },
  {
   "metadata": {
    "collapsed": true,
    "ExecuteTime": {
     "end_time": "2024-10-21T13:45:14.909144Z",
     "start_time": "2024-10-21T13:45:14.421145Z"
    }
   },
   "cell_type": "code",
   "outputs": [],
   "execution_count": 1,
   "source": "import pandas as pd",
   "id": "initial_id"
  },
  {
   "metadata": {
    "ExecuteTime": {
     "end_time": "2024-10-21T14:40:30.731920Z",
     "start_time": "2024-10-21T14:40:27.436161Z"
    }
   },
   "cell_type": "code",
   "source": "data = pd.read_csv('./user_action/user_action.csv')",
   "id": "4249f22961b151f2",
   "outputs": [],
   "execution_count": 42
  },
  {
   "metadata": {
    "ExecuteTime": {
     "end_time": "2024-10-21T13:47:31.033990Z",
     "start_time": "2024-10-21T13:47:31.017088Z"
    }
   },
   "cell_type": "code",
   "source": "data.head()",
   "id": "47ad1803e6827a11",
   "outputs": [
    {
     "data": {
      "text/plain": [
       "    user_id    item_id  behavior_type  item_category           time\n",
       "0  98047837  232431562              1           4245  2014-12-06 02\n",
       "1  97726136  383583590              1           5894  2014-12-09 20\n",
       "2  98607707   64749712              1           2883  2014-12-18 11\n",
       "3  98662432  320593836              1           6562  2014-12-06 10\n",
       "4  98145908  290208520              1          13926  2014-12-16 21"
      ],
      "text/html": [
       "<div>\n",
       "<style scoped>\n",
       "    .dataframe tbody tr th:only-of-type {\n",
       "        vertical-align: middle;\n",
       "    }\n",
       "\n",
       "    .dataframe tbody tr th {\n",
       "        vertical-align: top;\n",
       "    }\n",
       "\n",
       "    .dataframe thead th {\n",
       "        text-align: right;\n",
       "    }\n",
       "</style>\n",
       "<table border=\"1\" class=\"dataframe\">\n",
       "  <thead>\n",
       "    <tr style=\"text-align: right;\">\n",
       "      <th></th>\n",
       "      <th>user_id</th>\n",
       "      <th>item_id</th>\n",
       "      <th>behavior_type</th>\n",
       "      <th>item_category</th>\n",
       "      <th>time</th>\n",
       "    </tr>\n",
       "  </thead>\n",
       "  <tbody>\n",
       "    <tr>\n",
       "      <th>0</th>\n",
       "      <td>98047837</td>\n",
       "      <td>232431562</td>\n",
       "      <td>1</td>\n",
       "      <td>4245</td>\n",
       "      <td>2014-12-06 02</td>\n",
       "    </tr>\n",
       "    <tr>\n",
       "      <th>1</th>\n",
       "      <td>97726136</td>\n",
       "      <td>383583590</td>\n",
       "      <td>1</td>\n",
       "      <td>5894</td>\n",
       "      <td>2014-12-09 20</td>\n",
       "    </tr>\n",
       "    <tr>\n",
       "      <th>2</th>\n",
       "      <td>98607707</td>\n",
       "      <td>64749712</td>\n",
       "      <td>1</td>\n",
       "      <td>2883</td>\n",
       "      <td>2014-12-18 11</td>\n",
       "    </tr>\n",
       "    <tr>\n",
       "      <th>3</th>\n",
       "      <td>98662432</td>\n",
       "      <td>320593836</td>\n",
       "      <td>1</td>\n",
       "      <td>6562</td>\n",
       "      <td>2014-12-06 10</td>\n",
       "    </tr>\n",
       "    <tr>\n",
       "      <th>4</th>\n",
       "      <td>98145908</td>\n",
       "      <td>290208520</td>\n",
       "      <td>1</td>\n",
       "      <td>13926</td>\n",
       "      <td>2014-12-16 21</td>\n",
       "    </tr>\n",
       "  </tbody>\n",
       "</table>\n",
       "</div>"
      ]
     },
     "execution_count": 3,
     "metadata": {},
     "output_type": "execute_result"
    }
   ],
   "execution_count": 3
  },
  {
   "metadata": {},
   "cell_type": "markdown",
   "source": "## 任务目标一:从数据集角度分析",
   "id": "62358dfcb8ef41b9"
  },
  {
   "metadata": {
    "ExecuteTime": {
     "end_time": "2024-10-21T02:41:35.557777Z",
     "start_time": "2024-10-21T02:41:35.554777Z"
    }
   },
   "cell_type": "code",
   "source": [
    "# 任务1\n",
    "## 行数和列数\n",
    "r = data.shape[0]\n",
    "c = len(data.columns)"
   ],
   "id": "e16360526222029a",
   "outputs": [],
   "execution_count": 5
  },
  {
   "metadata": {
    "ExecuteTime": {
     "end_time": "2024-10-21T02:43:57.098481Z",
     "start_time": "2024-10-21T02:43:57.026891Z"
    }
   },
   "cell_type": "code",
   "source": [
    "#唯一user_id的数量\n",
    "data['user_id'].nunique()#去除重复数据之后的数据量"
   ],
   "id": "563f06f980a3821",
   "outputs": [],
   "execution_count": 12
  },
  {
   "metadata": {
    "ExecuteTime": {
     "end_time": "2024-10-21T13:50:16.590808Z",
     "start_time": "2024-10-21T13:50:16.036579Z"
    }
   },
   "cell_type": "code",
   "source": [
    "#唯一item_id的数量\n",
    "data['item_id'].nunique()"
   ],
   "id": "e4956226c9f0526e",
   "outputs": [
    {
     "data": {
      "text/plain": [
       "2876947"
      ]
     },
     "execution_count": 6,
     "metadata": {},
     "output_type": "execute_result"
    }
   ],
   "execution_count": 6
  },
  {
   "metadata": {
    "ExecuteTime": {
     "end_time": "2024-10-21T13:54:25.273951Z",
     "start_time": "2024-10-21T13:54:25.204385Z"
    }
   },
   "cell_type": "code",
   "source": [
    "# item_category的唯一值的数量\n",
    "data['item_category'].nunique()"
   ],
   "id": "720341dc6e5a89a7",
   "outputs": [
    {
     "data": {
      "text/plain": [
       "8916"
      ]
     },
     "execution_count": 7,
     "metadata": {},
     "output_type": "execute_result"
    }
   ],
   "execution_count": 7
  },
  {
   "metadata": {
    "ExecuteTime": {
     "end_time": "2024-10-21T14:40:39.386405Z",
     "start_time": "2024-10-21T14:40:39.370141Z"
    }
   },
   "cell_type": "code",
   "source": [
    "dicts = {\n",
    "    1:'浏览',\n",
    "    2:'收藏',\n",
    "    3:'加购物车',\n",
    "    4:'购买'\n",
    "}"
   ],
   "id": "52a7a392d4a1f6e9",
   "outputs": [],
   "execution_count": 43
  },
  {
   "metadata": {
    "ExecuteTime": {
     "end_time": "2024-10-21T14:40:40.877438Z",
     "start_time": "2024-10-21T14:40:40.681932Z"
    }
   },
   "cell_type": "code",
   "source": "data['behavior_type'] = data['behavior_type'].map(dicts)",
   "id": "9ce0146bea5d9407",
   "outputs": [],
   "execution_count": 44
  },
  {
   "metadata": {
    "ExecuteTime": {
     "end_time": "2024-10-21T13:55:41.079310Z",
     "start_time": "2024-10-21T13:55:40.757211Z"
    }
   },
   "cell_type": "code",
   "source": "data['behavior_type'].value_counts()",
   "id": "108c07208fa5155",
   "outputs": [
    {
     "data": {
      "text/plain": [
       "behavior_type\n",
       "浏览      11550581\n",
       "加购物车      343564\n",
       "收藏        242556\n",
       "购买        120205\n",
       "Name: count, dtype: int64"
      ]
     },
     "execution_count": 10,
     "metadata": {},
     "output_type": "execute_result"
    }
   ],
   "execution_count": 10
  },
  {
   "metadata": {
    "ExecuteTime": {
     "end_time": "2024-10-21T14:40:46.746927Z",
     "start_time": "2024-10-21T14:40:45.615194Z"
    }
   },
   "cell_type": "code",
   "source": [
    "#统计时间跨度\n",
    "data['time'] = pd.to_datetime(data['time'])\n",
    "data['time'].describe()#描述性值来计算时间跨度"
   ],
   "id": "551777be5b9a16d5",
   "outputs": [
    {
     "data": {
      "text/plain": [
       "count                         12256906\n",
       "mean     2014-12-04 04:47:28.445699072\n",
       "min                2014-11-18 00:00:00\n",
       "25%                2014-11-26 15:00:00\n",
       "50%                2014-12-04 14:00:00\n",
       "75%                2014-12-11 23:00:00\n",
       "max                2014-12-18 23:00:00\n",
       "Name: time, dtype: object"
      ]
     },
     "execution_count": 45,
     "metadata": {},
     "output_type": "execute_result"
    }
   ],
   "execution_count": 45
  },
  {
   "metadata": {
    "ExecuteTime": {
     "end_time": "2024-10-21T14:08:07.947887Z",
     "start_time": "2024-10-21T14:08:07.654390Z"
    }
   },
   "cell_type": "code",
   "source": [
    "#缺失值的处理\n",
    "data.isna().sum()#计算每列缺失值的数量"
   ],
   "id": "29e36b7007427bbe",
   "outputs": [
    {
     "data": {
      "text/plain": [
       "          user_id  item_id  behavior_type  item_category   time\n",
       "0           False    False          False          False  False\n",
       "1           False    False          False          False  False\n",
       "2           False    False          False          False  False\n",
       "3           False    False          False          False  False\n",
       "4           False    False          False          False  False\n",
       "...           ...      ...            ...            ...    ...\n",
       "12256901    False    False          False          False  False\n",
       "12256902    False    False          False          False  False\n",
       "12256903    False    False          False          False  False\n",
       "12256904    False    False          False          False  False\n",
       "12256905    False    False          False          False  False\n",
       "\n",
       "[12256906 rows x 5 columns]"
      ],
      "text/html": [
       "<div>\n",
       "<style scoped>\n",
       "    .dataframe tbody tr th:only-of-type {\n",
       "        vertical-align: middle;\n",
       "    }\n",
       "\n",
       "    .dataframe tbody tr th {\n",
       "        vertical-align: top;\n",
       "    }\n",
       "\n",
       "    .dataframe thead th {\n",
       "        text-align: right;\n",
       "    }\n",
       "</style>\n",
       "<table border=\"1\" class=\"dataframe\">\n",
       "  <thead>\n",
       "    <tr style=\"text-align: right;\">\n",
       "      <th></th>\n",
       "      <th>user_id</th>\n",
       "      <th>item_id</th>\n",
       "      <th>behavior_type</th>\n",
       "      <th>item_category</th>\n",
       "      <th>time</th>\n",
       "    </tr>\n",
       "  </thead>\n",
       "  <tbody>\n",
       "    <tr>\n",
       "      <th>0</th>\n",
       "      <td>False</td>\n",
       "      <td>False</td>\n",
       "      <td>False</td>\n",
       "      <td>False</td>\n",
       "      <td>False</td>\n",
       "    </tr>\n",
       "    <tr>\n",
       "      <th>1</th>\n",
       "      <td>False</td>\n",
       "      <td>False</td>\n",
       "      <td>False</td>\n",
       "      <td>False</td>\n",
       "      <td>False</td>\n",
       "    </tr>\n",
       "    <tr>\n",
       "      <th>2</th>\n",
       "      <td>False</td>\n",
       "      <td>False</td>\n",
       "      <td>False</td>\n",
       "      <td>False</td>\n",
       "      <td>False</td>\n",
       "    </tr>\n",
       "    <tr>\n",
       "      <th>3</th>\n",
       "      <td>False</td>\n",
       "      <td>False</td>\n",
       "      <td>False</td>\n",
       "      <td>False</td>\n",
       "      <td>False</td>\n",
       "    </tr>\n",
       "    <tr>\n",
       "      <th>4</th>\n",
       "      <td>False</td>\n",
       "      <td>False</td>\n",
       "      <td>False</td>\n",
       "      <td>False</td>\n",
       "      <td>False</td>\n",
       "    </tr>\n",
       "    <tr>\n",
       "      <th>...</th>\n",
       "      <td>...</td>\n",
       "      <td>...</td>\n",
       "      <td>...</td>\n",
       "      <td>...</td>\n",
       "      <td>...</td>\n",
       "    </tr>\n",
       "    <tr>\n",
       "      <th>12256901</th>\n",
       "      <td>False</td>\n",
       "      <td>False</td>\n",
       "      <td>False</td>\n",
       "      <td>False</td>\n",
       "      <td>False</td>\n",
       "    </tr>\n",
       "    <tr>\n",
       "      <th>12256902</th>\n",
       "      <td>False</td>\n",
       "      <td>False</td>\n",
       "      <td>False</td>\n",
       "      <td>False</td>\n",
       "      <td>False</td>\n",
       "    </tr>\n",
       "    <tr>\n",
       "      <th>12256903</th>\n",
       "      <td>False</td>\n",
       "      <td>False</td>\n",
       "      <td>False</td>\n",
       "      <td>False</td>\n",
       "      <td>False</td>\n",
       "    </tr>\n",
       "    <tr>\n",
       "      <th>12256904</th>\n",
       "      <td>False</td>\n",
       "      <td>False</td>\n",
       "      <td>False</td>\n",
       "      <td>False</td>\n",
       "      <td>False</td>\n",
       "    </tr>\n",
       "    <tr>\n",
       "      <th>12256905</th>\n",
       "      <td>False</td>\n",
       "      <td>False</td>\n",
       "      <td>False</td>\n",
       "      <td>False</td>\n",
       "      <td>False</td>\n",
       "    </tr>\n",
       "  </tbody>\n",
       "</table>\n",
       "<p>12256906 rows × 5 columns</p>\n",
       "</div>"
      ]
     },
     "execution_count": 15,
     "metadata": {},
     "output_type": "execute_result"
    }
   ],
   "execution_count": 15
  },
  {
   "metadata": {
    "ExecuteTime": {
     "end_time": "2024-10-21T14:11:57.213894Z",
     "start_time": "2024-10-21T14:11:54.989468Z"
    }
   },
   "cell_type": "code",
   "source": [
    "#统计重复的行\n",
    "duplicated_rows = data[data.duplicated()]"
   ],
   "id": "2bdfa6f93b93522c",
   "outputs": [],
   "execution_count": 16
  },
  {
   "metadata": {
    "ExecuteTime": {
     "end_time": "2024-10-21T14:12:31.607254Z",
     "start_time": "2024-10-21T14:12:31.204941Z"
    }
   },
   "cell_type": "code",
   "source": "data['time'].dt.year.unique()",
   "id": "e2114ba12fc8bbb0",
   "outputs": [
    {
     "data": {
      "text/plain": [
       "array([2014], dtype=int32)"
      ]
     },
     "execution_count": 18,
     "metadata": {},
     "output_type": "execute_result"
    }
   ],
   "execution_count": 18
  },
  {
   "metadata": {
    "ExecuteTime": {
     "end_time": "2024-10-21T14:12:44.782795Z",
     "start_time": "2024-10-21T14:12:44.430258Z"
    }
   },
   "cell_type": "code",
   "source": "data['time'].dt.month",
   "id": "23e24ea259bb9c7f",
   "outputs": [
    {
     "data": {
      "text/plain": [
       "0           12\n",
       "1           12\n",
       "2           12\n",
       "3           12\n",
       "4           12\n",
       "            ..\n",
       "12256901    12\n",
       "12256902    12\n",
       "12256903    12\n",
       "12256904    12\n",
       "12256905    12\n",
       "Name: time, Length: 12256906, dtype: int32"
      ]
     },
     "execution_count": 20,
     "metadata": {},
     "output_type": "execute_result"
    }
   ],
   "execution_count": 20
  },
  {
   "metadata": {
    "ExecuteTime": {
     "end_time": "2024-10-21T14:41:33.201567Z",
     "start_time": "2024-10-21T14:40:57.197317Z"
    }
   },
   "cell_type": "code",
   "source": [
    "data['day_name'] = data['time'].dt.day_name()##统计每天周几\n",
    "data['month'] = data['time'].dt.month\n",
    "data['year'] = data['time'].dt.year\n",
    "data['month_day'] = data['time'].dt.strftime('%m-%d')"
   ],
   "id": "a202817f3f087e9e",
   "outputs": [],
   "execution_count": 46
  },
  {
   "metadata": {
    "ExecuteTime": {
     "end_time": "2024-10-21T14:18:38.309133Z",
     "start_time": "2024-10-21T14:18:01.596739Z"
    }
   },
   "cell_type": "code",
   "source": "data['month_day'] = data['time'].apply(lambda x:x.strftime('%m-%d'))",
   "id": "b4e47df8cb42b6a1",
   "outputs": [],
   "execution_count": 24
  },
  {
   "metadata": {
    "ExecuteTime": {
     "end_time": "2024-10-21T14:18:39.104102Z",
     "start_time": "2024-10-21T14:18:38.322719Z"
    }
   },
   "cell_type": "code",
   "source": "data['day_name'].value_counts()",
   "id": "b4ed4701cb5f0c34",
   "outputs": [
    {
     "data": {
      "text/plain": [
       "day_name\n",
       "Thursday     1988870\n",
       "Wednesday    1938026\n",
       "Tuesday      1935266\n",
       "Friday       1727332\n",
       "Sunday       1586614\n",
       "Monday       1557976\n",
       "Saturday     1522822\n",
       "Name: count, dtype: int64"
      ]
     },
     "execution_count": 25,
     "metadata": {},
     "output_type": "execute_result"
    }
   ],
   "execution_count": 25
  },
  {
   "metadata": {},
   "cell_type": "markdown",
   "source": "## 任务目标2:PV和UV分析",
   "id": "f32b20cc5e538e10"
  },
  {
   "metadata": {
    "ExecuteTime": {
     "end_time": "2024-10-21T14:41:37.329950Z",
     "start_time": "2024-10-21T14:41:37.280020Z"
    }
   },
   "cell_type": "code",
   "source": [
    "# 要求进行11月和12月的PV量和UV量,并进行可视化工作\n",
    "PV_count = data['month'].value_counts().reset_index().values.tolist()"
   ],
   "id": "94b2b64b6bddabe3",
   "outputs": [],
   "execution_count": 47
  },
  {
   "metadata": {
    "ExecuteTime": {
     "end_time": "2024-10-21T14:42:04.084467Z",
     "start_time": "2024-10-21T14:42:04.012Z"
    }
   },
   "cell_type": "code",
   "source": "data2 = data.drop_duplicates(subset=['user_id'])",
   "id": "f76df474dd62af11",
   "outputs": [],
   "execution_count": 54
  },
  {
   "metadata": {
    "ExecuteTime": {
     "end_time": "2024-10-21T14:42:04.845254Z",
     "start_time": "2024-10-21T14:42:04.841256Z"
    }
   },
   "cell_type": "code",
   "source": "UV_count = data2['month'].value_counts().reset_index().values.tolist()",
   "id": "5f7098e3d296bfe7",
   "outputs": [],
   "execution_count": 55
  },
  {
   "metadata": {
    "ExecuteTime": {
     "end_time": "2024-10-21T14:41:47.586178Z",
     "start_time": "2024-10-21T14:41:47.580180Z"
    }
   },
   "cell_type": "code",
   "source": "PV_count",
   "id": "c913e20b64122edb",
   "outputs": [
    {
     "data": {
      "text/plain": [
       "[[12, 7512976], [11, 4743930]]"
      ]
     },
     "execution_count": 51,
     "metadata": {},
     "output_type": "execute_result"
    }
   ],
   "execution_count": 51
  },
  {
   "metadata": {
    "ExecuteTime": {
     "end_time": "2024-10-21T14:42:06.791044Z",
     "start_time": "2024-10-21T14:42:06.781045Z"
    }
   },
   "cell_type": "code",
   "source": "UV_count",
   "id": "d5e1d2e1e6206506",
   "outputs": [
    {
     "data": {
      "text/plain": [
       "[[12, 6141], [11, 3859]]"
      ]
     },
     "execution_count": 56,
     "metadata": {},
     "output_type": "execute_result"
    }
   ],
   "execution_count": 56
  },
  {
   "metadata": {
    "ExecuteTime": {
     "end_time": "2024-10-21T14:43:54.602936Z",
     "start_time": "2024-10-21T14:43:54.588946Z"
    }
   },
   "cell_type": "code",
   "source": [
    "itemstyle_pie = {\n",
    "    'normal': {\n",
    "        'borderRadius':15,\n",
    "        'borderWidth':.5,\n",
    "        'borderColor':'auto',\n",
    "    }\n",
    "}"
   ],
   "id": "d7a5b0bf6f21d020",
   "outputs": [],
   "execution_count": 60
  },
  {
   "metadata": {
    "ExecuteTime": {
     "end_time": "2024-10-21T14:43:35.466045Z",
     "start_time": "2024-10-21T14:43:35.451045Z"
    }
   },
   "cell_type": "code",
   "source": [
    "from pyecharts import options as opts\n",
    "from pyecharts.charts import Bar,Scatter,Pie,Timeline\n",
    "from pyecharts.globals import ThemeType,ChartType,SymbolType,JsCode"
   ],
   "id": "9eed093314c983a3",
   "outputs": [],
   "execution_count": 59
  },
  {
   "metadata": {
    "ExecuteTime": {
     "end_time": "2024-10-21T14:45:41.682978Z",
     "start_time": "2024-10-21T14:45:41.662978Z"
    }
   },
   "cell_type": "code",
   "source": [
    "from pyecharts.charts import Pie\n",
    "\n",
    "pie=(Pie(init_opts=opts.InitOpts(theme=ThemeType.DARK,width='100%',height='95vh'))\n",
    "    .add(series_name='PV量',data_pair=PV_count,\n",
    "        rosetype='area', \n",
    "        radius=['20%','40%'],\n",
    "        center=['20%','55%'],\n",
    "        label_opts=opts.LabelOpts(formatter='{b}:{c}'),\n",
    "        itemstyle_opts=itemstyle_pie,\n",
    "        )\n",
    "     .add(series_name='UV量',data_pair=UV_count,\n",
    "        rosetype='area', \n",
    "        radius=['20%','40%'],\n",
    "        center=['75%','55%'],\n",
    "        label_opts=opts.LabelOpts(formatter='{b}:{c}'),\n",
    "        itemstyle_opts=itemstyle_pie,\n",
    "        )\n",
    "     .set_global_opts(\n",
    "         title_opts=[\n",
    "              dict(text='PV量',top='53%',left='19%'),\n",
    "              dict(text='UV量',top='53%',left='74%'),\n",
    "         ],\n",
    "         legend_opts=opts.LegendOpts(pos_top='5%'),\n",
    "         tooltip_opts=opts.TooltipOpts(trigger='item'),\n",
    "                      )\n",
    "   )\n",
    "pie.render('./result/Q1.html')"
   ],
   "id": "eecdb099a49066b1",
   "outputs": [
    {
     "data": {
      "text/plain": [
       "'C:\\\\Users\\\\wang\\\\Desktop\\\\pyLearn\\\\综合实训课程1\\\\淘宝用户行为分析\\\\result\\\\Q1.html'"
      ]
     },
     "execution_count": 63,
     "metadata": {},
     "output_type": "execute_result"
    }
   ],
   "execution_count": 63
  }
 ],
 "metadata": {
  "kernelspec": {
   "display_name": "Python 3",
   "language": "python",
   "name": "python3"
  },
  "language_info": {
   "codemirror_mode": {
    "name": "ipython",
    "version": 2
   },
   "file_extension": ".py",
   "mimetype": "text/x-python",
   "name": "python",
   "nbconvert_exporter": "python",
   "pygments_lexer": "ipython2",
   "version": "2.7.6"
  }
 },
 "nbformat": 4,
 "nbformat_minor": 5
}
