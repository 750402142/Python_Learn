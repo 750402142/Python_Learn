{
 "cells": [
  {
   "cell_type": "code",
   "id": "initial_id",
   "metadata": {
    "collapsed": true,
    "ExecuteTime": {
     "end_time": "2024-10-25T01:11:04.542205Z",
     "start_time": "2024-10-25T01:11:03.132033Z"
    }
   },
   "source": [
    "import missingno\n",
    "import pandas as pd\n",
    "\n",
    "import numpy as np\n",
    "import matplotlib\n",
    "import matplotlib.pyplot as plt\n",
    "import sys\n",
    "\n",
    "from matplotlib import rcParams\n",
    "from win32ui import types\n",
    "\n",
    "print('Python version:', sys.version)\n",
    "print('Pandas version:', pd.__version__)\n",
    "print('Numpy version:', np.__version__)\n",
    "print('Matplotlib version:', matplotlib.__version__)"
   ],
   "outputs": [
    {
     "name": "stdout",
     "output_type": "stream",
     "text": [
      "Python version: 3.10.9 (tags/v3.10.9:1dd9be6, Dec  6 2022, 20:01:21) [MSC v.1934 64 bit (AMD64)]\n",
      "Pandas version: 2.2.2\n",
      "Numpy version: 2.1.1\n",
      "Matplotlib version: 3.9.2\n"
     ]
    }
   ],
   "execution_count": 2
  },
  {
   "metadata": {
    "ExecuteTime": {
     "end_time": "2024-10-25T01:11:13.302856Z",
     "start_time": "2024-10-25T01:11:10.156754Z"
    }
   },
   "cell_type": "code",
   "source": "data_s = pd.read_excel('./data/湖南.xls',index_col=0)",
   "id": "24c4e966a1415337",
   "outputs": [],
   "execution_count": 3
  },
  {
   "metadata": {
    "ExecuteTime": {
     "end_time": "2024-10-25T01:11:16.103080Z",
     "start_time": "2024-10-25T01:11:13.931674Z"
    }
   },
   "cell_type": "code",
   "source": "data_n = pd.read_excel('./data/湖北.xls')",
   "id": "46c9409c49c3cc89",
   "outputs": [],
   "execution_count": 4
  },
  {
   "metadata": {
    "ExecuteTime": {
     "end_time": "2024-10-24T01:07:28.836323Z",
     "start_time": "2024-10-24T01:07:28.672993Z"
    }
   },
   "cell_type": "code",
   "source": [
    "from rich import print\n",
    "# 判断有无重复行\n",
    "data_n.duplicated().value_counts()\n",
    "data_s.duplicated().value_counts()"
   ],
   "id": "6cc69158ef8bab2e",
   "outputs": [
    {
     "data": {
      "text/plain": [
       "False    13361\n",
       "Name: count, dtype: int64"
      ]
     },
     "execution_count": 4,
     "metadata": {},
     "output_type": "execute_result"
    }
   ],
   "execution_count": 4
  },
  {
   "metadata": {
    "ExecuteTime": {
     "end_time": "2024-10-25T01:11:19.294945Z",
     "start_time": "2024-10-25T01:11:19.243831Z"
    }
   },
   "cell_type": "code",
   "source": [
    "# 缺失值检测,如果某个字段的缺失值数量超过一千,则删除该字段\n",
    "miss_count = data_s.isna().sum()\n",
    "data_s = data_s.loc[:,miss_count<=1000]"
   ],
   "id": "29f281a07247ffa1",
   "outputs": [],
   "execution_count": 5
  },
  {
   "metadata": {
    "ExecuteTime": {
     "end_time": "2024-10-24T01:17:20.121541Z",
     "start_time": "2024-10-24T01:17:20.110960Z"
    }
   },
   "cell_type": "code",
   "source": "miss_count",
   "id": "d5e607c060824648",
   "outputs": [
    {
     "data": {
      "text/plain": [
       "平台                0\n",
       "经营单位              0\n",
       "仓库                0\n",
       "发货流水号             0\n",
       "送货客户              0\n",
       "               ... \n",
       "是否客户区域金额统计打印      0\n",
       "是否门店仓飞单         151\n",
       "是否采购退转采购入         0\n",
       "是否同步单据到售后         0\n",
       "快递运输是否报价          0\n",
       "Length: 105, dtype: int64"
      ]
     },
     "execution_count": 12,
     "metadata": {},
     "output_type": "execute_result"
    }
   ],
   "execution_count": 12
  },
  {
   "metadata": {
    "ExecuteTime": {
     "end_time": "2024-10-25T01:11:23.418622Z",
     "start_time": "2024-10-25T01:11:23.372998Z"
    }
   },
   "cell_type": "code",
   "source": [
    "miss_count = data_n.isnull().sum()\n",
    "data_n = data_n.loc[:,miss_count<=1000]"
   ],
   "id": "7d85388d3b7dbff1",
   "outputs": [],
   "execution_count": 6
  },
  {
   "metadata": {
    "ExecuteTime": {
     "end_time": "2024-10-24T01:14:59.646948Z",
     "start_time": "2024-10-24T01:14:59.641948Z"
    }
   },
   "cell_type": "code",
   "source": "data_n.shape",
   "id": "11a7a8dc9b7291ce",
   "outputs": [
    {
     "data": {
      "text/plain": [
       "(10681, 106)"
      ]
     },
     "execution_count": 9,
     "metadata": {},
     "output_type": "execute_result"
    }
   ],
   "execution_count": 9
  },
  {
   "metadata": {
    "ExecuteTime": {
     "end_time": "2024-10-25T01:11:26.801247Z",
     "start_time": "2024-10-25T01:11:26.795245Z"
    }
   },
   "cell_type": "code",
   "source": [
    "columns = ['发货流水号','送货客户','地址流水号','应收客户','开票客户','送货人','商务签收人名','物流签收人名',\n",
    "'财务签收时间','财务签收人','放货人','销售业务员','原始单据扫描信息','创建人NO','创建人名称','提交人NO',\n",
    " '提交人名称','核算部门节点NO','成本中心','币种','是否是费用发货'\n",
    "]\n",
    "columns2 =['发货流水号','送货客户','地址流水号','应收客户','开票客户','送货人','商务签收人名','物流签收人名',\n",
    "'财务签收时间','财务签收人','放货人','销售业务员','原始单据扫描信息','创建人NO','创建人名称','提交人NO',\n",
    " '提交人名称','核算部门节点NO','成本中心','币种','打印人', '打印时间'\n",
    "]"
   ],
   "id": "87ada32bfcdb43bc",
   "outputs": [],
   "execution_count": 7
  },
  {
   "metadata": {
    "ExecuteTime": {
     "end_time": "2024-10-25T01:11:28.004107Z",
     "start_time": "2024-10-25T01:11:27.990287Z"
    }
   },
   "cell_type": "code",
   "source": [
    "data_s.drop(columns,axis=1,inplace=True)\n",
    "data_n.drop(columns2,axis=1,inplace=True)"
   ],
   "id": "534bd5bf7a5ef665",
   "outputs": [],
   "execution_count": 8
  },
  {
   "metadata": {
    "ExecuteTime": {
     "end_time": "2024-10-25T01:11:30.728273Z",
     "start_time": "2024-10-25T01:11:30.725264Z"
    }
   },
   "cell_type": "code",
   "source": "data_s['province'] = '湖南'",
   "id": "3b3f2ace83a546f6",
   "outputs": [],
   "execution_count": 9
  },
  {
   "metadata": {
    "ExecuteTime": {
     "end_time": "2024-10-25T01:11:32.043854Z",
     "start_time": "2024-10-25T01:11:32.035346Z"
    }
   },
   "cell_type": "code",
   "source": "data_n['province'] = '湖北'",
   "id": "3d9514fb7d842a70",
   "outputs": [],
   "execution_count": 10
  },
  {
   "metadata": {
    "ExecuteTime": {
     "end_time": "2024-10-25T01:11:34.833995Z",
     "start_time": "2024-10-25T01:11:34.812923Z"
    }
   },
   "cell_type": "code",
   "source": "data = pd.concat([data_s,data_n[data_s.columns]],axis=0)",
   "id": "cc549cb3c15c6d27",
   "outputs": [],
   "execution_count": 11
  },
  {
   "metadata": {
    "ExecuteTime": {
     "end_time": "2024-10-25T01:11:44.019326Z",
     "start_time": "2024-10-25T01:11:43.986824Z"
    }
   },
   "cell_type": "code",
   "source": [
    "# select_dtypes用于选择某种特定类型的数据\n",
    "data_num = data.select_dtypes(['int','float'])\n",
    "data_cat = data.select_dtypes(['object'])\n",
    "data_time = data.select_dtypes(['datetime'])"
   ],
   "id": "e34d30772c562c70",
   "outputs": [],
   "execution_count": 12
  },
  {
   "metadata": {
    "ExecuteTime": {
     "end_time": "2024-10-25T02:11:48.856954Z",
     "start_time": "2024-10-25T02:11:48.831329Z"
    }
   },
   "cell_type": "code",
   "source": "data_num['province'] = data['province']",
   "id": "ad726b14915e7c65",
   "outputs": [],
   "execution_count": 17
  },
  {
   "metadata": {
    "ExecuteTime": {
     "end_time": "2024-10-25T02:15:00.427667Z",
     "start_time": "2024-10-25T02:15:00.406572Z"
    }
   },
   "cell_type": "code",
   "source": "data_num.drop(labels = ['回款金额','实际成本金额','水单金额','成本金额','发货成本金额','签收金额','拣货小包装数量','发货净重'],axis=1,inplace=True)",
   "id": "d169aa0e09b397d0",
   "outputs": [],
   "execution_count": 20
  },
  {
   "metadata": {
    "ExecuteTime": {
     "end_time": "2024-10-24T02:43:24.080794Z",
     "start_time": "2024-10-24T02:43:23.934742Z"
    }
   },
   "cell_type": "code",
   "source": [
    "from pyecharts import options as opts\n",
    "import json\n",
    "import os\n",
    "import numpy as np\n",
    "from pyecharts.charts import Map\n",
    "\n",
    "# 获取文件列表\n",
    "filenames = os.listdir('./data/maps/')\n",
    "\n",
    "# 创建湖南湖北的地理数据集合\n",
    "hnhb = {'type': 'FeatureCollection', 'features': []}\n",
    "for i in filenames:\n",
    "    with open(f\"./data/maps/{i}\", 'r', encoding='utf-8') as f:\n",
    "        data = json.loads(f.read())\n",
    "        hnhb['features'].append(data)\n",
    "\n",
    "target_data = \"\"\"{\n",
    "        \"type\": \"FeatureCollection\",\n",
    "        \"features\": []}\"\"\"\n",
    "target_data = json.loads(target_data)\n",
    "\n",
    "list_region = os.listdir('./data/maps/')\n",
    "name_list = []\n",
    "for lr in list_region:\n",
    "    with open(f\"./data/maps/{lr}\", 'r', encoding='utf-8') as f:\n",
    "        temp = json.load(f)\n",
    "        temp = temp['features']\n",
    "        for tp in temp:\n",
    "            name = tp['properties']['name']\n",
    "            if name in ['湖南省', '湖北省']:\n",
    "                # 将 area 加入 tp 节点并传入 target_data\n",
    "                tp['properties']['area'] = '湖南湖北'\n",
    "                target_data['features'].append(tp)\n",
    "                name_list.append((name, np.random.randint(100, 5000)))\n",
    "\n",
    "# 创建地图对象\n",
    "maps = Map(init_opts=opts.InitOpts(theme='light',\n",
    "                                      width='1000px',\n",
    "                                      height='600px'))\n",
    "\n",
    "# 注册湖南湖北地图\n",
    "maps.add_js_funcs(f\"echarts.registerMap('湖南湖北', {target_data});\")\n",
    "\n",
    "# 绘制湖南湖北地图，不显示具体市的数据\n",
    "maps.add(\"湖南湖北\", [('湖南湖北', np.random.randint(100, 5000))], maptype='湖南湖北')\n",
    "\n",
    "# 渲染地图\n",
    "maps.render()"
   ],
   "id": "314b0476b91155b1",
   "outputs": [
    {
     "data": {
      "text/plain": [
       "'C:\\\\Users\\\\wang\\\\Desktop\\\\pyLearn\\\\综合实训课程1\\\\物流分析项目\\\\render.html'"
      ]
     },
     "execution_count": 33,
     "metadata": {},
     "output_type": "execute_result"
    }
   ],
   "execution_count": 33
  },
  {
   "metadata": {
    "ExecuteTime": {
     "end_time": "2024-10-24T02:47:49.021992Z",
     "start_time": "2024-10-24T02:47:48.991674Z"
    }
   },
   "cell_type": "code",
   "source": [
    "from pyecharts import options as opts\n",
    "import json\n",
    "import os\n",
    "filenames = os.listdir('./data/maps/')\n",
    "hnhb = {'type': 'FeatureCollection','features':[]}\n",
    "for i in filenames:\n",
    "    with open(f\"./data/maps/{i}\",'r',encoding='utf-8') as f:\n",
    "        data = json.loads(f.read())\n",
    "        hnhb['features'].append(data)\n",
    "target_data = \"\"\"{\n",
    "        \"type\": \"FeatureCollection\",\n",
    "        \"features\": []}\"\"\"\n",
    "target_data = json.loads(target_data)\n",
    "list_region = os.listdir('./data/maps/')\n",
    "name_list = []\n",
    "for lr in list_region:\n",
    "    with open(f\"./data/maps/{lr}\", 'r', encoding='utf-8') as f:\n",
    "        temp = json.load(f)\n",
    "        temp = temp['features']\n",
    "        for tp in temp:\n",
    "            name = tp['properties']['name']\n",
    "            # 将area加入tp节点并传入target_data\n",
    "            tp['properties']['area'] = '湖南湖北'\n",
    "            target_data['features'].append(tp)\n",
    "            name_list.append((name, np.random.randint(100, 5000)))\n",
    "from pyecharts.charts import Map\n",
    "maps = Map(init_opts=opts.InitOpts(theme='light',\n",
    "                                      width='1000px',\n",
    "                                      height='600px'))\n",
    "maps.add_js_funcs(f\"echarts.registerMap('湖南湖北', {target_data});\")\n",
    "# 引用添加的地图\n",
    "maps.add(\"湖南湖北\",[('河南省',100)],maptype='湖南湖北')\n",
    "maps.render()"
   ],
   "id": "931b6830ba72fd1b",
   "outputs": [
    {
     "data": {
      "text/plain": [
       "'C:\\\\Users\\\\wang\\\\Desktop\\\\pyLearn\\\\综合实训课程1\\\\物流分析项目\\\\render.html'"
      ]
     },
     "execution_count": 35,
     "metadata": {},
     "output_type": "execute_result"
    }
   ],
   "execution_count": 35
  },
  {
   "metadata": {
    "ExecuteTime": {
     "end_time": "2024-10-24T03:23:29.478196Z",
     "start_time": "2024-10-24T03:23:29.317159Z"
    }
   },
   "cell_type": "code",
   "source": "data_cat = data_cat.groupby('province').transform(lambda x:x.ffill())\n",
   "id": "761f6eff0d870289",
   "outputs": [],
   "execution_count": 38
  },
  {
   "metadata": {
    "ExecuteTime": {
     "end_time": "2024-10-24T03:23:37.509902Z",
     "start_time": "2024-10-24T03:23:37.486844Z"
    }
   },
   "cell_type": "code",
   "source": "data_cat",
   "id": "d3ee6c36b20dfadd",
   "outputs": [
    {
     "data": {
      "text/plain": [
       "                  平台               经营单位                             仓库 结算方式  \\\n",
       "1       01020ALY-新燎原  ED00-长沙新燎原供应链有限公司  XLYCSCTBHBLYZG-新燎原长沙春天百货珀莱雅专柜  MON   \n",
       "2       01020ALY-新燎原  ED00-长沙新燎原供应链有限公司  XLYZSYYSCWMZJC-新燎原长沙友谊商城丸美专柜仓  MON   \n",
       "3       01020AJJ-金之津      R100-湖南金之津供应链              SDHNXZJW-金之津总部正常仓  MON   \n",
       "4       01020AJJ-金之津      R100-湖南金之津供应链              SDHNXZJW-金之津总部正常仓  MON   \n",
       "5       01020AJJ-金之津      R100-湖南金之津供应链              SDHNXZJW-金之津总部正常仓  MON   \n",
       "...              ...                ...                            ...  ...   \n",
       "10676  011501HY-武汉鸿雁       M100-武汉鸿雁供应链              SDWHHYWLK-武汉鸿雁武冷库  MON   \n",
       "10677  011501RZ-湖北瑞泽          SY00-湖北瑞泽            SDHBWHRZYYGGC-瑞泽医药仓  MON   \n",
       "10678  011501RZ-湖北瑞泽          SY00-湖北瑞泽            SDHBWHRZYYGGC-瑞泽医药仓  MON   \n",
       "10679  011501RZ-湖北瑞泽          SY00-湖北瑞泽            SDHBWHRZYYGGC-瑞泽医药仓  MON   \n",
       "10680  011501HY-武汉鸿雁       M100-武汉鸿雁供应链              SDWHHYWLK-武汉鸿雁武冷库  TZZ   \n",
       "\n",
       "      运输方式 是否打印 发货状态 物流录入的结算方法 是否拒收入库完成 发货单类型2  ... 是否医疗分销 是否收款 飞单发货的收货提货方式  \\\n",
       "1      H01    N  CLO       MON        Y   BASE  ...      N    N         K01   \n",
       "2      H01    N  CLO       MON        Y   BASE  ...      N    N         K01   \n",
       "3      H01    N  CLO       MON        Y   BASE  ...      N    N         K01   \n",
       "4      H01    N  CLO       MON        Y   BASE  ...      N    N         K01   \n",
       "5      H01    N  CLO       MON        Y   BASE  ...      N    N         K01   \n",
       "...    ...  ...  ...       ...      ...    ...  ...    ...  ...         ...   \n",
       "10676  H01    N  CLO       MON        Y   BASE  ...      N    N         K01   \n",
       "10677  W01    N  CLO       MON        Y   BASE  ...      Y    N         K01   \n",
       "10678  W01    N  CLO       MON        Y   BASE  ...      Y    N         K01   \n",
       "10679  W01    N  CLO       MON        Y   BASE  ...      Y    N         K01   \n",
       "10680  K01    N  CLO       TZZ        Y   BASE  ...      N    N         K01   \n",
       "\n",
       "      票折费用 是否加价 是否客户区域金额统计打印 是否门店仓飞单 是否采购退转采购入 是否同步单据到售后 快递运输是否报价  \n",
       "1        N    Y            N       N         N         N        N  \n",
       "2        N    Y            N       N         N         N        N  \n",
       "3        N    Y            N       N         N         N        N  \n",
       "4        N    Y            N       N         N         N        N  \n",
       "5        N    Y            N       N         N         N        N  \n",
       "...    ...  ...          ...     ...       ...       ...      ...  \n",
       "10676    N    Y            N       N         N         N        N  \n",
       "10677    N    Y            N       N         N         N        N  \n",
       "10678    N    Y            N       N         N         N        N  \n",
       "10679    N    Y            N       N         N         N        N  \n",
       "10680    N    Y            N       N         N         N        N  \n",
       "\n",
       "[24042 rows x 47 columns]"
      ],
      "text/html": [
       "<div>\n",
       "<style scoped>\n",
       "    .dataframe tbody tr th:only-of-type {\n",
       "        vertical-align: middle;\n",
       "    }\n",
       "\n",
       "    .dataframe tbody tr th {\n",
       "        vertical-align: top;\n",
       "    }\n",
       "\n",
       "    .dataframe thead th {\n",
       "        text-align: right;\n",
       "    }\n",
       "</style>\n",
       "<table border=\"1\" class=\"dataframe\">\n",
       "  <thead>\n",
       "    <tr style=\"text-align: right;\">\n",
       "      <th></th>\n",
       "      <th>平台</th>\n",
       "      <th>经营单位</th>\n",
       "      <th>仓库</th>\n",
       "      <th>结算方式</th>\n",
       "      <th>运输方式</th>\n",
       "      <th>是否打印</th>\n",
       "      <th>发货状态</th>\n",
       "      <th>物流录入的结算方法</th>\n",
       "      <th>是否拒收入库完成</th>\n",
       "      <th>发货单类型2</th>\n",
       "      <th>...</th>\n",
       "      <th>是否医疗分销</th>\n",
       "      <th>是否收款</th>\n",
       "      <th>飞单发货的收货提货方式</th>\n",
       "      <th>票折费用</th>\n",
       "      <th>是否加价</th>\n",
       "      <th>是否客户区域金额统计打印</th>\n",
       "      <th>是否门店仓飞单</th>\n",
       "      <th>是否采购退转采购入</th>\n",
       "      <th>是否同步单据到售后</th>\n",
       "      <th>快递运输是否报价</th>\n",
       "    </tr>\n",
       "  </thead>\n",
       "  <tbody>\n",
       "    <tr>\n",
       "      <th>1</th>\n",
       "      <td>01020ALY-新燎原</td>\n",
       "      <td>ED00-长沙新燎原供应链有限公司</td>\n",
       "      <td>XLYCSCTBHBLYZG-新燎原长沙春天百货珀莱雅专柜</td>\n",
       "      <td>MON</td>\n",
       "      <td>H01</td>\n",
       "      <td>N</td>\n",
       "      <td>CLO</td>\n",
       "      <td>MON</td>\n",
       "      <td>Y</td>\n",
       "      <td>BASE</td>\n",
       "      <td>...</td>\n",
       "      <td>N</td>\n",
       "      <td>N</td>\n",
       "      <td>K01</td>\n",
       "      <td>N</td>\n",
       "      <td>Y</td>\n",
       "      <td>N</td>\n",
       "      <td>N</td>\n",
       "      <td>N</td>\n",
       "      <td>N</td>\n",
       "      <td>N</td>\n",
       "    </tr>\n",
       "    <tr>\n",
       "      <th>2</th>\n",
       "      <td>01020ALY-新燎原</td>\n",
       "      <td>ED00-长沙新燎原供应链有限公司</td>\n",
       "      <td>XLYZSYYSCWMZJC-新燎原长沙友谊商城丸美专柜仓</td>\n",
       "      <td>MON</td>\n",
       "      <td>H01</td>\n",
       "      <td>N</td>\n",
       "      <td>CLO</td>\n",
       "      <td>MON</td>\n",
       "      <td>Y</td>\n",
       "      <td>BASE</td>\n",
       "      <td>...</td>\n",
       "      <td>N</td>\n",
       "      <td>N</td>\n",
       "      <td>K01</td>\n",
       "      <td>N</td>\n",
       "      <td>Y</td>\n",
       "      <td>N</td>\n",
       "      <td>N</td>\n",
       "      <td>N</td>\n",
       "      <td>N</td>\n",
       "      <td>N</td>\n",
       "    </tr>\n",
       "    <tr>\n",
       "      <th>3</th>\n",
       "      <td>01020AJJ-金之津</td>\n",
       "      <td>R100-湖南金之津供应链</td>\n",
       "      <td>SDHNXZJW-金之津总部正常仓</td>\n",
       "      <td>MON</td>\n",
       "      <td>H01</td>\n",
       "      <td>N</td>\n",
       "      <td>CLO</td>\n",
       "      <td>MON</td>\n",
       "      <td>Y</td>\n",
       "      <td>BASE</td>\n",
       "      <td>...</td>\n",
       "      <td>N</td>\n",
       "      <td>N</td>\n",
       "      <td>K01</td>\n",
       "      <td>N</td>\n",
       "      <td>Y</td>\n",
       "      <td>N</td>\n",
       "      <td>N</td>\n",
       "      <td>N</td>\n",
       "      <td>N</td>\n",
       "      <td>N</td>\n",
       "    </tr>\n",
       "    <tr>\n",
       "      <th>4</th>\n",
       "      <td>01020AJJ-金之津</td>\n",
       "      <td>R100-湖南金之津供应链</td>\n",
       "      <td>SDHNXZJW-金之津总部正常仓</td>\n",
       "      <td>MON</td>\n",
       "      <td>H01</td>\n",
       "      <td>N</td>\n",
       "      <td>CLO</td>\n",
       "      <td>MON</td>\n",
       "      <td>Y</td>\n",
       "      <td>BASE</td>\n",
       "      <td>...</td>\n",
       "      <td>N</td>\n",
       "      <td>N</td>\n",
       "      <td>K01</td>\n",
       "      <td>N</td>\n",
       "      <td>Y</td>\n",
       "      <td>N</td>\n",
       "      <td>N</td>\n",
       "      <td>N</td>\n",
       "      <td>N</td>\n",
       "      <td>N</td>\n",
       "    </tr>\n",
       "    <tr>\n",
       "      <th>5</th>\n",
       "      <td>01020AJJ-金之津</td>\n",
       "      <td>R100-湖南金之津供应链</td>\n",
       "      <td>SDHNXZJW-金之津总部正常仓</td>\n",
       "      <td>MON</td>\n",
       "      <td>H01</td>\n",
       "      <td>N</td>\n",
       "      <td>CLO</td>\n",
       "      <td>MON</td>\n",
       "      <td>Y</td>\n",
       "      <td>BASE</td>\n",
       "      <td>...</td>\n",
       "      <td>N</td>\n",
       "      <td>N</td>\n",
       "      <td>K01</td>\n",
       "      <td>N</td>\n",
       "      <td>Y</td>\n",
       "      <td>N</td>\n",
       "      <td>N</td>\n",
       "      <td>N</td>\n",
       "      <td>N</td>\n",
       "      <td>N</td>\n",
       "    </tr>\n",
       "    <tr>\n",
       "      <th>...</th>\n",
       "      <td>...</td>\n",
       "      <td>...</td>\n",
       "      <td>...</td>\n",
       "      <td>...</td>\n",
       "      <td>...</td>\n",
       "      <td>...</td>\n",
       "      <td>...</td>\n",
       "      <td>...</td>\n",
       "      <td>...</td>\n",
       "      <td>...</td>\n",
       "      <td>...</td>\n",
       "      <td>...</td>\n",
       "      <td>...</td>\n",
       "      <td>...</td>\n",
       "      <td>...</td>\n",
       "      <td>...</td>\n",
       "      <td>...</td>\n",
       "      <td>...</td>\n",
       "      <td>...</td>\n",
       "      <td>...</td>\n",
       "      <td>...</td>\n",
       "    </tr>\n",
       "    <tr>\n",
       "      <th>10676</th>\n",
       "      <td>011501HY-武汉鸿雁</td>\n",
       "      <td>M100-武汉鸿雁供应链</td>\n",
       "      <td>SDWHHYWLK-武汉鸿雁武冷库</td>\n",
       "      <td>MON</td>\n",
       "      <td>H01</td>\n",
       "      <td>N</td>\n",
       "      <td>CLO</td>\n",
       "      <td>MON</td>\n",
       "      <td>Y</td>\n",
       "      <td>BASE</td>\n",
       "      <td>...</td>\n",
       "      <td>N</td>\n",
       "      <td>N</td>\n",
       "      <td>K01</td>\n",
       "      <td>N</td>\n",
       "      <td>Y</td>\n",
       "      <td>N</td>\n",
       "      <td>N</td>\n",
       "      <td>N</td>\n",
       "      <td>N</td>\n",
       "      <td>N</td>\n",
       "    </tr>\n",
       "    <tr>\n",
       "      <th>10677</th>\n",
       "      <td>011501RZ-湖北瑞泽</td>\n",
       "      <td>SY00-湖北瑞泽</td>\n",
       "      <td>SDHBWHRZYYGGC-瑞泽医药仓</td>\n",
       "      <td>MON</td>\n",
       "      <td>W01</td>\n",
       "      <td>N</td>\n",
       "      <td>CLO</td>\n",
       "      <td>MON</td>\n",
       "      <td>Y</td>\n",
       "      <td>BASE</td>\n",
       "      <td>...</td>\n",
       "      <td>Y</td>\n",
       "      <td>N</td>\n",
       "      <td>K01</td>\n",
       "      <td>N</td>\n",
       "      <td>Y</td>\n",
       "      <td>N</td>\n",
       "      <td>N</td>\n",
       "      <td>N</td>\n",
       "      <td>N</td>\n",
       "      <td>N</td>\n",
       "    </tr>\n",
       "    <tr>\n",
       "      <th>10678</th>\n",
       "      <td>011501RZ-湖北瑞泽</td>\n",
       "      <td>SY00-湖北瑞泽</td>\n",
       "      <td>SDHBWHRZYYGGC-瑞泽医药仓</td>\n",
       "      <td>MON</td>\n",
       "      <td>W01</td>\n",
       "      <td>N</td>\n",
       "      <td>CLO</td>\n",
       "      <td>MON</td>\n",
       "      <td>Y</td>\n",
       "      <td>BASE</td>\n",
       "      <td>...</td>\n",
       "      <td>Y</td>\n",
       "      <td>N</td>\n",
       "      <td>K01</td>\n",
       "      <td>N</td>\n",
       "      <td>Y</td>\n",
       "      <td>N</td>\n",
       "      <td>N</td>\n",
       "      <td>N</td>\n",
       "      <td>N</td>\n",
       "      <td>N</td>\n",
       "    </tr>\n",
       "    <tr>\n",
       "      <th>10679</th>\n",
       "      <td>011501RZ-湖北瑞泽</td>\n",
       "      <td>SY00-湖北瑞泽</td>\n",
       "      <td>SDHBWHRZYYGGC-瑞泽医药仓</td>\n",
       "      <td>MON</td>\n",
       "      <td>W01</td>\n",
       "      <td>N</td>\n",
       "      <td>CLO</td>\n",
       "      <td>MON</td>\n",
       "      <td>Y</td>\n",
       "      <td>BASE</td>\n",
       "      <td>...</td>\n",
       "      <td>Y</td>\n",
       "      <td>N</td>\n",
       "      <td>K01</td>\n",
       "      <td>N</td>\n",
       "      <td>Y</td>\n",
       "      <td>N</td>\n",
       "      <td>N</td>\n",
       "      <td>N</td>\n",
       "      <td>N</td>\n",
       "      <td>N</td>\n",
       "    </tr>\n",
       "    <tr>\n",
       "      <th>10680</th>\n",
       "      <td>011501HY-武汉鸿雁</td>\n",
       "      <td>M100-武汉鸿雁供应链</td>\n",
       "      <td>SDWHHYWLK-武汉鸿雁武冷库</td>\n",
       "      <td>TZZ</td>\n",
       "      <td>K01</td>\n",
       "      <td>N</td>\n",
       "      <td>CLO</td>\n",
       "      <td>TZZ</td>\n",
       "      <td>Y</td>\n",
       "      <td>BASE</td>\n",
       "      <td>...</td>\n",
       "      <td>N</td>\n",
       "      <td>N</td>\n",
       "      <td>K01</td>\n",
       "      <td>N</td>\n",
       "      <td>Y</td>\n",
       "      <td>N</td>\n",
       "      <td>N</td>\n",
       "      <td>N</td>\n",
       "      <td>N</td>\n",
       "      <td>N</td>\n",
       "    </tr>\n",
       "  </tbody>\n",
       "</table>\n",
       "<p>24042 rows × 47 columns</p>\n",
       "</div>"
      ]
     },
     "execution_count": 39,
     "metadata": {},
     "output_type": "execute_result"
    }
   ],
   "execution_count": 39
  },
  {
   "metadata": {},
   "cell_type": "code",
   "outputs": [],
   "execution_count": null,
   "source": [
    "data_time[['商务签收时间','物流签收时间'] ] = data_time[['商务签收时间','物流签收时间']].ffill(axis=1)\n",
    "data_time.drop('商务签收时间',axis=1,inplace=True)"
   ],
   "id": "f1ebe0b7ba6899ed"
  },
  {
   "metadata": {
    "ExecuteTime": {
     "end_time": "2024-10-25T01:08:39.436252Z",
     "start_time": "2024-10-25T01:08:38.959309Z"
    }
   },
   "cell_type": "code",
   "source": "import matplotx",
   "id": "796266067a808d04",
   "outputs": [],
   "execution_count": 1
  },
  {
   "metadata": {
    "ExecuteTime": {
     "end_time": "2024-10-25T02:15:30.090252Z",
     "start_time": "2024-10-25T02:15:30.087252Z"
    }
   },
   "cell_type": "code",
   "source": "import seaborn as sns",
   "id": "4dfb9adf04726cc3",
   "outputs": [],
   "execution_count": 21
  },
  {
   "metadata": {
    "ExecuteTime": {
     "end_time": "2024-10-25T02:28:56.770429Z",
     "start_time": "2024-10-25T02:28:56.296741Z"
    }
   },
   "cell_type": "code",
   "source": [
    "plt.figure(figsize=(20,20),dpi=20)\n",
    "plt.rcParams['font.sans-serif'] = ['STsong']\n",
    "sns.heatmap(data_num.iloc[:,:-1].corr().map(lambda x:round(x,2)),\n",
    "            center=0,square=True,annot=True,vmax=1,vmin=1,\n",
    "            cmap='bwr',cbar_kws={'shrink': 0.8},edgecolor='blue',\n",
    "            linewidths=.3,linecolor='blue'\n",
    "            )\n",
    "plt.xticks(rotation=40)\n",
    "plt.yticks(rotation=5)\n",
    "plt.savefig('./相关性.png')"
   ],
   "id": "ba863dc514482bbb",
   "outputs": [
    {
     "data": {
      "text/plain": [
       "<Figure size 400x400 with 2 Axes>"
      ],
      "image/png": "[encoded data removed]"
     },
     "metadata": {},
     "output_type": "display_data"
    }
   ],
   "execution_count": 24
  },
  {
   "metadata": {
    "ExecuteTime": {
     "end_time": "2024-10-25T02:37:50.875030Z",
     "start_time": "2024-10-25T02:37:50.854719Z"
    }
   },
   "cell_type": "code",
   "source": [
    "data_cat_s = data_cat[data_cat['province'] =='湖南']\n",
    "data_cat_n  = data_cat[data_cat['province'] == '湖北']"
   ],
   "id": "9f6dbdfceff5ea46",
   "outputs": [],
   "execution_count": 25
  },
  {
   "metadata": {
    "ExecuteTime": {
     "end_time": "2024-10-25T03:12:51.763824Z",
     "start_time": "2024-10-25T03:12:51.741552Z"
    }
   },
   "cell_type": "code",
   "source": "",
   "id": "89b2833fde3539f3",
   "outputs": [
    {
     "ename": "ModuleNotFoundError",
     "evalue": "No module named 'dataprep'",
     "output_type": "error",
     "traceback": [
      "\u001B[1;31m---------------------------------------------------------------------------\u001B[0m",
      "\u001B[1;31mModuleNotFoundError\u001B[0m                       Traceback (most recent call last)",
      "Cell \u001B[1;32mIn[29], line 1\u001B[0m\n\u001B[1;32m----> 1\u001B[0m \u001B[38;5;28;01mfrom\u001B[39;00m \u001B[38;5;21;01mdataprep\u001B[39;00m \u001B[38;5;28;01mimport\u001B[39;00m \u001B[38;5;241m*\u001B[39m\n",
      "\u001B[1;31mModuleNotFoundError\u001B[0m: No module named 'dataprep'"
     ]
    }
   ],
   "execution_count": 29
  },
  {
   "metadata": {},
   "cell_type": "code",
   "outputs": [],
   "execution_count": null,
   "source": "",
   "id": "25db8ab272c9d531"
  }
 ],
 "metadata": {
  "kernelspec": {
   "display_name": "Python 3",
   "language": "python",
   "name": "python3"
  },
  "language_info": {
   "codemirror_mode": {
    "name": "ipython",
    "version": 2
   },
   "file_extension": ".py",
   "mimetype": "text/x-python",
   "name": "python",
   "nbconvert_exporter": "python",
   "pygments_lexer": "ipython2",
   "version": "2.7.6"
  }
 },
 "nbformat": 4,
 "nbformat_minor": 5
}
