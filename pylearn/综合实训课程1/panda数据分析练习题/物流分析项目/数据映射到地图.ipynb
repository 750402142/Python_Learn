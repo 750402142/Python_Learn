{
 "cells": [
  {
   "cell_type": "code",
   "id": "initial_id",
   "metadata": {
    "collapsed": true,
    "ExecuteTime": {
     "end_time": "2024-10-26T07:49:43.357901Z",
     "start_time": "2024-10-26T07:49:43.353916Z"
    }
   },
   "source": [
    "\n",
    "import pandas as pd\n",
    "import numpy as np\n",
    "import sys\n",
    "\n",
    "from numpy.ma.extras import average\n",
    "from python310.Lib.test.test_audioop import datas\n",
    "\n",
    "print('Python version:', sys.version)\n",
    "print('Pandas version:', pd.__version__)\n",
    "print('Numpy version:', np.__version__)"
   ],
   "outputs": [
    {
     "name": "stdout",
     "output_type": "stream",
     "text": [
      "Python version: 3.12.6 (tags/v3.12.6:a4a2d2b, Sep  6 2024, 20:11:23) [MSC v.1940 64 bit (AMD64)]\n",
      "Pandas version: 2.2.3\n",
      "Numpy version: 2.1.2\n"
     ]
    }
   ],
   "execution_count": 12
  },
  {
   "metadata": {
    "ExecuteTime": {
     "end_time": "2024-10-26T08:14:35.352899Z",
     "start_time": "2024-10-26T08:14:35.220874Z"
    }
   },
   "cell_type": "code",
   "source": "data = pd.read_csv('./data/湖南湖北.xlsx')",
   "id": "78b4071d4e1f1640",
   "outputs": [],
   "execution_count": 48
  },
  {
   "metadata": {
    "ExecuteTime": {
     "end_time": "2024-10-26T07:55:13.936518Z",
     "start_time": "2024-10-26T07:55:13.908382Z"
    }
   },
   "cell_type": "code",
   "source": "data.info()",
   "id": "eb8ff1a3812ea689",
   "outputs": [
    {
     "name": "stdout",
     "output_type": "stream",
     "text": [
      "<class 'pandas.core.frame.DataFrame'>\n",
      "RangeIndex: 21317 entries, 0 to 21316\n",
      "Data columns (total 84 columns):\n",
      " #   Column              Non-Null Count  Dtype  \n",
      "---  ------              --------------  -----  \n",
      " 0   发货时间                21317 non-null  object \n",
      " 1   发货明细数量              21317 non-null  int64  \n",
      " 2   打印次数                21317 non-null  int64  \n",
      " 3   回款金额                21317 non-null  float64\n",
      " 4   发货小包装数量             21317 non-null  int64  \n",
      " 5   拒收总数量               21317 non-null  int64  \n",
      " 6   发货金额                21317 non-null  float64\n",
      " 7   拣货小包装数量             21317 non-null  int64  \n",
      " 8   发货净重                21317 non-null  float64\n",
      " 9   发货毛重                21317 non-null  float64\n",
      " 10  发货体积                21317 non-null  float64\n",
      " 11  成本金额                21317 non-null  float64\n",
      " 12  发货大包装数量             21317 non-null  float64\n",
      " 13  发货成本金额              21317 non-null  float64\n",
      " 14  调整单对应的原单            21317 non-null  int64  \n",
      " 15  实际成本金额              21317 non-null  float64\n",
      " 16  凭证附件个数              21317 non-null  int64  \n",
      " 17  水单金额                21317 non-null  float64\n",
      " 18  帐扣金额                21317 non-null  float64\n",
      " 19  托盘                  21317 non-null  int64  \n",
      " 20  打印次数1               21317 non-null  int64  \n",
      " 21  打印次数2               21317 non-null  int64  \n",
      " 22  代垫费用应收金额            21317 non-null  float64\n",
      " 23  专柜销售金额              21317 non-null  int64  \n",
      " 24  是否自动开票              21317 non-null  int64  \n",
      " 25  WMS系统实际拣货数量         21317 non-null  int64  \n",
      " 26  发货单WMS系统锁定库存优先级     21317 non-null  int64  \n",
      " 27  签收金额                21317 non-null  float64\n",
      " 28  折扣金额                21317 non-null  float64\n",
      " 29  工程押差金额              21317 non-null  int64  \n",
      " 30  票折金额                21317 non-null  int64  \n",
      " 31  平台                  21317 non-null  object \n",
      " 32  经营单位                21317 non-null  object \n",
      " 33  仓库                  21317 non-null  object \n",
      " 34  结算方式                21317 non-null  object \n",
      " 35  运输方式                21317 non-null  object \n",
      " 36  是否打印                21317 non-null  object \n",
      " 37  发货状态                21317 non-null  object \n",
      " 38  物流录入的结算方法           21317 non-null  object \n",
      " 39  是否拒收入库完成            21317 non-null  object \n",
      " 40  发货单类型2              21317 non-null  object \n",
      " 41  是否回单已回              21317 non-null  object \n",
      " 42  出库是否同步到营销通表         21317 non-null  object \n",
      " 43  是否异常取消              21317 non-null  object \n",
      " 44  是否快递单打印             21317 non-null  object \n",
      " 45  发货类型                21317 non-null  object \n",
      " 46  是否直销单               21317 non-null  object \n",
      " 47  是否是多客户出货            21317 non-null  object \n",
      " 48  是否退改赠               21317 non-null  object \n",
      " 49  是否手机下的订单            21317 non-null  object \n",
      " 50  是否代垫发货              21317 non-null  object \n",
      " 51  是否拣货                21317 non-null  object \n",
      " 52  是否送货                21317 non-null  object \n",
      " 53  是否生成合同              21317 non-null  object \n",
      " 54  是否整单返利提货            21317 non-null  object \n",
      " 55  发货单据来源              21317 non-null  object \n",
      " 56  是否贴标                21317 non-null  object \n",
      " 57  单据来源互联互通            21317 non-null  object \n",
      " 58  是否为特单               21317 non-null  object \n",
      " 59  是否控货                21317 non-null  object \n",
      " 60  是否为下游返利             21317 non-null  object \n",
      " 61  是否进行发货验收            21317 non-null  object \n",
      " 62  是否预留                21317 non-null  object \n",
      " 63  是否安装服务              21317 non-null  object \n",
      " 64  WMS系统发货单状态          21317 non-null  object \n",
      " 65  需要物流流程              21317 non-null  object \n",
      " 66  是否为家电POS现金现货自提自动完成  21317 non-null  object \n",
      " 67  是否为电子发票             21317 non-null  object \n",
      " 68  是否医疗分销              21317 non-null  object \n",
      " 69  是否收款                21317 non-null  object \n",
      " 70  飞单发货的收货提货方式         21317 non-null  object \n",
      " 71  票折费用                21317 non-null  object \n",
      " 72  是否加价                21317 non-null  object \n",
      " 73  是否客户区域金额统计打印        21317 non-null  object \n",
      " 74  是否门店仓飞单             21317 non-null  object \n",
      " 75  是否采购退转采购入           21317 non-null  object \n",
      " 76  是否同步单据到售后           21317 non-null  object \n",
      " 77  快递运输是否报价            21317 non-null  object \n",
      " 78  province            21317 non-null  object \n",
      " 79  送货时间                21317 non-null  object \n",
      " 80  物流签收时间              21296 non-null  object \n",
      " 81  放货时间                21313 non-null  object \n",
      " 82  创建时间                21317 non-null  object \n",
      " 83  提交时间                21313 non-null  object \n",
      "dtypes: float64(14), int64(16), object(54)\n",
      "memory usage: 13.7+ MB\n"
     ]
    }
   ],
   "execution_count": 21
  },
  {
   "metadata": {
    "ExecuteTime": {
     "end_time": "2024-10-26T08:14:39.024888Z",
     "start_time": "2024-10-26T08:14:39.019866Z"
    }
   },
   "cell_type": "code",
   "source": "data['province'] = data['province'].transform(lambda x:x+'省')",
   "id": "6e204d78ce81b14",
   "outputs": [],
   "execution_count": 49
  },
  {
   "metadata": {
    "ExecuteTime": {
     "end_time": "2024-10-26T08:14:52.093883Z",
     "start_time": "2024-10-26T08:14:52.089128Z"
    }
   },
   "cell_type": "code",
   "source": "data['province']",
   "id": "62a8c4f1f87feb82",
   "outputs": [
    {
     "data": {
      "text/plain": [
       "0        湖南省\n",
       "1        湖南省\n",
       "2        湖南省\n",
       "3        湖南省\n",
       "4        湖南省\n",
       "        ... \n",
       "21312    湖北省\n",
       "21313    湖北省\n",
       "21314    湖北省\n",
       "21315    湖北省\n",
       "21316    湖北省\n",
       "Name: province, Length: 21317, dtype: object"
      ]
     },
     "execution_count": 50,
     "metadata": {},
     "output_type": "execute_result"
    }
   ],
   "execution_count": 50
  },
  {
   "metadata": {
    "ExecuteTime": {
     "end_time": "2024-10-26T08:14:55.764005Z",
     "start_time": "2024-10-26T08:14:55.757115Z"
    }
   },
   "cell_type": "code",
   "source": "data['day'] = pd.to_datetime(data['发货时间']).dt.day",
   "id": "9fb51169df84f19b",
   "outputs": [],
   "execution_count": 51
  },
  {
   "metadata": {
    "ExecuteTime": {
     "end_time": "2024-10-26T07:45:16.721730Z",
     "start_time": "2024-10-26T07:45:16.638311Z"
    }
   },
   "cell_type": "code",
   "source": [
    "#加载地图配置\n",
    "from pyecharts.globals import CurrentConfig  # 加载全局配置\n",
    "CurrentConfig.ONLINE_HOST = \"http://127.0.0.1:8000/assets/\"  # 设定静态资源地址\n",
    "from pyecharts.datasets import register_url  # 部分地图文件注册\n",
    "# 注册本地服务器的地图数据源\n",
    "register_url(\"http://127.0.0.1:8000/\") "
   ],
   "id": "c1bb43c38464bb4a",
   "outputs": [],
   "execution_count": 6
  },
  {
   "metadata": {
    "ExecuteTime": {
     "end_time": "2024-10-26T07:45:50.669970Z",
     "start_time": "2024-10-26T07:45:50.652760Z"
    }
   },
   "cell_type": "code",
   "source": [
    "import json\n",
    "import os\n",
    "from pyecharts import options as opts\n",
    "filenames = os.listdir('./data/maps/')\n",
    "hbhn = {'type': 'FeatureCollection','features':[]}\n",
    "for i in filenames:\n",
    "    with open(f\"./data/maps/{i}\",'r',encoding='utf-8') as f:\n",
    "        data = json.loads(f.read())\n",
    "        hbhn['features'].append(data)\n",
    "target_data = \"\"\"{\n",
    "        \"type\": \"FeatureCollection\",\n",
    "        \"features\": []}\"\"\"\n",
    "target_data = json.loads(target_data)\n",
    "list_region = os.listdir('./data/maps/')\n",
    "name_list = []\n",
    "for lr in list_region:\n",
    "    with open(f\"./data/maps/{lr}\", 'r', encoding='utf-8') as f:\n",
    "        temp = json.load(f)\n",
    "        temp = temp['features']\n",
    "        for tp in temp:\n",
    "            name = tp['properties']['name']\n",
    "            # 将area加入tp节点并传入target_data\n",
    "            tp['properties']['area'] = '湖北湖南'\n",
    "            target_data['features'].append(tp)\n",
    "            name_list.append((name, np.random.randint(100, 5000)))\n",
    "from pyecharts.charts import Map, Timeline\n",
    "\n",
    "maps = Map(init_opts=opts.InitOpts(theme='light',\n",
    "                                      width='1000px',\n",
    "                                      height='600px'))\n",
    "maps.add_js_funcs(f\"echarts.registerMap('湖北湖南', {target_data});\")\n",
    "# 引用添加的地图\n",
    "maps.add(\"山河四省\",[('湖北湖南',100)],maptype='湖北湖南')\n",
    "maps.render()"
   ],
   "id": "54237d8532b2de72",
   "outputs": [
    {
     "data": {
      "text/plain": [
       "'C:\\\\Users\\\\wang\\\\Desktop\\\\pyLearn\\\\综合实训课程1\\\\物流分析项目\\\\render.html'"
      ]
     },
     "execution_count": 8,
     "metadata": {},
     "output_type": "execute_result"
    }
   ],
   "execution_count": 8
  },
  {
   "metadata": {
    "ExecuteTime": {
     "end_time": "2024-10-26T08:14:59.715160Z",
     "start_time": "2024-10-26T08:14:59.709449Z"
    }
   },
   "cell_type": "code",
   "source": [
    "# 随着时间变化,每天物流订单\n",
    "dp = data.groupby(['province','day']).size().reset_index()"
   ],
   "id": "3183b1ade8f10e7a",
   "outputs": [],
   "execution_count": 52
  },
  {
   "metadata": {
    "ExecuteTime": {
     "end_time": "2024-10-26T08:15:00.928924Z",
     "start_time": "2024-10-26T08:15:00.915841Z"
    }
   },
   "cell_type": "code",
   "source": [
    "dicts = {}\n",
    "for i in range(1,32):\n",
    "    dicts[f'第{i}天'] = dp[dp['day'] == i][['province', 0]].values.tolist()"
   ],
   "id": "afa90e7f6f9272a1",
   "outputs": [],
   "execution_count": 53
  },
  {
   "metadata": {
    "ExecuteTime": {
     "end_time": "2024-10-26T08:15:01.736684Z",
     "start_time": "2024-10-26T08:15:01.732684Z"
    }
   },
   "cell_type": "code",
   "source": "dp[dp['day'] == 1][['province',0]].values.tolist()",
   "id": "61c5071f895958dd",
   "outputs": [
    {
     "data": {
      "text/plain": [
       "[['湖北省', 36], ['湖南省', 123]]"
      ]
     },
     "execution_count": 54,
     "metadata": {},
     "output_type": "execute_result"
    }
   ],
   "execution_count": 54
  },
  {
   "metadata": {
    "ExecuteTime": {
     "end_time": "2024-10-26T08:26:41.438703Z",
     "start_time": "2024-10-26T08:26:41.434324Z"
    }
   },
   "cell_type": "code",
   "source": "dicts",
   "id": "73aaf72b1bfbb505",
   "outputs": [
    {
     "data": {
      "text/plain": [
       "{'第1天': [['湖北省', 36], ['湖南省', 123]],\n",
       " '第2天': [['湖北省', 604], ['湖南省', 807]],\n",
       " '第3天': [['湖北省', 478], ['湖南省', 546]],\n",
       " '第4天': [['湖北省', 543], ['湖南省', 546]],\n",
       " '第5天': [['湖北省', 79], ['湖南省', 290]],\n",
       " '第6天': [['湖北省', 861], ['湖南省', 710]],\n",
       " '第7天': [['湖北省', 499], ['湖南省', 1110]],\n",
       " '第8天': [['湖北省', 656], ['湖南省', 685]],\n",
       " '第9天': [['湖北省', 519], ['湖南省', 566]],\n",
       " '第10天': [['湖北省', 518], ['湖南省', 488]],\n",
       " '第11天': [['湖北省', 325], ['湖南省', 319]],\n",
       " '第12天': [['湖北省', 63], ['湖南省', 396]],\n",
       " '第13天': [['湖北省', 904], ['湖南省', 689]],\n",
       " '第14天': [['湖北省', 747], ['湖南省', 747]],\n",
       " '第15天': [['湖北省', 541], ['湖南省', 658]],\n",
       " '第16天': [['湖北省', 680], ['湖南省', 627]],\n",
       " '第17天': [['湖北省', 502], ['湖南省', 388]],\n",
       " '第18天': [['湖北省', 274], ['湖南省', 311]],\n",
       " '第19天': [['湖北省', 345], ['湖南省', 495]],\n",
       " '第20天': [['湖北省', 257], ['湖南省', 520]],\n",
       " '第21天': [['湖北省', 199], ['湖南省', 228]],\n",
       " '第22天': [['湖北省', 80], ['湖南省', 207]],\n",
       " '第23天': [['湖北省', 2], ['湖南省', 59]],\n",
       " '第24天': [['湖南省', 13]],\n",
       " '第25天': [['湖北省', 1], ['湖南省', 18]],\n",
       " '第26天': [['湖南省', 6]],\n",
       " '第27天': [['湖北省', 1], ['湖南省', 7]],\n",
       " '第28天': [['湖北省', 11], ['湖南省', 6]],\n",
       " '第29天': [['湖南省', 2]],\n",
       " '第30天': [['湖北省', 16], ['湖南省', 7]],\n",
       " '第31天': [['湖北省', 1], ['湖南省', 1]]}"
      ]
     },
     "execution_count": 64,
     "metadata": {},
     "output_type": "execute_result"
    }
   ],
   "execution_count": 64
  },
  {
   "metadata": {
    "ExecuteTime": {
     "end_time": "2024-10-26T08:25:41.926415Z",
     "start_time": "2024-10-26T08:25:41.841505Z"
    }
   },
   "cell_type": "code",
   "source": [
    "from pyecharts.charts import Map,Timeline\n",
    "timeline = Timeline()\n",
    "for i in range(1,32):\n",
    "    maps = Map(init_opts=opts.InitOpts(theme='light',\n",
    "                                      width='1000px',\n",
    "                                      height='600px'))\n",
    "    maps.add_js_funcs(f\"echarts.registerMap('湖北湖南', {target_data});\")\n",
    "    # 引用添加的地图\n",
    "    maps.add('订单数量',data_pair=dicts[f'第{i}天'],maptype='湖北湖南')\n",
    "    maps.set_global_opts(visualmap_opts=opts.VisualMapOpts(max_=800,min_=1))\n",
    "    timeline.add(maps,f'第{i}天')\n",
    "timeline.render()"
   ],
   "id": "e210b547f14777b",
   "outputs": [
    {
     "data": {
      "text/plain": [
       "'C:\\\\Users\\\\wang\\\\Desktop\\\\pyLearn\\\\综合实训课程1\\\\物流分析项目\\\\render.html'"
      ]
     },
     "execution_count": 63,
     "metadata": {},
     "output_type": "execute_result"
    }
   ],
   "execution_count": 63
  },
  {
   "metadata": {
    "ExecuteTime": {
     "end_time": "2024-10-26T08:28:25.625396Z",
     "start_time": "2024-10-26T08:28:25.537869Z"
    }
   },
   "cell_type": "code",
   "source": [
    "from pyecharts.charts import Timeline\n",
    "t1 = Timeline()\n",
    "for i in range(1,32):\n",
    "    maps = Map(init_opts=opts.InitOpts(theme='light',\n",
    "                                      width='1000px',\n",
    "                                      height='600px'))\n",
    "    maps.add_js_funcs(f\"echarts.registerMap('湖北湖南', {target_data});\")\n",
    "    # 引用添加的地图\n",
    "    maps.add(\"订单数量\",dicts[f'第{i}天'],maptype='湖北湖南')\n",
    "    maps.set_global_opts(visualmap_opts=opts.VisualMapOpts(max_=800,min_=1))\n",
    "    t1.add(maps,f'第{i}天')\n",
    "t1.add_schema(play_interval=300)\n",
    "t1.render()"
   ],
   "id": "bf8d2480ddb3213f",
   "outputs": [
    {
     "data": {
      "text/plain": [
       "'C:\\\\Users\\\\wang\\\\Desktop\\\\pyLearn\\\\综合实训课程1\\\\物流分析项目\\\\render.html'"
      ]
     },
     "execution_count": 66,
     "metadata": {},
     "output_type": "execute_result"
    }
   ],
   "execution_count": 66
  }
 ],
 "metadata": {
  "kernelspec": {
   "display_name": "Python 3",
   "language": "python",
   "name": "python3"
  },
  "language_info": {
   "codemirror_mode": {
    "name": "ipython",
    "version": 2
   },
   "file_extension": ".py",
   "mimetype": "text/x-python",
   "name": "python",
   "nbconvert_exporter": "python",
   "pygments_lexer": "ipython2",
   "version": "2.7.6"
  }
 },
 "nbformat": 4,
 "nbformat_minor": 5
}
