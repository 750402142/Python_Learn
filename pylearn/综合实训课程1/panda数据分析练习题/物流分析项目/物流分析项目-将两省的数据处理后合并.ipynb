{
 "cells": [
  {
   "cell_type": "code",
   "id": "initial_id",
   "metadata": {
    "ExecuteTime": {
     "end_time": "2024-10-26T05:38:54.665569Z",
     "start_time": "2024-10-26T05:38:54.245963Z"
    }
   },
   "source": [
    "\n",
    "import pandas as pd\n",
    "import numpy as np\n",
    "import sys\n",
    "\n",
    "from numpy.ma.extras import average\n",
    "from python310.Lib.test.test_audioop import datas\n",
    "\n",
    "print('Python version:', sys.version)\n",
    "print('Pandas version:', pd.__version__)\n",
    "print('Numpy version:', np.__version__)"
   ],
   "outputs": [
    {
     "name": "stdout",
     "output_type": "stream",
     "text": [
      "Python version: 3.12.6 (tags/v3.12.6:a4a2d2b, Sep  6 2024, 20:11:23) [MSC v.1940 64 bit (AMD64)]\n",
      "Pandas version: 2.2.3\n",
      "Numpy version: 2.1.2\n"
     ]
    }
   ],
   "execution_count": 1
  },
  {
   "cell_type": "code",
   "id": "24c4e966a1415337",
   "metadata": {
    "ExecuteTime": {
     "end_time": "2024-10-26T07:47:43.653689Z",
     "start_time": "2024-10-26T07:47:40.960640Z"
    }
   },
   "source": [
    "data_s = pd.read_excel('./data/湖南.xls',index_col=0)"
   ],
   "outputs": [],
   "execution_count": 60
  },
  {
   "cell_type": "code",
   "id": "82fafee9-5ae7-4758-a256-095f3bb8d896",
   "metadata": {
    "ExecuteTime": {
     "end_time": "2024-10-26T05:39:05.313291Z",
     "start_time": "2024-10-26T05:39:05.310067Z"
    }
   },
   "source": [
    "import sys\n",
    "print(sys.executable)"
   ],
   "outputs": [
    {
     "name": "stdout",
     "output_type": "stream",
     "text": [
      "D:\\Develop\\python\\python.exe\n"
     ]
    }
   ],
   "execution_count": 3
  },
  {
   "cell_type": "code",
   "id": "46c9409c49c3cc89",
   "metadata": {
    "ExecuteTime": {
     "end_time": "2024-10-26T07:47:46.194489Z",
     "start_time": "2024-10-26T07:47:44.258544Z"
    }
   },
   "source": [
    "data_n = pd.read_excel('./data/湖北.xls')"
   ],
   "outputs": [],
   "execution_count": 61
  },
  {
   "cell_type": "code",
   "execution_count": 5,
   "id": "6cc69158ef8bab2e",
   "metadata": {
    "ExecuteTime": {
     "end_time": "2024-10-26T02:31:37.821068Z",
     "start_time": "2024-10-26T02:31:37.689026Z"
    }
   },
   "outputs": [
    {
     "data": {
      "text/plain": [
       "False    13361\n",
       "Name: count, dtype: int64"
      ]
     },
     "execution_count": 5,
     "metadata": {},
     "output_type": "execute_result"
    }
   ],
   "source": [
    "# 判断有无重复行\n",
    "data_n.duplicated().value_counts()\n",
    "data_s.duplicated().value_counts()"
   ]
  },
  {
   "cell_type": "code",
   "id": "29f281a07247ffa1",
   "metadata": {
    "ExecuteTime": {
     "end_time": "2024-10-26T07:47:48.947528Z",
     "start_time": "2024-10-26T07:47:48.915392Z"
    }
   },
   "source": [
    "# 缺失值检测,如果某个字段的缺失值数量超过一千,则删除该字段\n",
    "miss_count = data_s.isna().sum()\n",
    "data_s = data_s.loc[:,miss_count<=1000]"
   ],
   "outputs": [],
   "execution_count": 62
  },
  {
   "cell_type": "code",
   "execution_count": null,
   "id": "92fc7946a0fafcd3",
   "metadata": {},
   "outputs": [],
   "source": [
    "# 另外一种处理缺失值的方法\n",
    "# thresh：设置一个整数阈值，指定非缺失值的最小数量。如果一行或一列中的非缺失值数量小于这个阈值，就会被删除。\n",
    "data_s.dropna(axis=0,thresh = data_s.shape[0] - 1000,inplace=True)"
   ]
  },
  {
   "cell_type": "code",
   "id": "7d85388d3b7dbff1",
   "metadata": {
    "ExecuteTime": {
     "end_time": "2024-10-26T07:47:50.941818Z",
     "start_time": "2024-10-26T07:47:50.915699Z"
    }
   },
   "source": [
    "miss_count2 = data_n.isnull().sum()\n",
    "data_n = data_n.loc[:,miss_count2<=1000]"
   ],
   "outputs": [],
   "execution_count": 63
  },
  {
   "metadata": {},
   "cell_type": "code",
   "outputs": [],
   "execution_count": null,
   "source": [
    "# 运用sweetviz快速统计每一列信息\n",
    "import sweetviz as sv\n",
    "import warnings\n",
    "warnings.filterwarnings(\"ignore\", category=DeprecationWarning)\n",
    "report = sv.analyze(data_s)\n",
    "report.show_html('湖南2.html')"
   ],
   "id": "7f20f934d00e227"
  },
  {
   "cell_type": "code",
   "id": "87ada32bfcdb43bc",
   "metadata": {
    "ExecuteTime": {
     "end_time": "2024-10-26T07:47:53.503485Z",
     "start_time": "2024-10-26T07:47:53.499748Z"
    }
   },
   "source": [
    "columns = ['发货流水号','送货客户','地址流水号','应收客户','开票客户','送货人','商务签收人名','物流签收人名',\n",
    "'财务签收时间','财务签收人','放货人','销售业务员','原始单据扫描信息','创建人NO','创建人名称','提交人NO',\n",
    " '提交人名称','核算部门节点NO','成本中心','币种','是否是费用发货'\n",
    "]\n",
    "columns2 =['发货流水号','送货客户','地址流水号','应收客户','开票客户','送货人','商务签收人名','物流签收人名',\n",
    "'财务签收时间','财务签收人','放货人','销售业务员','原始单据扫描信息','创建人NO','创建人名称','提交人NO',\n",
    " '提交人名称','核算部门节点NO','成本中心','币种','打印人', '打印时间'\n",
    "]"
   ],
   "outputs": [],
   "execution_count": 64
  },
  {
   "cell_type": "code",
   "id": "534bd5bf7a5ef665",
   "metadata": {
    "ExecuteTime": {
     "end_time": "2024-10-26T07:47:54.562013Z",
     "start_time": "2024-10-26T07:47:54.548548Z"
    }
   },
   "source": [
    "data_s.drop(columns,axis=1,inplace=True)\n",
    "data_n.drop(columns2,axis=1,inplace=True)"
   ],
   "outputs": [],
   "execution_count": 65
  },
  {
   "cell_type": "code",
   "id": "3b3f2ace83a546f6",
   "metadata": {
    "ExecuteTime": {
     "end_time": "2024-10-26T07:47:58.397196Z",
     "start_time": "2024-10-26T07:47:58.394353Z"
    }
   },
   "source": [
    "data_s['province'] = '湖南'\n",
    "data_n['province'] = '湖北'"
   ],
   "outputs": [],
   "execution_count": 66
  },
  {
   "cell_type": "code",
   "id": "cc549cb3c15c6d27",
   "metadata": {
    "ExecuteTime": {
     "end_time": "2024-10-26T07:48:07.160166Z",
     "start_time": "2024-10-26T07:48:07.146678Z"
    }
   },
   "source": [
    "data = pd.concat([data_s,data_n[data_s.columns]],axis=0)"
   ],
   "outputs": [],
   "execution_count": 67
  },
  {
   "cell_type": "code",
   "id": "e34d30772c562c70",
   "metadata": {
    "ExecuteTime": {
     "end_time": "2024-10-26T07:48:09.447473Z",
     "start_time": "2024-10-26T07:48:09.420712Z"
    }
   },
   "source": [
    "# select_dtypes用于选择某种特定类型的数据\n",
    "data_num = data.select_dtypes(['int','float'])\n",
    "data_cat = data.select_dtypes(['object'])\n",
    "data_time = data.select_dtypes(['datetime'])"
   ],
   "outputs": [],
   "execution_count": 68
  },
  {
   "metadata": {
    "ExecuteTime": {
     "end_time": "2024-10-26T07:48:11.130253Z",
     "start_time": "2024-10-26T07:48:11.100601Z"
    }
   },
   "cell_type": "code",
   "source": [
    "# 数值形数据\n",
    "# 确保数据可以分组\n",
    "data_num['province'] = data['province'].map({\"湖南\":1,'湖北':2})\n",
    "data_num = data_num.groupby(\"province\").transform(lambda x:x.fillna(x.mean()))"
   ],
   "id": "c6142e0b09880754",
   "outputs": [],
   "execution_count": 69
  },
  {
   "metadata": {
    "ExecuteTime": {
     "end_time": "2024-10-26T07:48:16.405582Z",
     "start_time": "2024-10-26T07:48:16.299121Z"
    }
   },
   "cell_type": "code",
   "source": "data_cat = data_cat.groupby('province').transform(lambda x:x.ffill())",
   "id": "18e8b0914abea8f1",
   "outputs": [],
   "execution_count": 70
  },
  {
   "metadata": {
    "ExecuteTime": {
     "end_time": "2024-10-26T07:48:17.361382Z",
     "start_time": "2024-10-26T07:48:17.358377Z"
    }
   },
   "cell_type": "code",
   "source": "data_cat['province'] = data['province']",
   "id": "87b9da84ec1233c5",
   "outputs": [],
   "execution_count": 71
  },
  {
   "metadata": {
    "ExecuteTime": {
     "end_time": "2024-10-26T07:48:19.575969Z",
     "start_time": "2024-10-26T07:48:19.571327Z"
    }
   },
   "cell_type": "code",
   "source": [
    "##时间空数据的处理\n",
    "data_time[['商务签收时间','物流签收时间']] = data_time[['商务签收时间','物流签收时间']].ffill(axis = 1)\n",
    "data_time.drop('商务签收时间',axis=1,inplace=True)"
   ],
   "id": "82e85d433f66e9a6",
   "outputs": [],
   "execution_count": 72
  },
  {
   "metadata": {
    "ExecuteTime": {
     "end_time": "2024-10-26T07:49:31.248067Z",
     "start_time": "2024-10-26T07:49:31.228119Z"
    }
   },
   "cell_type": "code",
   "source": "data = pd.concat([data_num,data_cat,data_time],axis=1)",
   "id": "ab7d0f7752328dd4",
   "outputs": [],
   "execution_count": 80
  },
  {
   "metadata": {
    "ExecuteTime": {
     "end_time": "2024-10-26T07:49:32.072351Z",
     "start_time": "2024-10-26T07:49:32.042333Z"
    }
   },
   "cell_type": "code",
   "source": "data = data.set_index('发货时间').loc['2020-01'].reset_index()",
   "id": "49df8c9ee2039cd7",
   "outputs": [],
   "execution_count": 81
  },
  {
   "cell_type": "code",
   "id": "ad726b14915e7c65",
   "metadata": {
    "ExecuteTime": {
     "end_time": "2024-10-26T07:49:38.979304Z",
     "start_time": "2024-10-26T07:49:38.614820Z"
    }
   },
   "source": "data.to_csv('./data/湖南湖北.xlsx',index=None)",
   "outputs": [],
   "execution_count": 83
  },
  {
   "metadata": {
    "ExecuteTime": {
     "end_time": "2024-10-26T07:49:33.569174Z",
     "start_time": "2024-10-26T07:49:33.554374Z"
    }
   },
   "cell_type": "code",
   "source": "data",
   "id": "bb1d788281e35bbe",
   "outputs": [
    {
     "data": {
      "text/plain": [
       "                     发货时间  发货明细数量  打印次数  回款金额  发货小包装数量  拒收总数量      发货金额  \\\n",
       "0     2020-01-01 00:00:00       0     0   0.0       80      0  30598.00   \n",
       "1     2020-01-01 00:00:00       0     0   0.0       67      0  30067.00   \n",
       "2     2020-01-01 00:00:00       0     0   0.0       75      0  42911.00   \n",
       "3     2020-01-01 00:00:00       0     0   0.0       29      0  13414.00   \n",
       "4     2020-01-02 00:00:00       0     1   0.0        4      0     31.32   \n",
       "...                   ...     ...   ...   ...      ...    ...       ...   \n",
       "21312 2020-01-22 00:00:00       0     2   0.0       30      0   3552.00   \n",
       "21313 2020-01-25 00:00:00       0     1   0.0      242      0    670.00   \n",
       "21314 2020-01-28 00:00:00       0     1   0.0     1060      0  18780.00   \n",
       "21315 2020-01-30 00:00:00       0     2   0.0       40      0    365.00   \n",
       "21316 2020-01-22 13:14:13       0     0   0.0       48      0  13824.00   \n",
       "\n",
       "       拣货小包装数量       发货净重       发货毛重  ...  是否门店仓飞单  是否采购退转采购入  是否同步单据到售后  \\\n",
       "0           80   1.503400   1.800000  ...        N          N          N   \n",
       "1           67   1.094000   1.279800  ...        N          N          N   \n",
       "2           75   1.084800   1.270500  ...        N          N          N   \n",
       "3           29   0.455600   0.542900  ...        N          N          N   \n",
       "4            4   1.000000   1.000000  ...        N          N          N   \n",
       "...        ...        ...        ...  ...      ...        ...        ...   \n",
       "21312       30  92.000000  92.000000  ...        N          N          N   \n",
       "21313      242   0.122000   0.202000  ...        N          N          N   \n",
       "21314     1060   0.245625   0.245625  ...        N          N          N   \n",
       "21315       40   0.033333   0.033333  ...        N          N          N   \n",
       "21316       48  86.240000  86.240000  ...        N          N          N   \n",
       "\n",
       "       快递运输是否报价  province                送货时间              物流签收时间  \\\n",
       "0             N        湖南 2020-01-02 02:37:33 2020-01-02 02:37:37   \n",
       "1             N        湖南 2020-01-02 02:39:23 2020-01-02 02:39:26   \n",
       "2             N        湖南 2020-01-02 02:39:54 2020-01-02 02:39:57   \n",
       "3             N        湖南 2020-01-02 02:40:30 2020-01-02 02:40:32   \n",
       "4             N        湖南 2020-01-02 09:13:33 2020-01-05 08:57:56   \n",
       "...         ...       ...                 ...                 ...   \n",
       "21312         N        湖北 2020-01-23 09:25:18 2020-04-01 13:23:25   \n",
       "21313         N        湖北 2020-01-29 10:25:48 2020-01-29 10:37:39   \n",
       "21314         N        湖北 2020-01-29 10:25:52 2020-01-29 10:37:39   \n",
       "21315         N        湖北 2020-01-30 13:56:05 2020-01-30 14:07:12   \n",
       "21316         N        湖北 2020-01-22 13:14:15 2020-03-21 15:04:35   \n",
       "\n",
       "                     放货时间                创建时间                提交时间  \n",
       "0     2020-01-02 02:37:31 2020-01-02 02:35:01 2020-01-02 02:37:31  \n",
       "1     2020-01-02 02:39:21 2020-01-02 02:35:01 2020-01-02 02:39:21  \n",
       "2     2020-01-02 02:39:53 2020-01-02 02:35:01 2020-01-02 02:39:53  \n",
       "3     2020-01-02 02:40:29 2020-01-02 02:35:02 2020-01-02 02:40:29  \n",
       "4     2020-01-02 09:12:18 2020-01-02 09:10:49 2020-01-02 09:11:13  \n",
       "...                   ...                 ...                 ...  \n",
       "21312 2020-01-22 13:20:40 2020-01-22 13:06:14 2020-01-22 13:08:39  \n",
       "21313 2020-01-28 16:59:00 2020-01-25 10:55:18 2020-01-28 15:28:04  \n",
       "21314 2020-01-28 16:59:13 2020-01-28 13:42:47 2020-01-28 15:23:21  \n",
       "21315 2020-01-30 11:13:11 2020-01-30 11:08:46 2020-01-30 11:13:11  \n",
       "21316 2020-01-22 13:14:15 2020-01-22 13:14:14 2020-01-22 13:14:15  \n",
       "\n",
       "[21317 rows x 84 columns]"
      ],
      "text/html": [
       "<div>\n",
       "<style scoped>\n",
       "    .dataframe tbody tr th:only-of-type {\n",
       "        vertical-align: middle;\n",
       "    }\n",
       "\n",
       "    .dataframe tbody tr th {\n",
       "        vertical-align: top;\n",
       "    }\n",
       "\n",
       "    .dataframe thead th {\n",
       "        text-align: right;\n",
       "    }\n",
       "</style>\n",
       "<table border=\"1\" class=\"dataframe\">\n",
       "  <thead>\n",
       "    <tr style=\"text-align: right;\">\n",
       "      <th></th>\n",
       "      <th>发货时间</th>\n",
       "      <th>发货明细数量</th>\n",
       "      <th>打印次数</th>\n",
       "      <th>回款金额</th>\n",
       "      <th>发货小包装数量</th>\n",
       "      <th>拒收总数量</th>\n",
       "      <th>发货金额</th>\n",
       "      <th>拣货小包装数量</th>\n",
       "      <th>发货净重</th>\n",
       "      <th>发货毛重</th>\n",
       "      <th>...</th>\n",
       "      <th>是否门店仓飞单</th>\n",
       "      <th>是否采购退转采购入</th>\n",
       "      <th>是否同步单据到售后</th>\n",
       "      <th>快递运输是否报价</th>\n",
       "      <th>province</th>\n",
       "      <th>送货时间</th>\n",
       "      <th>物流签收时间</th>\n",
       "      <th>放货时间</th>\n",
       "      <th>创建时间</th>\n",
       "      <th>提交时间</th>\n",
       "    </tr>\n",
       "  </thead>\n",
       "  <tbody>\n",
       "    <tr>\n",
       "      <th>0</th>\n",
       "      <td>2020-01-01 00:00:00</td>\n",
       "      <td>0</td>\n",
       "      <td>0</td>\n",
       "      <td>0.0</td>\n",
       "      <td>80</td>\n",
       "      <td>0</td>\n",
       "      <td>30598.00</td>\n",
       "      <td>80</td>\n",
       "      <td>1.503400</td>\n",
       "      <td>1.800000</td>\n",
       "      <td>...</td>\n",
       "      <td>N</td>\n",
       "      <td>N</td>\n",
       "      <td>N</td>\n",
       "      <td>N</td>\n",
       "      <td>湖南</td>\n",
       "      <td>2020-01-02 02:37:33</td>\n",
       "      <td>2020-01-02 02:37:37</td>\n",
       "      <td>2020-01-02 02:37:31</td>\n",
       "      <td>2020-01-02 02:35:01</td>\n",
       "      <td>2020-01-02 02:37:31</td>\n",
       "    </tr>\n",
       "    <tr>\n",
       "      <th>1</th>\n",
       "      <td>2020-01-01 00:00:00</td>\n",
       "      <td>0</td>\n",
       "      <td>0</td>\n",
       "      <td>0.0</td>\n",
       "      <td>67</td>\n",
       "      <td>0</td>\n",
       "      <td>30067.00</td>\n",
       "      <td>67</td>\n",
       "      <td>1.094000</td>\n",
       "      <td>1.279800</td>\n",
       "      <td>...</td>\n",
       "      <td>N</td>\n",
       "      <td>N</td>\n",
       "      <td>N</td>\n",
       "      <td>N</td>\n",
       "      <td>湖南</td>\n",
       "      <td>2020-01-02 02:39:23</td>\n",
       "      <td>2020-01-02 02:39:26</td>\n",
       "      <td>2020-01-02 02:39:21</td>\n",
       "      <td>2020-01-02 02:35:01</td>\n",
       "      <td>2020-01-02 02:39:21</td>\n",
       "    </tr>\n",
       "    <tr>\n",
       "      <th>2</th>\n",
       "      <td>2020-01-01 00:00:00</td>\n",
       "      <td>0</td>\n",
       "      <td>0</td>\n",
       "      <td>0.0</td>\n",
       "      <td>75</td>\n",
       "      <td>0</td>\n",
       "      <td>42911.00</td>\n",
       "      <td>75</td>\n",
       "      <td>1.084800</td>\n",
       "      <td>1.270500</td>\n",
       "      <td>...</td>\n",
       "      <td>N</td>\n",
       "      <td>N</td>\n",
       "      <td>N</td>\n",
       "      <td>N</td>\n",
       "      <td>湖南</td>\n",
       "      <td>2020-01-02 02:39:54</td>\n",
       "      <td>2020-01-02 02:39:57</td>\n",
       "      <td>2020-01-02 02:39:53</td>\n",
       "      <td>2020-01-02 02:35:01</td>\n",
       "      <td>2020-01-02 02:39:53</td>\n",
       "    </tr>\n",
       "    <tr>\n",
       "      <th>3</th>\n",
       "      <td>2020-01-01 00:00:00</td>\n",
       "      <td>0</td>\n",
       "      <td>0</td>\n",
       "      <td>0.0</td>\n",
       "      <td>29</td>\n",
       "      <td>0</td>\n",
       "      <td>13414.00</td>\n",
       "      <td>29</td>\n",
       "      <td>0.455600</td>\n",
       "      <td>0.542900</td>\n",
       "      <td>...</td>\n",
       "      <td>N</td>\n",
       "      <td>N</td>\n",
       "      <td>N</td>\n",
       "      <td>N</td>\n",
       "      <td>湖南</td>\n",
       "      <td>2020-01-02 02:40:30</td>\n",
       "      <td>2020-01-02 02:40:32</td>\n",
       "      <td>2020-01-02 02:40:29</td>\n",
       "      <td>2020-01-02 02:35:02</td>\n",
       "      <td>2020-01-02 02:40:29</td>\n",
       "    </tr>\n",
       "    <tr>\n",
       "      <th>4</th>\n",
       "      <td>2020-01-02 00:00:00</td>\n",
       "      <td>0</td>\n",
       "      <td>1</td>\n",
       "      <td>0.0</td>\n",
       "      <td>4</td>\n",
       "      <td>0</td>\n",
       "      <td>31.32</td>\n",
       "      <td>4</td>\n",
       "      <td>1.000000</td>\n",
       "      <td>1.000000</td>\n",
       "      <td>...</td>\n",
       "      <td>N</td>\n",
       "      <td>N</td>\n",
       "      <td>N</td>\n",
       "      <td>N</td>\n",
       "      <td>湖南</td>\n",
       "      <td>2020-01-02 09:13:33</td>\n",
       "      <td>2020-01-05 08:57:56</td>\n",
       "      <td>2020-01-02 09:12:18</td>\n",
       "      <td>2020-01-02 09:10:49</td>\n",
       "      <td>2020-01-02 09:11:13</td>\n",
       "    </tr>\n",
       "    <tr>\n",
       "      <th>...</th>\n",
       "      <td>...</td>\n",
       "      <td>...</td>\n",
       "      <td>...</td>\n",
       "      <td>...</td>\n",
       "      <td>...</td>\n",
       "      <td>...</td>\n",
       "      <td>...</td>\n",
       "      <td>...</td>\n",
       "      <td>...</td>\n",
       "      <td>...</td>\n",
       "      <td>...</td>\n",
       "      <td>...</td>\n",
       "      <td>...</td>\n",
       "      <td>...</td>\n",
       "      <td>...</td>\n",
       "      <td>...</td>\n",
       "      <td>...</td>\n",
       "      <td>...</td>\n",
       "      <td>...</td>\n",
       "      <td>...</td>\n",
       "      <td>...</td>\n",
       "    </tr>\n",
       "    <tr>\n",
       "      <th>21312</th>\n",
       "      <td>2020-01-22 00:00:00</td>\n",
       "      <td>0</td>\n",
       "      <td>2</td>\n",
       "      <td>0.0</td>\n",
       "      <td>30</td>\n",
       "      <td>0</td>\n",
       "      <td>3552.00</td>\n",
       "      <td>30</td>\n",
       "      <td>92.000000</td>\n",
       "      <td>92.000000</td>\n",
       "      <td>...</td>\n",
       "      <td>N</td>\n",
       "      <td>N</td>\n",
       "      <td>N</td>\n",
       "      <td>N</td>\n",
       "      <td>湖北</td>\n",
       "      <td>2020-01-23 09:25:18</td>\n",
       "      <td>2020-04-01 13:23:25</td>\n",
       "      <td>2020-01-22 13:20:40</td>\n",
       "      <td>2020-01-22 13:06:14</td>\n",
       "      <td>2020-01-22 13:08:39</td>\n",
       "    </tr>\n",
       "    <tr>\n",
       "      <th>21313</th>\n",
       "      <td>2020-01-25 00:00:00</td>\n",
       "      <td>0</td>\n",
       "      <td>1</td>\n",
       "      <td>0.0</td>\n",
       "      <td>242</td>\n",
       "      <td>0</td>\n",
       "      <td>670.00</td>\n",
       "      <td>242</td>\n",
       "      <td>0.122000</td>\n",
       "      <td>0.202000</td>\n",
       "      <td>...</td>\n",
       "      <td>N</td>\n",
       "      <td>N</td>\n",
       "      <td>N</td>\n",
       "      <td>N</td>\n",
       "      <td>湖北</td>\n",
       "      <td>2020-01-29 10:25:48</td>\n",
       "      <td>2020-01-29 10:37:39</td>\n",
       "      <td>2020-01-28 16:59:00</td>\n",
       "      <td>2020-01-25 10:55:18</td>\n",
       "      <td>2020-01-28 15:28:04</td>\n",
       "    </tr>\n",
       "    <tr>\n",
       "      <th>21314</th>\n",
       "      <td>2020-01-28 00:00:00</td>\n",
       "      <td>0</td>\n",
       "      <td>1</td>\n",
       "      <td>0.0</td>\n",
       "      <td>1060</td>\n",
       "      <td>0</td>\n",
       "      <td>18780.00</td>\n",
       "      <td>1060</td>\n",
       "      <td>0.245625</td>\n",
       "      <td>0.245625</td>\n",
       "      <td>...</td>\n",
       "      <td>N</td>\n",
       "      <td>N</td>\n",
       "      <td>N</td>\n",
       "      <td>N</td>\n",
       "      <td>湖北</td>\n",
       "      <td>2020-01-29 10:25:52</td>\n",
       "      <td>2020-01-29 10:37:39</td>\n",
       "      <td>2020-01-28 16:59:13</td>\n",
       "      <td>2020-01-28 13:42:47</td>\n",
       "      <td>2020-01-28 15:23:21</td>\n",
       "    </tr>\n",
       "    <tr>\n",
       "      <th>21315</th>\n",
       "      <td>2020-01-30 00:00:00</td>\n",
       "      <td>0</td>\n",
       "      <td>2</td>\n",
       "      <td>0.0</td>\n",
       "      <td>40</td>\n",
       "      <td>0</td>\n",
       "      <td>365.00</td>\n",
       "      <td>40</td>\n",
       "      <td>0.033333</td>\n",
       "      <td>0.033333</td>\n",
       "      <td>...</td>\n",
       "      <td>N</td>\n",
       "      <td>N</td>\n",
       "      <td>N</td>\n",
       "      <td>N</td>\n",
       "      <td>湖北</td>\n",
       "      <td>2020-01-30 13:56:05</td>\n",
       "      <td>2020-01-30 14:07:12</td>\n",
       "      <td>2020-01-30 11:13:11</td>\n",
       "      <td>2020-01-30 11:08:46</td>\n",
       "      <td>2020-01-30 11:13:11</td>\n",
       "    </tr>\n",
       "    <tr>\n",
       "      <th>21316</th>\n",
       "      <td>2020-01-22 13:14:13</td>\n",
       "      <td>0</td>\n",
       "      <td>0</td>\n",
       "      <td>0.0</td>\n",
       "      <td>48</td>\n",
       "      <td>0</td>\n",
       "      <td>13824.00</td>\n",
       "      <td>48</td>\n",
       "      <td>86.240000</td>\n",
       "      <td>86.240000</td>\n",
       "      <td>...</td>\n",
       "      <td>N</td>\n",
       "      <td>N</td>\n",
       "      <td>N</td>\n",
       "      <td>N</td>\n",
       "      <td>湖北</td>\n",
       "      <td>2020-01-22 13:14:15</td>\n",
       "      <td>2020-03-21 15:04:35</td>\n",
       "      <td>2020-01-22 13:14:15</td>\n",
       "      <td>2020-01-22 13:14:14</td>\n",
       "      <td>2020-01-22 13:14:15</td>\n",
       "    </tr>\n",
       "  </tbody>\n",
       "</table>\n",
       "<p>21317 rows × 84 columns</p>\n",
       "</div>"
      ]
     },
     "execution_count": 82,
     "metadata": {},
     "output_type": "execute_result"
    }
   ],
   "execution_count": 82
  },
  {
   "metadata": {},
   "cell_type": "code",
   "outputs": [],
   "execution_count": null,
   "source": "",
   "id": "bad2be3931fa6e0c"
  }
 ],
 "metadata": {
  "kernelspec": {
   "display_name": "Python 3 (ipykernel)",
   "language": "python",
   "name": "python3"
  },
  "language_info": {
   "codemirror_mode": {
    "name": "ipython",
    "version": 3
   },
   "file_extension": ".py",
   "mimetype": "text/x-python",
   "name": "python",
   "nbconvert_exporter": "python",
   "pygments_lexer": "ipython3",
   "version": "3.12.4"
  }
 },
 "nbformat": 4,
 "nbformat_minor": 5
}
