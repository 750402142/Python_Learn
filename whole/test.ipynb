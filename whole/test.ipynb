{
 "cells": [
  {
   "cell_type": "code",
   "id": "initial_id",
   "metadata": {
    "collapsed": true,
    "ExecuteTime": {
     "end_time": "2024-11-19T00:20:47.771783Z",
     "start_time": "2024-11-19T00:20:47.094345Z"
    }
   },
   "source": [
    "\n",
    "\n",
    "import pandas as pd\n",
    "from networkx import neighbors"
   ],
   "outputs": [],
   "execution_count": 1
  },
  {
   "metadata": {
    "ExecuteTime": {
     "end_time": "2024-11-18T14:47:01.739686Z",
     "start_time": "2024-11-18T14:47:01.736642Z"
    }
   },
   "cell_type": "code",
   "source": [
    "from pyecharts.charts import Bar,Page,Tab\n",
    "from pyecharts import options as opts\n",
    "from pyecharts.globals import ThemeType"
   ],
   "id": "d86c4255ce6e11f",
   "outputs": [],
   "execution_count": 17
  },
  {
   "metadata": {
    "ExecuteTime": {
     "end_time": "2024-11-19T00:20:54.256916Z",
     "start_time": "2024-11-19T00:20:54.136770Z"
    }
   },
   "cell_type": "code",
   "source": [
    "\n",
    "from pyecharts.charts import Bar, Line,Scatter,Timeline,Grid,Pie\n",
    "from pyecharts import options as opts\n",
    "from pyecharts.commons.utils import JsCode\n",
    "from pyecharts.globals import ThemeType \n",
    "data = pd.read_csv('./修改后按年分的文件.csv')\n",
    "dp3=data.groupby('车辆级别')['行驶距离(万公里)'].sum().reset_index()\n",
    "dp4 = data.groupby('车辆级别')['price'].mean().reset_index()\n",
    "dp4['price'] = dp4['price'].round(2)\n",
    "dp5 = pd.merge(dp3,dp4,on='车辆级别').values.tolist()\n",
    "itemstyle = {\n",
    "    'normal': {\n",
    "        'color': JsCode(\"\"\"new echarts.graphic.LinearGradient(0, 0, 0, 1, [\n",
    "          { offset: 0, color: 'rgb(255, 191, 0)' },\n",
    "          { offset: 1, color: 'rgb(224, 62, 76)' }\n",
    "        ],)\"\"\"),\n",
    "        'barBorderRadius': [10,10,10,10],      #  柱子的四个角圆角设计\n",
    "        'shadowColor':'rgba(108,80,243,0.9)', # 阴影的颜色\n",
    "        'shadowBlur':20, # 阴影的宽度\n",
    "    }\n",
    "}\n",
    "itemstyle1 = {\n",
    "    'normal': {\n",
    "        'color': JsCode(\"\"\"new echarts.graphic.LinearGradient(0, 0, 0, 1, [\n",
    "          { offset: 0, color: 'rgb(128, 255, 165)' },\n",
    "          { offset: 1, color: 'rgb(1, 191, 236)' }\n",
    "        ],)\"\"\"),\n",
    "        'barBorderRadius': [10,10,10,10],      #  柱子的四个角圆角设计\n",
    "        'shadowColor':'rgba(108,80,243,0.9)', # 阴影的颜色\n",
    "        'shadowBlur':20, # 阴影的宽度\n",
    "    }\n",
    "}\n",
    "bar = (Bar(init_opts=opts.InitOpts(theme=ThemeType.DARK,bg_color='#080b30'))\n",
    "      .add_xaxis([i[0] for i in dp5])\n",
    "       .add_yaxis('行驶距离（万公里）',[i[1] for i in dp5],yaxis_index=0,\n",
    "                 itemstyle_opts=itemstyle,)\n",
    "       .add_yaxis('平均价格',[i[2] for i in dp5],yaxis_index=1,\n",
    "                 itemstyle_opts=itemstyle1)\n",
    "        .extend_axis(\n",
    "            yaxis=opts.AxisOpts(\n",
    "                name='平均价格',interval=10,) )\n",
    "        .set_global_opts(\n",
    "            title_opts=opts.TitleOpts(title='不同车辆级别基本情况对比',pos_left = 'center'),\n",
    "            xaxis_opts=opts.AxisOpts(splitline_opts={'show':False}),\n",
    "            yaxis_opts=opts.AxisOpts(name='行驶距离（万公里）',splitline_opts={'show':False}),\n",
    "            legend_opts=opts.LegendOpts(pos_top='7%'),\n",
    "            tooltip_opts=opts.TooltipOpts(trigger=\"axis\", axis_pointer_type=\"shadow\"),\n",
    "        )\n",
    "       .set_series_opts(label_opts=opts.LabelOpts(is_show=False))\n",
    "      )\n",
    "\n",
    "# bar.render('bar3.html')"
   ],
   "id": "cdb4c66d3c298046",
   "outputs": [
    {
     "data": {
      "text/plain": [
       "'C:\\\\Users\\\\wang\\\\Desktop\\\\pyLearn\\\\作业\\\\whole\\\\bar3.html'"
      ]
     },
     "execution_count": 2,
     "metadata": {},
     "output_type": "execute_result"
    }
   ],
   "execution_count": 2
  },
  {
   "metadata": {
    "ExecuteTime": {
     "end_time": "2024-11-19T00:51:23.305589Z",
     "start_time": "2024-11-19T00:51:23.177047Z"
    }
   },
   "cell_type": "code",
   "source": [
    "data = pd.read_csv('./data/二手车整理数据完整.csv')\n",
    "dp1 = data.groupby('year')['行驶距离(万公里)'].sum().reset_index()\n",
    "dp11 = data['year'].value_counts().reset_index()\n",
    "dp111=pd.merge(dp1,dp11,on='year')\n",
    "dp111['mean'] = (dp111['行驶距离(万公里)'] / dp111['count']).round(2)\n",
    "dp111 = dp111.values.tolist()"
   ],
   "id": "f3ddb57e88202714",
   "outputs": [],
   "execution_count": 3
  },
  {
   "metadata": {
    "ExecuteTime": {
     "end_time": "2024-11-19T00:51:45.497306Z",
     "start_time": "2024-11-19T00:51:45.490926Z"
    }
   },
   "cell_type": "code",
   "source": [
    "itemstyle2 = {\n",
    "    'normal': {\n",
    "        'color': JsCode(\"\"\"new echarts.graphic.LinearGradient(0, 0, 1, 1, [\n",
    "          { offset: 0, color: 'rgb(40, 141, 125)' },\n",
    "          { offset: 1, color: 'rgb(199, 229, 227)' }\n",
    "        ],)\"\"\"),\n",
    "        'barBorderRadius': [20,20,20,20],      #  柱子的四个角圆角设计\n",
    "        'shadowColor':'rgba(108,80,243,0.9)', # 阴影的颜色\n",
    "        'shadowBlur':5, # 阴影的宽度\n",
    "        'width': 4,\n",
    "    }\n",
    "}\n",
    "itemstyle1 = {\n",
    "    'normal': {\n",
    "        'color': JsCode(\"\"\"new echarts.graphic.LinearGradient(0, 0, 0, 1, [\n",
    "            {offset: 0, color: 'rgba(255, 0, 0, 1)'},\n",
    "            {offset: 1, color: 'rgba(0, 255, 0, 1)'}\n",
    "        ], false)\"\"\"),\n",
    "        'lineStyle': {\n",
    "            'width': 4,\n",
    "            'type': 'solid',\n",
    "            'color': JsCode(\"\"\"new echarts.graphic.LinearGradient(0, 0, 0, 1, [\n",
    "                {offset: 0, color: 'rgba(255, 0, 0, 0.5)'},\n",
    "                {offset: 1, color: 'rgba(0, 255, 0, 0.5)'}\n",
    "            ], false)\"\"\"),\n",
    "        },\n",
    "        'borderColor': 'rgba(0, 0, 0, 0.5)',\n",
    "        'borderWidth': 8,\n",
    "        'shadowColor': 'rgba(0, 0, 0, 0.4)',\n",
    "        'shadowBlur': 10,\n",
    "        'shadowOffsetY': 10,\n",
    "    }\n",
    "}"
   ],
   "id": "7d2fa278f7a2ca4e",
   "outputs": [],
   "execution_count": 4
  },
  {
   "metadata": {
    "ExecuteTime": {
     "end_time": "2024-11-19T00:51:58.916328Z",
     "start_time": "2024-11-19T00:51:58.895068Z"
    }
   },
   "cell_type": "code",
   "source": [
    "from pyecharts.charts import Bar, Line,Scatter\n",
    "from pyecharts import options as opts\n",
    "from pyecharts.commons.utils import JsCode\n",
    "from pyecharts.globals import ThemeType \n",
    "bar = Bar()\n",
    "bar.add_xaxis([i[1] for i in dp111])\n",
    "bar.add_yaxis('车辆数量',[i[2] for i in dp111],yaxis_index=0,\n",
    "              itemstyle_opts=itemstyle2,\n",
    "              label_opts=opts.LabelOpts(formatter='{c}辆',color='auto') \n",
    "             )\n",
    "bar.extend_axis(\n",
    "    yaxis=opts.AxisOpts(name='平均行驶距离(万公里)',position='right',\n",
    "        axislabel_opts=opts.LabelOpts(formatter=\"{value}\"),\n",
    "        splitline_opts=opts.SplitLineOpts(is_show=False),\n",
    "        axisline_opts=opts.AxisLineOpts(linestyle_opts=opts.LineStyleOpts(color='black')))\n",
    ")\n",
    "bar.set_global_opts(title_opts=opts.TitleOpts(title='不同年份车辆数量与平均行驶距离',pos_left='center',pos_top='5%'),\n",
    "                    tooltip_opts=opts.TooltipOpts(trigger='axis', axis_pointer_type='cross'),\n",
    "                    legend_opts=opts.LegendOpts(pos_top='10%'),\n",
    "                    xaxis_opts=opts.AxisOpts(name='年份',splitline_opts={'show':False},name_location='middle',name_gap=26,\n",
    "                                            axisline_opts=opts.AxisLineOpts(linestyle_opts=opts.LineStyleOpts(color='black'))),\n",
    "                    yaxis_opts=opts.AxisOpts(\n",
    "                        name='车辆数量',\n",
    "                        splitline_opts=opts.SplitLineOpts(is_show=False),\n",
    "                        axisline_opts=opts.AxisLineOpts(linestyle_opts=opts.LineStyleOpts(color='black'))\n",
    "                    )              \n",
    ")\n",
    "\n",
    "line = (Line()\n",
    "        .add_xaxis([i[0] for i in dp111])\n",
    "        .add_yaxis(\"平均行驶距离(万公里)\",[i[3] for i in dp111], yaxis_index=1,z_level=2,\n",
    "                   itemstyle_opts=itemstyle1,\n",
    "                    is_smooth=True, is_symbol_show=False,\n",
    "                   linestyle_opts=opts.LineStyleOpts(width=2, opacity=0.8) \n",
    "            )\n",
    "        .set_series_opts(label_opts=opts.LabelOpts(is_show=False))\n",
    "       )\n",
    "\n",
    "bar.overlap(line)"
   ],
   "id": "fa74983f7f138ec9",
   "outputs": [
    {
     "data": {
      "text/plain": [
       "<pyecharts.charts.basic_charts.bar.Bar at 0x29591de28a0>"
      ]
     },
     "execution_count": 5,
     "metadata": {},
     "output_type": "execute_result"
    }
   ],
   "execution_count": 5
  },
  {
   "metadata": {
    "ExecuteTime": {
     "end_time": "2024-11-19T00:52:44.856662Z",
     "start_time": "2024-11-19T00:52:44.825905Z"
    }
   },
   "cell_type": "code",
   "source": [
    "data['上牌时间'] = pd.to_datetime(data['上牌时间'])\n",
    "data['年检到期'] = pd.to_datetime(data['年检到期'])\n",
    "data['保险到期'] = pd.to_datetime(data['保险到期'])\n",
    "line = (Line(init_opts=opts.InitOpts(theme=ThemeType.LIGHT))\n",
    "   .add_xaxis(data['上牌时间'].dt.strftime('%Y-%m-%d').tolist())\n",
    "   .add_yaxis(\"上牌时间\", data['上牌时间'].tolist(), is_smooth=True,\n",
    "               label_opts=opts.LabelOpts(is_show=False))\n",
    "   .add_xaxis(data['年检到期'].dt.strftime('%Y-%m-%d').tolist())\n",
    "   .add_yaxis(\"年检到期\", data['年检到期'].tolist(), is_smooth=True,\n",
    "               label_opts=opts.LabelOpts(is_show=False))\n",
    "   .add_xaxis(data['保险到期'].dt.strftime('%Y-%m-%d').tolist())\n",
    "   .add_yaxis(\"保险到期\", data['保险到期'].tolist(), is_smooth=True,\n",
    "               label_opts=opts.LabelOpts(is_show=False))\n",
    "   .set_global_opts(\n",
    "        title_opts=opts.TitleOpts(title='随时间变化，上牌时间，年检到期时间，保险到期时间的变化'),\n",
    "        tooltip_opts=opts.TooltipOpts(trigger='axis'),\n",
    "        xaxis_opts=opts.AxisOpts(type_='time'),\n",
    "        yaxis_opts=opts.AxisOpts(type_='time'),\n",
    "        datazoom_opts=[opts.DataZoomOpts()],\n",
    "        toolbox_opts=opts.ToolboxOpts(is_show=True)\n",
    "    ))"
   ],
   "id": "ce01baa494b91be",
   "outputs": [],
   "execution_count": 6
  },
  {
   "metadata": {
    "ExecuteTime": {
     "end_time": "2024-11-19T01:11:00.613575Z",
     "start_time": "2024-11-19T01:10:58.565737Z"
    }
   },
   "cell_type": "code",
   "source": [
    "from matplotlib import pyplot as plt\n",
    "import seaborn as sns\n",
    "data = pd.read_csv('./data/二手车上牌数据处理.csv')\n",
    "data['出厂日期'] = pd.to_datetime(data['出厂日期'], format='%Y')\n",
    "plt.rcParams['font.sans-serif'] = 'STsong'\n",
    "plt.rcParams['axes.unicode_minus'] = False\n",
    "\n",
    "fig, axes = plt.subplots(2,3, figsize=(16,17))\n",
    "\n",
    "sns.boxplot(x='车辆级别', y='price', data=data, ax=axes[0, 0])\n",
    "axes[0, 0].tick_params(axis='x', rotation=90)\n",
    "sns.boxplot(x='车身颜色', y='price', data=data, ax=axes[0, 1])\n",
    "axes[0, 1].tick_params(axis='x', rotation=90)\n",
    "sns.boxplot(x='驱动方式', y='price', data=data, ax=axes[0,2])\n",
    "axes[0,2].tick_params(axis='x', rotation=90)\n",
    "\n",
    "plt.title('箱线图',fontsize=16,y=2.22,x=-0.1)\n",
    "\n",
    "sns.lineplot(x='行驶距离(万公里)', y='price', data=data, ax=axes[1,1])\n",
    "axes[1,1].set_title('行驶距离与价格的折线图')\n",
    "sns.histplot(data['price'], bins=10, kde=False, ax=axes[1,0])\n",
    "axes[1,0].set_title('价格的直方图')\n",
    "# # 热力图\n",
    "data_pair = data[['price','行驶距离(万公里)', 'year']].corr().round(2)\n",
    "sns.heatmap(data_pair, annot=True, cmap='coolwarm', vmin=-1, vmax=1,ax=axes[1,2]).set_title('    热力图')\n",
    "\n",
    "\n",
    "plt.savefig('./result/box6(1).png')"
   ],
   "id": "55e7ff75291666d9",
   "outputs": [
    {
     "data": {
      "text/plain": [
       "<Figure size 1600x1700 with 7 Axes>"
      ],
      "image/png": "[encoded data removed]"
     },
     "metadata": {},
     "output_type": "display_data"
    }
   ],
   "execution_count": 13
  },
  {
   "metadata": {
    "ExecuteTime": {
     "end_time": "2024-11-19T00:54:01.373475Z",
     "start_time": "2024-11-19T00:54:01.348621Z"
    }
   },
   "cell_type": "code",
   "source": [
    "from pyecharts.charts import Page\n",
    "page = Page()\n",
    "page.add(bar,line)\n",
    "page.render('result/page2.html')"
   ],
   "id": "60114e21737e8760",
   "outputs": [
    {
     "data": {
      "text/plain": [
       "'C:\\\\Users\\\\wang\\\\Desktop\\\\pyLearn\\\\作业\\\\whole\\\\result\\\\page2.html'"
      ]
     },
     "execution_count": 9,
     "metadata": {},
     "output_type": "execute_result"
    }
   ],
   "execution_count": 9
  },
  {
   "metadata": {
    "ExecuteTime": {
     "end_time": "2024-11-18T14:29:30.964645Z",
     "start_time": "2024-11-18T14:29:30.961625Z"
    }
   },
   "cell_type": "code",
   "source": "from pyecharts.commons.utils import JsCode",
   "id": "7f73f36629cb6ff7",
   "outputs": [],
   "execution_count": 6
  },
  {
   "metadata": {
    "ExecuteTime": {
     "end_time": "2024-11-18T10:04:32.551710Z",
     "start_time": "2024-11-18T10:04:32.544517Z"
    }
   },
   "cell_type": "code",
   "source": "data =  pd.read_csv(\"./data/二手车上牌数据处理.csv\",index_col=0)",
   "id": "551cbec95950a845",
   "outputs": [],
   "execution_count": 3
  },
  {
   "metadata": {
    "ExecuteTime": {
     "end_time": "2024-11-18T14:29:00.598879Z",
     "start_time": "2024-11-18T14:29:00.590163Z"
    }
   },
   "cell_type": "code",
   "source": "data = pd.read_csv('./data/修改后按年分的文件.csv')",
   "id": "3f1a2aed876c060a",
   "outputs": [],
   "execution_count": 3
  },
  {
   "metadata": {
    "ExecuteTime": {
     "end_time": "2024-11-18T14:29:02.745384Z",
     "start_time": "2024-11-18T14:29:02.740804Z"
    }
   },
   "cell_type": "code",
   "source": "dp3=data.groupby('车辆级别')['行驶距离(万公里)'].sum().reset_index()",
   "id": "57e6f4307689e56b",
   "outputs": [],
   "execution_count": 4
  },
  {
   "metadata": {
    "ExecuteTime": {
     "end_time": "2024-11-18T14:30:23.825516Z",
     "start_time": "2024-11-18T14:30:23.819633Z"
    }
   },
   "cell_type": "code",
   "source": [
    "dp4 = data.groupby('车辆级别')['price'].mean().reset_index()\n",
    "dp4['price'] = - dp4['price'].round(2)\n",
    "dp5 = pd.merge(dp3,dp4,on='车辆级别').values.tolist()"
   ],
   "id": "f644e12b195e3fe9",
   "outputs": [],
   "execution_count": 9
  },
  {
   "metadata": {
    "ExecuteTime": {
     "end_time": "2024-11-18T14:30:24.315410Z",
     "start_time": "2024-11-18T14:30:24.311557Z"
    }
   },
   "cell_type": "code",
   "source": [
    "itemstyle = {\n",
    "    'normal': {\n",
    "        'color': JsCode(\"\"\"new echarts.graphic.LinearGradient(0, 0, 0, 1, [\n",
    "          { offset: 0, color: 'rgb(255, 191, 0)' },\n",
    "          { offset: 1, color: 'rgb(224, 62, 76)' }\n",
    "        ],)\"\"\"),\n",
    "        'barBorderRadius': [10,10,10,10],      #  柱子的四个角圆角设计\n",
    "        'shadowColor':'rgba(108,80,243,0.9)', # 阴影的颜色\n",
    "        'shadowBlur':20, # 阴影的宽度\n",
    "    }\n",
    "}\n",
    "itemstyle1 = {\n",
    "    'normal': {\n",
    "        'color': JsCode(\"\"\"new echarts.graphic.LinearGradient(0, 0, 0, 1, [\n",
    "          { offset: 0, color: 'rgb(128, 255, 165)' },\n",
    "          { offset: 1, color: 'rgb(1, 191, 236)' }\n",
    "        ],)\"\"\"),\n",
    "        'barBorderRadius': [10,10,10,10],      #  柱子的四个角圆角设计\n",
    "        'shadowColor':'rgba(108,80,243,0.9)', # 阴影的颜色\n",
    "        'shadowBlur':20, # 阴影的宽度\n",
    "    }\n",
    "}"
   ],
   "id": "24a2f382a9b55e12",
   "outputs": [],
   "execution_count": 10
  },
  {
   "metadata": {
    "ExecuteTime": {
     "end_time": "2024-11-18T14:30:58.987133Z",
     "start_time": "2024-11-18T14:30:58.978627Z"
    }
   },
   "cell_type": "code",
   "source": [
    "bar = (Bar(init_opts=opts.InitOpts(theme=ThemeType.DARK,bg_color='#080b30'))\n",
    "      .add_xaxis([i[0] for i in dp5])\n",
    "       .add_yaxis('行驶距离（万公里)',[i[1] for i in dp5],\n",
    "                 itemstyle_opts=itemstyle,)\n",
    "       .add_yaxis('平均价格',[i[2] for i in dp5],\n",
    "                 itemstyle_opts=itemstyle1)\n",
    "       .extend_axis(\n",
    "            yaxis=opts.AxisOpts(\n",
    "                name='行驶距离（万公里）',\n",
    "                interval=100,\n",
    "                axisline_opts=opts.AxisLineOpts(linestyle_opts=opts.LineStyleOpts(color='#FF5733')),\n",
    "                splitline_opts=opts.SplitLineOpts(is_show=True, linestyle_opts=opts.LineStyleOpts(color='#FF5733'))\n",
    "            )\n",
    "    )\n",
    "    .extend_axis(\n",
    "        yaxis=opts.AxisOpts(\n",
    "            name='平均价格',\n",
    "            interval=10,\n",
    "            axisline_opts=opts.AxisLineOpts(linestyle_opts=opts.LineStyleOpts(color='#33FF57')),\n",
    "             splitline_opts=opts.SplitLineOpts(is_show=True, linestyle_opts=opts.LineStyleOpts(color='#33FF57'))\n",
    "        )\n",
    "    )\n",
    "    .set_global_opts(\n",
    "        title_opts=opts.TitleOpts(title='不同车辆级别基本情况对比',pos_left = 'center'),\n",
    "        yaxis_opts=opts.AxisOpts(name='行驶距离（万公里）',interval=40,splitline_opts={'show':False}),\n",
    "        legend_opts=opts.LegendOpts(pos_top='7%'),\n",
    "        tooltip_opts=opts.TooltipOpts(trigger=\"axis\", axis_pointer_type=\"shadow\"),\n",
    "    )\n",
    "       .set_series_opts(label_opts=opts.LabelOpts(is_show=False))\n",
    "      )\n",
    "\n",
    "bar.render()"
   ],
   "id": "d6915c2a13a9c613",
   "outputs": [
    {
     "data": {
      "text/plain": [
       "'C:\\\\Users\\\\wang\\\\Desktop\\\\pyLearn\\\\作业\\\\whole\\\\render.html'"
      ]
     },
     "execution_count": 12,
     "metadata": {},
     "output_type": "execute_result"
    }
   ],
   "execution_count": 12
  },
  {
   "metadata": {},
   "cell_type": "code",
   "outputs": [],
   "execution_count": null,
   "source": [
    "\n",
    "data = pd.read_csv('./data/二手车上牌数据处理.csv')\n",
    "dp=sorted(data['year'].unique())\n",
    "dp\n",
    "d=data.groupby(['year','brands'])['price'].mean().reset_index()\n",
    "d=d.sort_values(by=['year', 'price'], ascending=[True, False])\n",
    "for i in dp:\n",
    "    print(d[d['year']==i].head(3))"
   ],
   "id": "76c2fca4420bb2fa"
  },
  {
   "metadata": {
    "ExecuteTime": {
     "end_time": "2024-11-18T13:17:09.738527Z",
     "start_time": "2024-11-18T13:17:09.634217Z"
    }
   },
   "cell_type": "code",
   "source": [
    "\n",
    "\n",
    "from pyecharts.charts import Timeline, Line,Bar,Tab\n",
    "from pyecharts import options as opts\n",
    "from pyecharts.globals import ThemeType\n",
    "from pyecharts.commons.utils import JsCode  # 导入 JsCod\n",
    "from pyecharts.charts import Timeline\n",
    "line_itemstyle1 = {\n",
    "\"normal\": {\n",
    "    \"shadowColor\": 'rgba(255, 10, 190, .3)',  \n",
    "    \"shadowBlur\": 8,                        \n",
    "    \"shadowOffsetY\": 3,                     \n",
    "    \"shadowOffsetX\": 3,                     \n",
    "    \"width\": 2                               \n",
    "}\n",
    "}\n",
    "data = pd.read_csv('./data/二手车上牌数据处理.csv')\n",
    "dp6=data.groupby(['year','brands'])['price'].mean().reset_index()\n",
    "dp6=dp6.sort_values(by=['year', 'price'], ascending=[True, False])\n",
    "year=data['year'].unique().tolist()\n",
    "year=sorted(year)\n",
    "tab = Tab()\n",
    "for index,i in enumerate(year):\n",
    "    \n",
    "    markerpoints = opts.MarkPointOpts(data = [opts.MarkPointItem(name = '{i}近年来变化',\n",
    "                                                            symbol_size=0,)],\n",
    "                                 label_opts=opts.LabelOpts(position='right',formatter=\"{b}:{c}\",\n",
    "                                                          font_weight='bold',color='auto',))\n",
    "    line = (Line(init_opts=opts.InitOpts(theme=ThemeType.DARK, bg_color='#000000'))\n",
    "        .add_xaxis([i[1] for i in dp6[dp6['year']==i].head(10).values.tolist()])\n",
    "        .add_yaxis(f\"{i}年近年喜爱数量变化\",[i[2] for i in dp6[dp6['year']==i].head(10).values.tolist()],is_symbol_show=False,is_smooth=True,\n",
    "              label_opts=opts.LabelOpts(is_show=False),\n",
    "              markpoint_opts=markerpoints,itemstyle_opts=line_itemstyle1)\n",
    "        .set_global_opts(\n",
    "                xaxis_opts=opts.AxisOpts(splitline_opts=opts.SplitLineOpts(is_show=False),),\n",
    "                yaxis_opts=opts.AxisOpts( \n",
    "                    max_=max([i[2] for i in dp6[dp6['year']==i].head(10).values.tolist()]),  # 设置y轴最大值\n",
    "                    splitline_opts=opts.SplitLineOpts(is_show=False), # 去掉y轴网格线\n",
    "                    \n",
    "                ),\n",
    "             legend_opts=opts.LegendOpts(is_show=False)\n",
    "            )\n",
    "            )\n",
    "        \n",
    "    tab.add(line, i)\n",
    "\n",
    "tab.render()"
   ],
   "id": "11ed9244a36dd2a0",
   "outputs": [
    {
     "data": {
      "text/plain": [
       "'C:\\\\Users\\\\wang\\\\Desktop\\\\pyLearn\\\\作业\\\\whole\\\\render.html'"
      ]
     },
     "execution_count": 11,
     "metadata": {},
     "output_type": "execute_result"
    }
   ],
   "execution_count": 11
  },
  {
   "metadata": {
    "ExecuteTime": {
     "end_time": "2024-11-18T10:04:41.229386Z",
     "start_time": "2024-11-18T10:04:41.199902Z"
    }
   },
   "cell_type": "code",
   "source": [
    "\n",
    "\n",
    "from pyecharts.charts import Timeline, Line,Bar\n",
    "from pyecharts import options as opts\n",
    "from pyecharts.globals import ThemeType\n",
    "from pyecharts.commons.utils import JsCode  # 导入 JsCod\n",
    "from pyecharts.charts import Timeline\n",
    "line_itemstyle1 = {\n",
    "\"normal\": {\n",
    "    \"shadowColor\": 'rgba(255, 10, 190, .3)',  \n",
    "    \"shadowBlur\": 8,                        \n",
    "    \"shadowOffsetY\": 3,                     \n",
    "    \"shadowOffsetX\": 3,                     \n",
    "    \"width\": 2                               \n",
    "}\n",
    "}\n",
    "data = pd.read_csv('./data/二手车上牌数据处理.csv')\n",
    "dp6=data.groupby(['year','brands'])['price'].mean().reset_index()\n",
    "dp6=dp6.sort_values(by=['year', 'price'], ascending=[True, False])\n",
    "year=data['year'].unique().tolist()\n",
    "year=sorted(year)\n",
    "tab = Tab()\n",
    "for index,i in enumerate(year):\n",
    "    \n",
    "    markerpoints = opts.MarkPointOpts(data = [opts.MarkPointItem(name = '{i}近年来变化',\n",
    "                                                            symbol_size=0,)],\n",
    "                                 label_opts=opts.LabelOpts(position='right',formatter=\"{b}:{c}\",\n",
    "                                                          font_weight='bold',color='auto',))\n",
    "    line = (Line(init_opts=opts.InitOpts(theme=ThemeType.DARK, bg_color='#000000'))\n",
    "        .add_xaxis([i[1] for i in dp6[dp6['year']==i].values.tolist()])\n",
    "        .add_yaxis(f\"{i}年近年喜爱数量变化\",[i[2] for i in dp6[dp6['year']==i].values.tolist()],is_symbol_show=False,is_smooth=True,\n",
    "              label_opts=opts.LabelOpts(is_show=False),\n",
    "              markpoint_opts=markerpoints,itemstyle_opts=line_itemstyle1)\n",
    "        .set_global_opts(\n",
    "                xaxis_opts=opts.AxisOpts(splitline_opts=opts.SplitLineOpts(is_show=False),),\n",
    "                yaxis_opts=opts.AxisOpts( \n",
    "                    max_=max([i[2] for i in dp6[dp6['year']==i].values.tolist()]),  # 设置y轴最大值\n",
    "                    splitline_opts=opts.SplitLineOpts(is_show=False), # 去掉y轴网格线\n",
    "                    \n",
    "                ),\n",
    "             legend_opts=opts.LegendOpts(is_show=False)\n",
    "            )\n",
    "            )\n",
    "        \n",
    "    tab.add(line, i)\n",
    "tab.render()"
   ],
   "id": "7a3298ea42215619",
   "outputs": [
    {
     "data": {
      "text/plain": [
       "'C:\\\\Users\\\\wang\\\\Desktop\\\\pyLearn\\\\作业\\\\whole\\\\render.html'"
      ]
     },
     "execution_count": 5,
     "metadata": {},
     "output_type": "execute_result"
    }
   ],
   "execution_count": 5
  },
  {
   "metadata": {
    "ExecuteTime": {
     "end_time": "2024-11-18T10:04:28.958538Z",
     "start_time": "2024-11-18T10:04:28.215752Z"
    }
   },
   "cell_type": "code",
   "source": [
    "import pandas as pd\n",
    "from pyecharts.charts import Timeline, Line,Bar,Pie\n",
    "from pyecharts import options as opts\n",
    "from pyecharts.globals import ThemeType\n",
    "from pyecharts.commons.utils import JsCode\n",
    "def get_data7(data='./data/二手车上牌数据处理.csv',data_score='保险到期'):\n",
    "    data = pd.read_csv('./data/二手车上牌数据处理.csv')\n",
    "    data['保险到期'] = pd.to_datetime(data['保险到期'])\n",
    "    year=data['year'].unique().tolist()\n",
    "    year=sorted(year)\n",
    "    tab=Tab()\n",
    "    for i in year:\n",
    "        def calculate_time_interval(row):\n",
    "            if row['保险到期'].year > i:\n",
    "                return '保险未过期'\n",
    "            else:\n",
    "                return str(i - row['保险到期'].year)\n",
    "        \n",
    "        data['保险时间间隔'] = data.apply(calculate_time_interval, axis=1)\n",
    "        df=data.groupby('保险时间间隔').size().reset_index(name='count').values.tolist()\n",
    "        pie = (Pie(init_opts=opts.InitOpts(theme=ThemeType.DARK))\n",
    "               .add(series_name='保险时间间隔', data_pair=df,\n",
    "                    radius=['20%', '40%'], center=['50%', '50%'], rosetype='area',label_opts=opts.LabelOpts(formatter='{b},{c}\\n百分占比{d}%'),) # 标签配置)\n",
    "               .set_global_opts(title_opts=[\n",
    "                   dict(text='保险时间间隔', top=0, left='center'),\n",
    "                  \n",
    "               ], legend_opts=opts.LegendOpts(pos_top='7%'))\n",
    "              \n",
    "              )\n",
    "        \n",
    "    \n",
    "        tab.add(pie, str(i))\n",
    "    return tab \n",
    "     \n",
    "\n",
    "get_data7(data='./data/二手车上牌数据处理.csv',data_score='保险到期').render()\n",
    "    \n",
    "    "
   ],
   "id": "709f16e7c38d9f50",
   "outputs": [
    {
     "ename": "NameError",
     "evalue": "name 'Tab' is not defined",
     "output_type": "error",
     "traceback": [
      "\u001B[1;31m---------------------------------------------------------------------------\u001B[0m",
      "\u001B[1;31mNameError\u001B[0m                                 Traceback (most recent call last)",
      "Cell \u001B[1;32mIn[1], line 36\u001B[0m\n\u001B[0;32m     32\u001B[0m         tab\u001B[38;5;241m.\u001B[39madd(pie, \u001B[38;5;28mstr\u001B[39m(i))\n\u001B[0;32m     33\u001B[0m     \u001B[38;5;28;01mreturn\u001B[39;00m tab \n\u001B[1;32m---> 36\u001B[0m get_data7(data\u001B[38;5;241m=\u001B[39m\u001B[38;5;124m'\u001B[39m\u001B[38;5;124m./data/二手车上牌数据处理.csv\u001B[39m\u001B[38;5;124m'\u001B[39m,data_score\u001B[38;5;241m=\u001B[39m\u001B[38;5;124m'\u001B[39m\u001B[38;5;124m保险到期\u001B[39m\u001B[38;5;124m'\u001B[39m)\u001B[38;5;241m.\u001B[39mrender()\n",
      "Cell \u001B[1;32mIn[1], line 11\u001B[0m, in \u001B[0;36mget_data7\u001B[1;34m(data, data_score)\u001B[0m\n\u001B[0;32m      9\u001B[0m year\u001B[38;5;241m=\u001B[39mdata[\u001B[38;5;124m'\u001B[39m\u001B[38;5;124myear\u001B[39m\u001B[38;5;124m'\u001B[39m]\u001B[38;5;241m.\u001B[39munique()\u001B[38;5;241m.\u001B[39mtolist()\n\u001B[0;32m     10\u001B[0m year\u001B[38;5;241m=\u001B[39m\u001B[38;5;28msorted\u001B[39m(year)\n\u001B[1;32m---> 11\u001B[0m tab\u001B[38;5;241m=\u001B[39mTab()\n\u001B[0;32m     12\u001B[0m \u001B[38;5;28;01mfor\u001B[39;00m i \u001B[38;5;129;01min\u001B[39;00m year:\n\u001B[0;32m     13\u001B[0m     \u001B[38;5;28;01mdef\u001B[39;00m \u001B[38;5;21mcalculate_time_interval\u001B[39m(row):\n",
      "\u001B[1;31mNameError\u001B[0m: name 'Tab' is not defined"
     ]
    }
   ],
   "execution_count": 1
  },
  {
   "metadata": {
    "jupyter": {
     "is_executing": true
    }
   },
   "cell_type": "code",
   "source": "import sklearn.neighbors",
   "id": "114194d474e61b66",
   "outputs": [],
   "execution_count": null
  },
  {
   "metadata": {
    "ExecuteTime": {
     "end_time": "2024-11-18T07:03:27.200650Z",
     "start_time": "2024-11-18T07:03:27.197312Z"
    }
   },
   "cell_type": "code",
   "source": "neighbors.",
   "id": "a22b52749412f068",
   "outputs": [
    {
     "data": {
      "text/plain": [
       "[2010,\n",
       " 2011,\n",
       " 2012,\n",
       " 2013,\n",
       " 2014,\n",
       " 2015,\n",
       " 2016,\n",
       " 2017,\n",
       " 2018,\n",
       " 2019,\n",
       " 2020,\n",
       " 2021,\n",
       " 2022,\n",
       " 2023]"
      ]
     },
     "execution_count": 28,
     "metadata": {},
     "output_type": "execute_result"
    }
   ],
   "execution_count": 28
  },
  {
   "metadata": {
    "ExecuteTime": {
     "end_time": "2024-11-18T07:06:17.417882Z",
     "start_time": "2024-11-18T07:06:17.413888Z"
    }
   },
   "cell_type": "code",
   "source": [
    "for j in year:\n",
    "    print([i[1] for i in dp if i[0]==j])"
   ],
   "id": "a898f9c291cad149",
   "outputs": [
    {
     "name": "stdout",
     "output_type": "stream",
     "text": [
      "['Panamera', '奔驰', '雨燕']\n",
      "['兰德酷路泽', '普拉多', '奔驰', 'Passat', '宝马', '雅阁']\n",
      "['Panamera', '奥迪', '普拉多进口']\n",
      "['飞驰', '揽胜', '兰德酷路泽', 'Cayenne', '普拉多', 'MINI', '奔驰', '辉腾', '奥迪', '宝马', '本田', '甲壳虫', '翼虎', '途观', '索兰托']\n",
      "['宝马', '普拉多', '揽胜', '奔驰', '雷克萨斯', '途锐', '奥迪', '一汽-大众', '英菲尼迪', '途观', '胜达', '名图', '北京现代', '君威', '福克斯']\n",
      "['古思特', 'Macan', '普拉多', '宝马', '雷克萨斯', '奥迪', '捷豹', '奔驰', 'MINI', '雅阁', '帕萨特', '昂科威', '凌渡', '高尔夫', '北京现代', '马自达', '索纳塔', 'Polo', '福克斯', '科鲁兹']\n",
      "['路虎卫士', '埃尔法', '牧马人', '宝马', '奔驰', '奥迪', 'MINI', '揽胜', '甲壳虫', '途观', '逍客', '本田', '别克', '途胜', '马自达', '长安']\n",
      "['雷克萨斯', '兰德酷路泽', '揽胜', '途锐', '途乐', '奔驰', '凯路威', '威霆', '汉兰达', '途昂', '别克', '宝马', '奥迪', '发现', '吉姆尼进口', '帕杰罗', '锐界', '柯迪亚克', '沃尔沃', '迈锐宝', '高尔夫', '骐达', '蓝鸟', '宝来', '自由侠', '长安', '哈弗', '英朗', '比亚迪', '帝豪新能源']\n",
      "['日产', '雷克萨斯', '揽胜', 'Levante', '保时捷', '普拉多', '途乐', '途锐', '奔驰', '宝马', '奥迪', '牧马人', '捷豹', '帕杰罗', 'Mustang', '途昂', '沃尔沃', '锐界', '迈腾', '甲壳虫', '奇骏', '昂科威', '凯美瑞', '帕萨特', '北京BJ40', '传祺', '奕泽', '速派', '逍客', '博瑞', '杰德', '速腾', '领克', '马自达', '朗逸', '高尔夫', '劲客', '名图', '骐达', '迈锐宝', '哈弗', '领动', '荣威', '科鲁兹', '科沃兹', '宝骏', '小蚂蚁']\n",
      "['雷克萨斯', '揽胜', '兰德酷路泽', 'Sprinter', '普拉多', '保时捷', 'FJ', 'Macan', '途乐', '途锐', '奔驰', '凯路威', '帕杰罗', '汉兰达', '宝马', '沃尔沃', '奥迪', '别克', '锐界', '凯迪拉克', '唐新能源', 'MINI', '高尔夫进口', '红旗', '甲壳虫', 'RAV4荣放', '天籁', '君威', '奇骏', '长安', '欧蓝德', '马自达', '高尔夫', '思域', '朗逸', '缤智', '英菲尼迪', '科雷嘉', '东风本田', '骐达', '北京现代', '雷凌', '哈弗', '传祺', '逸动', '起亚', '桑塔纳']\n",
      "['飞驰', '雷克萨斯', 'Panamera', '领航员', '揽胜', '兰德酷路泽', '路虎卫士', '威尔法', '普拉多', '福特', '途锐', '途乐', '奔驰', '牧马人', '宝马', '前途', '凯迪拉克', '帕杰罗', '奥迪', '途昂', '别克', '传祺', '帕萨特', '迈腾', '途观', '皓影', 'RAV4荣放', '凯美瑞', '甲壳虫', '北京BJ40', '炮', '速腾', '起亚', '高尔夫', '思域', 'T-ROC探歌', '凌渡', '宋', '翼虎', '领克', '缤智', '奕泽', '途铠', '智跑', '沃兰多', '马自达', '明锐', '菲斯塔', '长安', '捷达', '英朗', '哈弗', '昕锐', '桑塔纳', '北汽新能源']\n",
      "['雷克萨斯', 'Panamera', '揽胜', '保时捷', '威尔法', '路虎卫士', 'Taycan', '傲旋', '宝马', '奔驰', '高合', '发现', '奥迪', '牧马人', '沃尔沃', '途锐', '威霆', '航海家', '别克', '探险者', '凯迪拉克', '途昂', '理想', '捷豹', '昂科旗', '坦克', '传祺', '凯美瑞', 'Model', '唐新能源', '途观', 'MINI', '一汽-大众', 'RAV4荣放', '本田', '探岳', '摩卡', '红旗', '领克', '奕泽', '马自达', '朗逸', '轩逸', '长安', '伊兰特', '奔腾', '观致', '明锐', '迈锐宝', '名爵', '哈弗', '蓝鸟', '英朗', '帝豪', '远景', '比亚迪']\n",
      "['揽胜', '迈巴赫', 'Panamera', '领航员', 'Cayenne', '路虎卫士', '雷克萨斯', '奔驰', '保时捷', '发现', '高合', '牧马人', '宝马', '奥迪', '赛那', '别克', '沃尔沃', '途昂', 'Mustang', '理想', '传祺', '凯迪拉克', '冒险家', '坦克', '途观', '欧蓝德', '凯美瑞', '长安', '小鹏', '宋', '天逸', '思域', '哪吒', '星瑞', '卡罗拉', '海豚', '名爵', '缤越', '奔腾']\n",
      "['揽胜', '雷克萨斯', '世纪', '发现', '奔驰', '宝马', '牧马人', '角斗士', '赛那', '理想', '捷豹', '别克', '奥迪', '凯迪拉克', '凯美瑞', '星越', '长安', 'QQ冰淇淋']\n"
     ]
    }
   ],
   "execution_count": 29
  },
  {
   "metadata": {
    "ExecuteTime": {
     "end_time": "2024-11-18T07:16:51.300529Z",
     "start_time": "2024-11-18T07:16:51.296246Z"
    }
   },
   "cell_type": "code",
   "source": [
    "from pyecharts.charts import Timeline, Line,Bar\n",
    "from pyecharts import options as opts\n",
    "from pyecharts.globals import ThemeType\n",
    "from pyecharts.commons.utils import JsCode  # 导入 JsCod\n",
    "from pyecharts.charts import Timeline\n",
    "line_itemstyle1 = {\n",
    "\"normal\": {\n",
    "    \"shadowColor\": 'rgba(255, 10, 190, .3)',  \n",
    "    \"shadowBlur\": 8,                        \n",
    "    \"shadowOffsetY\": 3,                     \n",
    "    \"shadowOffsetX\": 3,                     \n",
    "    \"width\": 2                               \n",
    "}\n",
    "}"
   ],
   "id": "b57f5f73dca83156",
   "outputs": [],
   "execution_count": 30
  },
  {
   "metadata": {
    "ExecuteTime": {
     "end_time": "2024-11-18T09:09:25.742603Z",
     "start_time": "2024-11-18T09:09:25.694981Z"
    }
   },
   "cell_type": "code",
   "source": [
    "def get_data5(data='./data/二手车上牌数据处理.csv',data_score='brands'):\n",
    "    data = pd.read_csv('./data/二手车上牌数据处理.csv')\n",
    "    dp6=data.groupby(['year',data_score])['price'].mean().reset_index()\n",
    "    dp6=dp6.sort_values(by=['year', 'price'], ascending=[True, False])\n",
    "    year=data['year'].unique().tolist()\n",
    "    year=sorted(year)\n",
    "    tab = Tab()\n",
    "    for index,i in enumerate(year):\n",
    "        \n",
    "        markerpoints = opts.MarkPointOpts(data = [opts.MarkPointItem(name = '{i}近年来变化',\n",
    "                                                                symbol_size=0,)],\n",
    "                                     label_opts=opts.LabelOpts(position='right',formatter=\"{b}:{c}\",\n",
    "                                                              font_weight='bold',color='auto',))\n",
    "        line = (Line(init_opts=opts.InitOpts(theme=ThemeType.LIGHT ))\n",
    "            .add_xaxis(sorted([i[1] for i in dp6[dp6['year']==i].values.tolist()]))\n",
    "            .add_yaxis(f\"{i}年近年变化\",[i[2] for i in dp6[dp6['year']==i].values.tolist()],is_symbol_show=False,is_smooth=True,\n",
    "                  label_opts=opts.LabelOpts(is_show=False),\n",
    "                  markpoint_opts=markerpoints,itemstyle_opts=line_itemstyle1)\n",
    "            .set_global_opts(\n",
    "                    xaxis_opts=opts.AxisOpts(splitline_opts=opts.SplitLineOpts(is_show=False),),\n",
    "                    yaxis_opts=opts.AxisOpts( \n",
    "                        max_=max([i[2] for i in dp6[dp6['year']==i].values.tolist()]),  # 设置y轴最大值\n",
    "                        splitline_opts=opts.SplitLineOpts(is_show=False), # 去掉y轴网格线\n",
    "                        \n",
    "                    ),\n",
    "                 legend_opts=opts.LegendOpts(is_show=False)\n",
    "                )\n",
    "                )\n",
    "            \n",
    "        tab.add(line, i)\n",
    "    \n",
    "    \n",
    "    return tab\n",
    "get_data5(data='./data/二手车上牌数据处理.csv',data_score='label1_行驶距离').render()\n",
    "get_data5(data='./data/二手车上牌数据处理.csv').render()"
   ],
   "id": "ee13cf6528c1f1de",
   "outputs": [
    {
     "data": {
      "text/plain": [
       "'C:\\\\Users\\\\wang\\\\Desktop\\\\pyLearn\\\\作业\\\\whole\\\\render.html'"
      ]
     },
     "execution_count": 65,
     "metadata": {},
     "output_type": "execute_result"
    }
   ],
   "execution_count": 65
  },
  {
   "metadata": {
    "ExecuteTime": {
     "end_time": "2024-11-18T02:40:46.816942Z",
     "start_time": "2024-11-18T02:40:46.811367Z"
    }
   },
   "cell_type": "code",
   "source": "data['上牌时间'] = pd.to_datetime(data['上牌时间']).dt.year",
   "id": "49b64b1d1f121c1b",
   "outputs": [],
   "execution_count": 23
  },
  {
   "metadata": {
    "ExecuteTime": {
     "end_time": "2024-11-18T03:52:48.183180Z",
     "start_time": "2024-11-18T03:52:48.169660Z"
    }
   },
   "cell_type": "code",
   "source": [
    "data = pd.read_csv('./data/二手车上牌数据处理.csv')\n",
    "dp=sorted(data['year'].unique())\n",
    "d=data.groupby(['year','brands'])['price'].mean().reset_index()\n",
    "d=d.sort_values(by=['year', 'price'], ascending=[True, False])\n",
    "for i in dp:\n",
    "    a = d[d['year']==i].head(3)\n"
   ],
   "id": "421d53b31a6bc246",
   "outputs": [],
   "execution_count": 27
  },
  {
   "metadata": {
    "ExecuteTime": {
     "end_time": "2024-11-18T07:40:07.603586Z",
     "start_time": "2024-11-18T07:40:07.599828Z"
    }
   },
   "cell_type": "code",
   "source": "year = data['year'].unique().tolist()",
   "id": "88b3f7c8a9eaa76b",
   "outputs": [],
   "execution_count": 35
  },
  {
   "metadata": {
    "ExecuteTime": {
     "end_time": "2024-11-18T07:40:32.452331Z",
     "start_time": "2024-11-18T07:40:32.448467Z"
    }
   },
   "cell_type": "code",
   "source": "year = sorted(year)",
   "id": "5b45cb23755635de",
   "outputs": [],
   "execution_count": 37
  },
  {
   "metadata": {
    "ExecuteTime": {
     "end_time": "2024-11-18T07:40:36.194804Z",
     "start_time": "2024-11-18T07:40:36.190841Z"
    }
   },
   "cell_type": "code",
   "source": "year",
   "id": "fd70d587046b040f",
   "outputs": [
    {
     "data": {
      "text/plain": [
       "[2010,\n",
       " 2011,\n",
       " 2012,\n",
       " 2013,\n",
       " 2014,\n",
       " 2015,\n",
       " 2016,\n",
       " 2017,\n",
       " 2018,\n",
       " 2019,\n",
       " 2020,\n",
       " 2021,\n",
       " 2022,\n",
       " 2023]"
      ]
     },
     "execution_count": 38,
     "metadata": {},
     "output_type": "execute_result"
    }
   ],
   "execution_count": 38
  },
  {
   "metadata": {
    "ExecuteTime": {
     "end_time": "2024-11-16T13:40:11.940489Z",
     "start_time": "2024-11-16T13:40:11.935550Z"
    }
   },
   "cell_type": "code",
   "source": "data.columns",
   "id": "d2388516e5224f18",
   "outputs": [
    {
     "data": {
      "text/plain": [
       "Index(['Unnamed: 0', 'title', '行驶距离(万公里)', 'year', '上牌时间', '年检到期', '保险到期',\n",
       "       'price', '车辆级别', '车身颜色', '驱动方式', '出厂日期', 'brands', 'label_price',\n",
       "       'label1_行驶距离'],\n",
       "      dtype='object')"
      ]
     },
     "execution_count": 3,
     "metadata": {},
     "output_type": "execute_result"
    }
   ],
   "execution_count": 3
  },
  {
   "metadata": {
    "ExecuteTime": {
     "end_time": "2024-11-16T13:56:26.299926Z",
     "start_time": "2024-11-16T13:56:26.288708Z"
    }
   },
   "cell_type": "code",
   "source": "data[(data['brands'] == '奔驰') & (data['驱动方式'] == '前置前驱')]",
   "id": "1654a372933f3025",
   "outputs": [
    {
     "data": {
      "text/plain": [
       "     Unnamed: 0                          title  行驶距离(万公里)  year     上牌时间  \\\n",
       "11           11        奔驰A级 2019款 A 200 L 运动轿车       4.00  2019  2019-09   \n",
       "132         132        奔驰GLB 2020款 GLB 200 时尚型       3.50  2019  2019-12   \n",
       "137         137     奔驰A级 2021款 A 200 L 运动轿车时尚型       2.50  2021  2021-06   \n",
       "163         163  奔驰A级 2022款 改款 A 200 L 运动轿车时尚型       2.10  2022  2022-06   \n",
       "248         248        奔驰A级 2020款 A 180 L 运动轿车       4.35  2020  2020-05   \n",
       "250         250        奔驰GLA 2015款 GLA 200 时尚型       9.47  2015  2015-12   \n",
       "486         486            奔驰GLA 2022款 GLA 200       1.58  2021  2021-10   \n",
       "533         533        奔驰GLA 2016款 GLA 200 动感型       8.90  2016  2016-07   \n",
       "574         574        奔驰GLA 2019款 GLA 200 时尚型       3.60  2019  2019-03   \n",
       "578         578        奔驰GLA 2018款 GLA 200 时尚型       3.00  2019  2019-06   \n",
       "582         582     奔驰A级 2021款 A 200 L 运动轿车动感型       0.90  2021  2021-03   \n",
       "588         588        奔驰GLA 2019款 GLA 200 时尚型       4.20  2019  2019-11   \n",
       "594         594        奔驰CLA 2018款 CLA 200 时尚型       3.60  2018  2018-09   \n",
       "598         598        奔驰CLA 2018款 CLA 200 动感型       3.30  2018  2018-12   \n",
       "602         602        奔驰A级 2019款 A 180 L 运动轿车       1.90  2019  2019-05   \n",
       "610         610        奔驰GLA 2018款 GLA 200 动感型       3.60  2019  2019-03   \n",
       "669         669        奔驰GLA 2017款 GLA 200 时尚型       7.50  2018  2018-05   \n",
       "\n",
       "        年检到期     保险到期  price    车辆级别   车身颜色  驱动方式  出厂日期 brands    label_price  \\\n",
       "11   2023-09  2023-09  15.50    紧凑型车   银/灰色  前置前驱  2019     奔驰  14.10 - 16.07   \n",
       "132  2023-12  2023-12  20.50  紧凑型SUV  香槟/棕色  前置前驱  2019     奔驰           大于20   \n",
       "137  2023-06  2023-06  18.60    紧凑型车     白色  前置前驱  2021     奔驰  18.03 - 20.00   \n",
       "163  2024-06  2023-06  18.80    紧凑型车   红/紫色  前置前驱  2022     奔驰  18.03 - 20.00   \n",
       "248  2024-05  2024-05  14.98    紧凑型车     白色  前置前驱  2020     奔驰  14.10 - 16.07   \n",
       "250  2023-12  2023-12  10.68  紧凑型SUV   银/灰色  前置前驱  2015     奔驰  10.17 - 12.13   \n",
       "486  2023-10  2023-10  21.68  紧凑型SUV     白色  前置前驱  2021     奔驰           大于20   \n",
       "533  2023-07  2023-07  11.38  紧凑型SUV     白色  前置前驱  2016     奔驰  10.17 - 12.13   \n",
       "574  2025-03  2024-03  15.98  紧凑型SUV     白色  前置前驱  2019     奔驰  14.10 - 16.07   \n",
       "578  2023-06  2023-06  14.88  紧凑型SUV   红/紫色  前置前驱  2019     奔驰  14.10 - 16.07   \n",
       "582  2023-03  2023-03  20.58    紧凑型车     白色  前置前驱  2021     奔驰           大于20   \n",
       "588  2023-11  2022-11  15.88  紧凑型SUV     白色  前置前驱  2019     奔驰  14.10 - 16.07   \n",
       "594  2024-09  2023-09  15.98    紧凑型车     白色  前置前驱  2018     奔驰  14.10 - 16.07   \n",
       "598  2022-12  2022-12  16.98    紧凑型车     白色  前置前驱  2018     奔驰  16.07 - 18.03   \n",
       "602  2023-05  2023-05  14.68    紧凑型车     白色  前置前驱  2019     奔驰  14.10 - 16.07   \n",
       "610  2025-03  2024-03  15.58  紧凑型SUV     白色  前置前驱  2019     奔驰  14.10 - 16.07   \n",
       "669  2024-05  2024-05  14.90  紧凑型SUV     白色  前置前驱  2018     奔驰  14.10 - 16.07   \n",
       "\n",
       "    label1_行驶距离  \n",
       "11    3.01-6.01  \n",
       "132   3.01-6.01  \n",
       "137   0.00-3.01  \n",
       "163   0.00-3.01  \n",
       "248   3.01-6.01  \n",
       "250  9.01-12.01  \n",
       "486   0.00-3.01  \n",
       "533   6.01-9.01  \n",
       "574   3.01-6.01  \n",
       "578   0.00-3.01  \n",
       "582   0.00-3.01  \n",
       "588   3.01-6.01  \n",
       "594   3.01-6.01  \n",
       "598   3.01-6.01  \n",
       "602   0.00-3.01  \n",
       "610   3.01-6.01  \n",
       "669   6.01-9.01  "
      ],
      "text/html": [
       "<div>\n",
       "<style scoped>\n",
       "    .dataframe tbody tr th:only-of-type {\n",
       "        vertical-align: middle;\n",
       "    }\n",
       "\n",
       "    .dataframe tbody tr th {\n",
       "        vertical-align: top;\n",
       "    }\n",
       "\n",
       "    .dataframe thead th {\n",
       "        text-align: right;\n",
       "    }\n",
       "</style>\n",
       "<table border=\"1\" class=\"dataframe\">\n",
       "  <thead>\n",
       "    <tr style=\"text-align: right;\">\n",
       "      <th></th>\n",
       "      <th>Unnamed: 0</th>\n",
       "      <th>title</th>\n",
       "      <th>行驶距离(万公里)</th>\n",
       "      <th>year</th>\n",
       "      <th>上牌时间</th>\n",
       "      <th>年检到期</th>\n",
       "      <th>保险到期</th>\n",
       "      <th>price</th>\n",
       "      <th>车辆级别</th>\n",
       "      <th>车身颜色</th>\n",
       "      <th>驱动方式</th>\n",
       "      <th>出厂日期</th>\n",
       "      <th>brands</th>\n",
       "      <th>label_price</th>\n",
       "      <th>label1_行驶距离</th>\n",
       "    </tr>\n",
       "  </thead>\n",
       "  <tbody>\n",
       "    <tr>\n",
       "      <th>11</th>\n",
       "      <td>11</td>\n",
       "      <td>奔驰A级 2019款 A 200 L 运动轿车</td>\n",
       "      <td>4.00</td>\n",
       "      <td>2019</td>\n",
       "      <td>2019-09</td>\n",
       "      <td>2023-09</td>\n",
       "      <td>2023-09</td>\n",
       "      <td>15.50</td>\n",
       "      <td>紧凑型车</td>\n",
       "      <td>银/灰色</td>\n",
       "      <td>前置前驱</td>\n",
       "      <td>2019</td>\n",
       "      <td>奔驰</td>\n",
       "      <td>14.10 - 16.07</td>\n",
       "      <td>3.01-6.01</td>\n",
       "    </tr>\n",
       "    <tr>\n",
       "      <th>132</th>\n",
       "      <td>132</td>\n",
       "      <td>奔驰GLB 2020款 GLB 200 时尚型</td>\n",
       "      <td>3.50</td>\n",
       "      <td>2019</td>\n",
       "      <td>2019-12</td>\n",
       "      <td>2023-12</td>\n",
       "      <td>2023-12</td>\n",
       "      <td>20.50</td>\n",
       "      <td>紧凑型SUV</td>\n",
       "      <td>香槟/棕色</td>\n",
       "      <td>前置前驱</td>\n",
       "      <td>2019</td>\n",
       "      <td>奔驰</td>\n",
       "      <td>大于20</td>\n",
       "      <td>3.01-6.01</td>\n",
       "    </tr>\n",
       "    <tr>\n",
       "      <th>137</th>\n",
       "      <td>137</td>\n",
       "      <td>奔驰A级 2021款 A 200 L 运动轿车时尚型</td>\n",
       "      <td>2.50</td>\n",
       "      <td>2021</td>\n",
       "      <td>2021-06</td>\n",
       "      <td>2023-06</td>\n",
       "      <td>2023-06</td>\n",
       "      <td>18.60</td>\n",
       "      <td>紧凑型车</td>\n",
       "      <td>白色</td>\n",
       "      <td>前置前驱</td>\n",
       "      <td>2021</td>\n",
       "      <td>奔驰</td>\n",
       "      <td>18.03 - 20.00</td>\n",
       "      <td>0.00-3.01</td>\n",
       "    </tr>\n",
       "    <tr>\n",
       "      <th>163</th>\n",
       "      <td>163</td>\n",
       "      <td>奔驰A级 2022款 改款 A 200 L 运动轿车时尚型</td>\n",
       "      <td>2.10</td>\n",
       "      <td>2022</td>\n",
       "      <td>2022-06</td>\n",
       "      <td>2024-06</td>\n",
       "      <td>2023-06</td>\n",
       "      <td>18.80</td>\n",
       "      <td>紧凑型车</td>\n",
       "      <td>红/紫色</td>\n",
       "      <td>前置前驱</td>\n",
       "      <td>2022</td>\n",
       "      <td>奔驰</td>\n",
       "      <td>18.03 - 20.00</td>\n",
       "      <td>0.00-3.01</td>\n",
       "    </tr>\n",
       "    <tr>\n",
       "      <th>248</th>\n",
       "      <td>248</td>\n",
       "      <td>奔驰A级 2020款 A 180 L 运动轿车</td>\n",
       "      <td>4.35</td>\n",
       "      <td>2020</td>\n",
       "      <td>2020-05</td>\n",
       "      <td>2024-05</td>\n",
       "      <td>2024-05</td>\n",
       "      <td>14.98</td>\n",
       "      <td>紧凑型车</td>\n",
       "      <td>白色</td>\n",
       "      <td>前置前驱</td>\n",
       "      <td>2020</td>\n",
       "      <td>奔驰</td>\n",
       "      <td>14.10 - 16.07</td>\n",
       "      <td>3.01-6.01</td>\n",
       "    </tr>\n",
       "    <tr>\n",
       "      <th>250</th>\n",
       "      <td>250</td>\n",
       "      <td>奔驰GLA 2015款 GLA 200 时尚型</td>\n",
       "      <td>9.47</td>\n",
       "      <td>2015</td>\n",
       "      <td>2015-12</td>\n",
       "      <td>2023-12</td>\n",
       "      <td>2023-12</td>\n",
       "      <td>10.68</td>\n",
       "      <td>紧凑型SUV</td>\n",
       "      <td>银/灰色</td>\n",
       "      <td>前置前驱</td>\n",
       "      <td>2015</td>\n",
       "      <td>奔驰</td>\n",
       "      <td>10.17 - 12.13</td>\n",
       "      <td>9.01-12.01</td>\n",
       "    </tr>\n",
       "    <tr>\n",
       "      <th>486</th>\n",
       "      <td>486</td>\n",
       "      <td>奔驰GLA 2022款 GLA 200</td>\n",
       "      <td>1.58</td>\n",
       "      <td>2021</td>\n",
       "      <td>2021-10</td>\n",
       "      <td>2023-10</td>\n",
       "      <td>2023-10</td>\n",
       "      <td>21.68</td>\n",
       "      <td>紧凑型SUV</td>\n",
       "      <td>白色</td>\n",
       "      <td>前置前驱</td>\n",
       "      <td>2021</td>\n",
       "      <td>奔驰</td>\n",
       "      <td>大于20</td>\n",
       "      <td>0.00-3.01</td>\n",
       "    </tr>\n",
       "    <tr>\n",
       "      <th>533</th>\n",
       "      <td>533</td>\n",
       "      <td>奔驰GLA 2016款 GLA 200 动感型</td>\n",
       "      <td>8.90</td>\n",
       "      <td>2016</td>\n",
       "      <td>2016-07</td>\n",
       "      <td>2023-07</td>\n",
       "      <td>2023-07</td>\n",
       "      <td>11.38</td>\n",
       "      <td>紧凑型SUV</td>\n",
       "      <td>白色</td>\n",
       "      <td>前置前驱</td>\n",
       "      <td>2016</td>\n",
       "      <td>奔驰</td>\n",
       "      <td>10.17 - 12.13</td>\n",
       "      <td>6.01-9.01</td>\n",
       "    </tr>\n",
       "    <tr>\n",
       "      <th>574</th>\n",
       "      <td>574</td>\n",
       "      <td>奔驰GLA 2019款 GLA 200 时尚型</td>\n",
       "      <td>3.60</td>\n",
       "      <td>2019</td>\n",
       "      <td>2019-03</td>\n",
       "      <td>2025-03</td>\n",
       "      <td>2024-03</td>\n",
       "      <td>15.98</td>\n",
       "      <td>紧凑型SUV</td>\n",
       "      <td>白色</td>\n",
       "      <td>前置前驱</td>\n",
       "      <td>2019</td>\n",
       "      <td>奔驰</td>\n",
       "      <td>14.10 - 16.07</td>\n",
       "      <td>3.01-6.01</td>\n",
       "    </tr>\n",
       "    <tr>\n",
       "      <th>578</th>\n",
       "      <td>578</td>\n",
       "      <td>奔驰GLA 2018款 GLA 200 时尚型</td>\n",
       "      <td>3.00</td>\n",
       "      <td>2019</td>\n",
       "      <td>2019-06</td>\n",
       "      <td>2023-06</td>\n",
       "      <td>2023-06</td>\n",
       "      <td>14.88</td>\n",
       "      <td>紧凑型SUV</td>\n",
       "      <td>红/紫色</td>\n",
       "      <td>前置前驱</td>\n",
       "      <td>2019</td>\n",
       "      <td>奔驰</td>\n",
       "      <td>14.10 - 16.07</td>\n",
       "      <td>0.00-3.01</td>\n",
       "    </tr>\n",
       "    <tr>\n",
       "      <th>582</th>\n",
       "      <td>582</td>\n",
       "      <td>奔驰A级 2021款 A 200 L 运动轿车动感型</td>\n",
       "      <td>0.90</td>\n",
       "      <td>2021</td>\n",
       "      <td>2021-03</td>\n",
       "      <td>2023-03</td>\n",
       "      <td>2023-03</td>\n",
       "      <td>20.58</td>\n",
       "      <td>紧凑型车</td>\n",
       "      <td>白色</td>\n",
       "      <td>前置前驱</td>\n",
       "      <td>2021</td>\n",
       "      <td>奔驰</td>\n",
       "      <td>大于20</td>\n",
       "      <td>0.00-3.01</td>\n",
       "    </tr>\n",
       "    <tr>\n",
       "      <th>588</th>\n",
       "      <td>588</td>\n",
       "      <td>奔驰GLA 2019款 GLA 200 时尚型</td>\n",
       "      <td>4.20</td>\n",
       "      <td>2019</td>\n",
       "      <td>2019-11</td>\n",
       "      <td>2023-11</td>\n",
       "      <td>2022-11</td>\n",
       "      <td>15.88</td>\n",
       "      <td>紧凑型SUV</td>\n",
       "      <td>白色</td>\n",
       "      <td>前置前驱</td>\n",
       "      <td>2019</td>\n",
       "      <td>奔驰</td>\n",
       "      <td>14.10 - 16.07</td>\n",
       "      <td>3.01-6.01</td>\n",
       "    </tr>\n",
       "    <tr>\n",
       "      <th>594</th>\n",
       "      <td>594</td>\n",
       "      <td>奔驰CLA 2018款 CLA 200 时尚型</td>\n",
       "      <td>3.60</td>\n",
       "      <td>2018</td>\n",
       "      <td>2018-09</td>\n",
       "      <td>2024-09</td>\n",
       "      <td>2023-09</td>\n",
       "      <td>15.98</td>\n",
       "      <td>紧凑型车</td>\n",
       "      <td>白色</td>\n",
       "      <td>前置前驱</td>\n",
       "      <td>2018</td>\n",
       "      <td>奔驰</td>\n",
       "      <td>14.10 - 16.07</td>\n",
       "      <td>3.01-6.01</td>\n",
       "    </tr>\n",
       "    <tr>\n",
       "      <th>598</th>\n",
       "      <td>598</td>\n",
       "      <td>奔驰CLA 2018款 CLA 200 动感型</td>\n",
       "      <td>3.30</td>\n",
       "      <td>2018</td>\n",
       "      <td>2018-12</td>\n",
       "      <td>2022-12</td>\n",
       "      <td>2022-12</td>\n",
       "      <td>16.98</td>\n",
       "      <td>紧凑型车</td>\n",
       "      <td>白色</td>\n",
       "      <td>前置前驱</td>\n",
       "      <td>2018</td>\n",
       "      <td>奔驰</td>\n",
       "      <td>16.07 - 18.03</td>\n",
       "      <td>3.01-6.01</td>\n",
       "    </tr>\n",
       "    <tr>\n",
       "      <th>602</th>\n",
       "      <td>602</td>\n",
       "      <td>奔驰A级 2019款 A 180 L 运动轿车</td>\n",
       "      <td>1.90</td>\n",
       "      <td>2019</td>\n",
       "      <td>2019-05</td>\n",
       "      <td>2023-05</td>\n",
       "      <td>2023-05</td>\n",
       "      <td>14.68</td>\n",
       "      <td>紧凑型车</td>\n",
       "      <td>白色</td>\n",
       "      <td>前置前驱</td>\n",
       "      <td>2019</td>\n",
       "      <td>奔驰</td>\n",
       "      <td>14.10 - 16.07</td>\n",
       "      <td>0.00-3.01</td>\n",
       "    </tr>\n",
       "    <tr>\n",
       "      <th>610</th>\n",
       "      <td>610</td>\n",
       "      <td>奔驰GLA 2018款 GLA 200 动感型</td>\n",
       "      <td>3.60</td>\n",
       "      <td>2019</td>\n",
       "      <td>2019-03</td>\n",
       "      <td>2025-03</td>\n",
       "      <td>2024-03</td>\n",
       "      <td>15.58</td>\n",
       "      <td>紧凑型SUV</td>\n",
       "      <td>白色</td>\n",
       "      <td>前置前驱</td>\n",
       "      <td>2019</td>\n",
       "      <td>奔驰</td>\n",
       "      <td>14.10 - 16.07</td>\n",
       "      <td>3.01-6.01</td>\n",
       "    </tr>\n",
       "    <tr>\n",
       "      <th>669</th>\n",
       "      <td>669</td>\n",
       "      <td>奔驰GLA 2017款 GLA 200 时尚型</td>\n",
       "      <td>7.50</td>\n",
       "      <td>2018</td>\n",
       "      <td>2018-05</td>\n",
       "      <td>2024-05</td>\n",
       "      <td>2024-05</td>\n",
       "      <td>14.90</td>\n",
       "      <td>紧凑型SUV</td>\n",
       "      <td>白色</td>\n",
       "      <td>前置前驱</td>\n",
       "      <td>2018</td>\n",
       "      <td>奔驰</td>\n",
       "      <td>14.10 - 16.07</td>\n",
       "      <td>6.01-9.01</td>\n",
       "    </tr>\n",
       "  </tbody>\n",
       "</table>\n",
       "</div>"
      ]
     },
     "execution_count": 5,
     "metadata": {},
     "output_type": "execute_result"
    }
   ],
   "execution_count": 5
  },
  {
   "metadata": {
    "ExecuteTime": {
     "end_time": "2024-11-18T01:12:22.276490Z",
     "start_time": "2024-11-18T01:12:22.270375Z"
    }
   },
   "cell_type": "code",
   "source": "data['驱动方式'].value_counts()",
   "id": "bcdedf204efd0ea0",
   "outputs": [
    {
     "data": {
      "text/plain": [
       "驱动方式\n",
       "前置前驱     307\n",
       "前置四驱     257\n",
       "前置后驱     106\n",
       "双电机四驱     12\n",
       "后置后驱       8\n",
       "中置后驱       4\n",
       "Name: count, dtype: int64"
      ]
     },
     "execution_count": 11,
     "metadata": {},
     "output_type": "execute_result"
    }
   ],
   "execution_count": 11
  },
  {
   "metadata": {
    "ExecuteTime": {
     "end_time": "2024-11-18T01:31:47.999682Z",
     "start_time": "2024-11-18T01:31:47.994691Z"
    }
   },
   "cell_type": "code",
   "source": [
    "#\n",
    "data.groupby('brands')['price'].mean().sort_values(ascending=False)"
   ],
   "id": "2e7e7a4a7644d138",
   "outputs": [
    {
     "data": {
      "text/plain": [
       "brands\n",
       "古思特      248.000000\n",
       "飞驰       188.440000\n",
       "日产       169.800000\n",
       "迈巴赫      146.800000\n",
       "雷克萨斯     105.609333\n",
       "            ...    \n",
       "福克斯        4.626667\n",
       "QQ冰淇淋      4.160000\n",
       "小蚂蚁        3.980000\n",
       "帝豪新能源      3.980000\n",
       "雨燕         2.300000\n",
       "Name: price, Length: 154, dtype: float64"
      ]
     },
     "execution_count": 13,
     "metadata": {},
     "output_type": "execute_result"
    }
   ],
   "execution_count": 13
  },
  {
   "metadata": {
    "ExecuteTime": {
     "end_time": "2024-11-18T02:14:10.733903Z",
     "start_time": "2024-11-18T02:14:10.725580Z"
    }
   },
   "cell_type": "code",
   "source": [
    "#各价格区间的数量\n",
    "data['label_price'].value_counts()"
   ],
   "id": "91243faf2a38b79a",
   "outputs": [
    {
     "data": {
      "text/plain": [
       "label_price\n",
       "大于20             311\n",
       "8.20 - 10.17      66\n",
       "6.23 - 8.20       51\n",
       "10.17 - 12.13     47\n",
       "14.10 - 16.07     47\n",
       "16.07 - 18.03     40\n",
       "18.03 - 20.00     32\n",
       "12.13 - 14.10     29\n",
       "4.27 - 6.23       25\n",
       "2.30 - 4.27        8\n",
       "Name: count, dtype: int64"
      ]
     },
     "execution_count": 14,
     "metadata": {},
     "output_type": "execute_result"
    }
   ],
   "execution_count": 14
  },
  {
   "metadata": {
    "ExecuteTime": {
     "end_time": "2024-11-18T09:01:08.233745Z",
     "start_time": "2024-11-18T09:01:08.160985Z"
    }
   },
   "cell_type": "code",
   "source": [
    "import pandas as pd\n",
    "\n",
    "data = pd.read_csv('./data/二手车上牌数据处理.csv')\n",
    "data['上牌时间'] = pd.to_datetime(data['上牌时间'])\n",
    "year=data['year'].unique().tolist()\n",
    "year=sorted(year)\n",
    "result= pd.DataFrame(columns=['上牌时间间隔', 'count'])\n",
    "for i in year:\n",
    "    def calculate_time_interval(row):\n",
    "        if row['上牌时间'].year > i:\n",
    "            return '未上牌'\n",
    "        else:\n",
    "            return i - row['上牌时间'].year\n",
    "    \n",
    "    data['上牌时间间隔'] = data.apply(calculate_time_interval, axis=1)\n",
    "    p=data.groupby('上牌时间间隔').size().reset_index(name='count')\n",
    "    p['year']=i\n",
    "    result = pd.concat([result, p],ignore_index=True)\n",
    "result"
   ],
   "id": "87870bfde6f72bfd",
   "outputs": [
    {
     "data": {
      "text/plain": [
       "    上牌时间间隔 count    year\n",
       "0        0     5  2010.0\n",
       "1      未上牌   689  2010.0\n",
       "2        0     7  2011.0\n",
       "3        1     5  2011.0\n",
       "4      未上牌   682  2011.0\n",
       "..     ...   ...     ...\n",
       "113      9    23  2023.0\n",
       "114     10    21  2023.0\n",
       "115     11     3  2023.0\n",
       "116     12     7  2023.0\n",
       "117     13     5  2023.0\n",
       "\n",
       "[118 rows x 3 columns]"
      ],
      "text/html": [
       "<div>\n",
       "<style scoped>\n",
       "    .dataframe tbody tr th:only-of-type {\n",
       "        vertical-align: middle;\n",
       "    }\n",
       "\n",
       "    .dataframe tbody tr th {\n",
       "        vertical-align: top;\n",
       "    }\n",
       "\n",
       "    .dataframe thead th {\n",
       "        text-align: right;\n",
       "    }\n",
       "</style>\n",
       "<table border=\"1\" class=\"dataframe\">\n",
       "  <thead>\n",
       "    <tr style=\"text-align: right;\">\n",
       "      <th></th>\n",
       "      <th>上牌时间间隔</th>\n",
       "      <th>count</th>\n",
       "      <th>year</th>\n",
       "    </tr>\n",
       "  </thead>\n",
       "  <tbody>\n",
       "    <tr>\n",
       "      <th>0</th>\n",
       "      <td>0</td>\n",
       "      <td>5</td>\n",
       "      <td>2010.0</td>\n",
       "    </tr>\n",
       "    <tr>\n",
       "      <th>1</th>\n",
       "      <td>未上牌</td>\n",
       "      <td>689</td>\n",
       "      <td>2010.0</td>\n",
       "    </tr>\n",
       "    <tr>\n",
       "      <th>2</th>\n",
       "      <td>0</td>\n",
       "      <td>7</td>\n",
       "      <td>2011.0</td>\n",
       "    </tr>\n",
       "    <tr>\n",
       "      <th>3</th>\n",
       "      <td>1</td>\n",
       "      <td>5</td>\n",
       "      <td>2011.0</td>\n",
       "    </tr>\n",
       "    <tr>\n",
       "      <th>4</th>\n",
       "      <td>未上牌</td>\n",
       "      <td>682</td>\n",
       "      <td>2011.0</td>\n",
       "    </tr>\n",
       "    <tr>\n",
       "      <th>...</th>\n",
       "      <td>...</td>\n",
       "      <td>...</td>\n",
       "      <td>...</td>\n",
       "    </tr>\n",
       "    <tr>\n",
       "      <th>113</th>\n",
       "      <td>9</td>\n",
       "      <td>23</td>\n",
       "      <td>2023.0</td>\n",
       "    </tr>\n",
       "    <tr>\n",
       "      <th>114</th>\n",
       "      <td>10</td>\n",
       "      <td>21</td>\n",
       "      <td>2023.0</td>\n",
       "    </tr>\n",
       "    <tr>\n",
       "      <th>115</th>\n",
       "      <td>11</td>\n",
       "      <td>3</td>\n",
       "      <td>2023.0</td>\n",
       "    </tr>\n",
       "    <tr>\n",
       "      <th>116</th>\n",
       "      <td>12</td>\n",
       "      <td>7</td>\n",
       "      <td>2023.0</td>\n",
       "    </tr>\n",
       "    <tr>\n",
       "      <th>117</th>\n",
       "      <td>13</td>\n",
       "      <td>5</td>\n",
       "      <td>2023.0</td>\n",
       "    </tr>\n",
       "  </tbody>\n",
       "</table>\n",
       "<p>118 rows × 3 columns</p>\n",
       "</div>"
      ]
     },
     "execution_count": 58,
     "metadata": {},
     "output_type": "execute_result"
    }
   ],
   "execution_count": 58
  },
  {
   "metadata": {
    "ExecuteTime": {
     "end_time": "2024-11-18T09:03:09.450855Z",
     "start_time": "2024-11-18T09:03:09.381248Z"
    }
   },
   "cell_type": "code",
   "source": [
    "import pandas as pd\n",
    "from pyecharts.charts import Timeline, Line,Bar,Pie\n",
    "from pyecharts import options as opts\n",
    "from pyecharts.globals import ThemeType\n",
    "from pyecharts.commons.utils import JsCode\n",
    "def get_data6(data='./data/二手车上牌数据处理.csv',data_score='上牌时间间隔'):\n",
    "    data = pd.read_csv('./data/二手车上牌数据处理.csv')\n",
    "    data['上牌时间'] = pd.to_datetime(data['上牌时间'])\n",
    "    year=data['year'].unique().tolist()\n",
    "    year=sorted(year)\n",
    "    tab=Tab()\n",
    "    for i in year:\n",
    "        def calculate_time_interval(row):\n",
    "            if row['上牌时间'].year > i:\n",
    "                return '未上牌'\n",
    "            else:\n",
    "                return str(i - row['上牌时间'].year)\n",
    "        \n",
    "        data['上牌时间间隔'] = data.apply(calculate_time_interval, axis=1)\n",
    "        df=data.groupby('上牌时间间隔').size().reset_index(name='count').values.tolist()\n",
    "        pie = (Pie(init_opts=opts.InitOpts(theme=ThemeType.DARK))\n",
    "               .add(series_name='上牌时间间隔', data_pair=df,\n",
    "                    radius=['20%', '40%'], center=['50%', '50%'], rosetype='area',label_opts=opts.LabelOpts(formatter='{b},{c}\\n百分占比{d}%'),) # 标签配置)\n",
    "               .set_global_opts(title_opts=[\n",
    "                   dict(text='上牌时间间隔', top=0, left='center'),\n",
    "                  \n",
    "               ], legend_opts=opts.LegendOpts(pos_top='7%'))\n",
    "              \n",
    "              )\n",
    "        \n",
    "    \n",
    "        tab.add(pie, str(i))\n",
    "    return tab \n",
    "     \n",
    "\n",
    "get_data6(data='./data/二手车上牌数据处理.csv',data_score='上牌时间间隔').render('./result/上牌时间间隔.html')\n",
    "    \n",
    "    "
   ],
   "id": "c8c3b116b0f3752",
   "outputs": [
    {
     "data": {
      "text/plain": [
       "'C:\\\\Users\\\\wang\\\\Desktop\\\\pyLearn\\\\作业\\\\whole\\\\result\\\\上牌时间间隔.html'"
      ]
     },
     "execution_count": 61,
     "metadata": {},
     "output_type": "execute_result"
    }
   ],
   "execution_count": 61
  },
  {
   "metadata": {
    "ExecuteTime": {
     "end_time": "2024-11-18T08:41:12.490933Z",
     "start_time": "2024-11-18T08:41:12.487389Z"
    }
   },
   "cell_type": "code",
   "source": "result= pd.DataFrame(columns=['上牌时间间隔', 'count'])",
   "id": "39042c57c22a24dd",
   "outputs": [],
   "execution_count": 48
  },
  {
   "metadata": {
    "ExecuteTime": {
     "end_time": "2024-11-18T09:06:52.257080Z",
     "start_time": "2024-11-18T09:06:52.195798Z"
    }
   },
   "cell_type": "code",
   "source": "data['年检到期'].dt.year",
   "id": "2cebe9a35f2a9deb",
   "outputs": [
    {
     "ename": "AttributeError",
     "evalue": "Can only use .dt accessor with datetimelike values",
     "output_type": "error",
     "traceback": [
      "\u001B[1;31m---------------------------------------------------------------------------\u001B[0m",
      "\u001B[1;31mAttributeError\u001B[0m                            Traceback (most recent call last)",
      "Cell \u001B[1;32mIn[64], line 1\u001B[0m\n\u001B[1;32m----> 1\u001B[0m data[\u001B[38;5;124m'\u001B[39m\u001B[38;5;124m年检到期\u001B[39m\u001B[38;5;124m'\u001B[39m]\u001B[38;5;241m.\u001B[39mdt\u001B[38;5;241m.\u001B[39myear\n",
      "File \u001B[1;32mD:\\Anaconda3\\Lib\\site-packages\\pandas\\core\\generic.py:6299\u001B[0m, in \u001B[0;36mNDFrame.__getattr__\u001B[1;34m(self, name)\u001B[0m\n\u001B[0;32m   6292\u001B[0m \u001B[38;5;28;01mif\u001B[39;00m (\n\u001B[0;32m   6293\u001B[0m     name \u001B[38;5;129;01mnot\u001B[39;00m \u001B[38;5;129;01min\u001B[39;00m \u001B[38;5;28mself\u001B[39m\u001B[38;5;241m.\u001B[39m_internal_names_set\n\u001B[0;32m   6294\u001B[0m     \u001B[38;5;129;01mand\u001B[39;00m name \u001B[38;5;129;01mnot\u001B[39;00m \u001B[38;5;129;01min\u001B[39;00m \u001B[38;5;28mself\u001B[39m\u001B[38;5;241m.\u001B[39m_metadata\n\u001B[0;32m   6295\u001B[0m     \u001B[38;5;129;01mand\u001B[39;00m name \u001B[38;5;129;01mnot\u001B[39;00m \u001B[38;5;129;01min\u001B[39;00m \u001B[38;5;28mself\u001B[39m\u001B[38;5;241m.\u001B[39m_accessors\n\u001B[0;32m   6296\u001B[0m     \u001B[38;5;129;01mand\u001B[39;00m \u001B[38;5;28mself\u001B[39m\u001B[38;5;241m.\u001B[39m_info_axis\u001B[38;5;241m.\u001B[39m_can_hold_identifiers_and_holds_name(name)\n\u001B[0;32m   6297\u001B[0m ):\n\u001B[0;32m   6298\u001B[0m     \u001B[38;5;28;01mreturn\u001B[39;00m \u001B[38;5;28mself\u001B[39m[name]\n\u001B[1;32m-> 6299\u001B[0m \u001B[38;5;28;01mreturn\u001B[39;00m \u001B[38;5;28mobject\u001B[39m\u001B[38;5;241m.\u001B[39m\u001B[38;5;21m__getattribute__\u001B[39m(\u001B[38;5;28mself\u001B[39m, name)\n",
      "File \u001B[1;32mD:\\Anaconda3\\Lib\\site-packages\\pandas\\core\\accessor.py:224\u001B[0m, in \u001B[0;36mCachedAccessor.__get__\u001B[1;34m(self, obj, cls)\u001B[0m\n\u001B[0;32m    221\u001B[0m \u001B[38;5;28;01mif\u001B[39;00m obj \u001B[38;5;129;01mis\u001B[39;00m \u001B[38;5;28;01mNone\u001B[39;00m:\n\u001B[0;32m    222\u001B[0m     \u001B[38;5;66;03m# we're accessing the attribute of the class, i.e., Dataset.geo\u001B[39;00m\n\u001B[0;32m    223\u001B[0m     \u001B[38;5;28;01mreturn\u001B[39;00m \u001B[38;5;28mself\u001B[39m\u001B[38;5;241m.\u001B[39m_accessor\n\u001B[1;32m--> 224\u001B[0m accessor_obj \u001B[38;5;241m=\u001B[39m \u001B[38;5;28mself\u001B[39m\u001B[38;5;241m.\u001B[39m_accessor(obj)\n\u001B[0;32m    225\u001B[0m \u001B[38;5;66;03m# Replace the property with the accessor object. Inspired by:\u001B[39;00m\n\u001B[0;32m    226\u001B[0m \u001B[38;5;66;03m# https://www.pydanny.com/cached-property.html\u001B[39;00m\n\u001B[0;32m    227\u001B[0m \u001B[38;5;66;03m# We need to use object.__setattr__ because we overwrite __setattr__ on\u001B[39;00m\n\u001B[0;32m    228\u001B[0m \u001B[38;5;66;03m# NDFrame\u001B[39;00m\n\u001B[0;32m    229\u001B[0m \u001B[38;5;28mobject\u001B[39m\u001B[38;5;241m.\u001B[39m\u001B[38;5;21m__setattr__\u001B[39m(obj, \u001B[38;5;28mself\u001B[39m\u001B[38;5;241m.\u001B[39m_name, accessor_obj)\n",
      "File \u001B[1;32mD:\\Anaconda3\\Lib\\site-packages\\pandas\\core\\indexes\\accessors.py:643\u001B[0m, in \u001B[0;36mCombinedDatetimelikeProperties.__new__\u001B[1;34m(cls, data)\u001B[0m\n\u001B[0;32m    640\u001B[0m \u001B[38;5;28;01melif\u001B[39;00m \u001B[38;5;28misinstance\u001B[39m(data\u001B[38;5;241m.\u001B[39mdtype, PeriodDtype):\n\u001B[0;32m    641\u001B[0m     \u001B[38;5;28;01mreturn\u001B[39;00m PeriodProperties(data, orig)\n\u001B[1;32m--> 643\u001B[0m \u001B[38;5;28;01mraise\u001B[39;00m \u001B[38;5;167;01mAttributeError\u001B[39;00m(\u001B[38;5;124m\"\u001B[39m\u001B[38;5;124mCan only use .dt accessor with datetimelike values\u001B[39m\u001B[38;5;124m\"\u001B[39m)\n",
      "\u001B[1;31mAttributeError\u001B[0m: Can only use .dt accessor with datetimelike values"
     ]
    }
   ],
   "execution_count": 64
  },
  {
   "metadata": {
    "ExecuteTime": {
     "end_time": "2024-11-18T10:06:05.092179Z",
     "start_time": "2024-11-18T10:06:05.032697Z"
    }
   },
   "cell_type": "code",
   "source": [
    "import pandas as pd\n",
    "from pyecharts.charts import Timeline, Line,Bar,Pie\n",
    "from pyecharts import options as opts\n",
    "from pyecharts.globals import ThemeType\n",
    "from pyecharts.commons.utils import JsCode\n",
    "def get_data7(data='./data/二手车上牌数据处理.csv',data_score='保险到期'):\n",
    "    data = pd.read_csv('./data/二手车上牌数据处理.csv')\n",
    "    data['保险到期'] = pd.to_datetime(data['保险到期'])\n",
    "    year=data['year'].unique().tolist()\n",
    "    year=sorted(year)\n",
    "    tab=Tab()\n",
    "    for i in year:\n",
    "        def calculate_time_interval(row):\n",
    "            if row['保险到期'].year > i:\n",
    "                return '保险未过期'\n",
    "            else:\n",
    "                return str(i - row['保险到期'].year)\n",
    "        \n",
    "        data['保险时间间隔'] = data.apply(calculate_time_interval, axis=1)\n",
    "        df=data.groupby('保险时间间隔').size().reset_index(name='count').values.tolist()\n",
    "        pie = (Pie(init_opts=opts.InitOpts(theme=ThemeType.DARK))\n",
    "               .add(series_name='保险时间间隔', data_pair=df,\n",
    "                    radius=['20%', '40%'], center=['50%', '50%'], rosetype='area',label_opts=opts.LabelOpts(formatter='{b},{c}\\n百分占比{d}%'),) # 标签配置)\n",
    "               .set_global_opts(title_opts=[\n",
    "                   dict(text='保险时间间隔', top=0, left='center'),\n",
    "                  \n",
    "               ], legend_opts=opts.LegendOpts(pos_top='7%'))\n",
    "              \n",
    "              )\n",
    "        \n",
    "    \n",
    "        tab.add(pie, str(i))\n",
    "    return tab \n",
    "     \n",
    "\n",
    "get_data7(data='./data/二手车上牌数据处理.csv',data_score='保险到期').render('./result/保险的饼图情况分布.html')\n",
    "    \n",
    "    "
   ],
   "id": "92b9aa4c5b962b85",
   "outputs": [
    {
     "data": {
      "text/plain": [
       "'C:\\\\Users\\\\wang\\\\Desktop\\\\pyLearn\\\\作业\\\\whole\\\\result\\\\保险的饼图情况分布.html'"
      ]
     },
     "execution_count": 7,
     "metadata": {},
     "output_type": "execute_result"
    }
   ],
   "execution_count": 7
  },
  {
   "metadata": {
    "ExecuteTime": {
     "end_time": "2024-11-18T15:22:58.935910Z",
     "start_time": "2024-11-18T15:22:58.932188Z"
    }
   },
   "cell_type": "code",
   "source": [
    "def read_html(path):\n",
    "    with open(path, 'r', encoding='utf-8') as f:\n",
    "        data = f.read()\n",
    "    return data"
   ],
   "id": "5e73d412c0563414",
   "outputs": [],
   "execution_count": 27
  },
  {
   "metadata": {
    "ExecuteTime": {
     "end_time": "2024-11-18T15:23:16.869364Z",
     "start_time": "2024-11-18T15:23:16.839811Z"
    }
   },
   "cell_type": "code",
   "source": [
    "page1 = Page(layout=Page.SimplePageLayout)\n",
    "page1.add(\n",
    "    read_html('result/不通车辆颜色喜爱程度柱形图.html')\n",
    ")\n",
    "page1.render()"
   ],
   "id": "e78c09c707558a",
   "outputs": [
    {
     "ename": "AttributeError",
     "evalue": "'str' object has no attribute 'js_dependencies'",
     "output_type": "error",
     "traceback": [
      "\u001B[1;31m---------------------------------------------------------------------------\u001B[0m",
      "\u001B[1;31mAttributeError\u001B[0m                            Traceback (most recent call last)",
      "Cell \u001B[1;32mIn[28], line 2\u001B[0m\n\u001B[0;32m      1\u001B[0m page1 \u001B[38;5;241m=\u001B[39m Page(layout\u001B[38;5;241m=\u001B[39mPage\u001B[38;5;241m.\u001B[39mSimplePageLayout)\n\u001B[1;32m----> 2\u001B[0m page1\u001B[38;5;241m.\u001B[39madd(\n\u001B[0;32m      3\u001B[0m     read_html(\u001B[38;5;124m'\u001B[39m\u001B[38;5;124mresult/不通车辆颜色喜爱程度柱形图.html\u001B[39m\u001B[38;5;124m'\u001B[39m)\n\u001B[0;32m      4\u001B[0m )\n\u001B[0;32m      5\u001B[0m page1\u001B[38;5;241m.\u001B[39mrender()\n",
      "File \u001B[1;32mD:\\Anaconda3\\Lib\\site-packages\\pyecharts\\charts\\composite_charts\\page.py:79\u001B[0m, in \u001B[0;36mPage.add\u001B[1;34m(self, *charts)\u001B[0m\n\u001B[0;32m     77\u001B[0m \u001B[38;5;28;01mfor\u001B[39;00m c \u001B[38;5;129;01min\u001B[39;00m charts:\n\u001B[0;32m     78\u001B[0m     \u001B[38;5;28mself\u001B[39m\u001B[38;5;241m.\u001B[39m_charts\u001B[38;5;241m.\u001B[39mappend(c)\n\u001B[1;32m---> 79\u001B[0m     \u001B[38;5;28;01mfor\u001B[39;00m d \u001B[38;5;129;01min\u001B[39;00m c\u001B[38;5;241m.\u001B[39mjs_dependencies\u001B[38;5;241m.\u001B[39mitems:\n\u001B[0;32m     80\u001B[0m         \u001B[38;5;28mself\u001B[39m\u001B[38;5;241m.\u001B[39mjs_dependencies\u001B[38;5;241m.\u001B[39madd(d)\n\u001B[0;32m     81\u001B[0m \u001B[38;5;28;01mreturn\u001B[39;00m \u001B[38;5;28mself\u001B[39m\n",
      "\u001B[1;31mAttributeError\u001B[0m: 'str' object has no attribute 'js_dependencies'"
     ]
    }
   ],
   "execution_count": 28
  },
  {
   "metadata": {
    "ExecuteTime": {
     "end_time": "2024-11-18T14:46:34.114121Z",
     "start_time": "2024-11-18T14:46:34.108613Z"
    }
   },
   "cell_type": "code",
   "source": [
    "import pandas as pd\n",
    "from pyecharts.charts import Timeline, Line,Bar,Pie\n",
    "from pyecharts import options as opts\n",
    "from pyecharts.globals import ThemeType\n",
    "from pyecharts.commons.utils import JsCode\n",
    "def get_data7(data='./data/二手车上牌数据处理.csv',data_score='年检到期'):\n",
    "    data = pd.read_csv('./data/二手车上牌数据处理.csv')\n",
    "    data[data_score] = pd.to_datetime(data[data_score])\n",
    "    year=data['year'].unique().tolist()\n",
    "    year=sorted(year)\n",
    "    tab=Tab()\n",
    "    for i in year:\n",
    "        def calculate_time_interval(row):\n",
    "            if row[data_score].year > i:\n",
    "                return f'{data_score}未过期'\n",
    "            else:\n",
    "                return str(i - row[data_score].year)\n",
    "        \n",
    "        data[f'{data_score}间隔'] = data.apply(calculate_time_interval, axis=1)\n",
    "        df=data.groupby(f'{data_score}间隔').size().reset_index(name='count').values.tolist()\n",
    "        pie = (Pie(init_opts=opts.InitOpts(theme=ThemeType.DARK))\n",
    "               .add(series_name=f'{data_score}间隔', data_pair=df,\n",
    "                    radius=['20%', '40%'], center=['50%', '50%'], rosetype='area',label_opts=opts.LabelOpts(formatter='{b},{c}\\n百分占比{d}%'),) # 标签配置)\n",
    "               .set_global_opts(title_opts=[\n",
    "                   dict(text=f'{data_score}间隔', top=0, left='center'),\n",
    "                  \n",
    "               ], legend_opts=opts.LegendOpts(pos_top='7%'))\n",
    "              \n",
    "              )\n",
    "        \n",
    "    \n",
    "        tab.add(pie, str(i))\n",
    "    return tab \n",
    "     \n",
    "# \n",
    "# get_data7(data='./data/二手车上牌数据处理.csv',data_score='年检到期').render('./result/年检到期的饼图分布.html')\n",
    "# get_data7(data='./data/二手车上牌数据处理.csv',data_score='保险到期').render('./result/保险到期的饼图分布.html')    \n",
    "# get_data7(data='./data/二手车上牌数据处理.csv',data_score='上牌时间').render('./result/上牌时间的饼图分布.html')   "
   ],
   "id": "72341fb8db9465bd",
   "outputs": [],
   "execution_count": 15
  },
  {
   "metadata": {
    "ExecuteTime": {
     "end_time": "2024-11-18T14:49:57.129601Z",
     "start_time": "2024-11-18T14:49:57.109125Z"
    }
   },
   "cell_type": "code",
   "source": [
    "data = pd.read_csv('./data/二手车整理数据完整.csv')\n",
    "dp1 = data.groupby('year')['行驶距离(万公里)'].sum().reset_index()\n",
    "dp11 = data['year'].value_counts().reset_index()\n",
    "dp111=pd.merge(dp1,dp11,on='year')\n",
    "dp111['mean'] = (dp111['行驶距离(万公里)'] / dp111['count']).round(2)\n",
    "dp111 = dp111.values.tolist()"
   ],
   "id": "ce7fb2b324ce29d1",
   "outputs": [],
   "execution_count": 19
  },
  {
   "metadata": {
    "ExecuteTime": {
     "end_time": "2024-11-18T14:50:56.872405Z",
     "start_time": "2024-11-18T14:50:56.867240Z"
    }
   },
   "cell_type": "code",
   "source": [
    "itemstyle2 = {\n",
    "    'normal': {\n",
    "        'color': JsCode(\"\"\"new echarts.graphic.LinearGradient(0, 0, 1, 1, [\n",
    "          { offset: 0, color: 'rgb(40, 141, 125)' },\n",
    "          { offset: 1, color: 'rgb(199, 229, 227)' }\n",
    "        ],)\"\"\"),\n",
    "        'barBorderRadius': [20,20,20,20],      #  柱子的四个角圆角设计\n",
    "        'shadowColor':'rgba(108,80,243,0.9)', # 阴影的颜色\n",
    "        'shadowBlur':5, # 阴影的宽度\n",
    "        'width': 4,\n",
    "    }\n",
    "}\n",
    "itemstyle1 = {\n",
    "    'normal': {\n",
    "        'color': JsCode(\"\"\"new echarts.graphic.LinearGradient(0, 0, 0, 1, [\n",
    "            {offset: 0, color: 'rgba(255, 0, 0, 1)'},\n",
    "            {offset: 1, color: 'rgba(0, 255, 0, 1)'}\n",
    "        ], false)\"\"\"),\n",
    "        'lineStyle': {\n",
    "            'width': 4,\n",
    "            'type': 'solid',\n",
    "            'color': JsCode(\"\"\"new echarts.graphic.LinearGradient(0, 0, 0, 1, [\n",
    "                {offset: 0, color: 'rgba(255, 0, 0, 0.5)'},\n",
    "                {offset: 1, color: 'rgba(0, 255, 0, 0.5)'}\n",
    "            ], false)\"\"\"),\n",
    "        },\n",
    "        'borderColor': 'rgba(0, 0, 0, 0.5)',\n",
    "        'borderWidth': 8,\n",
    "        'shadowColor': 'rgba(0, 0, 0, 0.4)',\n",
    "        'shadowBlur': 10,\n",
    "        'shadowOffsetY': 10,\n",
    "    }\n",
    "}"
   ],
   "id": "da12a1aad279a701",
   "outputs": [],
   "execution_count": 21
  },
  {
   "metadata": {
    "ExecuteTime": {
     "end_time": "2024-11-18T14:51:10.906981Z",
     "start_time": "2024-11-18T14:51:10.896593Z"
    }
   },
   "cell_type": "code",
   "source": [
    "from pyecharts.charts import Bar, Line,Scatter\n",
    "from pyecharts import options as opts\n",
    "from pyecharts.commons.utils import JsCode\n",
    "from pyecharts.globals import ThemeType \n",
    "bar = Bar()\n",
    "bar.add_xaxis([i[1] for i in dp111])\n",
    "bar.add_yaxis('车辆数量',[i[2] for i in dp111],yaxis_index=0,\n",
    "              itemstyle_opts=itemstyle2,\n",
    "              label_opts=opts.LabelOpts(formatter='{c}辆',color='auto') \n",
    "             )\n",
    "bar.extend_axis(\n",
    "    yaxis=opts.AxisOpts(name='平均行驶距离(万公里)',position='right',\n",
    "        axislabel_opts=opts.LabelOpts(formatter=\"{value}\"),\n",
    "        splitline_opts=opts.SplitLineOpts(is_show=False),\n",
    "        axisline_opts=opts.AxisLineOpts(linestyle_opts=opts.LineStyleOpts(color='black')))\n",
    ")\n",
    "bar.set_global_opts(title_opts=opts.TitleOpts(title='不同年份车辆数量与平均行驶距离',pos_left='center',pos_top='5%'),\n",
    "                    tooltip_opts=opts.TooltipOpts(trigger='axis', axis_pointer_type='cross'),\n",
    "                    legend_opts=opts.LegendOpts(pos_top='10%'),\n",
    "                    xaxis_opts=opts.AxisOpts(name='年份',splitline_opts={'show':False},name_location='middle',name_gap=26,\n",
    "                                            axisline_opts=opts.AxisLineOpts(linestyle_opts=opts.LineStyleOpts(color='black'))),\n",
    "                    yaxis_opts=opts.AxisOpts(\n",
    "                        name='车辆数量',\n",
    "                        splitline_opts=opts.SplitLineOpts(is_show=False),\n",
    "                        axisline_opts=opts.AxisLineOpts(linestyle_opts=opts.LineStyleOpts(color='black'))\n",
    "                    )              \n",
    ")\n",
    "\n",
    "line = (Line()\n",
    "        .add_xaxis([i[0] for i in dp111])\n",
    "        .add_yaxis(\"平均行驶距离(万公里)\",[i[3] for i in dp111], yaxis_index=1,z_level=2,\n",
    "                   itemstyle_opts=itemstyle1,\n",
    "                    is_smooth=True, is_symbol_show=False,\n",
    "                   linestyle_opts=opts.LineStyleOpts(width=2, opacity=0.8) \n",
    "            )\n",
    "        .set_series_opts(label_opts=opts.LabelOpts(is_show=False))\n",
    "       )\n",
    "\n",
    "bar.overlap(line)\n",
    "bar.render()"
   ],
   "id": "3e8149a7793aac8d",
   "outputs": [
    {
     "data": {
      "text/plain": [
       "'C:\\\\Users\\\\wang\\\\Desktop\\\\pyLearn\\\\作业\\\\whole\\\\render.html'"
      ]
     },
     "execution_count": 22,
     "metadata": {},
     "output_type": "execute_result"
    }
   ],
   "execution_count": 22
  },
  {
   "metadata": {
    "ExecuteTime": {
     "end_time": "2024-11-18T14:52:26.077912Z",
     "start_time": "2024-11-18T14:52:26.069159Z"
    }
   },
   "cell_type": "code",
   "source": "data = pd.read_csv('./修改后按年分的文件.csv')",
   "id": "f3236226cf412a0a",
   "outputs": [],
   "execution_count": 23
  },
  {
   "metadata": {
    "ExecuteTime": {
     "end_time": "2024-11-18T14:52:33.405426Z",
     "start_time": "2024-11-18T14:52:33.400596Z"
    }
   },
   "cell_type": "code",
   "source": "dp3=data.groupby('车辆级别')['行驶距离(万公里)'].sum().reset_index()",
   "id": "2f513d1f144b6b7f",
   "outputs": [],
   "execution_count": 24
  },
  {
   "metadata": {
    "ExecuteTime": {
     "end_time": "2024-11-18T14:52:43.201345Z",
     "start_time": "2024-11-18T14:52:43.194222Z"
    }
   },
   "cell_type": "code",
   "source": [
    "dp4 = data.groupby('车辆级别')['price'].mean().reset_index()\n",
    "dp4['price'] = -dp4['price'].round(2)\n",
    "dp5 = pd.merge(dp3,dp4,on='车辆级别').values.tolist()"
   ],
   "id": "eb29e013f8bf1865",
   "outputs": [],
   "execution_count": 25
  },
  {
   "metadata": {
    "ExecuteTime": {
     "end_time": "2024-11-18T14:52:55.799962Z",
     "start_time": "2024-11-18T14:52:55.792394Z"
    }
   },
   "cell_type": "code",
   "source": [
    "bar = (Bar(init_opts=opts.InitOpts(theme=ThemeType.DARK,bg_color='#080b30'))\n",
    "      .add_xaxis([i[0] for i in dp5])\n",
    "       .add_yaxis('行驶距离（万公里)',[i[1] for i in dp5],\n",
    "                 itemstyle_opts=itemstyle,)\n",
    "       .add_yaxis('平均价格',[i[2] for i in dp5],\n",
    "                 itemstyle_opts=itemstyle1)\n",
    "       .extend_axis(\n",
    "            yaxis=opts.AxisOpts(\n",
    "                name='行驶距离（万公里）',\n",
    "                interval=100,\n",
    "                # axisline_opts=opts.AxisLineOpts(linestyle_opts=opts.LineStyleOpts(color='#FF5733')),\n",
    "                # splitline_opts=opts.SplitLineOpts(is_show=True, linestyle_opts=opts.LineStyleOpts(color='#FF5733'))\n",
    "            )\n",
    "    )\n",
    "    .extend_axis(\n",
    "        yaxis=opts.AxisOpts(\n",
    "            name='平均价格',\n",
    "            interval=10,\n",
    "            # axisline_opts=opts.AxisLineOpts(linestyle_opts=opts.LineStyleOpts(color='#33FF57')),\n",
    "            # splitline_opts=opts.SplitLineOpts(is_show=True, linestyle_opts=opts.LineStyleOpts(color='#33FF57'))\n",
    "        )\n",
    "    )\n",
    "    .set_global_opts(\n",
    "        title_opts=opts.TitleOpts(title='不同车辆级别基本情况对比',pos_left = 'center'),\n",
    "        # xaxis_opts=opts.AxisOpts(name='车辆级别',splitline_opts={'show':False}),\n",
    "        yaxis_opts=opts.AxisOpts(name='行驶距离（万公里）',interval=40,splitline_opts={'show':False}),\n",
    "        legend_opts=opts.LegendOpts(pos_top='7%'),\n",
    "        tooltip_opts=opts.TooltipOpts(trigger=\"axis\", axis_pointer_type=\"shadow\"),\n",
    "    )\n",
    "       .set_series_opts(label_opts=opts.LabelOpts(is_show=False))\n",
    "      )\n",
    "\n",
    "bar.render()"
   ],
   "id": "1d6c01195630ec34",
   "outputs": [
    {
     "data": {
      "text/plain": [
       "'C:\\\\Users\\\\wang\\\\Desktop\\\\pyLearn\\\\作业\\\\whole\\\\render.html'"
      ]
     },
     "execution_count": 26,
     "metadata": {},
     "output_type": "execute_result"
    }
   ],
   "execution_count": 26
  },
  {
   "metadata": {},
   "cell_type": "code",
   "outputs": [],
   "execution_count": null,
   "source": "",
   "id": "7b46887997b91293"
  }
 ],
 "metadata": {
  "kernelspec": {
   "display_name": "Python 3",
   "language": "python",
   "name": "python3"
  },
  "language_info": {
   "codemirror_mode": {
    "name": "ipython",
    "version": 2
   },
   "file_extension": ".py",
   "mimetype": "text/x-python",
   "name": "python",
   "nbconvert_exporter": "python",
   "pygments_lexer": "ipython2",
   "version": "2.7.6"
  }
 },
 "nbformat": 4,
 "nbformat_minor": 5
}
